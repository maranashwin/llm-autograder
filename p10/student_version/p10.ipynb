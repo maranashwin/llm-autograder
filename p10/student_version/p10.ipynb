{
 "cells": [
  {
   "cell_type": "code",
   "execution_count": null,
   "id": "49702e7c",
   "metadata": {
    "cell_type": "code",
    "deletable": false,
    "editable": false
   },
   "outputs": [],
   "source": [
    "# import and initialize otter\n",
    "import otter\n",
    "grader = otter.Notebook(\"p10.ipynb\")"
   ]
  },
  {
   "cell_type": "code",
   "execution_count": null,
   "id": "9ceb233f",
   "metadata": {
    "deletable": false,
    "editable": false,
    "execution": {
     "iopub.execute_input": "2024-04-09T16:13:39.881614Z",
     "iopub.status.busy": "2024-04-09T16:13:39.881007Z",
     "iopub.status.idle": "2024-04-09T16:13:40.262952Z",
     "shell.execute_reply": "2024-04-09T16:13:40.262667Z"
    }
   },
   "outputs": [],
   "source": [
    "import public_tests"
   ]
  },
  {
   "cell_type": "code",
   "execution_count": null,
   "id": "5b932bef",
   "metadata": {
    "deletable": true,
    "editable": true,
    "execution": {
     "iopub.execute_input": "2024-04-09T16:13:40.264533Z",
     "iopub.status.busy": "2024-04-09T16:13:40.264404Z",
     "iopub.status.idle": "2024-04-09T16:13:40.265969Z",
     "shell.execute_reply": "2024-04-09T16:13:40.265780Z"
    }
   },
   "outputs": [],
   "source": [
    "# PLEASE FILL IN THE DETAILS\n",
    "# Enter none if you don't have a project partner\n",
    "# You will have to add your partner as a group member on Gradescope even after you fill this\n",
    "\n",
    "# project: p10\n",
    "# submitter: NETID1\n",
    "# partner: NETID2\n",
    "# hours: ???"
   ]
  },
  {
   "cell_type": "markdown",
   "id": "0fe8fc95",
   "metadata": {
    "deletable": false,
    "editable": false
   },
   "source": [
    "# Project 10: Stars and Planets"
   ]
  },
  {
   "cell_type": "markdown",
   "id": "b84d0bbd",
   "metadata": {
    "deletable": false,
    "editable": false
   },
   "source": [
    "## Learning Objectives:\n",
    "\n",
    "In this project, you will demonstrate how to:\n",
    "\n",
    "* use `os` module to get information of files in a directory,\n",
    "* use `os` module to get paths of files,\n",
    "* look up data between JSON and CSV files using unique keys,\n",
    "* read JSON and CSV files to store data to `namedTuple` objects,\n",
    "* clean up missing values and handle cases when the file is too corrupt to parse,\n",
    "\n",
    "Please go through [Lab-P10](https://git.doit.wisc.edu/cdis/cs/courses/cs220/cs220-s24-projects/-/tree/main/lab-p10) before working on this project. The lab introduces some useful techniques related to this project."
   ]
  },
  {
   "cell_type": "markdown",
   "id": "e0df7cca",
   "metadata": {
    "deletable": false,
    "editable": false
   },
   "source": [
    "<h2 style=\"color:red\">Warning (Note on Academic Misconduct):</h2>\n",
    "\n",
    "**IMPORTANT**: **P10 and P11 are two parts of the same data analysis.** You **cannot** switch project partners between these two projects. That is if you partner up with someone for P10, you have to sustain that partnership until the end of P11. Now may be a good time to review [our course policies](https://cs220.cs.wisc.edu/s24/syllabus.html).\n",
    "\n",
    "Under any circumstances, **no more than two students are allowed to work together on a project** as mentioned in the course policies. If your code is flagged by our code similarity detection tools, **both partners will be responsible** for sharing/copying the code, even if the code is shared/copied by one of the partners with/from other non-partner student(s). Note that each case of plagiarism will be reported to the Dean of Students with a zero grade on the project. **If you think that someone cannot be your project partner then don’t make that student your lab partner.**\n",
    "\n",
    "**<font color = \"red\">Project partners must submit only one copy of their project on Gradescope, but they must include the names of both partners.</font>**"
   ]
  },
  {
   "cell_type": "markdown",
   "id": "e495f863",
   "metadata": {
    "deletable": false,
    "editable": false
   },
   "source": [
    "## Testing your code:\n",
    "\n",
    "Along with this notebook, you must have downloaded the file `public_tests.py`. If you are curious about how we test your code, you can explore this file, and specifically the output of the function `get_expected_json`, to understand the expected answers to the questions."
   ]
  },
  {
   "cell_type": "markdown",
   "id": "4bda5cf6",
   "metadata": {
    "deletable": false,
    "editable": false
   },
   "source": [
    "## Setup:\n",
    "\n",
    "Before proceeding much further, download `data.zip` and extract it to a directory on your\n",
    "computer (using [Mac directions](http://osxdaily.com/2017/11/05/how-open-zip-file-mac/) or\n",
    "[Windows directions](https://support.microsoft.com/en-us/help/4028088/windows-zip-and-unzip-files)).\n",
    "\n",
    "You need to make sure that the project files are stored in the following structure:\n",
    "\n",
    "```\n",
    "+-- p10.ipynb\n",
    "+-- public_tests.py\n",
    "+-- data\n",
    "|   +-- .DS_Store\n",
    "|   +-- .ipynb_checkpoints\n",
    "|   +-- mapping_1.json\n",
    "|   +-- mapping_2.json\n",
    "|   +-- mapping_3.json\n",
    "|   +-- mapping_4.json\n",
    "|   +-- mapping_5.json\n",
    "|   +-- planets_1.csv\n",
    "|   +-- planets_2.csv\n",
    "|   +-- planets_3.csv\n",
    "|   +-- planets_4.csv\n",
    "|   +-- planets_5.csv\n",
    "|   +-- stars_1.csv\n",
    "|   +-- stars_2.csv\n",
    "|   +-- stars_3.csv\n",
    "|   +-- stars_4.csv\n",
    "|   +-- stars_5.csv\n",
    "```\n",
    "\n",
    "Make sure that the files inside `data.zip` are inside the `data` directory. If you place your files inside some other directory, then your code will **fail on Gradescope** even after passing local tests."
   ]
  },
  {
   "cell_type": "markdown",
   "id": "be737015",
   "metadata": {
    "deletable": false,
    "editable": false
   },
   "source": [
    "## Project Description:\n",
    "\n",
    "Cleaning data is an important part of a data scientist's work cycle. As you have already seen, the data we will be analyzing in P10 and P11 has been split up into 15 different files of different formats. Even worse, as you shall see later in this project, some of these files have been corrupted, and lots of data is missing. Unfortunately, in the real world, a lot of data that you will come across will be in rough shape, and it is your job to clean it up before you can analyze it. In P10, you will combine the data in these different files to create a few manageable data structures, which can be easily analyzed. In the process, you will also have to deal with broken CSV files (by skipping rows with broken data), and broken JSON files (by skipping the files entirely).\n",
    "\n",
    "After you create these data structures, in P11, you will dive deeper by analyzing this data and arrive at some exciting conclusions about various planets and stars outside our Solar System."
   ]
  },
  {
   "cell_type": "markdown",
   "id": "1989d5d8",
   "metadata": {
    "deletable": false,
    "editable": false
   },
   "source": [
    "## The Data:\n",
    "\n",
    "In P10 and P11, you will be studying stars and planets outside our Solar System using this dataset from the [NASA Exoplanet Archive](https://exoplanetarchive.ipac.caltech.edu/cgi-bin/TblView/nph-tblView?app=ExoTbls&config=PSCompPars). You will use Python to ask some interesting questions about the laws of the universe and explore the habitability of other planets in our universe. The raw data from the [NASA Exoplanet Archive](https://exoplanetarchive.ipac.caltech.edu/cgi-bin/TblView/nph-tblView?app=ExoTbls&config=PSCompPars) has been parsed and stored in multiple different files of different formats. You can find these files inside `data.zip`."
   ]
  },
  {
   "cell_type": "markdown",
   "id": "0fa6cb36",
   "metadata": {
    "deletable": false,
    "editable": false
   },
   "source": [
    "You can open each of these files using Microsoft Excel or some other Spreadsheet viewing software to see how the data is stored. For example, these are the first three rows of the file `stars_1.csv`:\n",
    "\n",
    "Star Name|Spectral Type|Stellar Effective Temperature [K]|Stellar Radius [Solar Radius]|Stellar Mass [Solar mass]|Stellar Luminosity [log(Solar)]|Stellar Surface Gravity [log10(cm/s**2)]|Stellar Age [Gyr]\n",
    "---|---|---|---|---|---|---|---\n",
    "11 Com|G8III|4874.00|13.76|2.09|1.978|2.45|\n",
    "11 UMi|K4III|4213.00|29.79|2.78|2.430|1.93|1.560\n",
    "14 And|K0III|4888.00|11.55|1.78|1.840|2.55|4.500\n",
    "\n",
    "As you might have already guessed, this file contains data on a number of *stars* outside our solar system along with some important statistics about these stars. The columns here are as follows:\n",
    "\n",
    "- `Star Name`: The **name** given to the star by the *International Astronomical Union*,\n",
    "- `Spectral Type`: The **Spectral Classification** of the star as per the *Morgan–Keenan (MK) system*,\n",
    "- `Stellar Effective Temperature [K]`: The **temperature** of a *black body* (in units of Kelvin) that would emit the *observed radiation* of the star,\n",
    "- `Stellar Radius [Solar Radius]`: The **radius** of the star (in units of the radius of the Sun),\n",
    "- `Stellar Mass [Solar mass]`: The **mass** of the star (in units of the mass of the Sun),\n",
    "- `Stellar Luminosity [log(Solar)]`: The *total* amount of **energy radiated** by the star **each second** (represented by the logarithm of the energy radiated by the Sun in each second),\n",
    "- `Stellar Surface Gravity [log10(cm/s**2)]`: The **acceleration due to the gravity** of the Star at its *surface* (represented by the logarithm of the acceleration measured in centimeter per second squared),\n",
    "- `Stellar Age [Gyr]`: The total **age** of the star (in units of Giga years, i.e., billions of years).\n",
    "\n",
    "The four other files `stars_2.csv`, `stars_3.csv`, `stars_4.csv`, and `stars_5.csv` also store similar data in the same format. At this stage of the project, it is alright if you do not understand what these columns mean - they will be explained to you when they become necessary (in P11)."
   ]
  },
  {
   "cell_type": "markdown",
   "id": "8f15162c",
   "metadata": {
    "deletable": false,
    "editable": false
   },
   "source": [
    "On the other hand, here are the first three rows of the file `planets_1.csv`:\n",
    "\n",
    "Planet Name|Discovery Method|Discovery Year|Controversial Flag|Orbital Period [days]|Planet Radius [Earth Radius]|Planet Mass [Earth Mass]|Orbit Semi-Major Axis [au]|Eccentricity|Equilibrium Temperature [K]|Insolation Flux [Earth Flux]\n",
    "---|---|---|---|---|---|---|---|---|---|---\n",
    "11 Com b|Radial Velocity|2007|0|323.21000000|12.200|4914.89849|1.178000|0.238000||\n",
    "11 UMi b|Radial Velocity|2009|0|516.21997000|12.300|4684.81420|1.530000|0.080000||\n",
    "14 And b|Radial Velocity|2008|0|186.76000000|13.100|1131.15130|0.775000|0.000000||\n",
    "\n",
    "This file contains data on a number of *planets* outside our solar system along with some important statistics about these planets. The columns here are as follows:\n",
    "\n",
    "- `Planet Name`: The **name** given to the planet by the *International Astronomical Union*,\n",
    "- `Discovery Method`: The **method** by which the planet was *discovered*,\n",
    "- `Discovery Year`: The **year** in which the planet was *discovered*,\n",
    "- `Controversial Flag`: Indicates whether the status of the discovered object as a planet was **disputed** at the time of discovery, \n",
    "- `Orbital Period [days]`: The amount of **time** (in units of days) it takes for the planet to **complete one orbit** around its star,\n",
    "- `Planet Radius [Earth Radius]`: The **radius** of the planet (in units of the radius of the Earth),\n",
    "- `Planet Mass [Earth Mass]`: The **mass** of the planet (in units of the mass of the Earth),\n",
    "- `Orbit Semi-Major Axis [au]`: The **semi-major axis** of the planet's elliptical **orbit** around its host star (in units of Astronomical Units),\n",
    "- `Eccentricity`: The **eccentricity** of the planet's orbit around its host star,\n",
    "- `Equilibrium Temperature [K]`: The **temperature** of the planet (in units of Kelvin) if it were a *black body* heated only by its host star,\n",
    "- `Insolation Flux [Earth Flux]`:  The amount of **radiation** the planet received from its host star **per unit of area** (in units of the Insolation Flux of the Earth from the Sun).\n",
    "\n",
    "The four other files `planets_2.csv`, `planets_3.csv`, `planets_4.csv`, and `planets_5.csv` also store similar data in the same format. At this stage of the project, it is alright if you do not understand what these columns mean - they will be explained to you when they become necessary (in P11)."
   ]
  },
  {
   "cell_type": "markdown",
   "id": "993dc38e",
   "metadata": {
    "deletable": false,
    "editable": false
   },
   "source": [
    "Finally, if you take a look at `mapping_1.json` (you can open json files using any Text Editor), you will see that the first three entries look like this:\n",
    "\n",
    "```python\n",
    "{\"11 Com b\":\"11 Com\",\"11 UMi b\":\"11 UMi\",\"14 And b\":\"14 And\", ...}\n",
    "```\n",
    "\n",
    "This file contains a *mapping* from each *planet* in `planets_1.csv` to the *star* in `stars_1.csv` that the planet orbits. Similarly, `mapping_2.json` contains a *mapping* from each *planet* in `planets_2.csv` to the *star* in `stars_2.csv` that the planet orbits. The pattern also holds true for `mapping_3.json`, `mapping_4.json`, and `mapping_5.json`."
   ]
  },
  {
   "cell_type": "markdown",
   "id": "dc1c070e",
   "metadata": {
    "deletable": false,
    "editable": false
   },
   "source": [
    "## Project Requirements:\n",
    "\n",
    "You **may not** hardcode indices in your code, unless the question explicitly says to. If you open your `.csv` files with Excel, manually count through the rows and use this number to loop through the dataset, this is also considered as hardcoding. If any instances of hardcoding are found during code review, the Gradescope autograder will **deduct** points from your public score.\n",
    "\n",
    "**Store** your final answer for each question in the **variable specified for each question**. This step is important because Otter grades your work by comparing the value of this variable against the correct answer.\n",
    "\n",
    "For some of the questions, we'll ask you to write (then use) a function to compute the answer. If you compute the answer **without** creating the function we ask you to write, the Gradescope autograder will **deduct** points from your public score, even if the way you did it produced the correct answer.\n",
    "\n",
    "#### Required Functions:\n",
    "- `star_cell`\n",
    "- `get_stars`\n",
    "- `planet_cell`\n",
    "- `get_planets`\n",
    "\n",
    "In this project, you will also be required to define certain **data structures**. If you do not create these data structures exactly as specified, the Gradescope autograder will **deduct** points from your public score, even if the way you did it produced the correct answer.\n",
    "\n",
    "#### Required Data Structures:\n",
    "- `Star` (**namedtuple**)\n",
    "- `stars_dict` (**dictionary** mapping **strings** to `Star` objects)\n",
    "- `Planet` (**namedtuple**)\n",
    "- `planets_list` (**list** of `Planet` objects)\n",
    "\n",
    "In addition, you are also **required** to follow the requirements below:\n",
    "\n",
    "* You **must** never use the output of the `os.listdir` function directly. You **must** always first remove all files and directories that start with `\".\"`, and **explicitly sort** the list before doing anything with it.\n",
    "* You are **not** allowed to use **bare** `try/except` blocks. In other words, you can **not** use `try/except` without explicitly specifying the type of exceptions that you want to catch.\n",
    "* You are **only** allowed to use Python commands and concepts that have been taught in the course prior to the release of P10. In particular, this means that you are **not** allowed to use **modules** like `pandas` to answer the questions in this project.\n",
    "* Please do not display `start_dict` or `planets_list` anywhere in the notebook. Please **remove** such statements before submission.\n",
    "\n",
    "Otherwise, the Gradescope autograder will **deduct** points from your public score.\n",
    "\n",
    "For more details on what will cause you to lose points during code review and specific requirements, please take a look at the [Grading rubric](https://git.doit.wisc.edu/cdis/cs/courses/cs220/cs220-s24-projects/-/blob/main/p10/rubric.md)."
   ]
  },
  {
   "cell_type": "markdown",
   "id": "f9ab5264",
   "metadata": {
    "deletable": false,
    "editable": false,
    "lines_to_next_cell": 0
   },
   "source": [
    "## Questions and Functions:\n",
    "\n",
    "Let us start by importing all the modules we will need for this project."
   ]
  },
  {
   "cell_type": "code",
   "execution_count": null,
   "id": "642e0e3f",
   "metadata": {
    "deletable": true,
    "editable": true,
    "execution": {
     "iopub.execute_input": "2024-04-09T16:13:40.267707Z",
     "iopub.status.busy": "2024-04-09T16:13:40.267630Z",
     "iopub.status.idle": "2024-04-09T16:13:40.269262Z",
     "shell.execute_reply": "2024-04-09T16:13:40.269059Z"
    },
    "lines_to_next_cell": 0,
    "tags": []
   },
   "outputs": [],
   "source": [
    "# it is considered a good coding practice to place all import statements at the top of the notebook\n",
    "# please place all your import statements in this cell if you need to import any more modules for this project\n"
   ]
  },
  {
   "cell_type": "markdown",
   "id": "c3b886f6",
   "metadata": {
    "deletable": false,
    "editable": false
   },
   "source": [
    "### File handling:\n",
    "\n",
    "In the next questions, you will be using functions in the `os` module to make **lists** of files and paths in the `data` directory. All your **lists** **must** satisfy the following conditions:\n",
    "\n",
    "* Any files with names beginning with `\".\"` **must** be **excluded**.\n",
    "* The list **must** be **explicitly sorted** in **reverse-alphabetical** order after **splitting** by the **path separator**."
   ]
  },
  {
   "cell_type": "markdown",
   "id": "8231ac15",
   "metadata": {
    "deletable": false,
    "editable": false
   },
   "source": [
    "**Question 1:** What are the **names** of the files present in the `data` directory\n",
    "\n",
    "Your output **must** be a **list** of **strings** representing the **names** of the files."
   ]
  },
  {
   "cell_type": "code",
   "execution_count": null,
   "id": "b4fdd3cd",
   "metadata": {
    "deletable": true,
    "editable": true,
    "execution": {
     "iopub.execute_input": "2024-04-09T16:13:40.270474Z",
     "iopub.status.busy": "2024-04-09T16:13:40.270404Z",
     "iopub.status.idle": "2024-04-09T16:13:40.273486Z",
     "shell.execute_reply": "2024-04-09T16:13:40.273270Z"
    },
    "lines_to_next_cell": 0,
    "tags": []
   },
   "outputs": [],
   "source": [
    "# compute and store the answer in the variable 'files_in_data', then display it\n"
   ]
  },
  {
   "cell_type": "code",
   "execution_count": null,
   "id": "132f0d0b",
   "metadata": {
    "deletable": false,
    "editable": false
   },
   "outputs": [],
   "source": [
    "grader.check(\"q1\")"
   ]
  },
  {
   "cell_type": "markdown",
   "id": "e655661c",
   "metadata": {
    "deletable": false,
    "editable": false
   },
   "source": [
    "**Question 2:** What are the **paths** of all the files in the `data` directory?\n",
    "\n",
    "Your output **must** be a **list** of **strings** representing the **paths** of the files. You **must** use the `files_in_data` variable created in the previous question to answer this.\n",
    "\n",
    "**Warning:** Please **do not hardcode** `\"/\"` or `\"\\\"` in your path because doing so will cause your function to **fail** on a computer that's not using the same operating system as yours. This may result in your code failing on Gradescope."
   ]
  },
  {
   "cell_type": "code",
   "execution_count": null,
   "id": "ce9c72a6",
   "metadata": {
    "deletable": true,
    "editable": true,
    "execution": {
     "iopub.execute_input": "2024-04-09T16:13:40.409696Z",
     "iopub.status.busy": "2024-04-09T16:13:40.409620Z",
     "iopub.status.idle": "2024-04-09T16:13:40.411883Z",
     "shell.execute_reply": "2024-04-09T16:13:40.411656Z"
    },
    "lines_to_next_cell": 0,
    "tags": []
   },
   "outputs": [],
   "source": [
    "# compute and store the answer in the variable 'file_paths', then display it\n"
   ]
  },
  {
   "cell_type": "code",
   "execution_count": null,
   "id": "d3198b9f",
   "metadata": {
    "deletable": false,
    "editable": false
   },
   "outputs": [],
   "source": [
    "grader.check(\"q2\")"
   ]
  },
  {
   "cell_type": "markdown",
   "id": "2dd99aea",
   "metadata": {
    "deletable": false,
    "editable": false
   },
   "source": [
    "**Question 3:** What are the **paths** of all the **CSV files** present in `data` directory?\n",
    "\n",
    "Your output **must** be filtered to **only** include files ending in `'.csv'`. You **must** use either the `files_in_data` or `file_paths` variables created in the previous questions to answer this.\n",
    "\n",
    "**Warning:** Please **do not hardcode** `\"/\"` or `\"\\\"` in your path because doing so will cause your function to **fail** on a computer that's not using the same operating system as yours. This may result in your code failing on Gradescope."
   ]
  },
  {
   "cell_type": "code",
   "execution_count": null,
   "id": "99fd56f7",
   "metadata": {
    "deletable": true,
    "editable": true,
    "execution": {
     "iopub.execute_input": "2024-04-09T16:13:40.592809Z",
     "iopub.status.busy": "2024-04-09T16:13:40.592733Z",
     "iopub.status.idle": "2024-04-09T16:13:40.594983Z",
     "shell.execute_reply": "2024-04-09T16:13:40.594775Z"
    },
    "lines_to_next_cell": 0,
    "tags": []
   },
   "outputs": [],
   "source": [
    "# compute and store the answer in the variable 'csv_file_paths', then display it\n"
   ]
  },
  {
   "cell_type": "code",
   "execution_count": null,
   "id": "4a243eb9",
   "metadata": {
    "deletable": false,
    "editable": false
   },
   "outputs": [],
   "source": [
    "grader.check(\"q3\")"
   ]
  },
  {
   "cell_type": "markdown",
   "id": "999aa8d2",
   "metadata": {
    "deletable": false,
    "editable": false
   },
   "source": [
    "**Question 4:** What are the **paths** of all the files present in `data` directory, that **begin** with the phrase `'stars'`?\n",
    "\n",
    "Your output **must** be filtered to **only** include files start with `'stars'`. You **must** use either the `files_in_data` or `file_paths` variables created in the previous questions to answer this.\n",
    "\n",
    "**Warning:** Please **do not hardcode** `\"/\"` or `\"\\\"` in your path because doing so will cause your function to **fail** on a computer that's not using the same operating system as yours. This may result in your code failing on Gradescope."
   ]
  },
  {
   "cell_type": "code",
   "execution_count": null,
   "id": "fba07316",
   "metadata": {
    "deletable": true,
    "editable": true,
    "execution": {
     "iopub.execute_input": "2024-04-09T16:13:40.860474Z",
     "iopub.status.busy": "2024-04-09T16:13:40.860401Z",
     "iopub.status.idle": "2024-04-09T16:13:40.862626Z",
     "shell.execute_reply": "2024-04-09T16:13:40.862376Z"
    },
    "lines_to_next_cell": 0,
    "tags": []
   },
   "outputs": [],
   "source": [
    "# compute and store the answer in the variable 'stars_paths', then display it\n"
   ]
  },
  {
   "cell_type": "code",
   "execution_count": null,
   "id": "c983d244",
   "metadata": {
    "deletable": false,
    "editable": false
   },
   "outputs": [],
   "source": [
    "grader.check(\"q4\")"
   ]
  },
  {
   "cell_type": "markdown",
   "id": "549ef1f9",
   "metadata": {
    "deletable": false,
    "editable": false
   },
   "source": [
    "### Data Structure 1: namedtuple `Star`\n",
    "\n",
    "You will be using named tuples to store the data in the `stars_1.csv`, ..., `stars_5.csv` files. Before you start reading these files however, you **must** create a new `Star` type (using namedtuple). It **must** have the following attributes:\n",
    "\n",
    "* `spectral_type`,\n",
    "* `stellar_effective_temperature`,\n",
    "* `stellar_radius`,\n",
    "* `stellar_mass`,\n",
    "* `stellar_luminosity`,\n",
    "* `stellar_surface_gravity`,\n",
    "* `stellar_age`."
   ]
  },
  {
   "cell_type": "code",
   "execution_count": null,
   "id": "1b4d2a53",
   "metadata": {
    "deletable": true,
    "editable": true,
    "execution": {
     "iopub.execute_input": "2024-04-09T16:13:41.095745Z",
     "iopub.status.busy": "2024-04-09T16:13:41.095676Z",
     "iopub.status.idle": "2024-04-09T16:13:41.097406Z",
     "shell.execute_reply": "2024-04-09T16:13:41.097171Z"
    },
    "lines_to_next_cell": 0,
    "tags": []
   },
   "outputs": [],
   "source": [
    "# define the namedtuple 'Star' here\n"
   ]
  },
  {
   "cell_type": "code",
   "execution_count": null,
   "id": "b18fa0d1",
   "metadata": {
    "deletable": true,
    "editable": true,
    "execution": {
     "iopub.execute_input": "2024-04-09T16:13:41.098526Z",
     "iopub.status.busy": "2024-04-09T16:13:41.098464Z",
     "iopub.status.idle": "2024-04-09T16:13:41.100437Z",
     "shell.execute_reply": "2024-04-09T16:13:41.100222Z"
    },
    "tags": []
   },
   "outputs": [],
   "source": [
    "# run this following cell to initialize and test an example Star object\n",
    "# if this cell fails to execute, you have likely not defined the namedtuple 'Star' correctly\n",
    "\n",
    "sun = Star('G2 V', 5780.0, 1.0, 1.0, 0.0, 4.44, 4.6)\n",
    "\n",
    "sun"
   ]
  },
  {
   "cell_type": "code",
   "execution_count": null,
   "id": "1148ab57",
   "metadata": {
    "deletable": false,
    "editable": false
   },
   "outputs": [],
   "source": [
    "grader.check(\"Star\")"
   ]
  },
  {
   "cell_type": "markdown",
   "id": "10544951",
   "metadata": {
    "deletable": false,
    "editable": false
   },
   "source": [
    "### Creating `Star` objects\n",
    "\n",
    "Now that we have created the `Star` namedtuple, our next objective will be to read the files `stars_1.csv`, ..., `stars_5.csv` and create `Star` objects out of all the stars in there. In order to process the CSV files, you will first need to copy/paste the `process_csv` function you have been using since P6."
   ]
  },
  {
   "cell_type": "code",
   "execution_count": null,
   "id": "75e8b09f",
   "metadata": {
    "deletable": true,
    "editable": true,
    "execution": {
     "iopub.execute_input": "2024-04-09T16:13:41.218924Z",
     "iopub.status.busy": "2024-04-09T16:13:41.218861Z",
     "iopub.status.idle": "2024-04-09T16:13:41.220562Z",
     "shell.execute_reply": "2024-04-09T16:13:41.220339Z"
    },
    "tags": []
   },
   "outputs": [],
   "source": [
    "# copy & paste the process_csv file from previous projects here\n"
   ]
  },
  {
   "cell_type": "markdown",
   "id": "5dfab81c",
   "metadata": {
    "deletable": false,
    "editable": false
   },
   "source": [
    "You are now ready to read the data in `stars_1.csv` using `process_csv` and convert the data into `Star` objects. In the cell below, you **must** read the data in `stars_1.csv` and extract the **header** and the non-header **rows** of the file."
   ]
  },
  {
   "cell_type": "code",
   "execution_count": null,
   "id": "0322bf85",
   "metadata": {
    "deletable": true,
    "editable": true,
    "execution": {
     "iopub.execute_input": "2024-04-09T16:13:41.221862Z",
     "iopub.status.busy": "2024-04-09T16:13:41.221798Z",
     "iopub.status.idle": "2024-04-09T16:13:41.224835Z",
     "shell.execute_reply": "2024-04-09T16:13:41.224568Z"
    },
    "tags": []
   },
   "outputs": [],
   "source": [
    "# replace the ... with your code\n",
    "\n",
    "stars_1_csv = ... # read the data in 'stars_1.csv'\n",
    "stars_header = ...\n",
    "stars_1_rows = ..."
   ]
  },
  {
   "cell_type": "markdown",
   "id": "3ecbd66c",
   "metadata": {
    "deletable": false,
    "editable": false
   },
   "source": [
    "If you wish to **verify** that you have read the file and defined the variables correctly, you can check that `stars_header` has the value:\n",
    "\n",
    "```python\n",
    "['Star Name', 'Spectral Type', 'Stellar Effective Temperature [K]', 'Stellar Radius [Solar Radius]',\n",
    " 'Stellar Mass [Solar mass]', 'Stellar Luminosity [log(Solar)]', \n",
    " 'Stellar Surface Gravity [log10(cm/s**2)]', 'Stellar Age [Gyr]']\n",
    "```\n",
    "\n",
    "and that `stars_1_rows` has **1610** rows of which the **first three** are:\n",
    "\n",
    "```python\n",
    "[['11 Com', 'G8III', '4874.00', '13.76', '2.09', '1.978', '2.45', ''],\n",
    " ['11 UMi', 'K4III', '4213.00', '29.79', '2.78', '2.430', '1.93', '1.560'],\n",
    " ['14 And', 'K0III', '4888.00', '11.55', '1.78', '1.840', '2.55', '4.500']]\n",
    "```"
   ]
  },
  {
   "cell_type": "markdown",
   "id": "1b5d0bcf",
   "metadata": {
    "deletable": false,
    "editable": false
   },
   "source": [
    "### Function 1: `star_cell(row_idx, col_name, stars_rows, header=stars_header)`\n",
    "\n",
    "This function **must** read the **list** of **lists** `stars_rows`, and extract the value at **row** index `row_idx` and **column** index `col_idx`. The function **must** typecast the value based on `col_name`. If the value in `stars_rows` is **missing** (i.e., it is `''`), then the value returned **must** be `None`.\n",
    "\n",
    "The **column** of `stars_rows` where the value should be obtained from, and the correct **data type** for the value are listed in the table below:\n",
    "\n",
    "|Column of `stars_rows`|Data Type|\n",
    "|------|---------|\n",
    "|Star Name|**string**|\n",
    "|Spectral Type|**string**|\n",
    "|Stellar Effective Temperature [K]|**float**|\n",
    "|Stellar Radius [Solar Radius]|**float**|\n",
    "|Stellar Mass [Solar mass]|**float**|\n",
    "|Stellar Luminosity [log(Solar)]|**float**|\n",
    "|Stellar Surface Gravity [log10(cm/s**2)]|**float**|\n",
    "|Stellar Age [Gyr]|**float**|\n",
    "\n",
    "You are **allowed** to copy/paste this function from Lab-P10."
   ]
  },
  {
   "cell_type": "code",
   "execution_count": null,
   "id": "061ef7fd",
   "metadata": {
    "deletable": true,
    "editable": true,
    "execution": {
     "iopub.execute_input": "2024-04-09T16:13:41.226167Z",
     "iopub.status.busy": "2024-04-09T16:13:41.226101Z",
     "iopub.status.idle": "2024-04-09T16:13:41.229150Z",
     "shell.execute_reply": "2024-04-09T16:13:41.228973Z"
    },
    "tags": []
   },
   "outputs": [],
   "source": [
    "# define the 'star_cell' function here\n"
   ]
  },
  {
   "cell_type": "code",
   "execution_count": null,
   "id": "e5bf0959",
   "metadata": {
    "deletable": false,
    "editable": false
   },
   "outputs": [],
   "source": [
    "grader.check(\"star_cell\")"
   ]
  },
  {
   "cell_type": "markdown",
   "id": "b020cfb8",
   "metadata": {
    "deletable": false,
    "editable": false
   },
   "source": [
    "**Question 5:** Create a `Star` object for the **third** star (i.e., *row index* **2**) in `\"stars_1.csv\"`.\n",
    "\n",
    "You **must** access the values in `stars_1.csv` using the `star_cell` function. Note that the third star would be at **index** 2.\n",
    "\n",
    "The **attribute** of the `Star` namedtuple object, the corresponding **column** of the `stars_1.csv` file where the value should be obtained from, and the correct **data type** for the value are listed in the table below:\n",
    "\n",
    "|Attribute of `Star` object|Column of `stars_1.csv`|Data Type|\n",
    "|---------|------|---------|\n",
    "|`spectral_type`|Spectral Type|**string**|\n",
    "|`stellar_effective_temperature`|Stellar Effective Temperature [K]|**float**|\n",
    "|`stellar_radius`|Stellar Radius [Solar Radius]|**float**|\n",
    "|`stellar_mass`|Stellar Mass [Solar mass]|**float**|\n",
    "|`stellar_luminosity`|Stellar Luminosity [log(Solar)]|**float**|\n",
    "|`stellar_surface_gravity`|Stellar Surface Gravity [log10(cm/s**2)]|**float**|\n",
    "|`stellar_age`|Stellar Age [Gyr]|**float**|"
   ]
  },
  {
   "cell_type": "code",
   "execution_count": null,
   "id": "01a1bea0",
   "metadata": {
    "deletable": true,
    "editable": true,
    "execution": {
     "iopub.execute_input": "2024-04-09T16:13:41.483426Z",
     "iopub.status.busy": "2024-04-09T16:13:41.483361Z",
     "iopub.status.idle": "2024-04-09T16:13:41.485877Z",
     "shell.execute_reply": "2024-04-09T16:13:41.485655Z"
    },
    "lines_to_next_cell": 0,
    "tags": []
   },
   "outputs": [],
   "source": [
    " # compute and store the answer in the variable 'third_star', then display it\n"
   ]
  },
  {
   "cell_type": "code",
   "execution_count": null,
   "id": "1697d6f4",
   "metadata": {
    "deletable": false,
    "editable": false
   },
   "outputs": [],
   "source": [
    "grader.check(\"q5\")"
   ]
  },
  {
   "cell_type": "markdown",
   "id": "bf286c95",
   "metadata": {
    "deletable": false,
    "editable": false
   },
   "source": [
    "### Function 2:  `get_stars(star_file)`\n",
    "\n",
    "This function **must** take in as its input, the path of a CSV file `star_file` which contains data on stars in the same format as `stars_1.csv`. It **must** return a **dictionary** mapping the `Name` of each star in `star_file` to a `Star` object containing all the other details of the star.\n",
    "\n",
    "You **must** access the values in `star_file` using the `star_cell` function.\n",
    "\n",
    "You **must not** hardcode the name of the directory `data` into the `get_stars` function. Instead, you must pass it as a part of the argument `star_file`, by including it in the **path** `star_file`. In other words, if you want to read the contents of the file `stars_5.csv`, your function call must **not** be: `get_stars(\"stars_5.csv\")`. Instead, it must be:\n",
    "\n",
    "```python\n",
    "get_stars(os.path.join(\"data\", \"stars_5.csv\"))\n",
    "```\n",
    "\n",
    "For example, when this function is called with the **path** to the file `stars_1.csv` as the input, the **dictionary** returned should look like:\n",
    "\n",
    "```python\n",
    "{'11 Com': Star(spectral_type='G8III', stellar_effective_temperature=4874.0, \n",
    "                stellar_radius=13.76, stellar_mass=2.09, stellar_luminosity=1.978, \n",
    "                stellar_surface_gravity=2.45, stellar_age=None),\n",
    " '11 UMi': Star(spectral_type='K4III', stellar_effective_temperature=4213.0, \n",
    "                tellar_radius=29.79, stellar_mass=2.78, stellar_luminosity=2.43, \n",
    "                stellar_surface_gravity=1.93, stellar_age=1.56),\n",
    " '14 And': Star(spectral_type='K0III', stellar_effective_temperature=4888.0, \n",
    "                stellar_radius=11.55, stellar_mass=1.78, stellar_luminosity=1.84, \n",
    "                stellar_surface_gravity=2.55, stellar_age=4.5),\n",
    " ...\n",
    "}\n",
    "```"
   ]
  },
  {
   "cell_type": "code",
   "execution_count": null,
   "id": "790d24b9",
   "metadata": {
    "deletable": true,
    "editable": true,
    "execution": {
     "iopub.execute_input": "2024-04-09T16:13:41.719039Z",
     "iopub.status.busy": "2024-04-09T16:13:41.718975Z",
     "iopub.status.idle": "2024-04-09T16:13:41.721292Z",
     "shell.execute_reply": "2024-04-09T16:13:41.721087Z"
    },
    "tags": []
   },
   "outputs": [],
   "source": [
    "# define the function 'get_stars' here\n"
   ]
  },
  {
   "cell_type": "code",
   "execution_count": null,
   "id": "ac87e0b3",
   "metadata": {
    "deletable": true,
    "editable": true,
    "execution": {
     "iopub.execute_input": "2024-04-09T16:13:41.722345Z",
     "iopub.status.busy": "2024-04-09T16:13:41.722280Z",
     "iopub.status.idle": "2024-04-09T16:13:41.726604Z",
     "shell.execute_reply": "2024-04-09T16:13:41.726371Z"
    },
    "tags": []
   },
   "outputs": [],
   "source": [
    "# you can now use 'get_stars' to read the data in 'stars_1.csv'\n",
    "\n",
    "stars_1_dict = ..."
   ]
  },
  {
   "cell_type": "code",
   "execution_count": null,
   "id": "44b22bab",
   "metadata": {
    "deletable": false,
    "editable": false
   },
   "outputs": [],
   "source": [
    "grader.check(\"get_stars\")"
   ]
  },
  {
   "cell_type": "markdown",
   "id": "a85665e7",
   "metadata": {
    "deletable": false,
    "editable": false
   },
   "source": [
    "**Question 6:** What is the `Star` object of the star (in `stars_1.csv`) named *DP Leo*?\n",
    "\n",
    "You **must** access the `Star` object in `stars_1_dict` **dictionary** defined above to answer this question."
   ]
  },
  {
   "cell_type": "code",
   "execution_count": null,
   "id": "2b4e1b03",
   "metadata": {
    "deletable": true,
    "editable": true,
    "execution": {
     "iopub.execute_input": "2024-04-09T16:13:42.041450Z",
     "iopub.status.busy": "2024-04-09T16:13:42.041376Z",
     "iopub.status.idle": "2024-04-09T16:13:42.043399Z",
     "shell.execute_reply": "2024-04-09T16:13:42.043176Z"
    },
    "lines_to_next_cell": 0,
    "tags": []
   },
   "outputs": [],
   "source": [
    "# compute and store the answer in the variable 'dp_leo', then display it\n"
   ]
  },
  {
   "cell_type": "code",
   "execution_count": null,
   "id": "7f6b986c",
   "metadata": {
    "deletable": false,
    "editable": false
   },
   "outputs": [],
   "source": [
    "grader.check(\"q6\")"
   ]
  },
  {
   "cell_type": "markdown",
   "id": "e7445786",
   "metadata": {
    "deletable": false,
    "editable": false
   },
   "source": [
    "**Question 7:** What's the **average** `stellar_luminosity` of **all** the stars in the `star_1.csv` file?\n",
    "\n",
    "You **must** use the `stars_1_dict` **dictionary** defined above to answer this question.\n",
    "\n",
    "To find the average, you **must** first **add** up the `stellar_luminosity` value of all the stars and **divide** by the total **number** of stars. You **must skip** stars which don't have the `stellar_luminosity` data. Such stars should not contribute to either the sum of `stellar_luminosity` or to the number of stars."
   ]
  },
  {
   "cell_type": "code",
   "execution_count": null,
   "id": "3037793e",
   "metadata": {
    "deletable": true,
    "editable": true,
    "execution": {
     "iopub.execute_input": "2024-04-09T16:13:42.162388Z",
     "iopub.status.busy": "2024-04-09T16:13:42.162325Z",
     "iopub.status.idle": "2024-04-09T16:13:42.164800Z",
     "shell.execute_reply": "2024-04-09T16:13:42.164563Z"
    },
    "lines_to_next_cell": 0,
    "tags": []
   },
   "outputs": [],
   "source": [
    "# compute and store the answer in the variable 'avg_lum_stars_1', then display it\n"
   ]
  },
  {
   "cell_type": "code",
   "execution_count": null,
   "id": "ad64fef3",
   "metadata": {
    "deletable": false,
    "editable": false
   },
   "outputs": [],
   "source": [
    "grader.check(\"q7\")"
   ]
  },
  {
   "cell_type": "markdown",
   "id": "dfb9bb43",
   "metadata": {
    "deletable": false,
    "editable": false
   },
   "source": [
    "**Question 8:** What is the **average** `stellar_age` of **all** the stars in the `stars_2.csv` file?\n",
    "\n",
    "You **must** use the function `get_stars(csv_file)` to read the data in `stars_2.csv`. Your output **must** be a **float** representing the `stellar_age` in units of *gigayears*. You **must** skip stars which have missing `stellar_age` data."
   ]
  },
  {
   "cell_type": "code",
   "execution_count": null,
   "id": "f72168eb",
   "metadata": {
    "deletable": true,
    "editable": true,
    "execution": {
     "iopub.execute_input": "2024-04-09T16:13:42.339462Z",
     "iopub.status.busy": "2024-04-09T16:13:42.339399Z",
     "iopub.status.idle": "2024-04-09T16:13:42.345155Z",
     "shell.execute_reply": "2024-04-09T16:13:42.344959Z"
    },
    "lines_to_next_cell": 0,
    "tags": []
   },
   "outputs": [],
   "source": [
    "# compute and store the answer in the variable 'avg_age_stars_2', then display it\n"
   ]
  },
  {
   "cell_type": "code",
   "execution_count": null,
   "id": "6165ec7c",
   "metadata": {
    "deletable": false,
    "editable": false
   },
   "outputs": [],
   "source": [
    "grader.check(\"q8\")"
   ]
  },
  {
   "cell_type": "markdown",
   "id": "9c119a33",
   "metadata": {
    "deletable": false,
    "editable": false
   },
   "source": [
    "### Data Structure 2: `stars_dict`\n",
    "\n",
    "You are now ready to read all the data about the stars stored in the `data` directory. You **must** now create a **dictionary** mapping the `Name` of each star in the `data` directory (inside the files `stars_1.csv`, ..., `stars_5.csv`) to the `Star` object containing all the other details about the star.\n",
    "\n",
    "You **must not** hardcode the files/paths of the files `stars_1.csv`, ..., `stars_5.csv` to answer this question. Instead, you **must** use the `stars_paths` variable defined earlier in Question 4 to get the list of paths needed for this question. You can use the `update` dictionary **method** to combine two **dictionaries**.\n",
    "\n",
    "You must use this dictionary to answer the next 3 questions."
   ]
  },
  {
   "cell_type": "code",
   "execution_count": null,
   "id": "5163f940",
   "metadata": {
    "deletable": true,
    "editable": true,
    "execution": {
     "iopub.execute_input": "2024-04-09T16:13:42.586933Z",
     "iopub.status.busy": "2024-04-09T16:13:42.586841Z",
     "iopub.status.idle": "2024-04-09T16:13:42.597772Z",
     "shell.execute_reply": "2024-04-09T16:13:42.597540Z"
    },
    "tags": []
   },
   "outputs": [],
   "source": [
    "# define the variable 'stars_dict' here,\n",
    "# but do NOT display the variable at the end\n"
   ]
  },
  {
   "cell_type": "code",
   "execution_count": null,
   "id": "286d5753",
   "metadata": {
    "deletable": false,
    "editable": false
   },
   "outputs": [],
   "source": [
    "grader.check(\"stars_dict\")"
   ]
  },
  {
   "cell_type": "markdown",
   "id": "9c7d67a9",
   "metadata": {
    "deletable": false,
    "editable": false
   },
   "source": [
    "If you wish to **verify** that you have read the files and defined `stars_dict` correctly, you can check that `stars_dict` has **4166** key/value pairs in it."
   ]
  },
  {
   "cell_type": "markdown",
   "id": "65b3495f",
   "metadata": {
    "deletable": false,
    "editable": false
   },
   "source": [
    "**Question 9:** What is the `stellar_effective_temperature` of the star *Kepler-220*?\n",
    "\n",
    "You **must** access the correct `Star` object in the `stars_dict` **dictionary** defined above to answer this question."
   ]
  },
  {
   "cell_type": "code",
   "execution_count": null,
   "id": "d3c864f9",
   "metadata": {
    "deletable": true,
    "editable": true,
    "execution": {
     "iopub.execute_input": "2024-04-09T16:13:42.809820Z",
     "iopub.status.busy": "2024-04-09T16:13:42.809720Z",
     "iopub.status.idle": "2024-04-09T16:13:42.811669Z",
     "shell.execute_reply": "2024-04-09T16:13:42.811477Z"
    },
    "lines_to_next_cell": 0,
    "tags": []
   },
   "outputs": [],
   "source": [
    "# compute and store the answer in the variable 'kepler_220_temp', then display it\n"
   ]
  },
  {
   "cell_type": "code",
   "execution_count": null,
   "id": "0078f59a",
   "metadata": {
    "deletable": false,
    "editable": false
   },
   "outputs": [],
   "source": [
    "grader.check(\"q9\")"
   ]
  },
  {
   "cell_type": "markdown",
   "id": "18eeb1f7",
   "metadata": {
    "deletable": false,
    "editable": false
   },
   "source": [
    "**Question 10:** Find the **name** of the **largest** star (in terms of `stellar_radius`) in the `data` directory.\n",
    "\n",
    "Your output **must** be a **string**. You do **not** need to worry about any ties. You **must** skip any stars with **missing** `stellar_radius` data."
   ]
  },
  {
   "cell_type": "code",
   "execution_count": null,
   "id": "e78df115",
   "metadata": {
    "deletable": true,
    "editable": true,
    "execution": {
     "iopub.execute_input": "2024-04-09T16:13:42.879054Z",
     "iopub.status.busy": "2024-04-09T16:13:42.878983Z",
     "iopub.status.idle": "2024-04-09T16:13:42.882008Z",
     "shell.execute_reply": "2024-04-09T16:13:42.881773Z"
    },
    "tags": []
   },
   "outputs": [],
   "source": [
    "# compute and store the answer in the variable 'biggest_star', then display it\n"
   ]
  },
  {
   "cell_type": "code",
   "execution_count": null,
   "id": "2b0b73c9",
   "metadata": {
    "deletable": false,
    "editable": false
   },
   "outputs": [],
   "source": [
    "grader.check(\"q10\")"
   ]
  },
  {
   "cell_type": "markdown",
   "id": "c3b412e1",
   "metadata": {
    "deletable": false,
    "editable": false
   },
   "source": [
    "**Question 11:** What is the **average** `stellar_age` (in gigayears) of **all** the stars in the `data` directory whose names **start with** `\"Kepler\"`?\n",
    "\n",
    "Your output **must** be a **float**. You **must** skip all stars with **missing** `stellar_age` data. Such stars should not contribute to either the sum of `stellar_age` or to the number of stars."
   ]
  },
  {
   "cell_type": "code",
   "execution_count": null,
   "id": "e6ff1322",
   "metadata": {
    "deletable": true,
    "editable": true,
    "execution": {
     "iopub.execute_input": "2024-04-09T16:13:43.085274Z",
     "iopub.status.busy": "2024-04-09T16:13:43.085204Z",
     "iopub.status.idle": "2024-04-09T16:13:43.088262Z",
     "shell.execute_reply": "2024-04-09T16:13:43.088054Z"
    },
    "tags": []
   },
   "outputs": [],
   "source": [
    "# compute and store the answer in the variable 'avg_age_kepler', then display it\n"
   ]
  },
  {
   "cell_type": "code",
   "execution_count": null,
   "id": "ac0234b6",
   "metadata": {
    "deletable": false,
    "editable": false
   },
   "outputs": [],
   "source": [
    "grader.check(\"q11\")"
   ]
  },
  {
   "cell_type": "markdown",
   "id": "228d1c3a",
   "metadata": {
    "deletable": false,
    "editable": false
   },
   "source": [
    "### Data Structure 3: namedtuple `Planet`\n",
    "\n",
    "Just as you did with the stars, you will be using named tuples to store the data about the planets in the `planets_1.csv`, ..., `planets_5.csv` files. Before you start reading these files however, you **must** create a new `Planet` type (using namedtuple). It **must** have the following attributes:\n",
    "\n",
    "* `planet_name`,\n",
    "* `host_name`,\n",
    "* `discovery_method`,\n",
    "* `discovery_year`,\n",
    "* `controversial_flag`,\n",
    "* `orbital_period`,\n",
    "* `planet_radius`,\n",
    "* `planet_mass`,\n",
    "* `semi_major_radius`,\n",
    "* `eccentricity`,\n",
    "* `equilibrium_temperature`\n",
    "* `insolation_flux`."
   ]
  },
  {
   "cell_type": "code",
   "execution_count": null,
   "id": "773ac3c0",
   "metadata": {
    "deletable": true,
    "editable": true,
    "execution": {
     "iopub.execute_input": "2024-04-09T16:13:43.263275Z",
     "iopub.status.busy": "2024-04-09T16:13:43.263201Z",
     "iopub.status.idle": "2024-04-09T16:13:43.265098Z",
     "shell.execute_reply": "2024-04-09T16:13:43.264864Z"
    },
    "lines_to_next_cell": 0,
    "tags": []
   },
   "outputs": [],
   "source": [
    "# define the namedtuple 'Planet' here\n"
   ]
  },
  {
   "cell_type": "code",
   "execution_count": null,
   "id": "c627718c",
   "metadata": {
    "deletable": true,
    "editable": true,
    "execution": {
     "iopub.execute_input": "2024-04-09T16:13:43.266156Z",
     "iopub.status.busy": "2024-04-09T16:13:43.266094Z",
     "iopub.status.idle": "2024-04-09T16:13:43.268159Z",
     "shell.execute_reply": "2024-04-09T16:13:43.267942Z"
    },
    "tags": []
   },
   "outputs": [],
   "source": [
    "# run this following cell to initialize and test an example Planet object\n",
    "# if this cell fails to execute, you have likely not defined the namedtuple 'Planet' correctly\n",
    "jupiter = Planet('Jupiter', 'Sun', 'Imaging', 1610, False, 4333.0, 11.209, 317.828, 5.2038, 0.0489, 110, 0.0345)\n",
    "\n",
    "jupiter"
   ]
  },
  {
   "cell_type": "code",
   "execution_count": null,
   "id": "587bba50",
   "metadata": {
    "deletable": false,
    "editable": false
   },
   "outputs": [],
   "source": [
    "grader.check(\"Planet\")"
   ]
  },
  {
   "cell_type": "markdown",
   "id": "5fd25e40",
   "metadata": {
    "deletable": false,
    "editable": false
   },
   "source": [
    "### Creating `Planet` objects\n",
    "\n",
    "We are now ready to read the files in the `data` directory and create `Planet` objects. Creating `Planet` objects however, is going to be more difficult than creating `Star` objects, because the data required to create a single `Planet` object is split up into different files.\n",
    "\n",
    "The `planets_1.csv`, ..., `planets_5.csv` files contain all the data required to create `Planet` objects **except** for the `host_name`. The `host_name` for each planet is to be found in the `mapping_1.json`, ..., `mapping_5.json` files."
   ]
  },
  {
   "cell_type": "markdown",
   "id": "a6efc51a",
   "metadata": {
    "deletable": false,
    "editable": false
   },
   "source": [
    "First, let us read the data in `planets_1.csv`. Since this is a CSV file, you can use the `process_csv` function from above to read this file. In the cell below, you **must** read the data in `planets_1.csv` and extract the **header** and the non-header **rows** of the file."
   ]
  },
  {
   "cell_type": "code",
   "execution_count": null,
   "id": "bf3dfea9",
   "metadata": {
    "deletable": true,
    "editable": true,
    "execution": {
     "iopub.execute_input": "2024-04-09T16:13:43.396154Z",
     "iopub.status.busy": "2024-04-09T16:13:43.396087Z",
     "iopub.status.idle": "2024-04-09T16:13:43.399470Z",
     "shell.execute_reply": "2024-04-09T16:13:43.399279Z"
    },
    "tags": []
   },
   "outputs": [],
   "source": [
    "# replace the ... with your code\n",
    "\n",
    "planets_1_csv = process_csv(...) # read the data in 'planets_1.csv'\n",
    "planets_header = ...\n",
    "planets_1_rows = ..."
   ]
  },
  {
   "cell_type": "markdown",
   "id": "dd3228eb",
   "metadata": {
    "deletable": false,
    "editable": false
   },
   "source": [
    "If you wish to **verify** that you have read the file and defined the variables correctly, you can check that `planets_header` has the value:\n",
    "\n",
    "```python\n",
    "['Planet Name', 'Discovery Method', 'Discovery Year', 'Controversial Flag',\n",
    " 'Orbital Period [days]', 'Planet Radius [Earth Radius]', 'Planet Mass [Earth Mass]',\n",
    " 'Orbit Semi-Major Axis [au]', 'Eccentricity', 'Equilibrium Temperature [K]',\n",
    " 'Insolation Flux [Earth Flux]']\n",
    "```\n",
    "\n",
    "and that `planets_1_rows` has **1610** rows of which the **first three** are:\n",
    "\n",
    "```python\n",
    "[['11 Com b', 'Radial Velocity', '2007', '0', '323.21000000', '12.200', '4914.89849', '1.178000', '0.238000', '', ''],\n",
    " ['11 UMi b', 'Radial Velocity', '2009', '0', '516.21997000', '12.300', '4684.81420', '1.530000', '0.080000', '', ''],\n",
    " ['14 And b', 'Radial Velocity', '2008', '0', '186.76000000', '13.100', '1131.15130', '0.775000', '0.000000', '', '']]\n",
    "```"
   ]
  },
  {
   "cell_type": "markdown",
   "id": "82a7a93e",
   "metadata": {
    "deletable": false,
    "editable": false
   },
   "source": [
    "Now, you are ready to read the data in `mapping_1.json`. Since this is a JSON file, you will need to copy/paste the `read_json` function Lab-P10, and use it to read the file."
   ]
  },
  {
   "cell_type": "code",
   "execution_count": null,
   "id": "20f97e3e",
   "metadata": {
    "deletable": true,
    "editable": true,
    "execution": {
     "iopub.execute_input": "2024-04-09T16:13:43.400759Z",
     "iopub.status.busy": "2024-04-09T16:13:43.400682Z",
     "iopub.status.idle": "2024-04-09T16:13:43.402260Z",
     "shell.execute_reply": "2024-04-09T16:13:43.402058Z"
    },
    "tags": []
   },
   "outputs": [],
   "source": [
    "# copy & paste the read_json file from Lab-P10\n"
   ]
  },
  {
   "cell_type": "code",
   "execution_count": null,
   "id": "da23f5bd",
   "metadata": {
    "deletable": true,
    "editable": true,
    "execution": {
     "iopub.execute_input": "2024-04-09T16:13:43.403345Z",
     "iopub.status.busy": "2024-04-09T16:13:43.403284Z",
     "iopub.status.idle": "2024-04-09T16:13:43.405292Z",
     "shell.execute_reply": "2024-04-09T16:13:43.404972Z"
    },
    "tags": []
   },
   "outputs": [],
   "source": [
    "# now use the read_json function to read 'mapping_1.json'\n",
    "\n",
    "mapping_1_json = ..."
   ]
  },
  {
   "cell_type": "markdown",
   "id": "104f741a",
   "metadata": {
    "deletable": false,
    "editable": false
   },
   "source": [
    "If you wish to **verify** that you have read the file correctly, you can check that `mapping_1_json` has **1610** key/value pairs, and has the value:\n",
    "\n",
    "```python\n",
    "{'11 Com b': '11 Com',\n",
    " '11 UMi b': '11 UMi',\n",
    " '14 And b': '14 And',\n",
    " ...\n",
    " }\n",
    "```\n",
    "\n",
    "Now that we have read `planets_1.csv` and `mapping_1.json`, we are now ready to combine these two files to create `Planet` objects."
   ]
  },
  {
   "cell_type": "markdown",
   "id": "1d011f1b",
   "metadata": {
    "deletable": false,
    "editable": false
   },
   "source": [
    "### Function 3: `planet_cell(row_idx, col_name, planets_rows, header=planets_header)`\n",
    "\n",
    "This function **must** read the **list** of **lists** `planets_rows`, and extract the value at **row** index `row_idx` and **column** index `col_idx`. The function **must** typecast the value based on `col_name`. If the value in `planets_rows` is **missing** (i.e., it is `''`), then the value returned **must** be `None`.\n",
    "\n",
    "The **column** of `planets_rows` where the value should be obtained from, and the correct **data type** for the value are listed in the table below:\n",
    "\n",
    "|Column of `planets_rows`|Data Type|\n",
    "|------|---------|\n",
    "|Planet Name|**string**|\n",
    "|Discovery Year|**int**|\n",
    "|Discovery Method|**string**|\n",
    "|Controversial Flag|**bool**|\n",
    "|Orbital Period [days]|**float**|\n",
    "|Planet Radius [Earth Radius]|**float**|\n",
    "|Planet Mass [Earth Mass]|**float**|\n",
    "|Orbit Semi-Major Axis [au]|**float**|\n",
    "|Eccentricity|**float**|\n",
    "|Equilibrium Temperature [K]|**float**|\n",
    "|Insolation Flux [Earth Flux]|**float**|\n",
    "\n",
    "**Important Hint:** While computing the value of the attribute `controversial_flag`, note that the `Controversial Flag` column of `planets_1.csv` represents `True` with `'1'` and `False` with `'0'`. You **must** be careful with typecasting **strings** to **booleans**."
   ]
  },
  {
   "cell_type": "code",
   "execution_count": null,
   "id": "fb509f13",
   "metadata": {
    "deletable": true,
    "editable": true,
    "execution": {
     "iopub.execute_input": "2024-04-09T16:13:43.406708Z",
     "iopub.status.busy": "2024-04-09T16:13:43.406631Z",
     "iopub.status.idle": "2024-04-09T16:13:43.410279Z",
     "shell.execute_reply": "2024-04-09T16:13:43.410085Z"
    },
    "tags": []
   },
   "outputs": [],
   "source": [
    "# define the function 'planet_cell' here\n"
   ]
  },
  {
   "cell_type": "code",
   "execution_count": null,
   "id": "7f1d15d9",
   "metadata": {
    "deletable": false,
    "editable": false
   },
   "outputs": [],
   "source": [
    "grader.check(\"planet_cell\")"
   ]
  },
  {
   "cell_type": "markdown",
   "id": "10cdb778",
   "metadata": {
    "deletable": false,
    "editable": false
   },
   "source": [
    "**Question 12:** Create a `Planet` object for the **fifth** planet in the `planets_1.csv` file.\n",
    "\n",
    "You **must** access the values in `planets_1.csv` using the `planet_cell` function. Note that the fifth planet would be at **index** 4.\n",
    "\n",
    "The **attribute** of the `Planet` namedtuple object, the corresponding **column** of the `planets_1.csv` file where the value should be obtained from, and the correct **data type** for the value are listed in the table below:\n",
    "\n",
    "|Attribute of `Planet` object|Column of `planets_1.csv`|Data Type|\n",
    "|---------|------|---------|\n",
    "|`planet_name`|Planet Name|**string**|\n",
    "|`host_name`| - |**string**|\n",
    "|`discovery_method`|Discovery Method|**string**|\n",
    "|`discovery_year`|Discovery Year|**int**|\n",
    "|`controversial_flag`|Controversial Flag|**bool**|\n",
    "|`orbital_period`|Orbital Period [days]|**float**|\n",
    "|`planet_radius`|Planet Radius [Earth Radius]|**float**|\n",
    "|`planet_mass`|Planet Mass [Earth Mass]|**float**|\n",
    "|`semi_major_radius`|Orbit Semi-Major Axis [au]|**float**|\n",
    "|`eccentricity`|Eccentricity|**float**|\n",
    "|`equilibrium_temperature`|Equilibrium Temperature [K]|**float**|\n",
    "|`insolation_flux`|Insolation Flux [Earth Flux]|**float**|\n",
    "\n",
    "\n",
    "The value of the `host_name` attribute is found in `mapping_1.json`."
   ]
  },
  {
   "cell_type": "code",
   "execution_count": null,
   "id": "747a47bf",
   "metadata": {
    "deletable": true,
    "editable": true,
    "execution": {
     "iopub.execute_input": "2024-04-09T16:13:43.726732Z",
     "iopub.status.busy": "2024-04-09T16:13:43.726655Z",
     "iopub.status.idle": "2024-04-09T16:13:43.729767Z",
     "shell.execute_reply": "2024-04-09T16:13:43.729548Z"
    },
    "tags": []
   },
   "outputs": [],
   "source": [
    "# compute and store the answer in the variable 'fifth_planet', then display it\n"
   ]
  },
  {
   "cell_type": "code",
   "execution_count": null,
   "id": "eba99ad0",
   "metadata": {
    "deletable": false,
    "editable": false
   },
   "outputs": [],
   "source": [
    "grader.check(\"q12\")"
   ]
  },
  {
   "cell_type": "markdown",
   "id": "d2e1e4c4",
   "metadata": {
    "deletable": false,
    "editable": false
   },
   "source": [
    "### Function 4: `get_planets(planet_file, mapping_file)`: \n",
    "\n",
    "This function **must** take in as its input, a **path** to the CSV file `planet_file` which contains data on planets in the same format as `planets_1.csv`, as well as a **path** to the JSON file `mapping_file` which maps planets in `planet_file` to their host star in the same format as `mapping_1.json`. This function **must** return a **list** of `Planet` objects by combining the data in these two files. The `Planet` objects **must** appear in the same order as they do in `planet_file`.\n",
    "\n",
    "You **must** access the values in `planets_file` using the `planet_cell` function.\n",
    "\n",
    "You **must not** hardcode the name of the directory `data` into the `get_planets` function. Instead, you must pass it as a part of the arguments `planet_file` and `mapping_file`. In other words, if you want to parse the contents of the files `planets_5.csv` and `mapping_5.json`, your function call must **not** be: `get_planets(\"planets_5.csv\", \"mapping_5.json\")`. Instead, it must be:\n",
    "\n",
    "```python\n",
    "get_planets(os.path.join(\"data\", \"planets_5.csv\"), os.path.join(\"data\", \"mapping_5.json\"))\n",
    "```\n",
    "\n",
    "For example, when this function is called with the **paths** to the files `planets_1.csv` and `mapping_1.json` as the input, the **list** returned should look like:\n",
    "\n",
    "```python\n",
    "[ Planet(planet_name='11 Com b', host_name='11 Com', discovery_method='Radial Velocity', discovery_year=2007, controversial_flag=False, orbital_period=323.21, planet_radius=12.2, planet_mass=4914.89849, semi_major_radius=1.178, eccentricity=0.238, equilibrium_temperature=None, insolation_flux=None),\n",
    " Planet(planet_name='11 UMi b', host_name='11 UMi', discovery_method='Radial Velocity', discovery_year=2009, controversial_flag=False, orbital_period=516.21997, planet_radius=12.3, planet_mass=4684.8142, semi_major_radius=1.53, eccentricity=0.08, equilibrium_temperature=None, insolation_flux=None),\n",
    " ...]\n",
    "```"
   ]
  },
  {
   "cell_type": "code",
   "execution_count": null,
   "id": "dfcc3c07",
   "metadata": {
    "deletable": true,
    "editable": true,
    "execution": {
     "iopub.execute_input": "2024-04-09T16:13:43.962099Z",
     "iopub.status.busy": "2024-04-09T16:13:43.962039Z",
     "iopub.status.idle": "2024-04-09T16:13:43.964940Z",
     "shell.execute_reply": "2024-04-09T16:13:43.964744Z"
    },
    "lines_to_next_cell": 0,
    "tags": []
   },
   "outputs": [],
   "source": [
    "def get_planets(planet_file, mapping_file):\n",
    "    # TODO: read planet_file to a list of lists\n",
    "    # TODO: extract the header and rows from planet_file\n",
    "    # TODO: read mapping_file to a dictionary\n",
    "    # TODO: loop through each row in planet_file with indices\n",
    "    # TODO: create a Planet object (namedTuple) for each row\n",
    "    # TODO: add each Planet objet to a list\n",
    "    # TODO: return the list after the end of the loop\n",
    "    pass # replace with your code"
   ]
  },
  {
   "cell_type": "code",
   "execution_count": null,
   "id": "702de17c",
   "metadata": {
    "deletable": false,
    "editable": false
   },
   "outputs": [],
   "source": [
    "grader.check(\"get_planets\")"
   ]
  },
  {
   "cell_type": "markdown",
   "id": "3b1bc76c",
   "metadata": {
    "deletable": false,
    "editable": false
   },
   "source": [
    "**Question 13:** What are the **last five** `Planet` objects in the **list** returned by `get_planets` when `planet_file` is `planets_1.csv` and `mapping_file` is `mapping_1.json`?\n",
    "\n",
    "Your output **must** be a **list** of `Planet` objects.\n",
    "\n",
    "**Hint:** First, you **must** use the `get_planets` function to parse the data in `planets_1.csv` and `mapping_1.json` and create a **list** of `Planet` objects. Then, you may slice this **list** to get the last five `Planet` objects."
   ]
  },
  {
   "cell_type": "code",
   "execution_count": null,
   "id": "2eb1f3e2",
   "metadata": {
    "deletable": true,
    "editable": true,
    "execution": {
     "iopub.execute_input": "2024-04-09T16:13:44.262336Z",
     "iopub.status.busy": "2024-04-09T16:13:44.262265Z",
     "iopub.status.idle": "2024-04-09T16:13:44.269129Z",
     "shell.execute_reply": "2024-04-09T16:13:44.268908Z"
    },
    "tags": []
   },
   "outputs": [],
   "source": [
    "# compute and store the answer in the variable 'last_five_planets_1', then display it\n"
   ]
  },
  {
   "cell_type": "code",
   "execution_count": null,
   "id": "47996c64",
   "metadata": {
    "deletable": false,
    "editable": false
   },
   "outputs": [],
   "source": [
    "grader.check(\"q13\")"
   ]
  },
  {
   "cell_type": "markdown",
   "id": "4044de21",
   "metadata": {
    "deletable": false,
    "editable": false
   },
   "source": [
    "**Question 14:** What are the `Planet` objects whose `controversial_flag` attribute is `True` in the **list** returned by `get_planets` when `planet_file` is `planets_2.csv` and `mapping_file` is `mapping_2.json`?\n",
    "\n",
    "Your output **must** be a **list** of `Planet` objects."
   ]
  },
  {
   "cell_type": "code",
   "execution_count": null,
   "id": "5f21af9a",
   "metadata": {
    "deletable": true,
    "editable": true,
    "execution": {
     "iopub.execute_input": "2024-04-09T16:13:44.470801Z",
     "iopub.status.busy": "2024-04-09T16:13:44.470729Z",
     "iopub.status.idle": "2024-04-09T16:13:44.478267Z",
     "shell.execute_reply": "2024-04-09T16:13:44.478079Z"
    },
    "lines_to_next_cell": 0,
    "tags": []
   },
   "outputs": [],
   "source": [
    "# compute and store the answer in the variable 'controversial_planets', then display it\n"
   ]
  },
  {
   "cell_type": "code",
   "execution_count": null,
   "id": "b77fc498",
   "metadata": {
    "deletable": false,
    "editable": false
   },
   "outputs": [],
   "source": [
    "grader.check(\"q14\")"
   ]
  },
  {
   "cell_type": "markdown",
   "id": "aa3b6fe3",
   "metadata": {
    "deletable": false,
    "editable": false
   },
   "source": [
    "### Data Cleaning 1: Broken CSV rows\n",
    "\n",
    "Our function `get_planets` works very well so far. However, it is likely that it will not work on all the files in the `data` directory. For example, if you use the function `get_planets` to read the data in `planets_4.csv` and `mapping_4.json`, you will most likely run into an error. **Try it yourself to verify!**\n",
    "\n",
    "The reason your code likely crashed is because there the file `planets_4.csv` is **broken**. For some reason, several rows in `planets_4.csv` have their data jumbled up. For example, in the **third** row of `planets_4.csv`, we come across this row:\n",
    "\n",
    "|Planet Name|Discovery Method|Discovery Year|Controversial Flag|Orbital Period [days]|Planet Radius [Earth Radius]|Planet Mass [Earth Mass]|Orbit Semi-Major Axis [au]|Eccentricity|Equilibrium Temperature [K]|Insolation Flux [Earth Flux]|\n",
    "|-----------|----------------|--------------|------------------|---------------------|----------------------------|------------------------|---------------------------|------------|---------------------------|----------------------------|\n",
    "47 UMa b|804.08000|1996|0|1078.00000000|13.200|Radial Velocity|2.100000|0.032000||\n",
    "\n",
    "We can see that for some reason, the value under the column `Discovery Method` is a **number** while the value under the column `Planet Mass [Earth Mass]` is a **string**. It is possible that these two columns of data got *swapped* here, but we cannot be sure about this.\n",
    "\n",
    "We will call such a **row** in a CSV file where the values under a column do not match the expected format to be a **broken row**. While it is possible to sometimes extract useful data from broken rows, in this project, we will simply **skip** broken rows.\n",
    "\n",
    "You **must** now go back to your definition of `get_planets` and edit it, so that any **broken rows get skipped**.\n",
    "\n",
    "**Hints:**\n",
    "\n",
    "1. The simplest way to recognize if a row is broken is if you run into any **RunTime Errors** when you call the `get_planets` function. So, one simple way to skip bad rows would be to use `try/except` blocks to avoid processing any rows that cause the code to crash; remember **not** to use *bare* `try/except` blocks.\n",
    "2. There are only **10** broken rows in `planets_4.csv`, and they are all **bunched up** at the very beginning and the very end of the dataset. You can manually **inspect** the **first 10 and last 10** rows, and figure out which of these rows are broken and why.\n",
    "\n",
    "**Important Warning:** You are **not** allowed to **hardcode** the indices of the broken rows. You may inspect `planets_4.csv` to identify how to tell a **broken row** apart. Therefore, to use the example of the **broken row** above, you **may not** hardcode to skip the **seventh** row of `planets_4.csv`. However, it is **acceptable** to make your function **skip** any row for which the value under the `Planet Name` is not numeric, by observing that this is the reason why the row is broken."
   ]
  },
  {
   "cell_type": "markdown",
   "id": "cb894a51",
   "metadata": {
    "deletable": false,
    "editable": false
   },
   "source": [
    "**Question 15:** What are the **last five** `Planet` objects produced by `get_planets` when `planet_file` is `planets_4.csv` and `mapping_file` is `mapping_4.json`?\n",
    "\n",
    "Your output **must** be a **list** of `Planet` objects."
   ]
  },
  {
   "cell_type": "code",
   "execution_count": null,
   "id": "026ee35d",
   "metadata": {
    "deletable": true,
    "editable": true,
    "execution": {
     "iopub.execute_input": "2024-04-09T16:13:44.655690Z",
     "iopub.status.busy": "2024-04-09T16:13:44.655624Z",
     "iopub.status.idle": "2024-04-09T16:13:44.660070Z",
     "shell.execute_reply": "2024-04-09T16:13:44.659850Z"
    },
    "lines_to_next_cell": 0,
    "tags": []
   },
   "outputs": [],
   "source": [
    "# compute and store the answer in the variable 'last_five_planets_4', then display it\n"
   ]
  },
  {
   "cell_type": "code",
   "execution_count": null,
   "id": "33780ac6",
   "metadata": {
    "deletable": false,
    "editable": false
   },
   "outputs": [],
   "source": [
    "grader.check(\"q15\")"
   ]
  },
  {
   "cell_type": "markdown",
   "id": "9f551f15",
   "metadata": {
    "deletable": false,
    "editable": false
   },
   "source": [
    "### Data Cleaning 2: Broken JSON files\n",
    "\n",
    "We are now ready to read **all** the files in the `data` directory and create a **list** of `Planet` objects for all the planets in the directory. However, if you try to use `get_planets` on all the planet CSV files and mapping JSON files, you will likely run into another error. **Try it for yourself by calling `get_planets` on all the files in `data`!**\n",
    "\n",
    "It is likely that your code crashed when you tried to read the data in `planets_5.csv` and `mapping_5.json`. This is because the file `mapping_5.json` is **broken**. Unlike **broken** CSV files, where we only had to skip the **broken rows**, it is much harder to parse **broken JSON files**. When a JSON file is **broken**, we often have no choice but to **skip the file entirely**.\n",
    "\n",
    "You **must** now go back to your definition of `get_planets` and edit it, so that if the JSON file is **broken**, then the file is completely skipped, and only an **empty list** is returned.\n",
    "\n",
    "**Important Warning:** You are **not** allowed to **hardcode** the name of the files to be skipped. You **must** use `try/except` blocks to determine whether the JSON file is **broken** and skip the file if it is.\n",
    "\n",
    "**Hint:** You might also want to review the **Project Requirements** at the start of this project, before you use `try/except`."
   ]
  },
  {
   "cell_type": "markdown",
   "id": "611e1794",
   "metadata": {
    "deletable": false,
    "editable": false
   },
   "source": [
    "### Data Structure 4: `planets_list`\n",
    "\n",
    "You are now ready to read all the data about the planets stored in the `data` directory. You **must** now create a **list** containing `Planet` objects by parsing the data inside the files `planets_1.csv`, ..., `planets_5.csv` and `mapping_1.json`, ..., `mapping_5.json`.\n",
    "\n",
    "You **must** skip any **broken rows** in the CSV file, and also completely skip any **broken JSON files**. However, you are **not** allowed to **hardcode** the file you need to skip. You **must** call `get_planet` on **all** 5 pairs of files to answer this question.\n",
    "\n",
    "You **must** use the `get_planets` function on each of the five pairs of files in the `data` directory to create `planets_list`.\n",
    "\n",
    "**Warning:** Recall that the ordering of the files returned by the `os.listdir` function **depends on the operating system**. So, you need to be careful if your code relies on the ordering of the **list** returned by this function. One way to avoid any issues here would be to **sort** the **list** first, so that the ordering is identical across all operating systems."
   ]
  },
  {
   "cell_type": "code",
   "execution_count": null,
   "id": "9921ff82",
   "metadata": {
    "deletable": true,
    "editable": true,
    "execution": {
     "iopub.execute_input": "2024-04-09T16:13:44.837646Z",
     "iopub.status.busy": "2024-04-09T16:13:44.837582Z",
     "iopub.status.idle": "2024-04-09T16:13:44.881760Z",
     "shell.execute_reply": "2024-04-09T16:13:44.881559Z"
    },
    "tags": []
   },
   "outputs": [],
   "source": [
    "# define the variable 'planets_list' here,\n",
    "# but do NOT display the variable at the end\n"
   ]
  },
  {
   "cell_type": "code",
   "execution_count": null,
   "id": "69d9ca71",
   "metadata": {
    "deletable": false,
    "editable": false
   },
   "outputs": [],
   "source": [
    "grader.check(\"planets_list\")"
   ]
  },
  {
   "cell_type": "markdown",
   "id": "19bbe569",
   "metadata": {
    "deletable": false,
    "editable": false
   },
   "source": [
    "If you wish to **verify** that you have read the files and defined `planets_list` correctly, you can check that `planets_list` has **5072** `Planet` objects in it. If it contains fewer or a greater number of planets, it is possible that you have accidentally parsed a broken CSV row in `planets_4.csv`, or accidentally parsed data from the broken JSON file `mapping_5.json`."
   ]
  },
  {
   "cell_type": "markdown",
   "id": "235e87f6",
   "metadata": {
    "deletable": false,
    "editable": false
   },
   "source": [
    "**Question 16:** What is the output of `planets_list[5020:5025]`?\n",
    "\n",
    "Your output **must** be a **list** of `Planet` objects.\n",
    "\n",
    "**Hint:** If you did not get the right answer here, it is possible that you did not read the files in the correct **order**. In `planets_list`, the planets from `planets_1.csv` should appear first (in the order that they appear in the dataset), followed by the planets from `planets_2.csv`, `planets_3.csv`, `planets_4.csv`, and `planets_5.csv`."
   ]
  },
  {
   "cell_type": "code",
   "execution_count": null,
   "id": "f8506324",
   "metadata": {
    "deletable": true,
    "editable": true,
    "execution": {
     "iopub.execute_input": "2024-04-09T16:13:45.057763Z",
     "iopub.status.busy": "2024-04-09T16:13:45.057695Z",
     "iopub.status.idle": "2024-04-09T16:13:45.059713Z",
     "shell.execute_reply": "2024-04-09T16:13:45.059488Z"
    },
    "lines_to_next_cell": 0,
    "tags": []
   },
   "outputs": [],
   "source": [
    "# compute and store the answer in the variable 'planets_5020_5025', then display it\n"
   ]
  },
  {
   "cell_type": "code",
   "execution_count": null,
   "id": "f1b17bb1",
   "metadata": {
    "deletable": false,
    "editable": false
   },
   "outputs": [],
   "source": [
    "grader.check(\"q16\")"
   ]
  },
  {
   "cell_type": "markdown",
   "id": "3b712e38",
   "metadata": {
    "deletable": false,
    "editable": false
   },
   "source": [
    "**Question 17:** How many planets in `planets_list` were discovered in the year *2023*?\n",
    "\n",
    "Your output **must** be an **integer**."
   ]
  },
  {
   "cell_type": "code",
   "execution_count": null,
   "id": "22b89d22",
   "metadata": {
    "deletable": true,
    "editable": true,
    "execution": {
     "iopub.execute_input": "2024-04-09T16:13:45.120725Z",
     "iopub.status.busy": "2024-04-09T16:13:45.120665Z",
     "iopub.status.idle": "2024-04-09T16:13:45.122932Z",
     "shell.execute_reply": "2024-04-09T16:13:45.122696Z"
    },
    "lines_to_next_cell": 0,
    "tags": []
   },
   "outputs": [],
   "source": [
    "# compute and store the answer in the variable 'planets_disc_2023', then display it\n"
   ]
  },
  {
   "cell_type": "code",
   "execution_count": null,
   "id": "0a04a3ae",
   "metadata": {
    "deletable": false,
    "editable": false
   },
   "outputs": [],
   "source": [
    "grader.check(\"q17\")"
   ]
  },
  {
   "cell_type": "markdown",
   "id": "f5b74c46",
   "metadata": {
    "deletable": false,
    "editable": false
   },
   "source": [
    "**Question 18:** Find the `Star` object around which the `Planet` named *TOI-2202 c* orbits.\n",
    "\n",
    "Your output **must** be a `Star` object.\n",
    "\n",
    "**Hint:** You **must** first find the `Planet` object with the `planet_name` *TOI-2202 c* and then use the `host_name` attribute to identify the name of the star around which the planet orbits. Then, you can get the `Star` object using the `stars_dict` **dictionary** defined above.\n",
    "\n",
    "You **must** exit the loop once you find the first planet with the target name."
   ]
  },
  {
   "cell_type": "code",
   "execution_count": null,
   "id": "9beed08b",
   "metadata": {
    "deletable": true,
    "editable": true,
    "execution": {
     "iopub.execute_input": "2024-04-09T16:13:45.298861Z",
     "iopub.status.busy": "2024-04-09T16:13:45.298794Z",
     "iopub.status.idle": "2024-04-09T16:13:45.301116Z",
     "shell.execute_reply": "2024-04-09T16:13:45.300904Z"
    },
    "lines_to_next_cell": 0,
    "tags": []
   },
   "outputs": [],
   "source": [
    "# compute and store the answer in the variable 'toi_2022_c_star', then display it\n"
   ]
  },
  {
   "cell_type": "code",
   "execution_count": null,
   "id": "d07d7d4e",
   "metadata": {
    "deletable": false,
    "editable": false
   },
   "outputs": [],
   "source": [
    "grader.check(\"q18\")"
   ]
  },
  {
   "cell_type": "markdown",
   "id": "d97da08c",
   "metadata": {
    "deletable": false,
    "editable": false
   },
   "source": [
    "**Question 19:** Find the **average** `planet_radius` (in units of the radius of the Earth) of the planets that orbit stars with `stellar_radius` more than *10* (i.e. more than *10* times the radius of the Sun).\n",
    "\n",
    "Your output **must** be a **float**. You **must** skip any `Planet` objects with **missing** `planet_radius` data and any `Star` objects with **missing** `stellar_radius` data."
   ]
  },
  {
   "cell_type": "code",
   "execution_count": null,
   "id": "ea5c9c38",
   "metadata": {
    "deletable": true,
    "editable": true,
    "execution": {
     "iopub.execute_input": "2024-04-09T16:13:45.491672Z",
     "iopub.status.busy": "2024-04-09T16:13:45.491582Z",
     "iopub.status.idle": "2024-04-09T16:13:45.495577Z",
     "shell.execute_reply": "2024-04-09T16:13:45.495310Z"
    },
    "lines_to_next_cell": 0,
    "tags": []
   },
   "outputs": [],
   "source": [
    "# compute and store the answer in the variable 'avg_planet_radius_big_stars', then display it\n"
   ]
  },
  {
   "cell_type": "code",
   "execution_count": null,
   "id": "24ca4b2d",
   "metadata": {
    "deletable": false,
    "editable": false
   },
   "outputs": [],
   "source": [
    "grader.check(\"q19\")"
   ]
  },
  {
   "cell_type": "markdown",
   "id": "3960389a",
   "metadata": {
    "deletable": false,
    "editable": false
   },
   "source": [
    "**Question 20:** Find all the `Planet` objects that orbit the **youngest** `Star` object.\n",
    "\n",
    "Your output **must** be a **list** of `Planet` objects (even if there is **only one** `Planet` in the list). The age of a `Star` can be found from its `stellar_age` column. You do **not** have to worry about any ties. There is a **unique** `Star` in the dataset which is the youngest star."
   ]
  },
  {
   "cell_type": "code",
   "execution_count": null,
   "id": "47751dc8",
   "metadata": {
    "deletable": true,
    "editable": true,
    "execution": {
     "iopub.execute_input": "2024-04-09T16:13:45.755884Z",
     "iopub.status.busy": "2024-04-09T16:13:45.755811Z",
     "iopub.status.idle": "2024-04-09T16:13:45.759249Z",
     "shell.execute_reply": "2024-04-09T16:13:45.759037Z"
    },
    "lines_to_next_cell": 0,
    "tags": []
   },
   "outputs": [],
   "source": [
    "# compute and store the answer in the variable 'youngest_star_planets', then display it\n"
   ]
  },
  {
   "cell_type": "code",
   "execution_count": null,
   "id": "9ac4d052",
   "metadata": {
    "deletable": false,
    "editable": false
   },
   "outputs": [],
   "source": [
    "grader.check(\"q20\")"
   ]
  },
  {
   "cell_type": "code",
   "execution_count": null,
   "id": "46780519",
   "metadata": {
    "deletable": false,
    "editable": false
   },
   "outputs": [],
   "source": [
    "grader.check(\"general_deductions\")"
   ]
  },
  {
   "cell_type": "code",
   "execution_count": null,
   "id": "c73427f6",
   "metadata": {
    "deletable": false,
    "editable": false
   },
   "outputs": [],
   "source": [
    "grader.check(\"summary\")"
   ]
  },
  {
   "cell_type": "markdown",
   "id": "9c59701d",
   "metadata": {
    "deletable": false,
    "editable": false
   },
   "source": [
    "## Submission\n",
    "It is recommended that at this stage, you Restart and Run all Cells in your notebook.\n",
    "That will automatically save your work and generate a zip file for you to submit.\n",
    "\n",
    "**SUBMISSION INSTRUCTIONS**:\n",
    "1. **Upload** the zipfile to Gradescope.\n",
    "2. If you completed the project with a **partner**, make sure to **add their name** by clicking \"Add Group Member\"\n",
    "in Gradescope when uploading the zip file.\n",
    "3. Check **Gradescope** results as soon as the auto-grader execution gets completed.\n",
    "4. Your **final score** for this project is the score that you see on **Gradescope**.\n",
    "5. You are **allowed** to resubmit on Gradescope as many times as you want to.\n",
    "6. **Contact** a TA/PM if you lose any points on Gradescope for any **unclear reasons**."
   ]
  },
  {
   "cell_type": "code",
   "execution_count": null,
   "id": "bd75b8f4",
   "metadata": {
    "cell_type": "code",
    "deletable": false,
    "editable": false
   },
   "outputs": [],
   "source": [
    "# running this cell will create a new save checkpoint for your notebook\n",
    "from IPython.display import display, Javascript\n",
    "display(Javascript('IPython.notebook.save_checkpoint();'))"
   ]
  },
  {
   "cell_type": "code",
   "execution_count": null,
   "id": "e4e6e5bb",
   "metadata": {
    "cell_type": "code",
    "deletable": false,
    "editable": false
   },
   "outputs": [],
   "source": [
    "!jupytext --to py p10.ipynb"
   ]
  },
  {
   "cell_type": "code",
   "execution_count": null,
   "id": "50d5e22c",
   "metadata": {
    "deletable": false,
    "editable": false
   },
   "outputs": [],
   "source": [
    "grader.export(pdf=False, run_tests=False, files=[\"p10.py\"])"
   ]
  },
  {
   "cell_type": "markdown",
   "id": "d7b1245b",
   "metadata": {
    "deletable": false,
    "editable": false
   },
   "source": [
    " "
   ]
  }
 ],
 "metadata": {
  "jupytext": {
   "cell_metadata_filter": "-all",
   "encoding": "# coding: utf-8",
   "executable": "/usr/bin/env python",
   "notebook_metadata_filter": "-all"
  },
  "kernelspec": {
   "display_name": "Python 3 (ipykernel)",
   "language": "python",
   "name": "python3"
  },
  "language_info": {
   "codemirror_mode": {
    "name": "ipython",
    "version": 3
   },
   "file_extension": ".py",
   "mimetype": "text/x-python",
   "name": "python",
   "nbconvert_exporter": "python",
   "pygments_lexer": "ipython3",
   "version": "3.11.2"
  },
  "otter": {
   "OK_FORMAT": true,
   "tests": {
    "Planet": {
     "name": "Planet",
     "points": 0,
     "suites": [
      {
       "cases": [
        {
         "code": ">>> public_tests.check('Planet', jupiter)\nAll test cases passed!\n",
         "hidden": false,
         "locked": false
        },
        {
         "code": ">>> \n>>> public_tests.rubric_check('Planet: data structure is defined more than once')\nAll test cases passed!\n",
         "hidden": false,
         "locked": false,
         "success_message": "Note that the Gradescope autograder will deduct points if your code fails the following rubric point - 'data structure is defined more than once (-1)'.The public tests cannot determine if your code satisfies these requirements. Verify your code manually."
        },
        {
         "code": ">>> \n>>> public_tests.rubric_check('Planet: data structure is defined incorrectly')\nAll test cases passed!\n",
         "hidden": false,
         "locked": false,
         "success_message": "Note that the Gradescope autograder will deduct points if your code fails the following rubric point - 'data structure is defined incorrectly (-1)'.The public tests cannot determine if your code satisfies these requirements. Verify your code manually."
        }
       ],
       "scored": true,
       "setup": "",
       "teardown": "",
       "type": "doctest"
      }
     ]
    },
    "Star": {
     "name": "Star",
     "points": 0,
     "suites": [
      {
       "cases": [
        {
         "code": ">>> public_tests.check('Star', sun)\nAll test cases passed!\n",
         "hidden": false,
         "locked": false
        },
        {
         "code": ">>> \n>>> public_tests.rubric_check('Star: data structure is defined more than once')\nAll test cases passed!\n",
         "hidden": false,
         "locked": false,
         "success_message": "Note that the Gradescope autograder will deduct points if your code fails the following rubric point - 'data structure is defined more than once (-1)'.The public tests cannot determine if your code satisfies these requirements. Verify your code manually."
        },
        {
         "code": ">>> \n>>> public_tests.rubric_check('Star: data structure is defined incorrectly')\nAll test cases passed!\n",
         "hidden": false,
         "locked": false,
         "success_message": "Note that the Gradescope autograder will deduct points if your code fails the following rubric point - 'data structure is defined incorrectly (-1)'.The public tests cannot determine if your code satisfies these requirements. Verify your code manually."
        }
       ],
       "scored": true,
       "setup": "",
       "teardown": "",
       "type": "doctest"
      }
     ]
    },
    "general_deductions": {
     "name": "general_deductions",
     "points": 0,
     "suites": [
      {
       "cases": [
        {
         "code": ">>> \n>>> public_tests.rubric_check('general_deductions: Outputs not visible/did not save the notebook file prior to running the cell containing \"export\". We cannot see your output if you do not save before generating the zip file.')\nAll test cases passed!\n",
         "hidden": false,
         "locked": false,
         "success_message": "Note that the Gradescope autograder will deduct points if your code fails the following rubric point - 'Outputs not visible/did not save the notebook file prior to running the cell containing \"export\". We cannot see your output if you do not save before generating the zip file. (-3)'.The public tests cannot determine if your code satisfies these requirements. Verify your code manually."
        },
        {
         "code": ">>> \n>>> public_tests.rubric_check('general_deductions: Used concepts/modules such as csv.DictReader and pandas not covered in class yet. Note that built-in functions that you have been introduced to can be used.')\nAll test cases passed!\n",
         "hidden": false,
         "locked": false,
         "success_message": "Note that the Gradescope autograder will deduct points if your code fails the following rubric point - 'Used concepts/modules such as csv.DictReader and pandas not covered in class yet. Note that built-in functions that you have been introduced to can be used. (-3)'.The public tests cannot determine if your code satisfies these requirements. Verify your code manually."
        },
        {
         "code": ">>> \n>>> public_tests.rubric_check('general_deductions: Used bare try/except blocks without explicitly specifying the type of exceptions that need to be caught')\nAll test cases passed!\n",
         "hidden": false,
         "locked": false,
         "success_message": "Note that the Gradescope autograder will deduct points if your code fails the following rubric point - 'Used bare try/except blocks without explicitly specifying the type of exceptions that need to be caught (-3)'.The public tests cannot determine if your code satisfies these requirements. Verify your code manually."
        },
        {
         "code": ">>> \n>>> public_tests.rubric_check('general_deductions: Large outputs such as stars_dict or planets_list are displayed in the notebook.')\nAll test cases passed!\n",
         "hidden": false,
         "locked": false,
         "success_message": "Note that the Gradescope autograder will deduct points if your code fails the following rubric point - 'Large outputs such as stars_dict or planets_list are displayed in the notebook. (-3)'.The public tests cannot determine if your code satisfies these requirements. Verify your code manually."
        },
        {
         "code": ">>> \n>>> public_tests.rubric_check('general_deductions: Import statements are not mentioned in the required cell at the top of the notebook.')\nAll test cases passed!\n",
         "hidden": false,
         "locked": false,
         "success_message": "Note that the Gradescope autograder will deduct points if your code fails the following rubric point - 'Import statements are not mentioned in the required cell at the top of the notebook. (-1)'.The public tests cannot determine if your code satisfies these requirements. Verify your code manually."
        }
       ],
       "scored": true,
       "setup": "",
       "teardown": "",
       "type": "doctest"
      }
     ]
    },
    "get_planets": {
     "name": "get_planets",
     "points": 0,
     "suites": [
      {
       "cases": [
        {
         "code": ">>> \n>>> public_tests.rubric_check('get_planets: function logic is incorrect')\nAll test cases passed!\n",
         "hidden": false,
         "locked": false,
         "success_message": "Note that the Gradescope autograder will deduct points if your code fails the following rubric point - 'function logic is incorrect (-2)'.The public tests cannot determine if your code satisfies these requirements. Verify your code manually."
        },
        {
         "code": ">>> \n>>> public_tests.rubric_check('get_planets: hardcoded the name of directory inside the function instead of passing it as a part of the input argument')\nAll test cases passed!\n",
         "hidden": false,
         "locked": false,
         "success_message": "Note that the Gradescope autograder will deduct points if your code fails the following rubric point - 'hardcoded the name of directory inside the function instead of passing it as a part of the input argument (-1)'.The public tests cannot determine if your code satisfies these requirements. Verify your code manually."
        },
        {
         "code": ">>> \n>>> public_tests.rubric_check('get_planets: function is called more than twice with the same dataset')\nAll test cases passed!\n",
         "hidden": false,
         "locked": false,
         "success_message": "Note that the Gradescope autograder will deduct points if your code fails the following rubric point - 'function is called more than twice with the same dataset (-1)'.The public tests cannot determine if your code satisfies these requirements. Verify your code manually."
        },
        {
         "code": ">>> \n>>> public_tests.rubric_check('get_planets: `planet_cell` function is not used')\nAll test cases passed!\n",
         "hidden": false,
         "locked": false,
         "success_message": "Note that the Gradescope autograder will deduct points if your code fails the following rubric point - '`planet_cell` function is not used (-1)'.The public tests cannot determine if your code satisfies these requirements. Verify your code manually."
        },
        {
         "code": ">>> \n>>> public_tests.rubric_check('get_planets: function is defined more than once')\nAll test cases passed!\n",
         "hidden": false,
         "locked": false,
         "success_message": "Note that the Gradescope autograder will deduct points if your code fails the following rubric point - 'function is defined more than once (-3)'.The public tests cannot determine if your code satisfies these requirements. Verify your code manually."
        }
       ],
       "scored": true,
       "setup": "",
       "teardown": "",
       "type": "doctest"
      }
     ]
    },
    "get_stars": {
     "name": "get_stars",
     "points": 0,
     "suites": [
      {
       "cases": [
        {
         "code": ">>> \n>>> public_tests.rubric_check('get_stars: function logic is incorrect')\nAll test cases passed!\n",
         "hidden": false,
         "locked": false,
         "success_message": "Note that the Gradescope autograder will deduct points if your code fails the following rubric point - 'function logic is incorrect (-2)'.The public tests cannot determine if your code satisfies these requirements. Verify your code manually."
        },
        {
         "code": ">>> \n>>> public_tests.rubric_check('get_stars: hardcoded the name of directory inside the function instead of passing it as a part of the input argument')\nAll test cases passed!\n",
         "hidden": false,
         "locked": false,
         "success_message": "Note that the Gradescope autograder will deduct points if your code fails the following rubric point - 'hardcoded the name of directory inside the function instead of passing it as a part of the input argument (-1)'.The public tests cannot determine if your code satisfies these requirements. Verify your code manually."
        },
        {
         "code": ">>> \n>>> public_tests.rubric_check('get_stars: function is called more than twice with the same dataset')\nAll test cases passed!\n",
         "hidden": false,
         "locked": false,
         "success_message": "Note that the Gradescope autograder will deduct points if your code fails the following rubric point - 'function is called more than twice with the same dataset (-1)'.The public tests cannot determine if your code satisfies these requirements. Verify your code manually."
        },
        {
         "code": ">>> \n>>> public_tests.rubric_check('get_stars: `star_cell` function is not used')\nAll test cases passed!\n",
         "hidden": false,
         "locked": false,
         "success_message": "Note that the Gradescope autograder will deduct points if your code fails the following rubric point - '`star_cell` function is not used (-1)'.The public tests cannot determine if your code satisfies these requirements. Verify your code manually."
        },
        {
         "code": ">>> \n>>> public_tests.rubric_check('get_stars: function is defined more than once')\nAll test cases passed!\n",
         "hidden": false,
         "locked": false,
         "success_message": "Note that the Gradescope autograder will deduct points if your code fails the following rubric point - 'function is defined more than once (-1)'.The public tests cannot determine if your code satisfies these requirements. Verify your code manually."
        }
       ],
       "scored": true,
       "setup": "",
       "teardown": "",
       "type": "doctest"
      }
     ]
    },
    "planet_cell": {
     "name": "planet_cell",
     "points": 0,
     "suites": [
      {
       "cases": [
        {
         "code": ">>> \n>>> public_tests.rubric_check('planet_cell: function does not typecast values based on columns')\nAll test cases passed!\n",
         "hidden": false,
         "locked": false,
         "success_message": "Note that the Gradescope autograder will deduct points if your code fails the following rubric point - 'function does not typecast values based on columns (-1)'.The public tests cannot determine if your code satisfies these requirements. Verify your code manually."
        },
        {
         "code": ">>> \n>>> public_tests.rubric_check('planet_cell: column indices are hardcoded instead of using column names')\nAll test cases passed!\n",
         "hidden": false,
         "locked": false,
         "success_message": "Note that the Gradescope autograder will deduct points if your code fails the following rubric point - 'column indices are hardcoded instead of using column names (-1)'.The public tests cannot determine if your code satisfies these requirements. Verify your code manually."
        },
        {
         "code": ">>> \n>>> public_tests.rubric_check('planet_cell: boolean values are not typecasted correctly')\nAll test cases passed!\n",
         "hidden": false,
         "locked": false,
         "success_message": "Note that the Gradescope autograder will deduct points if your code fails the following rubric point - 'boolean values are not typecasted correctly (-1)'.The public tests cannot determine if your code satisfies these requirements. Verify your code manually."
        },
        {
         "code": ">>> \n>>> public_tests.rubric_check('planet_cell: function logic is incorrect')\nAll test cases passed!\n",
         "hidden": false,
         "locked": false,
         "success_message": "Note that the Gradescope autograder will deduct points if your code fails the following rubric point - 'function logic is incorrect (-1)'.The public tests cannot determine if your code satisfies these requirements. Verify your code manually."
        },
        {
         "code": ">>> \n>>> public_tests.rubric_check('planet_cell: function is defined more than once')\nAll test cases passed!\n",
         "hidden": false,
         "locked": false,
         "success_message": "Note that the Gradescope autograder will deduct points if your code fails the following rubric point - 'function is defined more than once (-1)'.The public tests cannot determine if your code satisfies these requirements. Verify your code manually."
        }
       ],
       "scored": true,
       "setup": "",
       "teardown": "",
       "type": "doctest"
      }
     ]
    },
    "planets_list": {
     "name": "planets_list",
     "points": 0,
     "suites": [
      {
       "cases": [
        {
         "code": ">>> \n>>> public_tests.rubric_check('planets_list: data structure is defined incorrectly')\nAll test cases passed!\n",
         "hidden": false,
         "locked": false,
         "success_message": "Note that the Gradescope autograder will deduct points if your code fails the following rubric point - 'data structure is defined incorrectly (-2)'.The public tests cannot determine if your code satisfies these requirements. Verify your code manually."
        },
        {
         "code": ">>> \n>>> public_tests.rubric_check('planets_list: `get_planets` function is not used')\nAll test cases passed!\n",
         "hidden": false,
         "locked": false,
         "success_message": "Note that the Gradescope autograder will deduct points if your code fails the following rubric point - '`get_planets` function is not used (-1)'.The public tests cannot determine if your code satisfies these requirements. Verify your code manually."
        },
        {
         "code": ">>> \n>>> public_tests.rubric_check('planets_list: paths are hardcoded using slashes')\nAll test cases passed!\n",
         "hidden": false,
         "locked": false,
         "success_message": "Note that the Gradescope autograder will deduct points if your code fails the following rubric point - 'paths are hardcoded using slashes (-1)'.The public tests cannot determine if your code satisfies these requirements. Verify your code manually."
        }
       ],
       "scored": true,
       "setup": "",
       "teardown": "",
       "type": "doctest"
      }
     ]
    },
    "q1": {
     "name": "q1",
     "points": 0,
     "suites": [
      {
       "cases": [
        {
         "code": ">>> public_tests.check('q1', files_in_data)\nAll test cases passed!\n",
         "hidden": false,
         "locked": false
        },
        {
         "code": ">>> \n>>> public_tests.rubric_check('q1: answer is not sorted explicitly')\nAll test cases passed!\n",
         "hidden": false,
         "locked": false,
         "success_message": "Note that the Gradescope autograder will deduct points if your code fails the following rubric point - 'answer is not sorted explicitly (-2)'.The public tests cannot determine if your code satisfies these requirements. Verify your code manually."
        },
        {
         "code": ">>> \n>>> public_tests.rubric_check('q1: answer does not remove all files and directories that start with `.`')\nAll test cases passed!\n",
         "hidden": false,
         "locked": false,
         "success_message": "Note that the Gradescope autograder will deduct points if your code fails the following rubric point - 'answer does not remove all files and directories that start with `.` (-1)'.The public tests cannot determine if your code satisfies these requirements. Verify your code manually."
        }
       ],
       "scored": true,
       "setup": "",
       "teardown": "",
       "type": "doctest"
      }
     ]
    },
    "q10": {
     "name": "q10",
     "points": 0,
     "suites": [
      {
       "cases": [
        {
         "code": ">>> public_tests.check('q10', biggest_star)\nAll test cases passed!\n",
         "hidden": false,
         "locked": false
        },
        {
         "code": ">>> \n>>> public_tests.rubric_check('q10: incorrect logic is used to answer')\nAll test cases passed!\n",
         "hidden": false,
         "locked": false,
         "success_message": "Note that the Gradescope autograder will deduct points if your code fails the following rubric point - 'incorrect logic is used to answer (-1)'.The public tests cannot determine if your code satisfies these requirements. Verify your code manually."
        },
        {
         "code": ">>> \n>>> public_tests.rubric_check('q10: `stars_dict` data structure is not used to answer')\nAll test cases passed!\n",
         "hidden": false,
         "locked": false,
         "success_message": "Note that the Gradescope autograder will deduct points if your code fails the following rubric point - '`stars_dict` data structure is not used to answer (-1)'.The public tests cannot determine if your code satisfies these requirements. Verify your code manually."
        },
        {
         "code": ">>> public_tests.rubric_check('q10: public tests')\nAll test cases passed!\n",
         "hidden": false,
         "locked": false
        }
       ],
       "scored": true,
       "setup": "",
       "teardown": "",
       "type": "doctest"
      }
     ]
    },
    "q11": {
     "name": "q11",
     "points": 0,
     "suites": [
      {
       "cases": [
        {
         "code": ">>> public_tests.check('q11', avg_age_kepler)\nAll test cases passed!\n",
         "hidden": false,
         "locked": false
        },
        {
         "code": ">>> \n>>> public_tests.rubric_check('q11: answer does not check for only stars that start with `Kepler`')\nAll test cases passed!\n",
         "hidden": false,
         "locked": false,
         "success_message": "Note that the Gradescope autograder will deduct points if your code fails the following rubric point - 'answer does not check for only stars that start with `Kepler` (-1)'.The public tests cannot determine if your code satisfies these requirements. Verify your code manually."
        },
        {
         "code": ">>> \n>>> public_tests.rubric_check('q11: incorrect logic is used to answer')\nAll test cases passed!\n",
         "hidden": false,
         "locked": false,
         "success_message": "Note that the Gradescope autograder will deduct points if your code fails the following rubric point - 'incorrect logic is used to answer (-1)'.The public tests cannot determine if your code satisfies these requirements. Verify your code manually."
        },
        {
         "code": ">>> \n>>> public_tests.rubric_check('q11: `stars_dict` data structure is not used to answer')\nAll test cases passed!\n",
         "hidden": false,
         "locked": false,
         "success_message": "Note that the Gradescope autograder will deduct points if your code fails the following rubric point - '`stars_dict` data structure is not used to answer (-1)'.The public tests cannot determine if your code satisfies these requirements. Verify your code manually."
        }
       ],
       "scored": true,
       "setup": "",
       "teardown": "",
       "type": "doctest"
      }
     ]
    },
    "q12": {
     "name": "q12",
     "points": 0,
     "suites": [
      {
       "cases": [
        {
         "code": ">>> public_tests.check('q12', fifth_planet)\nAll test cases passed!\n",
         "hidden": false,
         "locked": false
        },
        {
         "code": ">>> \n>>> public_tests.rubric_check('q12: `planet_cell` function is not used to answer')\nAll test cases passed!\n",
         "hidden": false,
         "locked": false,
         "success_message": "Note that the Gradescope autograder will deduct points if your code fails the following rubric point - '`planet_cell` function is not used to answer (-1)'.The public tests cannot determine if your code satisfies these requirements. Verify your code manually."
        },
        {
         "code": ">>> \n>>> public_tests.rubric_check('q12: `mapping_1_json` data structure is not used to answer')\nAll test cases passed!\n",
         "hidden": false,
         "locked": false,
         "success_message": "Note that the Gradescope autograder will deduct points if your code fails the following rubric point - '`mapping_1_json` data structure is not used to answer (-1)'.The public tests cannot determine if your code satisfies these requirements. Verify your code manually."
        },
        {
         "code": ">>> \n>>> public_tests.rubric_check('q12: answer unnecessarily iterates over the entire dataset')\nAll test cases passed!\n",
         "hidden": false,
         "locked": false,
         "success_message": "Note that the Gradescope autograder will deduct points if your code fails the following rubric point - 'answer unnecessarily iterates over the entire dataset (-1)'.The public tests cannot determine if your code satisfies these requirements. Verify your code manually."
        },
        {
         "code": ">>> \n>>> public_tests.rubric_check('q12: paths are hardcoded using slashes')\nAll test cases passed!\n",
         "hidden": false,
         "locked": false,
         "success_message": "Note that the Gradescope autograder will deduct points if your code fails the following rubric point - 'paths are hardcoded using slashes (-1)'.The public tests cannot determine if your code satisfies these requirements. Verify your code manually."
        }
       ],
       "scored": true,
       "setup": "",
       "teardown": "",
       "type": "doctest"
      }
     ]
    },
    "q13": {
     "name": "q13",
     "points": 0,
     "suites": [
      {
       "cases": [
        {
         "code": ">>> public_tests.check('q13', last_five_planets_1)\nAll test cases passed!\n",
         "hidden": false,
         "locked": false
        },
        {
         "code": ">>> \n>>> public_tests.rubric_check('q13: `get_planets` function is not used to answer')\nAll test cases passed!\n",
         "hidden": false,
         "locked": false,
         "success_message": "Note that the Gradescope autograder will deduct points if your code fails the following rubric point - '`get_planets` function is not used to answer (-1)'.The public tests cannot determine if your code satisfies these requirements. Verify your code manually."
        },
        {
         "code": ">>> \n>>> public_tests.rubric_check('q13: paths are hardcoded using slashes')\nAll test cases passed!\n",
         "hidden": false,
         "locked": false,
         "success_message": "Note that the Gradescope autograder will deduct points if your code fails the following rubric point - 'paths are hardcoded using slashes (-1)'.The public tests cannot determine if your code satisfies these requirements. Verify your code manually."
        },
        {
         "code": ">>> public_tests.rubric_check('q13: public tests')\nAll test cases passed!\n",
         "hidden": false,
         "locked": false
        }
       ],
       "scored": true,
       "setup": "",
       "teardown": "",
       "type": "doctest"
      }
     ]
    },
    "q14": {
     "name": "q14",
     "points": 0,
     "suites": [
      {
       "cases": [
        {
         "code": ">>> public_tests.check('q14', controversial_planets)\nAll test cases passed!\n",
         "hidden": false,
         "locked": false
        },
        {
         "code": ">>> \n>>> public_tests.rubric_check('q14: incorrect logic is used to answer')\nAll test cases passed!\n",
         "hidden": false,
         "locked": false,
         "success_message": "Note that the Gradescope autograder will deduct points if your code fails the following rubric point - 'incorrect logic is used to answer (-1)'.The public tests cannot determine if your code satisfies these requirements. Verify your code manually."
        },
        {
         "code": ">>> \n>>> public_tests.rubric_check('q14: `get_planets` function is not used to answer')\nAll test cases passed!\n",
         "hidden": false,
         "locked": false,
         "success_message": "Note that the Gradescope autograder will deduct points if your code fails the following rubric point - '`get_planets` function is not used to answer (-1)'.The public tests cannot determine if your code satisfies these requirements. Verify your code manually."
        },
        {
         "code": ">>> \n>>> public_tests.rubric_check('q14: paths are hardcoded using slashes')\nAll test cases passed!\n",
         "hidden": false,
         "locked": false,
         "success_message": "Note that the Gradescope autograder will deduct points if your code fails the following rubric point - 'paths are hardcoded using slashes (-1)'.The public tests cannot determine if your code satisfies these requirements. Verify your code manually."
        }
       ],
       "scored": true,
       "setup": "",
       "teardown": "",
       "type": "doctest"
      }
     ]
    },
    "q15": {
     "name": "q15",
     "points": 0,
     "suites": [
      {
       "cases": [
        {
         "code": ">>> public_tests.check('q15', last_five_planets_4)\nAll test cases passed!\n",
         "hidden": false,
         "locked": false
        },
        {
         "code": ">>> \n>>> public_tests.rubric_check('q15: `get_planets` function is not used to answer')\nAll test cases passed!\n",
         "hidden": false,
         "locked": false,
         "success_message": "Note that the Gradescope autograder will deduct points if your code fails the following rubric point - '`get_planets` function is not used to answer (-1)'.The public tests cannot determine if your code satisfies these requirements. Verify your code manually."
        },
        {
         "code": ">>> \n>>> public_tests.rubric_check('q15: paths are hardcoded using slashes')\nAll test cases passed!\n",
         "hidden": false,
         "locked": false,
         "success_message": "Note that the Gradescope autograder will deduct points if your code fails the following rubric point - 'paths are hardcoded using slashes (-1)'.The public tests cannot determine if your code satisfies these requirements. Verify your code manually."
        },
        {
         "code": ">>> public_tests.rubric_check('q15: public tests')\nAll test cases passed!\n",
         "hidden": false,
         "locked": false
        }
       ],
       "scored": true,
       "setup": "",
       "teardown": "",
       "type": "doctest"
      }
     ]
    },
    "q16": {
     "name": "q16",
     "points": 0,
     "suites": [
      {
       "cases": [
        {
         "code": ">>> public_tests.check('q16', planets_5020_5025)\nAll test cases passed!\n",
         "hidden": false,
         "locked": false
        },
        {
         "code": ">>> \n>>> public_tests.rubric_check('q16: `planets_list` data structure is not used to answer')\nAll test cases passed!\n",
         "hidden": false,
         "locked": false,
         "success_message": "Note that the Gradescope autograder will deduct points if your code fails the following rubric point - '`planets_list` data structure is not used to answer (-2)'.The public tests cannot determine if your code satisfies these requirements. Verify your code manually."
        }
       ],
       "scored": true,
       "setup": "",
       "teardown": "",
       "type": "doctest"
      }
     ]
    },
    "q17": {
     "name": "q17",
     "points": 0,
     "suites": [
      {
       "cases": [
        {
         "code": ">>> public_tests.check('q17', planets_disc_2023)\nAll test cases passed!\n",
         "hidden": false,
         "locked": false
        },
        {
         "code": ">>> \n>>> public_tests.rubric_check('q17: incorrect comparison operator is used')\nAll test cases passed!\n",
         "hidden": false,
         "locked": false,
         "success_message": "Note that the Gradescope autograder will deduct points if your code fails the following rubric point - 'incorrect comparison operator is used (-1)'.The public tests cannot determine if your code satisfies these requirements. Verify your code manually."
        },
        {
         "code": ">>> \n>>> public_tests.rubric_check('q17: incorrect logic is used to answer')\nAll test cases passed!\n",
         "hidden": false,
         "locked": false,
         "success_message": "Note that the Gradescope autograder will deduct points if your code fails the following rubric point - 'incorrect logic is used to answer (-1)'.The public tests cannot determine if your code satisfies these requirements. Verify your code manually."
        },
        {
         "code": ">>> \n>>> public_tests.rubric_check('q17: `planets_list` data structure is not used to answer')\nAll test cases passed!\n",
         "hidden": false,
         "locked": false,
         "success_message": "Note that the Gradescope autograder will deduct points if your code fails the following rubric point - '`planets_list` data structure is not used to answer (-1)'.The public tests cannot determine if your code satisfies these requirements. Verify your code manually."
        }
       ],
       "scored": true,
       "setup": "",
       "teardown": "",
       "type": "doctest"
      }
     ]
    },
    "q18": {
     "name": "q18",
     "points": 0,
     "suites": [
      {
       "cases": [
        {
         "code": ">>> public_tests.check('q18', toi_2022_c_star)\nAll test cases passed!\n",
         "hidden": false,
         "locked": false
        },
        {
         "code": ">>> \n>>> public_tests.rubric_check('q18: `planets_list` and `stars_dict` data structures are not used to answer')\nAll test cases passed!\n",
         "hidden": false,
         "locked": false,
         "success_message": "Note that the Gradescope autograder will deduct points if your code fails the following rubric point - '`planets_list` and `stars_dict` data structures are not used to answer (-2)'.The public tests cannot determine if your code satisfies these requirements. Verify your code manually."
        },
        {
         "code": ">>> \n>>> public_tests.rubric_check('q18: did not exit loop and instead iterated further after finding the answer')\nAll test cases passed!\n",
         "hidden": false,
         "locked": false,
         "success_message": "Note that the Gradescope autograder will deduct points if your code fails the following rubric point - 'did not exit loop and instead iterated further after finding the answer (-1)'.The public tests cannot determine if your code satisfies these requirements. Verify your code manually."
        },
        {
         "code": ">>> public_tests.rubric_check('q18: public tests')\nAll test cases passed!\n",
         "hidden": false,
         "locked": false
        }
       ],
       "scored": true,
       "setup": "",
       "teardown": "",
       "type": "doctest"
      }
     ]
    },
    "q19": {
     "name": "q19",
     "points": 0,
     "suites": [
      {
       "cases": [
        {
         "code": ">>> public_tests.check('q19', avg_planet_radius_big_stars)\nAll test cases passed!\n",
         "hidden": false,
         "locked": false
        },
        {
         "code": ">>> \n>>> public_tests.rubric_check('q19: incorrect comparison operator is used')\nAll test cases passed!\n",
         "hidden": false,
         "locked": false,
         "success_message": "Note that the Gradescope autograder will deduct points if your code fails the following rubric point - 'incorrect comparison operator is used (-1)'.The public tests cannot determine if your code satisfies these requirements. Verify your code manually."
        },
        {
         "code": ">>> \n>>> public_tests.rubric_check('q19: incorrect logic is used to answer')\nAll test cases passed!\n",
         "hidden": false,
         "locked": false,
         "success_message": "Note that the Gradescope autograder will deduct points if your code fails the following rubric point - 'incorrect logic is used to answer (-1)'.The public tests cannot determine if your code satisfies these requirements. Verify your code manually."
        },
        {
         "code": ">>> \n>>> public_tests.rubric_check('q19: `planets_list` and `stars_dict` data structures are not used to answer')\nAll test cases passed!\n",
         "hidden": false,
         "locked": false,
         "success_message": "Note that the Gradescope autograder will deduct points if your code fails the following rubric point - '`planets_list` and `stars_dict` data structures are not used to answer (-2)'.The public tests cannot determine if your code satisfies these requirements. Verify your code manually."
        },
        {
         "code": ">>> public_tests.rubric_check('q19: public tests')\nAll test cases passed!\n",
         "hidden": false,
         "locked": false
        }
       ],
       "scored": true,
       "setup": "",
       "teardown": "",
       "type": "doctest"
      }
     ]
    },
    "q2": {
     "name": "q2",
     "points": 0,
     "suites": [
      {
       "cases": [
        {
         "code": ">>> public_tests.check('q2', file_paths)\nAll test cases passed!\n",
         "hidden": false,
         "locked": false
        },
        {
         "code": ">>> \n>>> public_tests.rubric_check('q2: recomputed variable defined in Question 1, or the answer is not sorted explicitly')\nAll test cases passed!\n",
         "hidden": false,
         "locked": false,
         "success_message": "Note that the Gradescope autograder will deduct points if your code fails the following rubric point - 'recomputed variable defined in Question 1, or the answer is not sorted explicitly (-1)'.The public tests cannot determine if your code satisfies these requirements. Verify your code manually."
        },
        {
         "code": ">>> \n>>> public_tests.rubric_check('q2: answer does not remove all files and directories that start with `.`')\nAll test cases passed!\n",
         "hidden": false,
         "locked": false,
         "success_message": "Note that the Gradescope autograder will deduct points if your code fails the following rubric point - 'answer does not remove all files and directories that start with `.` (-1)'.The public tests cannot determine if your code satisfies these requirements. Verify your code manually."
        },
        {
         "code": ">>> \n>>> public_tests.rubric_check('q2: paths are hardcoded using slashes')\nAll test cases passed!\n",
         "hidden": false,
         "locked": false,
         "success_message": "Note that the Gradescope autograder will deduct points if your code fails the following rubric point - 'paths are hardcoded using slashes (-1)'.The public tests cannot determine if your code satisfies these requirements. Verify your code manually."
        }
       ],
       "scored": true,
       "setup": "",
       "teardown": "",
       "type": "doctest"
      }
     ]
    },
    "q20": {
     "name": "q20",
     "points": 0,
     "suites": [
      {
       "cases": [
        {
         "code": ">>> public_tests.check('q20', youngest_star_planets)\nAll test cases passed!\n",
         "hidden": false,
         "locked": false
        },
        {
         "code": ">>> \n>>> public_tests.rubric_check('q20: answer does not include all Planets that orbit the Star')\nAll test cases passed!\n",
         "hidden": false,
         "locked": false,
         "success_message": "Note that the Gradescope autograder will deduct points if your code fails the following rubric point - 'answer does not include all Planets that orbit the Star (-1)'.The public tests cannot determine if your code satisfies these requirements. Verify your code manually."
        },
        {
         "code": ">>> \n>>> public_tests.rubric_check('q20: incorrect logic is used to answer')\nAll test cases passed!\n",
         "hidden": false,
         "locked": false,
         "success_message": "Note that the Gradescope autograder will deduct points if your code fails the following rubric point - 'incorrect logic is used to answer (-1)'.The public tests cannot determine if your code satisfies these requirements. Verify your code manually."
        },
        {
         "code": ">>> \n>>> public_tests.rubric_check('q20: `planets_list` and `stars_dict` data structures are not used to answer')\nAll test cases passed!\n",
         "hidden": false,
         "locked": false,
         "success_message": "Note that the Gradescope autograder will deduct points if your code fails the following rubric point - '`planets_list` and `stars_dict` data structures are not used to answer (-2)'.The public tests cannot determine if your code satisfies these requirements. Verify your code manually."
        },
        {
         "code": ">>> public_tests.rubric_check('q20: public tests')\nAll test cases passed!\n",
         "hidden": false,
         "locked": false
        }
       ],
       "scored": true,
       "setup": "",
       "teardown": "",
       "type": "doctest"
      }
     ]
    },
    "q3": {
     "name": "q3",
     "points": 0,
     "suites": [
      {
       "cases": [
        {
         "code": ">>> public_tests.check('q3', csv_file_paths)\nAll test cases passed!\n",
         "hidden": false,
         "locked": false
        },
        {
         "code": ">>> \n>>> public_tests.rubric_check('q3: recomputed variable defined in Question 1 or Question 2, or the answer is not sorted explicitly')\nAll test cases passed!\n",
         "hidden": false,
         "locked": false,
         "success_message": "Note that the Gradescope autograder will deduct points if your code fails the following rubric point - 'recomputed variable defined in Question 1 or Question 2, or the answer is not sorted explicitly (-1)'.The public tests cannot determine if your code satisfies these requirements. Verify your code manually."
        },
        {
         "code": ">>> \n>>> public_tests.rubric_check('q3: answer does not remove all files and directories that start with `.`')\nAll test cases passed!\n",
         "hidden": false,
         "locked": false,
         "success_message": "Note that the Gradescope autograder will deduct points if your code fails the following rubric point - 'answer does not remove all files and directories that start with `.` (-1)'.The public tests cannot determine if your code satisfies these requirements. Verify your code manually."
        },
        {
         "code": ">>> \n>>> public_tests.rubric_check('q3: answer does not check only for files that end with `.csv`')\nAll test cases passed!\n",
         "hidden": false,
         "locked": false,
         "success_message": "Note that the Gradescope autograder will deduct points if your code fails the following rubric point - 'answer does not check only for files that end with `.csv` (-1)'.The public tests cannot determine if your code satisfies these requirements. Verify your code manually."
        },
        {
         "code": ">>> \n>>> public_tests.rubric_check('q3: paths are hardcoded using slashes')\nAll test cases passed!\n",
         "hidden": false,
         "locked": false,
         "success_message": "Note that the Gradescope autograder will deduct points if your code fails the following rubric point - 'paths are hardcoded using slashes (-1)'.The public tests cannot determine if your code satisfies these requirements. Verify your code manually."
        }
       ],
       "scored": true,
       "setup": "",
       "teardown": "",
       "type": "doctest"
      }
     ]
    },
    "q4": {
     "name": "q4",
     "points": 0,
     "suites": [
      {
       "cases": [
        {
         "code": ">>> public_tests.check('q4', stars_paths)\nAll test cases passed!\n",
         "hidden": false,
         "locked": false
        },
        {
         "code": ">>> \n>>> public_tests.rubric_check('q4: recomputed variable defined in Question 1 or Question 2, or the answer is not sorted explicitly')\nAll test cases passed!\n",
         "hidden": false,
         "locked": false,
         "success_message": "Note that the Gradescope autograder will deduct points if your code fails the following rubric point - 'recomputed variable defined in Question 1 or Question 2, or the answer is not sorted explicitly (-1)'.The public tests cannot determine if your code satisfies these requirements. Verify your code manually."
        },
        {
         "code": ">>> \n>>> public_tests.rubric_check('q4: answer does not remove all files and directories that start with `.`')\nAll test cases passed!\n",
         "hidden": false,
         "locked": false,
         "success_message": "Note that the Gradescope autograder will deduct points if your code fails the following rubric point - 'answer does not remove all files and directories that start with `.` (-1)'.The public tests cannot determine if your code satisfies these requirements. Verify your code manually."
        },
        {
         "code": ">>> \n>>> public_tests.rubric_check('q4: answer does not check for only files that start with `stars`')\nAll test cases passed!\n",
         "hidden": false,
         "locked": false,
         "success_message": "Note that the Gradescope autograder will deduct points if your code fails the following rubric point - 'answer does not check for only files that start with `stars` (-1)'.The public tests cannot determine if your code satisfies these requirements. Verify your code manually."
        },
        {
         "code": ">>> \n>>> public_tests.rubric_check('q4: paths are hardcoded using slashes')\nAll test cases passed!\n",
         "hidden": false,
         "locked": false,
         "success_message": "Note that the Gradescope autograder will deduct points if your code fails the following rubric point - 'paths are hardcoded using slashes (-1)'.The public tests cannot determine if your code satisfies these requirements. Verify your code manually."
        }
       ],
       "scored": true,
       "setup": "",
       "teardown": "",
       "type": "doctest"
      }
     ]
    },
    "q5": {
     "name": "q5",
     "points": 0,
     "suites": [
      {
       "cases": [
        {
         "code": ">>> public_tests.check('q5', third_star)\nAll test cases passed!\n",
         "hidden": false,
         "locked": false
        },
        {
         "code": ">>> \n>>> public_tests.rubric_check('q5: `star_cell` function is not used to answer')\nAll test cases passed!\n",
         "hidden": false,
         "locked": false,
         "success_message": "Note that the Gradescope autograder will deduct points if your code fails the following rubric point - '`star_cell` function is not used to answer (-1)'.The public tests cannot determine if your code satisfies these requirements. Verify your code manually."
        },
        {
         "code": ">>> \n>>> public_tests.rubric_check('q5: answer unnecessarily iterates over the entire dataset')\nAll test cases passed!\n",
         "hidden": false,
         "locked": false,
         "success_message": "Note that the Gradescope autograder will deduct points if your code fails the following rubric point - 'answer unnecessarily iterates over the entire dataset (-1)'.The public tests cannot determine if your code satisfies these requirements. Verify your code manually."
        },
        {
         "code": ">>> \n>>> public_tests.rubric_check('q5: paths are hardcoded using slashes')\nAll test cases passed!\n",
         "hidden": false,
         "locked": false,
         "success_message": "Note that the Gradescope autograder will deduct points if your code fails the following rubric point - 'paths are hardcoded using slashes (-1)'.The public tests cannot determine if your code satisfies these requirements. Verify your code manually."
        },
        {
         "code": ">>> public_tests.rubric_check('q5: public tests')\nAll test cases passed!\n",
         "hidden": false,
         "locked": false
        }
       ],
       "scored": true,
       "setup": "",
       "teardown": "",
       "type": "doctest"
      }
     ]
    },
    "q6": {
     "name": "q6",
     "points": 0,
     "suites": [
      {
       "cases": [
        {
         "code": ">>> public_tests.check('q6', dp_leo)\nAll test cases passed!\n",
         "hidden": false,
         "locked": false
        },
        {
         "code": ">>> \n>>> public_tests.rubric_check('q6: `stars_1_dict` data structure is not used to answer')\nAll test cases passed!\n",
         "hidden": false,
         "locked": false,
         "success_message": "Note that the Gradescope autograder will deduct points if your code fails the following rubric point - '`stars_1_dict` data structure is not used to answer (-1)'.The public tests cannot determine if your code satisfies these requirements. Verify your code manually."
        },
        {
         "code": ">>> \n>>> public_tests.rubric_check('q6: paths are hardcoded using slashes')\nAll test cases passed!\n",
         "hidden": false,
         "locked": false,
         "success_message": "Note that the Gradescope autograder will deduct points if your code fails the following rubric point - 'paths are hardcoded using slashes (-1)'.The public tests cannot determine if your code satisfies these requirements. Verify your code manually."
        }
       ],
       "scored": true,
       "setup": "",
       "teardown": "",
       "type": "doctest"
      }
     ]
    },
    "q7": {
     "name": "q7",
     "points": 0,
     "suites": [
      {
       "cases": [
        {
         "code": ">>> public_tests.check('q7', avg_lum_stars_1)\nAll test cases passed!\n",
         "hidden": false,
         "locked": false
        },
        {
         "code": ">>> \n>>> public_tests.rubric_check('q7: incorrect logic is used to answer')\nAll test cases passed!\n",
         "hidden": false,
         "locked": false,
         "success_message": "Note that the Gradescope autograder will deduct points if your code fails the following rubric point - 'incorrect logic is used to answer (-1)'.The public tests cannot determine if your code satisfies these requirements. Verify your code manually."
        },
        {
         "code": ">>> \n>>> public_tests.rubric_check('q7: `stars_1_dict` data structure is not used to answer')\nAll test cases passed!\n",
         "hidden": false,
         "locked": false,
         "success_message": "Note that the Gradescope autograder will deduct points if your code fails the following rubric point - '`stars_1_dict` data structure is not used to answer (-1)'.The public tests cannot determine if your code satisfies these requirements. Verify your code manually."
        },
        {
         "code": ">>> public_tests.rubric_check('q7: public tests')\nAll test cases passed!\n",
         "hidden": false,
         "locked": false
        }
       ],
       "scored": true,
       "setup": "",
       "teardown": "",
       "type": "doctest"
      }
     ]
    },
    "q8": {
     "name": "q8",
     "points": 0,
     "suites": [
      {
       "cases": [
        {
         "code": ">>> public_tests.check('q8', avg_age_stars_2)\nAll test cases passed!\n",
         "hidden": false,
         "locked": false
        },
        {
         "code": ">>> \n>>> public_tests.rubric_check('q8: incorrect logic is used to answer')\nAll test cases passed!\n",
         "hidden": false,
         "locked": false,
         "success_message": "Note that the Gradescope autograder will deduct points if your code fails the following rubric point - 'incorrect logic is used to answer (-1)'.The public tests cannot determine if your code satisfies these requirements. Verify your code manually."
        },
        {
         "code": ">>> \n>>> public_tests.rubric_check('q8: `get_stars` function is not used to answer')\nAll test cases passed!\n",
         "hidden": false,
         "locked": false,
         "success_message": "Note that the Gradescope autograder will deduct points if your code fails the following rubric point - '`get_stars` function is not used to answer (-1)'.The public tests cannot determine if your code satisfies these requirements. Verify your code manually."
        },
        {
         "code": ">>> \n>>> public_tests.rubric_check('q8: paths are hardcoded using slashes')\nAll test cases passed!\n",
         "hidden": false,
         "locked": false,
         "success_message": "Note that the Gradescope autograder will deduct points if your code fails the following rubric point - 'paths are hardcoded using slashes (-1)'.The public tests cannot determine if your code satisfies these requirements. Verify your code manually."
        }
       ],
       "scored": true,
       "setup": "",
       "teardown": "",
       "type": "doctest"
      }
     ]
    },
    "q9": {
     "name": "q9",
     "points": 0,
     "suites": [
      {
       "cases": [
        {
         "code": ">>> public_tests.check('q9', kepler_220_temp)\nAll test cases passed!\n",
         "hidden": false,
         "locked": false
        },
        {
         "code": ">>> \n>>> public_tests.rubric_check('q9: `stars_dict` data structure is not used to answer')\nAll test cases passed!\n",
         "hidden": false,
         "locked": false,
         "success_message": "Note that the Gradescope autograder will deduct points if your code fails the following rubric point - '`stars_dict` data structure is not used to answer (-2)'.The public tests cannot determine if your code satisfies these requirements. Verify your code manually."
        }
       ],
       "scored": true,
       "setup": "",
       "teardown": "",
       "type": "doctest"
      }
     ]
    },
    "star_cell": {
     "name": "star_cell",
     "points": 0,
     "suites": [
      {
       "cases": [
        {
         "code": ">>> \n>>> public_tests.rubric_check('star_cell: function does not typecast values based on columns')\nAll test cases passed!\n",
         "hidden": false,
         "locked": false,
         "success_message": "Note that the Gradescope autograder will deduct points if your code fails the following rubric point - 'function does not typecast values based on columns (-1)'.The public tests cannot determine if your code satisfies these requirements. Verify your code manually."
        },
        {
         "code": ">>> \n>>> public_tests.rubric_check('star_cell: column indices are hardcoded instead of using column names')\nAll test cases passed!\n",
         "hidden": false,
         "locked": false,
         "success_message": "Note that the Gradescope autograder will deduct points if your code fails the following rubric point - 'column indices are hardcoded instead of using column names (-1)'.The public tests cannot determine if your code satisfies these requirements. Verify your code manually."
        },
        {
         "code": ">>> \n>>> public_tests.rubric_check('star_cell: function logic is incorrect')\nAll test cases passed!\n",
         "hidden": false,
         "locked": false,
         "success_message": "Note that the Gradescope autograder will deduct points if your code fails the following rubric point - 'function logic is incorrect (-1)'.The public tests cannot determine if your code satisfies these requirements. Verify your code manually."
        },
        {
         "code": ">>> \n>>> public_tests.rubric_check('star_cell: function is defined more than once')\nAll test cases passed!\n",
         "hidden": false,
         "locked": false,
         "success_message": "Note that the Gradescope autograder will deduct points if your code fails the following rubric point - 'function is defined more than once (-1)'.The public tests cannot determine if your code satisfies these requirements. Verify your code manually."
        }
       ],
       "scored": true,
       "setup": "",
       "teardown": "",
       "type": "doctest"
      }
     ]
    },
    "stars_dict": {
     "name": "stars_dict",
     "points": 0,
     "suites": [
      {
       "cases": [
        {
         "code": ">>> \n>>> public_tests.rubric_check('stars_dict: data structure is defined incorrectly')\nAll test cases passed!\n",
         "hidden": false,
         "locked": false,
         "success_message": "Note that the Gradescope autograder will deduct points if your code fails the following rubric point - 'data structure is defined incorrectly (-1)'.The public tests cannot determine if your code satisfies these requirements. Verify your code manually."
        },
        {
         "code": ">>> \n>>> public_tests.rubric_check('stars_dict: `get_stars` function is not used')\nAll test cases passed!\n",
         "hidden": false,
         "locked": false,
         "success_message": "Note that the Gradescope autograder will deduct points if your code fails the following rubric point - '`get_stars` function is not used (-1)'.The public tests cannot determine if your code satisfies these requirements. Verify your code manually."
        },
        {
         "code": ">>> \n>>> public_tests.rubric_check('stars_dict: `stars_paths` is not used to find paths of necessary files')\nAll test cases passed!\n",
         "hidden": false,
         "locked": false,
         "success_message": "Note that the Gradescope autograder will deduct points if your code fails the following rubric point - '`stars_paths` is not used to find paths of necessary files (-1)'.The public tests cannot determine if your code satisfies these requirements. Verify your code manually."
        }
       ],
       "scored": true,
       "setup": "",
       "teardown": "",
       "type": "doctest"
      }
     ]
    },
    "summary": {
     "name": "summary",
     "points": 127,
     "suites": [
      {
       "cases": [
        {
         "code": ">>> \n>>> public_tests.get_summary()\nTotal Score: 100/100\n",
         "hidden": false,
         "locked": false,
         "success_message": "Please submit your zip folder to Gradescope, and check your final score there. The Gradescope autograder will make deductions to your score based on the rubric."
        }
       ],
       "scored": true,
       "setup": "",
       "teardown": "",
       "type": "doctest"
      }
     ]
    }
   }
  },
  "vscode": {
   "interpreter": {
    "hash": "14da47bd65ade4b245ff2b2e979dfbf7dfc83de2bd52e30e561cd592f0ba2dfc"
   }
  }
 },
 "nbformat": 4,
 "nbformat_minor": 5
}
