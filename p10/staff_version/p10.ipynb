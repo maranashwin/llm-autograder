{
 "cells": [
  {
   "cell_type": "raw",
   "id": "4f024a3a",
   "metadata": {},
   "source": [
    "# ASSIGNMENT CONFIG\n",
    "solutions_pdf: false\n",
    "export_cell:\n",
    "    instructions: \"\"\n",
    "    pdf: false\n",
    "run_tests: false\n",
    "generate: true\n",
    "files:\n",
    "    - public_tests.py\n",
    "    - data\n",
    "    - README.md\n",
    "    - rubric.md\n",
    "    - images\n",
    "autograder_files:\n",
    "    - hidden"
   ]
  },
  {
   "cell_type": "code",
   "execution_count": 1,
   "id": "9ceb233f",
   "metadata": {
    "execution": {
     "iopub.execute_input": "2024-04-09T16:13:39.881614Z",
     "iopub.status.busy": "2024-04-09T16:13:39.881007Z",
     "iopub.status.idle": "2024-04-09T16:13:40.262952Z",
     "shell.execute_reply": "2024-04-09T16:13:40.262667Z"
    }
   },
   "outputs": [],
   "source": [
    "import public_tests"
   ]
  },
  {
   "cell_type": "code",
   "execution_count": 2,
   "id": "5b932bef",
   "metadata": {
    "execution": {
     "iopub.execute_input": "2024-04-09T16:13:40.264533Z",
     "iopub.status.busy": "2024-04-09T16:13:40.264404Z",
     "iopub.status.idle": "2024-04-09T16:13:40.265969Z",
     "shell.execute_reply": "2024-04-09T16:13:40.265780Z"
    }
   },
   "outputs": [],
   "source": [
    "# PLEASE FILL IN THE DETAILS\n",
    "# Enter none if you don't have a project partner\n",
    "# You will have to add your partner as a group member on Gradescope even after you fill this\n",
    "\n",
    "# project: p10\n",
    "# submitter: NETID1\n",
    "# partner: NETID2\n",
    "# hours: ???"
   ]
  },
  {
   "cell_type": "markdown",
   "id": "0fe8fc95",
   "metadata": {},
   "source": [
    "# Project 10: Stars and Planets"
   ]
  },
  {
   "cell_type": "markdown",
   "id": "b84d0bbd",
   "metadata": {},
   "source": [
    "## Learning Objectives:\n",
    "\n",
    "In this project, you will demonstrate how to:\n",
    "\n",
    "* use `os` module to get information of files in a directory,\n",
    "* use `os` module to get paths of files,\n",
    "* look up data between JSON and CSV files using unique keys,\n",
    "* read JSON and CSV files to store data to `namedTuple` objects,\n",
    "* clean up missing values and handle cases when the file is too corrupt to parse,\n",
    "\n",
    "Please go through [Lab-P10](https://git.doit.wisc.edu/cdis/cs/courses/cs220/cs220-s24-projects/-/tree/main/lab-p10) before working on this project. The lab introduces some useful techniques related to this project."
   ]
  },
  {
   "cell_type": "markdown",
   "id": "e0df7cca",
   "metadata": {},
   "source": [
    "<h2 style=\"color:red\">Warning (Note on Academic Misconduct):</h2>\n",
    "\n",
    "**IMPORTANT**: **P10 and P11 are two parts of the same data analysis.** You **cannot** switch project partners between these two projects. That is if you partner up with someone for P10, you have to sustain that partnership until the end of P11. Now may be a good time to review [our course policies](https://cs220.cs.wisc.edu/s24/syllabus.html).\n",
    "\n",
    "Under any circumstances, **no more than two students are allowed to work together on a project** as mentioned in the course policies. If your code is flagged by our code similarity detection tools, **both partners will be responsible** for sharing/copying the code, even if the code is shared/copied by one of the partners with/from other non-partner student(s). Note that each case of plagiarism will be reported to the Dean of Students with a zero grade on the project. **If you think that someone cannot be your project partner then don’t make that student your lab partner.**\n",
    "\n",
    "**<font color = \"red\">Project partners must submit only one copy of their project on Gradescope, but they must include the names of both partners.</font>**"
   ]
  },
  {
   "cell_type": "markdown",
   "id": "e495f863",
   "metadata": {},
   "source": [
    "## Testing your code:\n",
    "\n",
    "Along with this notebook, you must have downloaded the file `public_tests.py`. If you are curious about how we test your code, you can explore this file, and specifically the output of the function `get_expected_json`, to understand the expected answers to the questions."
   ]
  },
  {
   "cell_type": "markdown",
   "id": "4bda5cf6",
   "metadata": {},
   "source": [
    "## Setup:\n",
    "\n",
    "Before proceeding much further, download `data.zip` and extract it to a directory on your\n",
    "computer (using [Mac directions](http://osxdaily.com/2017/11/05/how-open-zip-file-mac/) or\n",
    "[Windows directions](https://support.microsoft.com/en-us/help/4028088/windows-zip-and-unzip-files)).\n",
    "\n",
    "You need to make sure that the project files are stored in the following structure:\n",
    "\n",
    "```\n",
    "+-- p10.ipynb\n",
    "+-- public_tests.py\n",
    "+-- data\n",
    "|   +-- .DS_Store\n",
    "|   +-- .ipynb_checkpoints\n",
    "|   +-- mapping_1.json\n",
    "|   +-- mapping_2.json\n",
    "|   +-- mapping_3.json\n",
    "|   +-- mapping_4.json\n",
    "|   +-- mapping_5.json\n",
    "|   +-- planets_1.csv\n",
    "|   +-- planets_2.csv\n",
    "|   +-- planets_3.csv\n",
    "|   +-- planets_4.csv\n",
    "|   +-- planets_5.csv\n",
    "|   +-- stars_1.csv\n",
    "|   +-- stars_2.csv\n",
    "|   +-- stars_3.csv\n",
    "|   +-- stars_4.csv\n",
    "|   +-- stars_5.csv\n",
    "```\n",
    "\n",
    "Make sure that the files inside `data.zip` are inside the `data` directory. If you place your files inside some other directory, then your code will **fail on Gradescope** even after passing local tests."
   ]
  },
  {
   "cell_type": "markdown",
   "id": "be737015",
   "metadata": {},
   "source": [
    "## Project Description:\n",
    "\n",
    "Cleaning data is an important part of a data scientist's work cycle. As you have already seen, the data we will be analyzing in P10 and P11 has been split up into 15 different files of different formats. Even worse, as you shall see later in this project, some of these files have been corrupted, and lots of data is missing. Unfortunately, in the real world, a lot of data that you will come across will be in rough shape, and it is your job to clean it up before you can analyze it. In P10, you will combine the data in these different files to create a few manageable data structures, which can be easily analyzed. In the process, you will also have to deal with broken CSV files (by skipping rows with broken data), and broken JSON files (by skipping the files entirely).\n",
    "\n",
    "After you create these data structures, in P11, you will dive deeper by analyzing this data and arrive at some exciting conclusions about various planets and stars outside our Solar System."
   ]
  },
  {
   "cell_type": "markdown",
   "id": "1989d5d8",
   "metadata": {},
   "source": [
    "## The Data:\n",
    "\n",
    "In P10 and P11, you will be studying stars and planets outside our Solar System using this dataset from the [NASA Exoplanet Archive](https://exoplanetarchive.ipac.caltech.edu/cgi-bin/TblView/nph-tblView?app=ExoTbls&config=PSCompPars). You will use Python to ask some interesting questions about the laws of the universe and explore the habitability of other planets in our universe. The raw data from the [NASA Exoplanet Archive](https://exoplanetarchive.ipac.caltech.edu/cgi-bin/TblView/nph-tblView?app=ExoTbls&config=PSCompPars) has been parsed and stored in multiple different files of different formats. You can find these files inside `data.zip`."
   ]
  },
  {
   "cell_type": "markdown",
   "id": "0fa6cb36",
   "metadata": {},
   "source": [
    "You can open each of these files using Microsoft Excel or some other Spreadsheet viewing software to see how the data is stored. For example, these are the first three rows of the file `stars_1.csv`:\n",
    "\n",
    "Star Name|Spectral Type|Stellar Effective Temperature [K]|Stellar Radius [Solar Radius]|Stellar Mass [Solar mass]|Stellar Luminosity [log(Solar)]|Stellar Surface Gravity [log10(cm/s**2)]|Stellar Age [Gyr]\n",
    "---|---|---|---|---|---|---|---\n",
    "11 Com|G8III|4874.00|13.76|2.09|1.978|2.45|\n",
    "11 UMi|K4III|4213.00|29.79|2.78|2.430|1.93|1.560\n",
    "14 And|K0III|4888.00|11.55|1.78|1.840|2.55|4.500\n",
    "\n",
    "As you might have already guessed, this file contains data on a number of *stars* outside our solar system along with some important statistics about these stars. The columns here are as follows:\n",
    "\n",
    "- `Star Name`: The **name** given to the star by the *International Astronomical Union*,\n",
    "- `Spectral Type`: The **Spectral Classification** of the star as per the *Morgan–Keenan (MK) system*,\n",
    "- `Stellar Effective Temperature [K]`: The **temperature** of a *black body* (in units of Kelvin) that would emit the *observed radiation* of the star,\n",
    "- `Stellar Radius [Solar Radius]`: The **radius** of the star (in units of the radius of the Sun),\n",
    "- `Stellar Mass [Solar mass]`: The **mass** of the star (in units of the mass of the Sun),\n",
    "- `Stellar Luminosity [log(Solar)]`: The *total* amount of **energy radiated** by the star **each second** (represented by the logarithm of the energy radiated by the Sun in each second),\n",
    "- `Stellar Surface Gravity [log10(cm/s**2)]`: The **acceleration due to the gravity** of the Star at its *surface* (represented by the logarithm of the acceleration measured in centimeter per second squared),\n",
    "- `Stellar Age [Gyr]`: The total **age** of the star (in units of Giga years, i.e., billions of years).\n",
    "\n",
    "The four other files `stars_2.csv`, `stars_3.csv`, `stars_4.csv`, and `stars_5.csv` also store similar data in the same format. At this stage of the project, it is alright if you do not understand what these columns mean - they will be explained to you when they become necessary (in P11)."
   ]
  },
  {
   "cell_type": "markdown",
   "id": "8f15162c",
   "metadata": {},
   "source": [
    "On the other hand, here are the first three rows of the file `planets_1.csv`:\n",
    "\n",
    "Planet Name|Discovery Method|Discovery Year|Controversial Flag|Orbital Period [days]|Planet Radius [Earth Radius]|Planet Mass [Earth Mass]|Orbit Semi-Major Axis [au]|Eccentricity|Equilibrium Temperature [K]|Insolation Flux [Earth Flux]\n",
    "---|---|---|---|---|---|---|---|---|---|---\n",
    "11 Com b|Radial Velocity|2007|0|323.21000000|12.200|4914.89849|1.178000|0.238000||\n",
    "11 UMi b|Radial Velocity|2009|0|516.21997000|12.300|4684.81420|1.530000|0.080000||\n",
    "14 And b|Radial Velocity|2008|0|186.76000000|13.100|1131.15130|0.775000|0.000000||\n",
    "\n",
    "This file contains data on a number of *planets* outside our solar system along with some important statistics about these planets. The columns here are as follows:\n",
    "\n",
    "- `Planet Name`: The **name** given to the planet by the *International Astronomical Union*,\n",
    "- `Discovery Method`: The **method** by which the planet was *discovered*,\n",
    "- `Discovery Year`: The **year** in which the planet was *discovered*,\n",
    "- `Controversial Flag`: Indicates whether the status of the discovered object as a planet was **disputed** at the time of discovery, \n",
    "- `Orbital Period [days]`: The amount of **time** (in units of days) it takes for the planet to **complete one orbit** around its star,\n",
    "- `Planet Radius [Earth Radius]`: The **radius** of the planet (in units of the radius of the Earth),\n",
    "- `Planet Mass [Earth Mass]`: The **mass** of the planet (in units of the mass of the Earth),\n",
    "- `Orbit Semi-Major Axis [au]`: The **semi-major axis** of the planet's elliptical **orbit** around its host star (in units of Astronomical Units),\n",
    "- `Eccentricity`: The **eccentricity** of the planet's orbit around its host star,\n",
    "- `Equilibrium Temperature [K]`: The **temperature** of the planet (in units of Kelvin) if it were a *black body* heated only by its host star,\n",
    "- `Insolation Flux [Earth Flux]`:  The amount of **radiation** the planet received from its host star **per unit of area** (in units of the Insolation Flux of the Earth from the Sun).\n",
    "\n",
    "The four other files `planets_2.csv`, `planets_3.csv`, `planets_4.csv`, and `planets_5.csv` also store similar data in the same format. At this stage of the project, it is alright if you do not understand what these columns mean - they will be explained to you when they become necessary (in P11)."
   ]
  },
  {
   "cell_type": "markdown",
   "id": "993dc38e",
   "metadata": {},
   "source": [
    "Finally, if you take a look at `mapping_1.json` (you can open json files using any Text Editor), you will see that the first three entries look like this:\n",
    "\n",
    "```python\n",
    "{\"11 Com b\":\"11 Com\",\"11 UMi b\":\"11 UMi\",\"14 And b\":\"14 And\", ...}\n",
    "```\n",
    "\n",
    "This file contains a *mapping* from each *planet* in `planets_1.csv` to the *star* in `stars_1.csv` that the planet orbits. Similarly, `mapping_2.json` contains a *mapping* from each *planet* in `planets_2.csv` to the *star* in `stars_2.csv` that the planet orbits. The pattern also holds true for `mapping_3.json`, `mapping_4.json`, and `mapping_5.json`."
   ]
  },
  {
   "cell_type": "markdown",
   "id": "73c4de53",
   "metadata": {},
   "source": [
    "## IGNORE ##\n",
    "\n",
    "## Instructions for Random Data Generation:\n",
    "\n",
    "The files for the project need to be stored in this file structure:\n",
    "\n",
    "```\n",
    "+-- data\n",
    "|   +-- .DS_Store\n",
    "|   +-- .ipynb_checkpoints\n",
    "|   +-- mapping_1.json\n",
    "|   +-- mapping_2.json\n",
    "|   +-- mapping_3.json\n",
    "|   +-- mapping_4.json\n",
    "|   +-- mapping_5.json\n",
    "|   +-- planets_1.csv\n",
    "|   +-- planets_2.csv\n",
    "|   +-- planets_3.csv\n",
    "|   +-- planets_4.csv\n",
    "|   +-- planets_5.csv\n",
    "|   +-- stars_1.csv\n",
    "|   +-- stars_2.csv\n",
    "|   +-- stars_3.csv\n",
    "|   +-- stars_4.csv\n",
    "|   +-- stars_5.csv\n",
    "```\n",
    "\n",
    "The random data files that need to be generated are the directory `data` as well as all the files in the directory `data`. The file structure of the generated files needs to be exactly as described above. All files that begin with `.` are junk files, and their contents are irrelevant. However, all the other files must store data exactly as described below. The default value for the sizes of the random data must be `n=100`."
   ]
  },
  {
   "cell_type": "markdown",
   "id": "e48b1049",
   "metadata": {},
   "source": [
    "## IGNORE ##\n",
    "\n",
    "You can open each of the files in the `data` directory to see how the data is stored. For example, these are the first three rows of the file `stars_1.csv`:\n",
    "\n",
    "Star Name|Spectral Type|Stellar Effective Temperature [K]|Stellar Radius [Solar Radius]|Stellar Mass [Solar mass]|Stellar Luminosity [log(Solar)]|Stellar Surface Gravity [log10(cm/s**2)]|Stellar Age [Gyr]\n",
    "---|---|---|---|---|---|---|---\n",
    "11 Com|G8III|4874.00|13.76|2.09|1.978|2.45|\n",
    "11 UMi|K4III|4213.00|29.79|2.78|2.430|1.93|1.560\n",
    "14 And|K0III|4888.00|11.55|1.78|1.840|2.55|4.500\n",
    "\n",
    "As you might have already guessed, this file contains data on a number of *stars* outside our solar system along with some important statistics about these stars. The columns here are as follows:\n",
    "\n",
    "- `Star Name`: each row must have a **unique** value,\n",
    "- `Spectral Type`: there are a total of 20 **unique** values possible for this column - each row must take a value from these 20 possible values,\n",
    "- `Stellar Effective Temperature [K]`: each row must have a number between 415.0 and 57000.0 with 90% of the rows taking a value between 2500.0 and 10000.0,\n",
    "- `Stellar Radius [Solar Radius]`: each row must have a number between 0.01 and 110.0 with 90% of the rows taking a value between 0.15 and 50.0,\n",
    "- `Stellar Mass [Solar mass]`: each row must have a number between 0.01 and 11.0 with 90% of the rows taking a value between 0.01 and 5.0,\n",
    "- `Stellar Luminosity [log(Solar)]`: each row must have a number between -6.1 and 3.8 with 90% of the rows taking a value between -2.2 and 2.2,\n",
    "- `Stellar Surface Gravity [log10(cm/s**2)]`: each row must have a number between 0.5 and 8.0 with 90% of the rows taking a value between 1.5 and 5.2,\n",
    "- `Stellar Age [Gyr]`: each row must have a number between 0.0 and 14.9 with 90% of the rows taking a value between 0.002 and 14.0.\n",
    "\n",
    "The four other files `stars_2.csv`, `stars_3.csv`, `stars_4.csv`, and `stars_5.csv` also store similar data in the same format."
   ]
  },
  {
   "cell_type": "markdown",
   "id": "70384839",
   "metadata": {},
   "source": [
    "## IGNORE ##\n",
    "\n",
    "On the other hand, here are the first three rows of the file `planets_1.csv`:\n",
    "\n",
    "Planet Name|Discovery Method|Discovery Year|Controversial Flag|Orbital Period [days]|Planet Radius [Earth Radius]|Planet Mass [Earth Mass]|Orbit Semi-Major Axis [au]|Eccentricity|Equilibrium Temperature [K]|Insolation Flux [Earth Flux]\n",
    "---|---|---|---|---|---|---|---|---|---|---\n",
    "11 Com b|Radial Velocity|2007|0|323.21000000|12.200|4914.89849|1.178000|0.238000||\n",
    "11 UMi b|Radial Velocity|2009|0|516.21997000|12.300|4684.81420|1.530000|0.080000||\n",
    "14 And b|Radial Velocity|2008|0|186.76000000|13.100|1131.15130|0.775000|0.000000||\n",
    "\n",
    "This file contains data on a number of *planets* outside our solar system along with some important statistics about these planets. The columns here are as follows:\n",
    "\n",
    "- `Planet Name`: each row must have a **unique** value,\n",
    "- `Discovery Method`: there are a total of 10 **unique** values possible for this column - each row must take a value from these 20 possible values,\n",
    "- `Discovery Year`: each row must have an integer number between 1992 and 2023 with 90% of the rows taking a value between 2015 and 2023\n",
    "- `Controversial Flag`: each row must have a value 0 or 1, with 75% of the values being 0, \n",
    "- `Orbital Period [days]`: each row must have a number between 0.09 and 402000000 with 90% of the rows taking a value between 0.09 and 1000,\n",
    "- `Planet Radius [Earth Radius]`: each row must have a number between 0.3 and 77.0 with 90% of the rows taking a value between 0.35 and 22.0,\n",
    "- `Planet Mass [Earth Mass]`: each row must have a number between 0.02 and 239000 with 90% of the rows taking a value between 0.02 and 10000,\n",
    "- `Orbit Semi-Major Axis [au]`: each row must have a number between 0.0044 and 7500.0 with 90% of the rows taking a value between 0.01 and 200.0,\n",
    "- `Eccentricity`: each row must have a number between 0.0 and 0.95 with 90% of the rows taking a value between 0.0 and 0.1,\n",
    "- `Equilibrium Temperature [K]`: each row must have a number between 35.0 and 4500.0 with 90% of the rows taking a value between 200.0 and 2000.0,\n",
    "- `Insolation Flux [Earth Flux]`:  each row must have a number between 0.0 and 44900.0 with 90% of the rows taking a value between 0.2 and 2000.0,\n",
    "\n",
    "The four other files `planets_2.csv`, `planets_3.csv`, `planets_4.csv`, and `planets_5.csv` also store similar data in the same format."
   ]
  },
  {
   "cell_type": "markdown",
   "id": "e0010117",
   "metadata": {},
   "source": [
    "## IGNORE ##\n",
    "\n",
    "Finally, if you take a look at `mapping_1.json` (you can open json files using any Text Editor), you will see that the first three entries look like this:\n",
    "\n",
    "```python\n",
    "{\"11 Com b\":\"11 Com\",\"11 UMi b\":\"11 UMi\",\"14 And b\":\"14 And\", ...}\n",
    "```\n",
    "\n",
    "This file contains a *mapping* from each *planet* in `planets_1.csv` to the *star* in `stars_1.csv` that the planet orbits. Each *star* in `stars_1.csv` has exactly one *planet* in `planets_1.csv` mapping to it. Similarly, `mapping_2.json` contains a *mapping* from each *planet* in `planets_2.csv` to the *star* in `stars_2.csv` that the planet orbits. Each *star* in `stars_2.csv` has exactly two *planets* in `planets_2.csv` mapping to it. `mapping_3.json` contians a *mapping* from each *planet* in `planets_3.csv` to the *star* in `stars_3.csv` that the planet orbits. Each *star* in `stars_3.csv` has exactly three *planets* in `planets_3.csv` mapping to it. `mapping_4.json` contians a *mapping* from each *planet* in `planets_4.csv` to the *star* in `stars_4.csv` that the planet orbits. Each *star* in `stars_4.csv` has exactly four *planets* in `planets_4.csv` mapping to it.\n",
    "\n",
    "This pattern does NOT hold for `mapping_5.json`. The file `mapping_5.json` is just a duplicate of `mapping_4.json`. Each of the files `stars_1.csv`, ..., `stars_5.csv` needs to have the same number of rows of data in them."
   ]
  },
  {
   "cell_type": "markdown",
   "id": "dc1c070e",
   "metadata": {},
   "source": [
    "## Project Requirements:\n",
    "\n",
    "You **may not** hardcode indices in your code, unless the question explicitly says to. If you open your `.csv` files with Excel, manually count through the rows and use this number to loop through the dataset, this is also considered as hardcoding. If any instances of hardcoding are found during code review, the Gradescope autograder will **deduct** points from your public score.\n",
    "\n",
    "**Store** your final answer for each question in the **variable specified for each question**. This step is important because Otter grades your work by comparing the value of this variable against the correct answer.\n",
    "\n",
    "For some of the questions, we'll ask you to write (then use) a function to compute the answer. If you compute the answer **without** creating the function we ask you to write, the Gradescope autograder will **deduct** points from your public score, even if the way you did it produced the correct answer.\n",
    "\n",
    "#### Required Functions:\n",
    "- `star_cell`\n",
    "- `get_stars`\n",
    "- `planet_cell`\n",
    "- `get_planets`\n",
    "\n",
    "In this project, you will also be required to define certain **data structures**. If you do not create these data structures exactly as specified, the Gradescope autograder will **deduct** points from your public score, even if the way you did it produced the correct answer.\n",
    "\n",
    "#### Required Data Structures:\n",
    "- `Star` (**namedtuple**)\n",
    "- `stars_dict` (**dictionary** mapping **strings** to `Star` objects)\n",
    "- `Planet` (**namedtuple**)\n",
    "- `planets_list` (**list** of `Planet` objects)\n",
    "\n",
    "In addition, you are also **required** to follow the requirements below:\n",
    "\n",
    "* You **must** never use the output of the `os.listdir` function directly. You **must** always first remove all files and directories that start with `\".\"`, and **explicitly sort** the list before doing anything with it.\n",
    "* You are **not** allowed to use **bare** `try/except` blocks. In other words, you can **not** use `try/except` without explicitly specifying the type of exceptions that you want to catch.\n",
    "* You are **only** allowed to use Python commands and concepts that have been taught in the course prior to the release of P10. In particular, this means that you are **not** allowed to use **modules** like `pandas` to answer the questions in this project.\n",
    "* Please do not display `start_dict` or `planets_list` anywhere in the notebook. Please **remove** such statements before submission.\n",
    "\n",
    "Otherwise, the Gradescope autograder will **deduct** points from your public score.\n",
    "\n",
    "For more details on what will cause you to lose points during code review and specific requirements, please take a look at the [Grading rubric](https://git.doit.wisc.edu/cdis/cs/courses/cs220/cs220-s24-projects/-/blob/main/p10/rubric.md)."
   ]
  },
  {
   "cell_type": "markdown",
   "id": "f9ab5264",
   "metadata": {
    "lines_to_next_cell": 0
   },
   "source": [
    "## Questions and Functions:\n",
    "\n",
    "Let us start by importing all the modules we will need for this project."
   ]
  },
  {
   "cell_type": "raw",
   "id": "7ac0aeff",
   "metadata": {},
   "source": [
    "# BEGIN QUESTION\n",
    "name: import\n",
    "points: 0"
   ]
  },
  {
   "cell_type": "raw",
   "id": "cddf7ca5",
   "metadata": {
    "lines_to_next_cell": 0
   },
   "source": [
    "# BEGIN SOLUTION"
   ]
  },
  {
   "cell_type": "code",
   "execution_count": 3,
   "id": "642e0e3f",
   "metadata": {
    "execution": {
     "iopub.execute_input": "2024-04-09T16:13:40.267707Z",
     "iopub.status.busy": "2024-04-09T16:13:40.267630Z",
     "iopub.status.idle": "2024-04-09T16:13:40.269262Z",
     "shell.execute_reply": "2024-04-09T16:13:40.269059Z"
    },
    "lines_to_next_cell": 0
   },
   "outputs": [],
   "source": [
    "# it is considered a good coding practice to place all import statements at the top of the notebook\n",
    "# please place all your import statements in this cell if you need to import any more modules for this project\n",
    "\n",
    "# BEGIN SOLUTION NO PROMPT\n",
    "import csv\n",
    "import os\n",
    "import json\n",
    "from collections import namedtuple\n",
    "# END SOLUTION"
   ]
  },
  {
   "cell_type": "raw",
   "id": "95423577",
   "metadata": {},
   "source": [
    "# END SOLUTION"
   ]
  },
  {
   "cell_type": "raw",
   "id": "886e3d4d",
   "metadata": {},
   "source": [
    "# END QUESTION"
   ]
  },
  {
   "cell_type": "markdown",
   "id": "c3b886f6",
   "metadata": {},
   "source": [
    "### File handling:\n",
    "\n",
    "In the next questions, you will be using functions in the `os` module to make **lists** of files and paths in the `data` directory. All your **lists** **must** satisfy the following conditions:\n",
    "\n",
    "* Any files with names beginning with `\".\"` **must** be **excluded**.\n",
    "* The list **must** be **explicitly sorted** in **reverse-alphabetical** order after **splitting** by the **path separator**."
   ]
  },
  {
   "cell_type": "raw",
   "id": "ca77b71d",
   "metadata": {},
   "source": [
    "# BEGIN QUESTION\n",
    "name: q1\n",
    "points: 0"
   ]
  },
  {
   "cell_type": "markdown",
   "id": "8231ac15",
   "metadata": {},
   "source": [
    "**Question 1:** What are the **names** of the files present in the `data` directory\n",
    "\n",
    "Your output **must** be a **list** of **strings** representing the **names** of the files."
   ]
  },
  {
   "cell_type": "raw",
   "id": "bb4e18af",
   "metadata": {
    "lines_to_next_cell": 0
   },
   "source": [
    "# BEGIN SOLUTION"
   ]
  },
  {
   "cell_type": "code",
   "execution_count": 4,
   "id": "b4fdd3cd",
   "metadata": {
    "execution": {
     "iopub.execute_input": "2024-04-09T16:13:40.270474Z",
     "iopub.status.busy": "2024-04-09T16:13:40.270404Z",
     "iopub.status.idle": "2024-04-09T16:13:40.273486Z",
     "shell.execute_reply": "2024-04-09T16:13:40.273270Z"
    },
    "lines_to_next_cell": 0
   },
   "outputs": [
    {
     "data": {
      "text/plain": [
       "['stars_5.csv',\n",
       " 'stars_4.csv',\n",
       " 'stars_3.csv',\n",
       " 'stars_2.csv',\n",
       " 'stars_1.csv',\n",
       " 'planets_5.csv',\n",
       " 'planets_4.csv',\n",
       " 'planets_3.csv',\n",
       " 'planets_2.csv',\n",
       " 'planets_1.csv',\n",
       " 'mapping_5.json',\n",
       " 'mapping_4.json',\n",
       " 'mapping_3.json',\n",
       " 'mapping_2.json',\n",
       " 'mapping_1.json']"
      ]
     },
     "execution_count": 4,
     "metadata": {},
     "output_type": "execute_result"
    }
   ],
   "source": [
    "# compute and store the answer in the variable 'files_in_data', then display it\n",
    "\n",
    "# BEGIN SOLUTION NO PROMPT\n",
    "files_in_data = os.listdir(\"data\") \n",
    "files_in_data = [fname for fname in files_in_data if not fname.startswith(\".\")]\n",
    "files_in_data.sort(key = lambda path: path.split(os.path.sep), reverse = True) \n",
    "\n",
    "files_in_data\n",
    "# END SOLUTION"
   ]
  },
  {
   "cell_type": "raw",
   "id": "967b4104",
   "metadata": {},
   "source": [
    "# END SOLUTION"
   ]
  },
  {
   "cell_type": "raw",
   "id": "2afa1a94",
   "metadata": {},
   "source": [
    "# BEGIN TESTS"
   ]
  },
  {
   "cell_type": "markdown",
   "id": "00e46aa0",
   "metadata": {},
   "source": [
    "## IGNORE ##\n",
    "\n",
    "#### Public Test\n",
    "\n",
    "**points:** 3\n",
    "\n",
    "**format:** TEXT_FORMAT_ORDERED_LIST\n",
    "\n",
    "**answer:** files_in_data"
   ]
  },
  {
   "cell_type": "code",
   "execution_count": 5,
   "id": "d5c49ac6",
   "metadata": {
    "execution": {
     "iopub.execute_input": "2024-04-09T16:13:40.274874Z",
     "iopub.status.busy": "2024-04-09T16:13:40.274807Z",
     "iopub.status.idle": "2024-04-09T16:13:40.276571Z",
     "shell.execute_reply": "2024-04-09T16:13:40.276337Z"
    }
   },
   "outputs": [
    {
     "name": "stdout",
     "output_type": "stream",
     "text": [
      "All test cases passed!\n"
     ]
    }
   ],
   "source": [
    "public_tests.check('q1', files_in_data)"
   ]
  },
  {
   "cell_type": "markdown",
   "id": "c2b1a72b",
   "metadata": {},
   "source": [
    "## IGNORE ##\n",
    "\n",
    "#### Hidden Test\n",
    "\n",
    "**rubric item:** answer is not sorted explicitly\n",
    "\n",
    "**points:** 2\n",
    "\n",
    "**reason for rubric:** The order of the output of `os.listdir` is OS dependent. So, unless the output is explicitly sorted, it may behave differently based on the OS being used. It is important to sort in reverse alphabetical order after splitting by the path separator for consistent results across operating systems.\n",
    "\n",
    "**test notebook details:** Code is injected at the start of the notebook which defines a new class `newStr` which inherits from the `str` class. The only difference is that string comparisons are defined to be the opposite. Code is also injected at the start of the notebook which redefines the `os.listdir` and `os.path.join` functions so that they typecast their output to be lists of `newStr` objects before returning. At the end, code is injected which redefines these functions to be their correct implementations."
   ]
  },
  {
   "cell_type": "code",
   "execution_count": 6,
   "id": "73a563f4",
   "metadata": {
    "execution": {
     "iopub.execute_input": "2024-04-09T16:13:40.277783Z",
     "iopub.status.busy": "2024-04-09T16:13:40.277723Z",
     "iopub.status.idle": "2024-04-09T16:13:40.348951Z",
     "shell.execute_reply": "2024-04-09T16:13:40.348736Z"
    }
   },
   "outputs": [
    {
     "name": "stdout",
     "output_type": "stream",
     "text": [
      "All test cases passed!\n"
     ]
    }
   ],
   "source": [
    "\"\"\" # BEGIN TEST CONFIG\n",
    "success_message: Note that the Gradescope autograder will deduct points if your code fails the following rubric point - 'answer is not sorted explicitly (-2)'.The public tests cannot determine if your code satisfies these requirements. Verify your code manually.\n",
    "\"\"\" # END TEST CONFIG\n",
    "\n",
    "public_tests.rubric_check('q1: answer is not sorted explicitly')"
   ]
  },
  {
   "cell_type": "markdown",
   "id": "5d40c261",
   "metadata": {},
   "source": [
    "## IGNORE ##\n",
    "\n",
    "#### Hidden Test\n",
    "\n",
    "**rubric item:** answer does not remove all files and directories that start with `.`\n",
    "\n",
    "**points:** 1\n",
    "\n",
    "**reason for rubric:** Different operating systems create additional files and directories starting with `.` to store metadata. These files and directories should not be considered to be a part of the actual dataset, and must be ignored.\n",
    "\n",
    "**test dataset details:** Additional `txt` files are added to the directory which start with `.`"
   ]
  },
  {
   "cell_type": "code",
   "execution_count": 7,
   "id": "b4a5d5bd",
   "metadata": {
    "execution": {
     "iopub.execute_input": "2024-04-09T16:13:40.350112Z",
     "iopub.status.busy": "2024-04-09T16:13:40.350047Z",
     "iopub.status.idle": "2024-04-09T16:13:40.408204Z",
     "shell.execute_reply": "2024-04-09T16:13:40.407930Z"
    }
   },
   "outputs": [
    {
     "name": "stdout",
     "output_type": "stream",
     "text": [
      "All test cases passed!\n"
     ]
    }
   ],
   "source": [
    "\"\"\" # BEGIN TEST CONFIG\n",
    "success_message: Note that the Gradescope autograder will deduct points if your code fails the following rubric point - 'answer does not remove all files and directories that start with `.` (-1)'.The public tests cannot determine if your code satisfies these requirements. Verify your code manually.\n",
    "\"\"\" # END TEST CONFIG\n",
    "\n",
    "public_tests.rubric_check('q1: answer does not remove all files and directories that start with `.`')"
   ]
  },
  {
   "cell_type": "raw",
   "id": "ff1c8c0a",
   "metadata": {},
   "source": [
    "# END TESTS"
   ]
  },
  {
   "cell_type": "raw",
   "id": "d04df2da",
   "metadata": {
    "lines_to_next_cell": 0
   },
   "source": [
    "# END QUESTION"
   ]
  },
  {
   "cell_type": "raw",
   "id": "bb1e3803",
   "metadata": {},
   "source": [
    "# BEGIN QUESTION\n",
    "name: q2\n",
    "points: 0"
   ]
  },
  {
   "cell_type": "markdown",
   "id": "e655661c",
   "metadata": {},
   "source": [
    "**Question 2:** What are the **paths** of all the files in the `data` directory?\n",
    "\n",
    "Your output **must** be a **list** of **strings** representing the **paths** of the files. You **must** use the `files_in_data` variable created in the previous question to answer this.\n",
    "\n",
    "**Warning:** Please **do not hardcode** `\"/\"` or `\"\\\"` in your path because doing so will cause your function to **fail** on a computer that's not using the same operating system as yours. This may result in your code failing on Gradescope."
   ]
  },
  {
   "cell_type": "raw",
   "id": "9ed2c716",
   "metadata": {
    "lines_to_next_cell": 0
   },
   "source": [
    "# BEGIN SOLUTION"
   ]
  },
  {
   "cell_type": "code",
   "execution_count": 8,
   "id": "ce9c72a6",
   "metadata": {
    "execution": {
     "iopub.execute_input": "2024-04-09T16:13:40.409696Z",
     "iopub.status.busy": "2024-04-09T16:13:40.409620Z",
     "iopub.status.idle": "2024-04-09T16:13:40.411883Z",
     "shell.execute_reply": "2024-04-09T16:13:40.411656Z"
    },
    "lines_to_next_cell": 0
   },
   "outputs": [
    {
     "data": {
      "text/plain": [
       "['data/stars_5.csv',\n",
       " 'data/stars_4.csv',\n",
       " 'data/stars_3.csv',\n",
       " 'data/stars_2.csv',\n",
       " 'data/stars_1.csv',\n",
       " 'data/planets_5.csv',\n",
       " 'data/planets_4.csv',\n",
       " 'data/planets_3.csv',\n",
       " 'data/planets_2.csv',\n",
       " 'data/planets_1.csv',\n",
       " 'data/mapping_5.json',\n",
       " 'data/mapping_4.json',\n",
       " 'data/mapping_3.json',\n",
       " 'data/mapping_2.json',\n",
       " 'data/mapping_1.json']"
      ]
     },
     "execution_count": 8,
     "metadata": {},
     "output_type": "execute_result"
    }
   ],
   "source": [
    "# compute and store the answer in the variable 'file_paths', then display it\n",
    "\n",
    "# BEGIN SOLUTION NO PROMPT\n",
    "file_paths = []\n",
    "for file in files_in_data:\n",
    "    file_paths.append(os.path.join(\"data\", file))\n",
    "    \n",
    "file_paths\n",
    "# END SOLUTION"
   ]
  },
  {
   "cell_type": "raw",
   "id": "9cfb7113",
   "metadata": {},
   "source": [
    "# END SOLUTION"
   ]
  },
  {
   "cell_type": "raw",
   "id": "920f1f6a",
   "metadata": {},
   "source": [
    "# BEGIN TESTS"
   ]
  },
  {
   "cell_type": "markdown",
   "id": "19379088",
   "metadata": {},
   "source": [
    "## IGNORE ##\n",
    "\n",
    "#### Public Test\n",
    "\n",
    "**points:** 3\n",
    "\n",
    "**format:** TEXT_FORMAT_ORDERED_LIST_SLASHES\n",
    "\n",
    "**answer:** file_paths"
   ]
  },
  {
   "cell_type": "code",
   "execution_count": 9,
   "id": "02ecc393",
   "metadata": {
    "execution": {
     "iopub.execute_input": "2024-04-09T16:13:40.413236Z",
     "iopub.status.busy": "2024-04-09T16:13:40.413167Z",
     "iopub.status.idle": "2024-04-09T16:13:40.414838Z",
     "shell.execute_reply": "2024-04-09T16:13:40.414622Z"
    }
   },
   "outputs": [
    {
     "name": "stdout",
     "output_type": "stream",
     "text": [
      "All test cases passed!\n"
     ]
    }
   ],
   "source": [
    "public_tests.check('q2', file_paths)"
   ]
  },
  {
   "cell_type": "markdown",
   "id": "89786540",
   "metadata": {},
   "source": [
    "## IGNORE ##\n",
    "\n",
    "#### Hidden Test\n",
    "\n",
    "**rubric item:** recomputed variable defined in Question 1, or the answer is not sorted explicitly\n",
    "\n",
    "**points:** 1\n",
    "\n",
    "**reason for rubric:** The order of the output of `os.listdir` is OS dependent. So, unless the output is explicitly sorted, it may behave differently based on the OS being used. It is important to sort in reverse alphabetical order after splitting by the path separator for consistent results across operating systems.\n",
    "\n",
    "**test notebook details:** Code is injected at the start of the notebook which defines a new class `newStr` which inherits from the `str` class. The only difference is that string comparisons are defined to be the opposite. Code is also injected at the start of the notebook which redefines the `os.listdir` and `os.path.join` functions so that they typecast their output to be lists of `newStr` objects before returning. Code is then injected at the start of this question which redefines `files_in_data` to be a subset of the files present in `data` directory. At the end, code is injected which redefines the functions `os.path.join` and `os.listdir` to be their correct implementations."
   ]
  },
  {
   "cell_type": "code",
   "execution_count": 10,
   "id": "06867c17",
   "metadata": {
    "execution": {
     "iopub.execute_input": "2024-04-09T16:13:40.416013Z",
     "iopub.status.busy": "2024-04-09T16:13:40.415949Z",
     "iopub.status.idle": "2024-04-09T16:13:40.473832Z",
     "shell.execute_reply": "2024-04-09T16:13:40.473590Z"
    }
   },
   "outputs": [
    {
     "name": "stdout",
     "output_type": "stream",
     "text": [
      "All test cases passed!\n"
     ]
    }
   ],
   "source": [
    "\"\"\" # BEGIN TEST CONFIG\n",
    "success_message: Note that the Gradescope autograder will deduct points if your code fails the following rubric point - 'recomputed variable defined in Question 1, or the answer is not sorted explicitly (-1)'.The public tests cannot determine if your code satisfies these requirements. Verify your code manually.\n",
    "\"\"\" # END TEST CONFIG\n",
    "\n",
    "public_tests.rubric_check('q2: recomputed variable defined in Question 1, or the answer is not sorted explicitly')"
   ]
  },
  {
   "cell_type": "markdown",
   "id": "d216675f",
   "metadata": {},
   "source": [
    "## IGNORE ##\n",
    "\n",
    "#### Hidden Test\n",
    "\n",
    "**rubric item:** answer does not remove all files and directories that start with `.`\n",
    "\n",
    "**points:** 1\n",
    "\n",
    "**reason for rubric:** Different operating systems create additional files and directories starting with `.` to store metadata. These files and directories should not be considered to be a part of the actual dataset, and must be ignored.\n",
    "\n",
    "**test dataset details:** Additional `txt` files are added to the directory which start with `.`"
   ]
  },
  {
   "cell_type": "code",
   "execution_count": 11,
   "id": "8a7bf099",
   "metadata": {
    "execution": {
     "iopub.execute_input": "2024-04-09T16:13:40.475173Z",
     "iopub.status.busy": "2024-04-09T16:13:40.475098Z",
     "iopub.status.idle": "2024-04-09T16:13:40.531877Z",
     "shell.execute_reply": "2024-04-09T16:13:40.531618Z"
    }
   },
   "outputs": [
    {
     "name": "stdout",
     "output_type": "stream",
     "text": [
      "All test cases passed!\n"
     ]
    }
   ],
   "source": [
    "\"\"\" # BEGIN TEST CONFIG\n",
    "success_message: Note that the Gradescope autograder will deduct points if your code fails the following rubric point - 'answer does not remove all files and directories that start with `.` (-1)'.The public tests cannot determine if your code satisfies these requirements. Verify your code manually.\n",
    "\"\"\" # END TEST CONFIG\n",
    "\n",
    "public_tests.rubric_check('q2: answer does not remove all files and directories that start with `.`')"
   ]
  },
  {
   "cell_type": "markdown",
   "id": "e6844ac6",
   "metadata": {},
   "source": [
    "## IGNORE ##\n",
    "\n",
    "#### Hidden Test\n",
    "\n",
    "**rubric item:** paths are hardcoded using slashes\n",
    "\n",
    "**points:** 1\n",
    "\n",
    "**reason for rubric:** The slashes that appear in the paths are path separators, and they are OS dependent. If slashes are hardcoded in the answer, then they will only work on computers with that operating system, and not on other computers. To avoid this, `os.path.join` must be used to create paths.\n",
    "\n",
    "**test notebook details:** Code is injected at the start of the notebook which defines new functions `new_join`, `new_basename`, `new_dirname`, and `new_split`. These functions behave similarly to `os.path.join`, `os.path.basename`, `os.path.dirname`, and `os.path.split`, except that instead of the path separator, they use the `&` symbol. All code in the notebook with calls to these functions are then replaced with these new functions."
   ]
  },
  {
   "cell_type": "code",
   "execution_count": 12,
   "id": "9b5b06d0",
   "metadata": {
    "execution": {
     "iopub.execute_input": "2024-04-09T16:13:40.533207Z",
     "iopub.status.busy": "2024-04-09T16:13:40.533136Z",
     "iopub.status.idle": "2024-04-09T16:13:40.591352Z",
     "shell.execute_reply": "2024-04-09T16:13:40.591073Z"
    }
   },
   "outputs": [
    {
     "name": "stdout",
     "output_type": "stream",
     "text": [
      "All test cases passed!\n"
     ]
    }
   ],
   "source": [
    "\"\"\" # BEGIN TEST CONFIG\n",
    "success_message: Note that the Gradescope autograder will deduct points if your code fails the following rubric point - 'paths are hardcoded using slashes (-1)'.The public tests cannot determine if your code satisfies these requirements. Verify your code manually.\n",
    "\"\"\" # END TEST CONFIG\n",
    "\n",
    "public_tests.rubric_check('q2: paths are hardcoded using slashes')"
   ]
  },
  {
   "cell_type": "raw",
   "id": "26745e78",
   "metadata": {},
   "source": [
    "# END TESTS"
   ]
  },
  {
   "cell_type": "raw",
   "id": "b4d33dad",
   "metadata": {
    "lines_to_next_cell": 0
   },
   "source": [
    "# END QUESTION"
   ]
  },
  {
   "cell_type": "raw",
   "id": "be7c9e4e",
   "metadata": {},
   "source": [
    "# BEGIN QUESTION\n",
    "name: q3\n",
    "points: 0"
   ]
  },
  {
   "cell_type": "markdown",
   "id": "2dd99aea",
   "metadata": {},
   "source": [
    "**Question 3:** What are the **paths** of all the **CSV files** present in `data` directory?\n",
    "\n",
    "Your output **must** be filtered to **only** include files ending in `'.csv'`. You **must** use either the `files_in_data` or `file_paths` variables created in the previous questions to answer this.\n",
    "\n",
    "**Warning:** Please **do not hardcode** `\"/\"` or `\"\\\"` in your path because doing so will cause your function to **fail** on a computer that's not using the same operating system as yours. This may result in your code failing on Gradescope."
   ]
  },
  {
   "cell_type": "raw",
   "id": "6a3c4440",
   "metadata": {
    "lines_to_next_cell": 0
   },
   "source": [
    "# BEGIN SOLUTION"
   ]
  },
  {
   "cell_type": "code",
   "execution_count": 13,
   "id": "99fd56f7",
   "metadata": {
    "execution": {
     "iopub.execute_input": "2024-04-09T16:13:40.592809Z",
     "iopub.status.busy": "2024-04-09T16:13:40.592733Z",
     "iopub.status.idle": "2024-04-09T16:13:40.594983Z",
     "shell.execute_reply": "2024-04-09T16:13:40.594775Z"
    },
    "lines_to_next_cell": 0
   },
   "outputs": [
    {
     "data": {
      "text/plain": [
       "['data/stars_5.csv',\n",
       " 'data/stars_4.csv',\n",
       " 'data/stars_3.csv',\n",
       " 'data/stars_2.csv',\n",
       " 'data/stars_1.csv',\n",
       " 'data/planets_5.csv',\n",
       " 'data/planets_4.csv',\n",
       " 'data/planets_3.csv',\n",
       " 'data/planets_2.csv',\n",
       " 'data/planets_1.csv']"
      ]
     },
     "execution_count": 13,
     "metadata": {},
     "output_type": "execute_result"
    }
   ],
   "source": [
    "# compute and store the answer in the variable 'csv_file_paths', then display it\n",
    "\n",
    "# BEGIN SOLUTION NO PROMPT\n",
    "csv_file_paths = []\n",
    "for file_path in file_paths:\n",
    "    if file_path.endswith(\".csv\"):\n",
    "        csv_file_paths.append(file_path)\n",
    "        \n",
    "csv_file_paths\n",
    "# END SOLUTION"
   ]
  },
  {
   "cell_type": "raw",
   "id": "207a30e9",
   "metadata": {},
   "source": [
    "# END SOLUTION"
   ]
  },
  {
   "cell_type": "raw",
   "id": "81daa40c",
   "metadata": {},
   "source": [
    "# BEGIN TESTS"
   ]
  },
  {
   "cell_type": "markdown",
   "id": "9a09d0aa",
   "metadata": {},
   "source": [
    "## IGNORE ##\n",
    "\n",
    "#### Public Test\n",
    "\n",
    "**points:** 4\n",
    "\n",
    "**format:** TEXT_FORMAT_ORDERED_LIST_SLASHES\n",
    "\n",
    "**answer:** csv_file_paths"
   ]
  },
  {
   "cell_type": "code",
   "execution_count": 14,
   "id": "3cfa459c",
   "metadata": {
    "execution": {
     "iopub.execute_input": "2024-04-09T16:13:40.596254Z",
     "iopub.status.busy": "2024-04-09T16:13:40.596188Z",
     "iopub.status.idle": "2024-04-09T16:13:40.597715Z",
     "shell.execute_reply": "2024-04-09T16:13:40.597469Z"
    }
   },
   "outputs": [
    {
     "name": "stdout",
     "output_type": "stream",
     "text": [
      "All test cases passed!\n"
     ]
    }
   ],
   "source": [
    "public_tests.check('q3', csv_file_paths)"
   ]
  },
  {
   "cell_type": "markdown",
   "id": "dd431cac",
   "metadata": {},
   "source": [
    "## IGNORE ##\n",
    "\n",
    "#### Hidden Test\n",
    "\n",
    "**rubric item:** recomputed variable defined in Question 1 or Question 2, or the answer is not sorted explicitly\n",
    "\n",
    "**points:** 1\n",
    "\n",
    "**reason for rubric:** The order of the output of `os.listdir` is OS dependent. So, unless the output is explicitly sorted, it may behave differently based on the OS being used. It is important to sort in reverse alphabetical order after splitting by the path separator for consistent results across operating systems.\n",
    "\n",
    "**test notebook details:** Code is injected at the start of the notebook which defines a new class `newStr` which inherits from the `str` class. The only difference is that string comparisons are defined to be the opposite. Code is also injected at the start of the notebook which redefines the `os.listdir` and `os.path.join` functions so that they typecast their output to be lists of `newStr` objects before returning. Code is then injected at the start of Question 2 which redefines `files_in_data` to be a subset of the files present in `data` directory. At the end, code is injected which redefines the functions `os.path.join` and `os.listdir` to be their correct implementations."
   ]
  },
  {
   "cell_type": "code",
   "execution_count": 15,
   "id": "3f94d0bf",
   "metadata": {
    "execution": {
     "iopub.execute_input": "2024-04-09T16:13:40.598935Z",
     "iopub.status.busy": "2024-04-09T16:13:40.598871Z",
     "iopub.status.idle": "2024-04-09T16:13:40.654917Z",
     "shell.execute_reply": "2024-04-09T16:13:40.654699Z"
    }
   },
   "outputs": [
    {
     "name": "stdout",
     "output_type": "stream",
     "text": [
      "All test cases passed!\n"
     ]
    }
   ],
   "source": [
    "\"\"\" # BEGIN TEST CONFIG\n",
    "success_message: Note that the Gradescope autograder will deduct points if your code fails the following rubric point - 'recomputed variable defined in Question 1 or Question 2, or the answer is not sorted explicitly (-1)'.The public tests cannot determine if your code satisfies these requirements. Verify your code manually.\n",
    "\"\"\" # END TEST CONFIG\n",
    "\n",
    "public_tests.rubric_check('q3: recomputed variable defined in Question 1 or Question 2, or the answer is not sorted explicitly')"
   ]
  },
  {
   "cell_type": "markdown",
   "id": "20d34b8c",
   "metadata": {},
   "source": [
    "## IGNORE ##\n",
    "\n",
    "#### Hidden Test\n",
    "\n",
    "**rubric item:** answer does not remove all files and directories that start with `.`\n",
    "\n",
    "**points:** 1\n",
    "\n",
    "**reason for rubric:** Different operating systems create additional files and directories starting with `.` to store metadata. These files and directories should not be considered to be a part of the actual dataset, and must be ignored.\n",
    "\n",
    "**test dataset details:** Additional `csv` files are added to the directory which start with `.`"
   ]
  },
  {
   "cell_type": "code",
   "execution_count": 16,
   "id": "3a0b84e3",
   "metadata": {
    "execution": {
     "iopub.execute_input": "2024-04-09T16:13:40.656151Z",
     "iopub.status.busy": "2024-04-09T16:13:40.656087Z",
     "iopub.status.idle": "2024-04-09T16:13:40.740022Z",
     "shell.execute_reply": "2024-04-09T16:13:40.739747Z"
    }
   },
   "outputs": [
    {
     "name": "stdout",
     "output_type": "stream",
     "text": [
      "All test cases passed!\n"
     ]
    }
   ],
   "source": [
    "\"\"\" # BEGIN TEST CONFIG\n",
    "success_message: Note that the Gradescope autograder will deduct points if your code fails the following rubric point - 'answer does not remove all files and directories that start with `.` (-1)'.The public tests cannot determine if your code satisfies these requirements. Verify your code manually.\n",
    "\"\"\" # END TEST CONFIG\n",
    "\n",
    "public_tests.rubric_check('q3: answer does not remove all files and directories that start with `.`')"
   ]
  },
  {
   "cell_type": "markdown",
   "id": "cad48a35",
   "metadata": {},
   "source": [
    "## IGNORE ##\n",
    "\n",
    "#### Hidden Test\n",
    "\n",
    "**rubric item:** answer does not check only for files that end with `.csv`\n",
    "\n",
    "**points:** 1\n",
    "\n",
    "**reason for rubric:** CSV files are only the files that have the extension `.csv`, and not files that have `csv` somewhere in their extension.\n",
    "\n",
    "**test dataset details:** New files are added to the `data` directory which have extensions `.csvtxt`, `.txtcsv`, and `.csvcsv`."
   ]
  },
  {
   "cell_type": "code",
   "execution_count": 17,
   "id": "5e8ce581",
   "metadata": {
    "execution": {
     "iopub.execute_input": "2024-04-09T16:13:40.741331Z",
     "iopub.status.busy": "2024-04-09T16:13:40.741256Z",
     "iopub.status.idle": "2024-04-09T16:13:40.797222Z",
     "shell.execute_reply": "2024-04-09T16:13:40.796990Z"
    }
   },
   "outputs": [
    {
     "name": "stdout",
     "output_type": "stream",
     "text": [
      "All test cases passed!"
     ]
    },
    {
     "name": "stdout",
     "output_type": "stream",
     "text": [
      "\n"
     ]
    }
   ],
   "source": [
    "\"\"\" # BEGIN TEST CONFIG\n",
    "success_message: Note that the Gradescope autograder will deduct points if your code fails the following rubric point - 'answer does not check only for files that end with `.csv` (-1)'.The public tests cannot determine if your code satisfies these requirements. Verify your code manually.\n",
    "\"\"\" # END TEST CONFIG\n",
    "\n",
    "public_tests.rubric_check('q3: answer does not check only for files that end with `.csv`')"
   ]
  },
  {
   "cell_type": "markdown",
   "id": "58761367",
   "metadata": {},
   "source": [
    "## IGNORE ##\n",
    "\n",
    "#### Hidden Test\n",
    "\n",
    "**rubric item:** paths are hardcoded using slashes\n",
    "\n",
    "**points:** 1\n",
    "\n",
    "**reason for rubric:** The slashes that appear in the paths are path separators, and they are OS dependent. If slashes are hardcoded in the answer, then they will only work on computers with that operating system, and not on other computers. To avoid this, `os.path.join` must be used to create paths.\n",
    "\n",
    "**test notebook details:** Code is injected at the start of the notebook which defines new functions `new_join`, `new_basename`, `new_dirname`, and `new_split`. These functions behave similarly to `os.path.join`, `os.path.basename`, `os.path.dirname`, and `os.path.split`, except that instead of the path separator, they use the `&` symbol. All code in the notebook with calls to these functions are then replaced with these new functions."
   ]
  },
  {
   "cell_type": "code",
   "execution_count": 18,
   "id": "c1bb4266",
   "metadata": {
    "execution": {
     "iopub.execute_input": "2024-04-09T16:13:40.798452Z",
     "iopub.status.busy": "2024-04-09T16:13:40.798387Z",
     "iopub.status.idle": "2024-04-09T16:13:40.858998Z",
     "shell.execute_reply": "2024-04-09T16:13:40.858732Z"
    }
   },
   "outputs": [
    {
     "name": "stdout",
     "output_type": "stream",
     "text": [
      "All test cases passed!"
     ]
    },
    {
     "name": "stdout",
     "output_type": "stream",
     "text": [
      "\n"
     ]
    }
   ],
   "source": [
    "\"\"\" # BEGIN TEST CONFIG\n",
    "success_message: Note that the Gradescope autograder will deduct points if your code fails the following rubric point - 'paths are hardcoded using slashes (-1)'.The public tests cannot determine if your code satisfies these requirements. Verify your code manually.\n",
    "\"\"\" # END TEST CONFIG\n",
    "\n",
    "public_tests.rubric_check('q3: paths are hardcoded using slashes')"
   ]
  },
  {
   "cell_type": "raw",
   "id": "01f4752a",
   "metadata": {},
   "source": [
    "# END TESTS"
   ]
  },
  {
   "cell_type": "raw",
   "id": "eba462d2",
   "metadata": {
    "lines_to_next_cell": 0
   },
   "source": [
    "# END QUESTION"
   ]
  },
  {
   "cell_type": "raw",
   "id": "ff5e92a0",
   "metadata": {},
   "source": [
    "# BEGIN QUESTION\n",
    "name: q4\n",
    "points: 0"
   ]
  },
  {
   "cell_type": "markdown",
   "id": "999aa8d2",
   "metadata": {},
   "source": [
    "**Question 4:** What are the **paths** of all the files present in `data` directory, that **begin** with the phrase `'stars'`?\n",
    "\n",
    "Your output **must** be filtered to **only** include files start with `'stars'`. You **must** use either the `files_in_data` or `file_paths` variables created in the previous questions to answer this.\n",
    "\n",
    "**Warning:** Please **do not hardcode** `\"/\"` or `\"\\\"` in your path because doing so will cause your function to **fail** on a computer that's not using the same operating system as yours. This may result in your code failing on Gradescope."
   ]
  },
  {
   "cell_type": "raw",
   "id": "e104d08a",
   "metadata": {
    "lines_to_next_cell": 0
   },
   "source": [
    "# BEGIN SOLUTION"
   ]
  },
  {
   "cell_type": "code",
   "execution_count": 19,
   "id": "fba07316",
   "metadata": {
    "execution": {
     "iopub.execute_input": "2024-04-09T16:13:40.860474Z",
     "iopub.status.busy": "2024-04-09T16:13:40.860401Z",
     "iopub.status.idle": "2024-04-09T16:13:40.862626Z",
     "shell.execute_reply": "2024-04-09T16:13:40.862376Z"
    },
    "lines_to_next_cell": 0
   },
   "outputs": [
    {
     "data": {
      "text/plain": [
       "['data/stars_5.csv',\n",
       " 'data/stars_4.csv',\n",
       " 'data/stars_3.csv',\n",
       " 'data/stars_2.csv',\n",
       " 'data/stars_1.csv']"
      ]
     },
     "execution_count": 19,
     "metadata": {},
     "output_type": "execute_result"
    }
   ],
   "source": [
    "# compute and store the answer in the variable 'stars_paths', then display it\n",
    "\n",
    "# BEGIN SOLUTION NO PROMPT\n",
    "stars_paths = []\n",
    "for file in files_in_data:\n",
    "    if file.startswith('stars'):\n",
    "        stars_paths.append(os.path.join(\"data\", file))\n",
    "\n",
    "stars_paths\n",
    "# END SOLUTION"
   ]
  },
  {
   "cell_type": "raw",
   "id": "500ffac1",
   "metadata": {},
   "source": [
    "# END SOLUTION"
   ]
  },
  {
   "cell_type": "raw",
   "id": "cf1ef1a7",
   "metadata": {},
   "source": [
    "# BEGIN TESTS"
   ]
  },
  {
   "cell_type": "markdown",
   "id": "31c4045b",
   "metadata": {},
   "source": [
    "## IGNORE ##\n",
    "\n",
    "#### Public Test\n",
    "\n",
    "**points:** 4\n",
    "\n",
    "**format:** TEXT_FORMAT_ORDERED_LIST_SLASHES\n",
    "\n",
    "**answer:** stars_paths"
   ]
  },
  {
   "cell_type": "code",
   "execution_count": 20,
   "id": "ec7834a3",
   "metadata": {
    "execution": {
     "iopub.execute_input": "2024-04-09T16:13:40.863949Z",
     "iopub.status.busy": "2024-04-09T16:13:40.863880Z",
     "iopub.status.idle": "2024-04-09T16:13:40.865527Z",
     "shell.execute_reply": "2024-04-09T16:13:40.865298Z"
    }
   },
   "outputs": [
    {
     "name": "stdout",
     "output_type": "stream",
     "text": [
      "All test cases passed!\n"
     ]
    }
   ],
   "source": [
    "public_tests.check('q4', stars_paths)"
   ]
  },
  {
   "cell_type": "markdown",
   "id": "4c71eb52",
   "metadata": {},
   "source": [
    "## IGNORE ##\n",
    "\n",
    "#### Hidden Test\n",
    "\n",
    "**rubric item:** recomputed variable defined in Question 1 or Question 2, or the answer is not sorted explicitly\n",
    "\n",
    "**points:** 1\n",
    "\n",
    "**reason for rubric:** The order of the output of `os.listdir` is OS dependent. So, unless the output is explicitly sorted, it may behave differently based on the OS being used. It is important to sort in reverse alphabetical order after splitting by the path separator for consistent results across operating systems.\n",
    "\n",
    "**test notebook details:** Code is injected at the start of the notebook which defines a new class `newStr` which inherits from the `str` class. The only difference is that string comparisons are defined to be the opposite. Code is also injected at the start of the notebook which redefines the `os.listdir` and `os.path.join` functions so that they typecast their output to be lists of `newStr` objects before returning. Code is then injected at the start of Question 2 which redefines `files_in_data` to be a subset of the files present in `data` directory. At the end, code is injected which redefines the functions `os.path.join` and `os.listdir` to be their correct implementations."
   ]
  },
  {
   "cell_type": "code",
   "execution_count": 21,
   "id": "bed4f1d8",
   "metadata": {
    "execution": {
     "iopub.execute_input": "2024-04-09T16:13:40.866680Z",
     "iopub.status.busy": "2024-04-09T16:13:40.866613Z",
     "iopub.status.idle": "2024-04-09T16:13:40.922833Z",
     "shell.execute_reply": "2024-04-09T16:13:40.922612Z"
    }
   },
   "outputs": [
    {
     "name": "stdout",
     "output_type": "stream",
     "text": [
      "All test cases passed!\n"
     ]
    }
   ],
   "source": [
    "\"\"\" # BEGIN TEST CONFIG\n",
    "success_message: Note that the Gradescope autograder will deduct points if your code fails the following rubric point - 'recomputed variable defined in Question 1 or Question 2, or the answer is not sorted explicitly (-1)'.The public tests cannot determine if your code satisfies these requirements. Verify your code manually.\n",
    "\"\"\" # END TEST CONFIG\n",
    "\n",
    "public_tests.rubric_check('q4: recomputed variable defined in Question 1 or Question 2, or the answer is not sorted explicitly')"
   ]
  },
  {
   "cell_type": "markdown",
   "id": "fd98523f",
   "metadata": {},
   "source": [
    "## IGNORE ##\n",
    "\n",
    "#### Hidden Test\n",
    "\n",
    "**rubric item:** answer does not remove all files and directories that start with `.`\n",
    "\n",
    "**points:** 1\n",
    "\n",
    "**reason for rubric:** Different operating systems create additional files and directories starting with `.` to store metadata. These files and directories should not be considered to be a part of the actual dataset, and must be ignored.\n",
    "\n",
    "**test dataset details:** Additional files `csv` are added to the directory which start with `.stars`"
   ]
  },
  {
   "cell_type": "code",
   "execution_count": 22,
   "id": "2e474318",
   "metadata": {
    "execution": {
     "iopub.execute_input": "2024-04-09T16:13:40.924114Z",
     "iopub.status.busy": "2024-04-09T16:13:40.924045Z",
     "iopub.status.idle": "2024-04-09T16:13:40.980505Z",
     "shell.execute_reply": "2024-04-09T16:13:40.980279Z"
    }
   },
   "outputs": [
    {
     "name": "stdout",
     "output_type": "stream",
     "text": [
      "All test cases passed!\n"
     ]
    }
   ],
   "source": [
    "\"\"\" # BEGIN TEST CONFIG\n",
    "success_message: Note that the Gradescope autograder will deduct points if your code fails the following rubric point - 'answer does not remove all files and directories that start with `.` (-1)'.The public tests cannot determine if your code satisfies these requirements. Verify your code manually.\n",
    "\"\"\" # END TEST CONFIG\n",
    "\n",
    "public_tests.rubric_check('q4: answer does not remove all files and directories that start with `.`')"
   ]
  },
  {
   "cell_type": "markdown",
   "id": "7edd2043",
   "metadata": {},
   "source": [
    "## IGNORE ##\n",
    "\n",
    "#### Hidden Test\n",
    "\n",
    "**rubric item:** answer does not check for only files that start with `stars`\n",
    "\n",
    "**points:** 1\n",
    "\n",
    "**reason for rubric:** The data about the stars is present in files that start with the string `\"stars\"`. So, it is important to find only the files that start with `\"stars\"`, and not with any other substring.\n",
    "\n",
    "**test dataset details:** New files are added to the `data` directory that start with substrings of `stars`, and contain `stars` but not at the beginning of the filename."
   ]
  },
  {
   "cell_type": "code",
   "execution_count": 23,
   "id": "2e078f87",
   "metadata": {
    "execution": {
     "iopub.execute_input": "2024-04-09T16:13:40.981701Z",
     "iopub.status.busy": "2024-04-09T16:13:40.981634Z",
     "iopub.status.idle": "2024-04-09T16:13:41.037558Z",
     "shell.execute_reply": "2024-04-09T16:13:41.037331Z"
    }
   },
   "outputs": [
    {
     "name": "stdout",
     "output_type": "stream",
     "text": [
      "All test cases passed!\n"
     ]
    }
   ],
   "source": [
    "\"\"\" # BEGIN TEST CONFIG\n",
    "success_message: Note that the Gradescope autograder will deduct points if your code fails the following rubric point - 'answer does not check for only files that start with `stars` (-1)'.The public tests cannot determine if your code satisfies these requirements. Verify your code manually.\n",
    "\"\"\" # END TEST CONFIG\n",
    "\n",
    "public_tests.rubric_check('q4: answer does not check for only files that start with `stars`')"
   ]
  },
  {
   "cell_type": "markdown",
   "id": "dc3e4cc8",
   "metadata": {},
   "source": [
    "## IGNORE ##\n",
    "\n",
    "#### Hidden Test\n",
    "\n",
    "**rubric item:** paths are hardcoded using slashes\n",
    "\n",
    "**points:** 1\n",
    "\n",
    "**reason for rubric:** The slashes that appear in the paths are path separators, and they are OS dependent. If slashes are hardcoded in the answer, then they will only work on computers with that operating system, and not on other computers. To avoid this, `os.path.join` must be used to create paths.\n",
    "\n",
    "**test notebook details:** Code is injected at the start of the notebook which defines new functions `new_join`, `new_basename`, `new_dirname`, and `new_split`. These functions behave similarly to `os.path.join`, `os.path.basename`, `os.path.dirname`, and `os.path.split`, except that instead of the path separator, they use the `&` symbol. All code in the notebook with calls to these functions are then replaced with these new functions."
   ]
  },
  {
   "cell_type": "code",
   "execution_count": 24,
   "id": "db55b2d3",
   "metadata": {
    "execution": {
     "iopub.execute_input": "2024-04-09T16:13:41.038752Z",
     "iopub.status.busy": "2024-04-09T16:13:41.038689Z",
     "iopub.status.idle": "2024-04-09T16:13:41.094420Z",
     "shell.execute_reply": "2024-04-09T16:13:41.094201Z"
    }
   },
   "outputs": [
    {
     "name": "stdout",
     "output_type": "stream",
     "text": [
      "All test cases passed!\n"
     ]
    }
   ],
   "source": [
    "\"\"\" # BEGIN TEST CONFIG\n",
    "success_message: Note that the Gradescope autograder will deduct points if your code fails the following rubric point - 'paths are hardcoded using slashes (-1)'.The public tests cannot determine if your code satisfies these requirements. Verify your code manually.\n",
    "\"\"\" # END TEST CONFIG\n",
    "\n",
    "public_tests.rubric_check('q4: paths are hardcoded using slashes')"
   ]
  },
  {
   "cell_type": "raw",
   "id": "4c4245d7",
   "metadata": {},
   "source": [
    "# END TESTS"
   ]
  },
  {
   "cell_type": "raw",
   "id": "66b9b144",
   "metadata": {
    "lines_to_next_cell": 0
   },
   "source": [
    "# END QUESTION"
   ]
  },
  {
   "cell_type": "raw",
   "id": "821c0568",
   "metadata": {},
   "source": [
    "# BEGIN QUESTION\n",
    "name: Star\n",
    "points: 0"
   ]
  },
  {
   "cell_type": "markdown",
   "id": "549ef1f9",
   "metadata": {},
   "source": [
    "### Data Structure 1: namedtuple `Star`\n",
    "\n",
    "You will be using named tuples to store the data in the `stars_1.csv`, ..., `stars_5.csv` files. Before you start reading these files however, you **must** create a new `Star` type (using namedtuple). It **must** have the following attributes:\n",
    "\n",
    "* `spectral_type`,\n",
    "* `stellar_effective_temperature`,\n",
    "* `stellar_radius`,\n",
    "* `stellar_mass`,\n",
    "* `stellar_luminosity`,\n",
    "* `stellar_surface_gravity`,\n",
    "* `stellar_age`."
   ]
  },
  {
   "cell_type": "raw",
   "id": "ef6f6436",
   "metadata": {},
   "source": [
    "# BEGIN SOLUTION"
   ]
  },
  {
   "cell_type": "code",
   "execution_count": 25,
   "id": "1b4d2a53",
   "metadata": {
    "execution": {
     "iopub.execute_input": "2024-04-09T16:13:41.095745Z",
     "iopub.status.busy": "2024-04-09T16:13:41.095676Z",
     "iopub.status.idle": "2024-04-09T16:13:41.097406Z",
     "shell.execute_reply": "2024-04-09T16:13:41.097171Z"
    },
    "lines_to_next_cell": 0
   },
   "outputs": [],
   "source": [
    "# define the namedtuple 'Star' here\n",
    "\n",
    "# BEGIN SOLUTION NO PROMPT\n",
    "star_attributes = ['spectral_type',\n",
    "                  'stellar_effective_temperature',\n",
    "                  'stellar_radius',\n",
    "                  'stellar_mass',\n",
    "                  'stellar_luminosity',\n",
    "                  'stellar_surface_gravity',\n",
    "                  'stellar_age']\n",
    "\n",
    "Star = namedtuple(\"Star\", star_attributes)\n",
    "# END SOLUTION"
   ]
  },
  {
   "cell_type": "code",
   "execution_count": 26,
   "id": "b18fa0d1",
   "metadata": {
    "execution": {
     "iopub.execute_input": "2024-04-09T16:13:41.098526Z",
     "iopub.status.busy": "2024-04-09T16:13:41.098464Z",
     "iopub.status.idle": "2024-04-09T16:13:41.100437Z",
     "shell.execute_reply": "2024-04-09T16:13:41.100222Z"
    }
   },
   "outputs": [
    {
     "data": {
      "text/plain": [
       "Star(spectral_type='G2 V', stellar_effective_temperature=5780.0, stellar_radius=1.0, stellar_mass=1.0, stellar_luminosity=0.0, stellar_surface_gravity=4.44, stellar_age=4.6)"
      ]
     },
     "execution_count": 26,
     "metadata": {},
     "output_type": "execute_result"
    }
   ],
   "source": [
    "# run this following cell to initialize and test an example Star object\n",
    "# if this cell fails to execute, you have likely not defined the namedtuple 'Star' correctly\n",
    "\n",
    "sun = Star('G2 V', 5780.0, 1.0, 1.0, 0.0, 4.44, 4.6)\n",
    "\n",
    "sun"
   ]
  },
  {
   "cell_type": "raw",
   "id": "732a8aef",
   "metadata": {},
   "source": [
    "# END SOLUTION"
   ]
  },
  {
   "cell_type": "raw",
   "id": "60966917",
   "metadata": {},
   "source": [
    "# BEGIN TESTS"
   ]
  },
  {
   "cell_type": "markdown",
   "id": "3f503d38",
   "metadata": {},
   "source": [
    "## IGNORE ##\n",
    "\n",
    "#### Public Test\n",
    "\n",
    "**points:** 2\n",
    "\n",
    "**format:** TEXT_FORMAT_NAMEDTUPLE\n",
    "\n",
    "**answer:** sun"
   ]
  },
  {
   "cell_type": "code",
   "execution_count": 27,
   "id": "01f0d4c2",
   "metadata": {
    "execution": {
     "iopub.execute_input": "2024-04-09T16:13:41.101695Z",
     "iopub.status.busy": "2024-04-09T16:13:41.101635Z",
     "iopub.status.idle": "2024-04-09T16:13:41.103237Z",
     "shell.execute_reply": "2024-04-09T16:13:41.103004Z"
    }
   },
   "outputs": [
    {
     "name": "stdout",
     "output_type": "stream",
     "text": [
      "All test cases passed!\n"
     ]
    }
   ],
   "source": [
    "public_tests.check('Star', sun)"
   ]
  },
  {
   "cell_type": "markdown",
   "id": "e374310b",
   "metadata": {},
   "source": [
    "## IGNORE ##\n",
    "\n",
    "#### Hidden Test\n",
    "\n",
    "**rubric item:** data structure is defined more than once\n",
    "\n",
    "**points:** 1\n",
    "\n",
    "**reason for rubric:** It is a bad idea to define a data structure more than once, if defining the data structure is a time consuming process. In that case, the data structure must be defined once, and stored to be used for access later, instead of being redefined when it is needed.\n",
    "\n",
    "**test notebook details:** Code is injected at the start of the notebook which defines an empty dictionary called `hidn_namedtuple_count`, and then redefines the `namedtuple` function so that it modifies the global variable `hidn_namedtuple_count` and increases the count of the input by *1*, before returning the correct `namedtuple` class. Code is then injected at the end of the notebook which tests if `hidn_namedtuple_count['Star']` is equal to *1*."
   ]
  },
  {
   "cell_type": "code",
   "execution_count": 28,
   "id": "02600135",
   "metadata": {
    "execution": {
     "iopub.execute_input": "2024-04-09T16:13:41.104341Z",
     "iopub.status.busy": "2024-04-09T16:13:41.104278Z",
     "iopub.status.idle": "2024-04-09T16:13:41.160498Z",
     "shell.execute_reply": "2024-04-09T16:13:41.160260Z"
    }
   },
   "outputs": [
    {
     "name": "stdout",
     "output_type": "stream",
     "text": [
      "All test cases passed!\n"
     ]
    }
   ],
   "source": [
    "\"\"\" # BEGIN TEST CONFIG\n",
    "success_message: Note that the Gradescope autograder will deduct points if your code fails the following rubric point - 'data structure is defined more than once (-1)'.The public tests cannot determine if your code satisfies these requirements. Verify your code manually.\n",
    "\"\"\" # END TEST CONFIG\n",
    "\n",
    "public_tests.rubric_check('Star: data structure is defined more than once')"
   ]
  },
  {
   "cell_type": "markdown",
   "id": "16e6982f",
   "metadata": {},
   "source": [
    "## IGNORE ##\n",
    "\n",
    "#### Hidden Test\n",
    "\n",
    "**rubric item:** data structure is defined incorrectly\n",
    "\n",
    "**points:** 1\n",
    "\n",
    "**reason for rubric:** The data structure is used to answer a lot of questions, and any errors in the definition will affect all of those questions. So, it is very important to make sure that the data structure is defined correctly.\n",
    "\n",
    "**test notebook details:** Code is injected at the end of the notebook to test whether we can redefine the variable `sun` to be a different `Star` object."
   ]
  },
  {
   "cell_type": "code",
   "execution_count": 29,
   "id": "0c11c405",
   "metadata": {
    "execution": {
     "iopub.execute_input": "2024-04-09T16:13:41.161683Z",
     "iopub.status.busy": "2024-04-09T16:13:41.161611Z",
     "iopub.status.idle": "2024-04-09T16:13:41.217567Z",
     "shell.execute_reply": "2024-04-09T16:13:41.217346Z"
    }
   },
   "outputs": [
    {
     "name": "stdout",
     "output_type": "stream",
     "text": [
      "All test cases passed!\n"
     ]
    }
   ],
   "source": [
    "\"\"\" # BEGIN TEST CONFIG\n",
    "success_message: Note that the Gradescope autograder will deduct points if your code fails the following rubric point - 'data structure is defined incorrectly (-1)'.The public tests cannot determine if your code satisfies these requirements. Verify your code manually.\n",
    "\"\"\" # END TEST CONFIG\n",
    "\n",
    "public_tests.rubric_check('Star: data structure is defined incorrectly')"
   ]
  },
  {
   "cell_type": "raw",
   "id": "666455c8",
   "metadata": {},
   "source": [
    "# END TESTS"
   ]
  },
  {
   "cell_type": "raw",
   "id": "2b8c6b4f",
   "metadata": {
    "lines_to_next_cell": 0
   },
   "source": [
    "# END QUESTION"
   ]
  },
  {
   "cell_type": "raw",
   "id": "b08bd234",
   "metadata": {},
   "source": [
    "# BEGIN QUESTION\n",
    "name: process_csv\n",
    "points: 0"
   ]
  },
  {
   "cell_type": "markdown",
   "id": "10544951",
   "metadata": {},
   "source": [
    "### Creating `Star` objects\n",
    "\n",
    "Now that we have created the `Star` namedtuple, our next objective will be to read the files `stars_1.csv`, ..., `stars_5.csv` and create `Star` objects out of all the stars in there. In order to process the CSV files, you will first need to copy/paste the `process_csv` function you have been using since P6."
   ]
  },
  {
   "cell_type": "raw",
   "id": "85459760",
   "metadata": {},
   "source": [
    "# BEGIN SOLUTION"
   ]
  },
  {
   "cell_type": "code",
   "execution_count": 30,
   "id": "75e8b09f",
   "metadata": {
    "execution": {
     "iopub.execute_input": "2024-04-09T16:13:41.218924Z",
     "iopub.status.busy": "2024-04-09T16:13:41.218861Z",
     "iopub.status.idle": "2024-04-09T16:13:41.220562Z",
     "shell.execute_reply": "2024-04-09T16:13:41.220339Z"
    }
   },
   "outputs": [],
   "source": [
    "# copy & paste the process_csv file from previous projects here\n",
    "\n",
    "# BEGIN SOLUTION NO PROMPT\n",
    "def process_csv(filename):\n",
    "    csv_file = open(filename, encoding=\"utf-8\")\n",
    "    csv_reader = csv.reader(csv_file)\n",
    "    csv_data = list(csv_reader)\n",
    "    csv_file.close()\n",
    "    return csv_data\n",
    "# END SOLUTION"
   ]
  },
  {
   "cell_type": "raw",
   "id": "295c9b9d",
   "metadata": {},
   "source": [
    "# END SOLUTION"
   ]
  },
  {
   "cell_type": "raw",
   "id": "ffb95fee",
   "metadata": {},
   "source": [
    "# END QUESTION"
   ]
  },
  {
   "cell_type": "raw",
   "id": "3e357e11",
   "metadata": {},
   "source": [
    "# BEGIN QUESTION\n",
    "name: stars_1_csv\n",
    "points: 0"
   ]
  },
  {
   "cell_type": "markdown",
   "id": "5dfab81c",
   "metadata": {},
   "source": [
    "You are now ready to read the data in `stars_1.csv` using `process_csv` and convert the data into `Star` objects. In the cell below, you **must** read the data in `stars_1.csv` and extract the **header** and the non-header **rows** of the file."
   ]
  },
  {
   "cell_type": "raw",
   "id": "6a1de238",
   "metadata": {},
   "source": [
    "# BEGIN SOLUTION"
   ]
  },
  {
   "cell_type": "code",
   "execution_count": 31,
   "id": "0322bf85",
   "metadata": {
    "execution": {
     "iopub.execute_input": "2024-04-09T16:13:41.221862Z",
     "iopub.status.busy": "2024-04-09T16:13:41.221798Z",
     "iopub.status.idle": "2024-04-09T16:13:41.224835Z",
     "shell.execute_reply": "2024-04-09T16:13:41.224568Z"
    }
   },
   "outputs": [],
   "source": [
    "# replace the ... with your code\n",
    "\n",
    "\"\"\"# BEGIN PROMPT\n",
    "stars_1_csv = ... # read the data in 'stars_1.csv'\n",
    "stars_header = ...\n",
    "stars_1_rows = ...\n",
    "\"\"\";# END PROMPT\n",
    "# BEGIN SOLUTION NO PROMPT\n",
    "stars_1_csv = process_csv(os.path.join(\"data\", \"stars_1.csv\"))\n",
    "stars_header = stars_1_csv[0]\n",
    "stars_1_rows = stars_1_csv[1:]\n",
    "# END SOLUTION"
   ]
  },
  {
   "cell_type": "raw",
   "id": "7c78bc5b",
   "metadata": {},
   "source": [
    "# END SOLUTION"
   ]
  },
  {
   "cell_type": "raw",
   "id": "5808fb05",
   "metadata": {},
   "source": [
    "# END QUESTION"
   ]
  },
  {
   "cell_type": "markdown",
   "id": "3ecbd66c",
   "metadata": {},
   "source": [
    "If you wish to **verify** that you have read the file and defined the variables correctly, you can check that `stars_header` has the value:\n",
    "\n",
    "```python\n",
    "['Star Name', 'Spectral Type', 'Stellar Effective Temperature [K]', 'Stellar Radius [Solar Radius]',\n",
    " 'Stellar Mass [Solar mass]', 'Stellar Luminosity [log(Solar)]', \n",
    " 'Stellar Surface Gravity [log10(cm/s**2)]', 'Stellar Age [Gyr]']\n",
    "```\n",
    "\n",
    "and that `stars_1_rows` has **1610** rows of which the **first three** are:\n",
    "\n",
    "```python\n",
    "[['11 Com', 'G8III', '4874.00', '13.76', '2.09', '1.978', '2.45', ''],\n",
    " ['11 UMi', 'K4III', '4213.00', '29.79', '2.78', '2.430', '1.93', '1.560'],\n",
    " ['14 And', 'K0III', '4888.00', '11.55', '1.78', '1.840', '2.55', '4.500']]\n",
    "```"
   ]
  },
  {
   "cell_type": "raw",
   "id": "3d6a0c65",
   "metadata": {},
   "source": [
    "# BEGIN QUESTION\n",
    "name: star_cell\n",
    "points: 0"
   ]
  },
  {
   "cell_type": "markdown",
   "id": "1b5d0bcf",
   "metadata": {},
   "source": [
    "### Function 1: `star_cell(row_idx, col_name, stars_rows, header=stars_header)`\n",
    "\n",
    "This function **must** read the **list** of **lists** `stars_rows`, and extract the value at **row** index `row_idx` and **column** index `col_idx`. The function **must** typecast the value based on `col_name`. If the value in `stars_rows` is **missing** (i.e., it is `''`), then the value returned **must** be `None`.\n",
    "\n",
    "The **column** of `stars_rows` where the value should be obtained from, and the correct **data type** for the value are listed in the table below:\n",
    "\n",
    "|Column of `stars_rows`|Data Type|\n",
    "|------|---------|\n",
    "|Star Name|**string**|\n",
    "|Spectral Type|**string**|\n",
    "|Stellar Effective Temperature [K]|**float**|\n",
    "|Stellar Radius [Solar Radius]|**float**|\n",
    "|Stellar Mass [Solar mass]|**float**|\n",
    "|Stellar Luminosity [log(Solar)]|**float**|\n",
    "|Stellar Surface Gravity [log10(cm/s**2)]|**float**|\n",
    "|Stellar Age [Gyr]|**float**|\n",
    "\n",
    "You are **allowed** to copy/paste this function from Lab-P10."
   ]
  },
  {
   "cell_type": "raw",
   "id": "a0d6bb1e",
   "metadata": {},
   "source": [
    "# BEGIN SOLUTION"
   ]
  },
  {
   "cell_type": "code",
   "execution_count": 32,
   "id": "061ef7fd",
   "metadata": {
    "execution": {
     "iopub.execute_input": "2024-04-09T16:13:41.226167Z",
     "iopub.status.busy": "2024-04-09T16:13:41.226101Z",
     "iopub.status.idle": "2024-04-09T16:13:41.229150Z",
     "shell.execute_reply": "2024-04-09T16:13:41.228973Z"
    }
   },
   "outputs": [],
   "source": [
    "# define the 'star_cell' function here\n",
    "\n",
    "# BEGIN SOLUTION NO PROMPT\n",
    "# these variables are redefined here so it is easier for the hidden tests to identify the dependent global variables\n",
    "stars_1_csv = process_csv(os.path.join(\"data\", \"stars_1.csv\"))\n",
    "stars_header = stars_1_csv[0]\n",
    "stars_1_rows = stars_1_csv[1:]\n",
    "\n",
    "def star_cell(row_idx, col_name, stars_rows, header=stars_header):\n",
    "    col_idx = header.index(col_name)\n",
    "    val = stars_rows[row_idx][col_idx]\n",
    "    if val == '':\n",
    "        return None\n",
    "    elif col_name in [\"Stellar Effective Temperature [K]\", \"Stellar Radius [Solar Radius]\", \\\n",
    "                     \"Stellar Mass [Solar mass]\", \"Stellar Luminosity [log(Solar)]\", \\\n",
    "                      \"Stellar Surface Gravity [log10(cm/s**2)]\", \"Stellar Age [Gyr]\"]:\n",
    "        return float(val)\n",
    "    else:\n",
    "        return val\n",
    "# END SOLUTION"
   ]
  },
  {
   "cell_type": "raw",
   "id": "9a68376f",
   "metadata": {},
   "source": [
    "# END SOLUTION"
   ]
  },
  {
   "cell_type": "raw",
   "id": "35bda82c",
   "metadata": {},
   "source": [
    "# BEGIN TESTS"
   ]
  },
  {
   "cell_type": "markdown",
   "id": "4fdd19d0",
   "metadata": {},
   "source": [
    "## IGNORE ##\n",
    "\n",
    "#### Public Test\n",
    "\n",
    "**points:** 4"
   ]
  },
  {
   "cell_type": "markdown",
   "id": "53575cc1",
   "metadata": {},
   "source": [
    "## IGNORE ##\n",
    "\n",
    "#### Hidden Test\n",
    "\n",
    "**rubric item:** function does not typecast values based on columns\n",
    "\n",
    "**points:** 1\n",
    "\n",
    "**reason for rubric:** This function is to be used to extract all data from the stars files. Therefore, it would be useful to make sure that this function typecasts the values befre returning them. Otherwise, the outputs of this function would need to be explicitly typecast everywhere, which would be unnecessary.\n",
    "\n",
    "**test dataset details:** The dataset is modified to save runtime.\n",
    "\n",
    "**test notebook details:** The output of the function `star_cell` is tested on inputs of the first row index, on all columns, for all planets rows. `nb['cells'][-2]['source']` is then modified so that the line `check = public_tests.compare(expected_val, actual_val, test_format)` is replaced with `check = public_tests.compare(type(expected_val), type(actual_val), test_format)`."
   ]
  },
  {
   "cell_type": "code",
   "execution_count": 33,
   "id": "c90c5fad",
   "metadata": {
    "execution": {
     "iopub.execute_input": "2024-04-09T16:13:41.230344Z",
     "iopub.status.busy": "2024-04-09T16:13:41.230281Z",
     "iopub.status.idle": "2024-04-09T16:13:41.310319Z",
     "shell.execute_reply": "2024-04-09T16:13:41.310063Z"
    }
   },
   "outputs": [
    {
     "name": "stdout",
     "output_type": "stream",
     "text": [
      "All test cases passed!\n"
     ]
    }
   ],
   "source": [
    "\"\"\" # BEGIN TEST CONFIG\n",
    "success_message: Note that the Gradescope autograder will deduct points if your code fails the following rubric point - 'function does not typecast values based on columns (-1)'.The public tests cannot determine if your code satisfies these requirements. Verify your code manually.\n",
    "\"\"\" # END TEST CONFIG\n",
    "\n",
    "public_tests.rubric_check('star_cell: function does not typecast values based on columns')"
   ]
  },
  {
   "cell_type": "markdown",
   "id": "abe0db78",
   "metadata": {},
   "source": [
    "## IGNORE ##\n",
    "\n",
    "#### Hidden Test\n",
    "\n",
    "**rubric item:** column indices are hardcoded instead of using column names\n",
    "\n",
    "**points:** 1\n",
    "\n",
    "**reason for rubric:** The column indices are not a part of the question, only the column names. So the typecasting must be performed using the column name and not using hardcoded column indices.\n",
    "\n",
    "**test dataset details:** Using a fixed seed, all the files in `data` that begin with `stars` are parsed, and their columns are permuted.\n",
    "\n",
    "**test notebook details:** The output of the function `star_cell` is tested on inputs of the first row index, on all columns, for all stars rows."
   ]
  },
  {
   "cell_type": "code",
   "execution_count": 34,
   "id": "17160ea9",
   "metadata": {
    "execution": {
     "iopub.execute_input": "2024-04-09T16:13:41.311663Z",
     "iopub.status.busy": "2024-04-09T16:13:41.311591Z",
     "iopub.status.idle": "2024-04-09T16:13:41.368153Z",
     "shell.execute_reply": "2024-04-09T16:13:41.367923Z"
    }
   },
   "outputs": [
    {
     "name": "stdout",
     "output_type": "stream",
     "text": [
      "All test cases passed!\n"
     ]
    }
   ],
   "source": [
    "\"\"\" # BEGIN TEST CONFIG\n",
    "success_message: Note that the Gradescope autograder will deduct points if your code fails the following rubric point - 'column indices are hardcoded instead of using column names (-1)'.The public tests cannot determine if your code satisfies these requirements. Verify your code manually.\n",
    "\"\"\" # END TEST CONFIG\n",
    "\n",
    "public_tests.rubric_check('star_cell: column indices are hardcoded instead of using column names')"
   ]
  },
  {
   "cell_type": "markdown",
   "id": "51bad627",
   "metadata": {},
   "source": [
    "## IGNORE ##\n",
    "\n",
    "#### Hidden Test\n",
    "\n",
    "**rubric item:** function logic is incorrect\n",
    "\n",
    "**points:** 1\n",
    "\n",
    "**reason for rubric:** This function is to be used to extract all data from the stars files. Therefore, it is extremely important that this function outputs the correct values on all inputs.\n",
    "\n",
    "**test dataset details:** The dataset is completely modified. All files in `data` that begin with `stars` are parsed, and with probability `1/50`, each value is replaced with `None`.\n",
    "\n",
    "**test notebook details:** The output of the function `star_cell` is tested on inputs of all row indices, on all columns, for all stars rows."
   ]
  },
  {
   "cell_type": "code",
   "execution_count": 35,
   "id": "41e6c5fc",
   "metadata": {
    "execution": {
     "iopub.execute_input": "2024-04-09T16:13:41.369293Z",
     "iopub.status.busy": "2024-04-09T16:13:41.369233Z",
     "iopub.status.idle": "2024-04-09T16:13:41.425344Z",
     "shell.execute_reply": "2024-04-09T16:13:41.425113Z"
    }
   },
   "outputs": [
    {
     "name": "stdout",
     "output_type": "stream",
     "text": [
      "All test cases passed!\n"
     ]
    }
   ],
   "source": [
    "\"\"\" # BEGIN TEST CONFIG\n",
    "success_message: Note that the Gradescope autograder will deduct points if your code fails the following rubric point - 'function logic is incorrect (-1)'.The public tests cannot determine if your code satisfies these requirements. Verify your code manually.\n",
    "\"\"\" # END TEST CONFIG\n",
    "\n",
    "public_tests.rubric_check('star_cell: function logic is incorrect')"
   ]
  },
  {
   "cell_type": "markdown",
   "id": "472abe90",
   "metadata": {},
   "source": [
    "## IGNORE ##\n",
    "\n",
    "#### Hidden Test\n",
    "\n",
    "**rubric item:** function is defined more than once\n",
    "\n",
    "**points:** 1\n",
    "\n",
    "**reason for rubric:** It is a bad idea to define a function more than once. If the differnt function definitions behave even slightly differently, then the output of the function would change based on when the function is called in the code, which would make the code hard to read and debug."
   ]
  },
  {
   "cell_type": "code",
   "execution_count": 36,
   "id": "210d08a3",
   "metadata": {
    "execution": {
     "iopub.execute_input": "2024-04-09T16:13:41.426586Z",
     "iopub.status.busy": "2024-04-09T16:13:41.426524Z",
     "iopub.status.idle": "2024-04-09T16:13:41.482074Z",
     "shell.execute_reply": "2024-04-09T16:13:41.481842Z"
    }
   },
   "outputs": [
    {
     "name": "stdout",
     "output_type": "stream",
     "text": [
      "All test cases passed!\n"
     ]
    }
   ],
   "source": [
    "\"\"\" # BEGIN TEST CONFIG\n",
    "success_message: Note that the Gradescope autograder will deduct points if your code fails the following rubric point - 'function is defined more than once (-1)'.The public tests cannot determine if your code satisfies these requirements. Verify your code manually.\n",
    "\"\"\" # END TEST CONFIG\n",
    "\n",
    "public_tests.rubric_check('star_cell: function is defined more than once')"
   ]
  },
  {
   "cell_type": "raw",
   "id": "62305ecc",
   "metadata": {},
   "source": [
    "# END TESTS"
   ]
  },
  {
   "cell_type": "raw",
   "id": "ac8935ac",
   "metadata": {},
   "source": [
    "# END QUESTION"
   ]
  },
  {
   "cell_type": "raw",
   "id": "c6988396",
   "metadata": {},
   "source": [
    "# BEGIN QUESTION\n",
    "name: q5\n",
    "points: 0"
   ]
  },
  {
   "cell_type": "markdown",
   "id": "b020cfb8",
   "metadata": {},
   "source": [
    "**Question 5:** Create a `Star` object for the **third** star (i.e., *row index* **2**) in `\"stars_1.csv\"`.\n",
    "\n",
    "You **must** access the values in `stars_1.csv` using the `star_cell` function. Note that the third star would be at **index** 2.\n",
    "\n",
    "The **attribute** of the `Star` namedtuple object, the corresponding **column** of the `stars_1.csv` file where the value should be obtained from, and the correct **data type** for the value are listed in the table below:\n",
    "\n",
    "|Attribute of `Star` object|Column of `stars_1.csv`|Data Type|\n",
    "|---------|------|---------|\n",
    "|`spectral_type`|Spectral Type|**string**|\n",
    "|`stellar_effective_temperature`|Stellar Effective Temperature [K]|**float**|\n",
    "|`stellar_radius`|Stellar Radius [Solar Radius]|**float**|\n",
    "|`stellar_mass`|Stellar Mass [Solar mass]|**float**|\n",
    "|`stellar_luminosity`|Stellar Luminosity [log(Solar)]|**float**|\n",
    "|`stellar_surface_gravity`|Stellar Surface Gravity [log10(cm/s**2)]|**float**|\n",
    "|`stellar_age`|Stellar Age [Gyr]|**float**|"
   ]
  },
  {
   "cell_type": "raw",
   "id": "1fe993b0",
   "metadata": {
    "lines_to_next_cell": 0
   },
   "source": [
    "# BEGIN SOLUTION"
   ]
  },
  {
   "cell_type": "code",
   "execution_count": 37,
   "id": "01a1bea0",
   "metadata": {
    "execution": {
     "iopub.execute_input": "2024-04-09T16:13:41.483426Z",
     "iopub.status.busy": "2024-04-09T16:13:41.483361Z",
     "iopub.status.idle": "2024-04-09T16:13:41.485877Z",
     "shell.execute_reply": "2024-04-09T16:13:41.485655Z"
    },
    "lines_to_next_cell": 0
   },
   "outputs": [
    {
     "data": {
      "text/plain": [
       "Star(spectral_type='K0III', stellar_effective_temperature=4888.0, stellar_radius=11.55, stellar_mass=1.78, stellar_luminosity=1.84, stellar_surface_gravity=2.55, stellar_age=4.5)"
      ]
     },
     "execution_count": 37,
     "metadata": {},
     "output_type": "execute_result"
    }
   ],
   "source": [
    " # compute and store the answer in the variable 'third_star', then display it\n",
    "\n",
    "# BEGIN SOLUTION NO PROMPT\n",
    "row_idx = 2\n",
    "\n",
    "spectral_type = star_cell(row_idx, 'Spectral Type', stars_1_rows)\n",
    "stellar_effective_temperature = star_cell(row_idx, 'Stellar Effective Temperature [K]', stars_1_rows)\n",
    "stellar_radius = star_cell(row_idx, 'Stellar Radius [Solar Radius]', stars_1_rows)\n",
    "stellar_mass = star_cell(row_idx, 'Stellar Mass [Solar mass]', stars_1_rows)\n",
    "stellar_luminosity = star_cell(row_idx, 'Stellar Luminosity [log(Solar)]', stars_1_rows)\n",
    "stellar_surface_gravity = star_cell(row_idx, 'Stellar Surface Gravity [log10(cm/s**2)]', stars_1_rows)\n",
    "stellar_age = star_cell(row_idx, 'Stellar Age [Gyr]', stars_1_rows)\n",
    "\n",
    "third_star = Star(spectral_type, stellar_effective_temperature, stellar_radius, \\\n",
    "                  stellar_mass, stellar_luminosity, stellar_surface_gravity, stellar_age)\n",
    "\n",
    "third_star\n",
    "# END SOLUTION"
   ]
  },
  {
   "cell_type": "raw",
   "id": "888caafa",
   "metadata": {},
   "source": [
    "# END SOLUTION"
   ]
  },
  {
   "cell_type": "raw",
   "id": "25dbfcc7",
   "metadata": {},
   "source": [
    "# BEGIN TESTS"
   ]
  },
  {
   "cell_type": "markdown",
   "id": "a30cfeb0",
   "metadata": {},
   "source": [
    "## IGNORE ##\n",
    "\n",
    "#### Public Test\n",
    "\n",
    "**points:** 4\n",
    "\n",
    "**format:** TEXT_FORMAT_NAMEDTUPLE\n",
    "\n",
    "**answer:** third_star"
   ]
  },
  {
   "cell_type": "code",
   "execution_count": 38,
   "id": "1a14eb8d",
   "metadata": {
    "execution": {
     "iopub.execute_input": "2024-04-09T16:13:41.487057Z",
     "iopub.status.busy": "2024-04-09T16:13:41.486996Z",
     "iopub.status.idle": "2024-04-09T16:13:41.488586Z",
     "shell.execute_reply": "2024-04-09T16:13:41.488355Z"
    }
   },
   "outputs": [
    {
     "name": "stdout",
     "output_type": "stream",
     "text": [
      "All test cases passed!\n"
     ]
    }
   ],
   "source": [
    "public_tests.check('q5', third_star)"
   ]
  },
  {
   "cell_type": "markdown",
   "id": "0815a712",
   "metadata": {},
   "source": [
    "## IGNORE ##\n",
    "\n",
    "#### Hidden Test\n",
    "\n",
    "**rubric item:** `star_cell` function is not used to answer\n",
    "\n",
    "**points:** 1\n",
    "\n",
    "**reason for rubric:** The function has already been defined, and performs the required task, so it would be wasteful to answer this question without making use of this function.\n",
    "\n",
    "**test notebook details:** The function is replaced with a function that behaves differently from the given function."
   ]
  },
  {
   "cell_type": "code",
   "execution_count": 39,
   "id": "280cdcdd",
   "metadata": {
    "execution": {
     "iopub.execute_input": "2024-04-09T16:13:41.489663Z",
     "iopub.status.busy": "2024-04-09T16:13:41.489599Z",
     "iopub.status.idle": "2024-04-09T16:13:41.545776Z",
     "shell.execute_reply": "2024-04-09T16:13:41.545552Z"
    }
   },
   "outputs": [
    {
     "name": "stdout",
     "output_type": "stream",
     "text": [
      "All test cases passed!\n"
     ]
    }
   ],
   "source": [
    "\"\"\" # BEGIN TEST CONFIG\n",
    "success_message: Note that the Gradescope autograder will deduct points if your code fails the following rubric point - '`star_cell` function is not used to answer (-1)'.The public tests cannot determine if your code satisfies these requirements. Verify your code manually.\n",
    "\"\"\" # END TEST CONFIG\n",
    "\n",
    "public_tests.rubric_check('q5: `star_cell` function is not used to answer')"
   ]
  },
  {
   "cell_type": "markdown",
   "id": "052ba2d0",
   "metadata": {},
   "source": [
    "## IGNORE ##\n",
    "\n",
    "#### Hidden Test\n",
    "\n",
    "**rubric item:** answer unnecessarily iterates over the entire dataset\n",
    "\n",
    "**points:** 1\n",
    "\n",
    "**reason for rubric:** The necessary row can be identified without parsing through the entire dataset unnecessarily.\n",
    "\n",
    "**test notebook details:** The function `star_cell` is redefined so that it updates the global variable `hidden_count` by *1* before returning the output as before. Code is injected before this question which defines `hidden_count` to be *0*. Finally, code is injected at the end of the notebook which tests if the value of `hidden_count` is not much more than the length of `stars_header`."
   ]
  },
  {
   "cell_type": "code",
   "execution_count": 40,
   "id": "ef024f28",
   "metadata": {
    "execution": {
     "iopub.execute_input": "2024-04-09T16:13:41.546982Z",
     "iopub.status.busy": "2024-04-09T16:13:41.546917Z",
     "iopub.status.idle": "2024-04-09T16:13:41.602836Z",
     "shell.execute_reply": "2024-04-09T16:13:41.602614Z"
    }
   },
   "outputs": [
    {
     "name": "stdout",
     "output_type": "stream",
     "text": [
      "All test cases passed!\n"
     ]
    }
   ],
   "source": [
    "\"\"\" # BEGIN TEST CONFIG\n",
    "success_message: Note that the Gradescope autograder will deduct points if your code fails the following rubric point - 'answer unnecessarily iterates over the entire dataset (-1)'.The public tests cannot determine if your code satisfies these requirements. Verify your code manually.\n",
    "\"\"\" # END TEST CONFIG\n",
    "\n",
    "public_tests.rubric_check('q5: answer unnecessarily iterates over the entire dataset')"
   ]
  },
  {
   "cell_type": "markdown",
   "id": "e4968d0e",
   "metadata": {},
   "source": [
    "## IGNORE ##\n",
    "\n",
    "#### Hidden Test\n",
    "\n",
    "**rubric item:** paths are hardcoded using slashes\n",
    "\n",
    "**points:** 1\n",
    "\n",
    "**reason for rubric:** The slashes that appear in the paths are path separators, and they are OS dependent. If slashes are hardcoded in the answer, then they will only work on computers with that operating system, and not on other computers. To avoid this, `os.path.join` must be used to create paths. In this question, in particular, `os.path.join` must be used while reading `stars_1.csv`.\n",
    "\n",
    "**test dataset details:** The contents of the file `stars_2.csv` inside the `data` directory are copied to a new file `data&stars_1.csv`.\n",
    "\n",
    "**test notebook details:** Code is injected at the start of the notebook which defines new functions `new_join`, `new_basename`, `new_dirname`, and `new_split`. These functions behave similarly to `os.path.join`, `os.path.basename`, `os.path.dirname`, and `os.path.split`, except that instead of the path separator, they use the `&` symbol. All code in the notebook with calls to these functions are then replaced with these new functions."
   ]
  },
  {
   "cell_type": "code",
   "execution_count": 41,
   "id": "5a095ad4",
   "metadata": {
    "execution": {
     "iopub.execute_input": "2024-04-09T16:13:41.604009Z",
     "iopub.status.busy": "2024-04-09T16:13:41.603945Z",
     "iopub.status.idle": "2024-04-09T16:13:41.660746Z",
     "shell.execute_reply": "2024-04-09T16:13:41.660510Z"
    }
   },
   "outputs": [
    {
     "name": "stdout",
     "output_type": "stream",
     "text": [
      "All test cases passed!\n"
     ]
    }
   ],
   "source": [
    "\"\"\" # BEGIN TEST CONFIG\n",
    "success_message: Note that the Gradescope autograder will deduct points if your code fails the following rubric point - 'paths are hardcoded using slashes (-1)'.The public tests cannot determine if your code satisfies these requirements. Verify your code manually.\n",
    "\"\"\" # END TEST CONFIG\n",
    "\n",
    "public_tests.rubric_check('q5: paths are hardcoded using slashes')"
   ]
  },
  {
   "cell_type": "code",
   "execution_count": 42,
   "id": "86167150",
   "metadata": {
    "execution": {
     "iopub.execute_input": "2024-04-09T16:13:41.661874Z",
     "iopub.status.busy": "2024-04-09T16:13:41.661811Z",
     "iopub.status.idle": "2024-04-09T16:13:41.717765Z",
     "shell.execute_reply": "2024-04-09T16:13:41.717534Z"
    }
   },
   "outputs": [
    {
     "name": "stdout",
     "output_type": "stream",
     "text": [
      "All test cases passed!\n"
     ]
    }
   ],
   "source": [
    "public_tests.rubric_check('q5: public tests')"
   ]
  },
  {
   "cell_type": "raw",
   "id": "5db17a26",
   "metadata": {},
   "source": [
    "# END TESTS"
   ]
  },
  {
   "cell_type": "raw",
   "id": "39f5966c",
   "metadata": {
    "lines_to_next_cell": 0
   },
   "source": [
    "# END QUESTION"
   ]
  },
  {
   "cell_type": "raw",
   "id": "a643da2f",
   "metadata": {},
   "source": [
    "# BEGIN QUESTION\n",
    "name: get_stars\n",
    "points: 0"
   ]
  },
  {
   "cell_type": "markdown",
   "id": "bf286c95",
   "metadata": {},
   "source": [
    "### Function 2:  `get_stars(star_file)`\n",
    "\n",
    "This function **must** take in as its input, the path of a CSV file `star_file` which contains data on stars in the same format as `stars_1.csv`. It **must** return a **dictionary** mapping the `Name` of each star in `star_file` to a `Star` object containing all the other details of the star.\n",
    "\n",
    "You **must** access the values in `star_file` using the `star_cell` function.\n",
    "\n",
    "You **must not** hardcode the name of the directory `data` into the `get_stars` function. Instead, you must pass it as a part of the argument `star_file`, by including it in the **path** `star_file`. In other words, if you want to read the contents of the file `stars_5.csv`, your function call must **not** be: `get_stars(\"stars_5.csv\")`. Instead, it must be:\n",
    "\n",
    "```python\n",
    "get_stars(os.path.join(\"data\", \"stars_5.csv\"))\n",
    "```\n",
    "\n",
    "For example, when this function is called with the **path** to the file `stars_1.csv` as the input, the **dictionary** returned should look like:\n",
    "\n",
    "```python\n",
    "{'11 Com': Star(spectral_type='G8III', stellar_effective_temperature=4874.0, \n",
    "                stellar_radius=13.76, stellar_mass=2.09, stellar_luminosity=1.978, \n",
    "                stellar_surface_gravity=2.45, stellar_age=None),\n",
    " '11 UMi': Star(spectral_type='K4III', stellar_effective_temperature=4213.0, \n",
    "                tellar_radius=29.79, stellar_mass=2.78, stellar_luminosity=2.43, \n",
    "                stellar_surface_gravity=1.93, stellar_age=1.56),\n",
    " '14 And': Star(spectral_type='K0III', stellar_effective_temperature=4888.0, \n",
    "                stellar_radius=11.55, stellar_mass=1.78, stellar_luminosity=1.84, \n",
    "                stellar_surface_gravity=2.55, stellar_age=4.5),\n",
    " ...\n",
    "}\n",
    "```"
   ]
  },
  {
   "cell_type": "raw",
   "id": "ea95e6d7",
   "metadata": {},
   "source": [
    "# BEGIN SOLUTION"
   ]
  },
  {
   "cell_type": "code",
   "execution_count": 43,
   "id": "790d24b9",
   "metadata": {
    "execution": {
     "iopub.execute_input": "2024-04-09T16:13:41.719039Z",
     "iopub.status.busy": "2024-04-09T16:13:41.718975Z",
     "iopub.status.idle": "2024-04-09T16:13:41.721292Z",
     "shell.execute_reply": "2024-04-09T16:13:41.721087Z"
    }
   },
   "outputs": [],
   "source": [
    "# define the function 'get_stars' here\n",
    "\n",
    "# BEGIN SOLUTION NO PROMPT\n",
    "def get_stars(star_file):\n",
    "    stars_data = process_csv(star_file)\n",
    "    stars_header = stars_data[0]\n",
    "    stars_rows = stars_data[1:]\n",
    "    stars = {}\n",
    "    for row_idx in range(len(stars_rows)):\n",
    "        star_name = star_cell(row_idx, 'Star Name', stars_rows)\n",
    "        spectral_type = star_cell(row_idx, 'Spectral Type', stars_rows)\n",
    "        stellar_effective_temperature = star_cell(row_idx, 'Stellar Effective Temperature [K]', stars_rows)\n",
    "        stellar_radius = star_cell(row_idx, 'Stellar Radius [Solar Radius]', stars_rows)\n",
    "        stellar_mass = star_cell(row_idx, 'Stellar Mass [Solar mass]', stars_rows)\n",
    "        stellar_luminosity = star_cell(row_idx, 'Stellar Luminosity [log(Solar)]', stars_rows)\n",
    "        stellar_surface_gravity = star_cell(row_idx, 'Stellar Surface Gravity [log10(cm/s**2)]', stars_rows)\n",
    "        stellar_age = star_cell(row_idx, 'Stellar Age [Gyr]', stars_rows)\n",
    "\n",
    "        star = Star(spectral_type, stellar_effective_temperature, stellar_radius, \\\n",
    "                          stellar_mass, stellar_luminosity, stellar_surface_gravity, stellar_age)\n",
    "        stars[star_name] = star\n",
    "    return stars\n",
    "# END SOLUTION"
   ]
  },
  {
   "cell_type": "code",
   "execution_count": 44,
   "id": "ac87e0b3",
   "metadata": {
    "execution": {
     "iopub.execute_input": "2024-04-09T16:13:41.722345Z",
     "iopub.status.busy": "2024-04-09T16:13:41.722280Z",
     "iopub.status.idle": "2024-04-09T16:13:41.726604Z",
     "shell.execute_reply": "2024-04-09T16:13:41.726371Z"
    }
   },
   "outputs": [],
   "source": [
    "# you can now use 'get_stars' to read the data in 'stars_1.csv'\n",
    "\n",
    "stars_1_dict = get_stars(os.path.join(\"data\", \"stars_1.csv\")) # SOLUTION"
   ]
  },
  {
   "cell_type": "raw",
   "id": "eb1d357a",
   "metadata": {},
   "source": [
    "# END SOLUTION"
   ]
  },
  {
   "cell_type": "raw",
   "id": "0d96acdd",
   "metadata": {},
   "source": [
    "# BEGIN TESTS"
   ]
  },
  {
   "cell_type": "markdown",
   "id": "d5ce16b8",
   "metadata": {},
   "source": [
    "## IGNORE ##\n",
    "\n",
    "#### Public Test\n",
    "\n",
    "**points:** 6"
   ]
  },
  {
   "cell_type": "markdown",
   "id": "4e30b075",
   "metadata": {},
   "source": [
    "## IGNORE ##\n",
    "\n",
    "#### Hidden Test\n",
    "\n",
    "**rubric item:** function logic is incorrect\n",
    "\n",
    "**points:** 2\n",
    "\n",
    "**reason for rubric:** This function is to be used to extract all data from the stars files. Therefore, it is extremely important that this function outputs the correct values on all inputs.\n",
    "\n",
    "**test notebook details:** The output of the function `get_stars` is tested on inputs of all files in the `data` directory that begin with `stars`."
   ]
  },
  {
   "cell_type": "code",
   "execution_count": 45,
   "id": "3d7e0d0b",
   "metadata": {
    "execution": {
     "iopub.execute_input": "2024-04-09T16:13:41.727946Z",
     "iopub.status.busy": "2024-04-09T16:13:41.727882Z",
     "iopub.status.idle": "2024-04-09T16:13:41.784529Z",
     "shell.execute_reply": "2024-04-09T16:13:41.784303Z"
    }
   },
   "outputs": [
    {
     "name": "stdout",
     "output_type": "stream",
     "text": [
      "All test cases passed!\n"
     ]
    }
   ],
   "source": [
    "\"\"\" # BEGIN TEST CONFIG\n",
    "success_message: Note that the Gradescope autograder will deduct points if your code fails the following rubric point - 'function logic is incorrect (-2)'.The public tests cannot determine if your code satisfies these requirements. Verify your code manually.\n",
    "\"\"\" # END TEST CONFIG\n",
    "\n",
    "public_tests.rubric_check('get_stars: function logic is incorrect')"
   ]
  },
  {
   "cell_type": "markdown",
   "id": "b9557457",
   "metadata": {},
   "source": [
    "## IGNORE ##\n",
    "\n",
    "#### Hidden Test\n",
    "\n",
    "**rubric item:** hardcoded the name of directory inside the function instead of passing it as a part of the input argument\n",
    "\n",
    "**points:** 1\n",
    "\n",
    "**reason for rubric:** If the directory `data` is hardcoded inside the function, the function cannot be used to read data in any other directory. This will be a problem in the next project P11, so it is important to make sure that the directory is not hardcoded within the function itself.\n",
    "\n",
    "**test dataset details:** Some `stars` files in `data` directory are copied to a new directory called `false_data`. Some other `stars` files in `data` are moved to a new file called `new_stars.csv` outside the directory.\n",
    "\n",
    "**test notebook details:** The output of the function `get_stars` is tested on inputs of the files inside the `false_data` directory, as well as the file `new_stars.csv`."
   ]
  },
  {
   "cell_type": "code",
   "execution_count": 46,
   "id": "6f0bfcd8",
   "metadata": {
    "execution": {
     "iopub.execute_input": "2024-04-09T16:13:41.785727Z",
     "iopub.status.busy": "2024-04-09T16:13:41.785660Z",
     "iopub.status.idle": "2024-04-09T16:13:41.864884Z",
     "shell.execute_reply": "2024-04-09T16:13:41.864612Z"
    }
   },
   "outputs": [
    {
     "name": "stdout",
     "output_type": "stream",
     "text": [
      "All test cases passed!\n"
     ]
    }
   ],
   "source": [
    "\"\"\" # BEGIN TEST CONFIG\n",
    "success_message: Note that the Gradescope autograder will deduct points if your code fails the following rubric point - 'hardcoded the name of directory inside the function instead of passing it as a part of the input argument (-1)'.The public tests cannot determine if your code satisfies these requirements. Verify your code manually.\n",
    "\"\"\" # END TEST CONFIG\n",
    "\n",
    "public_tests.rubric_check('get_stars: hardcoded the name of directory inside the function instead of passing it as a part of the input argument')"
   ]
  },
  {
   "cell_type": "markdown",
   "id": "aacc61d8",
   "metadata": {},
   "source": [
    "## IGNORE ##\n",
    "\n",
    "#### Hidden Test\n",
    "\n",
    "**rubric item:** function is called more than twice with the same dataset\n",
    "\n",
    "**points:** 1\n",
    "\n",
    "**reason for rubric:** This is a slow function which must not be called unnecessarily on the same input file. Instead, after calling this function once, the data must be stored in a variable, to be accessed later.\n",
    "\n",
    "**test notebook details:** The notebook is not truncated at all. The function `get_stars` is replaced with a function that updates the global variable `hidden_count` which is initialized before the function definition to be an empty dictionary. The function updates the count of the input file by *1* before returning the output as before. Code is then injected at the end of the notebook to test if the maximum value of the dictionary `hidden_count` is at most *2*."
   ]
  },
  {
   "cell_type": "code",
   "execution_count": 47,
   "id": "15cf5cbc",
   "metadata": {
    "execution": {
     "iopub.execute_input": "2024-04-09T16:13:41.866215Z",
     "iopub.status.busy": "2024-04-09T16:13:41.866146Z",
     "iopub.status.idle": "2024-04-09T16:13:41.922157Z",
     "shell.execute_reply": "2024-04-09T16:13:41.921925Z"
    }
   },
   "outputs": [
    {
     "name": "stdout",
     "output_type": "stream",
     "text": [
      "All test cases passed!"
     ]
    },
    {
     "name": "stdout",
     "output_type": "stream",
     "text": [
      "\n"
     ]
    }
   ],
   "source": [
    "\"\"\" # BEGIN TEST CONFIG\n",
    "success_message: Note that the Gradescope autograder will deduct points if your code fails the following rubric point - 'function is called more than twice with the same dataset (-1)'.The public tests cannot determine if your code satisfies these requirements. Verify your code manually.\n",
    "\"\"\" # END TEST CONFIG\n",
    "\n",
    "public_tests.rubric_check('get_stars: function is called more than twice with the same dataset')"
   ]
  },
  {
   "cell_type": "markdown",
   "id": "65aef67c",
   "metadata": {},
   "source": [
    "## IGNORE ##\n",
    "\n",
    "#### Hidden Test\n",
    "\n",
    "**rubric item:** `star_cell` function is not used\n",
    "\n",
    "**points:** 1\n",
    "\n",
    "**reason for rubric:** The function has already been defined, and performs the required task, so it would be wasteful to answer this question without making use of this function.\n",
    "\n",
    "**test notebook details:** The function is replaced with a function that behaves differently from the given function. The outputs of the function `get_stars` are tested on input of the file `stars_1.csv` file inside `data` directory. "
   ]
  },
  {
   "cell_type": "code",
   "execution_count": 48,
   "id": "fca71d8d",
   "metadata": {
    "execution": {
     "iopub.execute_input": "2024-04-09T16:13:41.923481Z",
     "iopub.status.busy": "2024-04-09T16:13:41.923414Z",
     "iopub.status.idle": "2024-04-09T16:13:41.979062Z",
     "shell.execute_reply": "2024-04-09T16:13:41.978840Z"
    }
   },
   "outputs": [
    {
     "name": "stdout",
     "output_type": "stream",
     "text": [
      "All test cases passed!\n"
     ]
    }
   ],
   "source": [
    "\"\"\" # BEGIN TEST CONFIG\n",
    "success_message: Note that the Gradescope autograder will deduct points if your code fails the following rubric point - '`star_cell` function is not used (-1)'.The public tests cannot determine if your code satisfies these requirements. Verify your code manually.\n",
    "\"\"\" # END TEST CONFIG\n",
    "\n",
    "public_tests.rubric_check('get_stars: `star_cell` function is not used')"
   ]
  },
  {
   "cell_type": "markdown",
   "id": "ae3e5167",
   "metadata": {},
   "source": [
    "## IGNORE ##\n",
    "\n",
    "#### Hidden Test\n",
    "\n",
    "**rubric item:** function is defined more than once\n",
    "\n",
    "**points:** 1\n",
    "\n",
    "**reason for rubric:** It is a bad idea to define a function more than once. If the differnt function definitions behave even slightly differently, then the output of the function would change based on when the function is called in the code, which would make the code hard to read and debug."
   ]
  },
  {
   "cell_type": "code",
   "execution_count": 49,
   "id": "6463bf1b",
   "metadata": {
    "execution": {
     "iopub.execute_input": "2024-04-09T16:13:41.980246Z",
     "iopub.status.busy": "2024-04-09T16:13:41.980183Z",
     "iopub.status.idle": "2024-04-09T16:13:42.039991Z",
     "shell.execute_reply": "2024-04-09T16:13:42.039701Z"
    }
   },
   "outputs": [
    {
     "name": "stdout",
     "output_type": "stream",
     "text": [
      "All test cases passed!\n"
     ]
    }
   ],
   "source": [
    "\"\"\" # BEGIN TEST CONFIG\n",
    "success_message: Note that the Gradescope autograder will deduct points if your code fails the following rubric point - 'function is defined more than once (-1)'.The public tests cannot determine if your code satisfies these requirements. Verify your code manually.\n",
    "\"\"\" # END TEST CONFIG\n",
    "\n",
    "public_tests.rubric_check('get_stars: function is defined more than once')"
   ]
  },
  {
   "cell_type": "raw",
   "id": "0a37b88d",
   "metadata": {},
   "source": [
    "# END TESTS"
   ]
  },
  {
   "cell_type": "raw",
   "id": "c4090b2a",
   "metadata": {
    "lines_to_next_cell": 0
   },
   "source": [
    "# END QUESTION"
   ]
  },
  {
   "cell_type": "raw",
   "id": "c2479917",
   "metadata": {},
   "source": [
    "# BEGIN QUESTION\n",
    "name: q6\n",
    "points: 0"
   ]
  },
  {
   "cell_type": "markdown",
   "id": "a85665e7",
   "metadata": {},
   "source": [
    "**Question 6:** What is the `Star` object of the star (in `stars_1.csv`) named *DP Leo*?\n",
    "\n",
    "You **must** access the `Star` object in `stars_1_dict` **dictionary** defined above to answer this question."
   ]
  },
  {
   "cell_type": "raw",
   "id": "0814741a",
   "metadata": {
    "lines_to_next_cell": 0
   },
   "source": [
    "# BEGIN SOLUTION"
   ]
  },
  {
   "cell_type": "code",
   "execution_count": 50,
   "id": "2b4e1b03",
   "metadata": {
    "execution": {
     "iopub.execute_input": "2024-04-09T16:13:42.041450Z",
     "iopub.status.busy": "2024-04-09T16:13:42.041376Z",
     "iopub.status.idle": "2024-04-09T16:13:42.043399Z",
     "shell.execute_reply": "2024-04-09T16:13:42.043176Z"
    },
    "lines_to_next_cell": 0
   },
   "outputs": [
    {
     "data": {
      "text/plain": [
       "Star(spectral_type=None, stellar_effective_temperature=13500.0, stellar_radius=0.01, stellar_mass=0.69, stellar_luminosity=-2.4, stellar_surface_gravity=None, stellar_age=None)"
      ]
     },
     "execution_count": 50,
     "metadata": {},
     "output_type": "execute_result"
    }
   ],
   "source": [
    "# compute and store the answer in the variable 'dp_leo', then display it\n",
    "\n",
    "# BEGIN SOLUTION NO PROMPT\n",
    "dp_leo = stars_1_dict['DP Leo']\n",
    "\n",
    "dp_leo\n",
    "# END SOLUTION"
   ]
  },
  {
   "cell_type": "raw",
   "id": "b591a3c7",
   "metadata": {},
   "source": [
    "# END SOLUTION"
   ]
  },
  {
   "cell_type": "markdown",
   "id": "ea6d77ad",
   "metadata": {},
   "source": [
    "## IGNORE ##\n",
    "\n",
    "#### Requirements for Random Data Generation:\n",
    "\n",
    "To the file `stars_1.csv`, a star named `DP Leo` must be added."
   ]
  },
  {
   "cell_type": "raw",
   "id": "081bedf7",
   "metadata": {},
   "source": [
    "# BEGIN TESTS"
   ]
  },
  {
   "cell_type": "markdown",
   "id": "53273d36",
   "metadata": {},
   "source": [
    "## IGNORE ##\n",
    "\n",
    "#### Public Test\n",
    "\n",
    "**points:** 2\n",
    "\n",
    "**format:** TEXT_FORMAT_NAMEDTUPLE\n",
    "\n",
    "**answer:** dp_leo"
   ]
  },
  {
   "cell_type": "code",
   "execution_count": 51,
   "id": "4cfe880c",
   "metadata": {
    "execution": {
     "iopub.execute_input": "2024-04-09T16:13:42.044698Z",
     "iopub.status.busy": "2024-04-09T16:13:42.044633Z",
     "iopub.status.idle": "2024-04-09T16:13:42.046256Z",
     "shell.execute_reply": "2024-04-09T16:13:42.046034Z"
    }
   },
   "outputs": [
    {
     "name": "stdout",
     "output_type": "stream",
     "text": [
      "All test cases passed!\n"
     ]
    }
   ],
   "source": [
    "public_tests.check('q6', dp_leo)"
   ]
  },
  {
   "cell_type": "markdown",
   "id": "cf9e55bb",
   "metadata": {},
   "source": [
    "## IGNORE ##\n",
    "\n",
    "#### Hidden Test\n",
    "\n",
    "**rubric item:** `stars_1_dict` data structure is not used to answer\n",
    "\n",
    "**points:** 1\n",
    "\n",
    "**reason for rubric:** The data structure has already been defined, and stores the required data, so it would be wasteful to answer this question without making use of this data structure.\n",
    "\n",
    "**test notebook details:** The data structure is replaced with a data structure that stores different data from the correct data structure. The data structure is first defined correctly. Then, using a fixed random seed, the *values* mapped to each *key* in the dictionary are shuffled."
   ]
  },
  {
   "cell_type": "code",
   "execution_count": 52,
   "id": "0a104a11",
   "metadata": {
    "execution": {
     "iopub.execute_input": "2024-04-09T16:13:42.047443Z",
     "iopub.status.busy": "2024-04-09T16:13:42.047375Z",
     "iopub.status.idle": "2024-04-09T16:13:42.103965Z",
     "shell.execute_reply": "2024-04-09T16:13:42.103725Z"
    }
   },
   "outputs": [
    {
     "name": "stdout",
     "output_type": "stream",
     "text": [
      "All test cases passed!\n"
     ]
    }
   ],
   "source": [
    "\"\"\" # BEGIN TEST CONFIG\n",
    "success_message: Note that the Gradescope autograder will deduct points if your code fails the following rubric point - '`stars_1_dict` data structure is not used to answer (-1)'.The public tests cannot determine if your code satisfies these requirements. Verify your code manually.\n",
    "\"\"\" # END TEST CONFIG\n",
    "\n",
    "public_tests.rubric_check('q6: `stars_1_dict` data structure is not used to answer')"
   ]
  },
  {
   "cell_type": "markdown",
   "id": "0d3d6bd3",
   "metadata": {},
   "source": [
    "## IGNORE ##\n",
    "\n",
    "#### Hidden Test\n",
    "\n",
    "**rubric item:** paths are hardcoded using slashes\n",
    "\n",
    "**points:** 1\n",
    "\n",
    "**reason for rubric:** The slashes that appear in the paths are path separators, and they are OS dependent. If slashes are hardcoded in the answer, then they will only work on computers with that operating system, and not on other computers. To avoid this, `os.path.join` must be used to create paths. In this question, in particular, `os.path.join` must be used while reading `stars_1.csv`.\n",
    "\n",
    "**test dataset details:** The contents of the file `stars_2.csv` inside the `data` directory are copied to a new file `data&stars_1.csv`.\n",
    "\n",
    "**test notebook details:** Code is injected at the start of the notebook which defines new functions `new_join`, `new_basename`, `new_dirname`, and `new_split`. These functions behave similarly to `os.path.join`, `os.path.basename`, `os.path.dirname`, and `os.path.split`, except that instead of the path separator, they use the `&` symbol. All code in the notebook with calls to these functions are then replaced with these new functions."
   ]
  },
  {
   "cell_type": "code",
   "execution_count": 53,
   "id": "daa5097b",
   "metadata": {
    "execution": {
     "iopub.execute_input": "2024-04-09T16:13:42.105252Z",
     "iopub.status.busy": "2024-04-09T16:13:42.105182Z",
     "iopub.status.idle": "2024-04-09T16:13:42.161042Z",
     "shell.execute_reply": "2024-04-09T16:13:42.160808Z"
    }
   },
   "outputs": [
    {
     "name": "stdout",
     "output_type": "stream",
     "text": [
      "All test cases passed!\n"
     ]
    }
   ],
   "source": [
    "\"\"\" # BEGIN TEST CONFIG\n",
    "success_message: Note that the Gradescope autograder will deduct points if your code fails the following rubric point - 'paths are hardcoded using slashes (-1)'.The public tests cannot determine if your code satisfies these requirements. Verify your code manually.\n",
    "\"\"\" # END TEST CONFIG\n",
    "\n",
    "public_tests.rubric_check('q6: paths are hardcoded using slashes')"
   ]
  },
  {
   "cell_type": "raw",
   "id": "4eb64462",
   "metadata": {},
   "source": [
    "# END TESTS"
   ]
  },
  {
   "cell_type": "raw",
   "id": "64164bf0",
   "metadata": {
    "lines_to_next_cell": 0
   },
   "source": [
    "# END QUESTION"
   ]
  },
  {
   "cell_type": "raw",
   "id": "60153a68",
   "metadata": {},
   "source": [
    "# BEGIN QUESTION\n",
    "name: q7\n",
    "points: 0"
   ]
  },
  {
   "cell_type": "markdown",
   "id": "e7445786",
   "metadata": {},
   "source": [
    "**Question 7:** What's the **average** `stellar_luminosity` of **all** the stars in the `star_1.csv` file?\n",
    "\n",
    "You **must** use the `stars_1_dict` **dictionary** defined above to answer this question.\n",
    "\n",
    "To find the average, you **must** first **add** up the `stellar_luminosity` value of all the stars and **divide** by the total **number** of stars. You **must skip** stars which don't have the `stellar_luminosity` data. Such stars should not contribute to either the sum of `stellar_luminosity` or to the number of stars."
   ]
  },
  {
   "cell_type": "raw",
   "id": "1abe419e",
   "metadata": {
    "lines_to_next_cell": 0
   },
   "source": [
    "# BEGIN SOLUTION"
   ]
  },
  {
   "cell_type": "code",
   "execution_count": 54,
   "id": "3037793e",
   "metadata": {
    "execution": {
     "iopub.execute_input": "2024-04-09T16:13:42.162388Z",
     "iopub.status.busy": "2024-04-09T16:13:42.162325Z",
     "iopub.status.idle": "2024-04-09T16:13:42.164800Z",
     "shell.execute_reply": "2024-04-09T16:13:42.164563Z"
    },
    "lines_to_next_cell": 0
   },
   "outputs": [
    {
     "data": {
      "text/plain": [
       "0.017454783748361704"
      ]
     },
     "execution_count": 54,
     "metadata": {},
     "output_type": "execute_result"
    }
   ],
   "source": [
    "# compute and store the answer in the variable 'avg_lum_stars_1', then display it\n",
    "\n",
    "# BEGIN SOLUTION NO PROMPT\n",
    "total = 0\n",
    "count = 0\n",
    "for star in stars_1_dict:\n",
    "    luminosity = stars_1_dict[star].stellar_luminosity\n",
    "    if luminosity != None:\n",
    "        total += luminosity\n",
    "        count += 1\n",
    "avg_lum_stars_1 = total/count\n",
    "\n",
    "avg_lum_stars_1\n",
    "# END SOLUTION"
   ]
  },
  {
   "cell_type": "raw",
   "id": "ae35d489",
   "metadata": {},
   "source": [
    "# END SOLUTION"
   ]
  },
  {
   "cell_type": "raw",
   "id": "d871dddb",
   "metadata": {},
   "source": [
    "# BEGIN TESTS"
   ]
  },
  {
   "cell_type": "markdown",
   "id": "35ed0ab3",
   "metadata": {},
   "source": [
    "## IGNORE ##\n",
    "\n",
    "#### Public Test\n",
    "\n",
    "**points:** 3\n",
    "\n",
    "**format:** TEXT_FORMAT\n",
    "\n",
    "**answer:** avg_lum_stars_1"
   ]
  },
  {
   "cell_type": "code",
   "execution_count": 55,
   "id": "2594d562",
   "metadata": {
    "execution": {
     "iopub.execute_input": "2024-04-09T16:13:42.166107Z",
     "iopub.status.busy": "2024-04-09T16:13:42.166034Z",
     "iopub.status.idle": "2024-04-09T16:13:42.167668Z",
     "shell.execute_reply": "2024-04-09T16:13:42.167452Z"
    }
   },
   "outputs": [
    {
     "name": "stdout",
     "output_type": "stream",
     "text": [
      "All test cases passed!\n"
     ]
    }
   ],
   "source": [
    "public_tests.check('q7', avg_lum_stars_1)"
   ]
  },
  {
   "cell_type": "markdown",
   "id": "569ece88",
   "metadata": {},
   "source": [
    "## IGNORE ##\n",
    "\n",
    "#### Hidden Test\n",
    "\n",
    "**rubric item:** incorrect logic is used to answer\n",
    "\n",
    "**points:** 1\n",
    "\n",
    "**reason for rubric:** It is possible to obtain the correct answer even with logically incorrect code.\n",
    "\n",
    "**test dataset details:** The dataset is completely modified. The file `stars_1.csv` in `data` is parsed, and with probability `1/3`, the `Stellar Luminosity [log(Solar)]` values are set to `None`, and with a probability `1/3`, the `Stellar Luminosity [log(Solar)]` values are set to `0`."
   ]
  },
  {
   "cell_type": "code",
   "execution_count": 56,
   "id": "4d697a47",
   "metadata": {
    "execution": {
     "iopub.execute_input": "2024-04-09T16:13:42.168809Z",
     "iopub.status.busy": "2024-04-09T16:13:42.168745Z",
     "iopub.status.idle": "2024-04-09T16:13:42.224704Z",
     "shell.execute_reply": "2024-04-09T16:13:42.224485Z"
    }
   },
   "outputs": [
    {
     "name": "stdout",
     "output_type": "stream",
     "text": [
      "All test cases passed!\n"
     ]
    }
   ],
   "source": [
    "\"\"\" # BEGIN TEST CONFIG\n",
    "success_message: Note that the Gradescope autograder will deduct points if your code fails the following rubric point - 'incorrect logic is used to answer (-1)'.The public tests cannot determine if your code satisfies these requirements. Verify your code manually.\n",
    "\"\"\" # END TEST CONFIG\n",
    "\n",
    "public_tests.rubric_check('q7: incorrect logic is used to answer')"
   ]
  },
  {
   "cell_type": "markdown",
   "id": "40aa21eb",
   "metadata": {},
   "source": [
    "## IGNORE ##\n",
    "\n",
    "#### Hidden Test\n",
    "\n",
    "**rubric item:** `stars_1_dict` data structure is not used to answer\n",
    "\n",
    "**points:** 1\n",
    "\n",
    "**reason for rubric:** The data structure has already been defined, and stores the required data, so it would be wasteful to answer this question without making use of this data structure.\n",
    "\n",
    "**test notebook details:** The data structure is replaced with a data structure that stores different data from the correct data structure. The data structure is first defined correctly. Then, using a fixed random seed, the *values* mapped to each *key* in the dictionary are shuffled."
   ]
  },
  {
   "cell_type": "code",
   "execution_count": 57,
   "id": "bab41d06",
   "metadata": {
    "execution": {
     "iopub.execute_input": "2024-04-09T16:13:42.225873Z",
     "iopub.status.busy": "2024-04-09T16:13:42.225809Z",
     "iopub.status.idle": "2024-04-09T16:13:42.281690Z",
     "shell.execute_reply": "2024-04-09T16:13:42.281473Z"
    }
   },
   "outputs": [
    {
     "name": "stdout",
     "output_type": "stream",
     "text": [
      "All test cases passed!\n"
     ]
    }
   ],
   "source": [
    "\"\"\" # BEGIN TEST CONFIG\n",
    "success_message: Note that the Gradescope autograder will deduct points if your code fails the following rubric point - '`stars_1_dict` data structure is not used to answer (-1)'.The public tests cannot determine if your code satisfies these requirements. Verify your code manually.\n",
    "\"\"\" # END TEST CONFIG\n",
    "\n",
    "public_tests.rubric_check('q7: `stars_1_dict` data structure is not used to answer')"
   ]
  },
  {
   "cell_type": "code",
   "execution_count": 58,
   "id": "8c9722b1",
   "metadata": {
    "execution": {
     "iopub.execute_input": "2024-04-09T16:13:42.282842Z",
     "iopub.status.busy": "2024-04-09T16:13:42.282776Z",
     "iopub.status.idle": "2024-04-09T16:13:42.338166Z",
     "shell.execute_reply": "2024-04-09T16:13:42.337929Z"
    }
   },
   "outputs": [
    {
     "name": "stdout",
     "output_type": "stream",
     "text": [
      "All test cases passed!\n"
     ]
    }
   ],
   "source": [
    "public_tests.rubric_check('q7: public tests')"
   ]
  },
  {
   "cell_type": "raw",
   "id": "2e4808fd",
   "metadata": {},
   "source": [
    "# END TESTS"
   ]
  },
  {
   "cell_type": "raw",
   "id": "bd7b98ce",
   "metadata": {
    "lines_to_next_cell": 0
   },
   "source": [
    "# END QUESTION"
   ]
  },
  {
   "cell_type": "raw",
   "id": "ea9d8dad",
   "metadata": {},
   "source": [
    "# BEGIN QUESTION\n",
    "name: q8\n",
    "points: 0"
   ]
  },
  {
   "cell_type": "markdown",
   "id": "dfb9bb43",
   "metadata": {},
   "source": [
    "**Question 8:** What is the **average** `stellar_age` of **all** the stars in the `stars_2.csv` file?\n",
    "\n",
    "You **must** use the function `get_stars(csv_file)` to read the data in `stars_2.csv`. Your output **must** be a **float** representing the `stellar_age` in units of *gigayears*. You **must** skip stars which have missing `stellar_age` data."
   ]
  },
  {
   "cell_type": "raw",
   "id": "3f1bc2b3",
   "metadata": {
    "lines_to_next_cell": 0
   },
   "source": [
    "# BEGIN SOLUTION"
   ]
  },
  {
   "cell_type": "code",
   "execution_count": 59,
   "id": "f72168eb",
   "metadata": {
    "execution": {
     "iopub.execute_input": "2024-04-09T16:13:42.339462Z",
     "iopub.status.busy": "2024-04-09T16:13:42.339399Z",
     "iopub.status.idle": "2024-04-09T16:13:42.345155Z",
     "shell.execute_reply": "2024-04-09T16:13:42.344959Z"
    },
    "lines_to_next_cell": 0
   },
   "outputs": [
    {
     "data": {
      "text/plain": [
       "4.333537808641972"
      ]
     },
     "execution_count": 59,
     "metadata": {},
     "output_type": "execute_result"
    }
   ],
   "source": [
    "# compute and store the answer in the variable 'avg_age_stars_2', then display it\n",
    "\n",
    "# BEGIN SOLUTION NO PROMPT\n",
    "stars_2_dict = get_stars(os.path.join(\"data\", \"stars_2.csv\"))\n",
    "total = 0\n",
    "count = 0\n",
    "for star in stars_2_dict:\n",
    "    age = stars_2_dict[star].stellar_age\n",
    "    if age != None:\n",
    "        total += age\n",
    "        count += 1\n",
    "avg_age_stars_2 = total/count\n",
    "\n",
    "avg_age_stars_2\n",
    "# END SOLUTION"
   ]
  },
  {
   "cell_type": "raw",
   "id": "f8e102d3",
   "metadata": {},
   "source": [
    "# END SOLUTION"
   ]
  },
  {
   "cell_type": "raw",
   "id": "ea89f4dc",
   "metadata": {},
   "source": [
    "# BEGIN TESTS"
   ]
  },
  {
   "cell_type": "markdown",
   "id": "d4024271",
   "metadata": {},
   "source": [
    "## IGNORE ##\n",
    "\n",
    "#### Public Test\n",
    "\n",
    "**points:** 3\n",
    "\n",
    "**format:** TEXT_FORMAT\n",
    "\n",
    "**answer:** avg_age_stars_2"
   ]
  },
  {
   "cell_type": "code",
   "execution_count": 60,
   "id": "f0b2cd61",
   "metadata": {
    "execution": {
     "iopub.execute_input": "2024-04-09T16:13:42.346288Z",
     "iopub.status.busy": "2024-04-09T16:13:42.346217Z",
     "iopub.status.idle": "2024-04-09T16:13:42.347681Z",
     "shell.execute_reply": "2024-04-09T16:13:42.347466Z"
    }
   },
   "outputs": [
    {
     "name": "stdout",
     "output_type": "stream",
     "text": [
      "All test cases passed!\n"
     ]
    }
   ],
   "source": [
    "public_tests.check('q8', avg_age_stars_2)"
   ]
  },
  {
   "cell_type": "markdown",
   "id": "2d7fbed2",
   "metadata": {},
   "source": [
    "## IGNORE ##\n",
    "\n",
    "#### Hidden Test\n",
    "\n",
    "**rubric item:** incorrect logic is used to answer\n",
    "\n",
    "**points:** 1\n",
    "\n",
    "**reason for rubric:** It is possible to obtain the correct answer even with logically incorrect code.\n",
    "\n",
    "**test dataset details:** The dataset is completely modified. The file `stars_2.csv` in `data` is parsed, and with probability `1/3`, the `Stellar Age [Gyr]` values are set to `None`, and with a probability `1/3`, the `Stellar Age [Gyr]` values are set to `0`. All other `Stellar Age [Gyr]` values are set to a very high number."
   ]
  },
  {
   "cell_type": "code",
   "execution_count": 61,
   "id": "fda1bfdd",
   "metadata": {
    "execution": {
     "iopub.execute_input": "2024-04-09T16:13:42.348724Z",
     "iopub.status.busy": "2024-04-09T16:13:42.348647Z",
     "iopub.status.idle": "2024-04-09T16:13:42.404801Z",
     "shell.execute_reply": "2024-04-09T16:13:42.404584Z"
    }
   },
   "outputs": [
    {
     "name": "stdout",
     "output_type": "stream",
     "text": [
      "All test cases passed!\n"
     ]
    }
   ],
   "source": [
    "\"\"\" # BEGIN TEST CONFIG\n",
    "success_message: Note that the Gradescope autograder will deduct points if your code fails the following rubric point - 'incorrect logic is used to answer (-1)'.The public tests cannot determine if your code satisfies these requirements. Verify your code manually.\n",
    "\"\"\" # END TEST CONFIG\n",
    "\n",
    "public_tests.rubric_check('q8: incorrect logic is used to answer')"
   ]
  },
  {
   "cell_type": "markdown",
   "id": "d6977c7b",
   "metadata": {},
   "source": [
    "## IGNORE ##\n",
    "\n",
    "#### Hidden Test\n",
    "\n",
    "**rubric item:** `get_stars` function is not used to answer\n",
    "\n",
    "**points:** 1\n",
    "\n",
    "**reason for rubric:** The function has already been defined, and performs the required task, so it would be wasteful to answer this question without making use of this function.\n",
    "\n",
    "**test notebook details:** The function is replaced with a function that behaves differently from the given function."
   ]
  },
  {
   "cell_type": "code",
   "execution_count": 62,
   "id": "e5b25228",
   "metadata": {
    "execution": {
     "iopub.execute_input": "2024-04-09T16:13:42.405960Z",
     "iopub.status.busy": "2024-04-09T16:13:42.405899Z",
     "iopub.status.idle": "2024-04-09T16:13:42.516966Z",
     "shell.execute_reply": "2024-04-09T16:13:42.516717Z"
    }
   },
   "outputs": [
    {
     "name": "stdout",
     "output_type": "stream",
     "text": [
      "All test cases passed!\n"
     ]
    }
   ],
   "source": [
    "\"\"\" # BEGIN TEST CONFIG\n",
    "success_message: Note that the Gradescope autograder will deduct points if your code fails the following rubric point - '`get_stars` function is not used to answer (-1)'.The public tests cannot determine if your code satisfies these requirements. Verify your code manually.\n",
    "\"\"\" # END TEST CONFIG\n",
    "\n",
    "public_tests.rubric_check('q8: `get_stars` function is not used to answer')"
   ]
  },
  {
   "cell_type": "markdown",
   "id": "bdf49b84",
   "metadata": {},
   "source": [
    "## IGNORE ##\n",
    "\n",
    "#### Hidden Test\n",
    "\n",
    "**rubric item:** paths are hardcoded using slashes\n",
    "\n",
    "**points:** 1\n",
    "\n",
    "**reason for rubric:** The slashes that appear in the paths are path separators, and they are OS dependent. If slashes are hardcoded in the answer, then they will only work on computers with that operating system, and not on other computers. To avoid this, `os.path.join` must be used to create paths. In this question, in particular, `os.path.join` must be used while reading `stars_2.csv`.\n",
    "\n",
    "**test dataset details:** The contents of the file `stars_1.csv` inside the `data` directory are copied to a new file `data&stars_2.csv`.\n",
    "\n",
    "**test notebook details:** Code is injected at the start of the notebook which defines new functions `new_join`, `new_basename`, `new_dirname`, and `new_split`. These functions behave similarly to `os.path.join`, `os.path.basename`, `os.path.dirname`, and `os.path.split`, except that instead of the path separator, they use the `&` symbol. All code in the notebook with calls to these functions are then replaced with these new functions."
   ]
  },
  {
   "cell_type": "code",
   "execution_count": 63,
   "id": "e64da978",
   "metadata": {
    "execution": {
     "iopub.execute_input": "2024-04-09T16:13:42.518383Z",
     "iopub.status.busy": "2024-04-09T16:13:42.518300Z",
     "iopub.status.idle": "2024-04-09T16:13:42.585333Z",
     "shell.execute_reply": "2024-04-09T16:13:42.585084Z"
    }
   },
   "outputs": [
    {
     "name": "stdout",
     "output_type": "stream",
     "text": [
      "All test cases passed!\n"
     ]
    }
   ],
   "source": [
    "\"\"\" # BEGIN TEST CONFIG\n",
    "success_message: Note that the Gradescope autograder will deduct points if your code fails the following rubric point - 'paths are hardcoded using slashes (-1)'.The public tests cannot determine if your code satisfies these requirements. Verify your code manually.\n",
    "\"\"\" # END TEST CONFIG\n",
    "\n",
    "public_tests.rubric_check('q8: paths are hardcoded using slashes')"
   ]
  },
  {
   "cell_type": "raw",
   "id": "786304ed",
   "metadata": {},
   "source": [
    "# END TESTS"
   ]
  },
  {
   "cell_type": "raw",
   "id": "4809d486",
   "metadata": {
    "lines_to_next_cell": 0
   },
   "source": [
    "# END QUESTION"
   ]
  },
  {
   "cell_type": "raw",
   "id": "7460ebe0",
   "metadata": {},
   "source": [
    "# BEGIN QUESTION\n",
    "name: stars_dict\n",
    "points: 0"
   ]
  },
  {
   "cell_type": "markdown",
   "id": "9c119a33",
   "metadata": {},
   "source": [
    "### Data Structure 2: `stars_dict`\n",
    "\n",
    "You are now ready to read all the data about the stars stored in the `data` directory. You **must** now create a **dictionary** mapping the `Name` of each star in the `data` directory (inside the files `stars_1.csv`, ..., `stars_5.csv`) to the `Star` object containing all the other details about the star.\n",
    "\n",
    "You **must not** hardcode the files/paths of the files `stars_1.csv`, ..., `stars_5.csv` to answer this question. Instead, you **must** use the `stars_paths` variable defined earlier in Question 4 to get the list of paths needed for this question. You can use the `update` dictionary **method** to combine two **dictionaries**.\n",
    "\n",
    "You must use this dictionary to answer the next 3 questions."
   ]
  },
  {
   "cell_type": "raw",
   "id": "1515655d",
   "metadata": {},
   "source": [
    "# BEGIN SOLUTION"
   ]
  },
  {
   "cell_type": "code",
   "execution_count": 64,
   "id": "5163f940",
   "metadata": {
    "execution": {
     "iopub.execute_input": "2024-04-09T16:13:42.586933Z",
     "iopub.status.busy": "2024-04-09T16:13:42.586841Z",
     "iopub.status.idle": "2024-04-09T16:13:42.597772Z",
     "shell.execute_reply": "2024-04-09T16:13:42.597540Z"
    }
   },
   "outputs": [
    {
     "data": {
      "text/plain": [
       "4166"
      ]
     },
     "execution_count": 64,
     "metadata": {},
     "output_type": "execute_result"
    }
   ],
   "source": [
    "# define the variable 'stars_dict' here,\n",
    "# but do NOT display the variable at the end\n",
    "\n",
    "# BEGIN SOLUTION NO PROMPT\n",
    "stars_dict = {}\n",
    "for csv_file in stars_paths:\n",
    "    curr_stars_dict = get_stars(csv_file)\n",
    "    stars_dict.update(curr_stars_dict)\n",
    "    \n",
    "len(stars_dict)\n",
    "# END SOLUTION"
   ]
  },
  {
   "cell_type": "raw",
   "id": "a636b826",
   "metadata": {},
   "source": [
    "# END SOLUTION"
   ]
  },
  {
   "cell_type": "raw",
   "id": "c3bb10c9",
   "metadata": {},
   "source": [
    "# BEGIN TESTS"
   ]
  },
  {
   "cell_type": "markdown",
   "id": "fbf0a6db",
   "metadata": {},
   "source": [
    "## IGNORE ##\n",
    "\n",
    "#### Public Test\n",
    "\n",
    "**points:** 3"
   ]
  },
  {
   "cell_type": "markdown",
   "id": "7b651d88",
   "metadata": {},
   "source": [
    "## IGNORE ##\n",
    "\n",
    "#### Hidden Test\n",
    "\n",
    "**rubric item:** data structure is defined incorrectly\n",
    "\n",
    "**points:** 1\n",
    "\n",
    "**reason for rubric:** The data structure is used to answer a lot of questions, and any errors in the definition will affect all of those questions. So, it is very important to make sure that the data structure is defined correctly.\n",
    "\n",
    "**test notebook details:** The data structure is tested against a correct implementation of the data structure."
   ]
  },
  {
   "cell_type": "code",
   "execution_count": 65,
   "id": "a15b478d",
   "metadata": {
    "execution": {
     "iopub.execute_input": "2024-04-09T16:13:42.599340Z",
     "iopub.status.busy": "2024-04-09T16:13:42.599251Z",
     "iopub.status.idle": "2024-04-09T16:13:42.677443Z",
     "shell.execute_reply": "2024-04-09T16:13:42.677172Z"
    }
   },
   "outputs": [
    {
     "name": "stdout",
     "output_type": "stream",
     "text": [
      "All test cases passed!\n"
     ]
    }
   ],
   "source": [
    "\"\"\" # BEGIN TEST CONFIG\n",
    "success_message: Note that the Gradescope autograder will deduct points if your code fails the following rubric point - 'data structure is defined incorrectly (-1)'.The public tests cannot determine if your code satisfies these requirements. Verify your code manually.\n",
    "\"\"\" # END TEST CONFIG\n",
    "\n",
    "public_tests.rubric_check('stars_dict: data structure is defined incorrectly')"
   ]
  },
  {
   "cell_type": "markdown",
   "id": "6e2ea47d",
   "metadata": {},
   "source": [
    "## IGNORE ##\n",
    "\n",
    "#### Hidden Test\n",
    "\n",
    "**rubric item:** `get_stars` function is not used\n",
    "\n",
    "**points:** 1\n",
    "\n",
    "**reason for rubric:** The function has already been defined, and performs the required task, so it would be wasteful to answer this question without making use of this function.\n",
    "\n",
    "**test notebook details:** The function is replaced with a function that behaves differently from the given function. Code is injected at the end of the notebook which tests this data structure against a correct implementation of the data structure."
   ]
  },
  {
   "cell_type": "code",
   "execution_count": 66,
   "id": "2843de00",
   "metadata": {
    "execution": {
     "iopub.execute_input": "2024-04-09T16:13:42.678841Z",
     "iopub.status.busy": "2024-04-09T16:13:42.678749Z",
     "iopub.status.idle": "2024-04-09T16:13:42.744224Z",
     "shell.execute_reply": "2024-04-09T16:13:42.743965Z"
    }
   },
   "outputs": [
    {
     "name": "stdout",
     "output_type": "stream",
     "text": [
      "All test cases passed!\n"
     ]
    }
   ],
   "source": [
    "\"\"\" # BEGIN TEST CONFIG\n",
    "success_message: Note that the Gradescope autograder will deduct points if your code fails the following rubric point - '`get_stars` function is not used (-1)'.The public tests cannot determine if your code satisfies these requirements. Verify your code manually.\n",
    "\"\"\" # END TEST CONFIG\n",
    "\n",
    "public_tests.rubric_check('stars_dict: `get_stars` function is not used')"
   ]
  },
  {
   "cell_type": "markdown",
   "id": "72fb4a3c",
   "metadata": {},
   "source": [
    "## IGNORE ##\n",
    "\n",
    "#### Hidden Test\n",
    "\n",
    "**rubric item:** `stars_paths` is not used to find paths of necessary files\n",
    "\n",
    "**points:** 1\n",
    "\n",
    "**reason for rubric:** The data structure `stars_paths` has already been defined, and stores the required data, so it would be wasteful to answer this question without making use of this data structure.\n",
    "\n",
    "**test notebook details:** Code is injected before this data structure which redefines `stars_paths` to contain only a subset of the paths in the original data structure `stars_paths`. Code is then injected at the end of the notebook which tests this data structure against a correct implementation of the data structure."
   ]
  },
  {
   "cell_type": "code",
   "execution_count": 67,
   "id": "69a6f87f",
   "metadata": {
    "execution": {
     "iopub.execute_input": "2024-04-09T16:13:42.745506Z",
     "iopub.status.busy": "2024-04-09T16:13:42.745412Z",
     "iopub.status.idle": "2024-04-09T16:13:42.808306Z",
     "shell.execute_reply": "2024-04-09T16:13:42.808043Z"
    }
   },
   "outputs": [
    {
     "name": "stdout",
     "output_type": "stream",
     "text": [
      "All test cases passed!\n"
     ]
    }
   ],
   "source": [
    "\"\"\" # BEGIN TEST CONFIG\n",
    "success_message: Note that the Gradescope autograder will deduct points if your code fails the following rubric point - '`stars_paths` is not used to find paths of necessary files (-1)'.The public tests cannot determine if your code satisfies these requirements. Verify your code manually.\n",
    "\"\"\" # END TEST CONFIG\n",
    "\n",
    "public_tests.rubric_check('stars_dict: `stars_paths` is not used to find paths of necessary files')"
   ]
  },
  {
   "cell_type": "raw",
   "id": "604c78c7",
   "metadata": {},
   "source": [
    "# END TESTS"
   ]
  },
  {
   "cell_type": "raw",
   "id": "b8c5d9f1",
   "metadata": {},
   "source": [
    "# END QUESTION"
   ]
  },
  {
   "cell_type": "markdown",
   "id": "9c7d67a9",
   "metadata": {},
   "source": [
    "If you wish to **verify** that you have read the files and defined `stars_dict` correctly, you can check that `stars_dict` has **4166** key/value pairs in it."
   ]
  },
  {
   "cell_type": "raw",
   "id": "b6a59dd4",
   "metadata": {},
   "source": [
    "# BEGIN QUESTION\n",
    "name: q9\n",
    "points: 0"
   ]
  },
  {
   "cell_type": "markdown",
   "id": "65b3495f",
   "metadata": {},
   "source": [
    "**Question 9:** What is the `stellar_effective_temperature` of the star *Kepler-220*?\n",
    "\n",
    "You **must** access the correct `Star` object in the `stars_dict` **dictionary** defined above to answer this question."
   ]
  },
  {
   "cell_type": "raw",
   "id": "6c0329ca",
   "metadata": {
    "lines_to_next_cell": 0
   },
   "source": [
    "# BEGIN SOLUTION"
   ]
  },
  {
   "cell_type": "code",
   "execution_count": 68,
   "id": "d3c864f9",
   "metadata": {
    "execution": {
     "iopub.execute_input": "2024-04-09T16:13:42.809820Z",
     "iopub.status.busy": "2024-04-09T16:13:42.809720Z",
     "iopub.status.idle": "2024-04-09T16:13:42.811669Z",
     "shell.execute_reply": "2024-04-09T16:13:42.811477Z"
    },
    "lines_to_next_cell": 0
   },
   "outputs": [
    {
     "data": {
      "text/plain": [
       "4632.0"
      ]
     },
     "execution_count": 68,
     "metadata": {},
     "output_type": "execute_result"
    }
   ],
   "source": [
    "# compute and store the answer in the variable 'kepler_220_temp', then display it\n",
    "\n",
    "# BEGIN SOLUTION NO PROMPT\n",
    "kepler_220_temp = stars_dict[\"Kepler-220\"].stellar_effective_temperature\n",
    "\n",
    "kepler_220_temp\n",
    "# END SOLUTION"
   ]
  },
  {
   "cell_type": "raw",
   "id": "b0292bd9",
   "metadata": {},
   "source": [
    "# END SOLUTION"
   ]
  },
  {
   "cell_type": "markdown",
   "id": "bc947030",
   "metadata": {},
   "source": [
    "## IGNORE ##\n",
    "\n",
    "#### Requirements for Random Data Generation:\n",
    "\n",
    "To one of the file `stars_1.csv`, ..., `stars_5.csv`, a star named `Kepler-220` must be added."
   ]
  },
  {
   "cell_type": "raw",
   "id": "60667030",
   "metadata": {},
   "source": [
    "# BEGIN TESTS"
   ]
  },
  {
   "cell_type": "markdown",
   "id": "0f1b591a",
   "metadata": {},
   "source": [
    "## IGNORE ##\n",
    "\n",
    "#### Public Test\n",
    "\n",
    "**points:** 2\n",
    "\n",
    "**format:** TEXT_FORMAT\n",
    "\n",
    "**answer:** kepler_220_temp"
   ]
  },
  {
   "cell_type": "code",
   "execution_count": 69,
   "id": "54a46578",
   "metadata": {
    "execution": {
     "iopub.execute_input": "2024-04-09T16:13:42.812918Z",
     "iopub.status.busy": "2024-04-09T16:13:42.812848Z",
     "iopub.status.idle": "2024-04-09T16:13:42.814502Z",
     "shell.execute_reply": "2024-04-09T16:13:42.814299Z"
    }
   },
   "outputs": [
    {
     "name": "stdout",
     "output_type": "stream",
     "text": [
      "All test cases passed!\n"
     ]
    }
   ],
   "source": [
    "public_tests.check('q9', kepler_220_temp)"
   ]
  },
  {
   "cell_type": "markdown",
   "id": "8a1bc93d",
   "metadata": {},
   "source": [
    "## IGNORE ##\n",
    "\n",
    "#### Hidden Test\n",
    "\n",
    "**rubric item:** `stars_dict` data structure is not used to answer\n",
    "\n",
    "**points:** 2\n",
    "\n",
    "**reason for rubric:** The data structure has already been defined, and stores the required data, so it would be wasteful to answer this question without making use of this data structure.\n",
    "\n",
    "**test notebook details:** The data structure is replaced with a data structure that stores different data from the correct data structure. The data structure is first defined correctly. Then, using a fixed random seed, the *values* mapped to each *key* in the dictionary are shuffled."
   ]
  },
  {
   "cell_type": "code",
   "execution_count": 70,
   "id": "bf30f39f",
   "metadata": {
    "execution": {
     "iopub.execute_input": "2024-04-09T16:13:42.815595Z",
     "iopub.status.busy": "2024-04-09T16:13:42.815530Z",
     "iopub.status.idle": "2024-04-09T16:13:42.877655Z",
     "shell.execute_reply": "2024-04-09T16:13:42.877371Z"
    }
   },
   "outputs": [
    {
     "name": "stdout",
     "output_type": "stream",
     "text": [
      "All test cases passed!"
     ]
    },
    {
     "name": "stdout",
     "output_type": "stream",
     "text": [
      "\n"
     ]
    }
   ],
   "source": [
    "\"\"\" # BEGIN TEST CONFIG\n",
    "success_message: Note that the Gradescope autograder will deduct points if your code fails the following rubric point - '`stars_dict` data structure is not used to answer (-2)'.The public tests cannot determine if your code satisfies these requirements. Verify your code manually.\n",
    "\"\"\" # END TEST CONFIG\n",
    "\n",
    "public_tests.rubric_check('q9: `stars_dict` data structure is not used to answer')"
   ]
  },
  {
   "cell_type": "raw",
   "id": "02dff7f5",
   "metadata": {},
   "source": [
    "# END TESTS"
   ]
  },
  {
   "cell_type": "raw",
   "id": "cd41f6c7",
   "metadata": {
    "lines_to_next_cell": 0
   },
   "source": [
    "# END QUESTION"
   ]
  },
  {
   "cell_type": "raw",
   "id": "e81768c1",
   "metadata": {},
   "source": [
    "# BEGIN QUESTION\n",
    "name: q10\n",
    "points: 0"
   ]
  },
  {
   "cell_type": "markdown",
   "id": "18eeb1f7",
   "metadata": {},
   "source": [
    "**Question 10:** Find the **name** of the **largest** star (in terms of `stellar_radius`) in the `data` directory.\n",
    "\n",
    "Your output **must** be a **string**. You do **not** need to worry about any ties. You **must** skip any stars with **missing** `stellar_radius` data."
   ]
  },
  {
   "cell_type": "raw",
   "id": "f0fffeaf",
   "metadata": {
    "lines_to_next_cell": 0
   },
   "source": [
    "# BEGIN SOLUTION"
   ]
  },
  {
   "cell_type": "code",
   "execution_count": 71,
   "id": "e78df115",
   "metadata": {
    "execution": {
     "iopub.execute_input": "2024-04-09T16:13:42.879054Z",
     "iopub.status.busy": "2024-04-09T16:13:42.878983Z",
     "iopub.status.idle": "2024-04-09T16:13:42.882008Z",
     "shell.execute_reply": "2024-04-09T16:13:42.881773Z"
    }
   },
   "outputs": [
    {
     "data": {
      "text/plain": [
       "'HD 18438'"
      ]
     },
     "execution_count": 71,
     "metadata": {},
     "output_type": "execute_result"
    }
   ],
   "source": [
    "# compute and store the answer in the variable 'biggest_star', then display it\n",
    "\n",
    "# BEGIN SOLUTION NO PROMPT\n",
    "biggest_star = None\n",
    "for star_name in stars_dict:\n",
    "    radius = stars_dict[star_name].stellar_radius\n",
    "    if radius == None:\n",
    "        continue\n",
    "    if biggest_star == None or stars_dict[biggest_star].stellar_radius < radius:\n",
    "        biggest_star = star_name\n",
    "        \n",
    "biggest_star\n",
    "# END SOLUTION"
   ]
  },
  {
   "cell_type": "raw",
   "id": "c588db25",
   "metadata": {},
   "source": [
    "# END SOLUTION"
   ]
  },
  {
   "cell_type": "raw",
   "id": "b325b588",
   "metadata": {},
   "source": [
    "# BEGIN TESTS"
   ]
  },
  {
   "cell_type": "markdown",
   "id": "b79ec81f",
   "metadata": {},
   "source": [
    "## IGNORE ##\n",
    "\n",
    "#### Public Test\n",
    "\n",
    "**points:** 3\n",
    "\n",
    "**format:** TEXT_FORMAT\n",
    "\n",
    "**answer:** biggest_star"
   ]
  },
  {
   "cell_type": "code",
   "execution_count": 72,
   "id": "0b15b561",
   "metadata": {
    "execution": {
     "iopub.execute_input": "2024-04-09T16:13:42.883217Z",
     "iopub.status.busy": "2024-04-09T16:13:42.883150Z",
     "iopub.status.idle": "2024-04-09T16:13:42.884812Z",
     "shell.execute_reply": "2024-04-09T16:13:42.884551Z"
    }
   },
   "outputs": [
    {
     "name": "stdout",
     "output_type": "stream",
     "text": [
      "All test cases passed!\n"
     ]
    }
   ],
   "source": [
    "public_tests.check('q10', biggest_star)"
   ]
  },
  {
   "cell_type": "markdown",
   "id": "dc3a0f5d",
   "metadata": {},
   "source": [
    "## IGNORE ##\n",
    "\n",
    "#### Hidden Test\n",
    "\n",
    "**rubric item:** incorrect logic is used to answer\n",
    "\n",
    "**points:** 1\n",
    "\n",
    "**reason for rubric:** It is possible to obtain the correct answer even with logically incorrect code.\n",
    "\n",
    "**test dataset details:** The dataset is completely modified. One file is randomly chosen from `stars_1.csv`, ..., `stars_5.csv`, and in this file, one row is randomly chosen and the `Stellar Radius [Solar Radius]` value is set to a large value like `150.0`."
   ]
  },
  {
   "cell_type": "code",
   "execution_count": 73,
   "id": "21dfa94a",
   "metadata": {
    "execution": {
     "iopub.execute_input": "2024-04-09T16:13:42.886125Z",
     "iopub.status.busy": "2024-04-09T16:13:42.886054Z",
     "iopub.status.idle": "2024-04-09T16:13:42.943940Z",
     "shell.execute_reply": "2024-04-09T16:13:42.943693Z"
    }
   },
   "outputs": [
    {
     "name": "stdout",
     "output_type": "stream",
     "text": [
      "All test cases passed!\n"
     ]
    }
   ],
   "source": [
    "\"\"\" # BEGIN TEST CONFIG\n",
    "success_message: Note that the Gradescope autograder will deduct points if your code fails the following rubric point - 'incorrect logic is used to answer (-1)'.The public tests cannot determine if your code satisfies these requirements. Verify your code manually.\n",
    "\"\"\" # END TEST CONFIG\n",
    "\n",
    "public_tests.rubric_check('q10: incorrect logic is used to answer')"
   ]
  },
  {
   "cell_type": "markdown",
   "id": "3bb470a7",
   "metadata": {},
   "source": [
    "## IGNORE ##\n",
    "\n",
    "#### Hidden Test\n",
    "\n",
    "**rubric item:** `stars_dict` data structure is not used to answer\n",
    "\n",
    "**points:** 1\n",
    "\n",
    "**reason for rubric:** The data structure has already been defined, and stores the required data, so it would be wasteful to answer this question without making use of this data structure.\n",
    "\n",
    "**test notebook details:** The data structure is replaced with a data structure that stores different data from the correct data structure. The data structure is first defined correctly. Then, using a fixed random seed, the *values* mapped to each *key* in the dictionary are shuffled."
   ]
  },
  {
   "cell_type": "code",
   "execution_count": 74,
   "id": "7e5b71dc",
   "metadata": {
    "execution": {
     "iopub.execute_input": "2024-04-09T16:13:42.945223Z",
     "iopub.status.busy": "2024-04-09T16:13:42.945152Z",
     "iopub.status.idle": "2024-04-09T16:13:43.002160Z",
     "shell.execute_reply": "2024-04-09T16:13:43.001914Z"
    }
   },
   "outputs": [
    {
     "name": "stdout",
     "output_type": "stream",
     "text": [
      "All test cases passed!\n"
     ]
    }
   ],
   "source": [
    "\"\"\" # BEGIN TEST CONFIG\n",
    "success_message: Note that the Gradescope autograder will deduct points if your code fails the following rubric point - '`stars_dict` data structure is not used to answer (-1)'.The public tests cannot determine if your code satisfies these requirements. Verify your code manually.\n",
    "\"\"\" # END TEST CONFIG\n",
    "\n",
    "public_tests.rubric_check('q10: `stars_dict` data structure is not used to answer')"
   ]
  },
  {
   "cell_type": "code",
   "execution_count": 75,
   "id": "6bef15e5",
   "metadata": {
    "execution": {
     "iopub.execute_input": "2024-04-09T16:13:43.003356Z",
     "iopub.status.busy": "2024-04-09T16:13:43.003286Z",
     "iopub.status.idle": "2024-04-09T16:13:43.083848Z",
     "shell.execute_reply": "2024-04-09T16:13:43.083573Z"
    }
   },
   "outputs": [
    {
     "name": "stdout",
     "output_type": "stream",
     "text": [
      "All test cases passed!"
     ]
    },
    {
     "name": "stdout",
     "output_type": "stream",
     "text": [
      "\n"
     ]
    }
   ],
   "source": [
    "public_tests.rubric_check('q10: public tests')"
   ]
  },
  {
   "cell_type": "raw",
   "id": "6100c461",
   "metadata": {},
   "source": [
    "# END TESTS"
   ]
  },
  {
   "cell_type": "raw",
   "id": "02bac261",
   "metadata": {
    "lines_to_next_cell": 0
   },
   "source": [
    "# END QUESTION"
   ]
  },
  {
   "cell_type": "raw",
   "id": "f2bf22d2",
   "metadata": {},
   "source": [
    "# BEGIN QUESTION\n",
    "name: q11\n",
    "points: 0"
   ]
  },
  {
   "cell_type": "markdown",
   "id": "c3b412e1",
   "metadata": {},
   "source": [
    "**Question 11:** What is the **average** `stellar_age` (in gigayears) of **all** the stars in the `data` directory whose names **start with** `\"Kepler\"`?\n",
    "\n",
    "Your output **must** be a **float**. You **must** skip all stars with **missing** `stellar_age` data. Such stars should not contribute to either the sum of `stellar_age` or to the number of stars."
   ]
  },
  {
   "cell_type": "raw",
   "id": "cee09369",
   "metadata": {
    "lines_to_next_cell": 0
   },
   "source": [
    "# BEGIN SOLUTION"
   ]
  },
  {
   "cell_type": "code",
   "execution_count": 76,
   "id": "e6ff1322",
   "metadata": {
    "execution": {
     "iopub.execute_input": "2024-04-09T16:13:43.085274Z",
     "iopub.status.busy": "2024-04-09T16:13:43.085204Z",
     "iopub.status.idle": "2024-04-09T16:13:43.088262Z",
     "shell.execute_reply": "2024-04-09T16:13:43.088054Z"
    }
   },
   "outputs": [
    {
     "data": {
      "text/plain": [
       "4.2413036196650715"
      ]
     },
     "execution_count": 76,
     "metadata": {},
     "output_type": "execute_result"
    }
   ],
   "source": [
    "# compute and store the answer in the variable 'avg_age_kepler', then display it\n",
    "\n",
    "# BEGIN SOLUTION NO PROMPT\n",
    "total_age = 0\n",
    "count = 0\n",
    "for star_name in stars_dict:\n",
    "    star = stars_dict[star_name]\n",
    "    if star.stellar_age == None:\n",
    "        continue\n",
    "    if star_name.startswith(\"Kepler\"):\n",
    "        total_age += star.stellar_age\n",
    "        count += 1\n",
    "avg_age_kepler = total_age/count        \n",
    "\n",
    "avg_age_kepler\n",
    "# END SOLUTION"
   ]
  },
  {
   "cell_type": "raw",
   "id": "c02b0ad9",
   "metadata": {},
   "source": [
    "# END SOLUTION"
   ]
  },
  {
   "cell_type": "markdown",
   "id": "27f2cf57",
   "metadata": {},
   "source": [
    "## IGNORE ##\n",
    "\n",
    "#### Requirements for Random Data Generation:\n",
    "\n",
    "To each of the files `stars_1.csv`, ..., `stars_5.csv`, stars whose name starts with `Kepler` must be added."
   ]
  },
  {
   "cell_type": "raw",
   "id": "fb91f51e",
   "metadata": {},
   "source": [
    "# BEGIN TESTS"
   ]
  },
  {
   "cell_type": "markdown",
   "id": "3f36e4d7",
   "metadata": {},
   "source": [
    "## IGNORE ##\n",
    "\n",
    "#### Public Test\n",
    "\n",
    "**points:** 3\n",
    "\n",
    "**format:** TEXT_FORMAT\n",
    "\n",
    "**answer:** avg_age_kepler"
   ]
  },
  {
   "cell_type": "code",
   "execution_count": 77,
   "id": "b024ea5f",
   "metadata": {
    "execution": {
     "iopub.execute_input": "2024-04-09T16:13:43.089504Z",
     "iopub.status.busy": "2024-04-09T16:13:43.089436Z",
     "iopub.status.idle": "2024-04-09T16:13:43.091017Z",
     "shell.execute_reply": "2024-04-09T16:13:43.090802Z"
    }
   },
   "outputs": [
    {
     "name": "stdout",
     "output_type": "stream",
     "text": [
      "All test cases passed!\n"
     ]
    }
   ],
   "source": [
    "public_tests.check('q11', avg_age_kepler)"
   ]
  },
  {
   "cell_type": "markdown",
   "id": "fc0aec6e",
   "metadata": {},
   "source": [
    "## IGNORE ##\n",
    "\n",
    "#### Hidden Test\n",
    "\n",
    "**rubric item:** answer does not check for only stars that start with `Kepler`\n",
    "\n",
    "**points:** 1\n",
    "\n",
    "**reason for rubric:** The question is looking only for stars that begin with `Kepler` and not stars that contain `Kepler` somewhere in the name, or start with `kepler`, etc.\n",
    "\n",
    "**test dataset details:** The dataset is completely modified. In each of the files `stars_1.csv`, ..., `stars_5.csv`, with a small probability for each row, the `Star Name` value is modified so that it starts with `Kepler`. With a similar probabiltiy for each row, the `Star Name` value is modified so that it starts with a string that contains `Kepler` as a substring (but does not start with it), or starts with `kepler`. For these stars alone, the `Stellar Age [Gyr]` value is set to be a really large number."
   ]
  },
  {
   "cell_type": "code",
   "execution_count": 78,
   "id": "6065e46b",
   "metadata": {
    "execution": {
     "iopub.execute_input": "2024-04-09T16:13:43.092184Z",
     "iopub.status.busy": "2024-04-09T16:13:43.092121Z",
     "iopub.status.idle": "2024-04-09T16:13:43.148091Z",
     "shell.execute_reply": "2024-04-09T16:13:43.147885Z"
    }
   },
   "outputs": [
    {
     "name": "stdout",
     "output_type": "stream",
     "text": [
      "All test cases passed!"
     ]
    },
    {
     "name": "stdout",
     "output_type": "stream",
     "text": [
      "\n"
     ]
    }
   ],
   "source": [
    "\"\"\" # BEGIN TEST CONFIG\n",
    "success_message: Note that the Gradescope autograder will deduct points if your code fails the following rubric point - 'answer does not check for only stars that start with `Kepler` (-1)'.The public tests cannot determine if your code satisfies these requirements. Verify your code manually.\n",
    "\"\"\" # END TEST CONFIG\n",
    "\n",
    "public_tests.rubric_check('q11: answer does not check for only stars that start with `Kepler`')"
   ]
  },
  {
   "cell_type": "markdown",
   "id": "8699da91",
   "metadata": {},
   "source": [
    "## IGNORE ##\n",
    "\n",
    "#### Hidden Test\n",
    "\n",
    "**rubric item:** incorrect logic is used to answer\n",
    "\n",
    "**points:** 1\n",
    "\n",
    "**reason for rubric:** It is possible to obtain the correct answer even with logically incorrect code.\n",
    "\n",
    "**test dataset details:** The dataset is completely modified. In each of the files `stars_1.csv`, ..., `stars_5.csv`, with a small probability for each row, the `Star Name` value is modified so that it starts with `Kepler`. Then, with probability `1/3` for each row, the `Stellar Age [Gyr]` value is set to `None`, with probability `1/3` for each row, the `Stellar Age [Gyr]` value is set to `0`, and for all other rows, the value is set to a really high value."
   ]
  },
  {
   "cell_type": "code",
   "execution_count": 79,
   "id": "c0e700a6",
   "metadata": {
    "execution": {
     "iopub.execute_input": "2024-04-09T16:13:43.149196Z",
     "iopub.status.busy": "2024-04-09T16:13:43.149134Z",
     "iopub.status.idle": "2024-04-09T16:13:43.205047Z",
     "shell.execute_reply": "2024-04-09T16:13:43.204813Z"
    }
   },
   "outputs": [
    {
     "name": "stdout",
     "output_type": "stream",
     "text": [
      "All test cases passed!"
     ]
    },
    {
     "name": "stdout",
     "output_type": "stream",
     "text": [
      "\n"
     ]
    }
   ],
   "source": [
    "\"\"\" # BEGIN TEST CONFIG\n",
    "success_message: Note that the Gradescope autograder will deduct points if your code fails the following rubric point - 'incorrect logic is used to answer (-1)'.The public tests cannot determine if your code satisfies these requirements. Verify your code manually.\n",
    "\"\"\" # END TEST CONFIG\n",
    "\n",
    "public_tests.rubric_check('q11: incorrect logic is used to answer')"
   ]
  },
  {
   "cell_type": "markdown",
   "id": "bad22fc7",
   "metadata": {},
   "source": [
    "## IGNORE ##\n",
    "\n",
    "#### Hidden Test\n",
    "\n",
    "**rubric item:** `stars_dict` data structure is not used to answer\n",
    "\n",
    "**points:** 1\n",
    "\n",
    "**reason for rubric:** The data structure has already been defined, and stores the required data, so it would be wasteful to answer this question without making use of this data structure.\n",
    "\n",
    "**test notebook details:** The data structure is replaced with a data structure that stores different data from the correct data structure. The data structure is first defined correctly. Then, using a fixed random seed, the *values* mapped to each *key* in the dictionary are shuffled."
   ]
  },
  {
   "cell_type": "code",
   "execution_count": 80,
   "id": "3d974615",
   "metadata": {
    "execution": {
     "iopub.execute_input": "2024-04-09T16:13:43.206328Z",
     "iopub.status.busy": "2024-04-09T16:13:43.206264Z",
     "iopub.status.idle": "2024-04-09T16:13:43.261981Z",
     "shell.execute_reply": "2024-04-09T16:13:43.261771Z"
    }
   },
   "outputs": [
    {
     "name": "stdout",
     "output_type": "stream",
     "text": [
      "All test cases passed!\n"
     ]
    }
   ],
   "source": [
    "\"\"\" # BEGIN TEST CONFIG\n",
    "success_message: Note that the Gradescope autograder will deduct points if your code fails the following rubric point - '`stars_dict` data structure is not used to answer (-1)'.The public tests cannot determine if your code satisfies these requirements. Verify your code manually.\n",
    "\"\"\" # END TEST CONFIG\n",
    "\n",
    "public_tests.rubric_check('q11: `stars_dict` data structure is not used to answer')"
   ]
  },
  {
   "cell_type": "raw",
   "id": "12a4847a",
   "metadata": {},
   "source": [
    "# END TESTS"
   ]
  },
  {
   "cell_type": "raw",
   "id": "6fe18797",
   "metadata": {
    "lines_to_next_cell": 0
   },
   "source": [
    "# END QUESTION"
   ]
  },
  {
   "cell_type": "raw",
   "id": "cb2f97c0",
   "metadata": {},
   "source": [
    "# BEGIN QUESTION\n",
    "name: Planet\n",
    "points: 0"
   ]
  },
  {
   "cell_type": "markdown",
   "id": "228d1c3a",
   "metadata": {},
   "source": [
    "### Data Structure 3: namedtuple `Planet`\n",
    "\n",
    "Just as you did with the stars, you will be using named tuples to store the data about the planets in the `planets_1.csv`, ..., `planets_5.csv` files. Before you start reading these files however, you **must** create a new `Planet` type (using namedtuple). It **must** have the following attributes:\n",
    "\n",
    "* `planet_name`,\n",
    "* `host_name`,\n",
    "* `discovery_method`,\n",
    "* `discovery_year`,\n",
    "* `controversial_flag`,\n",
    "* `orbital_period`,\n",
    "* `planet_radius`,\n",
    "* `planet_mass`,\n",
    "* `semi_major_radius`,\n",
    "* `eccentricity`,\n",
    "* `equilibrium_temperature`\n",
    "* `insolation_flux`."
   ]
  },
  {
   "cell_type": "raw",
   "id": "5de0d4e7",
   "metadata": {
    "lines_to_next_cell": 0
   },
   "source": [
    "# BEGIN SOLUTION"
   ]
  },
  {
   "cell_type": "code",
   "execution_count": 81,
   "id": "773ac3c0",
   "metadata": {
    "execution": {
     "iopub.execute_input": "2024-04-09T16:13:43.263275Z",
     "iopub.status.busy": "2024-04-09T16:13:43.263201Z",
     "iopub.status.idle": "2024-04-09T16:13:43.265098Z",
     "shell.execute_reply": "2024-04-09T16:13:43.264864Z"
    },
    "lines_to_next_cell": 0
   },
   "outputs": [],
   "source": [
    "# define the namedtuple 'Planet' here\n",
    "\n",
    "# BEGIN SOLUTION NO PROMPT\n",
    "planets_attributes = ['planet_name',\n",
    "                     'host_name', \n",
    "                     'discovery_method',\n",
    "                     'discovery_year',\n",
    "                     'controversial_flag',\n",
    "                     'orbital_period',\n",
    "                     'planet_radius',\n",
    "                     'planet_mass',\n",
    "                     'semi_major_radius',\n",
    "                     'eccentricity',\n",
    "                     'equilibrium_temperature',\n",
    "                     'insolation_flux']\n",
    "\n",
    "Planet = namedtuple(\"Planet\", planets_attributes)\n",
    "# END SOLUTION"
   ]
  },
  {
   "cell_type": "code",
   "execution_count": 82,
   "id": "c627718c",
   "metadata": {
    "execution": {
     "iopub.execute_input": "2024-04-09T16:13:43.266156Z",
     "iopub.status.busy": "2024-04-09T16:13:43.266094Z",
     "iopub.status.idle": "2024-04-09T16:13:43.268159Z",
     "shell.execute_reply": "2024-04-09T16:13:43.267942Z"
    }
   },
   "outputs": [
    {
     "data": {
      "text/plain": [
       "Planet(planet_name='Jupiter', host_name='Sun', discovery_method='Imaging', discovery_year=1610, controversial_flag=False, orbital_period=4333.0, planet_radius=11.209, planet_mass=317.828, semi_major_radius=5.2038, eccentricity=0.0489, equilibrium_temperature=110, insolation_flux=0.0345)"
      ]
     },
     "execution_count": 82,
     "metadata": {},
     "output_type": "execute_result"
    }
   ],
   "source": [
    "# run this following cell to initialize and test an example Planet object\n",
    "# if this cell fails to execute, you have likely not defined the namedtuple 'Planet' correctly\n",
    "jupiter = Planet('Jupiter', 'Sun', 'Imaging', 1610, False, 4333.0, 11.209, 317.828, 5.2038, 0.0489, 110, 0.0345)\n",
    "\n",
    "jupiter"
   ]
  },
  {
   "cell_type": "raw",
   "id": "76255af0",
   "metadata": {},
   "source": [
    "# END SOLUTION"
   ]
  },
  {
   "cell_type": "raw",
   "id": "106a37ea",
   "metadata": {},
   "source": [
    "# BEGIN TESTS"
   ]
  },
  {
   "cell_type": "markdown",
   "id": "d8c59be3",
   "metadata": {},
   "source": [
    "## IGNORE ##\n",
    "\n",
    "#### Public Test\n",
    "\n",
    "**points:** 2\n",
    "\n",
    "**format:** TEXT_FORMAT_NAMEDTUPLE\n",
    "\n",
    "**answer:** jupiter"
   ]
  },
  {
   "cell_type": "code",
   "execution_count": 83,
   "id": "0eba196b",
   "metadata": {
    "execution": {
     "iopub.execute_input": "2024-04-09T16:13:43.269377Z",
     "iopub.status.busy": "2024-04-09T16:13:43.269314Z",
     "iopub.status.idle": "2024-04-09T16:13:43.270887Z",
     "shell.execute_reply": "2024-04-09T16:13:43.270642Z"
    }
   },
   "outputs": [
    {
     "name": "stdout",
     "output_type": "stream",
     "text": [
      "All test cases passed!\n"
     ]
    }
   ],
   "source": [
    "public_tests.check('Planet', jupiter)"
   ]
  },
  {
   "cell_type": "markdown",
   "id": "dde94cce",
   "metadata": {},
   "source": [
    "## IGNORE ##\n",
    "\n",
    "#### Hidden Test\n",
    "\n",
    "**rubric item:** data structure is defined more than once\n",
    "\n",
    "**points:** 1\n",
    "\n",
    "**reason for rubric:** It is a bad idea to define a data structure more than once, if defining the data structure is a time consuming process. In that case, the data structure must be defined once, and stored to be used for access later, instead of being redefined when it is needed.\n",
    "\n",
    "**test notebook details:** Code is injected at the start of the notebook which defines an empty dictionary called `hidn_namedtuple_count`, and then redefines the `namedtuple` function so that it modifies the global variable `hidn_namedtuple_count` and increases the count of the input by *1*, before returning the correct `namedtuple` class. Code is then injected at the end of the notebook which tests if `hidn_namedtuple_count['Planet']` is equal to *1*."
   ]
  },
  {
   "cell_type": "code",
   "execution_count": 84,
   "id": "809be452",
   "metadata": {
    "execution": {
     "iopub.execute_input": "2024-04-09T16:13:43.272105Z",
     "iopub.status.busy": "2024-04-09T16:13:43.272042Z",
     "iopub.status.idle": "2024-04-09T16:13:43.337011Z",
     "shell.execute_reply": "2024-04-09T16:13:43.336745Z"
    }
   },
   "outputs": [
    {
     "name": "stdout",
     "output_type": "stream",
     "text": [
      "All test cases passed!\n"
     ]
    }
   ],
   "source": [
    "\"\"\" # BEGIN TEST CONFIG\n",
    "success_message: Note that the Gradescope autograder will deduct points if your code fails the following rubric point - 'data structure is defined more than once (-1)'.The public tests cannot determine if your code satisfies these requirements. Verify your code manually.\n",
    "\"\"\" # END TEST CONFIG\n",
    "\n",
    "public_tests.rubric_check('Planet: data structure is defined more than once')"
   ]
  },
  {
   "cell_type": "markdown",
   "id": "db465ec5",
   "metadata": {},
   "source": [
    "## IGNORE ##\n",
    "\n",
    "#### Hidden Test\n",
    "\n",
    "**rubric item:** data structure is defined incorrectly\n",
    "\n",
    "**points:** 1\n",
    "\n",
    "**reason for rubric:** The data structure is used to answer a lot of questions, and any errors in the definition will affect all of those questions. So, it is very important to make sure that the data structure is defined correctly.\n",
    "\n",
    "**test notebook details:** Code is injected at the end of the notebook to test whether we can redefine the variable `jupiter` to be a different `Planet` object."
   ]
  },
  {
   "cell_type": "code",
   "execution_count": 85,
   "id": "22ad7e06",
   "metadata": {
    "execution": {
     "iopub.execute_input": "2024-04-09T16:13:43.338370Z",
     "iopub.status.busy": "2024-04-09T16:13:43.338298Z",
     "iopub.status.idle": "2024-04-09T16:13:43.394735Z",
     "shell.execute_reply": "2024-04-09T16:13:43.394517Z"
    }
   },
   "outputs": [
    {
     "name": "stdout",
     "output_type": "stream",
     "text": [
      "All test cases passed!\n"
     ]
    }
   ],
   "source": [
    "\"\"\" # BEGIN TEST CONFIG\n",
    "success_message: Note that the Gradescope autograder will deduct points if your code fails the following rubric point - 'data structure is defined incorrectly (-1)'.The public tests cannot determine if your code satisfies these requirements. Verify your code manually.\n",
    "\"\"\" # END TEST CONFIG\n",
    "\n",
    "public_tests.rubric_check('Planet: data structure is defined incorrectly')"
   ]
  },
  {
   "cell_type": "raw",
   "id": "2a1fe92a",
   "metadata": {},
   "source": [
    "# END TESTS"
   ]
  },
  {
   "cell_type": "raw",
   "id": "48455f20",
   "metadata": {
    "lines_to_next_cell": 0
   },
   "source": [
    "# END QUESTION"
   ]
  },
  {
   "cell_type": "markdown",
   "id": "5fd25e40",
   "metadata": {},
   "source": [
    "### Creating `Planet` objects\n",
    "\n",
    "We are now ready to read the files in the `data` directory and create `Planet` objects. Creating `Planet` objects however, is going to be more difficult than creating `Star` objects, because the data required to create a single `Planet` object is split up into different files.\n",
    "\n",
    "The `planets_1.csv`, ..., `planets_5.csv` files contain all the data required to create `Planet` objects **except** for the `host_name`. The `host_name` for each planet is to be found in the `mapping_1.json`, ..., `mapping_5.json` files."
   ]
  },
  {
   "cell_type": "raw",
   "id": "e5c2f782",
   "metadata": {},
   "source": [
    "# BEGIN QUESTION\n",
    "name: planets_1_csv\n",
    "points: 0"
   ]
  },
  {
   "cell_type": "markdown",
   "id": "a6efc51a",
   "metadata": {},
   "source": [
    "First, let us read the data in `planets_1.csv`. Since this is a CSV file, you can use the `process_csv` function from above to read this file. In the cell below, you **must** read the data in `planets_1.csv` and extract the **header** and the non-header **rows** of the file."
   ]
  },
  {
   "cell_type": "raw",
   "id": "0b2ea59e",
   "metadata": {},
   "source": [
    "# BEGIN SOLUTION"
   ]
  },
  {
   "cell_type": "code",
   "execution_count": 86,
   "id": "bf3dfea9",
   "metadata": {
    "execution": {
     "iopub.execute_input": "2024-04-09T16:13:43.396154Z",
     "iopub.status.busy": "2024-04-09T16:13:43.396087Z",
     "iopub.status.idle": "2024-04-09T16:13:43.399470Z",
     "shell.execute_reply": "2024-04-09T16:13:43.399279Z"
    }
   },
   "outputs": [],
   "source": [
    "# replace the ... with your code\n",
    "\n",
    "\"\"\"# BEGIN PROMPT\n",
    "planets_1_csv = process_csv(...) # read the data in 'planets_1.csv'\n",
    "planets_header = ...\n",
    "planets_1_rows = ...\n",
    "\"\"\";# END PROMPT\n",
    "# BEGIN SOLUTION NO PROMPT\n",
    "planets_1_csv = process_csv(os.path.join(\"data\", \"planets_1.csv\"))\n",
    "planets_header = planets_1_csv[0]\n",
    "planets_1_rows = planets_1_csv[1:]\n",
    "# END SOLUTION"
   ]
  },
  {
   "cell_type": "raw",
   "id": "579f1082",
   "metadata": {},
   "source": [
    "# END SOLUTION"
   ]
  },
  {
   "cell_type": "raw",
   "id": "d2ddc04c",
   "metadata": {},
   "source": [
    "# END QUESTION"
   ]
  },
  {
   "cell_type": "markdown",
   "id": "dd3228eb",
   "metadata": {},
   "source": [
    "If you wish to **verify** that you have read the file and defined the variables correctly, you can check that `planets_header` has the value:\n",
    "\n",
    "```python\n",
    "['Planet Name', 'Discovery Method', 'Discovery Year', 'Controversial Flag',\n",
    " 'Orbital Period [days]', 'Planet Radius [Earth Radius]', 'Planet Mass [Earth Mass]',\n",
    " 'Orbit Semi-Major Axis [au]', 'Eccentricity', 'Equilibrium Temperature [K]',\n",
    " 'Insolation Flux [Earth Flux]']\n",
    "```\n",
    "\n",
    "and that `planets_1_rows` has **1610** rows of which the **first three** are:\n",
    "\n",
    "```python\n",
    "[['11 Com b', 'Radial Velocity', '2007', '0', '323.21000000', '12.200', '4914.89849', '1.178000', '0.238000', '', ''],\n",
    " ['11 UMi b', 'Radial Velocity', '2009', '0', '516.21997000', '12.300', '4684.81420', '1.530000', '0.080000', '', ''],\n",
    " ['14 And b', 'Radial Velocity', '2008', '0', '186.76000000', '13.100', '1131.15130', '0.775000', '0.000000', '', '']]\n",
    "```"
   ]
  },
  {
   "cell_type": "raw",
   "id": "9c28086a",
   "metadata": {},
   "source": [
    "# BEGIN QUESTION\n",
    "name: mapping_1_json\n",
    "points: 0"
   ]
  },
  {
   "cell_type": "markdown",
   "id": "82a7a93e",
   "metadata": {},
   "source": [
    "Now, you are ready to read the data in `mapping_1.json`. Since this is a JSON file, you will need to copy/paste the `read_json` function Lab-P10, and use it to read the file."
   ]
  },
  {
   "cell_type": "raw",
   "id": "4d3c250d",
   "metadata": {},
   "source": [
    "# BEGIN SOLUTION"
   ]
  },
  {
   "cell_type": "code",
   "execution_count": 87,
   "id": "20f97e3e",
   "metadata": {
    "execution": {
     "iopub.execute_input": "2024-04-09T16:13:43.400759Z",
     "iopub.status.busy": "2024-04-09T16:13:43.400682Z",
     "iopub.status.idle": "2024-04-09T16:13:43.402260Z",
     "shell.execute_reply": "2024-04-09T16:13:43.402058Z"
    }
   },
   "outputs": [],
   "source": [
    "# copy & paste the read_json file from Lab-P10\n",
    "\n",
    "# BEGIN SOLUTION NO PROMPT\n",
    "def read_json(path):\n",
    "    with open(path, encoding=\"utf-8\") as f:\n",
    "        return json.load(f)\n",
    "# END SOLUTION"
   ]
  },
  {
   "cell_type": "code",
   "execution_count": 88,
   "id": "da23f5bd",
   "metadata": {
    "execution": {
     "iopub.execute_input": "2024-04-09T16:13:43.403345Z",
     "iopub.status.busy": "2024-04-09T16:13:43.403284Z",
     "iopub.status.idle": "2024-04-09T16:13:43.405292Z",
     "shell.execute_reply": "2024-04-09T16:13:43.404972Z"
    }
   },
   "outputs": [],
   "source": [
    "# now use the read_json function to read 'mapping_1.json'\n",
    "\n",
    "mapping_1_json = read_json(os.path.join(\"data\", \"mapping_1.json\")) # SOLUTION"
   ]
  },
  {
   "cell_type": "raw",
   "id": "8383819b",
   "metadata": {},
   "source": [
    "# END SOLUTION"
   ]
  },
  {
   "cell_type": "raw",
   "id": "059d6aa2",
   "metadata": {},
   "source": [
    "# END QUESTION"
   ]
  },
  {
   "cell_type": "markdown",
   "id": "104f741a",
   "metadata": {},
   "source": [
    "If you wish to **verify** that you have read the file correctly, you can check that `mapping_1_json` has **1610** key/value pairs, and has the value:\n",
    "\n",
    "```python\n",
    "{'11 Com b': '11 Com',\n",
    " '11 UMi b': '11 UMi',\n",
    " '14 And b': '14 And',\n",
    " ...\n",
    " }\n",
    "```\n",
    "\n",
    "Now that we have read `planets_1.csv` and `mapping_1.json`, we are now ready to combine these two files to create `Planet` objects."
   ]
  },
  {
   "cell_type": "raw",
   "id": "b46170e5",
   "metadata": {},
   "source": [
    "# BEGIN QUESTION\n",
    "name: planet_cell\n",
    "points: 0"
   ]
  },
  {
   "cell_type": "markdown",
   "id": "1d011f1b",
   "metadata": {},
   "source": [
    "### Function 3: `planet_cell(row_idx, col_name, planets_rows, header=planets_header)`\n",
    "\n",
    "This function **must** read the **list** of **lists** `planets_rows`, and extract the value at **row** index `row_idx` and **column** index `col_idx`. The function **must** typecast the value based on `col_name`. If the value in `planets_rows` is **missing** (i.e., it is `''`), then the value returned **must** be `None`.\n",
    "\n",
    "The **column** of `planets_rows` where the value should be obtained from, and the correct **data type** for the value are listed in the table below:\n",
    "\n",
    "|Column of `planets_rows`|Data Type|\n",
    "|------|---------|\n",
    "|Planet Name|**string**|\n",
    "|Discovery Year|**int**|\n",
    "|Discovery Method|**string**|\n",
    "|Controversial Flag|**bool**|\n",
    "|Orbital Period [days]|**float**|\n",
    "|Planet Radius [Earth Radius]|**float**|\n",
    "|Planet Mass [Earth Mass]|**float**|\n",
    "|Orbit Semi-Major Axis [au]|**float**|\n",
    "|Eccentricity|**float**|\n",
    "|Equilibrium Temperature [K]|**float**|\n",
    "|Insolation Flux [Earth Flux]|**float**|\n",
    "\n",
    "**Important Hint:** While computing the value of the attribute `controversial_flag`, note that the `Controversial Flag` column of `planets_1.csv` represents `True` with `'1'` and `False` with `'0'`. You **must** be careful with typecasting **strings** to **booleans**."
   ]
  },
  {
   "cell_type": "raw",
   "id": "226cdd5e",
   "metadata": {},
   "source": [
    "# BEGIN SOLUTION"
   ]
  },
  {
   "cell_type": "code",
   "execution_count": 89,
   "id": "fb509f13",
   "metadata": {
    "execution": {
     "iopub.execute_input": "2024-04-09T16:13:43.406708Z",
     "iopub.status.busy": "2024-04-09T16:13:43.406631Z",
     "iopub.status.idle": "2024-04-09T16:13:43.410279Z",
     "shell.execute_reply": "2024-04-09T16:13:43.410085Z"
    }
   },
   "outputs": [],
   "source": [
    "# define the function 'planet_cell' here\n",
    "\n",
    "# BEGIN SOLUTION NO PROMPT\n",
    "# these variables are redefined here so it is easier for the hidden tests to identify the dependent global variables\n",
    "planets_1_csv = process_csv(os.path.join(\"data\", \"planets_1.csv\"))\n",
    "planets_header = planets_1_csv[0]\n",
    "planets_1_rows = planets_1_csv[1:]\n",
    "\n",
    "def planet_cell(row_idx, col_name, planets_rows, header=planets_header):\n",
    "    col_idx = header.index(col_name)\n",
    "    val = planets_rows[row_idx][col_idx]\n",
    "    if val == '':\n",
    "        return None\n",
    "    if col_name in [\"Controversial Flag\"]:\n",
    "        if val == \"1\":\n",
    "            return True\n",
    "        else:\n",
    "            return False\n",
    "    elif col_name in ['Discovery Year']:\n",
    "        return int(val)\n",
    "    elif col_name in ['Orbital Period [days]', 'Planet Radius [Earth Radius]', \n",
    "                     'Planet Mass [Earth Mass]', 'Orbit Semi-Major Axis [au]', 'Eccentricity',\n",
    "                     'Equilibrium Temperature [K]', 'Insolation Flux [Earth Flux]']:\n",
    "        return float(val)\n",
    "    else:\n",
    "        return val\n",
    "# END SOLUTION"
   ]
  },
  {
   "cell_type": "raw",
   "id": "658e9ccf",
   "metadata": {},
   "source": [
    "# END SOLUTION"
   ]
  },
  {
   "cell_type": "raw",
   "id": "68686d26",
   "metadata": {},
   "source": [
    "# BEGIN TESTS"
   ]
  },
  {
   "cell_type": "markdown",
   "id": "d619dbc3",
   "metadata": {},
   "source": [
    "## IGNORE ##\n",
    "\n",
    "#### Public Test\n",
    "\n",
    "**points:** 5"
   ]
  },
  {
   "cell_type": "markdown",
   "id": "90b844d9",
   "metadata": {},
   "source": [
    "## IGNORE ##\n",
    "\n",
    "#### Hidden Test\n",
    "\n",
    "**rubric item:** function does not typecast values based on columns\n",
    "\n",
    "**points:** 1\n",
    "\n",
    "**reason for rubric:** This function is to be used to extract all data from the planet files. Therefore, it would be useful to make sure that this function typecasts the values befre returning them. Otherwise, the outputs of this function would need to be explicitly typecast everywhere, which would be unnecessary.\n",
    "\n",
    "**test dataset details:** The dataset is modified to save runtime.\n",
    "\n",
    "**test notebook details:** The output of the function `planet_cell` is tested on inputs of the first row index, on all columns, for all planets rows. `nb['cells'][-2]['source']` is then modified so that the line `check = public_tests.compare(expected_val, actual_val, test_format)` is replaced with `check = public_tests.compare(type(expected_val), type(actual_val), test_format)`."
   ]
  },
  {
   "cell_type": "code",
   "execution_count": 90,
   "id": "179018bf",
   "metadata": {
    "execution": {
     "iopub.execute_input": "2024-04-09T16:13:43.411440Z",
     "iopub.status.busy": "2024-04-09T16:13:43.411372Z",
     "iopub.status.idle": "2024-04-09T16:13:43.469777Z",
     "shell.execute_reply": "2024-04-09T16:13:43.469548Z"
    }
   },
   "outputs": [
    {
     "name": "stdout",
     "output_type": "stream",
     "text": [
      "All test cases passed!\n"
     ]
    }
   ],
   "source": [
    "\"\"\" # BEGIN TEST CONFIG\n",
    "success_message: Note that the Gradescope autograder will deduct points if your code fails the following rubric point - 'function does not typecast values based on columns (-1)'.The public tests cannot determine if your code satisfies these requirements. Verify your code manually.\n",
    "\"\"\" # END TEST CONFIG\n",
    "\n",
    "public_tests.rubric_check('planet_cell: function does not typecast values based on columns')"
   ]
  },
  {
   "cell_type": "markdown",
   "id": "c0f3c216",
   "metadata": {},
   "source": [
    "## IGNORE ##\n",
    "\n",
    "#### Hidden Test\n",
    "\n",
    "**rubric item:** column indices are hardcoded instead of using column names\n",
    "\n",
    "**points:** 1\n",
    "\n",
    "**reason for rubric:** The column indices are not a part of the question, only the column names. So the typecasting must be performed using the column name and not using hardcoded column indices.\n",
    "\n",
    "**test dataset details:** Using a fixed seed, all the files in `data` that begin with `planets` are parsed, and their columns are permuted.\n",
    "\n",
    "**test notebook details:** The output of the function `planet_cell` is tested on inputs of the first row index, on all columns, for all planets rows."
   ]
  },
  {
   "cell_type": "code",
   "execution_count": 91,
   "id": "e9c73d16",
   "metadata": {
    "execution": {
     "iopub.execute_input": "2024-04-09T16:13:43.470942Z",
     "iopub.status.busy": "2024-04-09T16:13:43.470879Z",
     "iopub.status.idle": "2024-04-09T16:13:43.527288Z",
     "shell.execute_reply": "2024-04-09T16:13:43.527070Z"
    }
   },
   "outputs": [
    {
     "name": "stdout",
     "output_type": "stream",
     "text": [
      "All test cases passed!\n"
     ]
    }
   ],
   "source": [
    "\"\"\" # BEGIN TEST CONFIG\n",
    "success_message: Note that the Gradescope autograder will deduct points if your code fails the following rubric point - 'column indices are hardcoded instead of using column names (-1)'.The public tests cannot determine if your code satisfies these requirements. Verify your code manually.\n",
    "\"\"\" # END TEST CONFIG\n",
    "\n",
    "public_tests.rubric_check('planet_cell: column indices are hardcoded instead of using column names')"
   ]
  },
  {
   "cell_type": "markdown",
   "id": "868c5d71",
   "metadata": {},
   "source": [
    "## IGNORE ##\n",
    "\n",
    "#### Hidden Test\n",
    "\n",
    "**rubric item:** boolean values are not typecasted correctly\n",
    "\n",
    "**points:** 1\n",
    "\n",
    "**reason for rubric:** The column indices are not a part of the question, only the column names. So the typecasting must be performed using the column name and not using hardcoded column indices.\n",
    "\n",
    "**test dataset details:** The dataset is completely modified. All the files in `data` that begin with `planets` are parsed, and the `Controversial Flag` values are set to `0` with probability `1/2`, and `1` with probability `1/2`.\n",
    "\n",
    "**test notebook details:** The output of the function `planet_cell` is tested on inputs of all row indices, on the column `Controversial Flag`, for all planets rows."
   ]
  },
  {
   "cell_type": "code",
   "execution_count": 92,
   "id": "e9365a36",
   "metadata": {
    "execution": {
     "iopub.execute_input": "2024-04-09T16:13:43.528446Z",
     "iopub.status.busy": "2024-04-09T16:13:43.528381Z",
     "iopub.status.idle": "2024-04-09T16:13:43.585583Z",
     "shell.execute_reply": "2024-04-09T16:13:43.585326Z"
    }
   },
   "outputs": [
    {
     "name": "stdout",
     "output_type": "stream",
     "text": [
      "All test cases passed!\n"
     ]
    }
   ],
   "source": [
    "\"\"\" # BEGIN TEST CONFIG\n",
    "success_message: Note that the Gradescope autograder will deduct points if your code fails the following rubric point - 'boolean values are not typecasted correctly (-1)'.The public tests cannot determine if your code satisfies these requirements. Verify your code manually.\n",
    "\"\"\" # END TEST CONFIG\n",
    "\n",
    "public_tests.rubric_check('planet_cell: boolean values are not typecasted correctly')"
   ]
  },
  {
   "cell_type": "markdown",
   "id": "10c7e780",
   "metadata": {},
   "source": [
    "## IGNORE ##\n",
    "\n",
    "#### Hidden Test\n",
    "\n",
    "**rubric item:** function logic is incorrect\n",
    "\n",
    "**points:** 1\n",
    "\n",
    "**reason for rubric:** This function is to be used to extract all data from the planets files. Therefore, it is extremely important that this function outputs the correct values on all inputs.\n",
    "\n",
    "**test dataset details:** The dataset is completely modified. All files in `data` that begin with `planets` are parsed, and with probability `1/50`, each value is replaced with `None`.\n",
    "\n",
    "**test notebook details:** The output of the function `planet_cell` is tested on inputs of all row indices, on all columns, for all planets rows."
   ]
  },
  {
   "cell_type": "code",
   "execution_count": 93,
   "id": "650cce66",
   "metadata": {
    "execution": {
     "iopub.execute_input": "2024-04-09T16:13:43.586903Z",
     "iopub.status.busy": "2024-04-09T16:13:43.586833Z",
     "iopub.status.idle": "2024-04-09T16:13:43.643498Z",
     "shell.execute_reply": "2024-04-09T16:13:43.643266Z"
    }
   },
   "outputs": [
    {
     "name": "stdout",
     "output_type": "stream",
     "text": [
      "All test cases passed!\n"
     ]
    }
   ],
   "source": [
    "\"\"\" # BEGIN TEST CONFIG\n",
    "success_message: Note that the Gradescope autograder will deduct points if your code fails the following rubric point - 'function logic is incorrect (-1)'.The public tests cannot determine if your code satisfies these requirements. Verify your code manually.\n",
    "\"\"\" # END TEST CONFIG\n",
    "\n",
    "public_tests.rubric_check('planet_cell: function logic is incorrect')"
   ]
  },
  {
   "cell_type": "markdown",
   "id": "f1ed78cc",
   "metadata": {},
   "source": [
    "## IGNORE ##\n",
    "\n",
    "#### Hidden Test\n",
    "\n",
    "**rubric item:** function is defined more than once\n",
    "\n",
    "**points:** 1\n",
    "\n",
    "**reason for rubric:** It is a bad idea to define a function more than once. If the differnt function definitions behave even slightly differently, then the output of the function would change based on when the function is called in the code, which would make the code hard to read and debug."
   ]
  },
  {
   "cell_type": "code",
   "execution_count": 94,
   "id": "c289013d",
   "metadata": {
    "execution": {
     "iopub.execute_input": "2024-04-09T16:13:43.644764Z",
     "iopub.status.busy": "2024-04-09T16:13:43.644701Z",
     "iopub.status.idle": "2024-04-09T16:13:43.725278Z",
     "shell.execute_reply": "2024-04-09T16:13:43.725032Z"
    }
   },
   "outputs": [
    {
     "name": "stdout",
     "output_type": "stream",
     "text": [
      "All test cases passed!\n"
     ]
    }
   ],
   "source": [
    "\"\"\" # BEGIN TEST CONFIG\n",
    "success_message: Note that the Gradescope autograder will deduct points if your code fails the following rubric point - 'function is defined more than once (-1)'.The public tests cannot determine if your code satisfies these requirements. Verify your code manually.\n",
    "\"\"\" # END TEST CONFIG\n",
    "\n",
    "public_tests.rubric_check('planet_cell: function is defined more than once')"
   ]
  },
  {
   "cell_type": "raw",
   "id": "f6ae6666",
   "metadata": {},
   "source": [
    "# END TESTS"
   ]
  },
  {
   "cell_type": "raw",
   "id": "8494fcca",
   "metadata": {},
   "source": [
    "# END QUESTION"
   ]
  },
  {
   "cell_type": "raw",
   "id": "52defc2f",
   "metadata": {},
   "source": [
    "# BEGIN QUESTION\n",
    "name: q12\n",
    "points: 0"
   ]
  },
  {
   "cell_type": "markdown",
   "id": "10cdb778",
   "metadata": {},
   "source": [
    "**Question 12:** Create a `Planet` object for the **fifth** planet in the `planets_1.csv` file.\n",
    "\n",
    "You **must** access the values in `planets_1.csv` using the `planet_cell` function. Note that the fifth planet would be at **index** 4.\n",
    "\n",
    "The **attribute** of the `Planet` namedtuple object, the corresponding **column** of the `planets_1.csv` file where the value should be obtained from, and the correct **data type** for the value are listed in the table below:\n",
    "\n",
    "|Attribute of `Planet` object|Column of `planets_1.csv`|Data Type|\n",
    "|---------|------|---------|\n",
    "|`planet_name`|Planet Name|**string**|\n",
    "|`host_name`| - |**string**|\n",
    "|`discovery_method`|Discovery Method|**string**|\n",
    "|`discovery_year`|Discovery Year|**int**|\n",
    "|`controversial_flag`|Controversial Flag|**bool**|\n",
    "|`orbital_period`|Orbital Period [days]|**float**|\n",
    "|`planet_radius`|Planet Radius [Earth Radius]|**float**|\n",
    "|`planet_mass`|Planet Mass [Earth Mass]|**float**|\n",
    "|`semi_major_radius`|Orbit Semi-Major Axis [au]|**float**|\n",
    "|`eccentricity`|Eccentricity|**float**|\n",
    "|`equilibrium_temperature`|Equilibrium Temperature [K]|**float**|\n",
    "|`insolation_flux`|Insolation Flux [Earth Flux]|**float**|\n",
    "\n",
    "\n",
    "The value of the `host_name` attribute is found in `mapping_1.json`."
   ]
  },
  {
   "cell_type": "raw",
   "id": "c24db453",
   "metadata": {
    "lines_to_next_cell": 0
   },
   "source": [
    "# BEGIN SOLUTION"
   ]
  },
  {
   "cell_type": "code",
   "execution_count": 95,
   "id": "747a47bf",
   "metadata": {
    "execution": {
     "iopub.execute_input": "2024-04-09T16:13:43.726732Z",
     "iopub.status.busy": "2024-04-09T16:13:43.726655Z",
     "iopub.status.idle": "2024-04-09T16:13:43.729767Z",
     "shell.execute_reply": "2024-04-09T16:13:43.729548Z"
    }
   },
   "outputs": [
    {
     "data": {
      "text/plain": [
       "Planet(planet_name='17 Sco b', host_name='17 Sco', discovery_method='Radial Velocity', discovery_year=2020, controversial_flag=False, orbital_period=578.38, planet_radius=12.9, planet_mass=1373.01872, semi_major_radius=1.45, eccentricity=0.06, equilibrium_temperature=None, insolation_flux=None)"
      ]
     },
     "execution_count": 95,
     "metadata": {},
     "output_type": "execute_result"
    }
   ],
   "source": [
    "# compute and store the answer in the variable 'fifth_planet', then display it\n",
    "\n",
    "# BEGIN SOLUTION NO PROMPT\n",
    "fifth_planet_list = []\n",
    "row_idx = 4\n",
    "\n",
    "planet_name = planet_cell(row_idx, 'Planet Name', planets_1_rows)\n",
    "host_name = mapping_1_json[planet_name]\n",
    "discovery_method = planet_cell(row_idx, 'Discovery Method', planets_1_rows)\n",
    "discovery_year = planet_cell(row_idx, 'Discovery Year', planets_1_rows)\n",
    "controversial_flag = planet_cell(row_idx, 'Controversial Flag', planets_1_rows)\n",
    "orbital_period = planet_cell(row_idx, 'Orbital Period [days]', planets_1_rows)\n",
    "planet_radius = planet_cell(row_idx, 'Planet Radius [Earth Radius]', planets_1_rows)\n",
    "planet_mass = planet_cell(row_idx, 'Planet Mass [Earth Mass]', planets_1_rows)\n",
    "semi_major_radius = planet_cell(row_idx, 'Orbit Semi-Major Axis [au]', planets_1_rows)\n",
    "eccentricity = planet_cell(row_idx, 'Eccentricity', planets_1_rows)\n",
    "equilibrium_temperature = planet_cell(row_idx, 'Equilibrium Temperature [K]', planets_1_rows)\n",
    "insolation_flux = planet_cell(row_idx, 'Insolation Flux [Earth Flux]', planets_1_rows)\n",
    "\n",
    "fifth_planet = Planet(planet_name, host_name, discovery_method, discovery_year,\\\n",
    "                  controversial_flag, orbital_period, planet_radius, planet_mass,\\\n",
    "                  semi_major_radius, eccentricity, equilibrium_temperature, insolation_flux)\n",
    "\n",
    "fifth_planet\n",
    "# END SOLUTION"
   ]
  },
  {
   "cell_type": "raw",
   "id": "ecdfa4fb",
   "metadata": {},
   "source": [
    "# END SOLUTION"
   ]
  },
  {
   "cell_type": "raw",
   "id": "a1c6912c",
   "metadata": {},
   "source": [
    "# BEGIN TESTS"
   ]
  },
  {
   "cell_type": "markdown",
   "id": "230ffde2",
   "metadata": {},
   "source": [
    "## IGNORE ##\n",
    "\n",
    "#### Public Test\n",
    "\n",
    "**points:** 4\n",
    "\n",
    "**format:** TEXT_FORMAT_NAMEDTUPLE\n",
    "\n",
    "**answer:** fifth_planet"
   ]
  },
  {
   "cell_type": "code",
   "execution_count": 96,
   "id": "3de38134",
   "metadata": {
    "execution": {
     "iopub.execute_input": "2024-04-09T16:13:43.730986Z",
     "iopub.status.busy": "2024-04-09T16:13:43.730923Z",
     "iopub.status.idle": "2024-04-09T16:13:43.732605Z",
     "shell.execute_reply": "2024-04-09T16:13:43.732394Z"
    }
   },
   "outputs": [
    {
     "name": "stdout",
     "output_type": "stream",
     "text": [
      "All test cases passed!\n"
     ]
    }
   ],
   "source": [
    "public_tests.check('q12', fifth_planet)"
   ]
  },
  {
   "cell_type": "markdown",
   "id": "55457295",
   "metadata": {},
   "source": [
    "## IGNORE ##\n",
    "\n",
    "#### Hidden Test\n",
    "\n",
    "**rubric item:** `planet_cell` function is not used to answer\n",
    "\n",
    "**points:** 1\n",
    "\n",
    "**reason for rubric:** The function has already been defined, and performs the required task, so it would be wasteful to answer this question without making use of this function.\n",
    "\n",
    "**test notebook details:** The function is replaced with a function that behaves differently from the given function."
   ]
  },
  {
   "cell_type": "code",
   "execution_count": 97,
   "id": "1993d2b0",
   "metadata": {
    "execution": {
     "iopub.execute_input": "2024-04-09T16:13:43.733728Z",
     "iopub.status.busy": "2024-04-09T16:13:43.733661Z",
     "iopub.status.idle": "2024-04-09T16:13:43.789735Z",
     "shell.execute_reply": "2024-04-09T16:13:43.789508Z"
    }
   },
   "outputs": [
    {
     "name": "stdout",
     "output_type": "stream",
     "text": [
      "All test cases passed!"
     ]
    },
    {
     "name": "stdout",
     "output_type": "stream",
     "text": [
      "\n"
     ]
    }
   ],
   "source": [
    "\"\"\" # BEGIN TEST CONFIG\n",
    "success_message: Note that the Gradescope autograder will deduct points if your code fails the following rubric point - '`planet_cell` function is not used to answer (-1)'.The public tests cannot determine if your code satisfies these requirements. Verify your code manually.\n",
    "\"\"\" # END TEST CONFIG\n",
    "\n",
    "public_tests.rubric_check('q12: `planet_cell` function is not used to answer')"
   ]
  },
  {
   "cell_type": "markdown",
   "id": "88654385",
   "metadata": {},
   "source": [
    "## IGNORE ##\n",
    "\n",
    "#### Hidden Test\n",
    "\n",
    "**rubric item:** `mapping_1_json` data structure is not used to answer\n",
    "\n",
    "**points:** 1\n",
    "\n",
    "**reason for rubric:** The data structure has already been defined, and stores the required data, so it would be wasteful to answer this question without making use of this data structure.\n",
    "\n",
    "**test notebook details:** Code is injected before this question which defines the variable `mapping_1_json`. The data structure is first defined correctly. Then, using a fixed random seed, the *values* mapped to each *key* in the dictionary are shuffled."
   ]
  },
  {
   "cell_type": "code",
   "execution_count": 98,
   "id": "b133f8f3",
   "metadata": {
    "execution": {
     "iopub.execute_input": "2024-04-09T16:13:43.790918Z",
     "iopub.status.busy": "2024-04-09T16:13:43.790854Z",
     "iopub.status.idle": "2024-04-09T16:13:43.846790Z",
     "shell.execute_reply": "2024-04-09T16:13:43.846553Z"
    }
   },
   "outputs": [
    {
     "name": "stdout",
     "output_type": "stream",
     "text": [
      "All test cases passed!"
     ]
    },
    {
     "name": "stdout",
     "output_type": "stream",
     "text": [
      "\n"
     ]
    }
   ],
   "source": [
    "\"\"\" # BEGIN TEST CONFIG\n",
    "success_message: Note that the Gradescope autograder will deduct points if your code fails the following rubric point - '`mapping_1_json` data structure is not used to answer (-1)'.The public tests cannot determine if your code satisfies these requirements. Verify your code manually.\n",
    "\"\"\" # END TEST CONFIG\n",
    "\n",
    "public_tests.rubric_check('q12: `mapping_1_json` data structure is not used to answer')"
   ]
  },
  {
   "cell_type": "markdown",
   "id": "1d6bd858",
   "metadata": {},
   "source": [
    "## IGNORE ##\n",
    "\n",
    "#### Hidden Test\n",
    "\n",
    "**rubric item:** answer unnecessarily iterates over the entire dataset\n",
    "\n",
    "**points:** 1\n",
    "\n",
    "**reason for rubric:** The necessary row can be identified without parsing through the entire dataset unnecessarily.\n",
    "\n",
    "**test notebook details:** The function `planet_cell` is redefined so that it updates the global variable `hidden_count` by *1* before returning the output as before. Code is injected before this question which defines `hidden_count` to be *0*. Finally, code is injected at the end of the notebook which tests if the value of `hidden_count` is not much more than the length of `planets_header`."
   ]
  },
  {
   "cell_type": "code",
   "execution_count": 99,
   "id": "a2315279",
   "metadata": {
    "execution": {
     "iopub.execute_input": "2024-04-09T16:13:43.848042Z",
     "iopub.status.busy": "2024-04-09T16:13:43.847975Z",
     "iopub.status.idle": "2024-04-09T16:13:43.903782Z",
     "shell.execute_reply": "2024-04-09T16:13:43.903571Z"
    }
   },
   "outputs": [
    {
     "name": "stdout",
     "output_type": "stream",
     "text": [
      "All test cases passed!\n"
     ]
    }
   ],
   "source": [
    "\"\"\" # BEGIN TEST CONFIG\n",
    "success_message: Note that the Gradescope autograder will deduct points if your code fails the following rubric point - 'answer unnecessarily iterates over the entire dataset (-1)'.The public tests cannot determine if your code satisfies these requirements. Verify your code manually.\n",
    "\"\"\" # END TEST CONFIG\n",
    "\n",
    "public_tests.rubric_check('q12: answer unnecessarily iterates over the entire dataset')"
   ]
  },
  {
   "cell_type": "markdown",
   "id": "09586d09",
   "metadata": {},
   "source": [
    "## IGNORE ##\n",
    "\n",
    "#### Hidden Test\n",
    "\n",
    "**rubric item:** paths are hardcoded using slashes\n",
    "\n",
    "**points:** 1\n",
    "\n",
    "**reason for rubric:** The slashes that appear in the paths are path separators, and they are OS dependent. If slashes are hardcoded in the answer, then they will only work on computers with that operating system, and not on other computers. To avoid this, `os.path.join` must be used to create paths. In particular, for this question, `os.path.join` must be used to read `planets_1.csv`.\n",
    "\n",
    "**test dataset details:** The contents of the file `planets_2.csv` inside the `data` directory are copied to a new file `data&planets_1.csv`. Similarly, the contents of `mapping_2.json` inside `data` is copied over to `data&mapping_1.json`.\n",
    "\n",
    "**test notebook details:** Code is injected at the start of the notebook which defines new functions `new_join`, `new_basename`, `new_dirname`, and `new_split`. These functions behave similarly to `os.path.join`, `os.path.basename`, `os.path.dirname`, and `os.path.split`, except that instead of the path separator, they use the `&` symbol. All code in the notebook with calls to these functions are then replaced with these new functions."
   ]
  },
  {
   "cell_type": "code",
   "execution_count": 100,
   "id": "05b7550b",
   "metadata": {
    "execution": {
     "iopub.execute_input": "2024-04-09T16:13:43.905030Z",
     "iopub.status.busy": "2024-04-09T16:13:43.904962Z",
     "iopub.status.idle": "2024-04-09T16:13:43.960764Z",
     "shell.execute_reply": "2024-04-09T16:13:43.960545Z"
    }
   },
   "outputs": [
    {
     "name": "stdout",
     "output_type": "stream",
     "text": [
      "All test cases passed!\n"
     ]
    }
   ],
   "source": [
    "\"\"\" # BEGIN TEST CONFIG\n",
    "success_message: Note that the Gradescope autograder will deduct points if your code fails the following rubric point - 'paths are hardcoded using slashes (-1)'.The public tests cannot determine if your code satisfies these requirements. Verify your code manually.\n",
    "\"\"\" # END TEST CONFIG\n",
    "\n",
    "public_tests.rubric_check('q12: paths are hardcoded using slashes')"
   ]
  },
  {
   "cell_type": "raw",
   "id": "f9da8b11",
   "metadata": {},
   "source": [
    "# END TESTS"
   ]
  },
  {
   "cell_type": "raw",
   "id": "d41ee9d6",
   "metadata": {
    "lines_to_next_cell": 0
   },
   "source": [
    "# END QUESTION"
   ]
  },
  {
   "cell_type": "raw",
   "id": "4e81f05c",
   "metadata": {},
   "source": [
    "# BEGIN QUESTION\n",
    "name: get_planets\n",
    "points: 0"
   ]
  },
  {
   "cell_type": "markdown",
   "id": "d2e1e4c4",
   "metadata": {},
   "source": [
    "### Function 4: `get_planets(planet_file, mapping_file)`: \n",
    "\n",
    "This function **must** take in as its input, a **path** to the CSV file `planet_file` which contains data on planets in the same format as `planets_1.csv`, as well as a **path** to the JSON file `mapping_file` which maps planets in `planet_file` to their host star in the same format as `mapping_1.json`. This function **must** return a **list** of `Planet` objects by combining the data in these two files. The `Planet` objects **must** appear in the same order as they do in `planet_file`.\n",
    "\n",
    "You **must** access the values in `planets_file` using the `planet_cell` function.\n",
    "\n",
    "You **must not** hardcode the name of the directory `data` into the `get_planets` function. Instead, you must pass it as a part of the arguments `planet_file` and `mapping_file`. In other words, if you want to parse the contents of the files `planets_5.csv` and `mapping_5.json`, your function call must **not** be: `get_planets(\"planets_5.csv\", \"mapping_5.json\")`. Instead, it must be:\n",
    "\n",
    "```python\n",
    "get_planets(os.path.join(\"data\", \"planets_5.csv\"), os.path.join(\"data\", \"mapping_5.json\"))\n",
    "```\n",
    "\n",
    "For example, when this function is called with the **paths** to the files `planets_1.csv` and `mapping_1.json` as the input, the **list** returned should look like:\n",
    "\n",
    "```python\n",
    "[ Planet(planet_name='11 Com b', host_name='11 Com', discovery_method='Radial Velocity', discovery_year=2007, controversial_flag=False, orbital_period=323.21, planet_radius=12.2, planet_mass=4914.89849, semi_major_radius=1.178, eccentricity=0.238, equilibrium_temperature=None, insolation_flux=None),\n",
    " Planet(planet_name='11 UMi b', host_name='11 UMi', discovery_method='Radial Velocity', discovery_year=2009, controversial_flag=False, orbital_period=516.21997, planet_radius=12.3, planet_mass=4684.8142, semi_major_radius=1.53, eccentricity=0.08, equilibrium_temperature=None, insolation_flux=None),\n",
    " ...]\n",
    "```"
   ]
  },
  {
   "cell_type": "raw",
   "id": "4c4e2322",
   "metadata": {
    "lines_to_next_cell": 0
   },
   "source": [
    "# BEGIN SOLUTION"
   ]
  },
  {
   "cell_type": "code",
   "execution_count": 101,
   "id": "dfcc3c07",
   "metadata": {
    "execution": {
     "iopub.execute_input": "2024-04-09T16:13:43.962099Z",
     "iopub.status.busy": "2024-04-09T16:13:43.962039Z",
     "iopub.status.idle": "2024-04-09T16:13:43.964940Z",
     "shell.execute_reply": "2024-04-09T16:13:43.964744Z"
    },
    "lines_to_next_cell": 0
   },
   "outputs": [],
   "source": [
    "def get_planets(planet_file, mapping_file):\n",
    "    # TODO: read planet_file to a list of lists\n",
    "    # TODO: extract the header and rows from planet_file\n",
    "    # TODO: read mapping_file to a dictionary\n",
    "    # TODO: loop through each row in planet_file with indices\n",
    "    # TODO: create a Planet object (namedTuple) for each row\n",
    "    # TODO: add each Planet objet to a list\n",
    "    # TODO: return the list after the end of the loop\n",
    "    pass # replace with your code\n",
    "    # BEGIN SOLUTION NO PROMPT\n",
    "    planets = []\n",
    "    try:\n",
    "        mapping_dict = read_json(mapping_file)\n",
    "    except json.JSONDecodeError:\n",
    "        return []\n",
    "    planets_csv = process_csv(planet_file)\n",
    "    planets_header = planets_csv[0]\n",
    "    planets_rows = planets_csv[1:]\n",
    "\n",
    "    for row_idx in range(len(planets_rows)):\n",
    "        try:\n",
    "            planet_name = planet_cell(row_idx, 'Planet Name', planets_rows)\n",
    "            host_name = mapping_dict[planet_name]\n",
    "            discovery_method = planet_cell(row_idx, 'Discovery Method', planets_rows)\n",
    "            discovery_year = planet_cell(row_idx, 'Discovery Year', planets_rows)\n",
    "            controversial_flag = planet_cell(row_idx, 'Controversial Flag', planets_rows)\n",
    "            orbital_period = planet_cell(row_idx, 'Orbital Period [days]', planets_rows)\n",
    "            planet_radius = planet_cell(row_idx, 'Planet Radius [Earth Radius]', planets_rows)\n",
    "            planet_mass = planet_cell(row_idx, 'Planet Mass [Earth Mass]', planets_rows)\n",
    "            semi_major_radius = planet_cell(row_idx, 'Orbit Semi-Major Axis [au]', planets_rows)\n",
    "            eccentricity = planet_cell(row_idx, 'Eccentricity', planets_rows)\n",
    "            equilibrium_temperature = planet_cell(row_idx, 'Equilibrium Temperature [K]', planets_rows)\n",
    "            insolation_flux = planet_cell(row_idx, 'Insolation Flux [Earth Flux]', planets_rows)\n",
    "\n",
    "            planet = Planet(planet_name, host_name, discovery_method, discovery_year,\\\n",
    "                              controversial_flag, orbital_period, planet_radius, planet_mass,\\\n",
    "                              semi_major_radius, eccentricity, equilibrium_temperature, insolation_flux)\n",
    "            planets.append(planet)\n",
    "        except IndexError:\n",
    "            continue\n",
    "        except ValueError:\n",
    "            continue\n",
    "        except KeyError:\n",
    "            continue\n",
    "    \n",
    "    return planets\n",
    "    # END SOLUTION"
   ]
  },
  {
   "cell_type": "raw",
   "id": "eecc7310",
   "metadata": {},
   "source": [
    "# END SOLUTION"
   ]
  },
  {
   "cell_type": "raw",
   "id": "a855f00b",
   "metadata": {},
   "source": [
    "# BEGIN TESTS"
   ]
  },
  {
   "cell_type": "markdown",
   "id": "226bae32",
   "metadata": {},
   "source": [
    "## IGNORE ##\n",
    "\n",
    "#### Public Test\n",
    "\n",
    "**points:** 8"
   ]
  },
  {
   "cell_type": "markdown",
   "id": "65ce0fd5",
   "metadata": {},
   "source": [
    "## IGNORE ##\n",
    "\n",
    "#### Hidden Test\n",
    "\n",
    "**rubric item:** function logic is incorrect\n",
    "\n",
    "**points:** 2\n",
    "\n",
    "**reason for rubric:** This function is to be used to extract all data from the stars files. Therefore, it is extremely important that this function outputs the correct values on all inputs.\n",
    "\n",
    "**test notebook details:** The output of the function `get_planets` is tested on inputs of all files in the `data` directory that begin with `planets`."
   ]
  },
  {
   "cell_type": "code",
   "execution_count": 102,
   "id": "eb25aa8a",
   "metadata": {
    "execution": {
     "iopub.execute_input": "2024-04-09T16:13:43.966236Z",
     "iopub.status.busy": "2024-04-09T16:13:43.966175Z",
     "iopub.status.idle": "2024-04-09T16:13:44.022356Z",
     "shell.execute_reply": "2024-04-09T16:13:44.022119Z"
    }
   },
   "outputs": [
    {
     "name": "stdout",
     "output_type": "stream",
     "text": [
      "All test cases passed!\n"
     ]
    }
   ],
   "source": [
    "\"\"\" # BEGIN TEST CONFIG\n",
    "success_message: Note that the Gradescope autograder will deduct points if your code fails the following rubric point - 'function logic is incorrect (-2)'.The public tests cannot determine if your code satisfies these requirements. Verify your code manually.\n",
    "\"\"\" # END TEST CONFIG\n",
    "\n",
    "public_tests.rubric_check('get_planets: function logic is incorrect')"
   ]
  },
  {
   "cell_type": "markdown",
   "id": "eec53f41",
   "metadata": {},
   "source": [
    "## IGNORE ##\n",
    "\n",
    "#### Hidden Test\n",
    "\n",
    "**rubric item:** hardcoded the name of directory inside the function instead of passing it as a part of the input argument\n",
    "\n",
    "**points:** 1\n",
    "\n",
    "**reason for rubric:** If the directory `data` is hardcoded inside the function, the function cannot be used to read data in any other directory. This will be a problem in the next project P11, so it is important to make sure that the directory is not hardcoded within the function itself.\n",
    "\n",
    "**test dataset details:** Some `planets` and `mapping` files in `data` directory are copied to a new directory called `false_data`. Some other `planets` and `mapping` files in `data` are moved to new files called `new_planets.csv` and `new_mapping.json` outside the directory.\n",
    "\n",
    "**test notebook details:** The output of the function `get_planets` is tested on inputs of the files inside the `false_data` directory, as well as the files `new_planets.csv` and `new_mapping.json`."
   ]
  },
  {
   "cell_type": "code",
   "execution_count": 103,
   "id": "6fb3e4ec",
   "metadata": {
    "execution": {
     "iopub.execute_input": "2024-04-09T16:13:44.023525Z",
     "iopub.status.busy": "2024-04-09T16:13:44.023456Z",
     "iopub.status.idle": "2024-04-09T16:13:44.079504Z",
     "shell.execute_reply": "2024-04-09T16:13:44.079267Z"
    }
   },
   "outputs": [
    {
     "name": "stdout",
     "output_type": "stream",
     "text": [
      "All test cases passed!\n"
     ]
    }
   ],
   "source": [
    "\"\"\" # BEGIN TEST CONFIG\n",
    "success_message: Note that the Gradescope autograder will deduct points if your code fails the following rubric point - 'hardcoded the name of directory inside the function instead of passing it as a part of the input argument (-1)'.The public tests cannot determine if your code satisfies these requirements. Verify your code manually.\n",
    "\"\"\" # END TEST CONFIG\n",
    "\n",
    "public_tests.rubric_check('get_planets: hardcoded the name of directory inside the function instead of passing it as a part of the input argument')"
   ]
  },
  {
   "cell_type": "markdown",
   "id": "e8bb9757",
   "metadata": {},
   "source": [
    "## IGNORE ##\n",
    "\n",
    "#### Hidden Test\n",
    "\n",
    "**rubric item:** function is called more than twice with the same dataset\n",
    "\n",
    "**points:** 1\n",
    "\n",
    "**reason for rubric:** This is a slow function which must not be called unnecessarily on the same input file. Instead, after calling this function once, the data must be stored in a variable, to be accessed later.\n",
    "\n",
    "**test notebook details:** The notebook is not truncated at all. The function `get_planets` is replaced with a function that updates the global variable `hidden_count` which is initialized before the function definition to be an empty dictionary. The function updates the count of the input file by *1* before returning the output as before. Code is then injected at the end of the notebook to test if the maximum value of the dictionary `hidden_count` is at most *2*."
   ]
  },
  {
   "cell_type": "code",
   "execution_count": 104,
   "id": "acdaa330",
   "metadata": {
    "execution": {
     "iopub.execute_input": "2024-04-09T16:13:44.080782Z",
     "iopub.status.busy": "2024-04-09T16:13:44.080717Z",
     "iopub.status.idle": "2024-04-09T16:13:44.143758Z",
     "shell.execute_reply": "2024-04-09T16:13:44.143496Z"
    }
   },
   "outputs": [
    {
     "name": "stdout",
     "output_type": "stream",
     "text": [
      "All test cases passed!\n"
     ]
    }
   ],
   "source": [
    "\"\"\" # BEGIN TEST CONFIG\n",
    "success_message: Note that the Gradescope autograder will deduct points if your code fails the following rubric point - 'function is called more than twice with the same dataset (-1)'.The public tests cannot determine if your code satisfies these requirements. Verify your code manually.\n",
    "\"\"\" # END TEST CONFIG\n",
    "\n",
    "public_tests.rubric_check('get_planets: function is called more than twice with the same dataset')"
   ]
  },
  {
   "cell_type": "markdown",
   "id": "dd5b6ff2",
   "metadata": {},
   "source": [
    "## IGNORE ##\n",
    "\n",
    "#### Hidden Test\n",
    "\n",
    "**rubric item:** `planet_cell` function is not used\n",
    "\n",
    "**points:** 1\n",
    "\n",
    "**reason for rubric:** The function has already been defined, and performs the required task, so it would be wasteful to answer this question without making use of this function.\n",
    "\n",
    "**test notebook details:** The function is replaced with a function that behaves differently from the given function. The outputs of the function `get_planets` are tested on input of the files `planets_1.csv` and `mapping_1.json` files inside `data` directory. "
   ]
  },
  {
   "cell_type": "code",
   "execution_count": 105,
   "id": "375f1fbe",
   "metadata": {
    "execution": {
     "iopub.execute_input": "2024-04-09T16:13:44.145128Z",
     "iopub.status.busy": "2024-04-09T16:13:44.145057Z",
     "iopub.status.idle": "2024-04-09T16:13:44.203433Z",
     "shell.execute_reply": "2024-04-09T16:13:44.203206Z"
    }
   },
   "outputs": [
    {
     "name": "stdout",
     "output_type": "stream",
     "text": [
      "All test cases passed!\n"
     ]
    }
   ],
   "source": [
    "\"\"\" # BEGIN TEST CONFIG\n",
    "success_message: Note that the Gradescope autograder will deduct points if your code fails the following rubric point - '`planet_cell` function is not used (-1)'.The public tests cannot determine if your code satisfies these requirements. Verify your code manually.\n",
    "\"\"\" # END TEST CONFIG\n",
    "\n",
    "public_tests.rubric_check('get_planets: `planet_cell` function is not used')"
   ]
  },
  {
   "cell_type": "markdown",
   "id": "a0bbd26e",
   "metadata": {},
   "source": [
    "## IGNORE ##\n",
    "\n",
    "#### Hidden Test\n",
    "\n",
    "**rubric item:** function is defined more than once\n",
    "\n",
    "**points:** 3\n",
    "\n",
    "**reason for rubric:** It is a bad idea to define a function more than once. If the differnt function definitions behave even slightly differently, then the output of the function would change based on when the function is called in the code, which would make the code hard to read and debug."
   ]
  },
  {
   "cell_type": "code",
   "execution_count": 106,
   "id": "7a6f04ce",
   "metadata": {
    "execution": {
     "iopub.execute_input": "2024-04-09T16:13:44.204675Z",
     "iopub.status.busy": "2024-04-09T16:13:44.204599Z",
     "iopub.status.idle": "2024-04-09T16:13:44.261050Z",
     "shell.execute_reply": "2024-04-09T16:13:44.260812Z"
    }
   },
   "outputs": [
    {
     "name": "stdout",
     "output_type": "stream",
     "text": [
      "All test cases passed!\n"
     ]
    }
   ],
   "source": [
    "\"\"\" # BEGIN TEST CONFIG\n",
    "success_message: Note that the Gradescope autograder will deduct points if your code fails the following rubric point - 'function is defined more than once (-3)'.The public tests cannot determine if your code satisfies these requirements. Verify your code manually.\n",
    "\"\"\" # END TEST CONFIG\n",
    "\n",
    "public_tests.rubric_check('get_planets: function is defined more than once')"
   ]
  },
  {
   "cell_type": "raw",
   "id": "51eb8df5",
   "metadata": {},
   "source": [
    "# END TESTS"
   ]
  },
  {
   "cell_type": "raw",
   "id": "b13b1d11",
   "metadata": {},
   "source": [
    "# END QUESTION"
   ]
  },
  {
   "cell_type": "raw",
   "id": "01f5a7db",
   "metadata": {},
   "source": [
    "# BEGIN QUESTION\n",
    "name: q13\n",
    "points: 0"
   ]
  },
  {
   "cell_type": "markdown",
   "id": "3b1bc76c",
   "metadata": {},
   "source": [
    "**Question 13:** What are the **last five** `Planet` objects in the **list** returned by `get_planets` when `planet_file` is `planets_1.csv` and `mapping_file` is `mapping_1.json`?\n",
    "\n",
    "Your output **must** be a **list** of `Planet` objects.\n",
    "\n",
    "**Hint:** First, you **must** use the `get_planets` function to parse the data in `planets_1.csv` and `mapping_1.json` and create a **list** of `Planet` objects. Then, you may slice this **list** to get the last five `Planet` objects."
   ]
  },
  {
   "cell_type": "raw",
   "id": "4f3c048e",
   "metadata": {},
   "source": [
    "# BEGIN SOLUTION"
   ]
  },
  {
   "cell_type": "code",
   "execution_count": 107,
   "id": "2eb1f3e2",
   "metadata": {
    "execution": {
     "iopub.execute_input": "2024-04-09T16:13:44.262336Z",
     "iopub.status.busy": "2024-04-09T16:13:44.262265Z",
     "iopub.status.idle": "2024-04-09T16:13:44.269129Z",
     "shell.execute_reply": "2024-04-09T16:13:44.268908Z"
    }
   },
   "outputs": [
    {
     "data": {
      "text/plain": [
       "[Planet(planet_name='Kepler-15 b', host_name='Kepler-15', discovery_method='Transit', discovery_year=2011, controversial_flag=False, orbital_period=4.942782, planet_radius=10.76, planet_mass=209.76, semi_major_radius=0.05714, eccentricity=0.06, equilibrium_temperature=1251.0, insolation_flux=430.68),\n",
       " Planet(planet_name='Kepler-1500 b', host_name='Kepler-1500', discovery_method='Transit', discovery_year=2016, controversial_flag=False, orbital_period=15.0330105, planet_radius=1.2, planet_mass=1.87, semi_major_radius=0.1236, eccentricity=0.0, equilibrium_temperature=928.0, insolation_flux=131.82),\n",
       " Planet(planet_name='Kepler-1501 b', host_name='Kepler-1501', discovery_method='Transit', discovery_year=2016, controversial_flag=False, orbital_period=14.5564533, planet_radius=1.56, planet_mass=3.05, semi_major_radius=0.1228, eccentricity=0.0, equilibrium_temperature=787.0, insolation_flux=100.0),\n",
       " Planet(planet_name='Kepler-1502 b', host_name='Kepler-1502', discovery_method='Transit', discovery_year=2016, controversial_flag=False, orbital_period=41.7083629, planet_radius=3.18, planet_mass=10.2, semi_major_radius=0.2482, eccentricity=0.0, equilibrium_temperature=608.0, insolation_flux=77.32),\n",
       " Planet(planet_name='TOI-784 b', host_name='HD 307842', discovery_method='Transit', discovery_year=2023, controversial_flag=False, orbital_period=2.7970365, planet_radius=1.93, planet_mass=9.67, semi_major_radius=0.038, eccentricity=0.0, equilibrium_temperature=1256.0, insolation_flux=413.89)]"
      ]
     },
     "execution_count": 107,
     "metadata": {},
     "output_type": "execute_result"
    }
   ],
   "source": [
    "# compute and store the answer in the variable 'last_five_planets_1', then display it\n",
    "\n",
    "# BEGIN SOLUTION NO PROMPT\n",
    "planets_1 = get_planets(os.path.join(\"data\", \"planets_1.csv\"), os.path.join(\"data\", \"mapping_1.json\"))\n",
    "last_five_planets_1 = planets_1[-5:]\n",
    "\n",
    "last_five_planets_1\n",
    "# END SOLUTION"
   ]
  },
  {
   "cell_type": "raw",
   "id": "3b9a2d5b",
   "metadata": {},
   "source": [
    "# END SOLUTION"
   ]
  },
  {
   "cell_type": "raw",
   "id": "10360e0a",
   "metadata": {},
   "source": [
    "# BEGIN TESTS"
   ]
  },
  {
   "cell_type": "markdown",
   "id": "5ea6daa7",
   "metadata": {},
   "source": [
    "## IGNORE ##\n",
    "\n",
    "#### Public Test\n",
    "\n",
    "**points:** 3\n",
    "\n",
    "**format:** TEXT_FORMAT_ORDERED_LIST\n",
    "\n",
    "**answer:** last_five_planets_1"
   ]
  },
  {
   "cell_type": "code",
   "execution_count": 108,
   "id": "5f23ea23",
   "metadata": {
    "execution": {
     "iopub.execute_input": "2024-04-09T16:13:44.270311Z",
     "iopub.status.busy": "2024-04-09T16:13:44.270246Z",
     "iopub.status.idle": "2024-04-09T16:13:44.271887Z",
     "shell.execute_reply": "2024-04-09T16:13:44.271673Z"
    }
   },
   "outputs": [
    {
     "name": "stdout",
     "output_type": "stream",
     "text": [
      "All test cases passed!\n"
     ]
    }
   ],
   "source": [
    "public_tests.check('q13', last_five_planets_1)"
   ]
  },
  {
   "cell_type": "markdown",
   "id": "8f6e7cfe",
   "metadata": {},
   "source": [
    "## IGNORE ##\n",
    "\n",
    "#### Hidden Test\n",
    "\n",
    "**rubric item:** `get_planets` function is not used to answer\n",
    "\n",
    "**points:** 1\n",
    "\n",
    "**reason for rubric:** The function has already been defined, and performs the required task, so it would be wasteful to answer this question without making use of this function.\n",
    "\n",
    "**test notebook details:** The function is replaced with a function that behaves differently from the given function."
   ]
  },
  {
   "cell_type": "code",
   "execution_count": 109,
   "id": "ed1194ab",
   "metadata": {
    "execution": {
     "iopub.execute_input": "2024-04-09T16:13:44.273093Z",
     "iopub.status.busy": "2024-04-09T16:13:44.273032Z",
     "iopub.status.idle": "2024-04-09T16:13:44.354671Z",
     "shell.execute_reply": "2024-04-09T16:13:44.354444Z"
    }
   },
   "outputs": [
    {
     "name": "stdout",
     "output_type": "stream",
     "text": [
      "All test cases passed!\n"
     ]
    }
   ],
   "source": [
    "\"\"\" # BEGIN TEST CONFIG\n",
    "success_message: Note that the Gradescope autograder will deduct points if your code fails the following rubric point - '`get_planets` function is not used to answer (-1)'.The public tests cannot determine if your code satisfies these requirements. Verify your code manually.\n",
    "\"\"\" # END TEST CONFIG\n",
    "\n",
    "public_tests.rubric_check('q13: `get_planets` function is not used to answer')"
   ]
  },
  {
   "cell_type": "markdown",
   "id": "1fe6365a",
   "metadata": {},
   "source": [
    "## IGNORE ##\n",
    "\n",
    "#### Hidden Test\n",
    "\n",
    "**rubric item:** paths are hardcoded using slashes\n",
    "\n",
    "**points:** 1\n",
    "\n",
    "**reason for rubric:** The slashes that appear in the paths are path separators, and they are OS dependent. If slashes are hardcoded in the answer, then they will only work on computers with that operating system, and not on other computers. To avoid this, `os.path.join` must be used to create paths.\n",
    "\n",
    "**test dataset details:** The contents of the file `planets_1.csv` inside the `data` directory are copied to a new file `data&planets_2.csv`. Similarly, the contents of `mapping_1.json` inside `data` is copied over to `data&mapping_2.json`.\n",
    "\n",
    "**test notebook details:** Code is injected at the start of the notebook which defines new functions `new_join`, `new_basename`, `new_dirname`, and `new_split`. These functions behave similarly to `os.path.join`, `os.path.basename`, `os.path.dirname`, and `os.path.split`, except that instead of the path separator, they use the `&` symbol. All code in the notebook with calls to these functions are then replaced with these new functions."
   ]
  },
  {
   "cell_type": "code",
   "execution_count": 110,
   "id": "b279f3df",
   "metadata": {
    "execution": {
     "iopub.execute_input": "2024-04-09T16:13:44.355958Z",
     "iopub.status.busy": "2024-04-09T16:13:44.355882Z",
     "iopub.status.idle": "2024-04-09T16:13:44.412273Z",
     "shell.execute_reply": "2024-04-09T16:13:44.412051Z"
    }
   },
   "outputs": [
    {
     "name": "stdout",
     "output_type": "stream",
     "text": [
      "All test cases passed!\n"
     ]
    }
   ],
   "source": [
    "\"\"\" # BEGIN TEST CONFIG\n",
    "success_message: Note that the Gradescope autograder will deduct points if your code fails the following rubric point - 'paths are hardcoded using slashes (-1)'.The public tests cannot determine if your code satisfies these requirements. Verify your code manually.\n",
    "\"\"\" # END TEST CONFIG\n",
    "\n",
    "public_tests.rubric_check('q13: paths are hardcoded using slashes')"
   ]
  },
  {
   "cell_type": "code",
   "execution_count": 111,
   "id": "3b437a7b",
   "metadata": {
    "execution": {
     "iopub.execute_input": "2024-04-09T16:13:44.413454Z",
     "iopub.status.busy": "2024-04-09T16:13:44.413388Z",
     "iopub.status.idle": "2024-04-09T16:13:44.469418Z",
     "shell.execute_reply": "2024-04-09T16:13:44.469191Z"
    }
   },
   "outputs": [
    {
     "name": "stdout",
     "output_type": "stream",
     "text": [
      "All test cases passed!\n"
     ]
    }
   ],
   "source": [
    "public_tests.rubric_check('q13: public tests')"
   ]
  },
  {
   "cell_type": "raw",
   "id": "db2428a5",
   "metadata": {},
   "source": [
    "# END TESTS"
   ]
  },
  {
   "cell_type": "raw",
   "id": "98f9e00a",
   "metadata": {
    "lines_to_next_cell": 0
   },
   "source": [
    "# END QUESTION"
   ]
  },
  {
   "cell_type": "raw",
   "id": "af2d6045",
   "metadata": {},
   "source": [
    "# BEGIN QUESTION\n",
    "name: q14\n",
    "points: 0"
   ]
  },
  {
   "cell_type": "markdown",
   "id": "4044de21",
   "metadata": {},
   "source": [
    "**Question 14:** What are the `Planet` objects whose `controversial_flag` attribute is `True` in the **list** returned by `get_planets` when `planet_file` is `planets_2.csv` and `mapping_file` is `mapping_2.json`?\n",
    "\n",
    "Your output **must** be a **list** of `Planet` objects."
   ]
  },
  {
   "cell_type": "raw",
   "id": "062b7249",
   "metadata": {
    "lines_to_next_cell": 0
   },
   "source": [
    "# BEGIN SOLUTION"
   ]
  },
  {
   "cell_type": "code",
   "execution_count": 112,
   "id": "5f21af9a",
   "metadata": {
    "execution": {
     "iopub.execute_input": "2024-04-09T16:13:44.470801Z",
     "iopub.status.busy": "2024-04-09T16:13:44.470729Z",
     "iopub.status.idle": "2024-04-09T16:13:44.478267Z",
     "shell.execute_reply": "2024-04-09T16:13:44.478079Z"
    },
    "lines_to_next_cell": 0
   },
   "outputs": [
    {
     "data": {
      "text/plain": [
       "[Planet(planet_name='Kepler-452 b', host_name='Kepler-452', discovery_method='Transit', discovery_year=2015, controversial_flag=True, orbital_period=384.843, planet_radius=1.63, planet_mass=3.29, semi_major_radius=1.046, eccentricity=0.0, equilibrium_temperature=265.0, insolation_flux=1.1),\n",
       " Planet(planet_name='Kepler-747 b', host_name='Kepler-747', discovery_method='Transit', discovery_year=2016, controversial_flag=True, orbital_period=35.61760587, planet_radius=5.27, planet_mass=24.1, semi_major_radius=0.1916, eccentricity=0.0, equilibrium_temperature=456.0, insolation_flux=10.19),\n",
       " Planet(planet_name='V830 Tau b', host_name='V830 Tau', discovery_method='Radial Velocity', discovery_year=2016, controversial_flag=True, orbital_period=4.927, planet_radius=14.0, planet_mass=222.481, semi_major_radius=0.057, eccentricity=0.0, equilibrium_temperature=None, insolation_flux=None),\n",
       " Planet(planet_name='nu Oct A b', host_name='nu Oct A', discovery_method='Radial Velocity', discovery_year=2016, controversial_flag=True, orbital_period=417.0, planet_radius=13.3, planet_mass=762.78818, semi_major_radius=1.25, eccentricity=0.11, equilibrium_temperature=None, insolation_flux=None)]"
      ]
     },
     "execution_count": 112,
     "metadata": {},
     "output_type": "execute_result"
    }
   ],
   "source": [
    "# compute and store the answer in the variable 'controversial_planets', then display it\n",
    "\n",
    "# BEGIN SOLUTION NO PROMPT\n",
    "planets_2 = get_planets(os.path.join(\"data\", \"planets_2.csv\"), os.path.join(\"data\", \"mapping_2.json\"))\n",
    "controversial_planets = []\n",
    "for planet in planets_2:\n",
    "    if planet.controversial_flag:\n",
    "        controversial_planets.append(planet)\n",
    "\n",
    "controversial_planets\n",
    "# END SOLUTION"
   ]
  },
  {
   "cell_type": "raw",
   "id": "206ca346",
   "metadata": {},
   "source": [
    "# END SOLUTION"
   ]
  },
  {
   "cell_type": "raw",
   "id": "ed9e6aa4",
   "metadata": {},
   "source": [
    "# BEGIN TESTS"
   ]
  },
  {
   "cell_type": "markdown",
   "id": "04eaa6cc",
   "metadata": {},
   "source": [
    "## IGNORE ##\n",
    "\n",
    "#### Public Test\n",
    "\n",
    "**points:** 3\n",
    "\n",
    "**format:** TEXT_FORMAT_ORDERED_LIST\n",
    "\n",
    "**answer:** controversial_planets"
   ]
  },
  {
   "cell_type": "code",
   "execution_count": 113,
   "id": "2f824b22",
   "metadata": {
    "execution": {
     "iopub.execute_input": "2024-04-09T16:13:44.479535Z",
     "iopub.status.busy": "2024-04-09T16:13:44.479465Z",
     "iopub.status.idle": "2024-04-09T16:13:44.481233Z",
     "shell.execute_reply": "2024-04-09T16:13:44.480996Z"
    }
   },
   "outputs": [
    {
     "name": "stdout",
     "output_type": "stream",
     "text": [
      "All test cases passed!\n"
     ]
    }
   ],
   "source": [
    "public_tests.check('q14', controversial_planets)"
   ]
  },
  {
   "cell_type": "markdown",
   "id": "cedefce4",
   "metadata": {},
   "source": [
    "## IGNORE ##\n",
    "\n",
    "#### Hidden Test\n",
    "\n",
    "**rubric item:** incorrect logic is used to answer\n",
    "\n",
    "**points:** 1\n",
    "\n",
    "**reason for rubric:** It is possible to obtain the correct answer even with logically incorrect code.\n",
    "\n",
    "**test dataset details:** The dataset is completely modified. In the files `planets_2.csv`, with a probability `1/3` for each row, the `Controversial Flag` value is set to `0`, with a probability `1/3` for each row, the `Controversial Flag` value is set to `1`, and all other rows are set to `None`."
   ]
  },
  {
   "cell_type": "code",
   "execution_count": 114,
   "id": "01eca68a",
   "metadata": {
    "execution": {
     "iopub.execute_input": "2024-04-09T16:13:44.482485Z",
     "iopub.status.busy": "2024-04-09T16:13:44.482410Z",
     "iopub.status.idle": "2024-04-09T16:13:44.540300Z",
     "shell.execute_reply": "2024-04-09T16:13:44.540093Z"
    }
   },
   "outputs": [
    {
     "name": "stdout",
     "output_type": "stream",
     "text": [
      "All test cases passed!\n"
     ]
    }
   ],
   "source": [
    "\"\"\" # BEGIN TEST CONFIG\n",
    "success_message: Note that the Gradescope autograder will deduct points if your code fails the following rubric point - 'incorrect logic is used to answer (-1)'.The public tests cannot determine if your code satisfies these requirements. Verify your code manually.\n",
    "\"\"\" # END TEST CONFIG\n",
    "\n",
    "public_tests.rubric_check('q14: incorrect logic is used to answer')"
   ]
  },
  {
   "cell_type": "markdown",
   "id": "74a175f7",
   "metadata": {},
   "source": [
    "## IGNORE ##\n",
    "\n",
    "#### Hidden Test\n",
    "\n",
    "**rubric item:** `get_planets` function is not used to answer\n",
    "\n",
    "**points:** 1\n",
    "\n",
    "**reason for rubric:** The function has already been defined, and performs the required task, so it would be wasteful to answer this question without making use of this function.\n",
    "\n",
    "**test notebook details:** The function is replaced with a function that behaves differently from the given function."
   ]
  },
  {
   "cell_type": "code",
   "execution_count": 115,
   "id": "7668999d",
   "metadata": {
    "execution": {
     "iopub.execute_input": "2024-04-09T16:13:44.541555Z",
     "iopub.status.busy": "2024-04-09T16:13:44.541490Z",
     "iopub.status.idle": "2024-04-09T16:13:44.597492Z",
     "shell.execute_reply": "2024-04-09T16:13:44.597280Z"
    }
   },
   "outputs": [
    {
     "name": "stdout",
     "output_type": "stream",
     "text": [
      "All test cases passed!\n"
     ]
    }
   ],
   "source": [
    "\"\"\" # BEGIN TEST CONFIG\n",
    "success_message: Note that the Gradescope autograder will deduct points if your code fails the following rubric point - '`get_planets` function is not used to answer (-1)'.The public tests cannot determine if your code satisfies these requirements. Verify your code manually.\n",
    "\"\"\" # END TEST CONFIG\n",
    "\n",
    "public_tests.rubric_check('q14: `get_planets` function is not used to answer')"
   ]
  },
  {
   "cell_type": "markdown",
   "id": "06d7b2dd",
   "metadata": {},
   "source": [
    "## IGNORE ##\n",
    "\n",
    "#### Hidden Test\n",
    "\n",
    "**rubric item:** paths are hardcoded using slashes\n",
    "\n",
    "**points:** 1\n",
    "\n",
    "**reason for rubric:** The slashes that appear in the paths are path separators, and they are OS dependent. If slashes are hardcoded in the answer, then they will only work on computers with that operating system, and not on other computers. To avoid this, `os.path.join` must be used to create paths.\n",
    "\n",
    "**test dataset details:** The contents of all files in `data` directory are copied to a file in the directory starts with `data&`. For example, the contents of the file `stars_1.csv` in `data` is moved to `data&stars_1.csv`, the contents of `mapping_5.json` in `data` is moved to `data&mapping_5.json`, etc. Finally, the original data in `data` is overwritten with new random data.\n",
    "\n",
    "**test notebook details:** Code is injected at the start of the notebook which defines new functions `new_join`, `new_basename`, `new_dirname`, and `new_split`. These functions behave similarly to `os.path.join`, `os.path.basename`, `os.path.dirname`, and `os.path.split`, except that instead of the path separator, they use the `&` symbol. All code in the notebook with calls to these functions are then replaced with these new functions."
   ]
  },
  {
   "cell_type": "code",
   "execution_count": 116,
   "id": "a274201f",
   "metadata": {
    "execution": {
     "iopub.execute_input": "2024-04-09T16:13:44.598632Z",
     "iopub.status.busy": "2024-04-09T16:13:44.598565Z",
     "iopub.status.idle": "2024-04-09T16:13:44.654312Z",
     "shell.execute_reply": "2024-04-09T16:13:44.654081Z"
    }
   },
   "outputs": [
    {
     "name": "stdout",
     "output_type": "stream",
     "text": [
      "All test cases passed!\n"
     ]
    }
   ],
   "source": [
    "\"\"\" # BEGIN TEST CONFIG\n",
    "success_message: Note that the Gradescope autograder will deduct points if your code fails the following rubric point - 'paths are hardcoded using slashes (-1)'.The public tests cannot determine if your code satisfies these requirements. Verify your code manually.\n",
    "\"\"\" # END TEST CONFIG\n",
    "\n",
    "public_tests.rubric_check('q14: paths are hardcoded using slashes')"
   ]
  },
  {
   "cell_type": "raw",
   "id": "2196a9b8",
   "metadata": {},
   "source": [
    "# END TESTS"
   ]
  },
  {
   "cell_type": "raw",
   "id": "6a1340b1",
   "metadata": {
    "lines_to_next_cell": 0
   },
   "source": [
    "# END QUESTION"
   ]
  },
  {
   "cell_type": "markdown",
   "id": "aa3b6fe3",
   "metadata": {},
   "source": [
    "### Data Cleaning 1: Broken CSV rows\n",
    "\n",
    "Our function `get_planets` works very well so far. However, it is likely that it will not work on all the files in the `data` directory. For example, if you use the function `get_planets` to read the data in `planets_4.csv` and `mapping_4.json`, you will most likely run into an error. **Try it yourself to verify!**\n",
    "\n",
    "The reason your code likely crashed is because there the file `planets_4.csv` is **broken**. For some reason, several rows in `planets_4.csv` have their data jumbled up. For example, in the **third** row of `planets_4.csv`, we come across this row:\n",
    "\n",
    "|Planet Name|Discovery Method|Discovery Year|Controversial Flag|Orbital Period [days]|Planet Radius [Earth Radius]|Planet Mass [Earth Mass]|Orbit Semi-Major Axis [au]|Eccentricity|Equilibrium Temperature [K]|Insolation Flux [Earth Flux]|\n",
    "|-----------|----------------|--------------|------------------|---------------------|----------------------------|------------------------|---------------------------|------------|---------------------------|----------------------------|\n",
    "47 UMa b|804.08000|1996|0|1078.00000000|13.200|Radial Velocity|2.100000|0.032000||\n",
    "\n",
    "We can see that for some reason, the value under the column `Discovery Method` is a **number** while the value under the column `Planet Mass [Earth Mass]` is a **string**. It is possible that these two columns of data got *swapped* here, but we cannot be sure about this.\n",
    "\n",
    "We will call such a **row** in a CSV file where the values under a column do not match the expected format to be a **broken row**. While it is possible to sometimes extract useful data from broken rows, in this project, we will simply **skip** broken rows.\n",
    "\n",
    "You **must** now go back to your definition of `get_planets` and edit it, so that any **broken rows get skipped**.\n",
    "\n",
    "**Hints:**\n",
    "\n",
    "1. The simplest way to recognize if a row is broken is if you run into any **RunTime Errors** when you call the `get_planets` function. So, one simple way to skip bad rows would be to use `try/except` blocks to avoid processing any rows that cause the code to crash; remember **not** to use *bare* `try/except` blocks.\n",
    "2. There are only **10** broken rows in `planets_4.csv`, and they are all **bunched up** at the very beginning and the very end of the dataset. You can manually **inspect** the **first 10 and last 10** rows, and figure out which of these rows are broken and why.\n",
    "\n",
    "**Important Warning:** You are **not** allowed to **hardcode** the indices of the broken rows. You may inspect `planets_4.csv` to identify how to tell a **broken row** apart. Therefore, to use the example of the **broken row** above, you **may not** hardcode to skip the **seventh** row of `planets_4.csv`. However, it is **acceptable** to make your function **skip** any row for which the value under the `Planet Name` is not numeric, by observing that this is the reason why the row is broken."
   ]
  },
  {
   "cell_type": "raw",
   "id": "d7505617",
   "metadata": {},
   "source": [
    "# BEGIN QUESTION\n",
    "name: q15\n",
    "points: 0"
   ]
  },
  {
   "cell_type": "markdown",
   "id": "cb894a51",
   "metadata": {},
   "source": [
    "**Question 15:** What are the **last five** `Planet` objects produced by `get_planets` when `planet_file` is `planets_4.csv` and `mapping_file` is `mapping_4.json`?\n",
    "\n",
    "Your output **must** be a **list** of `Planet` objects."
   ]
  },
  {
   "cell_type": "raw",
   "id": "8220b1ef",
   "metadata": {
    "lines_to_next_cell": 0
   },
   "source": [
    "# BEGIN SOLUTION"
   ]
  },
  {
   "cell_type": "code",
   "execution_count": 117,
   "id": "026ee35d",
   "metadata": {
    "execution": {
     "iopub.execute_input": "2024-04-09T16:13:44.655690Z",
     "iopub.status.busy": "2024-04-09T16:13:44.655624Z",
     "iopub.status.idle": "2024-04-09T16:13:44.660070Z",
     "shell.execute_reply": "2024-04-09T16:13:44.659850Z"
    },
    "lines_to_next_cell": 0
   },
   "outputs": [
    {
     "data": {
      "text/plain": [
       "[Planet(planet_name='Wolf 1061 d', host_name='Wolf 1061', discovery_method='Radial Velocity', discovery_year=2015, controversial_flag=False, orbital_period=217.21, planet_radius=2.69, planet_mass=7.7, semi_major_radius=0.47, eccentricity=0.55, equilibrium_temperature=None, insolation_flux=0.06),\n",
       " Planet(planet_name='YZ Cet c', host_name='YZ Cet', discovery_method='Radial Velocity', discovery_year=2017, controversial_flag=False, orbital_period=3.05989, planet_radius=1.05, planet_mass=1.14, semi_major_radius=0.02156, eccentricity=0.0, equilibrium_temperature=410.0, insolation_flux=4.72),\n",
       " Planet(planet_name='pi Men d', host_name='HD 39091', discovery_method='Radial Velocity', discovery_year=2022, controversial_flag=False, orbital_period=124.64, planet_radius=3.72, planet_mass=13.38, semi_major_radius=None, eccentricity=0.22, equilibrium_temperature=None, insolation_flux=None),\n",
       " Planet(planet_name='ups And b', host_name='ups And', discovery_method='Radial Velocity', discovery_year=1996, controversial_flag=False, orbital_period=4.617033, planet_radius=14.0, planet_mass=218.531, semi_major_radius=0.059222, eccentricity=0.0215, equilibrium_temperature=None, insolation_flux=None),\n",
       " Planet(planet_name='ups And d', host_name='ups And', discovery_method='Radial Velocity', discovery_year=1999, controversial_flag=False, orbital_period=1276.46, planet_radius=12.5, planet_mass=3257.74117, semi_major_radius=2.51329, eccentricity=0.2987, equilibrium_temperature=None, insolation_flux=None)]"
      ]
     },
     "execution_count": 117,
     "metadata": {},
     "output_type": "execute_result"
    }
   ],
   "source": [
    "# compute and store the answer in the variable 'last_five_planets_4', then display it\n",
    "\n",
    "# BEGIN SOLUTION NO PROMPT\n",
    "planets_4 = get_planets(os.path.join(\"data\", \"planets_4.csv\"), os.path.join(\"data\", \"mapping_4.json\"))\n",
    "last_five_planets_4 = planets_4[-5:]\n",
    "\n",
    "last_five_planets_4\n",
    "# END SOLUTION"
   ]
  },
  {
   "cell_type": "raw",
   "id": "4b396018",
   "metadata": {},
   "source": [
    "# END SOLUTION"
   ]
  },
  {
   "cell_type": "raw",
   "id": "07d7daf9",
   "metadata": {},
   "source": [
    "# BEGIN TESTS"
   ]
  },
  {
   "cell_type": "markdown",
   "id": "67966241",
   "metadata": {},
   "source": [
    "## IGNORE ##\n",
    "\n",
    "#### Public Test\n",
    "\n",
    "**points:** 3\n",
    "\n",
    "**format:** TEXT_FORMAT_ORDERED_LIST\n",
    "\n",
    "**answer:** last_five_planets_4"
   ]
  },
  {
   "cell_type": "code",
   "execution_count": 118,
   "id": "16b6d9b9",
   "metadata": {
    "execution": {
     "iopub.execute_input": "2024-04-09T16:13:44.661290Z",
     "iopub.status.busy": "2024-04-09T16:13:44.661221Z",
     "iopub.status.idle": "2024-04-09T16:13:44.662895Z",
     "shell.execute_reply": "2024-04-09T16:13:44.662694Z"
    }
   },
   "outputs": [
    {
     "name": "stdout",
     "output_type": "stream",
     "text": [
      "All test cases passed!\n"
     ]
    }
   ],
   "source": [
    "public_tests.check('q15', last_five_planets_4)"
   ]
  },
  {
   "cell_type": "markdown",
   "id": "c05164f0",
   "metadata": {},
   "source": [
    "## IGNORE ##\n",
    "\n",
    "#### Hidden Test\n",
    "\n",
    "**rubric item:** `get_planets` function is not used to answer\n",
    "\n",
    "**points:** 1\n",
    "\n",
    "**reason for rubric:** The function has already been defined, and performs the required task, so it would be wasteful to answer this question without making use of this function.\n",
    "\n",
    "**test notebook details:** The function is replaced with a function that behaves differently from the given function."
   ]
  },
  {
   "cell_type": "code",
   "execution_count": 119,
   "id": "f2f85f5f",
   "metadata": {
    "execution": {
     "iopub.execute_input": "2024-04-09T16:13:44.663939Z",
     "iopub.status.busy": "2024-04-09T16:13:44.663871Z",
     "iopub.status.idle": "2024-04-09T16:13:44.721571Z",
     "shell.execute_reply": "2024-04-09T16:13:44.721359Z"
    }
   },
   "outputs": [
    {
     "name": "stdout",
     "output_type": "stream",
     "text": [
      "All test cases passed!\n"
     ]
    }
   ],
   "source": [
    "\"\"\" # BEGIN TEST CONFIG\n",
    "success_message: Note that the Gradescope autograder will deduct points if your code fails the following rubric point - '`get_planets` function is not used to answer (-1)'.The public tests cannot determine if your code satisfies these requirements. Verify your code manually.\n",
    "\"\"\" # END TEST CONFIG\n",
    "\n",
    "public_tests.rubric_check('q15: `get_planets` function is not used to answer')"
   ]
  },
  {
   "cell_type": "markdown",
   "id": "ba57f182",
   "metadata": {},
   "source": [
    "## IGNORE ##\n",
    "\n",
    "#### Hidden Test\n",
    "\n",
    "**rubric item:** paths are hardcoded using slashes\n",
    "\n",
    "**points:** 1\n",
    "\n",
    "**reason for rubric:** The slashes that appear in the paths are path separators, and they are OS dependent. If slashes are hardcoded in the answer, then they will only work on computers with that operating system, and not on other computers. To avoid this, `os.path.join` must be used to create paths.\n",
    "\n",
    "**test dataset details:** The contents of all files in `data` directory are copied to a file in the directory starts with `data&`. For example, the contents of the file `stars_1.csv` in `data` is moved to `data&stars_1.csv`, the contents of `mapping_5.json` in `data` is moved to `data&mapping_5.json`, etc. Finally, the original data in `data` is overwritten with new random data.\n",
    "\n",
    "**test notebook details:** Code is injected at the start of the notebook which defines new functions `new_join`, `new_basename`, `new_dirname`, and `new_split`. These functions behave similarly to `os.path.join`, `os.path.basename`, `os.path.dirname`, and `os.path.split`, except that instead of the path separator, they use the `&` symbol. All code in the notebook with calls to these functions are then replaced with these new functions."
   ]
  },
  {
   "cell_type": "code",
   "execution_count": 120,
   "id": "4810eb9c",
   "metadata": {
    "execution": {
     "iopub.execute_input": "2024-04-09T16:13:44.722747Z",
     "iopub.status.busy": "2024-04-09T16:13:44.722675Z",
     "iopub.status.idle": "2024-04-09T16:13:44.778698Z",
     "shell.execute_reply": "2024-04-09T16:13:44.778484Z"
    }
   },
   "outputs": [
    {
     "name": "stdout",
     "output_type": "stream",
     "text": [
      "All test cases passed!\n"
     ]
    }
   ],
   "source": [
    "\"\"\" # BEGIN TEST CONFIG\n",
    "success_message: Note that the Gradescope autograder will deduct points if your code fails the following rubric point - 'paths are hardcoded using slashes (-1)'.The public tests cannot determine if your code satisfies these requirements. Verify your code manually.\n",
    "\"\"\" # END TEST CONFIG\n",
    "\n",
    "public_tests.rubric_check('q15: paths are hardcoded using slashes')"
   ]
  },
  {
   "cell_type": "code",
   "execution_count": 121,
   "id": "e6826019",
   "metadata": {
    "execution": {
     "iopub.execute_input": "2024-04-09T16:13:44.779902Z",
     "iopub.status.busy": "2024-04-09T16:13:44.779838Z",
     "iopub.status.idle": "2024-04-09T16:13:44.836166Z",
     "shell.execute_reply": "2024-04-09T16:13:44.835915Z"
    }
   },
   "outputs": [
    {
     "name": "stdout",
     "output_type": "stream",
     "text": [
      "All test cases passed!\n"
     ]
    }
   ],
   "source": [
    "public_tests.rubric_check('q15: public tests')"
   ]
  },
  {
   "cell_type": "raw",
   "id": "1f4269ec",
   "metadata": {},
   "source": [
    "# END TESTS"
   ]
  },
  {
   "cell_type": "raw",
   "id": "9313a01c",
   "metadata": {
    "lines_to_next_cell": 0
   },
   "source": [
    "# END QUESTION"
   ]
  },
  {
   "cell_type": "markdown",
   "id": "9f551f15",
   "metadata": {},
   "source": [
    "### Data Cleaning 2: Broken JSON files\n",
    "\n",
    "We are now ready to read **all** the files in the `data` directory and create a **list** of `Planet` objects for all the planets in the directory. However, if you try to use `get_planets` on all the planet CSV files and mapping JSON files, you will likely run into another error. **Try it for yourself by calling `get_planets` on all the files in `data`!**\n",
    "\n",
    "It is likely that your code crashed when you tried to read the data in `planets_5.csv` and `mapping_5.json`. This is because the file `mapping_5.json` is **broken**. Unlike **broken** CSV files, where we only had to skip the **broken rows**, it is much harder to parse **broken JSON files**. When a JSON file is **broken**, we often have no choice but to **skip the file entirely**.\n",
    "\n",
    "You **must** now go back to your definition of `get_planets` and edit it, so that if the JSON file is **broken**, then the file is completely skipped, and only an **empty list** is returned.\n",
    "\n",
    "**Important Warning:** You are **not** allowed to **hardcode** the name of the files to be skipped. You **must** use `try/except` blocks to determine whether the JSON file is **broken** and skip the file if it is.\n",
    "\n",
    "**Hint:** You might also want to review the **Project Requirements** at the start of this project, before you use `try/except`."
   ]
  },
  {
   "cell_type": "raw",
   "id": "e0bc21fa",
   "metadata": {},
   "source": [
    "# BEGIN QUESTION\n",
    "name: planets_list\n",
    "points: 0"
   ]
  },
  {
   "cell_type": "markdown",
   "id": "611e1794",
   "metadata": {},
   "source": [
    "### Data Structure 4: `planets_list`\n",
    "\n",
    "You are now ready to read all the data about the planets stored in the `data` directory. You **must** now create a **list** containing `Planet` objects by parsing the data inside the files `planets_1.csv`, ..., `planets_5.csv` and `mapping_1.json`, ..., `mapping_5.json`.\n",
    "\n",
    "You **must** skip any **broken rows** in the CSV file, and also completely skip any **broken JSON files**. However, you are **not** allowed to **hardcode** the file you need to skip. You **must** call `get_planet` on **all** 5 pairs of files to answer this question.\n",
    "\n",
    "You **must** use the `get_planets` function on each of the five pairs of files in the `data` directory to create `planets_list`.\n",
    "\n",
    "**Warning:** Recall that the ordering of the files returned by the `os.listdir` function **depends on the operating system**. So, you need to be careful if your code relies on the ordering of the **list** returned by this function. One way to avoid any issues here would be to **sort** the **list** first, so that the ordering is identical across all operating systems."
   ]
  },
  {
   "cell_type": "raw",
   "id": "4fd04cff",
   "metadata": {},
   "source": [
    "# BEGIN SOLUTION"
   ]
  },
  {
   "cell_type": "code",
   "execution_count": 122,
   "id": "9921ff82",
   "metadata": {
    "execution": {
     "iopub.execute_input": "2024-04-09T16:13:44.837646Z",
     "iopub.status.busy": "2024-04-09T16:13:44.837582Z",
     "iopub.status.idle": "2024-04-09T16:13:44.881760Z",
     "shell.execute_reply": "2024-04-09T16:13:44.881559Z"
    }
   },
   "outputs": [
    {
     "data": {
      "text/plain": [
       "5072"
      ]
     },
     "execution_count": 122,
     "metadata": {},
     "output_type": "execute_result"
    }
   ],
   "source": [
    "# define the variable 'planets_list' here,\n",
    "# but do NOT display the variable at the end\n",
    "\n",
    "# BEGIN SOLUTION NO PROMPT\n",
    "planets_list = []\n",
    "for i in range(1, 6):\n",
    "    planet_path = os.path.join(\"data\", \"planets_%d.csv\" % i)\n",
    "    mapping_path = os.path.join(\"data\", \"mapping_%d.json\" % i)\n",
    "    planets_list.extend(get_planets(planet_path, mapping_path))\n",
    "\n",
    "len(planets_list)\n",
    "# END SOLUTION"
   ]
  },
  {
   "cell_type": "raw",
   "id": "92581b0e",
   "metadata": {},
   "source": [
    "# END SOLUTION"
   ]
  },
  {
   "cell_type": "raw",
   "id": "09e7ea07",
   "metadata": {},
   "source": [
    "# BEGIN TESTS"
   ]
  },
  {
   "cell_type": "markdown",
   "id": "e0d77c0a",
   "metadata": {},
   "source": [
    "## IGNORE ##\n",
    "\n",
    "#### Public Test\n",
    "\n",
    "**points:** 4"
   ]
  },
  {
   "cell_type": "markdown",
   "id": "a36c50d0",
   "metadata": {},
   "source": [
    "## IGNORE ##\n",
    "\n",
    "#### Hidden Test\n",
    "\n",
    "**rubric item:** data structure is defined incorrectly\n",
    "\n",
    "**points:** 2\n",
    "\n",
    "**reason for rubric:** The data structure is used to answer a lot of questions, and any errors in the definition will affect all of those questions. So, it is very important to make sure that the data structure is defined correctly.\n",
    "\n",
    "**test notebook details:** The data structure is tested against a correct implementation of the data structure."
   ]
  },
  {
   "cell_type": "code",
   "execution_count": 123,
   "id": "367abed0",
   "metadata": {
    "execution": {
     "iopub.execute_input": "2024-04-09T16:13:44.883103Z",
     "iopub.status.busy": "2024-04-09T16:13:44.883027Z",
     "iopub.status.idle": "2024-04-09T16:13:44.940767Z",
     "shell.execute_reply": "2024-04-09T16:13:44.940551Z"
    }
   },
   "outputs": [
    {
     "name": "stdout",
     "output_type": "stream",
     "text": [
      "All test cases passed!\n"
     ]
    }
   ],
   "source": [
    "\"\"\" # BEGIN TEST CONFIG\n",
    "success_message: Note that the Gradescope autograder will deduct points if your code fails the following rubric point - 'data structure is defined incorrectly (-2)'.The public tests cannot determine if your code satisfies these requirements. Verify your code manually.\n",
    "\"\"\" # END TEST CONFIG\n",
    "\n",
    "public_tests.rubric_check('planets_list: data structure is defined incorrectly')"
   ]
  },
  {
   "cell_type": "markdown",
   "id": "dc98e06c",
   "metadata": {},
   "source": [
    "## IGNORE ##\n",
    "\n",
    "#### Hidden Test\n",
    "\n",
    "**rubric item:** `get_planets` function is not used\n",
    "\n",
    "**points:** 1\n",
    "\n",
    "**reason for rubric:** The function has already been defined, and performs the required task, so it would be wasteful to answer this question without making use of this function.\n",
    "\n",
    "**test notebook details:** The function is replaced with a function that behaves differently from the given function. Code is injected at the end of the notebook which tests this data structure against a correct implementation of the data structure."
   ]
  },
  {
   "cell_type": "code",
   "execution_count": 124,
   "id": "0743a353",
   "metadata": {
    "execution": {
     "iopub.execute_input": "2024-04-09T16:13:44.942003Z",
     "iopub.status.busy": "2024-04-09T16:13:44.941939Z",
     "iopub.status.idle": "2024-04-09T16:13:44.998014Z",
     "shell.execute_reply": "2024-04-09T16:13:44.997781Z"
    }
   },
   "outputs": [
    {
     "name": "stdout",
     "output_type": "stream",
     "text": [
      "All test cases passed!\n"
     ]
    }
   ],
   "source": [
    "\"\"\" # BEGIN TEST CONFIG\n",
    "success_message: Note that the Gradescope autograder will deduct points if your code fails the following rubric point - '`get_planets` function is not used (-1)'.The public tests cannot determine if your code satisfies these requirements. Verify your code manually.\n",
    "\"\"\" # END TEST CONFIG\n",
    "\n",
    "public_tests.rubric_check('planets_list: `get_planets` function is not used')"
   ]
  },
  {
   "cell_type": "markdown",
   "id": "519a7230",
   "metadata": {},
   "source": [
    "## IGNORE ##\n",
    "\n",
    "#### Hidden Test\n",
    "\n",
    "**rubric item:** paths are hardcoded using slashes\n",
    "\n",
    "**points:** 1\n",
    "\n",
    "**reason for rubric:** The slashes that appear in the paths are path separators, and they are OS dependent. If slashes are hardcoded in the answer, then they will only work on computers with that operating system, and not on other computers. To avoid this, `os.path.join` must be used to create paths.\n",
    "\n",
    "**test dataset details:** The contents of all `planets` and `mapping` files in `data` directory are copied to a file in the directory starts with `data&`. For example, the contents of the file `planets_1.csv` in `data` is moved to `data&planets_1.csv`, the contents of `mapping_5.json` in `data` is moved to `data&mapping_5.json`, etc. Finally, the original data in `data` is overwritten with new random data.\n",
    "\n",
    "**test notebook details:** Code is injected at the start of the notebook which defines new functions `new_join`, `new_basename`, `new_dirname`, and `new_split`. These functions behave similarly to `os.path.join`, `os.path.basename`, `os.path.dirname`, and `os.path.split`, except that instead of the path separator, they use the `&` symbol. All code in the notebook with calls to these functions are then replaced with these new functions. Finally, code is injected at the end of the notebook which tests this data structure against a correct implementation of the data structure."
   ]
  },
  {
   "cell_type": "code",
   "execution_count": 125,
   "id": "2f25750d",
   "metadata": {
    "execution": {
     "iopub.execute_input": "2024-04-09T16:13:44.999205Z",
     "iopub.status.busy": "2024-04-09T16:13:44.999141Z",
     "iopub.status.idle": "2024-04-09T16:13:45.056328Z",
     "shell.execute_reply": "2024-04-09T16:13:45.056093Z"
    }
   },
   "outputs": [
    {
     "name": "stdout",
     "output_type": "stream",
     "text": [
      "All test cases passed!\n"
     ]
    }
   ],
   "source": [
    "\"\"\" # BEGIN TEST CONFIG\n",
    "success_message: Note that the Gradescope autograder will deduct points if your code fails the following rubric point - 'paths are hardcoded using slashes (-1)'.The public tests cannot determine if your code satisfies these requirements. Verify your code manually.\n",
    "\"\"\" # END TEST CONFIG\n",
    "\n",
    "public_tests.rubric_check('planets_list: paths are hardcoded using slashes')"
   ]
  },
  {
   "cell_type": "raw",
   "id": "3b2c6631",
   "metadata": {},
   "source": [
    "# END TESTS"
   ]
  },
  {
   "cell_type": "raw",
   "id": "bc68e3ad",
   "metadata": {},
   "source": [
    "# END QUESTION"
   ]
  },
  {
   "cell_type": "markdown",
   "id": "19bbe569",
   "metadata": {},
   "source": [
    "If you wish to **verify** that you have read the files and defined `planets_list` correctly, you can check that `planets_list` has **5072** `Planet` objects in it. If it contains fewer or a greater number of planets, it is possible that you have accidentally parsed a broken CSV row in `planets_4.csv`, or accidentally parsed data from the broken JSON file `mapping_5.json`."
   ]
  },
  {
   "cell_type": "raw",
   "id": "ccdcdbef",
   "metadata": {},
   "source": [
    "# BEGIN QUESTION\n",
    "name: q16\n",
    "points: 0"
   ]
  },
  {
   "cell_type": "markdown",
   "id": "235e87f6",
   "metadata": {},
   "source": [
    "**Question 16:** What is the output of `planets_list[5020:5025]`?\n",
    "\n",
    "Your output **must** be a **list** of `Planet` objects.\n",
    "\n",
    "**Hint:** If you did not get the right answer here, it is possible that you did not read the files in the correct **order**. In `planets_list`, the planets from `planets_1.csv` should appear first (in the order that they appear in the dataset), followed by the planets from `planets_2.csv`, `planets_3.csv`, `planets_4.csv`, and `planets_5.csv`."
   ]
  },
  {
   "cell_type": "raw",
   "id": "74bc9779",
   "metadata": {
    "lines_to_next_cell": 0
   },
   "source": [
    "# BEGIN SOLUTION"
   ]
  },
  {
   "cell_type": "code",
   "execution_count": 126,
   "id": "f8506324",
   "metadata": {
    "execution": {
     "iopub.execute_input": "2024-04-09T16:13:45.057763Z",
     "iopub.status.busy": "2024-04-09T16:13:45.057695Z",
     "iopub.status.idle": "2024-04-09T16:13:45.059713Z",
     "shell.execute_reply": "2024-04-09T16:13:45.059488Z"
    },
    "lines_to_next_cell": 0
   },
   "outputs": [
    {
     "data": {
      "text/plain": [
       "[Planet(planet_name='Kepler-9 c', host_name='Kepler-9', discovery_method='Transit', discovery_year=2010, controversial_flag=False, orbital_period=38.9853, planet_radius=8.08, planet_mass=29.9, semi_major_radius=0.227, eccentricity=0.06691, equilibrium_temperature=523.0, insolation_flux=18.9),\n",
       " Planet(planet_name='Kepler-9 d', host_name='Kepler-9', discovery_method='Transit', discovery_year=2010, controversial_flag=False, orbital_period=1.592851, planet_radius=1.64, planet_mass=8.41466, semi_major_radius=0.0273, eccentricity=0.0, equilibrium_temperature=2026.0, insolation_flux=1339.66),\n",
       " Planet(planet_name='Kepler-92 b', host_name='Kepler-92', discovery_method='Transit', discovery_year=2013, controversial_flag=False, orbital_period=13.749, planet_radius=3.51, planet_mass=64.3, semi_major_radius=0.122268, eccentricity=0.17, equilibrium_temperature=975.0, insolation_flux=257.78),\n",
       " Planet(planet_name='Kepler-92 c', host_name='Kepler-92', discovery_method='Transit', discovery_year=2013, controversial_flag=False, orbital_period=26.723, planet_radius=2.6, planet_mass=6.1, semi_major_radius=0.190427, eccentricity=0.04, equilibrium_temperature=781.0, insolation_flux=106.21),\n",
       " Planet(planet_name='Kepler-92 d', host_name='Kepler-92', discovery_method='Transit', discovery_year=2015, controversial_flag=False, orbital_period=49.3568, planet_radius=2.067, planet_mass=11.86668, semi_major_radius=0.286661, eccentricity=0.07, equilibrium_temperature=637.0, insolation_flux=46.84)]"
      ]
     },
     "execution_count": 126,
     "metadata": {},
     "output_type": "execute_result"
    }
   ],
   "source": [
    "# compute and store the answer in the variable 'planets_5020_5025', then display it\n",
    "\n",
    "# BEGIN SOLUTION NO PROMPT\n",
    "planets_5020_5025 = planets_list[5020:5025]\n",
    "\n",
    "planets_5020_5025\n",
    "# END SOLUTION"
   ]
  },
  {
   "cell_type": "raw",
   "id": "c09fde3a",
   "metadata": {},
   "source": [
    "# END SOLUTION"
   ]
  },
  {
   "cell_type": "raw",
   "id": "17519fc9",
   "metadata": {},
   "source": [
    "# BEGIN TESTS"
   ]
  },
  {
   "cell_type": "markdown",
   "id": "cf7c9e53",
   "metadata": {},
   "source": [
    "## IGNORE ##\n",
    "\n",
    "#### Public Test\n",
    "\n",
    "**points:** 2\n",
    "\n",
    "**format:** TEXT_FORMAT_ORDERED_LIST\n",
    "\n",
    "**answer:** planets_5020_5025"
   ]
  },
  {
   "cell_type": "code",
   "execution_count": 127,
   "id": "19f0f720",
   "metadata": {
    "execution": {
     "iopub.execute_input": "2024-04-09T16:13:45.060907Z",
     "iopub.status.busy": "2024-04-09T16:13:45.060841Z",
     "iopub.status.idle": "2024-04-09T16:13:45.062584Z",
     "shell.execute_reply": "2024-04-09T16:13:45.062388Z"
    }
   },
   "outputs": [
    {
     "name": "stdout",
     "output_type": "stream",
     "text": [
      "All test cases passed!\n"
     ]
    }
   ],
   "source": [
    "public_tests.check('q16', planets_5020_5025)"
   ]
  },
  {
   "cell_type": "markdown",
   "id": "4d062a88",
   "metadata": {},
   "source": [
    "## IGNORE ##\n",
    "\n",
    "#### Hidden Test\n",
    "\n",
    "**rubric item:** `planets_list` data structure is not used to answer\n",
    "\n",
    "**points:** 2\n",
    "\n",
    "**reason for rubric:** The data structure has already been defined, and stores the required data, so it would be wasteful to answer this question without making use of this data structure.\n",
    "\n",
    "**test notebook details:** The data structure is replaced with a data structure that stores different data from the correct data structure. The data structure is first defined correctly. Then, using a fixed random seed, each attribute of the `Planet` namedtuple objects are shuffled across all the objects in the data structure."
   ]
  },
  {
   "cell_type": "code",
   "execution_count": 128,
   "id": "5921a652",
   "metadata": {
    "execution": {
     "iopub.execute_input": "2024-04-09T16:13:45.063743Z",
     "iopub.status.busy": "2024-04-09T16:13:45.063681Z",
     "iopub.status.idle": "2024-04-09T16:13:45.119388Z",
     "shell.execute_reply": "2024-04-09T16:13:45.119146Z"
    }
   },
   "outputs": [
    {
     "name": "stdout",
     "output_type": "stream",
     "text": [
      "All test cases passed!\n"
     ]
    }
   ],
   "source": [
    "\"\"\" # BEGIN TEST CONFIG\n",
    "success_message: Note that the Gradescope autograder will deduct points if your code fails the following rubric point - '`planets_list` data structure is not used to answer (-2)'.The public tests cannot determine if your code satisfies these requirements. Verify your code manually.\n",
    "\"\"\" # END TEST CONFIG\n",
    "\n",
    "public_tests.rubric_check('q16: `planets_list` data structure is not used to answer')"
   ]
  },
  {
   "cell_type": "raw",
   "id": "fdce0bda",
   "metadata": {},
   "source": [
    "# END TESTS"
   ]
  },
  {
   "cell_type": "raw",
   "id": "1ab899ec",
   "metadata": {
    "lines_to_next_cell": 0
   },
   "source": [
    "# END QUESTION"
   ]
  },
  {
   "cell_type": "raw",
   "id": "2b45825e",
   "metadata": {},
   "source": [
    "# BEGIN QUESTION\n",
    "name: q17\n",
    "points: 0"
   ]
  },
  {
   "cell_type": "markdown",
   "id": "3b712e38",
   "metadata": {},
   "source": [
    "**Question 17:** How many planets in `planets_list` were discovered in the year *2023*?\n",
    "\n",
    "Your output **must** be an **integer**."
   ]
  },
  {
   "cell_type": "raw",
   "id": "d4f0ba13",
   "metadata": {
    "lines_to_next_cell": 0
   },
   "source": [
    "# BEGIN SOLUTION"
   ]
  },
  {
   "cell_type": "code",
   "execution_count": 129,
   "id": "22b89d22",
   "metadata": {
    "execution": {
     "iopub.execute_input": "2024-04-09T16:13:45.120725Z",
     "iopub.status.busy": "2024-04-09T16:13:45.120665Z",
     "iopub.status.idle": "2024-04-09T16:13:45.122932Z",
     "shell.execute_reply": "2024-04-09T16:13:45.122696Z"
    },
    "lines_to_next_cell": 0
   },
   "outputs": [
    {
     "data": {
      "text/plain": [
       "289"
      ]
     },
     "execution_count": 129,
     "metadata": {},
     "output_type": "execute_result"
    }
   ],
   "source": [
    "# compute and store the answer in the variable 'planets_disc_2023', then display it\n",
    "\n",
    "# BEGIN SOLUTION NO PROMPT\n",
    "planets_disc_2023 = 0\n",
    "for planet in planets_list:\n",
    "    if planet.discovery_year == 2023:\n",
    "        planets_disc_2023 += 1\n",
    "        \n",
    "planets_disc_2023\n",
    "# END SOLUTION"
   ]
  },
  {
   "cell_type": "raw",
   "id": "87d85d84",
   "metadata": {},
   "source": [
    "# END SOLUTION"
   ]
  },
  {
   "cell_type": "raw",
   "id": "2897d230",
   "metadata": {},
   "source": [
    "# BEGIN TESTS"
   ]
  },
  {
   "cell_type": "markdown",
   "id": "b631014b",
   "metadata": {},
   "source": [
    "## IGNORE ##\n",
    "\n",
    "#### Public Test\n",
    "\n",
    "**points:** 3\n",
    "\n",
    "**format:** TEXT_FORMAT\n",
    "\n",
    "**answer:** planets_disc_2023"
   ]
  },
  {
   "cell_type": "code",
   "execution_count": 130,
   "id": "98ea1b1f",
   "metadata": {
    "execution": {
     "iopub.execute_input": "2024-04-09T16:13:45.124196Z",
     "iopub.status.busy": "2024-04-09T16:13:45.124129Z",
     "iopub.status.idle": "2024-04-09T16:13:45.125558Z",
     "shell.execute_reply": "2024-04-09T16:13:45.125344Z"
    }
   },
   "outputs": [
    {
     "name": "stdout",
     "output_type": "stream",
     "text": [
      "All test cases passed!\n"
     ]
    }
   ],
   "source": [
    "public_tests.check('q17', planets_disc_2023)"
   ]
  },
  {
   "cell_type": "markdown",
   "id": "9dacdbe3",
   "metadata": {},
   "source": [
    "## IGNORE ##\n",
    "\n",
    "#### Hidden Test\n",
    "\n",
    "**rubric item:** incorrect comparison operator is used\n",
    "\n",
    "**points:** 1\n",
    "\n",
    "**reason for rubric:** The question asks for planets whose `Discovery Year` is *2023*, so the comparison needs to be exact.\n",
    "\n",
    "**test dataset details:** The dataset is completely modified. The files `planets_1.csv`, ..., `planets_5.csv` are all parsed. With probablity `1/2` for each row, the `Discovery Year` value is set to `2023`, and for all other rows, the `Discovery Year` is set to `2022` or `2024`."
   ]
  },
  {
   "cell_type": "code",
   "execution_count": 131,
   "id": "68816609",
   "metadata": {
    "execution": {
     "iopub.execute_input": "2024-04-09T16:13:45.126646Z",
     "iopub.status.busy": "2024-04-09T16:13:45.126581Z",
     "iopub.status.idle": "2024-04-09T16:13:45.183000Z",
     "shell.execute_reply": "2024-04-09T16:13:45.182785Z"
    }
   },
   "outputs": [
    {
     "name": "stdout",
     "output_type": "stream",
     "text": [
      "All test cases passed!\n"
     ]
    }
   ],
   "source": [
    "\"\"\" # BEGIN TEST CONFIG\n",
    "success_message: Note that the Gradescope autograder will deduct points if your code fails the following rubric point - 'incorrect comparison operator is used (-1)'.The public tests cannot determine if your code satisfies these requirements. Verify your code manually.\n",
    "\"\"\" # END TEST CONFIG\n",
    "\n",
    "public_tests.rubric_check('q17: incorrect comparison operator is used')"
   ]
  },
  {
   "cell_type": "markdown",
   "id": "f961beb5",
   "metadata": {},
   "source": [
    "## IGNORE ##\n",
    "\n",
    "#### Hidden Test\n",
    "\n",
    "**rubric item:** incorrect logic is used to answer\n",
    "\n",
    "**points:** 1\n",
    "\n",
    "**reason for rubric:** It is possible to obtain the correct answer even with logically incorrect code.\n",
    "\n",
    "**test dataset details:** The dataset is completely modified. The files `planets_1.csv`, ..., `planets_5.csv` are all parsed. With probablity `1/2` for each row, the `Discovery Year` value is set to `2023`."
   ]
  },
  {
   "cell_type": "code",
   "execution_count": 132,
   "id": "327b49d9",
   "metadata": {
    "execution": {
     "iopub.execute_input": "2024-04-09T16:13:45.184148Z",
     "iopub.status.busy": "2024-04-09T16:13:45.184084Z",
     "iopub.status.idle": "2024-04-09T16:13:45.240399Z",
     "shell.execute_reply": "2024-04-09T16:13:45.240184Z"
    }
   },
   "outputs": [
    {
     "name": "stdout",
     "output_type": "stream",
     "text": [
      "All test cases passed!\n"
     ]
    }
   ],
   "source": [
    "\"\"\" # BEGIN TEST CONFIG\n",
    "success_message: Note that the Gradescope autograder will deduct points if your code fails the following rubric point - 'incorrect logic is used to answer (-1)'.The public tests cannot determine if your code satisfies these requirements. Verify your code manually.\n",
    "\"\"\" # END TEST CONFIG\n",
    "\n",
    "public_tests.rubric_check('q17: incorrect logic is used to answer')"
   ]
  },
  {
   "cell_type": "markdown",
   "id": "7752cd3b",
   "metadata": {},
   "source": [
    "## IGNORE ##\n",
    "\n",
    "#### Hidden Test\n",
    "\n",
    "**rubric item:** `planets_list` data structure is not used to answer\n",
    "\n",
    "**points:** 1\n",
    "\n",
    "**reason for rubric:** The data structure has already been defined, and stores the required data, so it would be wasteful to answer this question without making use of this data structure.\n",
    "\n",
    "**test notebook details:** The data structure is replaced with a data structure that stores different data from the correct data structure. The data structure is first defined correctly. Then, using a fixed random seed, each attribute of the `Planet` namedtuple objects are shuffled across all the objects in the data structure."
   ]
  },
  {
   "cell_type": "code",
   "execution_count": 133,
   "id": "df85d688",
   "metadata": {
    "execution": {
     "iopub.execute_input": "2024-04-09T16:13:45.241529Z",
     "iopub.status.busy": "2024-04-09T16:13:45.241464Z",
     "iopub.status.idle": "2024-04-09T16:13:45.297473Z",
     "shell.execute_reply": "2024-04-09T16:13:45.297232Z"
    }
   },
   "outputs": [
    {
     "name": "stdout",
     "output_type": "stream",
     "text": [
      "All test cases passed!\n"
     ]
    }
   ],
   "source": [
    "\"\"\" # BEGIN TEST CONFIG\n",
    "success_message: Note that the Gradescope autograder will deduct points if your code fails the following rubric point - '`planets_list` data structure is not used to answer (-1)'.The public tests cannot determine if your code satisfies these requirements. Verify your code manually.\n",
    "\"\"\" # END TEST CONFIG\n",
    "\n",
    "public_tests.rubric_check('q17: `planets_list` data structure is not used to answer')"
   ]
  },
  {
   "cell_type": "raw",
   "id": "97d3075e",
   "metadata": {},
   "source": [
    "# END TESTS"
   ]
  },
  {
   "cell_type": "raw",
   "id": "70f8a1bc",
   "metadata": {},
   "source": [
    "# END QUESTION"
   ]
  },
  {
   "cell_type": "raw",
   "id": "1b2809cc",
   "metadata": {},
   "source": [
    "# BEGIN QUESTION\n",
    "name: q18\n",
    "points: 0"
   ]
  },
  {
   "cell_type": "markdown",
   "id": "f5b74c46",
   "metadata": {},
   "source": [
    "**Question 18:** Find the `Star` object around which the `Planet` named *TOI-2202 c* orbits.\n",
    "\n",
    "Your output **must** be a `Star` object.\n",
    "\n",
    "**Hint:** You **must** first find the `Planet` object with the `planet_name` *TOI-2202 c* and then use the `host_name` attribute to identify the name of the star around which the planet orbits. Then, you can get the `Star` object using the `stars_dict` **dictionary** defined above.\n",
    "\n",
    "You **must** exit the loop once you find the first planet with the target name."
   ]
  },
  {
   "cell_type": "raw",
   "id": "213429e7",
   "metadata": {
    "lines_to_next_cell": 0
   },
   "source": [
    "# BEGIN SOLUTION"
   ]
  },
  {
   "cell_type": "code",
   "execution_count": 134,
   "id": "9beed08b",
   "metadata": {
    "execution": {
     "iopub.execute_input": "2024-04-09T16:13:45.298861Z",
     "iopub.status.busy": "2024-04-09T16:13:45.298794Z",
     "iopub.status.idle": "2024-04-09T16:13:45.301116Z",
     "shell.execute_reply": "2024-04-09T16:13:45.300904Z"
    },
    "lines_to_next_cell": 0
   },
   "outputs": [
    {
     "data": {
      "text/plain": [
       "Star(spectral_type='K8V', stellar_effective_temperature=5144.0, stellar_radius=0.79, stellar_mass=0.82, stellar_luminosity=-0.401, stellar_surface_gravity=4.55, stellar_age=7.48)"
      ]
     },
     "execution_count": 134,
     "metadata": {},
     "output_type": "execute_result"
    }
   ],
   "source": [
    "# compute and store the answer in the variable 'toi_2022_c_star', then display it\n",
    "\n",
    "# BEGIN SOLUTION NO PROMPT\n",
    "toi_2022_c_star = None\n",
    "for planet in planets_list:\n",
    "    if planet.planet_name == 'TOI-2202 c':\n",
    "        toi_2022_c_star = stars_dict[planet.host_name]\n",
    "        break\n",
    "        \n",
    "toi_2022_c_star\n",
    "# END SOLUTION"
   ]
  },
  {
   "cell_type": "raw",
   "id": "073be827",
   "metadata": {},
   "source": [
    "# END SOLUTION"
   ]
  },
  {
   "cell_type": "markdown",
   "id": "3f25feaa",
   "metadata": {},
   "source": [
    "## IGNORE ##\n",
    "\n",
    "#### Requirements for Random Data Generation:\n",
    "\n",
    "To one of the files `planets_1.csv`, ..., `planets_4.csv`, a planet named `TOI-2202 c` must be added."
   ]
  },
  {
   "cell_type": "raw",
   "id": "f19cefaf",
   "metadata": {},
   "source": [
    "# BEGIN TESTS"
   ]
  },
  {
   "cell_type": "markdown",
   "id": "ec21d81a",
   "metadata": {},
   "source": [
    "## IGNORE ##\n",
    "\n",
    "#### Public Test\n",
    "\n",
    "**points:** 4\n",
    "\n",
    "**format:** TEXT_FORMAT_NAMEDTUPLE\n",
    "\n",
    "**answer:** toi_2022_c_star"
   ]
  },
  {
   "cell_type": "code",
   "execution_count": 135,
   "id": "89c15a46",
   "metadata": {
    "execution": {
     "iopub.execute_input": "2024-04-09T16:13:45.302385Z",
     "iopub.status.busy": "2024-04-09T16:13:45.302322Z",
     "iopub.status.idle": "2024-04-09T16:13:45.303903Z",
     "shell.execute_reply": "2024-04-09T16:13:45.303676Z"
    }
   },
   "outputs": [
    {
     "name": "stdout",
     "output_type": "stream",
     "text": [
      "All test cases passed!\n"
     ]
    }
   ],
   "source": [
    "public_tests.check('q18', toi_2022_c_star)"
   ]
  },
  {
   "cell_type": "markdown",
   "id": "0d00d5c8",
   "metadata": {},
   "source": [
    "## IGNORE ##\n",
    "\n",
    "#### Hidden Test\n",
    "\n",
    "**rubric item:** `planets_list` and `stars_dict` data structures are not used to answer\n",
    "\n",
    "**points:** 2\n",
    "\n",
    "**reason for rubric:** These data structures have already been defined, and store the required data, so it would be wasteful to answer this question without making use of these data structures.\n",
    "\n",
    "**test notebook details:** These data structures are replaced with data structures that store different data from the correct data structures. The data structure `stars_dict` is first defined correctly. Then, using a fixed random seed, the *values* mapped to each *key* in the dictionary are shuffled. Similarly, `planets_list` is first defined correctly. Then, using a fixed random seed, each attribute of the `Planet` namedtuple objects are shuffled across all the objects in `planets_list`. "
   ]
  },
  {
   "cell_type": "code",
   "execution_count": 136,
   "id": "f41e7e79",
   "metadata": {
    "execution": {
     "iopub.execute_input": "2024-04-09T16:13:45.304991Z",
     "iopub.status.busy": "2024-04-09T16:13:45.304929Z",
     "iopub.status.idle": "2024-04-09T16:13:45.360850Z",
     "shell.execute_reply": "2024-04-09T16:13:45.360624Z"
    }
   },
   "outputs": [
    {
     "name": "stdout",
     "output_type": "stream",
     "text": [
      "All test cases passed!\n"
     ]
    }
   ],
   "source": [
    "\"\"\" # BEGIN TEST CONFIG\n",
    "success_message: Note that the Gradescope autograder will deduct points if your code fails the following rubric point - '`planets_list` and `stars_dict` data structures are not used to answer (-2)'.The public tests cannot determine if your code satisfies these requirements. Verify your code manually.\n",
    "\"\"\" # END TEST CONFIG\n",
    "\n",
    "public_tests.rubric_check('q18: `planets_list` and `stars_dict` data structures are not used to answer')"
   ]
  },
  {
   "cell_type": "markdown",
   "id": "e32843d8",
   "metadata": {},
   "source": [
    "## IGNORE ##\n",
    "\n",
    "#### Hidden Test\n",
    "\n",
    "**rubric item:** did not exit loop and instead iterated further after finding the answer\n",
    "\n",
    "**points:** 1\n",
    "\n",
    "**reason for rubric:** The data structure `planets_list` is large, and there is no need to keep looping through the large list, after the required `Planet` object is found.\n",
    "\n",
    "**test dataset details:** The dataset is completely modified. For each of the files `planets_1.csv`, ..., `planets_3.csv`, a row is chosen at random, and the `Planet Name` value is changed to be the name of the planet being searched in this question. The corresponding file `mapping_1.json`, ..., `mapping_3.json` is also parsed, and the name of the planet that was replaced in the `planets` file is changed here also to be the name of the planet being searched in this question."
   ]
  },
  {
   "cell_type": "code",
   "execution_count": 137,
   "id": "a8b14d39",
   "metadata": {
    "execution": {
     "iopub.execute_input": "2024-04-09T16:13:45.362038Z",
     "iopub.status.busy": "2024-04-09T16:13:45.361970Z",
     "iopub.status.idle": "2024-04-09T16:13:45.418508Z",
     "shell.execute_reply": "2024-04-09T16:13:45.418287Z"
    }
   },
   "outputs": [
    {
     "name": "stdout",
     "output_type": "stream",
     "text": [
      "All test cases passed!\n"
     ]
    }
   ],
   "source": [
    "\"\"\" # BEGIN TEST CONFIG\n",
    "success_message: Note that the Gradescope autograder will deduct points if your code fails the following rubric point - 'did not exit loop and instead iterated further after finding the answer (-1)'.The public tests cannot determine if your code satisfies these requirements. Verify your code manually.\n",
    "\"\"\" # END TEST CONFIG\n",
    "\n",
    "public_tests.rubric_check('q18: did not exit loop and instead iterated further after finding the answer')"
   ]
  },
  {
   "cell_type": "code",
   "execution_count": 138,
   "id": "0e1f1059",
   "metadata": {
    "execution": {
     "iopub.execute_input": "2024-04-09T16:13:45.419628Z",
     "iopub.status.busy": "2024-04-09T16:13:45.419565Z",
     "iopub.status.idle": "2024-04-09T16:13:45.490116Z",
     "shell.execute_reply": "2024-04-09T16:13:45.489829Z"
    }
   },
   "outputs": [
    {
     "name": "stdout",
     "output_type": "stream",
     "text": [
      "All test cases passed!\n"
     ]
    }
   ],
   "source": [
    "public_tests.rubric_check('q18: public tests')"
   ]
  },
  {
   "cell_type": "raw",
   "id": "5f40c92e",
   "metadata": {},
   "source": [
    "# END TESTS"
   ]
  },
  {
   "cell_type": "raw",
   "id": "6c71dfe8",
   "metadata": {
    "lines_to_next_cell": 0
   },
   "source": [
    "# END QUESTION"
   ]
  },
  {
   "cell_type": "raw",
   "id": "684e1a9a",
   "metadata": {},
   "source": [
    "# BEGIN QUESTION\n",
    "name: q19\n",
    "points: 0"
   ]
  },
  {
   "cell_type": "markdown",
   "id": "d97da08c",
   "metadata": {},
   "source": [
    "**Question 19:** Find the **average** `planet_radius` (in units of the radius of the Earth) of the planets that orbit stars with `stellar_radius` more than *10* (i.e. more than *10* times the radius of the Sun).\n",
    "\n",
    "Your output **must** be a **float**. You **must** skip any `Planet` objects with **missing** `planet_radius` data and any `Star` objects with **missing** `stellar_radius` data."
   ]
  },
  {
   "cell_type": "raw",
   "id": "32429650",
   "metadata": {
    "lines_to_next_cell": 0
   },
   "source": [
    "# BEGIN SOLUTION"
   ]
  },
  {
   "cell_type": "code",
   "execution_count": 139,
   "id": "ea5c9c38",
   "metadata": {
    "execution": {
     "iopub.execute_input": "2024-04-09T16:13:45.491672Z",
     "iopub.status.busy": "2024-04-09T16:13:45.491582Z",
     "iopub.status.idle": "2024-04-09T16:13:45.495577Z",
     "shell.execute_reply": "2024-04-09T16:13:45.495310Z"
    },
    "lines_to_next_cell": 0
   },
   "outputs": [
    {
     "data": {
      "text/plain": [
       "12.888118811881188"
      ]
     },
     "execution_count": 139,
     "metadata": {},
     "output_type": "execute_result"
    }
   ],
   "source": [
    "# compute and store the answer in the variable 'avg_planet_radius_big_stars', then display it\n",
    "\n",
    "# BEGIN SOLUTION NO PROMPT\n",
    "total_planet_radius_big_stars = 0\n",
    "total_planets_big_stars = 0\n",
    "for planet in planets_list:\n",
    "    star = stars_dict[planet.host_name]\n",
    "    if planet.planet_radius == None:\n",
    "        continue\n",
    "    if star.stellar_radius == None:\n",
    "        continue\n",
    "    if star.stellar_radius > 10:\n",
    "        total_planet_radius_big_stars += planet.planet_radius\n",
    "        total_planets_big_stars += 1\n",
    "        \n",
    "avg_planet_radius_big_stars = total_planet_radius_big_stars/total_planets_big_stars\n",
    "\n",
    "avg_planet_radius_big_stars\n",
    "# END SOLUTION"
   ]
  },
  {
   "cell_type": "raw",
   "id": "9703a2aa",
   "metadata": {},
   "source": [
    "# END SOLUTION"
   ]
  },
  {
   "cell_type": "raw",
   "id": "3f372242",
   "metadata": {},
   "source": [
    "# BEGIN TESTS"
   ]
  },
  {
   "cell_type": "markdown",
   "id": "6739bb40",
   "metadata": {},
   "source": [
    "## IGNORE ##\n",
    "\n",
    "#### Public Test\n",
    "\n",
    "**points:** 5\n",
    "\n",
    "**format:** TEXT_FORMAT\n",
    "\n",
    "**answer:** avg_planet_radius_big_stars"
   ]
  },
  {
   "cell_type": "code",
   "execution_count": 140,
   "id": "8b3e9a36",
   "metadata": {
    "execution": {
     "iopub.execute_input": "2024-04-09T16:13:45.496934Z",
     "iopub.status.busy": "2024-04-09T16:13:45.496862Z",
     "iopub.status.idle": "2024-04-09T16:13:45.498522Z",
     "shell.execute_reply": "2024-04-09T16:13:45.498263Z"
    }
   },
   "outputs": [
    {
     "name": "stdout",
     "output_type": "stream",
     "text": [
      "All test cases passed!\n"
     ]
    }
   ],
   "source": [
    "public_tests.check('q19', avg_planet_radius_big_stars)"
   ]
  },
  {
   "cell_type": "markdown",
   "id": "fd4714ac",
   "metadata": {},
   "source": [
    "## IGNORE ##\n",
    "\n",
    "#### Hidden Test\n",
    "\n",
    "**rubric item:** incorrect comparison operator is used\n",
    "\n",
    "**points:** 1\n",
    "\n",
    "**reason for rubric:** The question asks for stars whose `Stellar Radius [Solar Radius]` is more than *10*, so the comparison needs to be exact.\n",
    "\n",
    "**test dataset details:** The dataset is completely modified. The files `stars_1.csv`, ..., `stars_5.csv` are all parsed. With probablity `1/2` for each row, the `Stellar Radius [Solar Radius]` value is set to `10.0`, and for all other rows, the `Stellar Radius [Solar Radius]` is set to `10.01`. The files `mapping_1.json`, ..., `mapping_5.json` are then parsed, and the planets mapped to the stars with `Stellar Radius [Solar Radius]` of `10.0` are identified. The files `planets_1.csv`, ..., `planets_5.csv` are then parsed, and the `Planet Radius [Earth Radius]` of all the planets identified earlier are set to a high value like `100000.0`."
   ]
  },
  {
   "cell_type": "code",
   "execution_count": 141,
   "id": "809e42db",
   "metadata": {
    "execution": {
     "iopub.execute_input": "2024-04-09T16:13:45.499735Z",
     "iopub.status.busy": "2024-04-09T16:13:45.499669Z",
     "iopub.status.idle": "2024-04-09T16:13:45.556242Z",
     "shell.execute_reply": "2024-04-09T16:13:45.556008Z"
    }
   },
   "outputs": [
    {
     "name": "stdout",
     "output_type": "stream",
     "text": [
      "All test cases passed!\n"
     ]
    }
   ],
   "source": [
    "\"\"\" # BEGIN TEST CONFIG\n",
    "success_message: Note that the Gradescope autograder will deduct points if your code fails the following rubric point - 'incorrect comparison operator is used (-1)'.The public tests cannot determine if your code satisfies these requirements. Verify your code manually.\n",
    "\"\"\" # END TEST CONFIG\n",
    "\n",
    "public_tests.rubric_check('q19: incorrect comparison operator is used')"
   ]
  },
  {
   "cell_type": "markdown",
   "id": "62ecbe7e",
   "metadata": {},
   "source": [
    "## IGNORE ##\n",
    "\n",
    "#### Hidden Test\n",
    "\n",
    "**rubric item:** incorrect logic is used to answer\n",
    "\n",
    "**points:** 1\n",
    "\n",
    "**reason for rubric:** It is possible to obtain the correct answer even with logically incorrect code.\n",
    "\n",
    "**test dataset details:** The dataset is completely modified. The files `stars_1.csv`, ..., `stars_5.csv` are all parsed. With probablity `1/2` for each row, the `Stellar Radius [Solar Radius]` value is set to `100.0`, and with probability `1/2` for the remaining rows, the `Stellar Radius [Solar Radius]` value is set to `None`. The files `mapping_1.json`, ..., `mapping_5.json` are then parsed, and the planets mapped to the stars with `Stellar Radius [Solar Radius]` of `100.0` are identified. The files `planets_1.csv`, ..., `planets_5.csv` are then parsed, and the `Planet Radius [Earth Radius]` of all the planets identified earlier are set to a high value like `100000.0`, or `0.0`, with probability `1/3` each, and the remaining rows of planets mapped to stars with `Stellar Radius [Solar Radius]` of `100.0` are set to `None`."
   ]
  },
  {
   "cell_type": "code",
   "execution_count": 142,
   "id": "4b3d7c23",
   "metadata": {
    "execution": {
     "iopub.execute_input": "2024-04-09T16:13:45.557484Z",
     "iopub.status.busy": "2024-04-09T16:13:45.557420Z",
     "iopub.status.idle": "2024-04-09T16:13:45.638878Z",
     "shell.execute_reply": "2024-04-09T16:13:45.638617Z"
    }
   },
   "outputs": [
    {
     "name": "stdout",
     "output_type": "stream",
     "text": [
      "All test cases passed!\n"
     ]
    }
   ],
   "source": [
    "\"\"\" # BEGIN TEST CONFIG\n",
    "success_message: Note that the Gradescope autograder will deduct points if your code fails the following rubric point - 'incorrect logic is used to answer (-1)'.The public tests cannot determine if your code satisfies these requirements. Verify your code manually.\n",
    "\"\"\" # END TEST CONFIG\n",
    "\n",
    "public_tests.rubric_check('q19: incorrect logic is used to answer')"
   ]
  },
  {
   "cell_type": "markdown",
   "id": "7fc54d31",
   "metadata": {},
   "source": [
    "## IGNORE ##\n",
    "\n",
    "#### Hidden Test\n",
    "\n",
    "**rubric item:** `planets_list` and `stars_dict` data structures are not used to answer\n",
    "\n",
    "**points:** 2\n",
    "\n",
    "**reason for rubric:** These data structures have already been defined, and store the required data, so it would be wasteful to answer this question without making use of these data structures.\n",
    "\n",
    "**test notebook details:** These data structures are replaced with data structures that store different data from the correct data structures. The data structure `stars_dict` is first defined correctly. Then, using a fixed random seed, the *values* mapped to each *key* in the dictionary are shuffled. Similarly, `planets_list` is first defined correctly. Then, using a fixed random seed, each attribute of the `Planet` namedtuple objects are shuffled across all the objects in `planets_list`. "
   ]
  },
  {
   "cell_type": "code",
   "execution_count": 143,
   "id": "e18640c7",
   "metadata": {
    "execution": {
     "iopub.execute_input": "2024-04-09T16:13:45.640207Z",
     "iopub.status.busy": "2024-04-09T16:13:45.640136Z",
     "iopub.status.idle": "2024-04-09T16:13:45.696935Z",
     "shell.execute_reply": "2024-04-09T16:13:45.696670Z"
    }
   },
   "outputs": [
    {
     "name": "stdout",
     "output_type": "stream",
     "text": [
      "All test cases passed!"
     ]
    },
    {
     "name": "stdout",
     "output_type": "stream",
     "text": [
      "\n"
     ]
    }
   ],
   "source": [
    "\"\"\" # BEGIN TEST CONFIG\n",
    "success_message: Note that the Gradescope autograder will deduct points if your code fails the following rubric point - '`planets_list` and `stars_dict` data structures are not used to answer (-2)'.The public tests cannot determine if your code satisfies these requirements. Verify your code manually.\n",
    "\"\"\" # END TEST CONFIG\n",
    "\n",
    "public_tests.rubric_check('q19: `planets_list` and `stars_dict` data structures are not used to answer')"
   ]
  },
  {
   "cell_type": "code",
   "execution_count": 144,
   "id": "45aa5c58",
   "metadata": {
    "execution": {
     "iopub.execute_input": "2024-04-09T16:13:45.698194Z",
     "iopub.status.busy": "2024-04-09T16:13:45.698125Z",
     "iopub.status.idle": "2024-04-09T16:13:45.754414Z",
     "shell.execute_reply": "2024-04-09T16:13:45.754171Z"
    }
   },
   "outputs": [
    {
     "name": "stdout",
     "output_type": "stream",
     "text": [
      "All test cases passed!\n"
     ]
    }
   ],
   "source": [
    "public_tests.rubric_check('q19: public tests')"
   ]
  },
  {
   "cell_type": "raw",
   "id": "869a9a45",
   "metadata": {},
   "source": [
    "# END TESTS"
   ]
  },
  {
   "cell_type": "raw",
   "id": "70557e75",
   "metadata": {
    "lines_to_next_cell": 0
   },
   "source": [
    "# END QUESTION"
   ]
  },
  {
   "cell_type": "raw",
   "id": "7024b13e",
   "metadata": {},
   "source": [
    "# BEGIN QUESTION\n",
    "name: q20\n",
    "points: 0"
   ]
  },
  {
   "cell_type": "markdown",
   "id": "3960389a",
   "metadata": {},
   "source": [
    "**Question 20:** Find all the `Planet` objects that orbit the **youngest** `Star` object.\n",
    "\n",
    "Your output **must** be a **list** of `Planet` objects (even if there is **only one** `Planet` in the list). The age of a `Star` can be found from its `stellar_age` column. You do **not** have to worry about any ties. There is a **unique** `Star` in the dataset which is the youngest star."
   ]
  },
  {
   "cell_type": "raw",
   "id": "697996f5",
   "metadata": {
    "lines_to_next_cell": 0
   },
   "source": [
    "# BEGIN SOLUTION"
   ]
  },
  {
   "cell_type": "code",
   "execution_count": 145,
   "id": "47751dc8",
   "metadata": {
    "execution": {
     "iopub.execute_input": "2024-04-09T16:13:45.755884Z",
     "iopub.status.busy": "2024-04-09T16:13:45.755811Z",
     "iopub.status.idle": "2024-04-09T16:13:45.759249Z",
     "shell.execute_reply": "2024-04-09T16:13:45.759037Z"
    },
    "lines_to_next_cell": 0
   },
   "outputs": [
    {
     "data": {
      "text/plain": [
       "[Planet(planet_name='Kepler-1663 b', host_name='Kepler-1663', discovery_method='Transit', discovery_year=2020, controversial_flag=False, orbital_period=17.6046, planet_radius=3.304, planet_mass=10.9, semi_major_radius=0.1072, eccentricity=0.0, equilibrium_temperature=362.0, insolation_flux=4.07)]"
      ]
     },
     "execution_count": 145,
     "metadata": {},
     "output_type": "execute_result"
    }
   ],
   "source": [
    "# compute and store the answer in the variable 'youngest_star_planets', then display it\n",
    "\n",
    "# BEGIN SOLUTION NO PROMPT\n",
    "youngest_star = None\n",
    "for star_name in stars_dict:\n",
    "    star = stars_dict[star_name]\n",
    "    if star.stellar_age == None:\n",
    "        continue\n",
    "    if youngest_star == None or star.stellar_age <= stars_dict[youngest_star].stellar_age:\n",
    "        youngest_star = star_name\n",
    "\n",
    "youngest_star_planets = []\n",
    "for planet in planets_list:\n",
    "    if planet.host_name == youngest_star:\n",
    "        youngest_star_planets.append(planet)\n",
    "        \n",
    "youngest_star_planets\n",
    "# END SOLUTION"
   ]
  },
  {
   "cell_type": "raw",
   "id": "f5829adb",
   "metadata": {},
   "source": [
    "# END SOLUTION"
   ]
  },
  {
   "cell_type": "raw",
   "id": "88eb6c52",
   "metadata": {},
   "source": [
    "# BEGIN TESTS"
   ]
  },
  {
   "cell_type": "markdown",
   "id": "951b304a",
   "metadata": {},
   "source": [
    "## IGNORE ##\n",
    "\n",
    "#### Public Test\n",
    "\n",
    "**points:** 5\n",
    "\n",
    "**format:** TEXT_FORMAT_UNORDERED_LIST\n",
    "\n",
    "**answer:** youngest_star_planets"
   ]
  },
  {
   "cell_type": "code",
   "execution_count": 146,
   "id": "8b1c699d",
   "metadata": {
    "execution": {
     "iopub.execute_input": "2024-04-09T16:13:45.760566Z",
     "iopub.status.busy": "2024-04-09T16:13:45.760503Z",
     "iopub.status.idle": "2024-04-09T16:13:45.762155Z",
     "shell.execute_reply": "2024-04-09T16:13:45.761925Z"
    }
   },
   "outputs": [
    {
     "name": "stdout",
     "output_type": "stream",
     "text": [
      "All test cases passed!\n"
     ]
    }
   ],
   "source": [
    "public_tests.check('q20', youngest_star_planets)"
   ]
  },
  {
   "cell_type": "markdown",
   "id": "eb2ce395",
   "metadata": {},
   "source": [
    "## IGNORE ##\n",
    "\n",
    "#### Hidden Test\n",
    "\n",
    "**rubric item:** answer does not include all Planets that orbit the Star\n",
    "\n",
    "**points:** 1\n",
    "\n",
    "**reason for rubric:** The question asks for all `Planets` that orbit the youngest `Star`, not just the first.\n",
    "\n",
    "**test dataset details:** The dataset is completely modified. The files `stars_1.csv`, ..., `stars_5.csv` are all parsed. One of these files is chosen at random, and one row is chosen at random from this file. Apart from this one row in this one file, all other `Stellar Age [Gyr]` values are set to be some number between `1.0` and `15.0`. However, for this one special row, the `Stellar Age [Gyr]` value is set to be `0.0`. The corresponding file in `mapping_1.json`, ..., `mapping_5.json` is then parsed, and multiple planets are modified so that they map to the `Star Name` of the special star identified earlier."
   ]
  },
  {
   "cell_type": "code",
   "execution_count": 147,
   "id": "fee64aae",
   "metadata": {
    "execution": {
     "iopub.execute_input": "2024-04-09T16:13:45.763326Z",
     "iopub.status.busy": "2024-04-09T16:13:45.763257Z",
     "iopub.status.idle": "2024-04-09T16:13:45.820157Z",
     "shell.execute_reply": "2024-04-09T16:13:45.819880Z"
    }
   },
   "outputs": [
    {
     "name": "stdout",
     "output_type": "stream",
     "text": [
      "All test cases passed!\n"
     ]
    }
   ],
   "source": [
    "\"\"\" # BEGIN TEST CONFIG\n",
    "success_message: Note that the Gradescope autograder will deduct points if your code fails the following rubric point - 'answer does not include all Planets that orbit the Star (-1)'.The public tests cannot determine if your code satisfies these requirements. Verify your code manually.\n",
    "\"\"\" # END TEST CONFIG\n",
    "\n",
    "public_tests.rubric_check('q20: answer does not include all Planets that orbit the Star')"
   ]
  },
  {
   "cell_type": "markdown",
   "id": "305bc9b9",
   "metadata": {},
   "source": [
    "## IGNORE ##\n",
    "\n",
    "#### Hidden Test\n",
    "\n",
    "**rubric item:** incorrect logic is used to answer\n",
    "\n",
    "**points:** 1\n",
    "\n",
    "**reason for rubric:** It is possible to obtain the correct answer even with logically incorrect code.\n",
    "\n",
    "**test dataset details:** The dataset is completely modified. The files `stars_1.csv`, ..., `stars_5.csv` are all parsed. One row is chosen at random from `stars_1.csv`. Apart from this one row in this one file, all other `Stellar Age [Gyr]` values are set to be some number between `20.0` and `55.0`. However, for this one special row, the `Stellar Age [Gyr]` value is set to be `4.0`."
   ]
  },
  {
   "cell_type": "code",
   "execution_count": 148,
   "id": "b12156b0",
   "metadata": {
    "execution": {
     "iopub.execute_input": "2024-04-09T16:13:45.821516Z",
     "iopub.status.busy": "2024-04-09T16:13:45.821442Z",
     "iopub.status.idle": "2024-04-09T16:13:45.877856Z",
     "shell.execute_reply": "2024-04-09T16:13:45.877636Z"
    }
   },
   "outputs": [
    {
     "name": "stdout",
     "output_type": "stream",
     "text": [
      "All test cases passed!\n"
     ]
    }
   ],
   "source": [
    "\"\"\" # BEGIN TEST CONFIG\n",
    "success_message: Note that the Gradescope autograder will deduct points if your code fails the following rubric point - 'incorrect logic is used to answer (-1)'.The public tests cannot determine if your code satisfies these requirements. Verify your code manually.\n",
    "\"\"\" # END TEST CONFIG\n",
    "\n",
    "public_tests.rubric_check('q20: incorrect logic is used to answer')"
   ]
  },
  {
   "cell_type": "markdown",
   "id": "db28a87b",
   "metadata": {},
   "source": [
    "## IGNORE ##\n",
    "\n",
    "#### Hidden Test\n",
    "\n",
    "**rubric item:** `planets_list` and `stars_dict` data structures are not used to answer\n",
    "\n",
    "**points:** 2\n",
    "\n",
    "**reason for rubric:** These data structures have already been defined, and store the required data, so it would be wasteful to answer this question without making use of these data structures.\n",
    "\n",
    "**test notebook details:** These data structures are replaced with data structures that store different data from the correct data structures. The data structure `stars_dict` is first defined correctly. Then, using a fixed random seed, the *values* mapped to each *key* in the dictionary are shuffled. Similarly, `planets_list` is first defined correctly. Then, using a fixed random seed, each attribute of the `Planet` namedtuple objects are shuffled across all the objects in `planets_list`. "
   ]
  },
  {
   "cell_type": "code",
   "execution_count": 149,
   "id": "dad35d77",
   "metadata": {
    "execution": {
     "iopub.execute_input": "2024-04-09T16:13:45.879062Z",
     "iopub.status.busy": "2024-04-09T16:13:45.878994Z",
     "iopub.status.idle": "2024-04-09T16:13:45.935333Z",
     "shell.execute_reply": "2024-04-09T16:13:45.935105Z"
    }
   },
   "outputs": [
    {
     "name": "stdout",
     "output_type": "stream",
     "text": [
      "All test cases passed!\n"
     ]
    }
   ],
   "source": [
    "\"\"\" # BEGIN TEST CONFIG\n",
    "success_message: Note that the Gradescope autograder will deduct points if your code fails the following rubric point - '`planets_list` and `stars_dict` data structures are not used to answer (-2)'.The public tests cannot determine if your code satisfies these requirements. Verify your code manually.\n",
    "\"\"\" # END TEST CONFIG\n",
    "\n",
    "public_tests.rubric_check('q20: `planets_list` and `stars_dict` data structures are not used to answer')"
   ]
  },
  {
   "cell_type": "code",
   "execution_count": 150,
   "id": "0719d351",
   "metadata": {
    "execution": {
     "iopub.execute_input": "2024-04-09T16:13:45.936556Z",
     "iopub.status.busy": "2024-04-09T16:13:45.936489Z",
     "iopub.status.idle": "2024-04-09T16:13:45.992797Z",
     "shell.execute_reply": "2024-04-09T16:13:45.992574Z"
    }
   },
   "outputs": [
    {
     "name": "stdout",
     "output_type": "stream",
     "text": [
      "All test cases passed!\n"
     ]
    }
   ],
   "source": [
    "public_tests.rubric_check('q20: public tests')"
   ]
  },
  {
   "cell_type": "raw",
   "id": "f1967d00",
   "metadata": {},
   "source": [
    "# END TESTS"
   ]
  },
  {
   "cell_type": "raw",
   "id": "aa7c609d",
   "metadata": {},
   "source": [
    "# END QUESTION"
   ]
  },
  {
   "cell_type": "raw",
   "id": "0017426e",
   "metadata": {},
   "source": [
    "# BEGIN QUESTION\n",
    "name: general_deductions\n",
    "points: 0"
   ]
  },
  {
   "cell_type": "raw",
   "id": "94c664af",
   "metadata": {},
   "source": [
    "# BEGIN TESTS"
   ]
  },
  {
   "cell_type": "markdown",
   "id": "67487f5f",
   "metadata": {},
   "source": [
    "## IGNORE ##\n",
    "\n",
    "#### Hidden Test\n",
    "\n",
    "**rubric item:** Outputs not visible/did not save the notebook file prior to running the cell containing \"export\". We cannot see your output if you do not save before generating the zip file.\n",
    "\n",
    "**points:** 3"
   ]
  },
  {
   "cell_type": "code",
   "execution_count": 151,
   "id": "09986fe0",
   "metadata": {
    "execution": {
     "iopub.execute_input": "2024-04-09T16:13:45.994178Z",
     "iopub.status.busy": "2024-04-09T16:13:45.994112Z",
     "iopub.status.idle": "2024-04-09T16:13:46.050553Z",
     "shell.execute_reply": "2024-04-09T16:13:46.050298Z"
    }
   },
   "outputs": [
    {
     "name": "stdout",
     "output_type": "stream",
     "text": [
      "All test cases passed!\n"
     ]
    }
   ],
   "source": [
    "\"\"\" # BEGIN TEST CONFIG\n",
    "success_message: Note that the Gradescope autograder will deduct points if your code fails the following rubric point - 'Outputs not visible/did not save the notebook file prior to running the cell containing \"export\". We cannot see your output if you do not save before generating the zip file. (-3)'.The public tests cannot determine if your code satisfies these requirements. Verify your code manually.\n",
    "\"\"\" # END TEST CONFIG\n",
    "\n",
    "public_tests.rubric_check('general_deductions: Outputs not visible/did not save the notebook file prior to running the cell containing \"export\". We cannot see your output if you do not save before generating the zip file.')"
   ]
  },
  {
   "cell_type": "markdown",
   "id": "8c9ac8f4",
   "metadata": {},
   "source": [
    "## IGNORE ##\n",
    "\n",
    "#### Hidden Test\n",
    "\n",
    "**rubric item:** Used concepts/modules such as csv.DictReader and pandas not covered in class yet. Note that built-in functions that you have been introduced to can be used.\n",
    "\n",
    "**points:** 3"
   ]
  },
  {
   "cell_type": "code",
   "execution_count": 152,
   "id": "3efab425",
   "metadata": {
    "execution": {
     "iopub.execute_input": "2024-04-09T16:13:46.051759Z",
     "iopub.status.busy": "2024-04-09T16:13:46.051692Z",
     "iopub.status.idle": "2024-04-09T16:13:46.107729Z",
     "shell.execute_reply": "2024-04-09T16:13:46.107487Z"
    }
   },
   "outputs": [
    {
     "name": "stdout",
     "output_type": "stream",
     "text": [
      "All test cases passed!\n"
     ]
    }
   ],
   "source": [
    "\"\"\" # BEGIN TEST CONFIG\n",
    "success_message: Note that the Gradescope autograder will deduct points if your code fails the following rubric point - 'Used concepts/modules such as csv.DictReader and pandas not covered in class yet. Note that built-in functions that you have been introduced to can be used. (-3)'.The public tests cannot determine if your code satisfies these requirements. Verify your code manually.\n",
    "\"\"\" # END TEST CONFIG\n",
    "\n",
    "public_tests.rubric_check('general_deductions: Used concepts/modules such as csv.DictReader and pandas not covered in class yet. Note that built-in functions that you have been introduced to can be used.')"
   ]
  },
  {
   "cell_type": "markdown",
   "id": "9976124e",
   "metadata": {},
   "source": [
    "## IGNORE ##\n",
    "\n",
    "#### Hidden Test\n",
    "\n",
    "**rubric item:** Used bare try/except blocks without explicitly specifying the type of exceptions that need to be caught\n",
    "\n",
    "**points:** 3"
   ]
  },
  {
   "cell_type": "code",
   "execution_count": 153,
   "id": "31032a98",
   "metadata": {
    "execution": {
     "iopub.execute_input": "2024-04-09T16:13:46.108922Z",
     "iopub.status.busy": "2024-04-09T16:13:46.108853Z",
     "iopub.status.idle": "2024-04-09T16:13:46.164604Z",
     "shell.execute_reply": "2024-04-09T16:13:46.164387Z"
    }
   },
   "outputs": [
    {
     "name": "stdout",
     "output_type": "stream",
     "text": [
      "All test cases passed!\n"
     ]
    }
   ],
   "source": [
    "\"\"\" # BEGIN TEST CONFIG\n",
    "success_message: Note that the Gradescope autograder will deduct points if your code fails the following rubric point - 'Used bare try/except blocks without explicitly specifying the type of exceptions that need to be caught (-3)'.The public tests cannot determine if your code satisfies these requirements. Verify your code manually.\n",
    "\"\"\" # END TEST CONFIG\n",
    "\n",
    "public_tests.rubric_check('general_deductions: Used bare try/except blocks without explicitly specifying the type of exceptions that need to be caught')"
   ]
  },
  {
   "cell_type": "markdown",
   "id": "cd9f9645",
   "metadata": {},
   "source": [
    "## IGNORE ##\n",
    "\n",
    "#### Hidden Test\n",
    "\n",
    "**rubric item:** Large outputs such as stars_dict or planets_list are displayed in the notebook.\n",
    "\n",
    "**points:** 3"
   ]
  },
  {
   "cell_type": "code",
   "execution_count": 154,
   "id": "0bc3799e",
   "metadata": {
    "execution": {
     "iopub.execute_input": "2024-04-09T16:13:46.165777Z",
     "iopub.status.busy": "2024-04-09T16:13:46.165713Z",
     "iopub.status.idle": "2024-04-09T16:13:46.221667Z",
     "shell.execute_reply": "2024-04-09T16:13:46.221448Z"
    }
   },
   "outputs": [
    {
     "name": "stdout",
     "output_type": "stream",
     "text": [
      "All test cases passed!\n"
     ]
    }
   ],
   "source": [
    "\"\"\" # BEGIN TEST CONFIG\n",
    "success_message: Note that the Gradescope autograder will deduct points if your code fails the following rubric point - 'Large outputs such as stars_dict or planets_list are displayed in the notebook. (-3)'.The public tests cannot determine if your code satisfies these requirements. Verify your code manually.\n",
    "\"\"\" # END TEST CONFIG\n",
    "\n",
    "public_tests.rubric_check('general_deductions: Large outputs such as stars_dict or planets_list are displayed in the notebook.')"
   ]
  },
  {
   "cell_type": "markdown",
   "id": "3430313d",
   "metadata": {},
   "source": [
    "## IGNORE ##\n",
    "\n",
    "#### Hidden Test\n",
    "\n",
    "**rubric item:** Import statements are not mentioned in the required cell at the top of the notebook.\n",
    "\n",
    "**points:** 1"
   ]
  },
  {
   "cell_type": "code",
   "execution_count": 155,
   "id": "45748802",
   "metadata": {
    "execution": {
     "iopub.execute_input": "2024-04-09T16:13:46.222870Z",
     "iopub.status.busy": "2024-04-09T16:13:46.222799Z",
     "iopub.status.idle": "2024-04-09T16:13:46.278885Z",
     "shell.execute_reply": "2024-04-09T16:13:46.278623Z"
    }
   },
   "outputs": [
    {
     "name": "stdout",
     "output_type": "stream",
     "text": [
      "All test cases passed!\n"
     ]
    }
   ],
   "source": [
    "\"\"\" # BEGIN TEST CONFIG\n",
    "success_message: Note that the Gradescope autograder will deduct points if your code fails the following rubric point - 'Import statements are not mentioned in the required cell at the top of the notebook. (-1)'.The public tests cannot determine if your code satisfies these requirements. Verify your code manually.\n",
    "\"\"\" # END TEST CONFIG\n",
    "\n",
    "public_tests.rubric_check('general_deductions: Import statements are not mentioned in the required cell at the top of the notebook.')"
   ]
  },
  {
   "cell_type": "raw",
   "id": "9cce1a61",
   "metadata": {},
   "source": [
    "# END TESTS"
   ]
  },
  {
   "cell_type": "raw",
   "id": "95117afc",
   "metadata": {},
   "source": [
    "# END QUESTION"
   ]
  },
  {
   "cell_type": "raw",
   "id": "01cac758",
   "metadata": {},
   "source": [
    "# BEGIN QUESTION\n",
    "name: summary\n",
    "points: 127"
   ]
  },
  {
   "cell_type": "raw",
   "id": "7aae3c21",
   "metadata": {},
   "source": [
    "# BEGIN TESTS"
   ]
  },
  {
   "cell_type": "code",
   "execution_count": 156,
   "id": "a6790d04",
   "metadata": {
    "execution": {
     "iopub.execute_input": "2024-04-09T16:13:46.280393Z",
     "iopub.status.busy": "2024-04-09T16:13:46.280327Z",
     "iopub.status.idle": "2024-04-09T16:13:46.294763Z",
     "shell.execute_reply": "2024-04-09T16:13:46.294547Z"
    }
   },
   "outputs": [],
   "source": [
    "\"\"\" # BEGIN TEST CONFIG\n",
    "points: 0\n",
    "hidden: true\n",
    "\"\"\" # END TEST CONFIG\n",
    "\n",
    "public_tests.detect_public_tests()"
   ]
  },
  {
   "cell_type": "code",
   "execution_count": 157,
   "id": "d94faaa1",
   "metadata": {
    "execution": {
     "iopub.execute_input": "2024-04-09T16:13:46.295866Z",
     "iopub.status.busy": "2024-04-09T16:13:46.295803Z",
     "iopub.status.idle": "2024-04-09T16:13:46.336022Z",
     "shell.execute_reply": "2024-04-09T16:13:46.335777Z"
    }
   },
   "outputs": [
    {
     "data": {
      "text/plain": [
       "True"
      ]
     },
     "execution_count": 157,
     "metadata": {},
     "output_type": "execute_result"
    }
   ],
   "source": [
    "\"\"\" # BEGIN TEST CONFIG\n",
    "points: 64\n",
    "hidden: true\n",
    "\"\"\" # END TEST CONFIG\n",
    "\n",
    "public_tests.get_score_digit(6) == 1"
   ]
  },
  {
   "cell_type": "code",
   "execution_count": 158,
   "id": "eddca229",
   "metadata": {
    "execution": {
     "iopub.execute_input": "2024-04-09T16:13:46.337264Z",
     "iopub.status.busy": "2024-04-09T16:13:46.337193Z",
     "iopub.status.idle": "2024-04-09T16:13:46.352022Z",
     "shell.execute_reply": "2024-04-09T16:13:46.351799Z"
    }
   },
   "outputs": [
    {
     "data": {
      "text/plain": [
       "True"
      ]
     },
     "execution_count": 158,
     "metadata": {},
     "output_type": "execute_result"
    }
   ],
   "source": [
    "\"\"\" # BEGIN TEST CONFIG\n",
    "points: 32\n",
    "hidden: true\n",
    "\"\"\" # END TEST CONFIG\n",
    "\n",
    "public_tests.get_score_digit(5) == 1"
   ]
  },
  {
   "cell_type": "code",
   "execution_count": 159,
   "id": "467483b8",
   "metadata": {
    "execution": {
     "iopub.execute_input": "2024-04-09T16:13:46.353189Z",
     "iopub.status.busy": "2024-04-09T16:13:46.353126Z",
     "iopub.status.idle": "2024-04-09T16:13:46.367960Z",
     "shell.execute_reply": "2024-04-09T16:13:46.367758Z"
    }
   },
   "outputs": [
    {
     "data": {
      "text/plain": [
       "True"
      ]
     },
     "execution_count": 159,
     "metadata": {},
     "output_type": "execute_result"
    }
   ],
   "source": [
    "\"\"\" # BEGIN TEST CONFIG\n",
    "points: 16\n",
    "hidden: true\n",
    "\"\"\" # END TEST CONFIG\n",
    "\n",
    "public_tests.get_score_digit(4) == 1"
   ]
  },
  {
   "cell_type": "code",
   "execution_count": 160,
   "id": "afb29b65",
   "metadata": {
    "execution": {
     "iopub.execute_input": "2024-04-09T16:13:46.369120Z",
     "iopub.status.busy": "2024-04-09T16:13:46.369056Z",
     "iopub.status.idle": "2024-04-09T16:13:46.383934Z",
     "shell.execute_reply": "2024-04-09T16:13:46.383707Z"
    }
   },
   "outputs": [
    {
     "data": {
      "text/plain": [
       "True"
      ]
     },
     "execution_count": 160,
     "metadata": {},
     "output_type": "execute_result"
    }
   ],
   "source": [
    "\"\"\" # BEGIN TEST CONFIG\n",
    "points: 8\n",
    "hidden: true\n",
    "\"\"\" # END TEST CONFIG\n",
    "\n",
    "public_tests.get_score_digit(3) == 1"
   ]
  },
  {
   "cell_type": "code",
   "execution_count": 161,
   "id": "d2c47208",
   "metadata": {
    "execution": {
     "iopub.execute_input": "2024-04-09T16:13:46.385059Z",
     "iopub.status.busy": "2024-04-09T16:13:46.384993Z",
     "iopub.status.idle": "2024-04-09T16:13:46.399593Z",
     "shell.execute_reply": "2024-04-09T16:13:46.399398Z"
    }
   },
   "outputs": [
    {
     "data": {
      "text/plain": [
       "True"
      ]
     },
     "execution_count": 161,
     "metadata": {},
     "output_type": "execute_result"
    }
   ],
   "source": [
    "\"\"\" # BEGIN TEST CONFIG\n",
    "points: 4\n",
    "hidden: true\n",
    "\"\"\" # END TEST CONFIG\n",
    "\n",
    "public_tests.get_score_digit(2) == 1"
   ]
  },
  {
   "cell_type": "code",
   "execution_count": 162,
   "id": "4f5ca2b1",
   "metadata": {
    "execution": {
     "iopub.execute_input": "2024-04-09T16:13:46.400812Z",
     "iopub.status.busy": "2024-04-09T16:13:46.400747Z",
     "iopub.status.idle": "2024-04-09T16:13:46.415523Z",
     "shell.execute_reply": "2024-04-09T16:13:46.415292Z"
    }
   },
   "outputs": [
    {
     "data": {
      "text/plain": [
       "True"
      ]
     },
     "execution_count": 162,
     "metadata": {},
     "output_type": "execute_result"
    }
   ],
   "source": [
    "\"\"\" # BEGIN TEST CONFIG\n",
    "points: 2\n",
    "hidden: true\n",
    "\"\"\" # END TEST CONFIG\n",
    "\n",
    "public_tests.get_score_digit(1) == 1"
   ]
  },
  {
   "cell_type": "code",
   "execution_count": 163,
   "id": "211d41f6",
   "metadata": {
    "execution": {
     "iopub.execute_input": "2024-04-09T16:13:46.416677Z",
     "iopub.status.busy": "2024-04-09T16:13:46.416613Z",
     "iopub.status.idle": "2024-04-09T16:13:46.431506Z",
     "shell.execute_reply": "2024-04-09T16:13:46.431302Z"
    }
   },
   "outputs": [
    {
     "data": {
      "text/plain": [
       "True"
      ]
     },
     "execution_count": 163,
     "metadata": {},
     "output_type": "execute_result"
    }
   ],
   "source": [
    "\"\"\" # BEGIN TEST CONFIG\n",
    "points: 1\n",
    "hidden: true\n",
    "\"\"\" # END TEST CONFIG\n",
    "\n",
    "public_tests.get_score_digit(0) == 1"
   ]
  },
  {
   "cell_type": "code",
   "execution_count": 164,
   "id": "161a6ea5",
   "metadata": {
    "execution": {
     "iopub.execute_input": "2024-04-09T16:13:46.432609Z",
     "iopub.status.busy": "2024-04-09T16:13:46.432546Z",
     "iopub.status.idle": "2024-04-09T16:13:46.488362Z",
     "shell.execute_reply": "2024-04-09T16:13:46.488148Z"
    }
   },
   "outputs": [
    {
     "name": "stdout",
     "output_type": "stream",
     "text": [
      "Total Score: 100/100\n"
     ]
    }
   ],
   "source": [
    "\"\"\" # BEGIN TEST CONFIG\n",
    "success_message: Please submit your zip folder to Gradescope, and check your final score there. The Gradescope autograder will make deductions to your score based on the rubric.\n",
    "\"\"\" # END TEST CONFIG\n",
    "\n",
    "public_tests.get_summary()"
   ]
  },
  {
   "cell_type": "raw",
   "id": "d6b3911d",
   "metadata": {},
   "source": [
    "# END TESTS"
   ]
  },
  {
   "cell_type": "raw",
   "id": "b0dfdc00",
   "metadata": {},
   "source": [
    "# END QUESTION"
   ]
  }
 ],
 "metadata": {
  "jupytext": {
   "cell_metadata_filter": "-all",
   "encoding": "# coding: utf-8",
   "executable": "/usr/bin/env python",
   "notebook_metadata_filter": "-all"
  },
  "kernelspec": {
   "display_name": "Python 3 (ipykernel)",
   "language": "python",
   "name": "python3"
  },
  "language_info": {
   "codemirror_mode": {
    "name": "ipython",
    "version": 3
   },
   "file_extension": ".py",
   "mimetype": "text/x-python",
   "name": "python",
   "nbconvert_exporter": "python",
   "pygments_lexer": "ipython3",
   "version": "3.11.2"
  },
  "vscode": {
   "interpreter": {
    "hash": "14da47bd65ade4b245ff2b2e979dfbf7dfc83de2bd52e30e561cd592f0ba2dfc"
   }
  }
 },
 "nbformat": 4,
 "nbformat_minor": 5
}
