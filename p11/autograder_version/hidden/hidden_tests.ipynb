{
 "cells": [
  {
   "cell_type": "markdown",
   "id": "0b1b2de0",
   "metadata": {},
   "source": [
    "# Hidden Tests\n",
    "\n",
    "In this file, the hidden tests for all the rubric points are to be described. The tests for the individual rubric points are enclosed within `# BEGIN <rubric_point>` and `# END <rubric_point>` NBConvert cells. `hidden_tests.py` works by executing the contents of those cells between those two tags for each `<rubric_point>`. In order to initialize variables, `hidden_tests.py` also executes all code within `BEGIN` and `END` tags that appear before the `original` test.\n",
    "\n",
    "Code that is not enclosed within `BEGIN` and `END` tags are not executed by `hidden_tests.py`. They are used for generating the hidden datasets."
   ]
  },
  {
   "cell_type": "code",
   "execution_count": 1,
   "id": "4e8dd714",
   "metadata": {},
   "outputs": [],
   "source": [
    "from hidden_tests import *\n",
    "import otter_tests.gen_public_tests as gen_public_tests\n",
    "import os, csv, json, copy, shutil\n",
    "import random\n",
    "import numpy as np"
   ]
  },
  {
   "cell_type": "code",
   "execution_count": 2,
   "id": "ef81058a",
   "metadata": {},
   "outputs": [],
   "source": [
    "DIRECTORY = '..'\n",
    "FILE = 'p11.ipynb'"
   ]
  },
  {
   "cell_type": "code",
   "execution_count": 3,
   "id": "2f614845",
   "metadata": {},
   "outputs": [],
   "source": [
    "results = {}"
   ]
  },
  {
   "cell_type": "code",
   "execution_count": 4,
   "id": "a4b15ab7",
   "metadata": {},
   "outputs": [],
   "source": [
    "deductions = {}\n",
    "rubric = parse_rubric_file(os.path.join(DIRECTORY, \"rubric.md\"))\n",
    "directories = get_directories(rubric)\n",
    "comments = get_all_comments(directories)"
   ]
  },
  {
   "cell_type": "code",
   "execution_count": 5,
   "id": "efe76361",
   "metadata": {},
   "outputs": [],
   "source": [
    "def write_readme(data, write_path):\n",
    "    \"\"\"write_readme(data, write_path) writes the contents of `data` into the README.txt file `write_path`\"\"\"\n",
    "    f = open(write_path, encoding='utf-8')\n",
    "    rubric_point = f.read().split(\"\\n\")[0].strip(\" \\n\")\n",
    "    f.close()\n",
    "    \n",
    "    f = open(write_path, 'w', encoding='utf-8')\n",
    "    f.write(rubric_point + \"\\n\\n\" + data)\n",
    "    f.close()"
   ]
  },
  {
   "cell_type": "code",
   "execution_count": 6,
   "id": "6b9890bc",
   "metadata": {},
   "outputs": [],
   "source": [
    "def copy_over(src, trgt):\n",
    "    \"\"\"copy_over(src, trgt) copies the contents of `src` over to `trgt` if `src` is a file or a directory\"\"\"\n",
    "    if os.path.isfile(src):\n",
    "        if os.path.exists(trgt):\n",
    "            os.remove(trgt)\n",
    "        shutil.copy(src, trgt)\n",
    "    elif os.path.isdir(src):\n",
    "        if os.path.exists(trgt):\n",
    "            shutil.rmtree(trgt)\n",
    "        shutil.copy_tree(src, trgt)"
   ]
  },
  {
   "cell_type": "markdown",
   "id": "00eb6362",
   "metadata": {},
   "source": [
    "## Variables\n",
    "\n",
    "Useful variables that are used by many rubric tests can be stored here. The contents of this tag will be executed before each rubric test, so these variables get initialized before each rubric test."
   ]
  },
  {
   "cell_type": "raw",
   "id": "c9d7477c",
   "metadata": {},
   "source": [
    "# BEGIN variables"
   ]
  },
  {
   "cell_type": "markdown",
   "id": "86eafaee",
   "metadata": {},
   "source": [
    "`verify_fn_defn` defines the function `verify_fn` which is used for verifying if the function `expected` and `actual` have the same outputs for all permutations of inputs from `var_lists`."
   ]
  },
  {
   "cell_type": "code",
   "execution_count": 7,
   "id": "475a0f6a",
   "metadata": {},
   "outputs": [],
   "source": [
    "verify_fn_defn = \"\"\"\n",
    "def verify_fn(expected, actual, var_inputs, test_format):\n",
    "    for var in var_inputs:\n",
    "        try:\n",
    "            actual_val = actual(*var)\n",
    "        except Exception as e:\n",
    "            output = \"%s results: \" % actual.__name__\n",
    "            output += \"%s error enountered on %s%s\" % (type(e).__name__, actual.__name__, repr(var))\n",
    "            return output\n",
    "        expected_val = expected(*var)\n",
    "        check = public_tests.compare(expected_val, actual_val, test_format)\n",
    "        if check != public_tests.PASS:\n",
    "            output = \"%s results: \" % actual.__name__\n",
    "            output += \"%s%s output: %s\" % (actual.__name__, repr(var), check)\n",
    "            return output\n",
    "    return \"%s results: All test cases passed!\" % actual.__name__\"\"\""
   ]
  },
  {
   "cell_type": "markdown",
   "id": "f689911b",
   "metadata": {},
   "source": [
    "`function_dependencies_functions` stores the previously defined functions that each function definition invokes. This variable is used for rubric points that the logical correctness of functions as well as those that check whether a required function is used. For these rubric points, when we test a particular function, we use `function_dependencies_functions` to ensure that all the functions that it depends on are replaced with logically correct versions. This helps isolate the issue with the functions."
   ]
  },
  {
   "cell_type": "code",
   "execution_count": 8,
   "id": "307ebda4",
   "metadata": {},
   "outputs": [],
   "source": [
    "function_dependencies_functions = {}\n",
    "function_dependencies_functions['star_cell'] = []\n",
    "function_dependencies_functions['get_stars'] = ['star_cell']\n",
    "function_dependencies_functions['planet_cell'] = []\n",
    "function_dependencies_functions['get_planets'] = ['planet_cell']\n",
    "function_dependencies_functions['get_all_paths_in'] = []\n",
    "function_dependencies_functions['get_surface_gravity'] = ['get_planets', 'planet_cell']\n",
    "function_dependencies_functions['get_distances_to_star'] = ['get_planets', 'planet_cell']\n",
    "function_dependencies_functions['get_liquid_water_distances'] = ['get_stars', 'star_cell', 'get_planets', 'planet_cell']\n",
    "function_dependencies_functions['get_surface_temperatures'] = ['get_planets', 'planet_cell']"
   ]
  },
  {
   "cell_type": "markdown",
   "id": "7153663c",
   "metadata": {},
   "source": [
    "`function_dependencies_data_structures` stores the previously defined data structures that each function definition invokes. This variable is used for rubric points that the logical correctness of functions as well as those that check whether a required function is used. For these rubric points, when we test a particular function, we use `function_dependencies_data_structures` to ensure that all the data structures that it depends on are replaced with logically correct versions. This helps isolate the issue with the functions."
   ]
  },
  {
   "cell_type": "code",
   "execution_count": 9,
   "id": "935aaa01",
   "metadata": {},
   "outputs": [],
   "source": [
    "function_dependencies_data_structures = {}\n",
    "function_dependencies_data_structures['star_cell'] = []\n",
    "function_dependencies_data_structures['get_stars'] = ['Star']\n",
    "function_dependencies_data_structures['planet_cell'] = []\n",
    "function_dependencies_data_structures['get_planets'] = ['Planet']\n",
    "function_dependencies_data_structures['get_all_paths_in'] = []\n",
    "function_dependencies_data_structures['get_surface_gravity'] = ['all_planets_list', 'planets_list', 'Planet']\n",
    "function_dependencies_data_structures['get_distances_to_star'] = ['all_planets_list', 'planets_list', 'Planet']\n",
    "function_dependencies_data_structures['get_liquid_water_distances'] = ['Star', 'stars_dict', 'all_planets_list', 'planets_list', 'Planet']\n",
    "function_dependencies_data_structures['get_surface_temperatures'] = ['all_planets_list', 'planets_list', 'Planet']"
   ]
  },
  {
   "cell_type": "markdown",
   "id": "d5bed966",
   "metadata": {},
   "source": [
    "`data_structure_dependencies_functions` stores the previously defined functions that each data structure definition invokes. This variable is used for rubric points that the logical correctness of functions as well as those that check whether a required data structure is used. For these rubric points, when we test a particular data structure, we use `data_structure_dependencies_functions` to ensure that all the functions that it depends on are replaced with logically correct versions. This helps isolate the issue with the data structures."
   ]
  },
  {
   "cell_type": "code",
   "execution_count": 10,
   "id": "2e015b9b",
   "metadata": {},
   "outputs": [],
   "source": [
    "data_structure_dependencies_functions = {}\n",
    "data_structure_dependencies_functions['Star'] = []\n",
    "data_structure_dependencies_functions['stars_dict'] = ['get_stars', 'star_cell']\n",
    "data_structure_dependencies_functions['Planet'] = []\n",
    "data_structure_dependencies_functions['planets_list'] = ['get_planets', 'planet_cell']\n",
    "data_structure_dependencies_functions['star_classes'] = ['get_stars', 'star_cell']\n",
    "data_structure_dependencies_functions['all_planets_list'] = ['get_planets', 'planet_cell']"
   ]
  },
  {
   "cell_type": "markdown",
   "id": "c61bdf98",
   "metadata": {},
   "source": [
    "`data_structure_dependencies_data_structures` stores the previously defined data structures that each data structure definition accesses. This variable is used for rubric points that the logical correctness of data structures as well as those that check whether a required data structure is used. For these rubric points, when we test a particular data structure, we use `data_structure_dependencies_data_structures` to ensure that all the data structures that it depends on are replaced with logically correct versions. This helps isolate the issue with the data structures."
   ]
  },
  {
   "cell_type": "code",
   "execution_count": 11,
   "id": "3db1a4df",
   "metadata": {},
   "outputs": [],
   "source": [
    "data_structure_dependencies_data_structures = {}\n",
    "data_structure_dependencies_data_structures['Star'] = []\n",
    "data_structure_dependencies_data_structures['stars_dict'] = ['Star']\n",
    "data_structure_dependencies_data_structures['Planet'] = []\n",
    "data_structure_dependencies_data_structures['planets_list'] = ['Planet']\n",
    "data_structure_dependencies_data_structures['star_classes'] = ['Star', 'stars_dict']\n",
    "data_structure_dependencies_data_structures['all_planets_list'] = ['planets_list', 'Planet'] "
   ]
  },
  {
   "cell_type": "raw",
   "id": "9fc84609",
   "metadata": {},
   "source": [
    "# END variables"
   ]
  },
  {
   "cell_type": "markdown",
   "id": "3bc9aa19",
   "metadata": {},
   "source": [
    "## Functions\n",
    "\n",
    "Useful functions that are used by many rubric tests can be stored here. The contents of this tag will be executed before each rubric test, so these function definitions get initialized before each rubric test."
   ]
  },
  {
   "cell_type": "raw",
   "id": "94d33069",
   "metadata": {},
   "source": [
    "# BEGIN functions"
   ]
  },
  {
   "cell_type": "markdown",
   "id": "cfdc1d3f",
   "metadata": {},
   "source": [
    "`replace_with_false_function` replaces the given `function` with the **false version** of the function, and also replaces all **dependent** functions and data structures with their **true versions**."
   ]
  },
  {
   "cell_type": "code",
   "execution_count": 12,
   "id": "a16ad9d6",
   "metadata": {},
   "outputs": [],
   "source": [
    "def replace_with_false_function(nb, function, false_function):\n",
    "    nb = replace_defn(nb, function, false_function)\n",
    "    \n",
    "    for dependent in function_dependencies_functions.get(function, []):\n",
    "        nb = replace_defn(nb, dependent, true_functions[dependent])\n",
    "    for dependent in function_dependencies_data_structures.get(function, []):\n",
    "        idx = find_all_cell_indices(nb, \"code\", \"grader.check('%s')\" % (dependent))[-1]\n",
    "        if idx == None:\n",
    "            idx = find_all_cell_indices(nb, \"markdown\", \"**Question 1:**\")[-1]\n",
    "        nb = inject_code(nb, idx, true_data_structures[dependent])\n",
    "        nb = remove_initializations(nb, dependent, start=idx+1)\n",
    "    return nb"
   ]
  },
  {
   "cell_type": "markdown",
   "id": "0e6ae4bd",
   "metadata": {},
   "source": [
    "`replace_with_false_data_structure` replaces the given `data_structure` with the **false** version of the data structure, and also replaces all **dependent** functions and data structures with their **true versions**."
   ]
  },
  {
   "cell_type": "code",
   "execution_count": 13,
   "id": "dc6f4937",
   "metadata": {},
   "outputs": [],
   "source": [
    "def replace_with_false_data_structure(nb, data_structure, false_data_structure):\n",
    "    idx = find_all_cell_indices(nb, \"code\", \"grader.check('%s')\" % (data_structure))[-1]\n",
    "    if idx == None:\n",
    "        idx = find_all_cell_indices(nb, \"markdown\", \"**Question 1:**\")[-1]\n",
    "    nb = inject_code(nb, idx, false_data_structure)\n",
    "    nb = remove_initializations(nb, data_structure, start=idx+1)\n",
    "    \n",
    "    for dependent in data_structure_dependencies_functions.get(data_structure, []):\n",
    "        nb = replace_defn(nb, dependent, true_functions[dependent])\n",
    "    for dependent in data_structure_dependencies_data_structures.get(data_structure, []):\n",
    "        idx = find_all_cell_indices(nb, \"code\", \"grader.check('%s')\" % (dependent))[-1]\n",
    "        if idx == None:\n",
    "            idx = find_all_cell_indices(nb, \"markdown\", \"**Question 1:**\")[-1]\n",
    "        nb = inject_code(nb, idx, true_data_structures[dependent])\n",
    "        nb = remove_initializations(nb, dependent, start=idx+1)\n",
    "    return nb"
   ]
  },
  {
   "cell_type": "markdown",
   "id": "21b8aa45",
   "metadata": {},
   "source": [
    "`get_test_text` returns test code that can be readily injected into the notebook. The input should be some code that updates the variable `test_output` and sets its value to be `\"All test cases passed!\"` when the conditions for passing the rubric test are met. This function will place this code inside a wrapper than ensures that it does not crash the student notebook during execution and also makes the output parsable."
   ]
  },
  {
   "cell_type": "code",
   "execution_count": 14,
   "id": "4b561fc6",
   "metadata": {},
   "outputs": [],
   "source": [
    "def get_test_text(qnum, test_code):\n",
    "    test_text = \"\\\"\\\"\\\"grader.check('%s')\\\"\\\"\\\"\\n\\n\" % (qnum)\n",
    "    test_text += \"test_output = '%s results: Test crashed!'\\n\" % (qnum)\n",
    "    test_text += add_try_except(test_code)\n",
    "    test_text += \"\\nprint(test_output)\"\n",
    "    return test_text"
   ]
  },
  {
   "cell_type": "markdown",
   "id": "0ba932dd",
   "metadata": {},
   "source": [
    "`inject_function_logic_check` injects code into the `nb` that detects whether `function` outputs the same as the **true version** of that function (all dependent functions and data structures are also replaced with their **true versions**) on all combinations of inputs from `var_lists`. The comparison between the outputs is performed assuming that the format of the answers is `test_format`."
   ]
  },
  {
   "cell_type": "code",
   "execution_count": 15,
   "id": "a0529145",
   "metadata": {},
   "outputs": [],
   "source": [
    "def inject_function_logic_check(nb, function, var_inputs_code, test_format=\"TEXT_FORMAT\"):\n",
    "    for dependent in function_dependencies_functions.get(function, []):\n",
    "        nb = replace_defn(nb, dependent, true_functions[dependent])\n",
    "    for dependent in function_dependencies_data_structures.get(function, []):\n",
    "        idx = find_all_cell_indices(nb, \"code\", \"grader.check('%s')\" % (dependent))[-1]\n",
    "        if idx == None:\n",
    "            idx = find_all_cell_indices(nb, \"markdown\", \"**Question 1:**\")[-1]\n",
    "        nb = inject_code(nb, idx, true_data_structures[dependent])\n",
    "        nb = remove_initializations(nb, dependent, start=idx+1)\n",
    "        \n",
    "    code = replace_call(true_functions[function], function, \"true_\"+function)\n",
    "    code += \"\\n\\n\" + verify_fn_defn\n",
    "    nb = inject_code(nb, len(nb['cells']), code)\n",
    "    test_code = var_inputs_code + \"\\n\"\n",
    "    test_code += \"test_output = verify_fn(true_%s, %s, var_inputs, '%s')\" % (function, function, test_format)\n",
    "    code = get_test_text(function, test_code)\n",
    "    nb = inject_code(nb, len(nb['cells']), code)\n",
    "    return nb"
   ]
  },
  {
   "cell_type": "markdown",
   "id": "dbc43cf8",
   "metadata": {},
   "source": [
    "`inject_data_structure_check` injects code into the `nb` that detects whether `data_structure` has the same value as the **true version** of that data structure (all dependent functions and data structures are also replaced with their **true versions**). The comparison between the outputs is performed assuming that the format of the answers is `test_format`."
   ]
  },
  {
   "cell_type": "code",
   "execution_count": 16,
   "id": "a17b0fb8",
   "metadata": {},
   "outputs": [],
   "source": [
    "def inject_data_structure_check(nb, data_structure, test_format=\"TEXT_FORMAT\"):\n",
    "    for dependent in data_structure_dependencies_functions.get(data_structure, []):\n",
    "        nb = replace_defn(nb, dependent, true_functions[dependent])\n",
    "    for dependent in data_structure_dependencies_data_structures.get(data_structure, []):\n",
    "        idx = find_all_cell_indices(nb, \"code\", \"grader.check('%s')\" % (dependent))[-1]\n",
    "        if idx == None:\n",
    "            idx = find_all_cell_indices(nb, \"markdown\", \"**Question 1:**\")[-1]\n",
    "        nb = inject_code(nb, idx, true_data_structures[dependent])\n",
    "        nb = remove_initializations(nb, dependent, start=idx+1)\n",
    "        \n",
    "    code = \"import copy\\n%s = copy.deepcopy(%s)\\n\\n\" % (data_structure, data_structure)\n",
    "    code += replace_variable(true_data_structures[data_structure], data_structure, \"true_\"+data_structure)\n",
    "    nb = inject_code(nb, len(nb['cells']), code)\n",
    "    \n",
    "    test_code = \"test_output = '%s results: '\" % (data_structure)\n",
    "    test_code += \"+ public_tests.compare(true_%s, %s, '%s')\" % (data_structure, data_structure, test_format)\n",
    "    code = get_test_text(data_structure, test_code)\n",
    "    nb = inject_code(nb, len(nb['cells']), code)\n",
    "    return nb"
   ]
  },
  {
   "cell_type": "code",
   "execution_count": 17,
   "id": "2630f9f2",
   "metadata": {},
   "outputs": [],
   "source": [
    "def new_clean_nb(nb):\n",
    "    return replace_slashes(clean_nb(nb))"
   ]
  },
  {
   "cell_type": "raw",
   "id": "9952fe4c",
   "metadata": {},
   "source": [
    "# END functions"
   ]
  },
  {
   "cell_type": "markdown",
   "id": "95789537",
   "metadata": {},
   "source": [
    "## Random Data Generation\n",
    "\n",
    "Here, functions are defined that can generate **random** data that is in the correct format.\n",
    "\n",
    "**Warning:** This is the most complex function in the file, and is likely to have some bugs in it. So, **verify** this function **carefully**. The following **requirements** for this function **will not** be met by the function generated by GPT, it is **your responsibility** to modify the function so as to meet these requirements. Otherwise, the datasets are unlikely to produce interesting outputs for the project questions.\n",
    "\n",
    "Here, functions are defined that can generate **random** data that is in the correct format\n",
    "\n",
    "* To one of the files `stars_3.csv`, ..., `stars_5.csv`, a star named `GJ 9827` must be added.\n",
    "* To one of the files `planets_2.csv`, ..., `planets_4.csv`, a planet named `b Cen AB b` must be added.\n",
    "* To the file `planets_5.csv`, a planet named `Kepler-197 e` must be added.\n",
    "* To the file `planets_4.csv`, a planet named `HD 20794 d` must be added."
   ]
  },
  {
   "cell_type": "code",
   "execution_count": 18,
   "id": "69bc2d90",
   "metadata": {},
   "outputs": [],
   "source": [
    "import os\n",
    "import json\n",
    "import csv\n",
    "import random\n",
    "import string\n",
    "from shutil import rmtree\n",
    "\n",
    "def random_data(directory, n=200, break_broken_data=False):\n",
    "    \"\"\"\n",
    "    Generates random datasets inside the given directory.\n",
    "\n",
    "    :param directory: The path to the project directory.\n",
    "    :param n: The number of data rows to generate for each file. Default 100.\n",
    "    \"\"\"\n",
    "    # Helper functions\n",
    "    def normal_distribution_random(min_value, max_value, center, spread, lower_bound, upper_bound):\n",
    "        while True:\n",
    "            # Generate a random number with a normal distribution\n",
    "            num = random.normalvariate(center, spread)\n",
    "            # Check if number is within the expected 90% range\n",
    "            if lower_bound <= num <= upper_bound:\n",
    "                return num\n",
    "            # If not, regenerate limited to min and max\n",
    "            if min_value <= num <= max_value:\n",
    "                return num\n",
    "\n",
    "    # Create base directories if not there\n",
    "    data_dir = os.path.join(directory, 'data')\n",
    "    broken_data_dir = os.path.join(directory, 'broken_data')\n",
    "\n",
    "    # Spectral types for use in random choice\n",
    "    spectral_letters = ['A', 'B', 'D', 'F', 'G', 'K', 'L', 'M', 'T', 'W']\n",
    "    spectral_numbers = [f'{float(num/4):g}' for num in range(0, 40)] + ['']*4\n",
    "    spectral_romans = ['', '', '', 'I', 'II', 'III', 'IV', 'V', 'VI']\n",
    "    spectral_types = [f\"{letter}{number}{roman}\" for letter in spectral_letters for number in spectral_numbers for roman in spectral_romans]\n",
    "    random.shuffle(spectral_types)\n",
    "    spectral_types = spectral_types[:(5*n)//2]\n",
    "\n",
    "    slash_types_1 = [f\"{type_1}/{type_2}\" for type_1 in spectral_types for type_2 in spectral_types]\n",
    "    random.shuffle(slash_types_1)\n",
    "    slash_types_1 = slash_types_1[:len(spectral_types)//8]\n",
    "\n",
    "    slash_types_2 = [f\"{type_1}/{roman}\" for type_1 in spectral_types for roman in spectral_romans]\n",
    "    random.shuffle(slash_types_2)\n",
    "    slash_types_2 = slash_types_2[:len(spectral_types)//8]\n",
    "\n",
    "    hyphen_types_1 = [f\"{type_1}-{type_2}\" for type_1 in spectral_types for type_2 in spectral_types]\n",
    "    random.shuffle(hyphen_types_1)\n",
    "    hyphen_types_1 = hyphen_types_1[:len(spectral_types)//8]\n",
    "\n",
    "    hyphen_types_2 = [f\"{type_1}-{roman}\" for type_1 in spectral_types for roman in spectral_romans]\n",
    "    random.shuffle(hyphen_types_2)\n",
    "    hyphen_types_2 = hyphen_types_2[:len(spectral_types)//8]\n",
    "\n",
    "    spectral_types.extend(slash_types_1)\n",
    "    spectral_types.extend(hyphen_types_1)\n",
    "    spectral_types.extend(slash_types_2)\n",
    "    spectral_types.extend(hyphen_types_2)\n",
    "    \n",
    "    # Discovery methods for use in random choice\n",
    "    discovery_methods = ['Astrometry', 'Disk Kinematics', 'Eclipse Timing Variations', 'Imaging', 'Microlensing',\n",
    "                         'Orbital Brightness Modulation', 'Pulsar Timing', 'Pulsation Timing Variations',\n",
    "                         'Radial Velocity', 'Transit', 'Transit Timing Variations']\n",
    "    \n",
    "    # Generate star and planet names\n",
    "    star_types = ['Kepler', 'TOI', '2MASS', 'HD', 'GJ', 'BD', 'CoRoT', 'EPIC', 'WASP', 'DP'] * 20\n",
    "    star_types.extend(['alf', 'bet', 'eps', 'gam', 'gam1', 'iot', 'kap', 'mu', 'mu2', 'nu', 'ome', 'omi', 'psi1', 'rho',\n",
    "                       'tau', 'ups', 'xi'])\n",
    "    star_numbers = list(range(1, 100))*1000\n",
    "    star_numbers.extend(list(range(1, 10000))*100)\n",
    "    star_numbers.extend(list(range(1, 100000)))\n",
    "    random.shuffle(star_numbers)\n",
    "    star_numbers = star_numbers[:(5*n)]\n",
    "    star_names = [f\"{star_type}{separator}{number}\" for star_type in star_types for separator in [\"-\", \" \"] for number in star_numbers]\n",
    "    random.shuffle(star_names)\n",
    "    star_names = list(set(star_names))[:5*n]\n",
    "    \n",
    "    if 'GJ 9827' in star_names:\n",
    "        star_names[star_names.index('GJ 9827')] = 'KMT 9827'\n",
    "    star_names[random.randint(2*n, 4*n-1)] = 'GJ 9827'\n",
    "    if 'b Cen AB' in star_names:\n",
    "        star_names[star_names.index('b Cen AB')] = 'b Cen'\n",
    "    star_names[random.randint(n, 4*n-1)] = 'b Cen AB'\n",
    "    if 'Kepler-197' in star_names:\n",
    "        star_names[star_names.index('Kepler-197')] = 'KMT 197'\n",
    "    star_names[random.randint(4*n, 5*n-1)] = 'Kepler-197'\n",
    "    if 'HD 20794' in star_names:\n",
    "        star_names[star_names.index('HD 20794')] = 'KMT 20794'\n",
    "    star_names[random.randint(3*n, 4*n-1)] = 'HD 20794'\n",
    "\n",
    "    # CSV file headers\n",
    "    stars_header = [\n",
    "        \"Star Name\", \"Spectral Type\", \"Stellar Effective Temperature [K]\",\n",
    "        \"Stellar Radius [Solar Radius]\", \"Stellar Mass [Solar mass]\",\n",
    "        \"Stellar Luminosity [log(Solar)]\", \"Stellar Surface Gravity [log10(cm/s**2)]\",\n",
    "        \"Stellar Age [Gyr]\"\n",
    "    ]\n",
    "    planets_header = [\n",
    "        \"Planet Name\", \"Discovery Method\", \"Discovery Year\", \"Controversial Flag\", \n",
    "        \"Orbital Period [days]\", \"Planet Radius [Earth Radius]\", \"Planet Mass [Earth Mass]\",\n",
    "        \"Orbit Semi-Major Axis [au]\", \"Eccentricity\", \"Equilibrium Temperature [K]\",\n",
    "        \"Insolation Flux [Earth Flux]\"\n",
    "    ]\n",
    "\n",
    "    # Generate five sets of stars and planets data\n",
    "    for i in range(1, 6):\n",
    "        planet_mappings = {}\n",
    "\n",
    "        stars_path = os.path.join(data_dir, f\"stars_{i}.csv\")\n",
    "        planets_path = os.path.join(data_dir, f\"planets_{i}.csv\")\n",
    "        mapping_path = os.path.join(data_dir, f\"mapping_{i}.json\")\n",
    "\n",
    "        with open(stars_path, mode='w', encoding='utf-8', newline='') as stars_file, \\\n",
    "             open(planets_path, mode='w', encoding='utf-8', newline='') as planets_file:\n",
    "\n",
    "            stars_writer = csv.DictWriter(stars_file, fieldnames=stars_header)\n",
    "            planets_writer = csv.DictWriter(planets_file, fieldnames=planets_header)\n",
    "\n",
    "            stars_writer.writeheader()\n",
    "            planets_writer.writeheader()\n",
    "\n",
    "            for j in range(n):\n",
    "                # Generate star data\n",
    "                star_name = star_names[(i-1)*n+j]\n",
    "                star_data = {\n",
    "                    \"Star Name\": star_name,\n",
    "                    \"Spectral Type\": random.choice(spectral_types),\n",
    "                    \"Stellar Effective Temperature [K]\": normal_distribution_random(\n",
    "                        415.0, 57000.0, 5257.5, 1568.5, 2500.0, 10000.0),\n",
    "                    \"Stellar Radius [Solar Radius]\": normal_distribution_random(\n",
    "                        0.01, 110.0, 25.075, 14.9625, 0.15, 50.0),\n",
    "                    \"Stellar Mass [Solar mass]\": normal_distribution_random(\n",
    "                        0.01, 11.0, 5.505, 3.4975, 0.01, 5.0),\n",
    "                    \"Stellar Luminosity [log(Solar)]\": normal_distribution_random(\n",
    "                        -6.1, 3.8, -0.2, 1.4, -2.2, 2.2),\n",
    "                    \"Stellar Surface Gravity [log10(cm/s**2)]\": normal_distribution_random(\n",
    "                        0.5, 8.0, 3.35, 1.775, 1.5, 5.2),\n",
    "                    \"Stellar Age [Gyr]\": normal_distribution_random(\n",
    "                        0.0, 14.9, 7.001, 4.1995, 0.002, 14.0),\n",
    "                }\n",
    "                stars_writer.writerow(star_data)\n",
    "\n",
    "                # Generate planet data, linking planets to the star\n",
    "                if random.randint(1, 2) == 1 or star_name in ['b Cen AB', 'Kepler-197', 'HD 20794']:\n",
    "                    planet_identifiers = list(string.ascii_lowercase)[:i]\n",
    "                else:\n",
    "                    planet_identifiers = [str(num) for num in range(1, 27)][:i]\n",
    "                planet_names = [f\"{star_name} {identifier}\" for identifier in planet_identifiers]\n",
    "                for planet_name in planet_names:\n",
    "                    planet_mappings[planet_name] = star_name\n",
    "                    planet_data = {\n",
    "                        \"Planet Name\": planet_name,\n",
    "                        \"Discovery Method\": random.choice(discovery_methods),\n",
    "                        \"Discovery Year\": int(normal_distribution_random(\n",
    "                            1992, 2023, 2019, 2.4, 2015, 2023)),\n",
    "                        \"Controversial Flag\": random.choices([0, 1], weights=[75, 25])[0],\n",
    "                        \"Orbital Period [days]\": normal_distribution_random(\n",
    "                            0.09, 402000000, 500.045, 289.9725, 0.09, 1000),\n",
    "                        \"Planet Radius [Earth Radius]\": normal_distribution_random(\n",
    "                            0.3, 77.0, 11.175, 6.4625, 0.35, 22.0),\n",
    "                        \"Planet Mass [Earth Mass]\": normal_distribution_random(\n",
    "                            0.02, 239000, 5001.0, 2843.5, 0.02, 10000),\n",
    "                        \"Orbit Semi-Major Axis [au]\": normal_distribution_random(\n",
    "                            0.0044, 7500.0, 100.0022, 60.00165, 0.01, 200.0),\n",
    "                        \"Eccentricity\": normal_distribution_random(\n",
    "                            0.0, 0.95, 0.05, 0.0285, 0.0, 0.1),\n",
    "                        \"Equilibrium Temperature [K]\": normal_distribution_random(\n",
    "                            35.0, 4500.0, 1100.0, 637.5, 200.0, 2000.0),\n",
    "                        \"Insolation Flux [Earth Flux]\": normal_distribution_random(\n",
    "                            0.0, 44900.0, 6000.0, 635.0, 0.2, 9000.0),\n",
    "                    }\n",
    "\n",
    "                    planets_writer.writerow(planet_data)\n",
    "\n",
    "        with open(mapping_path, 'w', encoding='utf-8') as mapping_file:\n",
    "            json.dump(planet_mappings, mapping_file)\n",
    "\n",
    "    # Delete contents of \"mapping_5.json\"\n",
    "    mapping_5_path = os.path.join(data_dir, \"mapping_5.json\")\n",
    "    with open(mapping_5_path, 'w', encoding='utf-8') as target:\n",
    "        target.write('}:{')\n",
    "\n",
    "    # Generate broken_data directory with mappings for planets_5.csv to stars_5.csv\n",
    "    # Splits mapping from planets_5.csv to different JSON files in broken_data directory\n",
    "    planets_5_total_mappings = planet_mappings\n",
    "    broken_data_sub_files = []\n",
    "    for subdir in os.walk(broken_data_dir):\n",
    "        for file in subdir[-1]:\n",
    "            if \".json\" in file:\n",
    "                broken_data_sub_files.append(os.path.join(subdir[0], file))\n",
    "    if break_broken_data: # Add or delete files to `broken_data` directory when needed\n",
    "        broken_data_sub_files.pop(random.randint(0, len(broken_data_sub_files)-1))\n",
    "        broken_data_sub_files.pop(random.randint(0, len(broken_data_sub_files)-1))\n",
    "        for i in range(5):\n",
    "            random_dir = os.path.dirname(random.choice(broken_data_sub_files))\n",
    "            broken_data_sub_files.append(os.path.join(random_dir, 'random.json'))\n",
    "            \n",
    "    split_mappings = []\n",
    "    for i in broken_data_sub_files: # Set up smaller mapping files\n",
    "        split_mappings.append({}) \n",
    "    for i, (planet, star) in enumerate(planets_5_total_mappings.items()):\n",
    "        split_mappings[i % len(broken_data_sub_files)][planet] = star\n",
    "    \n",
    "    if os.path.exists(broken_data_dir):\n",
    "        rmtree(broken_data_dir)\n",
    "    os.makedirs(broken_data_dir, exist_ok=True)\n",
    "\n",
    "    # Generate broken_data subdirectories and mapping json files\n",
    "    for i, sub_file in enumerate(broken_data_sub_files):\n",
    "        os.makedirs(os.path.dirname(sub_file), exist_ok=True)\n",
    "\n",
    "        with open(sub_file, 'w', encoding='utf-8') as file:\n",
    "            json.dump(split_mappings[i], file)"
   ]
  },
  {
   "cell_type": "markdown",
   "id": "1c26c761",
   "metadata": {},
   "source": [
    "## True Functions\n",
    "\n",
    "Here, the **correct** versions of all functions that are defined in the notebook are stored. These functions are compared against the functions in the student notebook to check for their correctness."
   ]
  },
  {
   "cell_type": "raw",
   "id": "73308546",
   "metadata": {},
   "source": [
    "# BEGIN true_functions"
   ]
  },
  {
   "cell_type": "code",
   "execution_count": 19,
   "id": "d15e0c63",
   "metadata": {},
   "outputs": [],
   "source": [
    "true_functions = {}"
   ]
  },
  {
   "cell_type": "code",
   "execution_count": 20,
   "id": "52a5790a",
   "metadata": {},
   "outputs": [],
   "source": [
    "true_functions['star_cell'] = \"\"\"\n",
    "import csv\n",
    "import os\n",
    "\n",
    "def process_csv(filename):\n",
    "    with open(filename) as file:\n",
    "        csv_reader = csv.reader(file)\n",
    "        list_data = list(csv_reader)\n",
    "        return list_data\n",
    "stars_1_csv = process_csv(os.path.join('data', 'stars_1.csv'))\n",
    "stars_header = stars_1_csv[0]\n",
    "stars_1_rows = stars_1_csv[1:]\n",
    "\n",
    "def star_cell(row_idx, col_name, stars_rows, header=stars_header):\n",
    "    col_idx = header.index(col_name)\n",
    "    val = stars_rows[row_idx][col_idx]\n",
    "    if val == '':\n",
    "        return None\n",
    "    elif col_name in ['Stellar Effective Temperature [K]', 'Stellar Radius [Solar Radius]', 'Stellar Mass [Solar mass]', 'Stellar Luminosity [log(Solar)]', 'Stellar Surface Gravity [log10(cm/s**2)]', 'Stellar Age [Gyr]']:\n",
    "        return float(val)\n",
    "    else:\n",
    "        return val\"\"\""
   ]
  },
  {
   "cell_type": "code",
   "execution_count": 21,
   "id": "244c3338",
   "metadata": {},
   "outputs": [],
   "source": [
    "true_functions['get_stars'] = \"\"\"\n",
    "import csv\n",
    "\n",
    "def process_csv(filename):\n",
    "    with open(filename) as file:\n",
    "        csv_reader = csv.reader(file)\n",
    "        list_data = list(csv_reader)\n",
    "        return list_data\n",
    "\n",
    "def get_stars(star_file):\n",
    "    stars_data = process_csv(star_file)\n",
    "    stars_header = stars_data[0]\n",
    "    stars_rows = stars_data[1:]\n",
    "    stars = {}\n",
    "    for row_idx in range(len(stars_rows)):\n",
    "        star_name = star_cell(row_idx, 'Star Name', stars_rows)\n",
    "        spectral_type = star_cell(row_idx, 'Spectral Type', stars_rows)\n",
    "        stellar_effective_temperature = star_cell(row_idx, 'Stellar Effective Temperature [K]', stars_rows)\n",
    "        stellar_radius = star_cell(row_idx, 'Stellar Radius [Solar Radius]', stars_rows)\n",
    "        stellar_mass = star_cell(row_idx, 'Stellar Mass [Solar mass]', stars_rows)\n",
    "        stellar_luminosity = star_cell(row_idx, 'Stellar Luminosity [log(Solar)]', stars_rows)\n",
    "        stellar_surface_gravity = star_cell(row_idx, 'Stellar Surface Gravity [log10(cm/s**2)]', stars_rows)\n",
    "        stellar_age = star_cell(row_idx, 'Stellar Age [Gyr]', stars_rows)\n",
    "        star = Star(spectral_type, stellar_effective_temperature, stellar_radius, stellar_mass, stellar_luminosity, stellar_surface_gravity, stellar_age)\n",
    "        stars[star_name] = star\n",
    "    return stars\"\"\""
   ]
  },
  {
   "cell_type": "code",
   "execution_count": 22,
   "id": "e61d5a81",
   "metadata": {},
   "outputs": [],
   "source": [
    "true_functions['planet_cell'] = \"\"\"\n",
    "import csv\n",
    "import os\n",
    "\n",
    "def process_csv(filename):\n",
    "    with open(filename) as file:\n",
    "        csv_reader = csv.reader(file)\n",
    "        list_data = list(csv_reader)\n",
    "        return list_data\n",
    "planets_1_csv = process_csv(os.path.join('data', 'planets_1.csv'))\n",
    "planets_header = planets_1_csv[0]\n",
    "planets_1_rows = planets_1_csv[1:]\n",
    "\n",
    "def planet_cell(row_idx, col_name, planets_rows, header=planets_header):\n",
    "    col_idx = header.index(col_name)\n",
    "    val = planets_rows[row_idx][col_idx]\n",
    "    if val == '':\n",
    "        return None\n",
    "    if col_name in ['Controversial Flag']:\n",
    "        if val == '1':\n",
    "            return True\n",
    "        else:\n",
    "            return False\n",
    "    elif col_name in ['Discovery Year']:\n",
    "        return int(val)\n",
    "    elif col_name in ['Orbital Period [days]', 'Planet Radius [Earth Radius]', 'Planet Mass [Earth Mass]', 'Orbit Semi-Major Axis [au]', 'Eccentricity', 'Equilibrium Temperature [K]', 'Insolation Flux [Earth Flux]']:\n",
    "        return float(val)\n",
    "    else:\n",
    "        return val\"\"\""
   ]
  },
  {
   "cell_type": "code",
   "execution_count": 23,
   "id": "0be4989d",
   "metadata": {},
   "outputs": [],
   "source": [
    "true_functions['get_planets'] = \"\"\"\n",
    "import csv\n",
    "import json\n",
    "\n",
    "def read_json(path):\n",
    "    with open(path, encoding='utf-8') as f:\n",
    "        return json.load(f)\n",
    "\n",
    "def process_csv(filename):\n",
    "    with open(filename) as file:\n",
    "        csv_reader = csv.reader(file)\n",
    "        list_data = list(csv_reader)\n",
    "        return list_data\n",
    "\n",
    "def get_planets(planet_file, mapping_file):\n",
    "    planets = []\n",
    "    try:\n",
    "        mapping_dict = read_json(mapping_file)\n",
    "    except json.JSONDecodeError:\n",
    "        return []\n",
    "    planets_csv = process_csv(planet_file)\n",
    "    planets_header = planets_csv[0]\n",
    "    planets_rows = planets_csv[1:]\n",
    "    for row_idx in range(len(planets_rows)):\n",
    "        try:\n",
    "            planet_name = planet_cell(row_idx, 'Planet Name', planets_rows)\n",
    "            host_name = mapping_dict[planet_name]\n",
    "            discovery_method = planet_cell(row_idx, 'Discovery Method', planets_rows)\n",
    "            discovery_year = planet_cell(row_idx, 'Discovery Year', planets_rows)\n",
    "            controversial_flag = planet_cell(row_idx, 'Controversial Flag', planets_rows)\n",
    "            orbital_period = planet_cell(row_idx, 'Orbital Period [days]', planets_rows)\n",
    "            planet_radius = planet_cell(row_idx, 'Planet Radius [Earth Radius]', planets_rows)\n",
    "            planet_mass = planet_cell(row_idx, 'Planet Mass [Earth Mass]', planets_rows)\n",
    "            semi_major_radius = planet_cell(row_idx, 'Orbit Semi-Major Axis [au]', planets_rows)\n",
    "            eccentricity = planet_cell(row_idx, 'Eccentricity', planets_rows)\n",
    "            equilibrium_temperature = planet_cell(row_idx, 'Equilibrium Temperature [K]', planets_rows)\n",
    "            insolation_flux = planet_cell(row_idx, 'Insolation Flux [Earth Flux]', planets_rows)\n",
    "            planet = Planet(planet_name, host_name, discovery_method, discovery_year, controversial_flag, orbital_period, planet_radius, planet_mass, semi_major_radius, eccentricity, equilibrium_temperature, insolation_flux)\n",
    "            planets.append(planet)\n",
    "        except IndexError:\n",
    "            continue\n",
    "        except ValueError:\n",
    "            continue\n",
    "        except KeyError:\n",
    "            continue\n",
    "    return planets\"\"\""
   ]
  },
  {
   "cell_type": "code",
   "execution_count": 24,
   "id": "8216737d",
   "metadata": {},
   "outputs": [],
   "source": [
    "true_functions['plot_scatter'] = \"\"\"\n",
    "import matplotlib.pyplot as plt\n",
    "\n",
    "def plot_scatter(x_data, y_data, x_label='x axis', y_label='y axis', c=None, s=7):\n",
    "    plt.scatter(x_data, y_data, c=c, s=s)\n",
    "    plt.xlabel(x_label)\n",
    "    plt.ylabel(y_label)\"\"\""
   ]
  },
  {
   "cell_type": "code",
   "execution_count": 25,
   "id": "30e3aef7",
   "metadata": {},
   "outputs": [],
   "source": [
    "true_functions['plot_scatter_multiple'] = \"\"\"\n",
    "import matplotlib.pyplot as plt\n",
    "\n",
    "def plot_scatter_multiple(x_data_dict, y_data_dict, x_label='x axis', y_label='y axis'):\n",
    "    legend_values = list(x_data_dict.keys())\n",
    "    for key in x_data_dict:\n",
    "        plt.scatter(x_data_dict[key], y_data_dict[key], s=7)\n",
    "    plt.xlabel(x_label)\n",
    "    plt.ylabel(y_label)\n",
    "    plt.legend(legend_values)\"\"\""
   ]
  },
  {
   "cell_type": "code",
   "execution_count": 26,
   "id": "6108ddb0",
   "metadata": {},
   "outputs": [],
   "source": [
    "true_functions['get_all_paths_in'] = \"\"\"\n",
    "import os\n",
    "\n",
    "def get_all_paths_in(directory):\n",
    "    paths = []\n",
    "    files = os.listdir(directory)\n",
    "    for file in files:\n",
    "        if file.startswith('.'):\n",
    "            continue\n",
    "        path = os.path.join(directory, file)\n",
    "        if os.path.isfile(path):\n",
    "            paths.append(path)\n",
    "        elif os.path.isdir(path):\n",
    "            paths.extend(get_all_paths_in(path))\n",
    "    return sorted(paths, key=lambda path: path.split(os.path.sep), reverse=True)\"\"\""
   ]
  },
  {
   "cell_type": "code",
   "execution_count": 27,
   "id": "42334d52",
   "metadata": {},
   "outputs": [],
   "source": [
    "true_functions['get_surface_gravity'] = \"\"\"\n",
    "def get_surface_gravity(planet):\n",
    "    mass = planet.planet_mass\n",
    "    radius = planet.planet_radius\n",
    "    if mass == None or radius == None:\n",
    "        return None\n",
    "    return mass / radius ** 2\"\"\""
   ]
  },
  {
   "cell_type": "code",
   "execution_count": 28,
   "id": "38f628b6",
   "metadata": {},
   "outputs": [],
   "source": [
    "true_functions['get_distances_to_star'] = \"\"\"\n",
    "def get_distances_to_star(planet):\n",
    "    ecc = planet.eccentricity\n",
    "    semi_major = planet.semi_major_radius\n",
    "    if ecc == None or semi_major == None:\n",
    "        return None\n",
    "    return [semi_major * (1 - abs(ecc)), semi_major * (1 + abs(ecc))]\"\"\""
   ]
  },
  {
   "cell_type": "code",
   "execution_count": 29,
   "id": "bc343434",
   "metadata": {},
   "outputs": [],
   "source": [
    "true_functions['get_liquid_water_distances'] = \"\"\"\n",
    "import csv\n",
    "\n",
    "def process_csv(filename):\n",
    "    with open(filename) as file:\n",
    "        csv_reader = csv.reader(file)\n",
    "        list_data = list(csv_reader)\n",
    "        return list_data\n",
    "\n",
    "def get_liquid_water_distances(planet):\n",
    "    lum = stars_dict[planet.host_name].stellar_luminosity\n",
    "    if lum == None:\n",
    "        return None\n",
    "    return [(10 ** lum / 1.15) ** 0.5, (10 ** lum / 0.53) ** 0.5]\"\"\""
   ]
  },
  {
   "cell_type": "code",
   "execution_count": 30,
   "id": "d0052f22",
   "metadata": {},
   "outputs": [],
   "source": [
    "true_functions['get_surface_temperatures'] = \"\"\"\n",
    "def get_surface_temperatures(planet):\n",
    "    temp = planet.equilibrium_temperature\n",
    "    if temp == None:\n",
    "        return None\n",
    "    return [0.5 ** (1 / 4) * temp, temp]\"\"\""
   ]
  },
  {
   "cell_type": "raw",
   "id": "d54f997c",
   "metadata": {},
   "source": [
    "# END true_functions"
   ]
  },
  {
   "cell_type": "markdown",
   "id": "5a97473b",
   "metadata": {},
   "source": [
    "## True Data Structures\n",
    "\n",
    "Here, the **correct** versions of all data structures that are defined in the notebook are stored. These data structures are compared against the data structures in the student notebook to check for their correctness."
   ]
  },
  {
   "cell_type": "raw",
   "id": "315ad138",
   "metadata": {},
   "source": [
    "# BEGIN true_data_structures"
   ]
  },
  {
   "cell_type": "code",
   "execution_count": 31,
   "id": "c19ce599",
   "metadata": {},
   "outputs": [],
   "source": [
    "true_data_structures = {}"
   ]
  },
  {
   "cell_type": "code",
   "execution_count": 32,
   "id": "e4d88014",
   "metadata": {},
   "outputs": [],
   "source": [
    "true_data_structures['Star'] = \"\"\"\n",
    "from collections import namedtuple\n",
    "star_attributes = ['spectral_type', 'stellar_effective_temperature', 'stellar_radius', 'stellar_mass', 'stellar_luminosity', 'stellar_surface_gravity', 'stellar_age']\n",
    "Star = namedtuple('Star', star_attributes)\"\"\""
   ]
  },
  {
   "cell_type": "code",
   "execution_count": 33,
   "id": "0aa6cdb0",
   "metadata": {},
   "outputs": [],
   "source": [
    "true_data_structures['stars_dict'] = \"\"\"\n",
    "import csv\n",
    "import os\n",
    "\n",
    "def process_csv(filename):\n",
    "    with open(filename) as file:\n",
    "        csv_reader = csv.reader(file)\n",
    "        list_data = list(csv_reader)\n",
    "        return list_data\n",
    "stars_dict = {}\n",
    "for i in range(1, 6):\n",
    "    csv_file = os.path.join('data', 'stars_%d.csv' % i)\n",
    "    curr_stars_dict = get_stars(csv_file)\n",
    "    stars_dict.update(curr_stars_dict)\n",
    "len(stars_dict)\"\"\""
   ]
  },
  {
   "cell_type": "code",
   "execution_count": 34,
   "id": "fde321f1",
   "metadata": {},
   "outputs": [],
   "source": [
    "true_data_structures['Planet'] = \"\"\"\n",
    "from collections import namedtuple\n",
    "planets_attributes = ['planet_name', 'host_name', 'discovery_method', 'discovery_year', 'controversial_flag', 'orbital_period', 'planet_radius', 'planet_mass', 'semi_major_radius', 'eccentricity', 'equilibrium_temperature', 'insolation_flux']\n",
    "Planet = namedtuple('Planet', planets_attributes)\"\"\""
   ]
  },
  {
   "cell_type": "code",
   "execution_count": 35,
   "id": "62784614",
   "metadata": {},
   "outputs": [],
   "source": [
    "true_data_structures['planets_list'] = \"\"\"\n",
    "import csv\n",
    "import os\n",
    "import json\n",
    "\n",
    "def process_csv(filename):\n",
    "    with open(filename) as file:\n",
    "        csv_reader = csv.reader(file)\n",
    "        list_data = list(csv_reader)\n",
    "        return list_data\n",
    "\n",
    "def read_json(path):\n",
    "    with open(path, encoding='utf-8') as f:\n",
    "        return json.load(f)\n",
    "planets_list = []\n",
    "for i in range(1, 6):\n",
    "    planet_path = os.path.join('data', 'planets_%d.csv' % i)\n",
    "    mapping_path = os.path.join('data', 'mapping_%d.json' % i)\n",
    "    new_planets = get_planets(planet_path, mapping_path)\n",
    "    if new_planets in [[], None, {}]:\n",
    "        continue\n",
    "    planets_list.extend(get_planets(planet_path, mapping_path))\n",
    "len(planets_list)\"\"\""
   ]
  },
  {
   "cell_type": "code",
   "execution_count": 36,
   "id": "46ce3d63",
   "metadata": {},
   "outputs": [],
   "source": [
    "true_data_structures['star_classes'] = \"\"\"\n",
    "import csv\n",
    "\n",
    "def process_csv(filename):\n",
    "    with open(filename) as file:\n",
    "        csv_reader = csv.reader(file)\n",
    "        list_data = list(csv_reader)\n",
    "        return list_data\n",
    "star_classes = {'Red Giant': [], 'White Dwarf': [], 'Neutron Star': []}\n",
    "for star in stars_dict:\n",
    "    star_info = stars_dict[star]\n",
    "    if star_info.stellar_mass == None:\n",
    "        continue\n",
    "    if 0.3 <= star_info.stellar_mass < 8:\n",
    "        star_classes['Red Giant'].append(star)\n",
    "    elif 8 <= star_info.stellar_mass < 10.5:\n",
    "        star_classes['White Dwarf'].append(star)\n",
    "    elif star_info.stellar_mass >= 10.5:\n",
    "        star_classes['Neutron Star'].append(star)\"\"\""
   ]
  },
  {
   "cell_type": "code",
   "execution_count": 37,
   "id": "4589047e",
   "metadata": {},
   "outputs": [],
   "source": [
    "true_data_structures['all_planets_list'] = \"\"\"\n",
    "import csv\n",
    "import os\n",
    "import json\n",
    "\n",
    "def process_csv(filename):\n",
    "    with open(filename) as file:\n",
    "        csv_reader = csv.reader(file)\n",
    "        list_data = list(csv_reader)\n",
    "        return list_data\n",
    "\n",
    "def read_json(path):\n",
    "    with open(path, encoding='utf-8') as f:\n",
    "        return json.load(f)\n",
    "all_planets_list = []\n",
    "all_planets_list.extend(planets_list)\n",
    "for json_path in broken_data:\n",
    "    all_planets_list.extend(get_planets(os.path.join('data', 'planets_5.csv'), json_path))\n",
    "len(all_planets_list)\"\"\""
   ]
  },
  {
   "cell_type": "raw",
   "id": "341cf73a",
   "metadata": {},
   "source": [
    "# END true_data_structures"
   ]
  },
  {
   "cell_type": "markdown",
   "id": "3de10fb3",
   "metadata": {},
   "source": [
    "## Original\n",
    "\n",
    "The original test simply runs the student's notebook as it is (after removing cells with syntax errors, and performing other clean-up). This helps us detect if the student failed any public tests."
   ]
  },
  {
   "cell_type": "raw",
   "id": "fe9e4c61",
   "metadata": {},
   "source": [
    "# BEGIN original"
   ]
  },
  {
   "cell_type": "code",
   "execution_count": 38,
   "id": "57c867a2",
   "metadata": {},
   "outputs": [
    {
     "name": "stderr",
     "output_type": "stream",
     "text": [
      "0.00s - Debugger warning: It seems that frozen modules are being used, which may\n",
      "0.00s - make the debugger miss breakpoints. Please pass -Xfrozen_modules=off\n",
      "0.00s - to python to disable frozen modules.\n",
      "0.00s - Note: Debugging will proceed. Set PYDEVD_DISABLE_FILE_VALIDATION=1 to disable this validation.\n"
     ]
    }
   ],
   "source": [
    "nb = new_clean_nb(read_nb(os.path.join(DIRECTORY, FILE)))\n",
    "\n",
    "results['original'] = parse_nb(run_nb(nb, os.path.join(DIRECTORY, \"hidden\", \"original\", FILE)))"
   ]
  },
  {
   "cell_type": "raw",
   "id": "ecb49232",
   "metadata": {},
   "source": [
    "# END original"
   ]
  },
  {
   "cell_type": "markdown",
   "id": "b9eec99a",
   "metadata": {},
   "source": [
    "## Hardcode\n",
    "\n",
    "The hardcode tests run the student's notebook on different datasets. However, `public_tests.py` remains unchanged. So, if the answers are hardcoded in the student's notebook, we expect their code to still pass the public tests on all the different datasets. If their code fails any one of the different hardcode datasets, we take that to mean that the answer is not hardcoded."
   ]
  },
  {
   "cell_type": "code",
   "execution_count": 39,
   "id": "dcdcd5a9",
   "metadata": {},
   "outputs": [
    {
     "name": "stderr",
     "output_type": "stream",
     "text": [
      "0.00s - Debugger warning: It seems that frozen modules are being used, which may\n",
      "0.00s - make the debugger miss breakpoints. Please pass -Xfrozen_modules=off\n",
      "0.00s - to python to disable frozen modules.\n",
      "0.00s - Note: Debugging will proceed. Set PYDEVD_DISABLE_FILE_VALIDATION=1 to disable this validation.\n"
     ]
    },
    {
     "name": "stdout",
     "output_type": "stream",
     "text": [
      "1 done!\n"
     ]
    },
    {
     "name": "stderr",
     "output_type": "stream",
     "text": [
      "0.00s - Debugger warning: It seems that frozen modules are being used, which may\n",
      "0.00s - make the debugger miss breakpoints. Please pass -Xfrozen_modules=off\n",
      "0.00s - to python to disable frozen modules.\n",
      "0.00s - Note: Debugging will proceed. Set PYDEVD_DISABLE_FILE_VALIDATION=1 to disable this validation.\n"
     ]
    },
    {
     "name": "stdout",
     "output_type": "stream",
     "text": [
      "3 done!\n"
     ]
    },
    {
     "name": "stderr",
     "output_type": "stream",
     "text": [
      "0.00s - Debugger warning: It seems that frozen modules are being used, which may\n",
      "0.00s - make the debugger miss breakpoints. Please pass -Xfrozen_modules=off\n",
      "0.00s - to python to disable frozen modules.\n",
      "0.00s - Note: Debugging will proceed. Set PYDEVD_DISABLE_FILE_VALIDATION=1 to disable this validation.\n"
     ]
    },
    {
     "name": "stdout",
     "output_type": "stream",
     "text": [
      "2 done!\n"
     ]
    }
   ],
   "source": [
    "for subdirectory in os.listdir(os.path.join(DIRECTORY, \"hidden\", \"hardcode\")):\n",
    "    path = os.path.join(DIRECTORY, \"hidden\", \"hardcode\", subdirectory)\n",
    "    good_dataset = False\n",
    "    while not good_dataset:\n",
    "        if os.path.exists(os.path.join(path, FILE)):\n",
    "            nb = new_clean_nb(read_nb(os.path.join(DIRECTORY, FILE)))\n",
    "        hardcode_results = parse_nb(run_nb(nb, os.path.join(path, FILE)))\n",
    "        good_dataset = True\n",
    "        for qnum in hardcode_results:\n",
    "            if qnum.startswith('q') and hardcode_results[qnum] == 'All test cases passed!':\n",
    "                print(qnum + ' failed!')\n",
    "                good_dataset = False\n",
    "                break\n",
    "        if not good_dataset:\n",
    "            random_data(path, 200, True)\n",
    "    print(subdirectory + ' done!')"
   ]
  },
  {
   "cell_type": "raw",
   "id": "0dd5d60f",
   "metadata": {},
   "source": [
    "# BEGIN hardcode"
   ]
  },
  {
   "cell_type": "code",
   "execution_count": 40,
   "id": "142f91d6",
   "metadata": {},
   "outputs": [
    {
     "name": "stderr",
     "output_type": "stream",
     "text": [
      "0.00s - Debugger warning: It seems that frozen modules are being used, which may\n",
      "0.00s - make the debugger miss breakpoints. Please pass -Xfrozen_modules=off\n",
      "0.00s - to python to disable frozen modules.\n",
      "0.00s - Note: Debugging will proceed. Set PYDEVD_DISABLE_FILE_VALIDATION=1 to disable this validation.\n",
      "0.00s - Debugger warning: It seems that frozen modules are being used, which may\n",
      "0.00s - make the debugger miss breakpoints. Please pass -Xfrozen_modules=off\n",
      "0.00s - to python to disable frozen modules.\n",
      "0.00s - Note: Debugging will proceed. Set PYDEVD_DISABLE_FILE_VALIDATION=1 to disable this validation.\n",
      "0.00s - Debugger warning: It seems that frozen modules are being used, which may\n",
      "0.00s - make the debugger miss breakpoints. Please pass -Xfrozen_modules=off\n",
      "0.00s - to python to disable frozen modules.\n",
      "0.00s - Note: Debugging will proceed. Set PYDEVD_DISABLE_FILE_VALIDATION=1 to disable this validation.\n"
     ]
    }
   ],
   "source": [
    "for hardcode in os.listdir(os.path.join(DIRECTORY, \"hidden\", \"hardcode\")):\n",
    "    nb = new_clean_nb(read_nb(os.path.join(DIRECTORY, FILE)))\n",
    "    results['hardcode: ' + hardcode] = parse_nb(run_nb(nb, os.path.join(DIRECTORY, \"hidden\", \"hardcode\", hardcode, FILE)))"
   ]
  },
  {
   "cell_type": "raw",
   "id": "9b918781",
   "metadata": {},
   "source": [
    "# END hardcode"
   ]
  },
  {
   "cell_type": "markdown",
   "id": "365419fe",
   "metadata": {},
   "source": [
    "## Rubric Tests\n",
    "\n",
    "The tests for the rubric points will be defined below. Only the code inside the tags will be executed by `hidden_tests.py`, so the code outside the tags are used for generating the hidden datasets in the first place."
   ]
  },
  {
   "cell_type": "markdown",
   "id": "d7a8738d",
   "metadata": {},
   "source": [
    "### Instructions for creating rubric tests:\n",
    "\n",
    "Functions inside `hidden_tests.py` can be used to modify the student notebook, before executing and parsing the outputs. It is recommended that before trying to create rubric tests, a user goes through all the functions inside `hidden_tests.py` first. Here is a list of commonly used functions that will be most useful:\n",
    "\n",
    "* **`read_nb`**: `read_nb(file)` **reads** a `file` in the `.ipynb` file format and returns a `nb`.\n",
    "* **`run_nb`**: `run_nb(nb, file)` **executes** `nb` at the location `file` and **writes** the contents back into `file`.\n",
    "* **`parse_nb`**: `parse_nb(nb)` read the contents of a student `nb` and **extracts** all graded questions and answers.\n",
    "* **`truncate_nb`**: `truncate_nb(nb, start, end)` takes in a `nb`, and returns a **sliced** notebook between the cells indexed `start` and `end`.\n",
    "* **`find_all_cell_indices`**: `find_all_cell_indices(nb, cell_type, marker)` returns **all** the indices in `nb` of cell type `cell_type` that **contains** the `marker` in its source.\n",
    "* **`inject_code`**: `inject_code(nb, idx, code)` creates a **new** code cell in `nb` **after** the index `idx` with `code` in it.\n",
    "* **`count_defns`**: `count_defns(nb, func_name)` **counts** the number of times `func_name` is defined in the `nb`.\n",
    "* **`replace_defn`**: `replace_defn(nb, func_name, new_defn)` **replaces** the definition of `func_name` in `nb` with `new_defn`.\n",
    "* **`replace_call`**: `replace_call(text, func_name, new_name)` **replaces** all **calls** and definition **names** to `func_name` with `new_name` in `text`.\n",
    "* **`find_code`**: `find_code(nb, target)` returns the **number** of times that the **text** `target` appears in a code cell in `nb`.\n",
    "* **`replace_code`**: `replace_code(nb, target, new_code, start, end)` **replaces** all instances of the **text** `target` in a code cell between the indices `start` and `end` with the **text** `new_code`.\n",
    "* **`add_try_except`**: `add_try_except(text)` adds a (bare) **try/except block** around any given block of code.\n",
    "* **`detect_restart_and_run_all`**: `detect_restart_and_run_all(nb)` flags if any **non-empty code cell** in `nb` is **not executed**.\n",
    "* **`detect_imports`**: `detect_imports(nb)` returns a list of **all** the **import** statements in the `nb`.\n",
    "* **`detect_ast_objects`**: `detect_ast_objects(nb, objects)` returns a dict of **all** cells in the `nb` with the **ast objects** `objects` in them.\n",
    "* **`get_first_plot`**: `get_first_plot(nb, image_file)` returns the first **image** found in the output of a code cell in `nb`, and also stores it in `image_file` for reference.\n",
    "* **`get_label_plot`**: `get_label_plot(plot, kind)` **crops** the `plot` and returns returns a plot containing just the **label** at the location indicated by `kind` - `\"left\"`, `\"right\"`, `\"top\"`, or `\"bottom\"`.\n",
    "* **`get_without_label_plot`**: `get_without_label_plot(plot, kind)` **crops** the `plot` and returns returns a plot containing everything **except** the **label** at the location indicated by `kind` - `\"left\"`, `\"right\"`, `\"top\"`, or `\"bottom\"`.\n",
    "* **`get_ticks_plot`**: `get_ticks_plot(plot, kind)` **crops** the `plot` and returns returns a plot containing just the **ticks** at the location indicated by `kind` - `\"left\"`, or `\"bottom\"`.\n",
    "* **`get_without_ticks_plot`**: `get_without_ticks_plot(plot, kind)` **crops** the `plot` and returns returns a plot containing everything **except** the **ticks** at the location indicated by `kind` - `\"left\"`, or `\"bottom\"`.\n",
    "* **`get_bounding_box_plot`**: `get_bounding_box_plot(plot)` **crops** the `plot` and returns returns a plot containing just the **bounding box** of the plot.\n",
    "* **`check_text_in_plot`**: `check_text_in_plot(plot, expected_text)` checks if the `expected_text` is in the `plot`, and returns both the **missing** and the **extra** text in the given `plot`."
   ]
  },
  {
   "cell_type": "markdown",
   "id": "f73de670",
   "metadata": {},
   "source": [
    "### q1: incorrect logic is used to answer"
   ]
  },
  {
   "cell_type": "code",
   "execution_count": 41,
   "id": "1e3d612a",
   "metadata": {},
   "outputs": [],
   "source": [
    "rubric_item = 'q1: incorrect logic is used to answer'\n",
    "readme_text = \"\"\"Check that your code correctly identifies all\n",
    "planets orbiting 'GJ 9827'. Ensure that you are\n",
    "matching planets to the star based on the correct\n",
    "data fields. If you are modifying the data,\n",
    "confirm your modifications are accurate. Utilize\n",
    "the provided solution's structure and verify the\n",
    "implementation of the mathematical operations for\n",
    "the calculation of the ratio. Test your code with\n",
    "different datasets to ensure its robustness.\"\"\"\n",
    "\n",
    "write_readme(readme_text, os.path.join(directories[rubric_item], \"README.txt\"))"
   ]
  },
  {
   "cell_type": "code",
   "execution_count": 42,
   "id": "3159842b",
   "metadata": {},
   "outputs": [],
   "source": [
    "random_data(directories[rubric_item], 200)"
   ]
  },
  {
   "cell_type": "raw",
   "id": "b529b987",
   "metadata": {},
   "source": [
    "# BEGIN q1: incorrect logic is used to answer"
   ]
  },
  {
   "cell_type": "code",
   "execution_count": 43,
   "id": "36ce1df1",
   "metadata": {},
   "outputs": [
    {
     "name": "stderr",
     "output_type": "stream",
     "text": [
      "0.00s - Debugger warning: It seems that frozen modules are being used, which may\n",
      "0.00s - make the debugger miss breakpoints. Please pass -Xfrozen_modules=off\n",
      "0.00s - to python to disable frozen modules.\n",
      "0.00s - Note: Debugging will proceed. Set PYDEVD_DISABLE_FILE_VALIDATION=1 to disable this validation.\n"
     ]
    }
   ],
   "source": [
    "rubric_item = 'q1: incorrect logic is used to answer'\n",
    "nb = new_clean_nb(read_nb(os.path.join(DIRECTORY, FILE)))\n",
    "nb = truncate_nb(nb, end=find_all_cell_indices(nb, \"code\", \"grader.check('q1')\")[-1])\n",
    "\n",
    "results[rubric_item] = parse_nb(run_nb(nb, os.path.join(directories[rubric_item], FILE)))"
   ]
  },
  {
   "cell_type": "raw",
   "id": "3ddaf050",
   "metadata": {},
   "source": [
    "# END q1: incorrect logic is used to answer"
   ]
  },
  {
   "cell_type": "code",
   "execution_count": 44,
   "id": "d2317539",
   "metadata": {},
   "outputs": [
    {
     "name": "stderr",
     "output_type": "stream",
     "text": [
      "0.00s - Debugger warning: It seems that frozen modules are being used, which may\n",
      "0.00s - make the debugger miss breakpoints. Please pass -Xfrozen_modules=off\n",
      "0.00s - to python to disable frozen modules.\n",
      "0.00s - Note: Debugging will proceed. Set PYDEVD_DISABLE_FILE_VALIDATION=1 to disable this validation.\n"
     ]
    }
   ],
   "source": [
    "gen_public_tests.gen_public_tests(os.path.join(directories[rubric_item], FILE))"
   ]
  },
  {
   "cell_type": "markdown",
   "id": "81388c5d",
   "metadata": {},
   "source": [
    "### q1: `planets_list` data structure is not used to answer"
   ]
  },
  {
   "cell_type": "code",
   "execution_count": 45,
   "id": "358acba9",
   "metadata": {},
   "outputs": [],
   "source": [
    "rubric_item = 'q1: `planets_list` data structure is not used to answer'\n",
    "readme_text = \"\"\"Review your code to ensure that you are using the\n",
    "`planets_list` data structure provided for the\n",
    "computation of the ratios. Check that you are\n",
    "correctly accessing the attributes of each planet\n",
    "within this list and performing the calculations\n",
    "as stipulated in the question. Also, ensure that\n",
    "your results are stored in a list of floats as\n",
    "required. Consider running your code on various\n",
    "inputs to cover different scenarios and catch\n",
    "potential errors.\"\"\"\n",
    "\n",
    "write_readme(readme_text, os.path.join(directories[rubric_item], \"README.txt\"))"
   ]
  },
  {
   "cell_type": "code",
   "execution_count": 46,
   "id": "83b85a13",
   "metadata": {},
   "outputs": [],
   "source": [
    "random_data(directories[rubric_item], 10)"
   ]
  },
  {
   "cell_type": "raw",
   "id": "3e5f35fc",
   "metadata": {},
   "source": [
    "# BEGIN q1: `planets_list` data structure is not used to answer"
   ]
  },
  {
   "cell_type": "code",
   "execution_count": 47,
   "id": "d470b80f",
   "metadata": {},
   "outputs": [
    {
     "name": "stderr",
     "output_type": "stream",
     "text": [
      "0.00s - Debugger warning: It seems that frozen modules are being used, which may\n",
      "0.00s - make the debugger miss breakpoints. Please pass -Xfrozen_modules=off\n",
      "0.00s - to python to disable frozen modules.\n",
      "0.00s - Note: Debugging will proceed. Set PYDEVD_DISABLE_FILE_VALIDATION=1 to disable this validation.\n"
     ]
    }
   ],
   "source": [
    "rubric_item = 'q1: `planets_list` data structure is not used to answer'\n",
    "nb = read_nb(os.path.join(DIRECTORY, FILE))\n",
    "nb = new_clean_nb(nb)\n",
    "nb = truncate_nb(nb, end=find_all_cell_indices(nb, \"code\", \"grader.check('q1')\")[-1])\n",
    "\n",
    "new_planets_list = true_data_structures[\"planets_list\"] + '''\n",
    "import random\n",
    "\n",
    "random.seed(0)\n",
    "raw_planets = [list(planet) for planet in planets_list]\n",
    "rows_in_cols = {}\n",
    "for i in range(len(raw_planets[0])):\n",
    "    rows_in_cols[i] = []\n",
    "    for j in range(len(raw_planets)):\n",
    "        rows_in_cols[i].append(raw_planets[j][i])\n",
    "    random.shuffle(rows_in_cols[i])\n",
    "\n",
    "for j in range(len(raw_planets)):\n",
    "    for i in range(len(raw_planets[0])):\n",
    "        raw_planets[j][i] = rows_in_cols[i][j]\n",
    "planets_list = [Planet(*planet) for planet in raw_planets]'''\n",
    "nb = replace_with_false_data_structure(nb, 'planets_list', new_planets_list)\n",
    "\n",
    "results[rubric_item] = parse_nb(run_nb(nb, os.path.join(directories[rubric_item], FILE)))"
   ]
  },
  {
   "cell_type": "raw",
   "id": "b2ec0738",
   "metadata": {},
   "source": [
    "# END q1: `planets_list` data structure is not used to answer"
   ]
  },
  {
   "cell_type": "code",
   "execution_count": 48,
   "id": "deab1ff4",
   "metadata": {},
   "outputs": [
    {
     "name": "stderr",
     "output_type": "stream",
     "text": [
      "0.00s - Debugger warning: It seems that frozen modules are being used, which may\n",
      "0.00s - make the debugger miss breakpoints. Please pass -Xfrozen_modules=off\n",
      "0.00s - to python to disable frozen modules.\n",
      "0.00s - Note: Debugging will proceed. Set PYDEVD_DISABLE_FILE_VALIDATION=1 to disable this validation.\n"
     ]
    }
   ],
   "source": [
    "gen_public_tests.gen_public_tests(os.path.join(directories[rubric_item], FILE))"
   ]
  },
  {
   "cell_type": "markdown",
   "id": "5d264047",
   "metadata": {},
   "source": [
    "### q2: incorrect logic is used to answer"
   ]
  },
  {
   "cell_type": "code",
   "execution_count": 49,
   "id": "f7040fce",
   "metadata": {},
   "outputs": [],
   "source": [
    "rubric_item = 'q2: incorrect logic is used to answer'\n",
    "readme_text = \"\"\"Ensure that your code correctly computes the\n",
    "coefficient of variance using the standard\n",
    "deviation and mean of the list `ratios_gj9827`.\n",
    "Review your implementation for any possible\n",
    "logical errors. To troubleshoot, verify if you are\n",
    "correctly handling import statements and using the\n",
    "`stdev` and `mean` functions from the `statistics`\n",
    "module as intended. Double-check your calculations\n",
    "to ensure accurate results with modified datasets.\"\"\"\n",
    "\n",
    "write_readme(readme_text, os.path.join(directories[rubric_item], \"README.txt\"))"
   ]
  },
  {
   "cell_type": "code",
   "execution_count": 50,
   "id": "38b4bfaa",
   "metadata": {},
   "outputs": [],
   "source": [
    "random_data(directories[rubric_item], 200)"
   ]
  },
  {
   "cell_type": "raw",
   "id": "1ee51160",
   "metadata": {},
   "source": [
    "# BEGIN q2: incorrect logic is used to answer"
   ]
  },
  {
   "cell_type": "code",
   "execution_count": 51,
   "id": "73b1afe0",
   "metadata": {},
   "outputs": [
    {
     "name": "stderr",
     "output_type": "stream",
     "text": [
      "0.00s - Debugger warning: It seems that frozen modules are being used, which may\n",
      "0.00s - make the debugger miss breakpoints. Please pass -Xfrozen_modules=off\n",
      "0.00s - to python to disable frozen modules.\n",
      "0.00s - Note: Debugging will proceed. Set PYDEVD_DISABLE_FILE_VALIDATION=1 to disable this validation.\n"
     ]
    }
   ],
   "source": [
    "rubric_item = 'q2: incorrect logic is used to answer'\n",
    "nb = new_clean_nb(read_nb(os.path.join(DIRECTORY, FILE)))\n",
    "nb = truncate_nb(nb, end=find_all_cell_indices(nb, \"code\", \"grader.check('q2')\")[-1])\n",
    "\n",
    "results[rubric_item] = parse_nb(run_nb(nb, os.path.join(directories[rubric_item], FILE)))"
   ]
  },
  {
   "cell_type": "raw",
   "id": "71372f0a",
   "metadata": {},
   "source": [
    "# END q2: incorrect logic is used to answer"
   ]
  },
  {
   "cell_type": "code",
   "execution_count": 52,
   "id": "dfa31e39",
   "metadata": {},
   "outputs": [
    {
     "name": "stderr",
     "output_type": "stream",
     "text": [
      "0.00s - Debugger warning: It seems that frozen modules are being used, which may\n",
      "0.00s - make the debugger miss breakpoints. Please pass -Xfrozen_modules=off\n",
      "0.00s - to python to disable frozen modules.\n",
      "0.00s - Note: Debugging will proceed. Set PYDEVD_DISABLE_FILE_VALIDATION=1 to disable this validation.\n"
     ]
    }
   ],
   "source": [
    "gen_public_tests.gen_public_tests(os.path.join(directories[rubric_item], FILE))"
   ]
  },
  {
   "cell_type": "markdown",
   "id": "8521bad5",
   "metadata": {},
   "source": [
    "### q2: recomputed variable defined in Question 1"
   ]
  },
  {
   "cell_type": "code",
   "execution_count": 53,
   "id": "d05f65d0",
   "metadata": {},
   "outputs": [],
   "source": [
    "rubric_item = 'q2: recomputed variable defined in Question 1'\n",
    "readme_text = \"\"\"The test checks if you reused the variable\n",
    "`ratios_gj9827` correctly, without redefining or\n",
    "recomputing it after Question 1. Verify that your\n",
    "solution uses this variable directly when\n",
    "calculating the coefficient of variance. Ensure\n",
    "that your import statement for the `statistics`\n",
    "module is correct and that you are calling the\n",
    "`stdev` and `mean` functions properly on the\n",
    "`ratios_gj9827` list. If the list contains\n",
    "negative numbers, the standard deviation and mean\n",
    "calculations will still be valid, but the nature\n",
    "of the data might affect the coefficient of\n",
    "variance. Make sure to handle any list data type\n",
    "effectively.\"\"\"\n",
    "\n",
    "write_readme(readme_text, os.path.join(directories[rubric_item], \"README.txt\"))"
   ]
  },
  {
   "cell_type": "code",
   "execution_count": 54,
   "id": "5b2d774d",
   "metadata": {},
   "outputs": [],
   "source": [
    "random_data(directories[rubric_item], 10)"
   ]
  },
  {
   "cell_type": "raw",
   "id": "785073a6",
   "metadata": {},
   "source": [
    "# BEGIN q2: recomputed variable defined in Question 1"
   ]
  },
  {
   "cell_type": "code",
   "execution_count": 55,
   "id": "2aa77480",
   "metadata": {},
   "outputs": [
    {
     "name": "stderr",
     "output_type": "stream",
     "text": [
      "0.00s - Debugger warning: It seems that frozen modules are being used, which may\n",
      "0.00s - make the debugger miss breakpoints. Please pass -Xfrozen_modules=off\n",
      "0.00s - to python to disable frozen modules.\n",
      "0.00s - Note: Debugging will proceed. Set PYDEVD_DISABLE_FILE_VALIDATION=1 to disable this validation.\n"
     ]
    }
   ],
   "source": [
    "rubric_item = 'q2: recomputed variable defined in Question 1'\n",
    "nb = read_nb(os.path.join(DIRECTORY, FILE))\n",
    "nb = new_clean_nb(nb)\n",
    "nb = truncate_nb(nb, end=find_all_cell_indices(nb, \"code\", \"grader.check('q2')\")[-1])\n",
    "\n",
    "inject_code_after_q1 = '''\n",
    "ratios_gj9827 = [-1, -2, -3, -5, -10]\n",
    "'''\n",
    "q1_end_idx = find_all_cell_indices(nb, \"code\", \"grader.check('q1')\")[-1]\n",
    "nb = inject_code(nb, q1_end_idx + 1, inject_code_after_q1)\n",
    "\n",
    "results[rubric_item] = parse_nb(run_nb(nb, os.path.join(directories[rubric_item], FILE)))"
   ]
  },
  {
   "cell_type": "raw",
   "id": "8e78ab66",
   "metadata": {},
   "source": [
    "# END q2: recomputed variable defined in Question 1"
   ]
  },
  {
   "cell_type": "code",
   "execution_count": 56,
   "id": "847553d2",
   "metadata": {},
   "outputs": [
    {
     "name": "stderr",
     "output_type": "stream",
     "text": [
      "0.00s - Debugger warning: It seems that frozen modules are being used, which may\n",
      "0.00s - make the debugger miss breakpoints. Please pass -Xfrozen_modules=off\n",
      "0.00s - to python to disable frozen modules.\n",
      "0.00s - Note: Debugging will proceed. Set PYDEVD_DISABLE_FILE_VALIDATION=1 to disable this validation.\n"
     ]
    }
   ],
   "source": [
    "gen_public_tests.gen_public_tests(os.path.join(directories[rubric_item], FILE))"
   ]
  },
  {
   "cell_type": "markdown",
   "id": "894de090",
   "metadata": {},
   "source": [
    "### q3: incorrect logic is used to answer"
   ]
  },
  {
   "cell_type": "code",
   "execution_count": 57,
   "id": "c5ba8bb5",
   "metadata": {},
   "outputs": [],
   "source": [
    "rubric_item = 'q3: incorrect logic is used to answer'\n",
    "readme_text = \"\"\"Check the code's logic for calculating the\n",
    "predicted and actual stellar mass, and ensure it\n",
    "uses the `mean` of ratios from the correct\n",
    "question and the `Star` object's attribute for\n",
    "actual stellar mass. Ensure that the percentage\n",
    "change formula is correctly implemented as\n",
    "described.\"\"\"\n",
    "\n",
    "write_readme(readme_text, os.path.join(directories[rubric_item], \"README.txt\"))"
   ]
  },
  {
   "cell_type": "code",
   "execution_count": 58,
   "id": "68d7c335",
   "metadata": {},
   "outputs": [],
   "source": [
    "random_data(directories[rubric_item], 200)"
   ]
  },
  {
   "cell_type": "raw",
   "id": "843ba3f6",
   "metadata": {},
   "source": [
    "# BEGIN q3: incorrect logic is used to answer"
   ]
  },
  {
   "cell_type": "code",
   "execution_count": 59,
   "id": "eba63292",
   "metadata": {},
   "outputs": [
    {
     "name": "stderr",
     "output_type": "stream",
     "text": [
      "0.00s - Debugger warning: It seems that frozen modules are being used, which may\n",
      "0.00s - make the debugger miss breakpoints. Please pass -Xfrozen_modules=off\n",
      "0.00s - to python to disable frozen modules.\n",
      "0.00s - Note: Debugging will proceed. Set PYDEVD_DISABLE_FILE_VALIDATION=1 to disable this validation.\n"
     ]
    }
   ],
   "source": [
    "rubric_item = 'q3: incorrect logic is used to answer'\n",
    "nb = new_clean_nb(read_nb(os.path.join(DIRECTORY, FILE)))\n",
    "nb = truncate_nb(nb, end=find_all_cell_indices(nb, \"code\", \"grader.check('q3')\")[-1])\n",
    "\n",
    "results[rubric_item] = parse_nb(run_nb(nb, os.path.join(directories[rubric_item], FILE)))"
   ]
  },
  {
   "cell_type": "raw",
   "id": "aefa409f",
   "metadata": {},
   "source": [
    "# END q3: incorrect logic is used to answer"
   ]
  },
  {
   "cell_type": "code",
   "execution_count": 60,
   "id": "c070ccd8",
   "metadata": {},
   "outputs": [
    {
     "name": "stderr",
     "output_type": "stream",
     "text": [
      "0.00s - Debugger warning: It seems that frozen modules are being used, which may\n",
      "0.00s - make the debugger miss breakpoints. Please pass -Xfrozen_modules=off\n",
      "0.00s - to python to disable frozen modules.\n",
      "0.00s - Note: Debugging will proceed. Set PYDEVD_DISABLE_FILE_VALIDATION=1 to disable this validation.\n"
     ]
    }
   ],
   "source": [
    "gen_public_tests.gen_public_tests(os.path.join(directories[rubric_item], FILE))"
   ]
  },
  {
   "cell_type": "markdown",
   "id": "e93341d2",
   "metadata": {},
   "source": [
    "### q3: recomputed variable defined in Question 1"
   ]
  },
  {
   "cell_type": "code",
   "execution_count": 61,
   "id": "f2dc9c81",
   "metadata": {},
   "outputs": [],
   "source": [
    "rubric_item = 'q3: recomputed variable defined in Question 1'\n",
    "readme_text = \"\"\"Check usage of previously computed variable\n",
    "`ratios_gj9827`. Ensure no redefinition occurs\n",
    "that could alter its value before performing\n",
    "calculations. Use appropriate mean computation\n",
    "method and consider negative values' impact on the\n",
    "mean if they exist.\"\"\"\n",
    "\n",
    "write_readme(readme_text, os.path.join(directories[rubric_item], \"README.txt\"))"
   ]
  },
  {
   "cell_type": "code",
   "execution_count": 62,
   "id": "d132b8ef",
   "metadata": {},
   "outputs": [],
   "source": [
    "random_data(directories[rubric_item], 200)"
   ]
  },
  {
   "cell_type": "raw",
   "id": "247cb15f",
   "metadata": {},
   "source": [
    "# BEGIN q3: recomputed variable defined in Question 1"
   ]
  },
  {
   "cell_type": "code",
   "execution_count": 63,
   "id": "3adeb223",
   "metadata": {},
   "outputs": [
    {
     "name": "stderr",
     "output_type": "stream",
     "text": [
      "0.00s - Debugger warning: It seems that frozen modules are being used, which may\n",
      "0.00s - make the debugger miss breakpoints. Please pass -Xfrozen_modules=off\n",
      "0.00s - to python to disable frozen modules.\n",
      "0.00s - Note: Debugging will proceed. Set PYDEVD_DISABLE_FILE_VALIDATION=1 to disable this validation.\n"
     ]
    }
   ],
   "source": [
    "rubric_item = 'q3: recomputed variable defined in Question 1'\n",
    "nb = read_nb(os.path.join(DIRECTORY, FILE))\n",
    "nb = new_clean_nb(nb)\n",
    "\n",
    "start_q3 = find_all_cell_indices(nb, \"markdown\", '**Question 3:**')[-1]\n",
    "end_q3 = find_all_cell_indices(nb, \"code\", \"grader.check('q3')\")[-1]\n",
    "nb = truncate_nb(nb, end=end_q3)\n",
    "\n",
    "inject_code_after_q1 = find_all_cell_indices(nb, \"code\", \"grader.check('q1')\")[-1] + 1\n",
    "code_to_inject = '''\n",
    "ratios_gj9827 = [-1, -2, -3]  # This makes no physical sense, but is needed for the test\n",
    "'''\n",
    "nb = inject_code(nb, inject_code_after_q1, code_to_inject)\n",
    "\n",
    "results[rubric_item] = parse_nb(run_nb(nb, os.path.join(directories[rubric_item], FILE)))"
   ]
  },
  {
   "cell_type": "raw",
   "id": "d61c293e",
   "metadata": {},
   "source": [
    "# END q3: recomputed variable defined in Question 1"
   ]
  },
  {
   "cell_type": "code",
   "execution_count": 64,
   "id": "ac7916e3",
   "metadata": {},
   "outputs": [
    {
     "name": "stderr",
     "output_type": "stream",
     "text": [
      "0.00s - Debugger warning: It seems that frozen modules are being used, which may\n",
      "0.00s - make the debugger miss breakpoints. Please pass -Xfrozen_modules=off\n",
      "0.00s - to python to disable frozen modules.\n",
      "0.00s - Note: Debugging will proceed. Set PYDEVD_DISABLE_FILE_VALIDATION=1 to disable this validation.\n"
     ]
    }
   ],
   "source": [
    "gen_public_tests.gen_public_tests(os.path.join(directories[rubric_item], FILE))"
   ]
  },
  {
   "cell_type": "markdown",
   "id": "a3fe773c",
   "metadata": {},
   "source": [
    "### q3: `stars_dict` data structure is not used to answer"
   ]
  },
  {
   "cell_type": "code",
   "execution_count": 65,
   "id": "42a1bdaa",
   "metadata": {},
   "outputs": [],
   "source": [
    "rubric_item = 'q3: `stars_dict` data structure is not used to answer'\n",
    "readme_text = \"\"\"Ensure the `stars_dict` data structure is used to\n",
    "access the actual `stellar_mass` of the star 'GJ\n",
    "9827'. Data structures provided should be utilized\n",
    "efficiently as they are preprocessed to contain\n",
    "necessary information. Check for correct attribute\n",
    "access and proper calculation using the given\n",
    "formula.\"\"\"\n",
    "\n",
    "write_readme(readme_text, os.path.join(directories[rubric_item], \"README.txt\"))"
   ]
  },
  {
   "cell_type": "raw",
   "id": "52f56be1",
   "metadata": {},
   "source": [
    "# BEGIN q3: `stars_dict` data structure is not used to answer"
   ]
  },
  {
   "cell_type": "code",
   "execution_count": 66,
   "id": "8fb98524",
   "metadata": {},
   "outputs": [
    {
     "name": "stderr",
     "output_type": "stream",
     "text": [
      "0.00s - Debugger warning: It seems that frozen modules are being used, which may\n",
      "0.00s - make the debugger miss breakpoints. Please pass -Xfrozen_modules=off\n",
      "0.00s - to python to disable frozen modules.\n",
      "0.00s - Note: Debugging will proceed. Set PYDEVD_DISABLE_FILE_VALIDATION=1 to disable this validation.\n"
     ]
    }
   ],
   "source": [
    "rubric_item = 'q3: `stars_dict` data structure is not used to answer'\n",
    "nb = read_nb(os.path.join(DIRECTORY, FILE))\n",
    "nb = new_clean_nb(nb)\n",
    "nb = truncate_nb(nb, end=find_all_cell_indices(nb, \"code\", \"grader.check('q3')\")[-1])\n",
    "\n",
    "false_stars_dict = true_data_structures[\"stars_dict\"] + '''\n",
    "import random\n",
    "\n",
    "random.seed(0)\n",
    "stars_dict_keys = list(stars_dict.keys())\n",
    "stars_dict_values = list(stars_dict.values())\n",
    "random.shuffle(stars_dict_keys)\n",
    "random.shuffle(stars_dict_values)\n",
    "\n",
    "stars_dict = {}\n",
    "for i in range(len(stars_dict_keys)):\n",
    "    stars_dict[stars_dict_keys[i]] = stars_dict_values[i]\n",
    "'''\n",
    "nb = replace_with_false_data_structure(nb, 'stars_dict', false_stars_dict)\n",
    "\n",
    "results[rubric_item] = parse_nb(run_nb(nb, os.path.join(directories[rubric_item], FILE)))"
   ]
  },
  {
   "cell_type": "raw",
   "id": "c1848edb",
   "metadata": {},
   "source": [
    "# END q3: `stars_dict` data structure is not used to answer"
   ]
  },
  {
   "cell_type": "code",
   "execution_count": 67,
   "id": "d4c03f99",
   "metadata": {},
   "outputs": [
    {
     "name": "stderr",
     "output_type": "stream",
     "text": [
      "0.00s - Debugger warning: It seems that frozen modules are being used, which may\n",
      "0.00s - make the debugger miss breakpoints. Please pass -Xfrozen_modules=off\n",
      "0.00s - to python to disable frozen modules.\n",
      "0.00s - Note: Debugging will proceed. Set PYDEVD_DISABLE_FILE_VALIDATION=1 to disable this validation.\n"
     ]
    }
   ],
   "source": [
    "gen_public_tests.gen_public_tests(os.path.join(directories[rubric_item], FILE))"
   ]
  },
  {
   "cell_type": "markdown",
   "id": "f4cf40d6",
   "metadata": {},
   "source": [
    "### q4: incorrect logic is used to answer"
   ]
  },
  {
   "cell_type": "code",
   "execution_count": 68,
   "id": "e8179af3",
   "metadata": {},
   "outputs": [],
   "source": [
    "rubric_item = 'q4: incorrect logic is used to answer'\n",
    "readme_text = \"\"\"Ensure your logic properly checks for missing\n",
    "values and filters out planets without complete\n",
    "data. Remember to skip planets with `None` type or\n",
    "zero values before appending to your lists. Review\n",
    "conditional statements to correct the issue.\"\"\"\n",
    "\n",
    "write_readme(readme_text, os.path.join(directories[rubric_item], \"README.txt\"))"
   ]
  },
  {
   "cell_type": "code",
   "execution_count": 69,
   "id": "190c928c",
   "metadata": {},
   "outputs": [],
   "source": [
    "import os\n",
    "import csv\n",
    "import json\n",
    "import random\n",
    "\n",
    "\n",
    "def modify_data(directory):\n",
    "    \"\"\"\n",
    "    Modify the datasets in the given directory to comply with the test requirements.\n",
    "    \n",
    "    Args:\n",
    "    - directory: The path to the project directory containing the data.\n",
    "    \"\"\"\n",
    "    # Get the paths to all planet CSV files\n",
    "    planet_files = [f for f in os.listdir(os.path.join(directory, 'data')) if f.startswith('planets_')]\n",
    "    \n",
    "    # Iterate through each planet file\n",
    "    for planet_file in planet_files:\n",
    "        planet_path = os.path.join(directory, 'data', planet_file)\n",
    "        \n",
    "        # Read the data from the CSV file and modify values based on the conditions\n",
    "        modified_rows = []\n",
    "        with open(planet_path, 'r', encoding='utf-8') as file:\n",
    "            reader = csv.DictReader(file)\n",
    "            for row in reader:\n",
    "                # With probability of 1/3, delete or set to 0 the 'Insolation Flux [Earth Flux]' value\n",
    "                if random.choice([0, 1, 2]) == 0:\n",
    "                    row['Insolation Flux [Earth Flux]'] = ''\n",
    "                elif random.choice([0, 1, 2]) == 0:\n",
    "                    row['Insolation Flux [Earth Flux]'] = '0'\n",
    "\n",
    "                # With probability of 1/3, delete or set to 0 the 'Equilibrium Temperature [K]' value\n",
    "                if random.choice([0, 1, 2]) == 0:\n",
    "                    row['Equilibrium Temperature [K]'] = ''\n",
    "                elif random.choice([0, 1, 2]) == 0:\n",
    "                    row['Equilibrium Temperature [K]'] = '0'\n",
    "                \n",
    "                modified_rows.append(row)\n",
    "        \n",
    "        # Write the modified data back to the CSV file\n",
    "        with open(planet_path, 'w', encoding='utf-8', newline='') as file:\n",
    "            writer = csv.DictWriter(file, fieldnames=reader.fieldnames)\n",
    "            writer.writeheader()\n",
    "            writer.writerows(modified_rows)\n",
    "\n",
    "# First, we completely modify the dataset as per the rubric being tested\n",
    "# The 'directories' variable and 'rubric_item' must have been defined before calling this\n",
    "random_data(directories[rubric_item])\n",
    "\n",
    "# Now call the function that will modify the data to fit the specific test conditions\n",
    "modify_data(directories[rubric_item])"
   ]
  },
  {
   "cell_type": "raw",
   "id": "849baf87",
   "metadata": {},
   "source": [
    "# BEGIN q4: incorrect logic is used to answer"
   ]
  },
  {
   "cell_type": "code",
   "execution_count": 70,
   "id": "c723e276",
   "metadata": {},
   "outputs": [
    {
     "name": "stderr",
     "output_type": "stream",
     "text": [
      "0.00s - Debugger warning: It seems that frozen modules are being used, which may\n",
      "0.00s - make the debugger miss breakpoints. Please pass -Xfrozen_modules=off\n",
      "0.00s - to python to disable frozen modules.\n",
      "0.00s - Note: Debugging will proceed. Set PYDEVD_DISABLE_FILE_VALIDATION=1 to disable this validation.\n"
     ]
    }
   ],
   "source": [
    "rubric_item = 'q4: incorrect logic is used to answer'\n",
    "nb = new_clean_nb(read_nb(os.path.join(DIRECTORY, FILE)))\n",
    "nb = truncate_nb(nb, end=find_all_cell_indices(nb, \"code\", \"grader.check('q4')\")[-1])\n",
    "\n",
    "results[rubric_item] = parse_nb(run_nb(nb, os.path.join(directories[rubric_item], FILE)))"
   ]
  },
  {
   "cell_type": "raw",
   "id": "edd1381b",
   "metadata": {},
   "source": [
    "# END q4: incorrect logic is used to answer"
   ]
  },
  {
   "cell_type": "code",
   "execution_count": 71,
   "id": "ce849da6",
   "metadata": {},
   "outputs": [
    {
     "name": "stderr",
     "output_type": "stream",
     "text": [
      "0.00s - Debugger warning: It seems that frozen modules are being used, which may\n",
      "0.00s - make the debugger miss breakpoints. Please pass -Xfrozen_modules=off\n",
      "0.00s - to python to disable frozen modules.\n",
      "0.00s - Note: Debugging will proceed. Set PYDEVD_DISABLE_FILE_VALIDATION=1 to disable this validation.\n"
     ]
    }
   ],
   "source": [
    "gen_public_tests.gen_public_tests(os.path.join(directories[rubric_item], FILE))"
   ]
  },
  {
   "cell_type": "markdown",
   "id": "10442cb1",
   "metadata": {},
   "source": [
    "### q4: `planets_list` data structure is not used to answer"
   ]
  },
  {
   "cell_type": "code",
   "execution_count": 72,
   "id": "b253e28d",
   "metadata": {},
   "outputs": [],
   "source": [
    "rubric_item = 'q4: `planets_list` data structure is not used to answer'\n",
    "readme_text = \"\"\"Ensure you are using the `planets_list` data\n",
    "structure provided to extract necessary data.\n",
    "Review its usage and verify you are not\n",
    "re-processing data or using an alternative data\n",
    "structure.\"\"\"\n",
    "\n",
    "write_readme(readme_text, os.path.join(directories[rubric_item], \"README.txt\"))"
   ]
  },
  {
   "cell_type": "code",
   "execution_count": 73,
   "id": "54fdd4f9",
   "metadata": {},
   "outputs": [],
   "source": [
    "import os\n",
    "import csv\n",
    "import json\n",
    "import random\n",
    "\n",
    "\n",
    "def modify_data(directory):\n",
    "    \"\"\"\n",
    "    Modify the datasets in the given directory to comply with the test requirements.\n",
    "    \n",
    "    Args:\n",
    "    - directory: The path to the project directory containing the data.\n",
    "    \"\"\"\n",
    "    # Get the paths to all planet CSV files\n",
    "    planet_files = [f for f in os.listdir(os.path.join(directory, 'data')) if f.startswith('planets_')]\n",
    "    \n",
    "    # Iterate through each planet file\n",
    "    for planet_file in planet_files:\n",
    "        planet_path = os.path.join(directory, 'data', planet_file)\n",
    "        \n",
    "        # Read the data from the CSV file and modify values based on the conditions\n",
    "        modified_rows = []\n",
    "        with open(planet_path, 'r', encoding='utf-8') as file:\n",
    "            reader = csv.DictReader(file)\n",
    "            for row in reader:\n",
    "                # With probability of 1/3, delete or set to 0 the 'Insolation Flux [Earth Flux]' value\n",
    "                if random.choice([0, 1, 2]) == 0:\n",
    "                    row['Insolation Flux [Earth Flux]'] = ''\n",
    "                elif random.choice([0, 1, 2]) == 0:\n",
    "                    row['Insolation Flux [Earth Flux]'] = '0'\n",
    "\n",
    "                # With probability of 1/3, delete or set to 0 the 'Equilibrium Temperature [K]' value\n",
    "                if random.choice([0, 1, 2]) == 0:\n",
    "                    row['Equilibrium Temperature [K]'] = ''\n",
    "                elif random.choice([0, 1, 2]) == 0:\n",
    "                    row['Equilibrium Temperature [K]'] = '0'\n",
    "                \n",
    "                modified_rows.append(row)\n",
    "        \n",
    "        # Write the modified data back to the CSV file\n",
    "        with open(planet_path, 'w', encoding='utf-8', newline='') as file:\n",
    "            writer = csv.DictWriter(file, fieldnames=reader.fieldnames)\n",
    "            writer.writeheader()\n",
    "            writer.writerows(modified_rows)\n",
    "\n",
    "# First, we completely modify the dataset as per the rubric being tested\n",
    "# The 'directories' variable and 'rubric_item' must have been defined before calling this\n",
    "random_data(directories[rubric_item])\n",
    "\n",
    "# Now call the function that will modify the data to fit the specific test conditions\n",
    "modify_data(directories[rubric_item])"
   ]
  },
  {
   "cell_type": "raw",
   "id": "9d5e4bb2",
   "metadata": {},
   "source": [
    "# BEGIN q4: `planets_list` data structure is not used to answer"
   ]
  },
  {
   "cell_type": "code",
   "execution_count": 74,
   "id": "42884a60",
   "metadata": {},
   "outputs": [
    {
     "name": "stderr",
     "output_type": "stream",
     "text": [
      "0.00s - Debugger warning: It seems that frozen modules are being used, which may\n",
      "0.00s - make the debugger miss breakpoints. Please pass -Xfrozen_modules=off\n",
      "0.00s - to python to disable frozen modules.\n",
      "0.00s - Note: Debugging will proceed. Set PYDEVD_DISABLE_FILE_VALIDATION=1 to disable this validation.\n"
     ]
    }
   ],
   "source": [
    "rubric_item = 'q4: `planets_list` data structure is not used to answer'\n",
    "nb = read_nb(os.path.join(DIRECTORY, FILE))\n",
    "nb = new_clean_nb(nb)\n",
    "end_index = find_all_cell_indices(nb, \"code\", \"grader.check('q4')\")[-1]\n",
    "nb = truncate_nb(nb, end=end_index)\n",
    "\n",
    "new_planets_list = true_data_structures[\"planets_list\"] + '''\n",
    "import random\n",
    "\n",
    "random.seed(0)\n",
    "raw_planets = [list(planet) for planet in planets_list]\n",
    "rows_in_cols = {}\n",
    "for i in range(len(raw_planets[0])):\n",
    "    rows_in_cols[i] = []\n",
    "    for j in range(len(raw_planets)):\n",
    "        rows_in_cols[i].append(raw_planets[j][i])\n",
    "    random.shuffle(rows_in_cols[i])\n",
    "\n",
    "for j in range(len(raw_planets)):\n",
    "    for i in range(len(raw_planets[0])):\n",
    "        raw_planets[j][i] = rows_in_cols[i][j]\n",
    "planets_list = [Planet(*planet) for planet in raw_planets]'''\n",
    "nb = replace_with_false_data_structure(nb, 'planets_list', new_planets_list)\n",
    "\n",
    "results[rubric_item] = parse_nb(run_nb(nb, os.path.join(directories[rubric_item], FILE)))"
   ]
  },
  {
   "cell_type": "raw",
   "id": "95ea69f5",
   "metadata": {},
   "source": [
    "# END q4: `planets_list` data structure is not used to answer"
   ]
  },
  {
   "cell_type": "code",
   "execution_count": 75,
   "id": "74f1aaec",
   "metadata": {},
   "outputs": [
    {
     "name": "stderr",
     "output_type": "stream",
     "text": [
      "0.00s - Debugger warning: It seems that frozen modules are being used, which may\n",
      "0.00s - make the debugger miss breakpoints. Please pass -Xfrozen_modules=off\n",
      "0.00s - to python to disable frozen modules.\n",
      "0.00s - Note: Debugging will proceed. Set PYDEVD_DISABLE_FILE_VALIDATION=1 to disable this validation.\n"
     ]
    }
   ],
   "source": [
    "gen_public_tests.gen_public_tests(os.path.join(directories[rubric_item], FILE))"
   ]
  },
  {
   "cell_type": "markdown",
   "id": "aea56349",
   "metadata": {},
   "source": [
    "### q4: plot is incorrect"
   ]
  },
  {
   "cell_type": "code",
   "execution_count": 76,
   "id": "d9216376",
   "metadata": {},
   "outputs": [],
   "source": [
    "rubric_item = 'q4: plot is incorrect'\n",
    "readme_text = \"\"\"Ensure `plot_scatter` is called with the lists you\n",
    "constructed, with `insolation_flux` on the x-axis\n",
    "and the fourth power of `equilibrium_temperature`\n",
    "on the y-axis. Check if `plot_scatter` is\n",
    "correctly implemented and called where the plot is\n",
    "expected.\"\"\"\n",
    "\n",
    "write_readme(readme_text, os.path.join(directories[rubric_item], \"README.txt\"))"
   ]
  },
  {
   "cell_type": "raw",
   "id": "06e95b2d",
   "metadata": {},
   "source": [
    "# BEGIN q4: plot is incorrect"
   ]
  },
  {
   "cell_type": "code",
   "execution_count": 77,
   "id": "05dfeec8",
   "metadata": {},
   "outputs": [
    {
     "name": "stderr",
     "output_type": "stream",
     "text": [
      "0.00s - Debugger warning: It seems that frozen modules are being used, which may\n",
      "0.00s - make the debugger miss breakpoints. Please pass -Xfrozen_modules=off\n",
      "0.00s - to python to disable frozen modules.\n",
      "0.00s - Note: Debugging will proceed. Set PYDEVD_DISABLE_FILE_VALIDATION=1 to disable this validation.\n",
      "0.00s - Debugger warning: It seems that frozen modules are being used, which may\n",
      "0.00s - make the debugger miss breakpoints. Please pass -Xfrozen_modules=off\n",
      "0.00s - to python to disable frozen modules.\n",
      "0.00s - Note: Debugging will proceed. Set PYDEVD_DISABLE_FILE_VALIDATION=1 to disable this validation.\n"
     ]
    }
   ],
   "source": [
    "rubric_item = 'q4: plot is incorrect'\n",
    "nb = clean_nb(read_nb(os.path.join(DIRECTORY, FILE)))\n",
    "nb = truncate_nb(nb, end=find_all_cell_indices(nb, \"code\", \"grader.check('q4')\")[-1])\n",
    "nb = run_nb(nb, os.path.join(directories[rubric_item], FILE))\n",
    "if os.path.exists(os.path.join(directories[rubric_item], 'plot_image.png')):\n",
    "    os.remove(os.path.join(directories[rubric_item], 'plot_image.png'))\n",
    "plot_nb = truncate_nb(nb, start=find_all_cell_indices(nb, \"markdown\", \"**Question 4:**\")[-1])\n",
    "plot = get_last_plot(plot_nb, os.path.join(directories[rubric_item], 'plot_image.png'))\n",
    "\n",
    "# Injecting new global variable before the question starts\n",
    "plot_dict_code = '''\n",
    "hidn_plot_dict = {}\n",
    "\n",
    "import matplotlib.pyplot as plt    \n",
    "    \n",
    "def plot_scatter(x_data, y_data, x_label='x axis', y_label='y axis', c=None, s=7):\n",
    "    global hidn_plot_dict\n",
    "    hidn_plot_dict['x'] = x_data\n",
    "    hidn_plot_dict['y'] = y_data\n",
    "'''\n",
    "start_index = find_all_cell_indices(nb, \"markdown\", '**Question 4:**')[-1]+1\n",
    "nb = inject_code(nb, start_index, plot_dict_code)\n",
    "\n",
    "# Injecting test code at the end of the notebook to compare contents of hidn_plot_dict to the expected values\n",
    "test_code = '''\n",
    "expected_plots = public_tests.get_expected_plots()\n",
    "expected_flux = expected_plots['q4']['flux_list']\n",
    "expected_temp_4th_power = expected_plots['q4']['temp_4th_power_list']\n",
    "\n",
    "if (public_tests.compare(expected_flux, hidn_plot_dict.get('x', []), \"TEXT_FORMAT_ORDERED_LIST\") == public_tests.PASS and\n",
    "    public_tests.compare(expected_temp_4th_power, hidn_plot_dict.get('y', []), \"TEXT_FORMAT_ORDERED_LIST\") == public_tests.PASS):\n",
    "    test_output = 'q4 results: ' + public_tests.PASS\n",
    "'''\n",
    "nb = inject_code(nb, len(nb['cells']), get_test_text(\"q4\", test_code))\n",
    "\n",
    "results[rubric_item] = parse_nb(run_nb(nb, os.path.join(directories[rubric_item], FILE)))\n",
    "if plot == None:\n",
    "    results[rubric_item][rubric_item.split(\":\")[0]] = 'plot not found'\n",
    "    comments[rubric_item] += '\\nFAILED TEST: ' + results[rubric_item][rubric_item.split(\":\")[0]]"
   ]
  },
  {
   "cell_type": "raw",
   "id": "aa4368da",
   "metadata": {},
   "source": [
    "# END q4: plot is incorrect"
   ]
  },
  {
   "cell_type": "markdown",
   "id": "dcee95ce",
   "metadata": {},
   "source": [
    "### q4: plot is not properly labeled"
   ]
  },
  {
   "cell_type": "code",
   "execution_count": 78,
   "id": "7b64364d",
   "metadata": {},
   "outputs": [],
   "source": [
    "rubric_item = \"q4: plot is not properly labeled\"\n",
    "readme_text = \"\"\"The notebook is parsed and the\n",
    "plot for Question 4 is identified.\n",
    "The image is parsed, and the text\n",
    "in the left and bottom of the image\n",
    "are read.\n",
    "If any of the required labels are\n",
    "missing, then the test is deemed\n",
    "a failure.\"\"\" \n",
    "\n",
    "write_readme(readme_text, os.path.join(directories[rubric_item], \"README.txt\"))"
   ]
  },
  {
   "cell_type": "raw",
   "id": "42068fb6",
   "metadata": {},
   "source": [
    "# BEGIN q4: plot is not properly labeled"
   ]
  },
  {
   "cell_type": "code",
   "execution_count": 79,
   "id": "75ec32be",
   "metadata": {},
   "outputs": [
    {
     "name": "stderr",
     "output_type": "stream",
     "text": [
      "0.00s - Debugger warning: It seems that frozen modules are being used, which may\n",
      "0.00s - make the debugger miss breakpoints. Please pass -Xfrozen_modules=off\n",
      "0.00s - to python to disable frozen modules.\n",
      "0.00s - Note: Debugging will proceed. Set PYDEVD_DISABLE_FILE_VALIDATION=1 to disable this validation.\n",
      "0.00s - Debugger warning: It seems that frozen modules are being used, which may\n",
      "0.00s - make the debugger miss breakpoints. Please pass -Xfrozen_modules=off\n",
      "0.00s - to python to disable frozen modules.\n",
      "0.00s - Note: Debugging will proceed. Set PYDEVD_DISABLE_FILE_VALIDATION=1 to disable this validation.\n"
     ]
    }
   ],
   "source": [
    "rubric_item = 'q4: plot is not properly labeled'\n",
    "nb = clean_nb(read_nb(os.path.join(DIRECTORY, FILE)))\n",
    "nb = truncate_nb(nb, end=find_all_cell_indices(nb, \"code\", \"grader.check('q4')\")[-1])\n",
    "nb = run_nb(nb, os.path.join(directories[rubric_item], FILE))\n",
    "if os.path.exists(os.path.join(directories[rubric_item], 'plot_image.png')):\n",
    "    os.remove(os.path.join(directories[rubric_item], 'plot_image.png'))\n",
    "plot_nb = truncate_nb(nb, start=find_all_cell_indices(nb, \"markdown\", \"**Question 4:**\")[-1])\n",
    "plot = get_last_plot(plot_nb, os.path.join(directories[rubric_item], 'plot_image.png'))\n",
    "\n",
    "hidn_plot_title_dict_code = '''\n",
    "hidn_plot_title_dict = {}\n",
    "\n",
    "import matplotlib.pyplot as plt    \n",
    "    \n",
    "def plot_scatter(x_data, y_data, x_label='x axis', y_label='y axis', c=None, s=7):\n",
    "    global hidn_plot_title_dict\n",
    "    hidn_plot_title_dict['x'] = x_label\n",
    "    hidn_plot_title_dict['y'] = y_label\n",
    "'''\n",
    "nb = inject_code(nb, find_all_cell_indices(nb, \"markdown\", \"**Question 4:**\")[-1]+1, hidn_plot_title_dict_code)\n",
    "\n",
    "test_code = '''\n",
    "expected_x_label = 'Insolation Flux'\n",
    "expected_y_label = '(Equilibrium Temperature)**4'\n",
    "actual_x_label = hidn_plot_title_dict.get('x', None)\n",
    "actual_y_label = hidn_plot_title_dict.get('y', None)\n",
    "\n",
    "test_output = 'q4 results:'\n",
    "\n",
    "if public_tests.compare(expected_x_label, actual_x_label, \"TEXT_FORMAT\") == public_tests.PASS:\n",
    "    if public_tests.compare(expected_y_label, actual_y_label, \"TEXT_FORMAT\") == public_tests.PASS:\n",
    "        test_output = 'q4 results: ' + public_tests.PASS\n",
    "    else:\n",
    "        test_output += ' expected '  + repr(expected_y_label) + ' but found ' + repr(actual_y_label)\n",
    "else:\n",
    "    test_output += ' expected '  + repr(expected_x_label) + ' but found ' + repr(actual_x_label)\n",
    "'''\n",
    "nb = inject_code(nb, len(nb['cells']), get_test_text(\"q4\", test_code))\n",
    "\n",
    "results[rubric_item] = parse_nb(run_nb(nb, os.path.join(directories[rubric_item], FILE)))\n",
    "if plot == None:\n",
    "    results[rubric_item][rubric_item.split(\":\")[0]] = 'plot not found'\n",
    "\n",
    "test_output = results[rubric_item][rubric_item.split(\":\")[0]]\n",
    "if test_output != 'All test cases passed!':\n",
    "    comments[rubric_item] += '\\nFAILED TEST: ' + test_output"
   ]
  },
  {
   "cell_type": "raw",
   "id": "d4f76402",
   "metadata": {},
   "source": [
    "# END q4: plot is not properly labeled"
   ]
  },
  {
   "cell_type": "markdown",
   "id": "fe6f0e19",
   "metadata": {},
   "source": [
    "### q5: incorrect comparison operator is used"
   ]
  },
  {
   "cell_type": "code",
   "execution_count": 80,
   "id": "49f07ad9",
   "metadata": {},
   "outputs": [],
   "source": [
    "rubric_item = 'q5: incorrect comparison operator is used'\n",
    "readme_text = \"\"\"Check your comparison for `insolation_flux`\n",
    "values. Ensure you are using the correct operator\n",
    "to exclude values over 7000. Also, confirm you're\n",
    "correctly handling missing data. Review the use of\n",
    "comparison operators and conditional statements.\"\"\"\n",
    "\n",
    "write_readme(readme_text, os.path.join(directories[rubric_item], \"README.txt\"))"
   ]
  },
  {
   "cell_type": "code",
   "execution_count": 81,
   "id": "722b6b01",
   "metadata": {},
   "outputs": [],
   "source": [
    "import os\n",
    "import json\n",
    "import csv\n",
    "import random\n",
    "\n",
    "def modify_data(directory):\n",
    "    # Iterate over the 'planets_*.csv' files in the 'data' directory\n",
    "    for i in range(1, 6):\n",
    "        planet_file_name = f'planets_{i}.csv'\n",
    "        planet_file_path = os.path.join(directory, 'data', planet_file_name)\n",
    "        \n",
    "        # Read the existing contents of the file\n",
    "        with open(planet_file_path, mode='r', encoding='utf-8') as file:\n",
    "            reader = csv.DictReader(file)\n",
    "            planets_data = list(reader)\n",
    "        \n",
    "        # Modify some rows to set 'Insolation Flux [Earth Flux]' to 7000 with 1/3 probability\n",
    "        for row in planets_data:\n",
    "            if random.random() < 1/3:  # 1/3 probability\n",
    "                row['Insolation Flux [Earth Flux]'] = '7000.0'\n",
    "        \n",
    "        # Write the modified contents back to the file\n",
    "        with open(planet_file_path, mode='w', encoding='utf-8', newline='') as file:\n",
    "            writer = csv.DictWriter(file, fieldnames=reader.fieldnames, lineterminator='\\n')\n",
    "            writer.writeheader()\n",
    "            writer.writerows(planets_data)\n",
    "\n",
    "# The 'directories' and 'rubric_item' variables are predefined,\n",
    "# as is the 'random_data' function that generates random data.\n",
    "\n",
    "# Completely modify the dataset.\n",
    "random_data(directories[rubric_item])  # Call without specifying size to use default size\n",
    "\n",
    "# Call the modify_data function with the project directory path.\n",
    "modify_data(directories[rubric_item])"
   ]
  },
  {
   "cell_type": "raw",
   "id": "2eb47af0",
   "metadata": {},
   "source": [
    "# BEGIN q5: incorrect comparison operator is used"
   ]
  },
  {
   "cell_type": "code",
   "execution_count": 82,
   "id": "58f92be5",
   "metadata": {},
   "outputs": [
    {
     "name": "stderr",
     "output_type": "stream",
     "text": [
      "0.00s - Debugger warning: It seems that frozen modules are being used, which may\n",
      "0.00s - make the debugger miss breakpoints. Please pass -Xfrozen_modules=off\n",
      "0.00s - to python to disable frozen modules.\n",
      "0.00s - Note: Debugging will proceed. Set PYDEVD_DISABLE_FILE_VALIDATION=1 to disable this validation.\n"
     ]
    }
   ],
   "source": [
    "rubric_item = 'q5: incorrect comparison operator is used'\n",
    "nb = new_clean_nb(read_nb(os.path.join(DIRECTORY, FILE)))\n",
    "nb = truncate_nb(nb, end=find_all_cell_indices(nb, \"code\", \"grader.check('q5')\")[-1])\n",
    "\n",
    "results[rubric_item] = parse_nb(run_nb(nb, os.path.join(directories[rubric_item], FILE)))"
   ]
  },
  {
   "cell_type": "raw",
   "id": "46dadf83",
   "metadata": {},
   "source": [
    "# END q5: incorrect comparison operator is used"
   ]
  },
  {
   "cell_type": "code",
   "execution_count": 83,
   "id": "0c64254d",
   "metadata": {},
   "outputs": [
    {
     "name": "stderr",
     "output_type": "stream",
     "text": [
      "0.00s - Debugger warning: It seems that frozen modules are being used, which may\n",
      "0.00s - make the debugger miss breakpoints. Please pass -Xfrozen_modules=off\n",
      "0.00s - to python to disable frozen modules.\n",
      "0.00s - Note: Debugging will proceed. Set PYDEVD_DISABLE_FILE_VALIDATION=1 to disable this validation.\n"
     ]
    }
   ],
   "source": [
    "gen_public_tests.gen_public_tests(os.path.join(directories[rubric_item], FILE))"
   ]
  },
  {
   "cell_type": "markdown",
   "id": "eaff5034",
   "metadata": {},
   "source": [
    "### q5: `planets_list` data structure is not used to answer"
   ]
  },
  {
   "cell_type": "code",
   "execution_count": 84,
   "id": "e9e80fb3",
   "metadata": {},
   "outputs": [],
   "source": [
    "rubric_item = 'q5: `planets_list` data structure is not used to answer'\n",
    "readme_text = \"\"\"Check that you're using the `planets_list` data\n",
    "structure provided in the course materials. Ensure\n",
    "your code filters out planets with missing data\n",
    "and properly excludes planets with\n",
    "`insolation_flux` over 7000. Use list\n",
    "comprehensions or loops to create the required\n",
    "lists for plotting.\"\"\"\n",
    "\n",
    "write_readme(readme_text, os.path.join(directories[rubric_item], \"README.txt\"))"
   ]
  },
  {
   "cell_type": "raw",
   "id": "bd618d82",
   "metadata": {},
   "source": [
    "# BEGIN q5: `planets_list` data structure is not used to answer"
   ]
  },
  {
   "cell_type": "code",
   "execution_count": 85,
   "id": "75f38c23",
   "metadata": {},
   "outputs": [
    {
     "name": "stderr",
     "output_type": "stream",
     "text": [
      "0.00s - Debugger warning: It seems that frozen modules are being used, which may\n",
      "0.00s - make the debugger miss breakpoints. Please pass -Xfrozen_modules=off\n",
      "0.00s - to python to disable frozen modules.\n",
      "0.00s - Note: Debugging will proceed. Set PYDEVD_DISABLE_FILE_VALIDATION=1 to disable this validation.\n"
     ]
    }
   ],
   "source": [
    "rubric_item = 'q5: `planets_list` data structure is not used to answer'\n",
    "nb = read_nb(os.path.join(DIRECTORY, FILE))\n",
    "nb = new_clean_nb(nb)\n",
    "nb = truncate_nb(nb, end=find_all_cell_indices(nb, \"code\", \"grader.check('q5')\")[-1])\n",
    "\n",
    "false_planets_list = true_data_structures[\"planets_list\"] + '''\n",
    "import random\n",
    "\n",
    "random.seed(0)\n",
    "raw_planets = [list(planet) for planet in planets_list]\n",
    "rows_in_cols = {}\n",
    "for i in range(len(raw_planets[0])):\n",
    "    rows_in_cols[i] = []\n",
    "    for j in range(len(raw_planets)):\n",
    "        rows_in_cols[i].append(raw_planets[j][i])\n",
    "    random.shuffle(rows_in_cols[i])\n",
    "\n",
    "for j in range(len(raw_planets)):\n",
    "    for i in range(len(raw_planets[0])):\n",
    "        raw_planets[j][i] = rows_in_cols[i][j]\n",
    "planets_list = [Planet(*planet) for planet in raw_planets]'''\n",
    "nb = replace_with_false_data_structure(nb, 'planets_list', false_planets_list)\n",
    "\n",
    "results[rubric_item] = parse_nb(run_nb(nb, os.path.join(directories[rubric_item], FILE)))"
   ]
  },
  {
   "cell_type": "raw",
   "id": "4085a885",
   "metadata": {},
   "source": [
    "# END q5: `planets_list` data structure is not used to answer"
   ]
  },
  {
   "cell_type": "code",
   "execution_count": 86,
   "id": "236c595d",
   "metadata": {},
   "outputs": [
    {
     "name": "stderr",
     "output_type": "stream",
     "text": [
      "0.00s - Debugger warning: It seems that frozen modules are being used, which may\n",
      "0.00s - make the debugger miss breakpoints. Please pass -Xfrozen_modules=off\n",
      "0.00s - to python to disable frozen modules.\n",
      "0.00s - Note: Debugging will proceed. Set PYDEVD_DISABLE_FILE_VALIDATION=1 to disable this validation.\n"
     ]
    }
   ],
   "source": [
    "gen_public_tests.gen_public_tests(os.path.join(directories[rubric_item], FILE))"
   ]
  },
  {
   "cell_type": "markdown",
   "id": "63129cca",
   "metadata": {},
   "source": [
    "### q5: plot is incorrect"
   ]
  },
  {
   "cell_type": "code",
   "execution_count": 87,
   "id": "8b25faf2",
   "metadata": {},
   "outputs": [],
   "source": [
    "rubric_item = 'q5: plot is incorrect'\n",
    "readme_text = \"\"\"Ensure you're plotting the correct data, exclude\n",
    "insolation_flux > 7000, and check for missing\n",
    "values. Verify the usage of the plot_scatter\n",
    "function and confirm the plot's visibility in the\n",
    "assigned cell.\"\"\"\n",
    "\n",
    "write_readme(readme_text, os.path.join(directories[rubric_item], \"README.txt\"))"
   ]
  },
  {
   "cell_type": "raw",
   "id": "38345022",
   "metadata": {},
   "source": [
    "# BEGIN q5: plot is incorrect"
   ]
  },
  {
   "cell_type": "code",
   "execution_count": 88,
   "id": "3ee13196",
   "metadata": {},
   "outputs": [
    {
     "name": "stderr",
     "output_type": "stream",
     "text": [
      "0.00s - Debugger warning: It seems that frozen modules are being used, which may\n",
      "0.00s - make the debugger miss breakpoints. Please pass -Xfrozen_modules=off\n",
      "0.00s - to python to disable frozen modules.\n",
      "0.00s - Note: Debugging will proceed. Set PYDEVD_DISABLE_FILE_VALIDATION=1 to disable this validation.\n",
      "0.00s - Debugger warning: It seems that frozen modules are being used, which may\n",
      "0.00s - make the debugger miss breakpoints. Please pass -Xfrozen_modules=off\n",
      "0.00s - to python to disable frozen modules.\n",
      "0.00s - Note: Debugging will proceed. Set PYDEVD_DISABLE_FILE_VALIDATION=1 to disable this validation.\n"
     ]
    }
   ],
   "source": [
    "rubric_item = 'q5: plot is incorrect'\n",
    "nb = clean_nb(read_nb(os.path.join(DIRECTORY, FILE)))\n",
    "nb = truncate_nb(nb, end=find_all_cell_indices(nb, \"code\", \"grader.check('q5')\")[-1])\n",
    "nb = run_nb(nb, os.path.join(directories[rubric_item], FILE))\n",
    "if os.path.exists(os.path.join(directories[rubric_item], 'plot_image.png')):\n",
    "    os.remove(os.path.join(directories[rubric_item], 'plot_image.png'))\n",
    "plot_nb = truncate_nb(nb, start=find_all_cell_indices(nb, \"markdown\", \"**Question 5:**\")[-1])\n",
    "plot = get_last_plot(plot_nb, os.path.join(directories[rubric_item], 'plot_image.png'))\n",
    "\n",
    "hidn_plot_dict_code = '''\n",
    "hidn_plot_dict = {}\n",
    "\n",
    "import matplotlib.pyplot as plt    \n",
    "    \n",
    "def plot_scatter(x_data, y_data, x_label='x axis', y_label='y axis', c=None, s=7):\n",
    "    global hidn_plot_dict\n",
    "    hidn_plot_dict['x'] = x_data\n",
    "    hidn_plot_dict['y'] = y_data\n",
    "'''\n",
    "nb = inject_code(nb, find_all_cell_indices(nb, \"markdown\", \"**Question 5:**\")[-1]+1, hidn_plot_dict_code)\n",
    "\n",
    "test_code = '''\n",
    "expected_plots = public_tests.get_expected_plots()\n",
    "expected_flux_list = expected_plots['q5']['flux_list_no_outliers']\n",
    "expected_temp_4th_power_list = expected_plots['q5']['temp_4th_power_list_no_outliers']\n",
    "\n",
    "if public_tests.compare(expected_flux_list, hidn_plot_dict.get('x'), \"TEXT_FORMAT_ORDERED_LIST\") == public_tests.PASS:\n",
    "    if public_tests.compare(expected_temp_4th_power_list, hidn_plot_dict.get('y'), \"TEXT_FORMAT_ORDERED_LIST\") == public_tests.PASS:\n",
    "        test_output = 'q5 results: ' + public_tests.PASS\n",
    "'''\n",
    "nb = inject_code(nb, len(nb['cells']), get_test_text(\"q5\", test_code))\n",
    "\n",
    "results[rubric_item] = parse_nb(run_nb(nb, os.path.join(directories[rubric_item], FILE)))\n",
    "if plot == None:\n",
    "    results[rubric_item][rubric_item.split(\":\")[0]] = 'plot not found'\n",
    "    comments[rubric_item] += '\\nFAILED TEST: ' + results[rubric_item][rubric_item.split(\":\")[0]]"
   ]
  },
  {
   "cell_type": "raw",
   "id": "0aa0bdf2",
   "metadata": {},
   "source": [
    "# END q5: plot is incorrect"
   ]
  },
  {
   "cell_type": "code",
   "execution_count": 89,
   "id": "67f642c2",
   "metadata": {},
   "outputs": [
    {
     "name": "stderr",
     "output_type": "stream",
     "text": [
      "0.00s - Debugger warning: It seems that frozen modules are being used, which may\n",
      "0.00s - make the debugger miss breakpoints. Please pass -Xfrozen_modules=off\n",
      "0.00s - to python to disable frozen modules.\n",
      "0.00s - Note: Debugging will proceed. Set PYDEVD_DISABLE_FILE_VALIDATION=1 to disable this validation.\n"
     ]
    }
   ],
   "source": [
    "gen_public_tests.gen_public_tests(os.path.join(directories[rubric_item], FILE))"
   ]
  },
  {
   "cell_type": "markdown",
   "id": "0749a272",
   "metadata": {},
   "source": [
    "### q5: plot is not properly labeled"
   ]
  },
  {
   "cell_type": "code",
   "execution_count": 90,
   "id": "98cffdad",
   "metadata": {},
   "outputs": [],
   "source": [
    "rubric_item = \"q5: plot is not properly labeled\"\n",
    "readme_text = \"\"\"The notebook is parsed and the\n",
    "plot for Question 5 is identified.\n",
    "The image is parsed, and the text\n",
    "in the left and bottom of the image\n",
    "are read.\n",
    "If any of the required labels are\n",
    "missing, then the test is deemed\n",
    "a failure.\"\"\" \n",
    "\n",
    "write_readme(readme_text, os.path.join(directories[rubric_item], \"README.txt\"))"
   ]
  },
  {
   "cell_type": "raw",
   "id": "6fc854a2",
   "metadata": {},
   "source": [
    "# BEGIN q5: plot is not properly labeled"
   ]
  },
  {
   "cell_type": "code",
   "execution_count": 91,
   "id": "293e13ed",
   "metadata": {},
   "outputs": [
    {
     "name": "stderr",
     "output_type": "stream",
     "text": [
      "0.00s - Debugger warning: It seems that frozen modules are being used, which may\n",
      "0.00s - make the debugger miss breakpoints. Please pass -Xfrozen_modules=off\n",
      "0.00s - to python to disable frozen modules.\n",
      "0.00s - Note: Debugging will proceed. Set PYDEVD_DISABLE_FILE_VALIDATION=1 to disable this validation.\n",
      "0.00s - Debugger warning: It seems that frozen modules are being used, which may\n",
      "0.00s - make the debugger miss breakpoints. Please pass -Xfrozen_modules=off\n",
      "0.00s - to python to disable frozen modules.\n",
      "0.00s - Note: Debugging will proceed. Set PYDEVD_DISABLE_FILE_VALIDATION=1 to disable this validation.\n"
     ]
    }
   ],
   "source": [
    "rubric_item = 'q5: plot is not properly labeled'\n",
    "nb = clean_nb(read_nb(os.path.join(DIRECTORY, FILE)))\n",
    "nb = truncate_nb(nb, end=find_all_cell_indices(nb, \"code\", \"grader.check('q5')\")[-1])\n",
    "nb = run_nb(nb, os.path.join(directories[rubric_item], FILE))\n",
    "if os.path.exists(os.path.join(directories[rubric_item], 'plot_image.png')):\n",
    "    os.remove(os.path.join(directories[rubric_item], 'plot_image.png'))\n",
    "plot_nb = truncate_nb(nb, start=find_all_cell_indices(nb, \"markdown\", \"**Question 5:**\")[-1])\n",
    "plot = get_last_plot(plot_nb, os.path.join(directories[rubric_item], 'plot_image.png'))\n",
    "\n",
    "hidn_plot_title_dict_code = '''\n",
    "hidn_plot_title_dict = {}\n",
    "\n",
    "import matplotlib.pyplot as plt    \n",
    "    \n",
    "def plot_scatter(x_data, y_data, x_label='x axis', y_label='y axis', c=None, s=7):\n",
    "    global hidn_plot_title_dict\n",
    "    hidn_plot_title_dict['x'] = x_label\n",
    "    hidn_plot_title_dict['y'] = y_label\n",
    "'''\n",
    "nb = inject_code(nb, find_all_cell_indices(nb, \"markdown\", \"**Question 5:**\")[-1]+1, hidn_plot_title_dict_code)\n",
    "\n",
    "test_code = '''\n",
    "expected_x_label = 'Insolation Flux'\n",
    "expected_y_label = '(Equilibrium Temperature)**4'\n",
    "actual_x_label = hidn_plot_title_dict.get('x', None)\n",
    "actual_y_label = hidn_plot_title_dict.get('y', None)\n",
    "\n",
    "test_output = 'q5 results:'\n",
    "\n",
    "if public_tests.compare(expected_x_label, actual_x_label, \"TEXT_FORMAT\") == public_tests.PASS:\n",
    "    if public_tests.compare(expected_y_label, actual_y_label, \"TEXT_FORMAT\") == public_tests.PASS:\n",
    "        test_output = 'q5 results: ' + public_tests.PASS\n",
    "    else:\n",
    "        test_output += ' expected '  + repr(expected_y_label) + ' but found ' + repr(actual_y_label)\n",
    "else:\n",
    "    test_output += ' expected '  + repr(expected_x_label) + ' but found ' + repr(actual_x_label)\n",
    "'''\n",
    "nb = inject_code(nb, len(nb['cells']), get_test_text(\"q5\", test_code))\n",
    "\n",
    "results[rubric_item] = parse_nb(run_nb(nb, os.path.join(directories[rubric_item], FILE)))\n",
    "if plot == None:\n",
    "    results[rubric_item][rubric_item.split(\":\")[0]] = 'plot not found'\n",
    "\n",
    "test_output = results[rubric_item][rubric_item.split(\":\")[0]]\n",
    "if test_output != 'All test cases passed!':\n",
    "    comments[rubric_item] += '\\nFAILED TEST: ' + test_output"
   ]
  },
  {
   "cell_type": "raw",
   "id": "e38b682a",
   "metadata": {},
   "source": [
    "# END q5: plot is not properly labeled"
   ]
  },
  {
   "cell_type": "markdown",
   "id": "ba3dcf4a",
   "metadata": {},
   "source": [
    "### star_classes: data structure is defined incorrectly"
   ]
  },
  {
   "cell_type": "code",
   "execution_count": 92,
   "id": "d8a641ae",
   "metadata": {},
   "outputs": [],
   "source": [
    "rubric_item = 'star_classes: data structure is defined incorrectly'\n",
    "readme_text = \"\"\"Ensure that your `star_classes` dictionary uses\n",
    "the correct keys and that you are appending star\n",
    "names to the appropriate lists based on the\n",
    "`stellar_mass`. Review the hints provided in the\n",
    "question to classify the stars accurately, and\n",
    "make sure you've correctly initialized the\n",
    "dictionary as required.\"\"\"\n",
    "\n",
    "write_readme(readme_text, os.path.join(directories[rubric_item], \"README.txt\"))"
   ]
  },
  {
   "cell_type": "raw",
   "id": "112d1a75",
   "metadata": {},
   "source": [
    "# BEGIN star_classes: data structure is defined incorrectly"
   ]
  },
  {
   "cell_type": "code",
   "execution_count": 93,
   "id": "06194ddc",
   "metadata": {},
   "outputs": [
    {
     "name": "stderr",
     "output_type": "stream",
     "text": [
      "0.00s - Debugger warning: It seems that frozen modules are being used, which may\n",
      "0.00s - make the debugger miss breakpoints. Please pass -Xfrozen_modules=off\n",
      "0.00s - to python to disable frozen modules.\n",
      "0.00s - Note: Debugging will proceed. Set PYDEVD_DISABLE_FILE_VALIDATION=1 to disable this validation.\n"
     ]
    }
   ],
   "source": [
    "rubric_item = 'star_classes: data structure is defined incorrectly'\n",
    "nb = read_nb(os.path.join(DIRECTORY, FILE))\n",
    "nb = new_clean_nb(nb)\n",
    "\n",
    "# Find the cell index after the definition of 'star_classes'\n",
    "end_idx = find_all_cell_indices(nb, \"code\", \"grader.check('star_classes')\")[-1]\n",
    "\n",
    "# Truncate the notebook to that cell index to save compute\n",
    "nb = truncate_nb(nb, end=end_idx)\n",
    "\n",
    "# Inject data_structure check code for 'star_classes'\n",
    "nb = inject_data_structure_check(nb, 'star_classes', \"TEXT_FORMAT_DICT\")\n",
    "\n",
    "results[rubric_item] = parse_nb(run_nb(nb, os.path.join(directories[rubric_item], FILE)))"
   ]
  },
  {
   "cell_type": "raw",
   "id": "317c152c",
   "metadata": {},
   "source": [
    "# END star_classes: data structure is defined incorrectly"
   ]
  },
  {
   "cell_type": "code",
   "execution_count": 94,
   "id": "534ce7a3",
   "metadata": {},
   "outputs": [
    {
     "name": "stderr",
     "output_type": "stream",
     "text": [
      "0.00s - Debugger warning: It seems that frozen modules are being used, which may\n",
      "0.00s - make the debugger miss breakpoints. Please pass -Xfrozen_modules=off\n",
      "0.00s - to python to disable frozen modules.\n",
      "0.00s - Note: Debugging will proceed. Set PYDEVD_DISABLE_FILE_VALIDATION=1 to disable this validation.\n"
     ]
    }
   ],
   "source": [
    "gen_public_tests.gen_public_tests(os.path.join(directories[rubric_item], FILE))"
   ]
  },
  {
   "cell_type": "markdown",
   "id": "b8429211",
   "metadata": {},
   "source": [
    "### star_classes: incorrect comparison operators are used"
   ]
  },
  {
   "cell_type": "code",
   "execution_count": 95,
   "id": "a26ff4bc",
   "metadata": {},
   "outputs": [],
   "source": [
    "rubric_item = 'star_classes: incorrect comparison operators are used'\n",
    "readme_text = \"\"\"Ensure you have used the correct comparison\n",
    "operators to classify star masses (greater than,\n",
    "less than, etc.). Double-check the boundaries\n",
    "between classes (e.g., 0.3, 8, and 10.5 solar\n",
    "masses) and include the correct stars in the\n",
    "corresponding lists.\"\"\"\n",
    "\n",
    "write_readme(readme_text, os.path.join(directories[rubric_item], \"README.txt\"))"
   ]
  },
  {
   "cell_type": "code",
   "execution_count": 96,
   "id": "ac8853c3",
   "metadata": {},
   "outputs": [],
   "source": [
    "import os\n",
    "import pandas as pd\n",
    "import json\n",
    "\n",
    "def modify_data(directory):\n",
    "    # Paths for the stars files in the data directory\n",
    "    stars_files = [f'stars_{i}.csv' for i in range(1, 6)]\n",
    "\n",
    "    # Modify each stars file\n",
    "    for filename in stars_files:\n",
    "        file_path = os.path.join(directory, 'data', filename)\n",
    "        # Read the data from the csv file\n",
    "        stars_data = pd.read_csv(file_path, encoding='utf-8')\n",
    "        \n",
    "        # Get the number of rows that need to be modified to half the data\n",
    "        num_rows = len(stars_data) // 2\n",
    "        \n",
    "        # Change 'Stellar Mass [Solar mass]' to either 0.3, 8, or 10.5 for half the rows\n",
    "        choices = [0.3, 8, 10.5]\n",
    "        mass_modifications = [choices[i % 3] for i in range(num_rows)]\n",
    "        \n",
    "        # Apply the modifications randomly to half the rows\n",
    "        rows_to_modify = stars_data.sample(num_rows).index\n",
    "        stars_data.loc[rows_to_modify, 'Stellar Mass [Solar mass]'] = mass_modifications\n",
    "        \n",
    "        # Save the modified data back to the file\n",
    "        stars_data.to_csv(file_path, index=False, encoding='utf-8')\n",
    "\n",
    "# Assume 'directories' and 'rubric_item' have been defined\n",
    "# Generate completely random datasets as per test details and call the modify_data function\n",
    "random_data(directories[rubric_item])  # Call random_data function with default size\n",
    "modify_data(directories[rubric_item])  # Modify the data using the directory of the current rubric item"
   ]
  },
  {
   "cell_type": "raw",
   "id": "38d9edf2",
   "metadata": {},
   "source": [
    "# BEGIN star_classes: incorrect comparison operators are used"
   ]
  },
  {
   "cell_type": "code",
   "execution_count": 97,
   "id": "c3b32611",
   "metadata": {},
   "outputs": [
    {
     "name": "stderr",
     "output_type": "stream",
     "text": [
      "0.00s - Debugger warning: It seems that frozen modules are being used, which may\n",
      "0.00s - make the debugger miss breakpoints. Please pass -Xfrozen_modules=off\n",
      "0.00s - to python to disable frozen modules.\n",
      "0.00s - Note: Debugging will proceed. Set PYDEVD_DISABLE_FILE_VALIDATION=1 to disable this validation.\n"
     ]
    }
   ],
   "source": [
    "rubric_item = 'star_classes: incorrect comparison operators are used'\n",
    "nb = read_nb(os.path.join(DIRECTORY, FILE))\n",
    "nb = new_clean_nb(nb)\n",
    "nb = truncate_nb(nb, end=find_all_cell_indices(nb, \"code\", \"grader.check('star_classes')\")[-1])\n",
    "\n",
    "# Inject data_structure check code for 'star_classes'\n",
    "nb = inject_data_structure_check(nb, 'star_classes', \"TEXT_FORMAT_DICT\")\n",
    "\n",
    "results[rubric_item] = parse_nb(run_nb(nb, os.path.join(directories[rubric_item], FILE)))"
   ]
  },
  {
   "cell_type": "raw",
   "id": "a9726fd6",
   "metadata": {},
   "source": [
    "# END star_classes: incorrect comparison operators are used"
   ]
  },
  {
   "cell_type": "code",
   "execution_count": 98,
   "id": "198a19a6",
   "metadata": {
    "scrolled": true
   },
   "outputs": [
    {
     "name": "stderr",
     "output_type": "stream",
     "text": [
      "0.00s - Debugger warning: It seems that frozen modules are being used, which may\n",
      "0.00s - make the debugger miss breakpoints. Please pass -Xfrozen_modules=off\n",
      "0.00s - to python to disable frozen modules.\n",
      "0.00s - Note: Debugging will proceed. Set PYDEVD_DISABLE_FILE_VALIDATION=1 to disable this validation.\n"
     ]
    }
   ],
   "source": [
    "gen_public_tests.gen_public_tests(os.path.join(directories[rubric_item], FILE))"
   ]
  },
  {
   "cell_type": "markdown",
   "id": "69f3ad46",
   "metadata": {},
   "source": [
    "### star_classes: `stars_dict` data structure is not used"
   ]
  },
  {
   "cell_type": "code",
   "execution_count": 99,
   "id": "a03a5354",
   "metadata": {},
   "outputs": [],
   "source": [
    "rubric_item = 'star_classes: `stars_dict` data structure is not used'\n",
    "readme_text = \"\"\"Check that your code is utilizing the provided\n",
    "`stars_dict` as expected. Ensure that you\n",
    "reference its keys and associated `Star` object\n",
    "attributes correctly when classifying stars, and\n",
    "that your conditions for classification align with\n",
    "the prompts given. Make sure you are not\n",
    "redefining `stars_dict` or using an outdated\n",
    "version of it.\"\"\"\n",
    "\n",
    "write_readme(readme_text, os.path.join(directories[rubric_item], \"README.txt\"))"
   ]
  },
  {
   "cell_type": "code",
   "execution_count": 100,
   "id": "0f241e0f",
   "metadata": {},
   "outputs": [],
   "source": [
    "random_data(directories[rubric_item], 10)"
   ]
  },
  {
   "cell_type": "raw",
   "id": "488c8865",
   "metadata": {},
   "source": [
    "# BEGIN star_classes: `stars_dict` data structure is not used"
   ]
  },
  {
   "cell_type": "code",
   "execution_count": 101,
   "id": "639bf22f",
   "metadata": {},
   "outputs": [
    {
     "name": "stderr",
     "output_type": "stream",
     "text": [
      "0.00s - Debugger warning: It seems that frozen modules are being used, which may\n",
      "0.00s - make the debugger miss breakpoints. Please pass -Xfrozen_modules=off\n",
      "0.00s - to python to disable frozen modules.\n",
      "0.00s - Note: Debugging will proceed. Set PYDEVD_DISABLE_FILE_VALIDATION=1 to disable this validation.\n"
     ]
    }
   ],
   "source": [
    "rubric_item = 'star_classes: `stars_dict` data structure is not used'\n",
    "nb = read_nb(os.path.join(DIRECTORY, FILE))\n",
    "nb = new_clean_nb(nb)\n",
    "end_idx = find_all_cell_indices(nb, \"code\", \"grader.check('star_classes')\")[-1]\n",
    "nb = truncate_nb(nb, end=end_idx)\n",
    "\n",
    "# Inject data_structure check code for 'star_classes'\n",
    "nb = inject_data_structure_check(nb, 'star_classes', \"TEXT_FORMAT_DICT\")\n",
    "\n",
    "new_stars_dict = true_data_structures[\"stars_dict\"] + '''\n",
    "import random\n",
    "\n",
    "random.seed(0)\n",
    "stars_dict_keys = list(stars_dict.keys())\n",
    "stars_dict_values = list(stars_dict.values())\n",
    "random.shuffle(stars_dict_keys)\n",
    "random.shuffle(stars_dict_values)\n",
    "\n",
    "stars_dict = {}\n",
    "for i in range(len(stars_dict_keys)):\n",
    "    stars_dict[stars_dict_keys[i]] = stars_dict_values[i]\n",
    "'''\n",
    "nb = replace_with_false_data_structure(nb, 'stars_dict', new_stars_dict)\n",
    "\n",
    "results[rubric_item] = parse_nb(run_nb(nb, os.path.join(directories[rubric_item], FILE)))"
   ]
  },
  {
   "cell_type": "raw",
   "id": "1a65379e",
   "metadata": {},
   "source": [
    "# END star_classes: `stars_dict` data structure is not used"
   ]
  },
  {
   "cell_type": "code",
   "execution_count": 102,
   "id": "ae73dc5f",
   "metadata": {},
   "outputs": [
    {
     "name": "stderr",
     "output_type": "stream",
     "text": [
      "0.00s - Debugger warning: It seems that frozen modules are being used, which may\n",
      "0.00s - make the debugger miss breakpoints. Please pass -Xfrozen_modules=off\n",
      "0.00s - to python to disable frozen modules.\n",
      "0.00s - Note: Debugging will proceed. Set PYDEVD_DISABLE_FILE_VALIDATION=1 to disable this validation.\n"
     ]
    }
   ],
   "source": [
    "gen_public_tests.gen_public_tests(os.path.join(directories[rubric_item], FILE))"
   ]
  },
  {
   "cell_type": "markdown",
   "id": "7c2ea594",
   "metadata": {},
   "source": [
    "### q6: incorrect logic is used to answer"
   ]
  },
  {
   "cell_type": "code",
   "execution_count": 103,
   "id": "484060e5",
   "metadata": {},
   "outputs": [],
   "source": [
    "rubric_item = 'q6: incorrect logic is used to answer'\n",
    "readme_text = \"\"\"Verify handling of missing data and calculations\n",
    "within your logic. Ensure that zeros are not\n",
    "treated as missing and averaging only considers\n",
    "present values. Review dataset alterations and\n",
    "retest accordingly.\"\"\"\n",
    "\n",
    "write_readme(readme_text, os.path.join(directories[rubric_item], \"README.txt\"))"
   ]
  },
  {
   "cell_type": "code",
   "execution_count": 104,
   "id": "313e5111",
   "metadata": {},
   "outputs": [],
   "source": [
    "import os\n",
    "import csv\n",
    "import json\n",
    "import random\n",
    "\n",
    "def modify_data(directory):\n",
    "    # Define the filenames for stars CSV files\n",
    "    stars_files = [f'stars_{i}.csv' for i in range(1, 6)]\n",
    "\n",
    "    for filename in stars_files:\n",
    "        # Construct the full path to the current stars file\n",
    "        file_path = os.path.join(directory, 'data', filename)\n",
    "        # List to store modified rows\n",
    "        modified_data = []\n",
    "\n",
    "        # Open the current stars CSV file\n",
    "        with open(file_path, mode='r', encoding='utf-8') as file:\n",
    "            reader = csv.DictReader(file)\n",
    "            for row in reader:\n",
    "                # Randomly decide to modify the stellar luminosity to 0 with 1/3 probability\n",
    "                if random.random() < 1/3:\n",
    "                    row['Stellar Luminosity [log(Solar)]'] = '0'\n",
    "                row['Stellar Mass [Solar mass]'] = '%.3f' % (random.uniform(0.1, 15))\n",
    "                modified_data.append(row)\n",
    "\n",
    "            # Fieldnames (i.e., column names) to be used in writing the CSV file\n",
    "            fieldnames = reader.fieldnames\n",
    "\n",
    "        # Write the modified data to the same file, overwriting it\n",
    "        with open(file_path, mode='w', encoding='utf-8', newline='') as file:\n",
    "            writer = csv.DictWriter(file, fieldnames=fieldnames)\n",
    "            writer.writeheader()  # Write the column headers\n",
    "            writer.writerows(modified_data)  # Write the modified data\n",
    "\n",
    "# Call the required functions as per instructions\n",
    "random_data(directories[rubric_item])  # Generate completely new randomized data, no size specified, use default\n",
    "modify_data(directories[rubric_item])  # Modify the generated data based on the test details"
   ]
  },
  {
   "cell_type": "raw",
   "id": "68fb10a7",
   "metadata": {},
   "source": [
    "# BEGIN q6: incorrect logic is used to answer"
   ]
  },
  {
   "cell_type": "code",
   "execution_count": 105,
   "id": "0cb5e7fe",
   "metadata": {},
   "outputs": [
    {
     "name": "stderr",
     "output_type": "stream",
     "text": [
      "0.00s - Debugger warning: It seems that frozen modules are being used, which may\n",
      "0.00s - make the debugger miss breakpoints. Please pass -Xfrozen_modules=off\n",
      "0.00s - to python to disable frozen modules.\n",
      "0.00s - Note: Debugging will proceed. Set PYDEVD_DISABLE_FILE_VALIDATION=1 to disable this validation.\n"
     ]
    }
   ],
   "source": [
    "rubric_item = 'q6: incorrect logic is used to answer'\n",
    "nb = new_clean_nb(read_nb(os.path.join(DIRECTORY, FILE)))\n",
    "nb = truncate_nb(nb, end=find_all_cell_indices(nb, \"code\", \"grader.check('q6')\")[-1])\n",
    "\n",
    "results[rubric_item] = parse_nb(run_nb(nb, os.path.join(directories[rubric_item], FILE)))"
   ]
  },
  {
   "cell_type": "raw",
   "id": "91a15b92",
   "metadata": {},
   "source": [
    "# END q6: incorrect logic is used to answer"
   ]
  },
  {
   "cell_type": "code",
   "execution_count": 106,
   "id": "826b73f6",
   "metadata": {},
   "outputs": [
    {
     "name": "stderr",
     "output_type": "stream",
     "text": [
      "0.00s - Debugger warning: It seems that frozen modules are being used, which may\n",
      "0.00s - make the debugger miss breakpoints. Please pass -Xfrozen_modules=off\n",
      "0.00s - to python to disable frozen modules.\n",
      "0.00s - Note: Debugging will proceed. Set PYDEVD_DISABLE_FILE_VALIDATION=1 to disable this validation.\n"
     ]
    }
   ],
   "source": [
    "gen_public_tests.gen_public_tests(os.path.join(directories[rubric_item], FILE))"
   ]
  },
  {
   "cell_type": "markdown",
   "id": "a1c43e8b",
   "metadata": {},
   "source": [
    "### q6: did not ignore the `Star` objects with missing `stellar_luminosity` data"
   ]
  },
  {
   "cell_type": "code",
   "execution_count": 107,
   "id": "ee9c6947",
   "metadata": {},
   "outputs": [],
   "source": [
    "rubric_item = 'q6: did not ignore the `Star` objects with missing `stellar_luminosity` data'\n",
    "readme_text = \"\"\"Check for `None` values when computing average\n",
    "luminosity. Modify the code to skip stars with\n",
    "missing `stellar_luminosity` data. Consider using\n",
    "an `if` condition to filter out such cases.\"\"\"\n",
    "\n",
    "write_readme(readme_text, os.path.join(directories[rubric_item], \"README.txt\"))"
   ]
  },
  {
   "cell_type": "code",
   "execution_count": 108,
   "id": "33e08c31",
   "metadata": {},
   "outputs": [],
   "source": [
    "import os\n",
    "import csv\n",
    "import json\n",
    "import random\n",
    "\n",
    "def modify_data(directory):\n",
    "    # Define the filenames for stars CSV files\n",
    "    stars_files = [f'stars_{i}.csv' for i in range(1, 6)]\n",
    "\n",
    "    for filename in stars_files:\n",
    "        # Construct the full path to the current stars file\n",
    "        file_path = os.path.join(directory, 'data', filename)\n",
    "        # List to store modified rows\n",
    "        modified_data = []\n",
    "\n",
    "        # Open the current stars CSV file\n",
    "        with open(file_path, mode='r', encoding='utf-8') as file:\n",
    "            reader = csv.DictReader(file)\n",
    "            for row in reader:\n",
    "                # Randomly decide to delete the stellar luminosity with 1/3 probability\n",
    "                if random.random() < 1/3:\n",
    "                    row['Stellar Luminosity [log(Solar)]'] = ''\n",
    "                row['Stellar Mass [Solar mass]'] = '%.3f' % (random.uniform(0.1, 15))\n",
    "                modified_data.append(row)\n",
    "\n",
    "            # Fieldnames (i.e., column names) to be used in writing the CSV file\n",
    "            fieldnames = reader.fieldnames\n",
    "\n",
    "        # Write the modified data to the same file, overwriting it\n",
    "        with open(file_path, mode='w', encoding='utf-8', newline='') as file:\n",
    "            writer = csv.DictWriter(file, fieldnames=fieldnames)\n",
    "            writer.writeheader()  # Write the column headers\n",
    "            writer.writerows(modified_data)  # Write the modified data\n",
    "\n",
    "# Call the required functions as per instructions\n",
    "random_data(directories[rubric_item])  # Generate completely new randomized data, no size specified, use default\n",
    "modify_data(directories[rubric_item])  # Modify the generated data based on the test details"
   ]
  },
  {
   "cell_type": "raw",
   "id": "94835e20",
   "metadata": {},
   "source": [
    "# BEGIN q6: did not ignore the `Star` objects with missing `stellar_luminosity` data"
   ]
  },
  {
   "cell_type": "code",
   "execution_count": 109,
   "id": "ef6d02c2",
   "metadata": {},
   "outputs": [
    {
     "name": "stderr",
     "output_type": "stream",
     "text": [
      "0.00s - Debugger warning: It seems that frozen modules are being used, which may\n",
      "0.00s - make the debugger miss breakpoints. Please pass -Xfrozen_modules=off\n",
      "0.00s - to python to disable frozen modules.\n",
      "0.00s - Note: Debugging will proceed. Set PYDEVD_DISABLE_FILE_VALIDATION=1 to disable this validation.\n"
     ]
    }
   ],
   "source": [
    "rubric_item = 'q6: did not ignore the `Star` objects with missing `stellar_luminosity` data'\n",
    "nb = new_clean_nb(read_nb(os.path.join(DIRECTORY, FILE)))\n",
    "nb = truncate_nb(nb, end=find_all_cell_indices(nb, \"code\", \"grader.check('q6')\")[-1])\n",
    "\n",
    "results[rubric_item] = parse_nb(run_nb(nb, os.path.join(directories[rubric_item], FILE)))"
   ]
  },
  {
   "cell_type": "raw",
   "id": "396142c9",
   "metadata": {},
   "source": [
    "# END q6: did not ignore the `Star` objects with missing `stellar_luminosity` data"
   ]
  },
  {
   "cell_type": "code",
   "execution_count": 110,
   "id": "3977bc09",
   "metadata": {},
   "outputs": [
    {
     "name": "stderr",
     "output_type": "stream",
     "text": [
      "0.00s - Debugger warning: It seems that frozen modules are being used, which may\n",
      "0.00s - make the debugger miss breakpoints. Please pass -Xfrozen_modules=off\n",
      "0.00s - to python to disable frozen modules.\n",
      "0.00s - Note: Debugging will proceed. Set PYDEVD_DISABLE_FILE_VALIDATION=1 to disable this validation.\n"
     ]
    }
   ],
   "source": [
    "gen_public_tests.gen_public_tests(os.path.join(directories[rubric_item], FILE))"
   ]
  },
  {
   "cell_type": "markdown",
   "id": "7631a86f",
   "metadata": {},
   "source": [
    "### q6: `star_classes` data structure is not used to answer"
   ]
  },
  {
   "cell_type": "code",
   "execution_count": 111,
   "id": "49fc3a4b",
   "metadata": {},
   "outputs": [],
   "source": [
    "rubric_item = 'q6: `star_classes` data structure is not used to answer'\n",
    "readme_text = \"\"\"Review the usage of `star_classes` to ensure that\n",
    "you correctly access the information within the\n",
    "`star_classes` dictionary, avoiding extra\n",
    "processing. Additionally, confirm correct\n",
    "computation of averages, only including stars with\n",
    "known `stellar_luminosity`.\"\"\"\n",
    "\n",
    "write_readme(readme_text, os.path.join(directories[rubric_item], \"README.txt\"))"
   ]
  },
  {
   "cell_type": "code",
   "execution_count": 112,
   "id": "a210b66d",
   "metadata": {},
   "outputs": [],
   "source": [
    "random_data(directories[rubric_item])"
   ]
  },
  {
   "cell_type": "raw",
   "id": "07ed2169",
   "metadata": {},
   "source": [
    "# BEGIN q6: `star_classes` data structure is not used to answer"
   ]
  },
  {
   "cell_type": "code",
   "execution_count": 113,
   "id": "11000579",
   "metadata": {},
   "outputs": [
    {
     "name": "stderr",
     "output_type": "stream",
     "text": [
      "0.00s - Debugger warning: It seems that frozen modules are being used, which may\n",
      "0.00s - make the debugger miss breakpoints. Please pass -Xfrozen_modules=off\n",
      "0.00s - to python to disable frozen modules.\n",
      "0.00s - Note: Debugging will proceed. Set PYDEVD_DISABLE_FILE_VALIDATION=1 to disable this validation.\n"
     ]
    }
   ],
   "source": [
    "rubric_item = 'q6: `star_classes` data structure is not used to answer'\n",
    "nb = read_nb(os.path.join(DIRECTORY, FILE))\n",
    "nb = new_clean_nb(nb)\n",
    "end_idx = find_all_cell_indices(nb, \"code\", \"grader.check('q6')\")[-1]\n",
    "nb = truncate_nb(nb, end=end_idx)\n",
    "\n",
    "false_star_classes = true_data_structures[\"stars_dict\"] + \"\\n\" + true_data_structures[\"star_classes\"] + '''\n",
    "star_classes['Neutron Star'], star_classes['Red Giant'], star_classes['White Dwarf'] = star_classes['White Dwarf'], star_classes['Neutron Star'], star_classes['Red Giant']\n",
    "'''\n",
    "nb = replace_with_false_data_structure(nb, 'star_classes', false_star_classes)\n",
    "\n",
    "results[rubric_item] = parse_nb(run_nb(nb, os.path.join(directories[rubric_item], FILE)))"
   ]
  },
  {
   "cell_type": "raw",
   "id": "8073cfb3",
   "metadata": {},
   "source": [
    "# END q6: `star_classes` data structure is not used to answer"
   ]
  },
  {
   "cell_type": "code",
   "execution_count": 114,
   "id": "3215cfd7",
   "metadata": {},
   "outputs": [
    {
     "name": "stderr",
     "output_type": "stream",
     "text": [
      "0.00s - Debugger warning: It seems that frozen modules are being used, which may\n",
      "0.00s - make the debugger miss breakpoints. Please pass -Xfrozen_modules=off\n",
      "0.00s - to python to disable frozen modules.\n",
      "0.00s - Note: Debugging will proceed. Set PYDEVD_DISABLE_FILE_VALIDATION=1 to disable this validation.\n"
     ]
    }
   ],
   "source": [
    "gen_public_tests.gen_public_tests(os.path.join(directories[rubric_item], FILE))"
   ]
  },
  {
   "cell_type": "markdown",
   "id": "c9255a51",
   "metadata": {},
   "source": [
    "### q7: incorrect logic is used to answer"
   ]
  },
  {
   "cell_type": "code",
   "execution_count": 115,
   "id": "20bb7d32",
   "metadata": {},
   "outputs": [],
   "source": [
    "rubric_item = 'q7: incorrect logic is used to answer'\n",
    "readme_text = \"\"\"Ensure density and luminosity calculations only\n",
    "include stars with complete data. Verify your skip\n",
    "condition and handle cases where mass, radius, or\n",
    "luminosity may be set to 0 or None. Make sure you\n",
    "correctly add data to the dictionaries.\"\"\"\n",
    "\n",
    "write_readme(readme_text, os.path.join(directories[rubric_item], \"README.txt\"))"
   ]
  },
  {
   "cell_type": "code",
   "execution_count": 116,
   "id": "1ad4be0d",
   "metadata": {},
   "outputs": [],
   "source": [
    "import os\n",
    "import random\n",
    "import csv\n",
    "import json\n",
    "\n",
    "def modify_data(directory):\n",
    "    # Helper function to modify CSV data according to the probability rules\n",
    "    def modify_csv(file_path):\n",
    "        with open(file_path, mode='r', encoding='utf-8') as file:\n",
    "            reader = csv.DictReader(file)\n",
    "            modified_data = []\n",
    "            for row in reader:\n",
    "                row[\"Stellar Mass [Solar mass]\"] = '%0.4f' % (random.uniform(0.1, 15))\n",
    "                # Modify each value with a probability 1/4\n",
    "                for column in [\"Stellar Luminosity [log(Solar)]\", \"Stellar Radius [Solar Radius]\", \"Stellar Mass [Solar mass]\"]:\n",
    "                    if random.random() < 0.25:\n",
    "                        row[column] = ''\n",
    "                modified_data.append(row)\n",
    "        \n",
    "        # Writing the modified data back to the CSV\n",
    "        with open(file_path, mode='w', encoding='utf-8', newline=\"\") as file:\n",
    "            writer = csv.DictWriter(file, fieldnames=reader.fieldnames)\n",
    "            writer.writeheader()\n",
    "            writer.writerows(modified_data)\n",
    "    \n",
    "    # Iterate over CSV files in the data directory\n",
    "    for root, dirs, files in os.walk(os.path.join(directory, 'data')):\n",
    "        for file in files:\n",
    "            if file.endswith('.csv') and \"stars_\" in file:\n",
    "                file_path = os.path.join(root, file)\n",
    "                modify_csv(file_path)\n",
    "\n",
    "# Calling functions as per rubric item test details\n",
    "random_data(directories[rubric_item]) # Call random_data with directories specified in the rubric_item\n",
    "modify_data(directories[rubric_item])  # Call modify_data with directories specified in the rubric_item"
   ]
  },
  {
   "cell_type": "raw",
   "id": "9c80e8fc",
   "metadata": {},
   "source": [
    "# BEGIN q7: incorrect logic is used to answer"
   ]
  },
  {
   "cell_type": "code",
   "execution_count": 117,
   "id": "faeed1b2",
   "metadata": {},
   "outputs": [
    {
     "name": "stderr",
     "output_type": "stream",
     "text": [
      "0.00s - Debugger warning: It seems that frozen modules are being used, which may\n",
      "0.00s - make the debugger miss breakpoints. Please pass -Xfrozen_modules=off\n",
      "0.00s - to python to disable frozen modules.\n",
      "0.00s - Note: Debugging will proceed. Set PYDEVD_DISABLE_FILE_VALIDATION=1 to disable this validation.\n"
     ]
    }
   ],
   "source": [
    "rubric_item = 'q7: incorrect logic is used to answer'\n",
    "nb = new_clean_nb(read_nb(os.path.join(DIRECTORY, FILE)))\n",
    "nb = truncate_nb(nb, end=find_all_cell_indices(nb, \"code\", \"grader.check('q7')\")[-1])\n",
    "\n",
    "results[rubric_item] = parse_nb(run_nb(nb, os.path.join(directories[rubric_item], FILE)))"
   ]
  },
  {
   "cell_type": "raw",
   "id": "7124bab9",
   "metadata": {},
   "source": [
    "# END q7: incorrect logic is used to answer"
   ]
  },
  {
   "cell_type": "code",
   "execution_count": 118,
   "id": "132b5323",
   "metadata": {},
   "outputs": [
    {
     "name": "stderr",
     "output_type": "stream",
     "text": [
      "0.00s - Debugger warning: It seems that frozen modules are being used, which may\n",
      "0.00s - make the debugger miss breakpoints. Please pass -Xfrozen_modules=off\n",
      "0.00s - to python to disable frozen modules.\n",
      "0.00s - Note: Debugging will proceed. Set PYDEVD_DISABLE_FILE_VALIDATION=1 to disable this validation.\n"
     ]
    }
   ],
   "source": [
    "gen_public_tests.gen_public_tests(os.path.join(directories[rubric_item], FILE))"
   ]
  },
  {
   "cell_type": "markdown",
   "id": "c33c17c5",
   "metadata": {},
   "source": [
    "### q7: `star_classes` data structure is not used to answer"
   ]
  },
  {
   "cell_type": "code",
   "execution_count": 119,
   "id": "44645e20",
   "metadata": {},
   "outputs": [],
   "source": [
    "rubric_item = 'q7: `star_classes` data structure is not used to answer'\n",
    "readme_text = \"\"\"Ensure you are using the `star_classes` data\n",
    "structure correctly to access the required\n",
    "attributes of each `Star` object. Check if you are\n",
    "iterating through the objects in the right way and\n",
    "accessing the correct properties. Avoid processing\n",
    "data that has already been preprocessed. Refer to\n",
    "the correct data structure as per instructions.\"\"\"\n",
    "\n",
    "write_readme(readme_text, os.path.join(directories[rubric_item], \"README.txt\"))"
   ]
  },
  {
   "cell_type": "raw",
   "id": "e7494378",
   "metadata": {},
   "source": [
    "# BEGIN q7: `star_classes` data structure is not used to answer"
   ]
  },
  {
   "cell_type": "code",
   "execution_count": 120,
   "id": "85621b27",
   "metadata": {},
   "outputs": [
    {
     "name": "stderr",
     "output_type": "stream",
     "text": [
      "0.00s - Debugger warning: It seems that frozen modules are being used, which may\n",
      "0.00s - make the debugger miss breakpoints. Please pass -Xfrozen_modules=off\n",
      "0.00s - to python to disable frozen modules.\n",
      "0.00s - Note: Debugging will proceed. Set PYDEVD_DISABLE_FILE_VALIDATION=1 to disable this validation.\n"
     ]
    }
   ],
   "source": [
    "rubric_item = 'q7: `star_classes` data structure is not used to answer'\n",
    "nb = read_nb(os.path.join(DIRECTORY, FILE))\n",
    "nb = new_clean_nb(nb)\n",
    "nb = truncate_nb(nb, end=find_all_cell_indices(nb, \"code\", \"grader.check('q7')\")[-1])\n",
    "\n",
    "# Define the new data structure with swapped star class values\n",
    "false_star_classes = true_data_structures[\"stars_dict\"] + \"\\n\" + true_data_structures[\"star_classes\"] + '''\n",
    "star_classes['Neutron Star'], star_classes['Red Giant'], star_classes['White Dwarf'] = star_classes['White Dwarf'], star_classes['Neutron Star'], star_classes['Red Giant']\n",
    "'''\n",
    "nb = replace_with_false_data_structure(nb, 'star_classes', false_star_classes)\n",
    "\n",
    "results[rubric_item] = parse_nb(run_nb(nb, os.path.join(directories[rubric_item], FILE)))"
   ]
  },
  {
   "cell_type": "raw",
   "id": "e5e351f6",
   "metadata": {},
   "source": [
    "# END q7: `star_classes` data structure is not used to answer"
   ]
  },
  {
   "cell_type": "code",
   "execution_count": 121,
   "id": "9c3861f0",
   "metadata": {},
   "outputs": [
    {
     "name": "stderr",
     "output_type": "stream",
     "text": [
      "0.00s - Debugger warning: It seems that frozen modules are being used, which may\n",
      "0.00s - make the debugger miss breakpoints. Please pass -Xfrozen_modules=off\n",
      "0.00s - to python to disable frozen modules.\n",
      "0.00s - Note: Debugging will proceed. Set PYDEVD_DISABLE_FILE_VALIDATION=1 to disable this validation.\n"
     ]
    }
   ],
   "source": [
    "gen_public_tests.gen_public_tests(os.path.join(directories[rubric_item], FILE))"
   ]
  },
  {
   "cell_type": "markdown",
   "id": "7272d812",
   "metadata": {},
   "source": [
    "### q7: plot is incorrect"
   ]
  },
  {
   "cell_type": "code",
   "execution_count": 122,
   "id": "eb493731",
   "metadata": {},
   "outputs": [],
   "source": [
    "rubric_item = 'q7: plot is incorrect'\n",
    "readme_text = \"\"\"Check that your scatter plot correctly uses\n",
    "`plot_scatter_multiple` with properly computed\n",
    "density and luminosity for each star class. Ensure\n",
    "`None` values are handled appropriately and plot\n",
    "the data in the expected cell.\"\"\"\n",
    "\n",
    "write_readme(readme_text, os.path.join(directories[rubric_item], \"README.txt\"))"
   ]
  },
  {
   "cell_type": "raw",
   "id": "857247dc",
   "metadata": {},
   "source": [
    "# BEGIN q7: plot is incorrect"
   ]
  },
  {
   "cell_type": "code",
   "execution_count": 123,
   "id": "20cbfe0a",
   "metadata": {},
   "outputs": [
    {
     "name": "stderr",
     "output_type": "stream",
     "text": [
      "0.00s - Debugger warning: It seems that frozen modules are being used, which may\n",
      "0.00s - make the debugger miss breakpoints. Please pass -Xfrozen_modules=off\n",
      "0.00s - to python to disable frozen modules.\n",
      "0.00s - Note: Debugging will proceed. Set PYDEVD_DISABLE_FILE_VALIDATION=1 to disable this validation.\n",
      "0.00s - Debugger warning: It seems that frozen modules are being used, which may\n",
      "0.00s - make the debugger miss breakpoints. Please pass -Xfrozen_modules=off\n",
      "0.00s - to python to disable frozen modules.\n",
      "0.00s - Note: Debugging will proceed. Set PYDEVD_DISABLE_FILE_VALIDATION=1 to disable this validation.\n"
     ]
    }
   ],
   "source": [
    "rubric_item = 'q7: plot is incorrect'\n",
    "nb = clean_nb(read_nb(os.path.join(DIRECTORY, FILE)))\n",
    "nb = truncate_nb(nb, end=find_all_cell_indices(nb, \"code\", \"grader.check('q7')\")[-1])\n",
    "nb = run_nb(nb, os.path.join(directories[rubric_item], FILE))\n",
    "if os.path.exists(os.path.join(directories[rubric_item], 'plot_image.png')):\n",
    "    os.remove(os.path.join(directories[rubric_item], 'plot_image.png'))\n",
    "plot_nb = truncate_nb(nb, start=find_all_cell_indices(nb, \"markdown\", \"**Question 7:**\")[-1])\n",
    "plot = get_last_plot(plot_nb, os.path.join(directories[rubric_item], 'plot_image.png'))\n",
    "\n",
    "store_hidn_plot_dict = '''\n",
    "hidn_plot_dict = None\n",
    "import matplotlib.pyplot as plt\n",
    "    \n",
    "def plot_scatter_multiple(x_data_dict, y_data_dict, x_label='x axis', y_label='y axis'):\n",
    "    global hidn_plot_dict\n",
    "    hidn_plot_dict = {\n",
    "        'x_dict': x_data_dict,\n",
    "        'y_dict': y_data_dict\n",
    "    }\n",
    "'''\n",
    "nb = inject_code(nb, find_all_cell_indices(nb, \"markdown\", \"**Question 7:**\")[-1]+1, store_hidn_plot_dict)\n",
    "\n",
    "test_code = '''\n",
    "expected_plots = public_tests.get_expected_plots()\n",
    "expected_x_dict = expected_plots['q7']['density_dict']\n",
    "expected_y_dict = expected_plots['q7']['lum_dict']\n",
    "\n",
    "if hidn_plot_dict:\n",
    "    for key in expected_x_dict:\n",
    "        if key in hidn_plot_dict['x_dict'] and public_tests.compare(expected_x_dict[key], hidn_plot_dict['x_dict'][key], 'TEXT_FORMAT_DICT') == public_tests.PASS:\n",
    "            for ykey in expected_y_dict:\n",
    "                if ykey in hidn_plot_dict['y_dict'] and public_tests.compare(expected_y_dict[ykey], hidn_plot_dict['y_dict'][ykey], 'TEXT_FORMAT_DICT') == public_tests.PASS:\n",
    "                    test_output = 'q7 results: ' + public_tests.PASS\n",
    "'''\n",
    "\n",
    "inject_code(nb, len(nb['cells']), get_test_text(\"q7\", test_code))\n",
    "\n",
    "results[rubric_item] = parse_nb(run_nb(nb, os.path.join(directories[rubric_item], FILE)))\n",
    "if plot == None:\n",
    "    results[rubric_item][rubric_item.split(\":\")[0]] = 'plot not found'\n",
    "    comments[rubric_item] += '\\nFAILED TEST: ' + results[rubric_item][rubric_item.split(\":\")[0]]"
   ]
  },
  {
   "cell_type": "raw",
   "id": "f3b78069",
   "metadata": {},
   "source": [
    "# END q7: plot is incorrect"
   ]
  },
  {
   "cell_type": "code",
   "execution_count": 124,
   "id": "62381aa6",
   "metadata": {},
   "outputs": [
    {
     "name": "stderr",
     "output_type": "stream",
     "text": [
      "0.00s - Debugger warning: It seems that frozen modules are being used, which may\n",
      "0.00s - make the debugger miss breakpoints. Please pass -Xfrozen_modules=off\n",
      "0.00s - to python to disable frozen modules.\n",
      "0.00s - Note: Debugging will proceed. Set PYDEVD_DISABLE_FILE_VALIDATION=1 to disable this validation.\n"
     ]
    }
   ],
   "source": [
    "gen_public_tests.gen_public_tests(os.path.join(directories[rubric_item], FILE))"
   ]
  },
  {
   "cell_type": "markdown",
   "id": "5e9588f2",
   "metadata": {},
   "source": [
    "### q7: plot is not properly labeled"
   ]
  },
  {
   "cell_type": "code",
   "execution_count": 125,
   "id": "2f48ad95",
   "metadata": {},
   "outputs": [],
   "source": [
    "rubric_item = \"q7: plot is not properly labeled\"\n",
    "readme_text = \"\"\"The notebook is parsed and the\n",
    "plot for Question 7 is identified.\n",
    "The image is parsed, and the text\n",
    "in the left and bottom of the image\n",
    "are read.\n",
    "If any of the required labels are\n",
    "missing, then the test is deemed\n",
    "a failure.\"\"\" \n",
    "\n",
    "write_readme(readme_text, os.path.join(directories[rubric_item], \"README.txt\"))"
   ]
  },
  {
   "cell_type": "raw",
   "id": "b3f79576",
   "metadata": {},
   "source": [
    "# BEGIN q7: plot is not properly labeled"
   ]
  },
  {
   "cell_type": "code",
   "execution_count": 126,
   "id": "40713c6c",
   "metadata": {},
   "outputs": [
    {
     "name": "stderr",
     "output_type": "stream",
     "text": [
      "0.00s - Debugger warning: It seems that frozen modules are being used, which may\n",
      "0.00s - make the debugger miss breakpoints. Please pass -Xfrozen_modules=off\n",
      "0.00s - to python to disable frozen modules.\n",
      "0.00s - Note: Debugging will proceed. Set PYDEVD_DISABLE_FILE_VALIDATION=1 to disable this validation.\n"
     ]
    }
   ],
   "source": [
    "rubric_item = \"q7: plot is not properly labeled\"\n",
    "nb = clean_nb(read_nb(os.path.join(DIRECTORY, FILE)))\n",
    "nb = truncate_nb(nb, end=find_all_cell_indices(nb, \"code\", \"grader.check('q7')\")[-1])\n",
    "nb = run_nb(nb, os.path.join(directories[rubric_item], FILE))\n",
    "nb = truncate_nb(nb, start=find_all_cell_indices(nb, \"markdown\", \"**Question 7:**\")[-1])\n",
    "if os.path.exists(os.path.join(directories[rubric_item], 'plot_image.png')):\n",
    "    os.remove(os.path.join(directories[rubric_item], 'plot_image.png'))\n",
    "plot = get_last_plot(nb, os.path.join(directories[rubric_item], 'plot_image.png'))\n",
    "\n",
    "if rubric_item not in results:\n",
    "    results[rubric_item] = {}\n",
    "if plot == None:\n",
    "    results[rubric_item][rubric_item.split(\":\")[0]] = 'plot not found'\n",
    "else:\n",
    "    left_label_plot = get_label_plot(plot, 'left').rotate(-90)\n",
    "    left_label_check = check_text_in_plot(left_label_plot, ['Luminosity'])\n",
    "    bottom_label_plot = get_label_plot(plot, 'bottom')\n",
    "    bottom_label_check = check_text_in_plot(bottom_label_plot, ['Density'])\n",
    "    centre_label_plot = get_bounding_box_plot(plot)\n",
    "    centre_label_check = check_text_in_plot(centre_label_plot, ['Red Giant', 'White Dwarf', 'Neutron Star'])\n",
    "    missing_labels = left_label_check['missing_text'] + bottom_label_check['missing_text'] + centre_label_check['missing_text']\n",
    "    extra_labels = left_label_check['extra_text'] + bottom_label_check['extra_text'] + centre_label_check['extra_text']\n",
    "\n",
    "    if missing_labels == [] and extra_labels == []:\n",
    "        results[rubric_item] = {rubric_item.split(\":\")[0]: \"All test cases passed!\"}\n",
    "    else:\n",
    "        if missing_labels != []:\n",
    "            results[rubric_item] = {rubric_item.split(\":\")[0]: \"missing labels: \" + repr(missing_labels)}\n",
    "            comments[rubric_item] += \"\\n\"+results[rubric_item][rubric_item.split(\":\")[0]]\n",
    "        if extra_labels != []:\n",
    "            results[rubric_item] = {rubric_item.split(\":\")[0]: \"extra labels: \" + repr(extra_labels)}\n",
    "            comments[rubric_item] += \"\\n\"+results[rubric_item][rubric_item.split(\":\")[0]]"
   ]
  },
  {
   "cell_type": "raw",
   "id": "215c0c87",
   "metadata": {},
   "source": [
    "# END q7: plot is not properly labeled"
   ]
  },
  {
   "cell_type": "markdown",
   "id": "7d975c34",
   "metadata": {},
   "source": [
    "### q8: incorrect comparison operator is used"
   ]
  },
  {
   "cell_type": "code",
   "execution_count": 127,
   "id": "8f30523f",
   "metadata": {},
   "outputs": [],
   "source": [
    "rubric_item = 'q8: incorrect comparison operator is used'\n",
    "readme_text = \"\"\"The test checks the comparison operator for\n",
    "excluding stars with density more than 25. Verify\n",
    "your comparison operator to ensure it excludes the\n",
    "correct values. Review your logic for computing\n",
    "density and filtering by the threshold. Consider\n",
    "testing with edge cases, such as density exactly\n",
    "equal to 25.\"\"\"\n",
    "\n",
    "write_readme(readme_text, os.path.join(directories[rubric_item], \"README.txt\"))"
   ]
  },
  {
   "cell_type": "code",
   "execution_count": 128,
   "id": "e8bcce9d",
   "metadata": {},
   "outputs": [],
   "source": [
    "import os\n",
    "import random\n",
    "import csv\n",
    "\n",
    "def modify_data(directory):\n",
    "    # Define the filenames for star CSV files to be modified\n",
    "    star_filenames = [f'stars_{i}.csv' for i in range(1, 6)]\n",
    "\n",
    "    for filename in star_filenames:\n",
    "        filepath = os.path.join(directory, 'data', filename)\n",
    "        \n",
    "        with open(filepath, 'r', encoding='utf-8') as file:\n",
    "            # Read csv contents\n",
    "            reader = csv.reader(file)\n",
    "            # Store the header and data separately\n",
    "            header = next(reader)\n",
    "            data = list(reader)\n",
    "        \n",
    "        for i in range(len(data)):\n",
    "            # Update the row\n",
    "            data[i][4] = '%.3f' % (random.uniform(0.1, 15))\n",
    "            \n",
    "        # Calculate the number of rows to alter\n",
    "        modify_count = len(data) // 2\n",
    "        rows_to_modify = random.sample(range(len(data)), modify_count)\n",
    "\n",
    "        for i in rows_to_modify:\n",
    "            data[i][3] = str(1)\n",
    "            # Calculate mass as 25 times the cube of the radius\n",
    "            mass = 25 * float(data[i][3]) ** 3\n",
    "            # Update the row\n",
    "            data[i][4] = str(mass)\n",
    "        \n",
    "        with open(filepath, 'w', encoding='utf-8', newline='') as file:\n",
    "            # Write the modified data back to the CSV\n",
    "            writer = csv.writer(file)\n",
    "            writer.writerow(header)  # Write the header first\n",
    "            writer.writerows(data)  # Write the modified data\n",
    "\n",
    "# Generate random data first\n",
    "random_data(directories[rubric_item])\n",
    "# Then call the modify_data function with the directory path\n",
    "modify_data(directories[rubric_item])"
   ]
  },
  {
   "cell_type": "raw",
   "id": "0ce701af",
   "metadata": {},
   "source": [
    "# BEGIN q8: incorrect comparison operator is used"
   ]
  },
  {
   "cell_type": "code",
   "execution_count": 129,
   "id": "e11e267b",
   "metadata": {},
   "outputs": [
    {
     "name": "stderr",
     "output_type": "stream",
     "text": [
      "0.00s - Debugger warning: It seems that frozen modules are being used, which may\n",
      "0.00s - make the debugger miss breakpoints. Please pass -Xfrozen_modules=off\n",
      "0.00s - to python to disable frozen modules.\n",
      "0.00s - Note: Debugging will proceed. Set PYDEVD_DISABLE_FILE_VALIDATION=1 to disable this validation.\n"
     ]
    }
   ],
   "source": [
    "rubric_item = 'q8: incorrect comparison operator is used'\n",
    "nb = new_clean_nb(read_nb(os.path.join(DIRECTORY, FILE)))\n",
    "nb = truncate_nb(nb, end=find_all_cell_indices(nb, \"code\", \"grader.check('q8')\")[-1])\n",
    "\n",
    "results[rubric_item] = parse_nb(run_nb(nb, os.path.join(directories[rubric_item], FILE)))"
   ]
  },
  {
   "cell_type": "raw",
   "id": "b98c52fa",
   "metadata": {},
   "source": [
    "# END q8: incorrect comparison operator is used"
   ]
  },
  {
   "cell_type": "code",
   "execution_count": 130,
   "id": "6c5cad87",
   "metadata": {},
   "outputs": [
    {
     "name": "stderr",
     "output_type": "stream",
     "text": [
      "0.00s - Debugger warning: It seems that frozen modules are being used, which may\n",
      "0.00s - make the debugger miss breakpoints. Please pass -Xfrozen_modules=off\n",
      "0.00s - to python to disable frozen modules.\n",
      "0.00s - Note: Debugging will proceed. Set PYDEVD_DISABLE_FILE_VALIDATION=1 to disable this validation.\n"
     ]
    }
   ],
   "source": [
    "gen_public_tests.gen_public_tests(os.path.join(directories[rubric_item], FILE))"
   ]
  },
  {
   "cell_type": "markdown",
   "id": "0e9b8a69",
   "metadata": {},
   "source": [
    "### q8: `star_classes` data structure is not used to answer"
   ]
  },
  {
   "cell_type": "code",
   "execution_count": 131,
   "id": "c6417ae3",
   "metadata": {},
   "outputs": [],
   "source": [
    "rubric_item = 'q8: `star_classes` data structure is not used to answer'\n",
    "readme_text = \"\"\"Check that your code uses the predefined\n",
    "`star_classes` data structure accurately and\n",
    "iterates through it correctly. Also, ensure you're\n",
    "filtering stars based on density as specified and\n",
    "handling missing data as instructed. Review how\n",
    "dictionaries are accessed and updated. Adjust your\n",
    "code accordingly and rerun your tests.\"\"\"\n",
    "\n",
    "write_readme(readme_text, os.path.join(directories[rubric_item], \"README.txt\"))"
   ]
  },
  {
   "cell_type": "raw",
   "id": "bf29cb5e",
   "metadata": {},
   "source": [
    "# BEGIN q8: `star_classes` data structure is not used to answer"
   ]
  },
  {
   "cell_type": "code",
   "execution_count": 132,
   "id": "e4dce752",
   "metadata": {},
   "outputs": [
    {
     "name": "stderr",
     "output_type": "stream",
     "text": [
      "0.00s - Debugger warning: It seems that frozen modules are being used, which may\n",
      "0.00s - make the debugger miss breakpoints. Please pass -Xfrozen_modules=off\n",
      "0.00s - to python to disable frozen modules.\n",
      "0.00s - Note: Debugging will proceed. Set PYDEVD_DISABLE_FILE_VALIDATION=1 to disable this validation.\n"
     ]
    }
   ],
   "source": [
    "rubric_item = 'q8: `star_classes` data structure is not used to answer'\n",
    "nb = read_nb(os.path.join(DIRECTORY, FILE))\n",
    "nb = new_clean_nb(nb)\n",
    "nb = truncate_nb(nb, end=find_all_cell_indices(nb, \"code\", \"grader.check('q8')\")[-1])\n",
    "\n",
    "false_star_classes = true_data_structures[\"stars_dict\"] + \"\\n\" + true_data_structures[\"star_classes\"] + '''\n",
    "star_classes['Neutron Star'], star_classes['Red Giant'], star_classes['White Dwarf'] = star_classes['White Dwarf'], star_classes['Neutron Star'], star_classes['Red Giant']\n",
    "'''\n",
    "nb = replace_with_false_data_structure(nb, 'star_classes', false_star_classes)\n",
    "\n",
    "results[rubric_item] = parse_nb(run_nb(nb, os.path.join(directories[rubric_item], FILE)))"
   ]
  },
  {
   "cell_type": "raw",
   "id": "f7a3543f",
   "metadata": {},
   "source": [
    "# END q8: `star_classes` data structure is not used to answer"
   ]
  },
  {
   "cell_type": "code",
   "execution_count": 133,
   "id": "0185019e",
   "metadata": {},
   "outputs": [
    {
     "name": "stderr",
     "output_type": "stream",
     "text": [
      "0.00s - Debugger warning: It seems that frozen modules are being used, which may\n",
      "0.00s - make the debugger miss breakpoints. Please pass -Xfrozen_modules=off\n",
      "0.00s - to python to disable frozen modules.\n",
      "0.00s - Note: Debugging will proceed. Set PYDEVD_DISABLE_FILE_VALIDATION=1 to disable this validation.\n"
     ]
    }
   ],
   "source": [
    "gen_public_tests.gen_public_tests(os.path.join(directories[rubric_item], FILE))"
   ]
  },
  {
   "cell_type": "markdown",
   "id": "470dd6c0",
   "metadata": {},
   "source": [
    "### q8: plot is incorrect"
   ]
  },
  {
   "cell_type": "code",
   "execution_count": 134,
   "id": "6268d389",
   "metadata": {},
   "outputs": [],
   "source": [
    "rubric_item = 'q8: plot is incorrect'\n",
    "readme_text = \"\"\"Ensure you are using the `plot_scatter_multiple`\n",
    "function correctly with proper arguments. Check if\n",
    "you are displaying the plot in the expected cell.\n",
    "Review dictionary creation and how you filter data\n",
    "with density over 25. Re-run to see your plot.\"\"\"\n",
    "\n",
    "write_readme(readme_text, os.path.join(directories[rubric_item], \"README.txt\"))"
   ]
  },
  {
   "cell_type": "raw",
   "id": "8b97abd0",
   "metadata": {},
   "source": [
    "# BEGIN q8: plot is incorrect"
   ]
  },
  {
   "cell_type": "code",
   "execution_count": 135,
   "id": "4b52f5dc",
   "metadata": {},
   "outputs": [
    {
     "name": "stderr",
     "output_type": "stream",
     "text": [
      "0.00s - Debugger warning: It seems that frozen modules are being used, which may\n",
      "0.00s - make the debugger miss breakpoints. Please pass -Xfrozen_modules=off\n",
      "0.00s - to python to disable frozen modules.\n",
      "0.00s - Note: Debugging will proceed. Set PYDEVD_DISABLE_FILE_VALIDATION=1 to disable this validation.\n",
      "0.00s - Debugger warning: It seems that frozen modules are being used, which may\n",
      "0.00s - make the debugger miss breakpoints. Please pass -Xfrozen_modules=off\n",
      "0.00s - to python to disable frozen modules.\n",
      "0.00s - Note: Debugging will proceed. Set PYDEVD_DISABLE_FILE_VALIDATION=1 to disable this validation.\n"
     ]
    }
   ],
   "source": [
    "rubric_item = 'q8: plot is incorrect'\n",
    "nb = clean_nb(read_nb(os.path.join(DIRECTORY, FILE)))\n",
    "nb = truncate_nb(nb, end=find_all_cell_indices(nb, \"code\", \"grader.check('q8')\")[-1])\n",
    "nb = run_nb(nb, os.path.join(directories[rubric_item], FILE))\n",
    "if os.path.exists(os.path.join(directories[rubric_item], 'plot_image.png')):\n",
    "    os.remove(os.path.join(directories[rubric_item], 'plot_image.png'))\n",
    "plot_nb = truncate_nb(nb, start=find_all_cell_indices(nb, \"markdown\", \"**Question 8:**\")[-1])\n",
    "plot = get_last_plot(plot_nb, os.path.join(directories[rubric_item], 'plot_image.png'))\n",
    "\n",
    "store_hidn_plot_dict = '''\n",
    "hidn_plot_dict = None\n",
    "import matplotlib.pyplot as plt\n",
    "    \n",
    "def plot_scatter_multiple(x_data_dict, y_data_dict, x_label='x axis', y_label='y axis'):\n",
    "    global hidn_plot_dict\n",
    "    hidn_plot_dict = {\n",
    "        'x_dict': x_data_dict,\n",
    "        'y_dict': y_data_dict\n",
    "    }\n",
    "'''\n",
    "nb = inject_code(nb, find_all_cell_indices(nb, \"markdown\", \"**Question 8:**\")[-1]+1, store_hidn_plot_dict)\n",
    "\n",
    "test_code = '''\n",
    "expected_x_dict = density_dict_no_outliers\n",
    "expected_y_dict = lum_dict_no_outliers\n",
    "\n",
    "if hidn_plot_dict:\n",
    "    for key in expected_x_dict:\n",
    "        if key in hidn_plot_dict['x_dict'] and public_tests.compare(expected_x_dict[key], hidn_plot_dict['x_dict'][key], 'TEXT_FORMAT_DICT') == public_tests.PASS:\n",
    "            for ykey in expected_y_dict:\n",
    "                if ykey in hidn_plot_dict['y_dict'] and public_tests.compare(expected_y_dict[ykey], hidn_plot_dict['y_dict'][ykey], 'TEXT_FORMAT_DICT') == public_tests.PASS:\n",
    "                    test_output = 'q8 results: ' + public_tests.PASS\n",
    "'''\n",
    "\n",
    "inject_code(nb, len(nb['cells']), get_test_text(\"q8\", test_code))\n",
    "\n",
    "results[rubric_item] = parse_nb(run_nb(nb, os.path.join(directories[rubric_item], FILE)))\n",
    "if plot == None:\n",
    "    results[rubric_item][rubric_item.split(\":\")[0]] = 'plot not found'\n",
    "    comments[rubric_item] += '\\nFAILED TEST: ' + results[rubric_item][rubric_item.split(\":\")[0]]"
   ]
  },
  {
   "cell_type": "raw",
   "id": "08b8ed13",
   "metadata": {},
   "source": [
    "# END q8: plot is incorrect"
   ]
  },
  {
   "cell_type": "code",
   "execution_count": 136,
   "id": "def34aaa",
   "metadata": {},
   "outputs": [
    {
     "name": "stderr",
     "output_type": "stream",
     "text": [
      "0.00s - Debugger warning: It seems that frozen modules are being used, which may\n",
      "0.00s - make the debugger miss breakpoints. Please pass -Xfrozen_modules=off\n",
      "0.00s - to python to disable frozen modules.\n",
      "0.00s - Note: Debugging will proceed. Set PYDEVD_DISABLE_FILE_VALIDATION=1 to disable this validation.\n"
     ]
    }
   ],
   "source": [
    "gen_public_tests.gen_public_tests(os.path.join(directories[rubric_item], FILE))"
   ]
  },
  {
   "cell_type": "markdown",
   "id": "cfa52beb",
   "metadata": {},
   "source": [
    "### q8: plot is not properly labeled"
   ]
  },
  {
   "cell_type": "code",
   "execution_count": 137,
   "id": "b0f87762",
   "metadata": {},
   "outputs": [],
   "source": [
    "rubric_item = \"q8: plot is not properly labeled\"\n",
    "readme_text = \"\"\"The notebook is parsed and the\n",
    "plot for Question 8 is identified.\n",
    "The image is parsed, and the text\n",
    "in the left and bottom of the image\n",
    "are read.\n",
    "If any of the required labels are\n",
    "missing, then the test is deemed\n",
    "a failure.\"\"\" \n",
    "\n",
    "write_readme(readme_text, os.path.join(directories[rubric_item], \"README.txt\"))"
   ]
  },
  {
   "cell_type": "raw",
   "id": "2c88e925",
   "metadata": {},
   "source": [
    "# BEGIN q8: plot is not properly labeled"
   ]
  },
  {
   "cell_type": "code",
   "execution_count": 138,
   "id": "6b800d7c",
   "metadata": {},
   "outputs": [
    {
     "name": "stderr",
     "output_type": "stream",
     "text": [
      "0.00s - Debugger warning: It seems that frozen modules are being used, which may\n",
      "0.00s - make the debugger miss breakpoints. Please pass -Xfrozen_modules=off\n",
      "0.00s - to python to disable frozen modules.\n",
      "0.00s - Note: Debugging will proceed. Set PYDEVD_DISABLE_FILE_VALIDATION=1 to disable this validation.\n"
     ]
    }
   ],
   "source": [
    "rubric_item = \"q8: plot is not properly labeled\"\n",
    "nb = clean_nb(read_nb(os.path.join(DIRECTORY, FILE)))\n",
    "nb = truncate_nb(nb, end=find_all_cell_indices(nb, \"code\", \"grader.check('q8')\")[-1])\n",
    "nb = run_nb(nb, os.path.join(directories[rubric_item], FILE))\n",
    "nb = truncate_nb(nb, start=find_all_cell_indices(nb, \"markdown\", \"**Question 8:**\")[-1])\n",
    "if os.path.exists(os.path.join(directories[rubric_item], 'plot_image.png')):\n",
    "    os.remove(os.path.join(directories[rubric_item], 'plot_image.png'))\n",
    "plot = get_last_plot(nb, os.path.join(directories[rubric_item], 'plot_image.png'))\n",
    "\n",
    "if rubric_item not in results:\n",
    "    results[rubric_item] = {}\n",
    "if plot == None:\n",
    "    results[rubric_item][rubric_item.split(\":\")[0]] = 'plot not found'\n",
    "else:\n",
    "    left_label_plot = get_label_plot(plot, 'left').rotate(-90)\n",
    "    left_label_check = check_text_in_plot(left_label_plot, ['Luminosity'])\n",
    "    bottom_label_plot = get_label_plot(plot, 'bottom')\n",
    "    bottom_label_check = check_text_in_plot(bottom_label_plot, ['Density'])\n",
    "    centre_label_plot = get_bounding_box_plot(plot)\n",
    "    centre_label_check = check_text_in_plot(centre_label_plot, ['Red Giant', 'White Dwarf', 'Neutron Star'])\n",
    "    missing_labels = left_label_check['missing_text'] + bottom_label_check['missing_text'] + centre_label_check['missing_text']\n",
    "    extra_labels = left_label_check['extra_text'] + bottom_label_check['extra_text'] + centre_label_check['extra_text']\n",
    "\n",
    "    if missing_labels == [] and extra_labels == []:\n",
    "        results[rubric_item] = {rubric_item.split(\":\")[0]: \"All test cases passed!\"}\n",
    "    else:\n",
    "        if missing_labels != []:\n",
    "            results[rubric_item] = {rubric_item.split(\":\")[0]: \"missing labels: \" + repr(missing_labels)}\n",
    "            comments[rubric_item] += \"\\n\"+results[rubric_item][rubric_item.split(\":\")[0]]\n",
    "        if extra_labels != []:\n",
    "            results[rubric_item] = {rubric_item.split(\":\")[0]: \"extra labels: \" + repr(extra_labels)}\n",
    "            comments[rubric_item] += \"\\n\"+results[rubric_item][rubric_item.split(\":\")[0]]"
   ]
  },
  {
   "cell_type": "raw",
   "id": "0a84073c",
   "metadata": {},
   "source": [
    "# END q8: plot is not properly labeled"
   ]
  },
  {
   "cell_type": "markdown",
   "id": "2c251905",
   "metadata": {},
   "source": [
    "### q9: incorrect logic is used to answer"
   ]
  },
  {
   "cell_type": "code",
   "execution_count": 139,
   "id": "22ba84ea",
   "metadata": {},
   "outputs": [],
   "source": [
    "rubric_item = 'q9: incorrect logic is used to answer'\n",
    "readme_text = \"\"\"Check that you properly handled cases with missing\n",
    "data. Verify the filtering logic to make sure that\n",
    "only stars with all attributes\n",
    "(`stellar_effective_temperature`,\n",
    "`stellar_luminosity`, `stellar_age`,\n",
    "`stellar_mass`) present are included in the lists.\n",
    "Consider edge cases such as zero values which may\n",
    "not be intended as missing data.\"\"\"\n",
    "\n",
    "write_readme(readme_text, os.path.join(directories[rubric_item], \"README.txt\"))"
   ]
  },
  {
   "cell_type": "code",
   "execution_count": 140,
   "id": "bd9abe7d",
   "metadata": {},
   "outputs": [],
   "source": [
    "import os\n",
    "import random\n",
    "import json\n",
    "import csv\n",
    "\n",
    "def modify_data(directory):\n",
    "    # Helper function to choose if a value should be missing or zeroed with a probability of 1/5\n",
    "    def random_modification():\n",
    "        return None if random.random() < 0.2 else 0 if random.random() < 0.2 else True\n",
    "\n",
    "    # Walk through the 'data' directory to find star CSV files and modify them\n",
    "    for subfolder in os.listdir(directory):\n",
    "        if subfolder == 'data':\n",
    "            data_folder = os.path.join(directory, subfolder)\n",
    "            for filename in os.listdir(data_folder):\n",
    "                if filename.startswith('stars') and filename.endswith('.csv'):\n",
    "                    filepath = os.path.join(data_folder, filename)\n",
    "                    with open(filepath, 'r', encoding='utf-8') as file:\n",
    "                        reader = csv.DictReader(file)\n",
    "                        rows = list(reader)\n",
    "                    \n",
    "                    with open(filepath, 'w', encoding='utf-8', newline='') as file:\n",
    "                        writer = csv.DictWriter(file, fieldnames=reader.fieldnames)\n",
    "                        writer.writeheader()\n",
    "                        for row in rows:\n",
    "                            # Randomly modify the rows as needed\n",
    "                            if random_modification() is None:\n",
    "                                row['Stellar Luminosity [log(Solar)]'] = None\n",
    "                            elif random_modification() == 0:\n",
    "                                row['Stellar Luminosity [log(Solar)]'] = 0\n",
    "\n",
    "                            if random_modification() is None:\n",
    "                                row['Stellar Effective Temperature [K]'] = None\n",
    "                            elif random_modification() == 0:\n",
    "                                row['Stellar Effective Temperature [K]'] = 0\n",
    "\n",
    "                            if random_modification() is None:\n",
    "                                row['Stellar Mass [Solar mass]'] = None\n",
    "                            elif random_modification() == 0:\n",
    "                                row['Stellar Mass [Solar mass]'] = 0\n",
    "\n",
    "                            if random_modification() is None:\n",
    "                                row['Stellar Age [Gyr]'] = None\n",
    "                            elif random_modification() == 0:\n",
    "                                row['Stellar Age [Gyr]'] = 0\n",
    "\n",
    "                            writer.writerow(row)\n",
    "\n",
    "# First call random_data to completely modify the dataset\n",
    "# Please ensure that the random_data function is already defined elsewhere in your code\n",
    "random_data(directories[rubric_item])\n",
    "\n",
    "# Now call the modify_data function to apply the specific modifications\n",
    "modify_data(directories[rubric_item])"
   ]
  },
  {
   "cell_type": "raw",
   "id": "0cf80684",
   "metadata": {},
   "source": [
    "# BEGIN q9: incorrect logic is used to answer"
   ]
  },
  {
   "cell_type": "code",
   "execution_count": 141,
   "id": "0791754d",
   "metadata": {},
   "outputs": [
    {
     "name": "stderr",
     "output_type": "stream",
     "text": [
      "0.00s - Debugger warning: It seems that frozen modules are being used, which may\n",
      "0.00s - make the debugger miss breakpoints. Please pass -Xfrozen_modules=off\n",
      "0.00s - to python to disable frozen modules.\n",
      "0.00s - Note: Debugging will proceed. Set PYDEVD_DISABLE_FILE_VALIDATION=1 to disable this validation.\n"
     ]
    }
   ],
   "source": [
    "rubric_item = 'q9: incorrect logic is used to answer'\n",
    "nb = new_clean_nb(read_nb(os.path.join(DIRECTORY, FILE)))\n",
    "nb = truncate_nb(nb, end=find_all_cell_indices(nb, \"code\", \"grader.check('q9')\")[-1])\n",
    "\n",
    "results[rubric_item] = parse_nb(run_nb(nb, os.path.join(directories[rubric_item], FILE)))"
   ]
  },
  {
   "cell_type": "raw",
   "id": "b2df1335",
   "metadata": {},
   "source": [
    "# END q9: incorrect logic is used to answer"
   ]
  },
  {
   "cell_type": "code",
   "execution_count": 142,
   "id": "b0d3af26",
   "metadata": {},
   "outputs": [
    {
     "name": "stderr",
     "output_type": "stream",
     "text": [
      "0.00s - Debugger warning: It seems that frozen modules are being used, which may\n",
      "0.00s - make the debugger miss breakpoints. Please pass -Xfrozen_modules=off\n",
      "0.00s - to python to disable frozen modules.\n",
      "0.00s - Note: Debugging will proceed. Set PYDEVD_DISABLE_FILE_VALIDATION=1 to disable this validation.\n"
     ]
    }
   ],
   "source": [
    "gen_public_tests.gen_public_tests(os.path.join(directories[rubric_item], FILE))"
   ]
  },
  {
   "cell_type": "markdown",
   "id": "c8ea2697",
   "metadata": {},
   "source": [
    "### q9: `stars_dict` data structure is not used to answer"
   ]
  },
  {
   "cell_type": "code",
   "execution_count": 143,
   "id": "fd39d5c3",
   "metadata": {},
   "outputs": [],
   "source": [
    "rubric_item = 'q9: `stars_dict` data structure is not used to answer'\n",
    "readme_text = \"\"\"Check that you are utilizing the `stars_dict` data\n",
    "structure correctly to extract and use the\n",
    "properties of `Star` objects. Your lists should\n",
    "only include data for `Star` objects that have all\n",
    "attributes defined. Make sure you are not\n",
    "reprocessing data outside this structure or\n",
    "overlooking the requirement to exclude incomplete\n",
    "data entries.\"\"\"\n",
    "\n",
    "write_readme(readme_text, os.path.join(directories[rubric_item], \"README.txt\"))"
   ]
  },
  {
   "cell_type": "raw",
   "id": "2997ddf7",
   "metadata": {},
   "source": [
    "# BEGIN q9: `stars_dict` data structure is not used to answer"
   ]
  },
  {
   "cell_type": "code",
   "execution_count": 144,
   "id": "6cca6c14",
   "metadata": {},
   "outputs": [
    {
     "name": "stderr",
     "output_type": "stream",
     "text": [
      "0.00s - Debugger warning: It seems that frozen modules are being used, which may\n",
      "0.00s - make the debugger miss breakpoints. Please pass -Xfrozen_modules=off\n",
      "0.00s - to python to disable frozen modules.\n",
      "0.00s - Note: Debugging will proceed. Set PYDEVD_DISABLE_FILE_VALIDATION=1 to disable this validation.\n"
     ]
    }
   ],
   "source": [
    "rubric_item = 'q9: `stars_dict` data structure is not used to answer'\n",
    "nb = read_nb(os.path.join(DIRECTORY, FILE))\n",
    "nb = new_clean_nb(nb)\n",
    "\n",
    "end_index = find_all_cell_indices(nb, \"code\", \"grader.check('q9')\")[-1]\n",
    "nb = truncate_nb(nb, end=end_index)\n",
    "\n",
    "new_stars_dict = true_data_structures['stars_dict'] + '''\n",
    "import random\n",
    "\n",
    "random.seed(0)\n",
    "stars_dict_keys = list(stars_dict.keys())\n",
    "stars_dict_values = list(stars_dict.values())\n",
    "random.shuffle(stars_dict_keys)\n",
    "random.shuffle(stars_dict_values)\n",
    "\n",
    "stars_dict = {}\n",
    "for i in range(len(stars_dict_keys)):\n",
    "    stars_dict[stars_dict_keys[i]] = stars_dict_values[i]\n",
    "'''\n",
    "\n",
    "nb = replace_with_false_data_structure(nb, 'stars_dict', new_stars_dict)\n",
    "\n",
    "results[rubric_item] = parse_nb(run_nb(nb, os.path.join(directories[rubric_item], FILE)))"
   ]
  },
  {
   "cell_type": "raw",
   "id": "c4da0c16",
   "metadata": {},
   "source": [
    "# END q9: `stars_dict` data structure is not used to answer"
   ]
  },
  {
   "cell_type": "code",
   "execution_count": 145,
   "id": "e5fe2f82",
   "metadata": {},
   "outputs": [
    {
     "name": "stderr",
     "output_type": "stream",
     "text": [
      "0.00s - Debugger warning: It seems that frozen modules are being used, which may\n",
      "0.00s - make the debugger miss breakpoints. Please pass -Xfrozen_modules=off\n",
      "0.00s - to python to disable frozen modules.\n",
      "0.00s - Note: Debugging will proceed. Set PYDEVD_DISABLE_FILE_VALIDATION=1 to disable this validation.\n"
     ]
    }
   ],
   "source": [
    "gen_public_tests.gen_public_tests(os.path.join(directories[rubric_item], FILE))"
   ]
  },
  {
   "cell_type": "markdown",
   "id": "90f16cf2",
   "metadata": {},
   "source": [
    "### q9: plot is incorrect"
   ]
  },
  {
   "cell_type": "code",
   "execution_count": 146,
   "id": "a7f11a24",
   "metadata": {},
   "outputs": [],
   "source": [
    "rubric_item = 'q9: plot is incorrect'\n",
    "readme_text = \"\"\"Ensure you are using the `plot_scatter` function\n",
    "correctly, passing the right data lists in the\n",
    "correct order, and that the plot is called in the\n",
    "expected cell. Check for None values and make sure\n",
    "to exclude any stars with missing attributes\n",
    "before plotting.\"\"\"\n",
    "\n",
    "write_readme(readme_text, os.path.join(directories[rubric_item], \"README.txt\"))"
   ]
  },
  {
   "cell_type": "raw",
   "id": "5aa3ddc0",
   "metadata": {},
   "source": [
    "# BEGIN q9: plot is incorrect"
   ]
  },
  {
   "cell_type": "code",
   "execution_count": 147,
   "id": "e5729c3b",
   "metadata": {},
   "outputs": [
    {
     "name": "stderr",
     "output_type": "stream",
     "text": [
      "0.00s - Debugger warning: It seems that frozen modules are being used, which may\n",
      "0.00s - make the debugger miss breakpoints. Please pass -Xfrozen_modules=off\n",
      "0.00s - to python to disable frozen modules.\n",
      "0.00s - Note: Debugging will proceed. Set PYDEVD_DISABLE_FILE_VALIDATION=1 to disable this validation.\n",
      "0.00s - Debugger warning: It seems that frozen modules are being used, which may\n",
      "0.00s - make the debugger miss breakpoints. Please pass -Xfrozen_modules=off\n",
      "0.00s - to python to disable frozen modules.\n",
      "0.00s - Note: Debugging will proceed. Set PYDEVD_DISABLE_FILE_VALIDATION=1 to disable this validation.\n"
     ]
    }
   ],
   "source": [
    "rubric_item = 'q9: plot is incorrect'\n",
    "nb = clean_nb(read_nb(os.path.join(DIRECTORY, FILE)))\n",
    "nb = truncate_nb(nb, end=find_all_cell_indices(nb, \"code\", \"grader.check('q9')\")[-1])\n",
    "nb = run_nb(nb, os.path.join(directories[rubric_item], FILE))\n",
    "if os.path.exists(os.path.join(directories[rubric_item], 'plot_image.png')):\n",
    "    os.remove(os.path.join(directories[rubric_item], 'plot_image.png'))\n",
    "plot_nb = truncate_nb(nb, start=find_all_cell_indices(nb, \"markdown\", \"**Question 9:**\")[-1])\n",
    "plot = get_last_plot(plot_nb, os.path.join(directories[rubric_item], 'plot_image.png'))\n",
    "\n",
    "# Inject fake plot_scatter before the question\n",
    "fake_plot_scatter = '''\n",
    "hidn_plot_dict = {}\n",
    "import matplotlib.pyplot as plt    \n",
    "    \n",
    "def plot_scatter(x_data, y_data, x_label='x axis', y_label='y axis', c=None, s=7):\n",
    "    global hidn_plot_dict\n",
    "    hidn_plot_dict = {\n",
    "        'x': x_data,\n",
    "        'y': y_data,\n",
    "        's': s,\n",
    "        'c': c\n",
    "    }\n",
    "'''\n",
    "nb = inject_code(nb, find_all_cell_indices(nb, \"markdown\", '**Question 9:**')[-1]+1, fake_plot_scatter)\n",
    "\n",
    "# Test code to verify if hidn_plot_dict contains correct data\n",
    "test_code = '''\n",
    "expected_hidn_plot_dict = {\n",
    "    'x': temp_list,\n",
    "    'y': lum_list,\n",
    "    's': mass_list,\n",
    "    'c': age_list,\n",
    "}\n",
    "\n",
    "# Comparing each expected element from the plot dictionary with the actual one saved in hidn_plot_dict\n",
    "comparison_results = []\n",
    "for key in expected_hidn_plot_dict:\n",
    "    comparison_results.append(public_tests.compare(expected_hidn_plot_dict[key], hidn_plot_dict.get(key, None), \"TEXT_FORMAT\"))\n",
    "\n",
    "if all(result == public_tests.PASS for result in comparison_results):\n",
    "    test_output = 'q9 results: ' + public_tests.PASS\n",
    "else:\n",
    "    test_output = 'q9 results: Not all checks pass.'\n",
    "'''\n",
    "nb = inject_code(nb, len(nb['cells']), get_test_text(\"q9\", test_code))\n",
    "\n",
    "results[rubric_item] = parse_nb(run_nb(nb, os.path.join(directories[rubric_item], FILE)))\n",
    "if plot == None:\n",
    "    results[rubric_item][rubric_item.split(\":\")[0]] = 'plot not found'\n",
    "    comments[rubric_item] += '\\nFAILED TEST: ' + results[rubric_item][rubric_item.split(\":\")[0]]"
   ]
  },
  {
   "cell_type": "raw",
   "id": "b9897f55",
   "metadata": {},
   "source": [
    "# END q9: plot is incorrect"
   ]
  },
  {
   "cell_type": "code",
   "execution_count": 148,
   "id": "a9d48547",
   "metadata": {},
   "outputs": [
    {
     "name": "stderr",
     "output_type": "stream",
     "text": [
      "0.00s - Debugger warning: It seems that frozen modules are being used, which may\n",
      "0.00s - make the debugger miss breakpoints. Please pass -Xfrozen_modules=off\n",
      "0.00s - to python to disable frozen modules.\n",
      "0.00s - Note: Debugging will proceed. Set PYDEVD_DISABLE_FILE_VALIDATION=1 to disable this validation.\n"
     ]
    }
   ],
   "source": [
    "gen_public_tests.gen_public_tests(os.path.join(directories[rubric_item], FILE))"
   ]
  },
  {
   "cell_type": "markdown",
   "id": "0f3cc6d8",
   "metadata": {},
   "source": [
    "### q9: plot is not properly labeled"
   ]
  },
  {
   "cell_type": "code",
   "execution_count": 149,
   "id": "0a05fd9a",
   "metadata": {},
   "outputs": [],
   "source": [
    "rubric_item = \"q9: plot is not properly labeled\"\n",
    "readme_text = \"\"\"The notebook is parsed and the\n",
    "plot for Question 9 is identified.\n",
    "The image is parsed, and the text\n",
    "in the left and bottom of the image\n",
    "are read.\n",
    "If any of the required labels are\n",
    "missing, then the test is deemed\n",
    "a failure.\"\"\" \n",
    "\n",
    "write_readme(readme_text, os.path.join(directories[rubric_item], \"README.txt\"))"
   ]
  },
  {
   "cell_type": "raw",
   "id": "d213e329",
   "metadata": {},
   "source": [
    "# BEGIN q9: plot is not properly labeled"
   ]
  },
  {
   "cell_type": "code",
   "execution_count": 150,
   "id": "08d1ebf9",
   "metadata": {},
   "outputs": [
    {
     "name": "stderr",
     "output_type": "stream",
     "text": [
      "0.00s - Debugger warning: It seems that frozen modules are being used, which may\n",
      "0.00s - make the debugger miss breakpoints. Please pass -Xfrozen_modules=off\n",
      "0.00s - to python to disable frozen modules.\n",
      "0.00s - Note: Debugging will proceed. Set PYDEVD_DISABLE_FILE_VALIDATION=1 to disable this validation.\n"
     ]
    }
   ],
   "source": [
    "rubric_item = \"q9: plot is not properly labeled\"\n",
    "nb = clean_nb(read_nb(os.path.join(DIRECTORY, FILE)))\n",
    "nb = truncate_nb(nb, end=find_all_cell_indices(nb, \"code\", \"grader.check('q9')\")[-1])\n",
    "nb = run_nb(nb, os.path.join(directories[rubric_item], FILE))\n",
    "nb = truncate_nb(nb, start=find_all_cell_indices(nb, \"markdown\", \"**Question 9:**\")[-1])\n",
    "if os.path.exists(os.path.join(directories[rubric_item], 'plot_image.png')):\n",
    "    os.remove(os.path.join(directories[rubric_item], 'plot_image.png'))\n",
    "plot = get_last_plot(nb, os.path.join(directories[rubric_item], 'plot_image.png'))\n",
    "\n",
    "if rubric_item not in results:\n",
    "    results[rubric_item] = {}\n",
    "if plot == None:\n",
    "    results[rubric_item][rubric_item.split(\":\")[0]] = 'plot not found'\n",
    "else:\n",
    "    left_label_plot = get_label_plot(plot, 'left').rotate(-90)\n",
    "    left_label_check = check_text_in_plot(left_label_plot, ['Luminosity'])\n",
    "    bottom_label_plot = get_label_plot(plot, 'bottom')\n",
    "    bottom_label_check = check_text_in_plot(bottom_label_plot, ['Effective Temperature'])\n",
    "    missing_labels = left_label_check['missing_text'] + bottom_label_check['missing_text']\n",
    "    extra_labels = left_label_check['extra_text'] + bottom_label_check['extra_text']\n",
    "\n",
    "    if missing_labels == [] and extra_labels == []:\n",
    "        results[rubric_item] = {rubric_item.split(\":\")[0]: \"All test cases passed!\"}\n",
    "    else:\n",
    "        if missing_labels != []:\n",
    "            results[rubric_item] = {rubric_item.split(\":\")[0]: \"missing labels: \" + repr(missing_labels)}\n",
    "            comments[rubric_item] += \"\\n\"+results[rubric_item][rubric_item.split(\":\")[0]]\n",
    "        if extra_labels != []:\n",
    "            results[rubric_item] = {rubric_item.split(\":\")[0]: \"extra labels: \" + repr(extra_labels)}\n",
    "            comments[rubric_item] += \"\\n\"+results[rubric_item][rubric_item.split(\":\")[0]]"
   ]
  },
  {
   "cell_type": "raw",
   "id": "87927f66",
   "metadata": {},
   "source": [
    "# END q9: plot is not properly labeled"
   ]
  },
  {
   "cell_type": "markdown",
   "id": "4ad23deb",
   "metadata": {},
   "source": [
    "### get_all_paths_in: hardcoding the name of directory inside the function"
   ]
  },
  {
   "cell_type": "code",
   "execution_count": 151,
   "id": "203a40d1",
   "metadata": {},
   "outputs": [],
   "source": [
    "rubric_item = 'get_all_paths_in: hardcoding the name of directory inside the function'\n",
    "readme_text = \"\"\"The function failed a test where directories with\n",
    "names other than \"sample_data\" were used. Verify\n",
    "that your function does not include hardcoded\n",
    "directory names, and ensure it's written to accept\n",
    "any given directory as an argument. Use the\n",
    "provided `directory` parameter to build your file\n",
    "paths.\"\"\"\n",
    "\n",
    "write_readme(readme_text, os.path.join(directories[rubric_item], \"README.txt\"))"
   ]
  },
  {
   "cell_type": "raw",
   "id": "ee6e3412",
   "metadata": {},
   "source": [
    "# BEGIN get_all_paths_in: hardcoding the name of directory inside the function"
   ]
  },
  {
   "cell_type": "code",
   "execution_count": 152,
   "id": "62190be7",
   "metadata": {},
   "outputs": [
    {
     "name": "stderr",
     "output_type": "stream",
     "text": [
      "0.00s - Debugger warning: It seems that frozen modules are being used, which may\n",
      "0.00s - make the debugger miss breakpoints. Please pass -Xfrozen_modules=off\n",
      "0.00s - to python to disable frozen modules.\n",
      "0.00s - Note: Debugging will proceed. Set PYDEVD_DISABLE_FILE_VALIDATION=1 to disable this validation.\n"
     ]
    }
   ],
   "source": [
    "rubric_item = 'get_all_paths_in: hardcoding the name of directory inside the function'\n",
    "nb = read_nb(os.path.join(DIRECTORY, FILE))\n",
    "nb = new_clean_nb(nb)\n",
    "\n",
    "nb = truncate_nb(nb, end=find_all_cell_indices(nb, \"code\", \"grader.check('get_all_paths_in')\")[-1])\n",
    "\n",
    "var_inputs_code = \"\"\"\n",
    "var_inputs = [('broken_data',), ('data',)]\n",
    "\"\"\"\n",
    "nb = inject_function_logic_check(nb, 'get_all_paths_in', var_inputs_code, 'TEXT_FORMAT_UNORDERED_LIST_SLASHES')\n",
    "\n",
    "results[rubric_item] = parse_nb(run_nb(nb, os.path.join(directories[rubric_item], FILE)))"
   ]
  },
  {
   "cell_type": "raw",
   "id": "0481ae15",
   "metadata": {},
   "source": [
    "# END get_all_paths_in: hardcoding the name of directory inside the function"
   ]
  },
  {
   "cell_type": "code",
   "execution_count": 153,
   "id": "dca199ae",
   "metadata": {},
   "outputs": [
    {
     "name": "stderr",
     "output_type": "stream",
     "text": [
      "0.00s - Debugger warning: It seems that frozen modules are being used, which may\n",
      "0.00s - make the debugger miss breakpoints. Please pass -Xfrozen_modules=off\n",
      "0.00s - to python to disable frozen modules.\n",
      "0.00s - Note: Debugging will proceed. Set PYDEVD_DISABLE_FILE_VALIDATION=1 to disable this validation.\n"
     ]
    }
   ],
   "source": [
    "gen_public_tests.gen_public_tests(os.path.join(directories[rubric_item], FILE))"
   ]
  },
  {
   "cell_type": "markdown",
   "id": "2ee7696b",
   "metadata": {},
   "source": [
    "### get_all_paths_in: function does not remove all files and directories that start with `.`"
   ]
  },
  {
   "cell_type": "code",
   "execution_count": 154,
   "id": "f43cbbf7",
   "metadata": {},
   "outputs": [],
   "source": [
    "rubric_item = 'get_all_paths_in: function does not remove all files and directories that start with `.`'\n",
    "readme_text = \"\"\"Check that your function correctly ignores files\n",
    "and directories beginning with a dot (`.`). Review\n",
    "how you filter such items and ensure they are\n",
    "excluded from the results before sorting. Apply\n",
    "recursion properly to handle nested directories.\"\"\"\n",
    "\n",
    "write_readme(readme_text, os.path.join(directories[rubric_item], \"README.txt\"))"
   ]
  },
  {
   "cell_type": "code",
   "execution_count": 155,
   "id": "8d5ecaae",
   "metadata": {},
   "outputs": [],
   "source": [
    "import os\n",
    "import random\n",
    "\n",
    "# Define the function to modify data as per the test requirements\n",
    "def modify_data(directory):\n",
    "    \"\"\"\n",
    "    This function adds new files and directories that start with `.` \n",
    "    in all the subdirectories of the specified `broken_data` directory.\n",
    "    \"\"\"\n",
    "    # Helper function to add files or directories\n",
    "    def add_junk_files_or_dirs(current_dir):\n",
    "        # List of prefixes to determine type\n",
    "        prefixes = ['.file_', '.dir_']\n",
    "        # Randomize the number of junk entries to create\n",
    "        num_entries = random.randint(1, 5)\n",
    "        \n",
    "        for _ in range(num_entries):\n",
    "            # Randomly choose a name with a prefix\n",
    "            name = random.choice(prefixes) + str(random.randint(1, 10000))\n",
    "            path = os.path.join(current_dir, name)\n",
    "            # Randomly determine whether to create a file or a directory\n",
    "            if random.choice([True, False]):\n",
    "                # Create a new file\n",
    "                with open(path, 'w', encoding='utf-8') as file:\n",
    "                    file.write('junk data')\n",
    "            else:\n",
    "                # Create a new directory\n",
    "                os.mkdir(path)\n",
    "\n",
    "    # Recursive function to walk through the directories and create junk files/directories\n",
    "    def recursive_add_junk(current_dir):\n",
    "        # First add junk to the current directory\n",
    "        add_junk_files_or_dirs(current_dir)\n",
    "        \n",
    "        # Then iterate over the contents of the current directory\n",
    "        for entry in os.listdir(current_dir):\n",
    "            path = os.path.join(current_dir, entry)\n",
    "            # If entry is a directory (and not a junk file/directory itself), proceed recursively\n",
    "            if os.path.isdir(path) and not entry.startswith('.'):\n",
    "                recursive_add_junk(path)\n",
    "    \n",
    "    # Start the recursive junk creation process from the initial directory\n",
    "    recursive_add_junk(os.path.join(directory, 'broken_data'))\n",
    "\n",
    "# Assuming that 'directories' and 'rubric_item' variables are predefined\n",
    "# Call the function to modify the dataset, explicitly pass the 'directories[rubric_item]' as argument\n",
    "random_data(directories[rubric_item])\n",
    "modify_data(directories[rubric_item])"
   ]
  },
  {
   "cell_type": "raw",
   "id": "ce059dc2",
   "metadata": {},
   "source": [
    "# BEGIN get_all_paths_in: function does not remove all files and directories that start with `.`"
   ]
  },
  {
   "cell_type": "code",
   "execution_count": 156,
   "id": "0c4d4034",
   "metadata": {},
   "outputs": [
    {
     "name": "stderr",
     "output_type": "stream",
     "text": [
      "0.00s - Debugger warning: It seems that frozen modules are being used, which may\n",
      "0.00s - make the debugger miss breakpoints. Please pass -Xfrozen_modules=off\n",
      "0.00s - to python to disable frozen modules.\n",
      "0.00s - Note: Debugging will proceed. Set PYDEVD_DISABLE_FILE_VALIDATION=1 to disable this validation.\n"
     ]
    }
   ],
   "source": [
    "rubric_item = 'get_all_paths_in: function does not remove all files and directories that start with `.`'\n",
    "nb = read_nb(os.path.join(DIRECTORY, FILE))\n",
    "nb = new_clean_nb(nb)\n",
    "nb = truncate_nb(nb, end=find_all_cell_indices(nb, \"code\", \"grader.check('get_all_paths_in')\")[-1])\n",
    "\n",
    "var_inputs_code = '''\n",
    "var_inputs = [('broken_data',)]'''\n",
    "nb = inject_function_logic_check(nb, 'get_all_paths_in', var_inputs_code, test_format=\"TEXT_FORMAT_UNORDERED_LIST_SLASHES\")\n",
    "\n",
    "results[rubric_item] = parse_nb(run_nb(nb, os.path.join(directories[rubric_item], FILE)))"
   ]
  },
  {
   "cell_type": "raw",
   "id": "145cb1a4",
   "metadata": {},
   "source": [
    "# END get_all_paths_in: function does not remove all files and directories that start with `.`"
   ]
  },
  {
   "cell_type": "code",
   "execution_count": 157,
   "id": "8a693ef7",
   "metadata": {},
   "outputs": [
    {
     "name": "stderr",
     "output_type": "stream",
     "text": [
      "0.00s - Debugger warning: It seems that frozen modules are being used, which may\n",
      "0.00s - make the debugger miss breakpoints. Please pass -Xfrozen_modules=off\n",
      "0.00s - to python to disable frozen modules.\n",
      "0.00s - Note: Debugging will proceed. Set PYDEVD_DISABLE_FILE_VALIDATION=1 to disable this validation.\n"
     ]
    }
   ],
   "source": [
    "gen_public_tests.gen_public_tests(os.path.join(directories[rubric_item], FILE))"
   ]
  },
  {
   "cell_type": "markdown",
   "id": "ff4591fa",
   "metadata": {},
   "source": [
    "### get_all_paths_in: function does not sort file names explicitly"
   ]
  },
  {
   "cell_type": "code",
   "execution_count": 40,
   "id": "4c0bf825",
   "metadata": {},
   "outputs": [],
   "source": [
    "rubric_item = 'get_all_paths_in: function does not sort file names explicitly'\n",
    "readme_text = \"\"\"Ensure your function explicitly sorts files after\n",
    "listing them with `os.listdir`, as the order\n",
    "returned is not guaranteed across different\n",
    "environments. Check your recursive implementation\n",
    "for sorting consistency.\"\"\"\n",
    "\n",
    "write_readme(readme_text, os.path.join(directories[rubric_item], \"README.txt\"))"
   ]
  },
  {
   "cell_type": "code",
   "execution_count": 159,
   "id": "987cdf15",
   "metadata": {},
   "outputs": [],
   "source": [
    "random_data(directories[rubric_item], 10)"
   ]
  },
  {
   "cell_type": "raw",
   "id": "5e9f7795",
   "metadata": {},
   "source": [
    "# BEGIN get_all_paths_in: function does not sort file names explicitly"
   ]
  },
  {
   "cell_type": "code",
   "execution_count": 41,
   "id": "6e1a8a03",
   "metadata": {},
   "outputs": [
    {
     "name": "stderr",
     "output_type": "stream",
     "text": [
      "0.00s - Debugger warning: It seems that frozen modules are being used, which may\n",
      "0.00s - make the debugger miss breakpoints. Please pass -Xfrozen_modules=off\n",
      "0.00s - to python to disable frozen modules.\n",
      "0.00s - Note: Debugging will proceed. Set PYDEVD_DISABLE_FILE_VALIDATION=1 to disable this validation.\n"
     ]
    }
   ],
   "source": [
    "rubric_item = 'get_all_paths_in: function does not sort file names explicitly'\n",
    "nb = read_nb(os.path.join(DIRECTORY, FILE))\n",
    "nb = new_clean_nb(nb)\n",
    "nb = truncate_nb(nb, end=find_all_cell_indices(nb, \"code\", \"grader.check('get_all_paths_in')\")[-1])\n",
    "\n",
    "# Test the function on the variable input \"broken_data\".\n",
    "var_inputs_code = '''\n",
    "var_inputs = [('broken_data',), ('data',)]\n",
    "'''\n",
    "nb = inject_function_logic_check(nb, 'get_all_paths_in', var_inputs_code, 'TEXT_FORMAT_ORDERED_LIST_SLASHES')\n",
    "\n",
    "# Inject code to redefine the string class, and the os functions.\n",
    "sort_redefine = '''\n",
    "import os\n",
    "\n",
    "class newStr(str):\n",
    "    def __lt__(self, other):\n",
    "        if isinstance(other, newStr):\n",
    "            return self > str(other)\n",
    "        return str(self) < other\n",
    "    \n",
    "    def __le__(self, other):\n",
    "        if isinstance(other, newStr):\n",
    "            return self >= str(other)\n",
    "        return str(self) <= other\n",
    "        \n",
    "    def __eq__(self, other):\n",
    "        return str(self) == other\n",
    "\n",
    "    def __ne__(self, other):\n",
    "        return str(self) != other\n",
    "\n",
    "    def __gt__(self, other):\n",
    "        if isinstance(other, newStr):\n",
    "            return self < str(other)\n",
    "        return str(self) > other\n",
    "\n",
    "    def __ge__(self, other):\n",
    "        if isinstance(other, newStr):\n",
    "            return self <= str(other)\n",
    "        return str(self) >= other\n",
    "        \n",
    "    def split(self, sep=None, maxsplit=-1):\n",
    "        orig_split = str(self).split(sep, maxsplit)\n",
    "        return [newStr(item) for item in orig_split]\n",
    "\n",
    "def new_join(*paths):\n",
    "    return newStr(original_join(*paths))\n",
    "    \n",
    "def new_listdir(path):\n",
    "    return [newStr(p) for p in original_listdir(path)]\n",
    "    \n",
    "def new_basename(path):\n",
    "    return newStr(original_basename(path))\n",
    "    \n",
    "def new_dirname(path):\n",
    "    return newStr(original_dirname(path))\n",
    "\n",
    "original_join = os.path.join\n",
    "os.path.join = new_join\n",
    "\n",
    "original_listdir = os.listdir\n",
    "os.listdir = new_listdir\n",
    "\n",
    "original_basename = os.path.basename\n",
    "os.path.basename = new_basename\n",
    "\n",
    "original_dirname = os.path.dirname\n",
    "os.path.dirname = new_dirname\n",
    "'''\n",
    "\n",
    "nb = inject_code(nb, 0, sort_redefine)\n",
    "\n",
    "sort_restore = '''\n",
    "os.path.join = original_join\n",
    "os.listdir = original_listdir\n",
    "os.path.basename = original_basename\n",
    "os.path.dirname = original_dirname\n",
    "'''\n",
    "\n",
    "nb = inject_code(nb, len(nb['cells']), sort_restore)\n",
    "\n",
    "\n",
    "# Run, parse, and store the outcome of the test in the results dictionary.\n",
    "results[rubric_item] = parse_nb(run_nb(nb, os.path.join(directories[rubric_item], FILE)))"
   ]
  },
  {
   "cell_type": "raw",
   "id": "4226ae1c",
   "metadata": {},
   "source": [
    "# END get_all_paths_in: function does not sort file names explicitly"
   ]
  },
  {
   "cell_type": "code",
   "execution_count": 42,
   "id": "2250e07b",
   "metadata": {},
   "outputs": [
    {
     "name": "stderr",
     "output_type": "stream",
     "text": [
      "0.00s - Debugger warning: It seems that frozen modules are being used, which may\n",
      "0.00s - make the debugger miss breakpoints. Please pass -Xfrozen_modules=off\n",
      "0.00s - to python to disable frozen modules.\n",
      "0.00s - Note: Debugging will proceed. Set PYDEVD_DISABLE_FILE_VALIDATION=1 to disable this validation.\n"
     ]
    }
   ],
   "source": [
    "gen_public_tests.gen_public_tests(os.path.join(directories[rubric_item], FILE))"
   ]
  },
  {
   "cell_type": "markdown",
   "id": "68b4588b",
   "metadata": {},
   "source": [
    "### get_all_paths_in: function logic is incorrect"
   ]
  },
  {
   "cell_type": "code",
   "execution_count": 162,
   "id": "1c6550b9",
   "metadata": {},
   "outputs": [],
   "source": [
    "rubric_item = 'get_all_paths_in: function logic is incorrect'\n",
    "readme_text = \"\"\"Ensure your recursive logic correctly explores all\n",
    "subdirectories and performs the appropriate checks\n",
    "for file names starting with '.'. Verify that all\n",
    "paths are relative and that the final list is\n",
    "sorted in reverse alphabetical order. Use the `os`\n",
    "module functions appropriately. Consider edge\n",
    "cases and test with different directory\n",
    "structures.\"\"\"\n",
    "\n",
    "write_readme(readme_text, os.path.join(directories[rubric_item], \"README.txt\"))"
   ]
  },
  {
   "cell_type": "code",
   "execution_count": 163,
   "id": "96a587fc",
   "metadata": {},
   "outputs": [],
   "source": [
    "import os\n",
    "import random\n",
    "\n",
    "# Define the modify_data function to test the logic of get_all_paths_in\n",
    "def modify_data(directory):\n",
    "    \"\"\"\n",
    "    Modify the datasets in the directory according to the modification details. \n",
    "    This includes creating new files and directories inside the 'broken_data' directory.\n",
    "    The contents of the new files and names of the directories are irrelevant as long as they are unique.\n",
    "    \"\"\"\n",
    "    # Define a function to get all the paths in 'broken_data'\n",
    "    def get_all_paths_in(d):\n",
    "        paths = []\n",
    "        for entry in os.listdir(d):\n",
    "            entry_path = os.path.join(d, entry)\n",
    "            if os.path.isdir(entry_path):\n",
    "                paths += get_all_paths_in(entry_path)\n",
    "            elif os.path.isfile(entry_path) and not entry.startswith('.'):\n",
    "                paths.append(entry_path)\n",
    "        return paths\n",
    "\n",
    "    # Define potential filenames for creation\n",
    "    new_filenames = ['new_file_1.json', 'new_file_2.json', 'new_file_3.json']\n",
    "\n",
    "    # Get the current paths in the 'broken_data' directory\n",
    "    current_paths = get_all_paths_in(os.path.join(directory, 'broken_data'))\n",
    "\n",
    "    # Determine the path for the 'broken_data' specific directory\n",
    "    broken_data_path = os.path.join(directory, 'broken_data')\n",
    "\n",
    "    # Create a random number of directories between 1 and 3 within 'broken_data'\n",
    "    for i in range(random.randint(1, 3)):\n",
    "        new_dirname = f'new_dir_{i}'\n",
    "        new_dirpath = os.path.join(broken_data_path, new_dirname)\n",
    "\n",
    "        # Ensure the directory does not already exist\n",
    "        if not os.path.exists(new_dirpath):\n",
    "            os.mkdir(new_dirpath)\n",
    "\n",
    "            # Create new files within the new directory\n",
    "            for new_filename in new_filenames:\n",
    "                new_filepath = os.path.join(new_dirpath, new_filename)\n",
    "                with open(new_filepath, 'w', encoding='utf-8') as f:\n",
    "                    # Write some random content\n",
    "                    f.write('Random content' + str(random.random()))\n",
    "\n",
    "# The variables directories and rubric_item have been already defined externally\n",
    "# If the dataset must be completely modified, call the random_data function\n",
    "# Since the data must be modified, we call random_data with the project directory\n",
    "# The size of the data is not specified, so we use the default argument for random_data\n",
    "random_data(directories[rubric_item])\n",
    "\n",
    "# Call the modify_data function\n",
    "modify_data(directories[rubric_item])"
   ]
  },
  {
   "cell_type": "raw",
   "id": "33e15884",
   "metadata": {},
   "source": [
    "# BEGIN get_all_paths_in: function logic is incorrect"
   ]
  },
  {
   "cell_type": "code",
   "execution_count": 164,
   "id": "47952378",
   "metadata": {},
   "outputs": [
    {
     "name": "stderr",
     "output_type": "stream",
     "text": [
      "0.00s - Debugger warning: It seems that frozen modules are being used, which may\n",
      "0.00s - make the debugger miss breakpoints. Please pass -Xfrozen_modules=off\n",
      "0.00s - to python to disable frozen modules.\n",
      "0.00s - Note: Debugging will proceed. Set PYDEVD_DISABLE_FILE_VALIDATION=1 to disable this validation.\n"
     ]
    }
   ],
   "source": [
    "rubric_item = 'get_all_paths_in: function logic is incorrect'\n",
    "nb = read_nb(os.path.join(DIRECTORY, FILE))\n",
    "nb = new_clean_nb(nb)\n",
    "\n",
    "nb = truncate_nb(nb, end=find_all_cell_indices(nb, \"code\", \"grader.check('get_all_paths_in')\")[-1])\n",
    "\n",
    "var_inputs_code = '''\n",
    "var_inputs = [tuple([item[0]]) for item in list(os.walk('broken_data')) if os.path.basename(item[0])[0] != \".\"]\n",
    "'''\n",
    "nb = inject_function_logic_check(nb, 'get_all_paths_in', var_inputs_code, 'TEXT_FORMAT_ORDERED_LIST_SLASHES')\n",
    "\n",
    "results[rubric_item] = parse_nb(run_nb(nb, os.path.join(directories[rubric_item], FILE)))"
   ]
  },
  {
   "cell_type": "raw",
   "id": "2891657a",
   "metadata": {},
   "source": [
    "# END get_all_paths_in: function logic is incorrect"
   ]
  },
  {
   "cell_type": "code",
   "execution_count": 165,
   "id": "2e57a047",
   "metadata": {},
   "outputs": [
    {
     "name": "stderr",
     "output_type": "stream",
     "text": [
      "0.00s - Debugger warning: It seems that frozen modules are being used, which may\n",
      "0.00s - make the debugger miss breakpoints. Please pass -Xfrozen_modules=off\n",
      "0.00s - to python to disable frozen modules.\n",
      "0.00s - Note: Debugging will proceed. Set PYDEVD_DISABLE_FILE_VALIDATION=1 to disable this validation.\n"
     ]
    }
   ],
   "source": [
    "gen_public_tests.gen_public_tests(os.path.join(directories[rubric_item], FILE))"
   ]
  },
  {
   "cell_type": "markdown",
   "id": "a7f6acd9",
   "metadata": {},
   "source": [
    "### get_all_paths_in: paths are hardcoded using slashes"
   ]
  },
  {
   "cell_type": "code",
   "execution_count": 166,
   "id": "2fa74e66",
   "metadata": {},
   "outputs": [],
   "source": [
    "rubric_item = 'get_all_paths_in: paths are hardcoded using slashes'\n",
    "readme_text = \"\"\"Ensure you use `os.path.join` for cross-platform\n",
    "compatibility instead of hardcoded paths. The test\n",
    "modifies your code to use a `new_join` function\n",
    "that concatenates with `&`. Check for proper use\n",
    "of `os.path.join` in your function.\"\"\"\n",
    "\n",
    "write_readme(readme_text, os.path.join(directories[rubric_item], \"README.txt\"))"
   ]
  },
  {
   "cell_type": "code",
   "execution_count": 167,
   "id": "f45890e7",
   "metadata": {},
   "outputs": [],
   "source": [
    "random_data(directories[rubric_item], 100)\n",
    "\n",
    "for item in list(os.walk(os.path.join(directories[rubric_item], 'broken_data'))):\n",
    "    file_dirs = item[0].split(os.path.sep)\n",
    "    actual_file_dirs = os.path.sep.join(file_dirs[:file_dirs.index('broken_data')])\n",
    "    remaining_path = os.path.sep.join(file_dirs[file_dirs.index('broken_data'):])\n",
    "    old_path = os.path.join(actual_file_dirs, remaining_path)\n",
    "    new_path = os.path.join(actual_file_dirs, remaining_path.replace(os.path.sep, '&'))\n",
    "    if remaining_path == 'broken_data':\n",
    "        continue\n",
    "    if os.path.exists(new_path):\n",
    "        shutil.rmtree(new_path)\n",
    "    shutil.copytree(old_path, new_path)\n",
    "    \n",
    "\n",
    "for item in list(os.walk(os.path.join(directories[rubric_item], 'broken_data'))):\n",
    "    for file in item[2]:\n",
    "        file_dirs = item[0].split(os.path.sep)\n",
    "        actual_file_dirs = os.path.sep.join(file_dirs[:file_dirs.index('broken_data')])\n",
    "        remaining_path = os.path.sep.join(file_dirs[file_dirs.index('broken_data'):])\n",
    "        old_path = os.path.join(remaining_path, file)\n",
    "        new_path = old_path.replace(os.path.sep, '&')\n",
    "        old_path = os.path.join(actual_file_dirs, old_path)\n",
    "        new_path = os.path.join(actual_file_dirs, new_path)\n",
    "        if os.path.exists(new_path):\n",
    "            os.remove(new_path)\n",
    "        shutil.copy(old_path, new_path)\n",
    "        f = open(old_path, 'w', encoding='utf-8')\n",
    "        f.write('{}')\n",
    "        f.close()\n",
    "\n",
    "for file in os.listdir(os.path.join(directories[rubric_item], 'data')):\n",
    "    if os.path.isfile(os.path.join(directories[rubric_item], 'data', file)):\n",
    "        shutil.copy(os.path.join(directories[rubric_item], 'data', file), os.path.join(directories[rubric_item], 'data&%s' % (file)))"
   ]
  },
  {
   "cell_type": "raw",
   "id": "9d6f9c6a",
   "metadata": {},
   "source": [
    "# BEGIN get_all_paths_in: paths are hardcoded using slashes"
   ]
  },
  {
   "cell_type": "code",
   "execution_count": 168,
   "id": "a539b22f",
   "metadata": {},
   "outputs": [
    {
     "name": "stderr",
     "output_type": "stream",
     "text": [
      "0.00s - Debugger warning: It seems that frozen modules are being used, which may\n",
      "0.00s - make the debugger miss breakpoints. Please pass -Xfrozen_modules=off\n",
      "0.00s - to python to disable frozen modules.\n",
      "0.00s - Note: Debugging will proceed. Set PYDEVD_DISABLE_FILE_VALIDATION=1 to disable this validation.\n"
     ]
    }
   ],
   "source": [
    "rubric_item = 'get_all_paths_in: paths are hardcoded using slashes'\n",
    "nb = read_nb(os.path.join(DIRECTORY, FILE))\n",
    "nb = new_clean_nb(nb)\n",
    "nb = truncate_nb(nb, end=find_all_cell_indices(nb, \"code\", \"grader.check('get_all_paths_in')\")[-1])\n",
    "\n",
    "var_inputs_code = '''\n",
    "var_inputs = [(\"broken_data\",)]\n",
    "'''\n",
    "nb = inject_function_logic_check(nb, 'get_all_paths_in', var_inputs_code, 'TEXT_FORMAT_UNORDERED_LIST_SLASHES')\n",
    "\n",
    "new_join = '''\n",
    "def new_join(*paths):\n",
    "    return '&'.join(paths)\n",
    "    \n",
    "def new_basename(path):\n",
    "    return path.split('&')[-1]\n",
    "    \n",
    "def new_dirname(path):\n",
    "    return '&'.join(path.split('&')[:-1])\n",
    "    \n",
    "def new_split(path):\n",
    "    return tuple(['&'.join(path.split('&')[:-1]), path.split('&')[-1]])'''\n",
    "\n",
    "nb = replace_code(nb, \"os.path.join\", \"new_join\")\n",
    "nb = replace_code(nb, \"os.path.basename\", \"new_basename\")\n",
    "nb = replace_code(nb, \"os.path.dirname\", \"new_dirname\")\n",
    "nb = replace_code(nb, 'os.path.split', 'new_split')\n",
    "nb = replace_code(nb, 'os.path.sep', \"'&'\")\n",
    "nb = inject_code(nb, 0, new_join)\n",
    "\n",
    "results[rubric_item] = parse_nb(run_nb(nb, os.path.join(directories[rubric_item], FILE)))"
   ]
  },
  {
   "cell_type": "raw",
   "id": "61199ee2",
   "metadata": {},
   "source": [
    "# END get_all_paths_in: paths are hardcoded using slashes"
   ]
  },
  {
   "cell_type": "code",
   "execution_count": 169,
   "id": "1f567b39",
   "metadata": {},
   "outputs": [
    {
     "name": "stderr",
     "output_type": "stream",
     "text": [
      "0.00s - Debugger warning: It seems that frozen modules are being used, which may\n",
      "0.00s - make the debugger miss breakpoints. Please pass -Xfrozen_modules=off\n",
      "0.00s - to python to disable frozen modules.\n",
      "0.00s - Note: Debugging will proceed. Set PYDEVD_DISABLE_FILE_VALIDATION=1 to disable this validation.\n"
     ]
    }
   ],
   "source": [
    "gen_public_tests.gen_public_tests(os.path.join(directories[rubric_item], FILE))"
   ]
  },
  {
   "cell_type": "markdown",
   "id": "894f4130",
   "metadata": {},
   "source": [
    "### q10: `get_all_paths_in` function is not used to answer"
   ]
  },
  {
   "cell_type": "code",
   "execution_count": 170,
   "id": "48698172",
   "metadata": {},
   "outputs": [],
   "source": [
    "rubric_item = 'q10: `get_all_paths_in` function is not used to answer'\n",
    "readme_text = \"\"\"The test checks if `get_all_paths_in` function is\n",
    "used properly. Ensure you call this function to\n",
    "retrieve paths and build them using\n",
    "`os.path.join`. Review your usage of\n",
    "`get_all_paths_in` and path construction within\n",
    "your code.\"\"\"\n",
    "\n",
    "write_readme(readme_text, os.path.join(directories[rubric_item], \"README.txt\"))"
   ]
  },
  {
   "cell_type": "code",
   "execution_count": 171,
   "id": "d9b1e885",
   "metadata": {},
   "outputs": [],
   "source": [
    "random_data(directories[rubric_item], 10)"
   ]
  },
  {
   "cell_type": "raw",
   "id": "347ef691",
   "metadata": {},
   "source": [
    "# BEGIN q10: `get_all_paths_in` function is not used to answer"
   ]
  },
  {
   "cell_type": "code",
   "execution_count": 172,
   "id": "6c43af47",
   "metadata": {},
   "outputs": [
    {
     "name": "stderr",
     "output_type": "stream",
     "text": [
      "0.00s - Debugger warning: It seems that frozen modules are being used, which may\n",
      "0.00s - make the debugger miss breakpoints. Please pass -Xfrozen_modules=off\n",
      "0.00s - to python to disable frozen modules.\n",
      "0.00s - Note: Debugging will proceed. Set PYDEVD_DISABLE_FILE_VALIDATION=1 to disable this validation.\n"
     ]
    }
   ],
   "source": [
    "rubric_item = 'q10: `get_all_paths_in` function is not used to answer'\n",
    "nb = read_nb(os.path.join(DIRECTORY, FILE))\n",
    "nb = new_clean_nb(nb)\n",
    "nb = truncate_nb(nb, end=find_all_cell_indices(nb, \"code\", \"grader.check('q10')\")[-1])\n",
    "\n",
    "false_get_all_paths_in = '''\n",
    "def get_all_paths_in(directory):\n",
    "    return [directory]\n",
    "'''\n",
    "nb = replace_with_false_function(nb, 'get_all_paths_in', false_get_all_paths_in)\n",
    "\n",
    "results[rubric_item] = parse_nb(run_nb(nb, os.path.join(directories[rubric_item], FILE)))"
   ]
  },
  {
   "cell_type": "raw",
   "id": "51998df6",
   "metadata": {},
   "source": [
    "# END q10: `get_all_paths_in` function is not used to answer"
   ]
  },
  {
   "cell_type": "code",
   "execution_count": 173,
   "id": "7000c4ac",
   "metadata": {},
   "outputs": [
    {
     "name": "stderr",
     "output_type": "stream",
     "text": [
      "0.00s - Debugger warning: It seems that frozen modules are being used, which may\n",
      "0.00s - make the debugger miss breakpoints. Please pass -Xfrozen_modules=off\n",
      "0.00s - to python to disable frozen modules.\n",
      "0.00s - Note: Debugging will proceed. Set PYDEVD_DISABLE_FILE_VALIDATION=1 to disable this validation.\n"
     ]
    }
   ],
   "source": [
    "gen_public_tests.gen_public_tests(os.path.join(directories[rubric_item], FILE))"
   ]
  },
  {
   "cell_type": "markdown",
   "id": "d248ff33",
   "metadata": {},
   "source": [
    "### q10: paths are hardcoded using slashes"
   ]
  },
  {
   "cell_type": "code",
   "execution_count": 174,
   "id": "1ce8f4b2",
   "metadata": {},
   "outputs": [],
   "source": [
    "rubric_item = 'q10: paths are hardcoded using slashes'\n",
    "readme_text = \"\"\"Ensure you are using `os.path.join` when\n",
    "constructing file paths to maintain cross-platform\n",
    "compatibility. Avoid hardcoding path separators.\n",
    "Use the provided `get_paths_in` function to list\n",
    "directory contents. Check the use of\n",
    "`os.path.join` in your code.\"\"\"\n",
    "\n",
    "write_readme(readme_text, os.path.join(directories[rubric_item], \"README.txt\"))"
   ]
  },
  {
   "cell_type": "code",
   "execution_count": 175,
   "id": "c6b7b06d",
   "metadata": {},
   "outputs": [],
   "source": [
    "random_data(directories[rubric_item], 100)\n",
    "\n",
    "for item in list(os.walk(os.path.join(directories[rubric_item], 'broken_data'))):\n",
    "    file_dirs = item[0].split(os.path.sep)\n",
    "    actual_file_dirs = os.path.sep.join(file_dirs[:file_dirs.index('broken_data')])\n",
    "    remaining_path = os.path.sep.join(file_dirs[file_dirs.index('broken_data'):])\n",
    "    old_path = os.path.join(actual_file_dirs, remaining_path)\n",
    "    new_path = os.path.join(actual_file_dirs, remaining_path.replace(os.path.sep, '&'))\n",
    "    if remaining_path == 'broken_data':\n",
    "        continue\n",
    "    if os.path.exists(new_path):\n",
    "        shutil.rmtree(new_path)\n",
    "    shutil.copytree(old_path, new_path)\n",
    "    f = open(os.path.join(new_path, 'extra_file.json'), 'w')\n",
    "    f.close()"
   ]
  },
  {
   "cell_type": "raw",
   "id": "d6bd4e83",
   "metadata": {},
   "source": [
    "# BEGIN q10: paths are hardcoded using slashes"
   ]
  },
  {
   "cell_type": "code",
   "execution_count": 176,
   "id": "67aa5ae1",
   "metadata": {},
   "outputs": [
    {
     "name": "stderr",
     "output_type": "stream",
     "text": [
      "0.00s - Debugger warning: It seems that frozen modules are being used, which may\n",
      "0.00s - make the debugger miss breakpoints. Please pass -Xfrozen_modules=off\n",
      "0.00s - to python to disable frozen modules.\n",
      "0.00s - Note: Debugging will proceed. Set PYDEVD_DISABLE_FILE_VALIDATION=1 to disable this validation.\n"
     ]
    }
   ],
   "source": [
    "rubric_item = 'q10: paths are hardcoded using slashes'\n",
    "nb = read_nb(os.path.join(DIRECTORY, FILE))\n",
    "nb = new_clean_nb(nb)\n",
    "nb = truncate_nb(nb, end=find_all_cell_indices(nb, \"code\", \"grader.check('q10')\")[-1])\n",
    "\n",
    "code_injection = '''\n",
    "def new_join(*paths):\n",
    "    return '&'.join(paths)\n",
    "    \n",
    "def new_basename(path):\n",
    "    return path.split('&')[-1]\n",
    "    \n",
    "def new_dirname(path):\n",
    "    return '&'.join(path.split('&')[:-1])\n",
    "    \n",
    "def new_split(path):\n",
    "    return tuple(['&'.join(path.split('&')[:-1]), path.split('&')[-1]])'''\n",
    "\n",
    "nb = inject_code(nb, 0, code_injection)\n",
    "nb = replace_code(nb, \"os.path.join\", \"new_join\", start=find_all_cell_indices(nb, \"code\", \"grader.check('get_all_paths_in')\")[-1])\n",
    "nb = replace_code(nb, \"os.path.basename\", \"new_basename\", start=find_all_cell_indices(nb, \"code\", \"grader.check('get_all_paths_in')\")[-1])\n",
    "nb = replace_code(nb, \"os.path.dirname\", \"new_dirname\", start=find_all_cell_indices(nb, \"code\", \"grader.check('get_all_paths_in')\")[-1])\n",
    "nb = replace_code(nb, 'os.path.split', 'new_split', start=find_all_cell_indices(nb, \"code\", \"grader.check('get_all_paths_in')\")[-1])\n",
    "nb = replace_code(nb, 'os.path.sep', \"'&'\", start=find_all_cell_indices(nb, \"code\", \"grader.check('get_all_paths_in')\")[-1])\n",
    "\n",
    "results[rubric_item] = parse_nb(run_nb(nb, os.path.join(directories[rubric_item], FILE)))"
   ]
  },
  {
   "cell_type": "raw",
   "id": "67e20c54",
   "metadata": {},
   "source": [
    "# END q10: paths are hardcoded using slashes"
   ]
  },
  {
   "cell_type": "code",
   "execution_count": 177,
   "id": "e087c9d7",
   "metadata": {},
   "outputs": [
    {
     "name": "stderr",
     "output_type": "stream",
     "text": [
      "0.00s - Debugger warning: It seems that frozen modules are being used, which may\n",
      "0.00s - make the debugger miss breakpoints. Please pass -Xfrozen_modules=off\n",
      "0.00s - to python to disable frozen modules.\n",
      "0.00s - Note: Debugging will proceed. Set PYDEVD_DISABLE_FILE_VALIDATION=1 to disable this validation.\n"
     ]
    }
   ],
   "source": [
    "gen_public_tests.gen_public_tests(os.path.join(directories[rubric_item], FILE))"
   ]
  },
  {
   "cell_type": "markdown",
   "id": "ec7e3214",
   "metadata": {},
   "source": [
    "### q11: `get_all_paths_in` function is not used to answer"
   ]
  },
  {
   "cell_type": "code",
   "execution_count": 178,
   "id": "0191468a",
   "metadata": {},
   "outputs": [],
   "source": [
    "rubric_item = 'q11: `get_all_paths_in` function is not used to answer'\n",
    "readme_text = \"\"\"The test checks if the `get_all_paths_in` function\n",
    "is used to get paths. Ensure you call this\n",
    "function with the correct directory path as\n",
    "argument. Review the use of `os.path.join` and the\n",
    "function call.\"\"\"\n",
    "\n",
    "write_readme(readme_text, os.path.join(directories[rubric_item], \"README.txt\"))"
   ]
  },
  {
   "cell_type": "code",
   "execution_count": 179,
   "id": "a4bb950d",
   "metadata": {},
   "outputs": [],
   "source": [
    "random_data(directories[rubric_item], 10)"
   ]
  },
  {
   "cell_type": "raw",
   "id": "ee780715",
   "metadata": {},
   "source": [
    "# BEGIN q11: `get_all_paths_in` function is not used to answer"
   ]
  },
  {
   "cell_type": "code",
   "execution_count": 180,
   "id": "175479ce",
   "metadata": {},
   "outputs": [
    {
     "name": "stderr",
     "output_type": "stream",
     "text": [
      "0.00s - Debugger warning: It seems that frozen modules are being used, which may\n",
      "0.00s - make the debugger miss breakpoints. Please pass -Xfrozen_modules=off\n",
      "0.00s - to python to disable frozen modules.\n",
      "0.00s - Note: Debugging will proceed. Set PYDEVD_DISABLE_FILE_VALIDATION=1 to disable this validation.\n"
     ]
    }
   ],
   "source": [
    "rubric_item = 'q11: `get_all_paths_in` function is not used to answer'\n",
    "nb = read_nb(os.path.join(DIRECTORY, FILE))\n",
    "nb = new_clean_nb(nb)\n",
    "nb = truncate_nb(nb, end=find_all_cell_indices(nb, \"code\", \"grader.check('q11')\")[-1])\n",
    "\n",
    "new_get_all_paths_in = '''\n",
    "def get_all_paths_in(directory):\n",
    "    return [directory]\n",
    "'''\n",
    "\n",
    "nb = replace_with_false_function(nb, 'get_all_paths_in', new_get_all_paths_in)\n",
    "\n",
    "results[rubric_item] = parse_nb(run_nb(nb, os.path.join(directories[rubric_item], FILE)))"
   ]
  },
  {
   "cell_type": "raw",
   "id": "0c6268ee",
   "metadata": {},
   "source": [
    "# END q11: `get_all_paths_in` function is not used to answer"
   ]
  },
  {
   "cell_type": "code",
   "execution_count": 181,
   "id": "97bb0f0e",
   "metadata": {},
   "outputs": [
    {
     "name": "stderr",
     "output_type": "stream",
     "text": [
      "0.00s - Debugger warning: It seems that frozen modules are being used, which may\n",
      "0.00s - make the debugger miss breakpoints. Please pass -Xfrozen_modules=off\n",
      "0.00s - to python to disable frozen modules.\n",
      "0.00s - Note: Debugging will proceed. Set PYDEVD_DISABLE_FILE_VALIDATION=1 to disable this validation.\n"
     ]
    }
   ],
   "source": [
    "gen_public_tests.gen_public_tests(os.path.join(directories[rubric_item], FILE))"
   ]
  },
  {
   "cell_type": "markdown",
   "id": "5478b1d0",
   "metadata": {},
   "source": [
    "### q11: paths are hardcoded using slashes"
   ]
  },
  {
   "cell_type": "code",
   "execution_count": 182,
   "id": "10779810",
   "metadata": {},
   "outputs": [],
   "source": [
    "rubric_item = 'q11: paths are hardcoded using slashes'\n",
    "readme_text = \"\"\"Check that you're using `os.path.join` for\n",
    "platform-independent path construction. Avoid\n",
    "hardcoding slashes, and ensure the\n",
    "`get_all_paths_in` function is called correctly.\n",
    "Consider different operating systems when\n",
    "constructing file paths.\"\"\"\n",
    "\n",
    "write_readme(readme_text, os.path.join(directories[rubric_item], \"README.txt\"))"
   ]
  },
  {
   "cell_type": "code",
   "execution_count": 183,
   "id": "fa1d7a6c",
   "metadata": {},
   "outputs": [],
   "source": [
    "random_data(directories[rubric_item], 100)\n",
    "\n",
    "for item in list(os.walk(os.path.join(directories[rubric_item], 'broken_data'))):\n",
    "    file_dirs = item[0].split(os.path.sep)\n",
    "    actual_file_dirs = os.path.sep.join(file_dirs[:file_dirs.index('broken_data')])\n",
    "    remaining_path = os.path.sep.join(file_dirs[file_dirs.index('broken_data'):])\n",
    "    old_path = os.path.join(actual_file_dirs, remaining_path)\n",
    "    new_path = os.path.join(actual_file_dirs, remaining_path.replace(os.path.sep, '&'))\n",
    "    if remaining_path == 'broken_data':\n",
    "        continue\n",
    "    if os.path.exists(new_path):\n",
    "        shutil.rmtree(new_path)\n",
    "    shutil.copytree(old_path, new_path)\n",
    "    f = open(os.path.join(new_path, 'extra_file.json'), 'w')\n",
    "    f.close()"
   ]
  },
  {
   "cell_type": "raw",
   "id": "c7eedaa1",
   "metadata": {},
   "source": [
    "# BEGIN q11: paths are hardcoded using slashes"
   ]
  },
  {
   "cell_type": "code",
   "execution_count": 184,
   "id": "82013a06",
   "metadata": {},
   "outputs": [
    {
     "name": "stderr",
     "output_type": "stream",
     "text": [
      "0.00s - Debugger warning: It seems that frozen modules are being used, which may\n",
      "0.00s - make the debugger miss breakpoints. Please pass -Xfrozen_modules=off\n",
      "0.00s - to python to disable frozen modules.\n",
      "0.00s - Note: Debugging will proceed. Set PYDEVD_DISABLE_FILE_VALIDATION=1 to disable this validation.\n"
     ]
    }
   ],
   "source": [
    "rubric_item = 'q11: paths are hardcoded using slashes'\n",
    "nb = read_nb(os.path.join(DIRECTORY, FILE))\n",
    "nb = new_clean_nb(nb)\n",
    "nb = truncate_nb(nb, end=find_all_cell_indices(nb, \"code\", \"grader.check('q11')\")[-1])\n",
    "\n",
    "new_function = '''\n",
    "def new_join(*paths):\n",
    "    return '&'.join(paths)\n",
    "    \n",
    "def new_basename(path):\n",
    "    return path.split('&')[-1]\n",
    "    \n",
    "def new_dirname(path):\n",
    "    return '&'.join(path.split('&')[:-1])\n",
    "    \n",
    "def new_split(path):\n",
    "    return tuple(['&'.join(path.split('&')[:-1]), path.split('&')[-1]])'''\n",
    "\n",
    "nb = inject_code(nb, 0, new_function)\n",
    "nb = replace_code(nb, \"os.path.join\", \"new_join\", start=find_all_cell_indices(nb, \"code\", \"grader.check('get_all_paths_in')\")[-1])\n",
    "nb = replace_code(nb, \"os.path.basename\", \"new_basename\", start=find_all_cell_indices(nb, \"code\", \"grader.check('get_all_paths_in')\")[-1])\n",
    "nb = replace_code(nb, \"os.path.dirname\", \"new_dirname\", start=find_all_cell_indices(nb, \"code\", \"grader.check('get_all_paths_in')\")[-1])\n",
    "nb = replace_code(nb, 'os.path.split', 'new_split', start=find_all_cell_indices(nb, \"code\", \"grader.check('get_all_paths_in')\")[-1])\n",
    "nb = replace_code(nb, 'os.path.sep', \"'&'\", start=find_all_cell_indices(nb, \"code\", \"grader.check('get_all_paths_in')\")[-1])\n",
    "\n",
    "\n",
    "results[rubric_item] = parse_nb(run_nb(nb, os.path.join(directories[rubric_item], FILE)))"
   ]
  },
  {
   "cell_type": "raw",
   "id": "85b497ac",
   "metadata": {},
   "source": [
    "# END q11: paths are hardcoded using slashes"
   ]
  },
  {
   "cell_type": "code",
   "execution_count": 185,
   "id": "b85a428d",
   "metadata": {},
   "outputs": [
    {
     "name": "stderr",
     "output_type": "stream",
     "text": [
      "0.00s - Debugger warning: It seems that frozen modules are being used, which may\n",
      "0.00s - make the debugger miss breakpoints. Please pass -Xfrozen_modules=off\n",
      "0.00s - to python to disable frozen modules.\n",
      "0.00s - Note: Debugging will proceed. Set PYDEVD_DISABLE_FILE_VALIDATION=1 to disable this validation.\n"
     ]
    }
   ],
   "source": [
    "gen_public_tests.gen_public_tests(os.path.join(directories[rubric_item], FILE))"
   ]
  },
  {
   "cell_type": "markdown",
   "id": "a147ee1b",
   "metadata": {},
   "source": [
    "### q12: `get_all_paths_in` function is not used to answer"
   ]
  },
  {
   "cell_type": "code",
   "execution_count": 186,
   "id": "7081bf8c",
   "metadata": {},
   "outputs": [],
   "source": [
    "rubric_item = 'q12: `get_all_paths_in` function is not used to answer'\n",
    "readme_text = \"\"\"The test checks if the `get_all_paths_in` function\n",
    "is used to obtain file paths. Ensure your solution\n",
    "calls this function correctly, and that it is not\n",
    "overridden or modified elsewhere in your code.\n",
    "Revisit the function's usage and correct your\n",
    "implementation accordingly.\"\"\"\n",
    "\n",
    "write_readme(readme_text, os.path.join(directories[rubric_item], \"README.txt\"))"
   ]
  },
  {
   "cell_type": "code",
   "execution_count": 187,
   "id": "4e37c824",
   "metadata": {},
   "outputs": [],
   "source": [
    "random_data(directories[rubric_item], 10)"
   ]
  },
  {
   "cell_type": "raw",
   "id": "399fcb42",
   "metadata": {},
   "source": [
    "# BEGIN q12: `get_all_paths_in` function is not used to answer"
   ]
  },
  {
   "cell_type": "code",
   "execution_count": 188,
   "id": "7c47818b",
   "metadata": {},
   "outputs": [
    {
     "name": "stderr",
     "output_type": "stream",
     "text": [
      "0.00s - Debugger warning: It seems that frozen modules are being used, which may\n",
      "0.00s - make the debugger miss breakpoints. Please pass -Xfrozen_modules=off\n",
      "0.00s - to python to disable frozen modules.\n",
      "0.00s - Note: Debugging will proceed. Set PYDEVD_DISABLE_FILE_VALIDATION=1 to disable this validation.\n"
     ]
    }
   ],
   "source": [
    "rubric_item = 'q12: `get_all_paths_in` function is not used to answer'\n",
    "nb = read_nb(os.path.join(DIRECTORY, FILE))\n",
    "nb = new_clean_nb(nb)\n",
    "nb = truncate_nb(nb, end=find_all_cell_indices(nb, \"code\", \"grader.check('q12')\")[-1])\n",
    "\n",
    "false_get_all_paths_in = '''\n",
    "def get_all_paths_in(directory):\n",
    "    return [directory]\n",
    "'''\n",
    "nb = replace_with_false_function(nb, 'get_all_paths_in', false_get_all_paths_in)\n",
    "\n",
    "results[rubric_item] = parse_nb(run_nb(nb, os.path.join(directories[rubric_item], FILE)))"
   ]
  },
  {
   "cell_type": "raw",
   "id": "7e8b87b1",
   "metadata": {},
   "source": [
    "# END q12: `get_all_paths_in` function is not used to answer"
   ]
  },
  {
   "cell_type": "code",
   "execution_count": 189,
   "id": "aacda296",
   "metadata": {},
   "outputs": [
    {
     "name": "stderr",
     "output_type": "stream",
     "text": [
      "0.00s - Debugger warning: It seems that frozen modules are being used, which may\n",
      "0.00s - make the debugger miss breakpoints. Please pass -Xfrozen_modules=off\n",
      "0.00s - to python to disable frozen modules.\n",
      "0.00s - Note: Debugging will proceed. Set PYDEVD_DISABLE_FILE_VALIDATION=1 to disable this validation.\n"
     ]
    }
   ],
   "source": [
    "gen_public_tests.gen_public_tests(os.path.join(directories[rubric_item], FILE))"
   ]
  },
  {
   "cell_type": "markdown",
   "id": "6acb19f7",
   "metadata": {},
   "source": [
    "### q12: paths are hardcoded using slashes"
   ]
  },
  {
   "cell_type": "code",
   "execution_count": 190,
   "id": "a4f55ad7",
   "metadata": {},
   "outputs": [],
   "source": [
    "rubric_item = 'q12: paths are hardcoded using slashes'\n",
    "readme_text = \"\"\"Feedback: To construct file paths in a\n",
    "cross-platform manner, utilize `os.path.join()`\n",
    "instead of hardcoding slashes. This approach\n",
    "ensures compatibility across different operating\n",
    "systems. Modify your code to employ\n",
    "`os.path.join()` for assembling directory paths.\"\"\"\n",
    "\n",
    "write_readme(readme_text, os.path.join(directories[rubric_item], \"README.txt\"))"
   ]
  },
  {
   "cell_type": "code",
   "execution_count": 191,
   "id": "d4ebac20",
   "metadata": {},
   "outputs": [],
   "source": [
    "random_data(directories[rubric_item], 100)\n",
    "\n",
    "for item in list(os.walk(os.path.join(directories[rubric_item], 'broken_data'))):\n",
    "    file_dirs = item[0].split(os.path.sep)\n",
    "    actual_file_dirs = os.path.sep.join(file_dirs[:file_dirs.index('broken_data')])\n",
    "    remaining_path = os.path.sep.join(file_dirs[file_dirs.index('broken_data'):])\n",
    "    old_path = os.path.join(actual_file_dirs, remaining_path)\n",
    "    new_path = os.path.join(actual_file_dirs, remaining_path.replace(os.path.sep, '&'))\n",
    "    if remaining_path == 'broken_data':\n",
    "        continue\n",
    "    if os.path.exists(new_path):\n",
    "        shutil.rmtree(new_path)\n",
    "    shutil.copytree(old_path, new_path)\n",
    "    f = open(os.path.join(new_path, 'extra_file.json'), 'w')\n",
    "    f.close()"
   ]
  },
  {
   "cell_type": "raw",
   "id": "395c7856",
   "metadata": {},
   "source": [
    "# BEGIN q12: paths are hardcoded using slashes"
   ]
  },
  {
   "cell_type": "code",
   "execution_count": 192,
   "id": "3f90bf94",
   "metadata": {},
   "outputs": [
    {
     "name": "stderr",
     "output_type": "stream",
     "text": [
      "0.00s - Debugger warning: It seems that frozen modules are being used, which may\n",
      "0.00s - make the debugger miss breakpoints. Please pass -Xfrozen_modules=off\n",
      "0.00s - to python to disable frozen modules.\n",
      "0.00s - Note: Debugging will proceed. Set PYDEVD_DISABLE_FILE_VALIDATION=1 to disable this validation.\n"
     ]
    }
   ],
   "source": [
    "rubric_item = 'q12: paths are hardcoded using slashes'\n",
    "nb = read_nb(os.path.join(DIRECTORY, FILE))\n",
    "nb = new_clean_nb(nb)\n",
    "nb = truncate_nb(nb, end=find_all_cell_indices(nb, \"code\", \"grader.check('q12')\")[-1])\n",
    "\n",
    "inject_at_start_code = '''\n",
    "def new_join(*paths):\n",
    "    return '&'.join(paths)\n",
    "    \n",
    "def new_basename(path):\n",
    "    return path.split('&')[-1]\n",
    "    \n",
    "def new_dirname(path):\n",
    "    return '&'.join(path.split('&')[:-1])\n",
    "    \n",
    "def new_split(path):\n",
    "    return tuple(['&'.join(path.split('&')[:-1]), path.split('&')[-1]])'''\n",
    "nb = inject_code(nb, 0, inject_at_start_code)\n",
    "\n",
    "nb = replace_code(nb, \"os.path.join\", \"new_join\", start=find_all_cell_indices(nb, \"code\", \"grader.check('get_all_paths_in')\")[-1])\n",
    "nb = replace_code(nb, \"os.path.basename\", \"new_basename\", start=find_all_cell_indices(nb, \"code\", \"grader.check('get_all_paths_in')\")[-1])\n",
    "nb = replace_code(nb, \"os.path.dirname\", \"new_dirname\", start=find_all_cell_indices(nb, \"code\", \"grader.check('get_all_paths_in')\")[-1])\n",
    "nb = replace_code(nb, 'os.path.split', 'new_split', start=find_all_cell_indices(nb, \"code\", \"grader.check('get_all_paths_in')\")[-1])\n",
    "nb = replace_code(nb, 'os.path.sep', \"'&'\", start=find_all_cell_indices(nb, \"code\", \"grader.check('get_all_paths_in')\")[-1])\n",
    "\n",
    "results[rubric_item] = parse_nb(run_nb(nb, os.path.join(directories[rubric_item], FILE)))"
   ]
  },
  {
   "cell_type": "raw",
   "id": "654901b2",
   "metadata": {},
   "source": [
    "# END q12: paths are hardcoded using slashes"
   ]
  },
  {
   "cell_type": "code",
   "execution_count": 193,
   "id": "341b40a5",
   "metadata": {},
   "outputs": [
    {
     "name": "stderr",
     "output_type": "stream",
     "text": [
      "0.00s - Debugger warning: It seems that frozen modules are being used, which may\n",
      "0.00s - make the debugger miss breakpoints. Please pass -Xfrozen_modules=off\n",
      "0.00s - to python to disable frozen modules.\n",
      "0.00s - Note: Debugging will proceed. Set PYDEVD_DISABLE_FILE_VALIDATION=1 to disable this validation.\n"
     ]
    }
   ],
   "source": [
    "gen_public_tests.gen_public_tests(os.path.join(directories[rubric_item], FILE))"
   ]
  },
  {
   "cell_type": "markdown",
   "id": "0861453b",
   "metadata": {},
   "source": [
    "### q13: `get_all_paths_in` function is not used to answer"
   ]
  },
  {
   "cell_type": "code",
   "execution_count": 194,
   "id": "6ecc562e",
   "metadata": {},
   "outputs": [],
   "source": [
    "rubric_item = 'q13: `get_all_paths_in` function is not used to answer'\n",
    "readme_text = \"\"\"Ensure you are using the `get_all_paths_in`\n",
    "function to obtain the list of file paths in the\n",
    "`broken_data` directory. Review your code to\n",
    "confirm the function's proper usage and that it\n",
    "returns a list of relative paths as required.\"\"\"\n",
    "\n",
    "write_readme(readme_text, os.path.join(directories[rubric_item], \"README.txt\"))"
   ]
  },
  {
   "cell_type": "code",
   "execution_count": 195,
   "id": "a47cf5af",
   "metadata": {},
   "outputs": [],
   "source": [
    "random_data(directories[rubric_item], 10)"
   ]
  },
  {
   "cell_type": "raw",
   "id": "29a7e20b",
   "metadata": {},
   "source": [
    "# BEGIN q13: `get_all_paths_in` function is not used to answer"
   ]
  },
  {
   "cell_type": "code",
   "execution_count": 196,
   "id": "42170025",
   "metadata": {},
   "outputs": [
    {
     "name": "stderr",
     "output_type": "stream",
     "text": [
      "0.00s - Debugger warning: It seems that frozen modules are being used, which may\n",
      "0.00s - make the debugger miss breakpoints. Please pass -Xfrozen_modules=off\n",
      "0.00s - to python to disable frozen modules.\n",
      "0.00s - Note: Debugging will proceed. Set PYDEVD_DISABLE_FILE_VALIDATION=1 to disable this validation.\n"
     ]
    }
   ],
   "source": [
    "rubric_item = 'q13: `get_all_paths_in` function is not used to answer'\n",
    "nb = read_nb(os.path.join(DIRECTORY, FILE))\n",
    "nb = new_clean_nb(nb)\n",
    "nb = truncate_nb(nb, end=find_all_cell_indices(nb, \"code\", \"grader.check('q13')\")[-1])\n",
    "\n",
    "false_get_all_paths_in = '''\n",
    "def get_all_paths_in(directory):\n",
    "    return [directory]\n",
    "'''\n",
    "nb = replace_with_false_function(nb, 'get_all_paths_in', false_get_all_paths_in)\n",
    "\n",
    "results[rubric_item] = parse_nb(run_nb(nb, os.path.join(directories[rubric_item], FILE)))"
   ]
  },
  {
   "cell_type": "raw",
   "id": "bd0ea9c4",
   "metadata": {},
   "source": [
    "# END q13: `get_all_paths_in` function is not used to answer"
   ]
  },
  {
   "cell_type": "code",
   "execution_count": 197,
   "id": "e55bb30e",
   "metadata": {},
   "outputs": [
    {
     "name": "stderr",
     "output_type": "stream",
     "text": [
      "0.00s - Debugger warning: It seems that frozen modules are being used, which may\n",
      "0.00s - make the debugger miss breakpoints. Please pass -Xfrozen_modules=off\n",
      "0.00s - to python to disable frozen modules.\n",
      "0.00s - Note: Debugging will proceed. Set PYDEVD_DISABLE_FILE_VALIDATION=1 to disable this validation.\n"
     ]
    }
   ],
   "source": [
    "gen_public_tests.gen_public_tests(os.path.join(directories[rubric_item], FILE))"
   ]
  },
  {
   "cell_type": "markdown",
   "id": "ac4fe0bc",
   "metadata": {},
   "source": [
    "### all_planets_list: data structure is defined incorrectly"
   ]
  },
  {
   "cell_type": "code",
   "execution_count": 198,
   "id": "4b170759",
   "metadata": {},
   "outputs": [],
   "source": [
    "rubric_item = 'all_planets_list: data structure is defined incorrectly'\n",
    "readme_text = \"\"\"Please ensure that `all_planets_list` is\n",
    "initialized as an empty list and that you are\n",
    "correctly extending it with `planets_list` and the\n",
    "objects returned by `get_planets`, without\n",
    "altering `planets_list`. Check your loop and the\n",
    "use of the `extend` method.\"\"\"\n",
    "\n",
    "write_readme(readme_text, os.path.join(directories[rubric_item], \"README.txt\"))"
   ]
  },
  {
   "cell_type": "raw",
   "id": "6afe16e3",
   "metadata": {},
   "source": [
    "# BEGIN all_planets_list: data structure is defined incorrectly"
   ]
  },
  {
   "cell_type": "code",
   "execution_count": 199,
   "id": "3120607d",
   "metadata": {},
   "outputs": [
    {
     "name": "stderr",
     "output_type": "stream",
     "text": [
      "0.00s - Debugger warning: It seems that frozen modules are being used, which may\n",
      "0.00s - make the debugger miss breakpoints. Please pass -Xfrozen_modules=off\n",
      "0.00s - to python to disable frozen modules.\n",
      "0.00s - Note: Debugging will proceed. Set PYDEVD_DISABLE_FILE_VALIDATION=1 to disable this validation.\n"
     ]
    }
   ],
   "source": [
    "rubric_item = 'all_planets_list: data structure is defined incorrectly'\n",
    "nb = read_nb(os.path.join(DIRECTORY, FILE))\n",
    "nb = new_clean_nb(nb)\n",
    "\n",
    "# Locate the end of the definition of the data structure\n",
    "end_data_structure = find_all_cell_indices(nb, \"code\", \"grader.check('all_planets_list')\")[-1]\n",
    "\n",
    "# Truncate the notebook to only include cells needed for this test\n",
    "nb = truncate_nb(nb, end=end_data_structure)\n",
    "\n",
    "nb = inject_data_structure_check(nb, 'all_planets_list', 'TEXT_FORMAT_UNORDERED_LIST')\n",
    "\n",
    "# Run the notebook, parse the results, and save the outcome in the variable `results[rubric_item]`\n",
    "results[rubric_item] = parse_nb(run_nb(nb, os.path.join(directories[rubric_item], FILE)))\n",
    "test_output = results[rubric_item][rubric_item.split(\":\")[0]]\n",
    "if test_output != 'All test cases passed!':\n",
    "    comments[rubric_item] += '\\nFAILED TEST CASE: ' + test_output"
   ]
  },
  {
   "cell_type": "raw",
   "id": "33fb3c8b",
   "metadata": {},
   "source": [
    "# END all_planets_list: data structure is defined incorrectly"
   ]
  },
  {
   "cell_type": "code",
   "execution_count": 200,
   "id": "b6998506",
   "metadata": {},
   "outputs": [
    {
     "name": "stderr",
     "output_type": "stream",
     "text": [
      "0.00s - Debugger warning: It seems that frozen modules are being used, which may\n",
      "0.00s - make the debugger miss breakpoints. Please pass -Xfrozen_modules=off\n",
      "0.00s - to python to disable frozen modules.\n",
      "0.00s - Note: Debugging will proceed. Set PYDEVD_DISABLE_FILE_VALIDATION=1 to disable this validation.\n"
     ]
    }
   ],
   "source": [
    "gen_public_tests.gen_public_tests(os.path.join(directories[rubric_item], FILE))"
   ]
  },
  {
   "cell_type": "markdown",
   "id": "91c9bfc3",
   "metadata": {},
   "source": [
    "### all_planets_list: `get_planets` function is not used to answer"
   ]
  },
  {
   "cell_type": "code",
   "execution_count": 201,
   "id": "061f9b0a",
   "metadata": {},
   "outputs": [],
   "source": [
    "rubric_item = 'all_planets_list: `get_planets` function is not used to answer'\n",
    "readme_text = \"\"\"Check if you are calling `get_planets` as\n",
    "specified in the question for each file in\n",
    "`broken_data`, making sure `all_planets_list` is\n",
    "extended with new Planet objects without altering\n",
    "`planets_list`. Confirm proper use of file paths\n",
    "and list methods.\"\"\"\n",
    "\n",
    "write_readme(readme_text, os.path.join(directories[rubric_item], \"README.txt\"))"
   ]
  },
  {
   "cell_type": "code",
   "execution_count": 202,
   "id": "c24125f5",
   "metadata": {},
   "outputs": [],
   "source": [
    "random_data(directories[rubric_item], 10)"
   ]
  },
  {
   "cell_type": "raw",
   "id": "d7acace2",
   "metadata": {},
   "source": [
    "# BEGIN all_planets_list: `get_planets` function is not used to answer"
   ]
  },
  {
   "cell_type": "code",
   "execution_count": 203,
   "id": "aef0e4f3",
   "metadata": {},
   "outputs": [
    {
     "name": "stderr",
     "output_type": "stream",
     "text": [
      "0.00s - Debugger warning: It seems that frozen modules are being used, which may\n",
      "0.00s - make the debugger miss breakpoints. Please pass -Xfrozen_modules=off\n",
      "0.00s - to python to disable frozen modules.\n",
      "0.00s - Note: Debugging will proceed. Set PYDEVD_DISABLE_FILE_VALIDATION=1 to disable this validation.\n"
     ]
    }
   ],
   "source": [
    "rubric_item = 'all_planets_list: `get_planets` function is not used to answer'\n",
    "nb = read_nb(os.path.join(DIRECTORY, FILE))\n",
    "nb = new_clean_nb(nb)\n",
    "nb = truncate_nb(nb, end=find_all_cell_indices(nb, \"code\", \"grader.check('all_planets_list')\")[-1])\n",
    "\n",
    "nb = inject_data_structure_check(nb, 'all_planets_list', \"TEXT_FORMAT_UNORDERED_LIST\")\n",
    "\n",
    "new_get_planets = '''\n",
    "import os\n",
    "import csv\n",
    "import json\n",
    "import random\n",
    "\n",
    "def process_csv(filename):\n",
    "    csv_file = open(filename, encoding='utf-8')\n",
    "    csv_reader = csv.reader(csv_file)\n",
    "    csv_data = list(csv_reader)\n",
    "    csv_file.close()\n",
    "    return csv_data\n",
    "\n",
    "def read_json(path):\n",
    "    with open(path, encoding=\"utf-8\") as f:\n",
    "        return json.load(f)\n",
    "\n",
    "def get_planets(planet_file, mapping_file):\n",
    "    if 'data' not in planet_file:\n",
    "        planet_file = os.path.join('data', planet_file)\n",
    "    planets = []\n",
    "    try:\n",
    "        mapping_dict = read_json(mapping_file)\n",
    "    except json.JSONDecodeError:\n",
    "        return []\n",
    "    planets_csv = process_csv(planet_file)\n",
    "    planets_header = planets_csv[0]\n",
    "    planets_rows = planets_csv[1:]\n",
    "    random.seed(0)\n",
    "    rows_in_cols = {}\n",
    "    for i in range(len(planets_rows[0])):\n",
    "        rows_in_cols[i] = []\n",
    "        for j in range(len(planets_rows)):\n",
    "            rows_in_cols[i].append(planets_rows[j][i])\n",
    "        random.shuffle(rows_in_cols[i])\n",
    "        \n",
    "    for j in range(len(planets_rows)):\n",
    "        for i in range(len(planets_rows[0])):\n",
    "            planets_rows[j][i] = rows_in_cols[i][j]\n",
    "            \n",
    "    mapping_dict_keys = list(mapping_dict.keys())\n",
    "    mapping_dict_values = list(mapping_dict.values())\n",
    "    random.shuffle(mapping_dict_keys)\n",
    "    random.shuffle(mapping_dict_values)\n",
    "    mapping_dict = {}\n",
    "    for i in range(len(mapping_dict_keys)):\n",
    "        mapping_dict[mapping_dict_keys[i]] = mapping_dict_values[i]\n",
    "            \n",
    "    for row_idx in range(len(planets_rows)):\n",
    "        try:\n",
    "            planet_name = planet_cell(row_idx, 'Planet Name', planets_rows)\n",
    "            host_name = mapping_dict[planet_name]\n",
    "            discovery_method = planet_cell(row_idx, 'Discovery Method', planets_rows)\n",
    "            discovery_year = planet_cell(row_idx, 'Discovery Year', planets_rows)\n",
    "            controversial_flag = planet_cell(row_idx, 'Controversial Flag', planets_rows)\n",
    "            orbital_period = planet_cell(row_idx, 'Orbital Period [days]', planets_rows)\n",
    "            planet_radius = planet_cell(row_idx, 'Planet Radius [Earth Radius]', planets_rows)\n",
    "            planet_mass = planet_cell(row_idx, 'Planet Mass [Earth Mass]', planets_rows)\n",
    "            semi_major_radius = planet_cell(row_idx, 'Orbit Semi-Major Axis [au]', planets_rows)\n",
    "            eccentricity = planet_cell(row_idx, 'Eccentricity', planets_rows)\n",
    "            equilibrium_temperature = planet_cell(row_idx, 'Equilibrium Temperature [K]', planets_rows)\n",
    "            insolation_flux = planet_cell(row_idx, 'Insolation Flux [Earth Flux]', planets_rows)\n",
    "            planet = Planet(planet_name, host_name, discovery_method, discovery_year, controversial_flag, orbital_period, planet_radius, planet_mass, semi_major_radius, eccentricity, equilibrium_temperature, insolation_flux)\n",
    "            planets.append(planet)\n",
    "        except IndexError:\n",
    "            continue\n",
    "        except ValueError:\n",
    "            continue\n",
    "        except KeyError:\n",
    "            continue\n",
    "    return planets\n",
    "'''\n",
    "nb = replace_with_false_function(nb, 'get_planets', new_get_planets)\n",
    "\n",
    "results[rubric_item] = parse_nb(run_nb(nb, os.path.join(directories[rubric_item], FILE)))"
   ]
  },
  {
   "cell_type": "raw",
   "id": "3d975e5a",
   "metadata": {},
   "source": [
    "# END all_planets_list: `get_planets` function is not used to answer"
   ]
  },
  {
   "cell_type": "code",
   "execution_count": 204,
   "id": "c612b65d",
   "metadata": {},
   "outputs": [
    {
     "name": "stderr",
     "output_type": "stream",
     "text": [
      "0.00s - Debugger warning: It seems that frozen modules are being used, which may\n",
      "0.00s - make the debugger miss breakpoints. Please pass -Xfrozen_modules=off\n",
      "0.00s - to python to disable frozen modules.\n",
      "0.00s - Note: Debugging will proceed. Set PYDEVD_DISABLE_FILE_VALIDATION=1 to disable this validation.\n"
     ]
    }
   ],
   "source": [
    "gen_public_tests.gen_public_tests(os.path.join(directories[rubric_item], FILE))"
   ]
  },
  {
   "cell_type": "markdown",
   "id": "a986a1e5",
   "metadata": {},
   "source": [
    "### all_planets_list: `broken_data` data structure is not used to answer"
   ]
  },
  {
   "cell_type": "code",
   "execution_count": 205,
   "id": "c9077d58",
   "metadata": {},
   "outputs": [],
   "source": [
    "rubric_item = 'all_planets_list: `broken_data` data structure is not used to answer'\n",
    "readme_text = \"\"\"The test checks whether `all_planets_list`\n",
    "correctly includes `Planet` objects from\n",
    "`planets_list` and the files in `broken_data`.\n",
    "Ensure your loop iterates over the paths in\n",
    "`broken_data` and that `get_planets` is called\n",
    "with the correct arguments. Use `extend` to add to\n",
    "`all_planets_list`. Avoid altering `planets_list`.\"\"\"\n",
    "\n",
    "write_readme(readme_text, os.path.join(directories[rubric_item], \"README.txt\"))"
   ]
  },
  {
   "cell_type": "code",
   "execution_count": 206,
   "id": "dfd43667",
   "metadata": {},
   "outputs": [],
   "source": [
    "import os\n",
    "import shutil\n",
    "\n",
    "def modify_data(directory):\n",
    "    # Define the directories for `broken_data` and its copy `false_broken_data`\n",
    "    broken_data_dir = os.path.join(directory, 'broken_data')\n",
    "    false_broken_data_dir = os.path.join(directory, 'false_broken_data')\n",
    "    if os.path.exists(false_broken_data_dir):\n",
    "        shutil.rmtree(false_broken_data_dir)\n",
    "    \n",
    "    # Copy the `broken_data` directory to `false_broken_data`\n",
    "    shutil.copytree(broken_data_dir, false_broken_data_dir)\n",
    "    \n",
    "    # Delete the original `broken_data` directory\n",
    "    shutil.rmtree(broken_data_dir)\n",
    "    \n",
    "random_data(directories[rubric_item])\n",
    "modify_data(directories[rubric_item])"
   ]
  },
  {
   "cell_type": "raw",
   "id": "b5d2619b",
   "metadata": {},
   "source": [
    "# BEGIN all_planets_list: `broken_data` data structure is not used to answer"
   ]
  },
  {
   "cell_type": "code",
   "execution_count": 207,
   "id": "403dec02",
   "metadata": {},
   "outputs": [
    {
     "name": "stderr",
     "output_type": "stream",
     "text": [
      "0.00s - Debugger warning: It seems that frozen modules are being used, which may\n",
      "0.00s - make the debugger miss breakpoints. Please pass -Xfrozen_modules=off\n",
      "0.00s - to python to disable frozen modules.\n",
      "0.00s - Note: Debugging will proceed. Set PYDEVD_DISABLE_FILE_VALIDATION=1 to disable this validation.\n"
     ]
    }
   ],
   "source": [
    "rubric_item = 'all_planets_list: `broken_data` data structure is not used to answer'\n",
    "nb = read_nb(os.path.join(DIRECTORY, FILE))\n",
    "nb = new_clean_nb(nb)\n",
    "question_start = find_all_cell_indices(nb, \"markdown\", \"### Data Structure 2: `all_planets_list`\")[-1]\n",
    "question_end = find_all_cell_indices(nb, \"code\", \"grader.check('all_planets_list')\")[-1]\n",
    "nb = truncate_nb(nb, end=question_end)\n",
    "\n",
    "test_format = \"TEXT_FORMAT_UNORDERED_LIST\"\n",
    "nb = inject_data_structure_check(nb, 'all_planets_list', test_format)\n",
    "\n",
    "code_to_inject = '''\n",
    "import os\n",
    "\n",
    "false_broken_data = 'false_broken_data'\n",
    "broken_data = []\n",
    "\n",
    "for root, dirs, files in os.walk(false_broken_data):\n",
    "    for file in files:\n",
    "        broken_data.append(os.path.join(root, file))\n",
    "'''\n",
    "nb = inject_code(nb, question_start + 1, code_to_inject)\n",
    "\n",
    "results[rubric_item] = parse_nb(run_nb(nb, os.path.join(directories[rubric_item], FILE)))"
   ]
  },
  {
   "cell_type": "raw",
   "id": "e3659890",
   "metadata": {},
   "source": [
    "# END all_planets_list: `broken_data` data structure is not used to answer"
   ]
  },
  {
   "cell_type": "markdown",
   "id": "ced7fcfa",
   "metadata": {},
   "source": [
    "### all_planets_list: paths are hardcoded using slashes"
   ]
  },
  {
   "cell_type": "code",
   "execution_count": 208,
   "id": "e5431500",
   "metadata": {},
   "outputs": [],
   "source": [
    "rubric_item = 'all_planets_list: paths are hardcoded using slashes'\n",
    "readme_text = \"\"\"Review how paths are combined using `os.path.join`\n",
    "and make sure the paths are not hardcoded. Update\n",
    "your code to join paths dynamically, considering\n",
    "differences in operating systems.\"\"\"\n",
    "\n",
    "write_readme(readme_text, os.path.join(directories[rubric_item], \"README.txt\"))"
   ]
  },
  {
   "cell_type": "code",
   "execution_count": 209,
   "id": "c59a655a",
   "metadata": {},
   "outputs": [],
   "source": [
    "random_data(directories[rubric_item], 100)\n",
    "\n",
    "for item in list(os.walk(os.path.join(directories[rubric_item], 'broken_data'))):\n",
    "    file_dirs = item[0].split(os.path.sep)\n",
    "    actual_file_dirs = os.path.sep.join(file_dirs[:file_dirs.index('broken_data')])\n",
    "    remaining_path = os.path.sep.join(file_dirs[file_dirs.index('broken_data'):])\n",
    "    old_path = os.path.join(actual_file_dirs, remaining_path)\n",
    "    new_path = os.path.join(actual_file_dirs, remaining_path.replace(os.path.sep, '&'))\n",
    "    if remaining_path == 'broken_data':\n",
    "        continue\n",
    "    if os.path.exists(new_path):\n",
    "        shutil.rmtree(new_path)\n",
    "    shutil.copytree(old_path, new_path)\n",
    "    \n",
    "\n",
    "for item in list(os.walk(os.path.join(directories[rubric_item], 'broken_data'))):\n",
    "    for file in item[2]:\n",
    "        file_dirs = item[0].split(os.path.sep)\n",
    "        actual_file_dirs = os.path.sep.join(file_dirs[:file_dirs.index('broken_data')])\n",
    "        remaining_path = os.path.sep.join(file_dirs[file_dirs.index('broken_data'):])\n",
    "        old_path = os.path.join(remaining_path, file)\n",
    "        new_path = old_path.replace(os.path.sep, '&')\n",
    "        old_path = os.path.join(actual_file_dirs, old_path)\n",
    "        new_path = os.path.join(actual_file_dirs, new_path)\n",
    "        if os.path.exists(new_path):\n",
    "            os.remove(new_path)\n",
    "        shutil.copy(old_path, new_path)\n",
    "        f = open(old_path, 'w', encoding='utf-8')\n",
    "        f.write('{}')\n",
    "        f.close()\n",
    "\n",
    "for file in os.listdir(os.path.join(directories[rubric_item], 'data')):\n",
    "    if os.path.isfile(os.path.join(directories[rubric_item], 'data', file)):\n",
    "        shutil.copy(os.path.join(directories[rubric_item], 'data', file), os.path.join(directories[rubric_item], 'data&%s' % (file)))"
   ]
  },
  {
   "cell_type": "raw",
   "id": "c40fa7bb",
   "metadata": {},
   "source": [
    "# BEGIN all_planets_list: paths are hardcoded using slashes"
   ]
  },
  {
   "cell_type": "code",
   "execution_count": 210,
   "id": "21c132cc",
   "metadata": {},
   "outputs": [
    {
     "name": "stderr",
     "output_type": "stream",
     "text": [
      "0.00s - Debugger warning: It seems that frozen modules are being used, which may\n",
      "0.00s - make the debugger miss breakpoints. Please pass -Xfrozen_modules=off\n",
      "0.00s - to python to disable frozen modules.\n",
      "0.00s - Note: Debugging will proceed. Set PYDEVD_DISABLE_FILE_VALIDATION=1 to disable this validation.\n"
     ]
    }
   ],
   "source": [
    "rubric_item = 'all_planets_list: paths are hardcoded using slashes'\n",
    "nb = read_nb(os.path.join(DIRECTORY, FILE))\n",
    "nb = new_clean_nb(nb)\n",
    "question_end = find_all_cell_indices(nb, \"code\", \"grader.check('all_planets_list')\")[-1]\n",
    "nb = truncate_nb(nb, end=question_end)\n",
    "\n",
    "nb = inject_data_structure_check(nb, 'all_planets_list', \"TEXT_FORMAT_UNORDERED_LIST\")\n",
    "\n",
    "new_join = '''\n",
    "def new_join(*paths):\n",
    "    return '&'.join(paths)\n",
    "    \n",
    "def new_basename(path):\n",
    "    return path.split('&')[-1]\n",
    "    \n",
    "def new_dirname(path):\n",
    "    return '&'.join(path.split('&')[:-1])\n",
    "    \n",
    "def new_split(path):\n",
    "    return tuple(['&'.join(path.split('&')[:-1]), path.split('&')[-1]])'''\n",
    "nb = inject_code(nb, 0, new_join)\n",
    "\n",
    "nb = replace_code(nb, \"os.path.join\", \"new_join\", start=find_all_cell_indices(nb, \"code\", \"grader.check('get_all_paths_in')\")[-1])\n",
    "nb = replace_code(nb, \"os.path.basename\", \"new_basename\", start=find_all_cell_indices(nb, \"code\", \"grader.check('get_all_paths_in')\")[-1])\n",
    "nb = replace_code(nb, \"os.path.dirname\", \"new_dirname\", start=find_all_cell_indices(nb, \"code\", \"grader.check('get_all_paths_in')\")[-1])\n",
    "nb = replace_code(nb, 'os.path.split', 'new_split', start=find_all_cell_indices(nb, \"code\", \"grader.check('get_all_paths_in')\")[-1])\n",
    "nb = replace_code(nb, 'os.path.sep', \"'&'\", start=find_all_cell_indices(nb, \"code\", \"grader.check('get_all_paths_in')\")[-1])\n",
    "\n",
    "results[rubric_item] = parse_nb(run_nb(nb, os.path.join(directories[rubric_item], FILE)))"
   ]
  },
  {
   "cell_type": "raw",
   "id": "43ff6bcb",
   "metadata": {},
   "source": [
    "# END all_planets_list: paths are hardcoded using slashes"
   ]
  },
  {
   "cell_type": "markdown",
   "id": "0658e0e0",
   "metadata": {},
   "source": [
    "### all_planets_list: `planets_list` data structure is modified or redefined"
   ]
  },
  {
   "cell_type": "code",
   "execution_count": 211,
   "id": "a4e300cf",
   "metadata": {},
   "outputs": [],
   "source": [
    "rubric_item = 'all_planets_list: `planets_list` data structure is modified or redefined'\n",
    "readme_text = \"\"\"The test checks if `planets_list` remains\n",
    "unmodified after your code runs. Ensure that in\n",
    "your implementation, `planets_list` is not\n",
    "altered. Copy its contents to `all_planets_list`\n",
    "without affecting the original `planets_list`. Use\n",
    "`extend` method carefully to avoid unintended\n",
    "modifications.\"\"\"\n",
    "\n",
    "write_readme(readme_text, os.path.join(directories[rubric_item], \"README.txt\"))"
   ]
  },
  {
   "cell_type": "raw",
   "id": "d4451bea",
   "metadata": {},
   "source": [
    "# BEGIN all_planets_list: `planets_list` data structure is modified or redefined"
   ]
  },
  {
   "cell_type": "code",
   "execution_count": 212,
   "id": "8d65f368",
   "metadata": {},
   "outputs": [
    {
     "name": "stderr",
     "output_type": "stream",
     "text": [
      "0.00s - Debugger warning: It seems that frozen modules are being used, which may\n",
      "0.00s - make the debugger miss breakpoints. Please pass -Xfrozen_modules=off\n",
      "0.00s - to python to disable frozen modules.\n",
      "0.00s - Note: Debugging will proceed. Set PYDEVD_DISABLE_FILE_VALIDATION=1 to disable this validation.\n"
     ]
    }
   ],
   "source": [
    "rubric_item = 'all_planets_list: `planets_list` data structure is modified or redefined'\n",
    "nb = read_nb(os.path.join(DIRECTORY, FILE))\n",
    "nb = new_clean_nb(nb)\n",
    "\n",
    "expected_planets_list = true_functions['planet_cell'] + \"\\n\" + true_functions['get_planets'] + \"\\n\"\n",
    "expected_planets_list += replace_variable(true_data_structures['planets_list'], 'planets_list', 'true_planets_list')\n",
    "\n",
    "test_code = expected_planets_list + '''\n",
    "if public_tests.compare(true_planets_list, planets_list, \"TEXT_FORMAT_UNORDERED_LIST\") == public_tests.PASS:\n",
    "    test_output = 'all_planets_list results: ' + public_tests.PASS\n",
    "'''\n",
    "\n",
    "nb = inject_code(nb, len(nb['cells']), get_test_text(\"all_planets_list\", test_code))\n",
    "\n",
    "results[rubric_item] = parse_nb(run_nb(nb, os.path.join(directories[rubric_item], FILE)))"
   ]
  },
  {
   "cell_type": "raw",
   "id": "f282e33d",
   "metadata": {},
   "source": [
    "# END all_planets_list: `planets_list` data structure is modified or redefined"
   ]
  },
  {
   "cell_type": "code",
   "execution_count": 213,
   "id": "198be076",
   "metadata": {},
   "outputs": [
    {
     "name": "stderr",
     "output_type": "stream",
     "text": [
      "0.00s - Debugger warning: It seems that frozen modules are being used, which may\n",
      "0.00s - make the debugger miss breakpoints. Please pass -Xfrozen_modules=off\n",
      "0.00s - to python to disable frozen modules.\n",
      "0.00s - Note: Debugging will proceed. Set PYDEVD_DISABLE_FILE_VALIDATION=1 to disable this validation.\n"
     ]
    }
   ],
   "source": [
    "gen_public_tests.gen_public_tests(os.path.join(directories[rubric_item], FILE))"
   ]
  },
  {
   "cell_type": "markdown",
   "id": "55bde3aa",
   "metadata": {},
   "source": [
    "### get_surface_gravity: function did not return `None` for missing data"
   ]
  },
  {
   "cell_type": "code",
   "execution_count": 214,
   "id": "a87e3177",
   "metadata": {},
   "outputs": [],
   "source": [
    "rubric_item = 'get_surface_gravity: function did not return `None` for missing data'\n",
    "readme_text = \"\"\"Check if your function `get_surface_gravity`\n",
    "returns `None` when either `planet_mass` or\n",
    "`planet_radius` attribute of the `Planet` object\n",
    "is `None`. Ensure that missing data is handled\n",
    "correctly.\"\"\"\n",
    "\n",
    "write_readme(readme_text, os.path.join(directories[rubric_item], \"README.txt\"))"
   ]
  },
  {
   "cell_type": "code",
   "execution_count": 215,
   "id": "9ecccf88",
   "metadata": {},
   "outputs": [],
   "source": [
    "import os\n",
    "import random\n",
    "import csv\n",
    "import json\n",
    "\n",
    "# Function to modify datasets according to the rubric being tested.\n",
    "def modify_data(directory):\n",
    "    # Loop through all the planets files in the directory.\n",
    "    planets_files = [f\"planets_{i}.csv\" for i in range(1, 6)]\n",
    "    for file_name in planets_files:\n",
    "        # Construct the full file path using os.path.join to ensure cross-platform compatibility.\n",
    "        file_path = os.path.join(directory, 'data', file_name)\n",
    "        \n",
    "        # Array to hold modified rows.\n",
    "        modified_rows = []\n",
    "        \n",
    "        # Open the file for reading and then writing after modification.\n",
    "        with open(file_path, mode='r', encoding='utf-8') as file:\n",
    "            # Read the content of the CSV file.\n",
    "            csv_reader = csv.DictReader(file)\n",
    "            # Loop through each row in the CSV file.\n",
    "            for row in csv_reader:\n",
    "                # Randomly delete 'Planet Mass [Earth Mass]' or 'Planet Radius [Earth Radius]' with a 1/3 chance each.\n",
    "                if random.random() < 1/3:\n",
    "                    row['Planet Mass [Earth Mass]'] = None  # Remove the mass\n",
    "                if random.random() < 1/3:\n",
    "                    row['Planet Radius [Earth Radius]'] = None  # Remove the radius\n",
    "                modified_rows.append(row)  # Add the modified row to the list.\n",
    "        \n",
    "        # Rewrite the modified content back to the file.\n",
    "        with open(file_path, mode='w', encoding='utf-8', newline='') as file:\n",
    "            # Use the same field names for the DictWriter.\n",
    "            fields = csv_reader.fieldnames\n",
    "            csv_writer = csv.DictWriter(file, fieldnames=fields)\n",
    "            csv_writer.writeheader()  # Write the header to the file.\n",
    "            csv_writer.writerows(modified_rows)  # Write the modified rows to the file.\n",
    "\n",
    "# Assuming the `random_data` function, `directories` dictionary, and `rubric_item` are defined externally.\n",
    "# Generate the completely modified datasets by calling `random_data`.\n",
    "random_data(directories[rubric_item])\n",
    "\n",
    "# After generating random data, modify the datasets as per the test details.\n",
    "modify_data(directories[rubric_item])"
   ]
  },
  {
   "cell_type": "raw",
   "id": "64dd1b54",
   "metadata": {},
   "source": [
    "# BEGIN get_surface_gravity: function did not return `None` for missing data"
   ]
  },
  {
   "cell_type": "code",
   "execution_count": 216,
   "id": "f392e12b",
   "metadata": {},
   "outputs": [
    {
     "name": "stderr",
     "output_type": "stream",
     "text": [
      "0.00s - Debugger warning: It seems that frozen modules are being used, which may\n",
      "0.00s - make the debugger miss breakpoints. Please pass -Xfrozen_modules=off\n",
      "0.00s - to python to disable frozen modules.\n",
      "0.00s - Note: Debugging will proceed. Set PYDEVD_DISABLE_FILE_VALIDATION=1 to disable this validation.\n"
     ]
    }
   ],
   "source": [
    "rubric_item = 'get_surface_gravity: function did not return `None` for missing data'\n",
    "nb = read_nb(os.path.join(DIRECTORY, FILE))\n",
    "nb = new_clean_nb(nb)\n",
    "nb = truncate_nb(nb, end=find_all_cell_indices(nb, \"code\", \"get_surface_gravity\")[-1])\n",
    "\n",
    "var_inputs_code = '''\n",
    "var_inputs = [(planet,) for planet in all_planets_list]\n",
    "'''\n",
    "nb = inject_function_logic_check(nb, 'get_surface_gravity', var_inputs_code, \"TEXT_FORMAT\")\n",
    "\n",
    "results[rubric_item] = parse_nb(run_nb(nb, os.path.join(directories[rubric_item], FILE)))"
   ]
  },
  {
   "cell_type": "raw",
   "id": "7e0353e8",
   "metadata": {},
   "source": [
    "# END get_surface_gravity: function did not return `None` for missing data"
   ]
  },
  {
   "cell_type": "markdown",
   "id": "5eb55637",
   "metadata": {},
   "source": [
    "### get_surface_gravity: function logic is incorrect"
   ]
  },
  {
   "cell_type": "code",
   "execution_count": 217,
   "id": "0e68d56e",
   "metadata": {},
   "outputs": [],
   "source": [
    "rubric_item = 'get_surface_gravity: function logic is incorrect'\n",
    "readme_text = \"\"\"Check for proper calculation of gravity ratio\n",
    "considering that Earth's gravity is a constant\n",
    "factor. Review the use of physical constants and\n",
    "ensure that any conditional checks for `None` are\n",
    "correctly implemented. Consider edge cases and\n",
    "retest your function with various inputs.\"\"\"\n",
    "\n",
    "write_readme(readme_text, os.path.join(directories[rubric_item], \"README.txt\"))"
   ]
  },
  {
   "cell_type": "raw",
   "id": "cce603a1",
   "metadata": {},
   "source": [
    "# BEGIN get_surface_gravity: function logic is incorrect"
   ]
  },
  {
   "cell_type": "code",
   "execution_count": 218,
   "id": "45392c6c",
   "metadata": {},
   "outputs": [
    {
     "name": "stderr",
     "output_type": "stream",
     "text": [
      "0.00s - Debugger warning: It seems that frozen modules are being used, which may\n",
      "0.00s - make the debugger miss breakpoints. Please pass -Xfrozen_modules=off\n",
      "0.00s - to python to disable frozen modules.\n",
      "0.00s - Note: Debugging will proceed. Set PYDEVD_DISABLE_FILE_VALIDATION=1 to disable this validation.\n"
     ]
    }
   ],
   "source": [
    "rubric_item = 'get_surface_gravity: function logic is incorrect'\n",
    "nb = read_nb(os.path.join(DIRECTORY, FILE))\n",
    "nb = new_clean_nb(nb)\n",
    "nb = truncate_nb(nb, end=find_all_cell_indices(nb, \"code\", \"grader.check('get_surface_gravity')\")[-1])\n",
    "\n",
    "var_inputs_code = '''\n",
    "var_inputs = [(planet,) for planet in all_planets_list]\n",
    "'''\n",
    "nb = inject_function_logic_check(nb, 'get_surface_gravity', var_inputs_code, 'TEXT_FORMAT')\n",
    "\n",
    "results[rubric_item] = parse_nb(run_nb(nb, os.path.join(directories[rubric_item], FILE)))\n",
    "test_output = results[rubric_item][rubric_item.split(\":\")[0]]\n",
    "if test_output != 'All test cases passed!':\n",
    "    comments[rubric_item] += '\\nFAILED TEST CASE: ' + test_output"
   ]
  },
  {
   "cell_type": "raw",
   "id": "abc95023",
   "metadata": {},
   "source": [
    "# END get_surface_gravity: function logic is incorrect"
   ]
  },
  {
   "cell_type": "markdown",
   "id": "e7690022",
   "metadata": {},
   "source": [
    "### q14: `get_surface_gravity` function is not used to answer"
   ]
  },
  {
   "cell_type": "code",
   "execution_count": 41,
   "id": "f8d6e45c",
   "metadata": {},
   "outputs": [],
   "source": [
    "rubric_item = 'q14: `get_surface_gravity` function is not used to answer'\n",
    "readme_text = \"\"\"Check that you are using the `get_surface_gravity`\n",
    "function from the module to calculate gravity on\n",
    "GJ 674 b after locating the planet in the list.\n",
    "Update your code to use this function if not\n",
    "already included.\"\"\"\n",
    "\n",
    "write_readme(readme_text, os.path.join(directories[rubric_item], \"README.txt\"))"
   ]
  },
  {
   "cell_type": "raw",
   "id": "5f5d860e",
   "metadata": {},
   "source": [
    "# BEGIN q14: `get_surface_gravity` function is not used to answer"
   ]
  },
  {
   "cell_type": "code",
   "execution_count": 42,
   "id": "7e6520d3",
   "metadata": {},
   "outputs": [
    {
     "name": "stderr",
     "output_type": "stream",
     "text": [
      "0.00s - Debugger warning: It seems that frozen modules are being used, which may\n",
      "0.00s - make the debugger miss breakpoints. Please pass -Xfrozen_modules=off\n",
      "0.00s - to python to disable frozen modules.\n",
      "0.00s - Note: Debugging will proceed. Set PYDEVD_DISABLE_FILE_VALIDATION=1 to disable this validation.\n"
     ]
    }
   ],
   "source": [
    "rubric_item = 'q14: `get_surface_gravity` function is not used to answer'\n",
    "nb = read_nb(os.path.join(DIRECTORY, FILE))\n",
    "nb = new_clean_nb(nb)\n",
    "nb = truncate_nb(nb, end=find_all_cell_indices(nb, \"code\", \"grader.check('q14')\")[-1])\n",
    "\n",
    "new_get_surface_gravity = '''\n",
    "def get_surface_gravity(planet):\n",
    "    # An incorrect version of the function\n",
    "    mass = planet.planet_mass\n",
    "    radius = planet.planet_radius\n",
    "    if mass == None or radius == None:\n",
    "        return None\n",
    "    return (mass / radius) * 2 # An incorrect computation\n",
    "'''\n",
    "nb = replace_with_false_function(nb, 'get_surface_gravity', new_get_surface_gravity)\n",
    "\n",
    "results[rubric_item] = parse_nb(run_nb(nb, os.path.join(directories[rubric_item], FILE)))"
   ]
  },
  {
   "cell_type": "raw",
   "id": "287e403b",
   "metadata": {},
   "source": [
    "# END q14: `get_surface_gravity` function is not used to answer"
   ]
  },
  {
   "cell_type": "code",
   "execution_count": 43,
   "id": "9fdb437f",
   "metadata": {},
   "outputs": [
    {
     "name": "stderr",
     "output_type": "stream",
     "text": [
      "0.00s - Debugger warning: It seems that frozen modules are being used, which may\n",
      "0.00s - make the debugger miss breakpoints. Please pass -Xfrozen_modules=off\n",
      "0.00s - to python to disable frozen modules.\n",
      "0.00s - Note: Debugging will proceed. Set PYDEVD_DISABLE_FILE_VALIDATION=1 to disable this validation.\n"
     ]
    }
   ],
   "source": [
    "gen_public_tests.gen_public_tests(os.path.join(directories[rubric_item], FILE))"
   ]
  },
  {
   "cell_type": "markdown",
   "id": "8c544299",
   "metadata": {},
   "source": [
    "### q14: `all_planets_list` data structure is not used to answer"
   ]
  },
  {
   "cell_type": "code",
   "execution_count": 44,
   "id": "a5dade16",
   "metadata": {},
   "outputs": [],
   "source": [
    "rubric_item = 'q14: `all_planets_list` data structure is not used to answer'\n",
    "readme_text = \"\"\"Ensure you are using `all_planets_list` to find\n",
    "'GJ 674 b'. Iterate over it and compare the\n",
    "`planet_name` attribute to identify the planet.\n",
    "After finding the planet, use `break` to exit the\n",
    "loop. Check your loop and `break` statement\n",
    "implementation.\"\"\"\n",
    "\n",
    "write_readme(readme_text, os.path.join(directories[rubric_item], \"README.txt\"))"
   ]
  },
  {
   "cell_type": "raw",
   "id": "6490705c",
   "metadata": {},
   "source": [
    "# BEGIN q14: `all_planets_list` data structure is not used to answer"
   ]
  },
  {
   "cell_type": "code",
   "execution_count": 45,
   "id": "ee66a450",
   "metadata": {},
   "outputs": [
    {
     "name": "stderr",
     "output_type": "stream",
     "text": [
      "0.00s - Debugger warning: It seems that frozen modules are being used, which may\n",
      "0.00s - make the debugger miss breakpoints. Please pass -Xfrozen_modules=off\n",
      "0.00s - to python to disable frozen modules.\n",
      "0.00s - Note: Debugging will proceed. Set PYDEVD_DISABLE_FILE_VALIDATION=1 to disable this validation.\n"
     ]
    }
   ],
   "source": [
    "rubric_item = 'q14: `all_planets_list` data structure is not used to answer'\n",
    "nb = read_nb(os.path.join(DIRECTORY, FILE))\n",
    "nb = new_clean_nb(nb)\n",
    "end_index_q14 = find_all_cell_indices(nb, \"code\", \"grader.check('q14')\")[-1]\n",
    "nb = truncate_nb(nb, end=end_index_q14)\n",
    "\n",
    "new_all_planets_list = true_data_structures['planets_list'] + \"\\n\" + true_data_structures['all_planets_list'] + '''\n",
    "for idx in range(len(all_planets_list)):\n",
    "    if all_planets_list[idx].planet_name == 'GJ 674 b':\n",
    "        all_planets_list[idx] = all_planets_list[idx]._replace(planet_mass=10**8, planet_radius=1)\n",
    "'''\n",
    "nb = replace_with_false_data_structure(nb, 'all_planets_list', new_all_planets_list)\n",
    "\n",
    "results[rubric_item] = parse_nb(run_nb(nb, os.path.join(directories[rubric_item], FILE)))"
   ]
  },
  {
   "cell_type": "raw",
   "id": "7b5787c9",
   "metadata": {},
   "source": [
    "# END q14: `all_planets_list` data structure is not used to answer"
   ]
  },
  {
   "cell_type": "code",
   "execution_count": 46,
   "id": "cf93a26b",
   "metadata": {},
   "outputs": [
    {
     "name": "stderr",
     "output_type": "stream",
     "text": [
      "0.00s - Debugger warning: It seems that frozen modules are being used, which may\n",
      "0.00s - make the debugger miss breakpoints. Please pass -Xfrozen_modules=off\n",
      "0.00s - to python to disable frozen modules.\n",
      "0.00s - Note: Debugging will proceed. Set PYDEVD_DISABLE_FILE_VALIDATION=1 to disable this validation.\n"
     ]
    }
   ],
   "source": [
    "gen_public_tests.gen_public_tests(os.path.join(directories[rubric_item], FILE))"
   ]
  },
  {
   "cell_type": "markdown",
   "id": "9f148b5f",
   "metadata": {},
   "source": [
    "### q14: did not exit loop and instead iterated further after finding the answer"
   ]
  },
  {
   "cell_type": "code",
   "execution_count": 227,
   "id": "1390dfb6",
   "metadata": {},
   "outputs": [],
   "source": [
    "rubric_item = 'q14: did not exit loop and instead iterated further after finding the answer'\n",
    "readme_text = \"\"\"Ensure that your loop exits immediately after\n",
    "finding the correct planet. Check if you used\n",
    "`break` properly to stop iterating through the\n",
    "list once 'GJ 674 b' is found.\"\"\"\n",
    "\n",
    "write_readme(readme_text, os.path.join(directories[rubric_item], \"README.txt\"))"
   ]
  },
  {
   "cell_type": "code",
   "execution_count": 228,
   "id": "69652188",
   "metadata": {},
   "outputs": [],
   "source": [
    "import os\n",
    "import csv\n",
    "import json\n",
    "import random\n",
    "\n",
    "def modify_data(directory):\n",
    "    # Define the filepaths for planet CSVs and their corresponding mapping JSONs\n",
    "    planet_files = [f'planets_{i}.csv' for i in range(1, 5)]\n",
    "    mapping_files = [f'mapping_{i}.json' for i in range(1, 5)]\n",
    "\n",
    "    for file_index in range(4):\n",
    "        planets_file_path = os.path.join(directory, 'data', planet_files[file_index])\n",
    "        mapping_file_path = os.path.join(directory, 'data', mapping_files[file_index])\n",
    "\n",
    "        # Read and modify the selected planet CSV file\n",
    "        planets_data = []\n",
    "        with open(planets_file_path, mode='r', encoding='utf-8') as csvfile:\n",
    "            reader = csv.DictReader(csvfile)\n",
    "            for row in reader:\n",
    "                planets_data.append(row)\n",
    "\n",
    "        # Pick a random planet from the data and change its name to 'GJ 674 b'\n",
    "        random_planet = random.choice(planets_data)\n",
    "        original_planet_name = random_planet['Planet Name']\n",
    "        random_planet['Planet Name'] = 'GJ 674 b'\n",
    "\n",
    "        # Write the modified planet data back to the CSV\n",
    "        with open(planets_file_path, mode='w', encoding='utf-8', newline='') as csvfile:\n",
    "            writer = csv.DictWriter(csvfile, fieldnames=reader.fieldnames)\n",
    "            writer.writeheader()\n",
    "            writer.writerows(planets_data)\n",
    "\n",
    "        # Read the JSON file for mapping\n",
    "        with open(mapping_file_path, mode='r', encoding='utf-8') as jsonfile:\n",
    "            mapping_data = json.load(jsonfile)\n",
    "\n",
    "        # Modify the planet name in the JSON mapping if it exists\n",
    "        if original_planet_name in mapping_data:\n",
    "            mapping_data['GJ 674 b'] = mapping_data.pop(original_planet_name)\n",
    "\n",
    "        # Write the modified mapping back to the JSON file\n",
    "        with open(mapping_file_path, mode='w', encoding='utf-8') as jsonfile:\n",
    "            json.dump(mapping_data, jsonfile, ensure_ascii=False, indent=4)\n",
    "\n",
    "# Call the function random_data with necessary arguments\n",
    "random_data(directories[rubric_item])  # No size argument given, so default is used\n",
    "\n",
    "# Call modify_data function with the necessary argument\n",
    "modify_data(directories[rubric_item])"
   ]
  },
  {
   "cell_type": "raw",
   "id": "95c14b57",
   "metadata": {},
   "source": [
    "# BEGIN q14: did not exit loop and instead iterated further after finding the answer"
   ]
  },
  {
   "cell_type": "code",
   "execution_count": 229,
   "id": "eee7ae02",
   "metadata": {},
   "outputs": [
    {
     "name": "stderr",
     "output_type": "stream",
     "text": [
      "0.00s - Debugger warning: It seems that frozen modules are being used, which may\n",
      "0.00s - make the debugger miss breakpoints. Please pass -Xfrozen_modules=off\n",
      "0.00s - to python to disable frozen modules.\n",
      "0.00s - Note: Debugging will proceed. Set PYDEVD_DISABLE_FILE_VALIDATION=1 to disable this validation.\n"
     ]
    }
   ],
   "source": [
    "rubric_item = 'q14: did not exit loop and instead iterated further after finding the answer'\n",
    "nb = new_clean_nb(read_nb(os.path.join(DIRECTORY, FILE)))\n",
    "nb = truncate_nb(nb, end=find_all_cell_indices(nb, \"code\", \"grader.check('q14')\")[-1])\n",
    "\n",
    "nb = replace_with_false_data_structure(nb, 'planets_list', true_data_structures['planets_list'])\n",
    "nb = replace_with_false_data_structure(nb, 'all_planets_list', true_data_structures['all_planets_list'])\n",
    "\n",
    "results[rubric_item] = parse_nb(run_nb(nb, os.path.join(directories[rubric_item], FILE)))"
   ]
  },
  {
   "cell_type": "raw",
   "id": "753359a2",
   "metadata": {},
   "source": [
    "# END q14: did not exit loop and instead iterated further after finding the answer"
   ]
  },
  {
   "cell_type": "code",
   "execution_count": 230,
   "id": "cc8f216c",
   "metadata": {},
   "outputs": [
    {
     "name": "stderr",
     "output_type": "stream",
     "text": [
      "0.00s - Debugger warning: It seems that frozen modules are being used, which may\n",
      "0.00s - make the debugger miss breakpoints. Please pass -Xfrozen_modules=off\n",
      "0.00s - to python to disable frozen modules.\n",
      "0.00s - Note: Debugging will proceed. Set PYDEVD_DISABLE_FILE_VALIDATION=1 to disable this validation.\n"
     ]
    }
   ],
   "source": [
    "gen_public_tests.gen_public_tests(os.path.join(directories[rubric_item], FILE))"
   ]
  },
  {
   "cell_type": "markdown",
   "id": "7fd35471",
   "metadata": {},
   "source": [
    "### get_distances_to_star: function did not return `None` for missing data"
   ]
  },
  {
   "cell_type": "code",
   "execution_count": 231,
   "id": "d71ecd4e",
   "metadata": {},
   "outputs": [],
   "source": [
    "rubric_item = 'get_distances_to_star: function did not return `None` for missing data'\n",
    "readme_text = \"\"\"Ensure your function checks for `None` in both\n",
    "`eccentricity` and `semi_major_radius` fields of\n",
    "the `Planet` object. If either is `None`, the\n",
    "function should return `None`. Check your\n",
    "conditionals to correctly handle missing data.\"\"\"\n",
    "\n",
    "write_readme(readme_text, os.path.join(directories[rubric_item], \"README.txt\"))"
   ]
  },
  {
   "cell_type": "code",
   "execution_count": 232,
   "id": "d938b4d0",
   "metadata": {},
   "outputs": [],
   "source": [
    "import os\n",
    "import json\n",
    "import csv\n",
    "import random\n",
    "\n",
    "# Define the modify_data function\n",
    "def modify_data(directory):\n",
    "    \"\"\"\n",
    "    This function modifies the dataset within the 'directory' as specified in the test details.\n",
    "    For the files planets_1.csv through planets_5.csv, it randomly removes the value from either \n",
    "    'Orbit Semi-Major Axis [au]' or 'Eccentricity' column with a probability of 1/3 for each row.\n",
    "    \"\"\"\n",
    "    # Iterate over planet files\n",
    "    for i in range(1, 6):\n",
    "        # Construct the planet file path\n",
    "        planet_file = os.path.join(directory, 'data', f'planets_{i}.csv')\n",
    "        # Temporarily store modified rows\n",
    "        modified_rows = []\n",
    "        \n",
    "        with open(planet_file, mode='r', encoding='utf-8') as file:\n",
    "            # Read the file content\n",
    "            reader = csv.DictReader(file)\n",
    "            for row in reader:\n",
    "                # Randomly delete 'Orbit Semi-Major Axis [au]' or 'Eccentricity' value with a probability of 1/3\n",
    "                if random.random() < 1/3:\n",
    "                    row['Orbit Semi-Major Axis [au]'] = ''\n",
    "                if random.random() < 1/3:\n",
    "                    row['Eccentricity'] = ''\n",
    "                modified_rows.append(row)\n",
    "        \n",
    "        # Write the modified content back to the file\n",
    "        with open(planet_file, mode='w', encoding='utf-8', newline='') as file:\n",
    "            # Get fieldnames from the first row of modified_rows\n",
    "            fieldnames = modified_rows[0].keys()\n",
    "            writer = csv.DictWriter(file, fieldnames=fieldnames)\n",
    "            # Write the header\n",
    "            writer.writeheader()\n",
    "            # Write the modified rows\n",
    "            for modified_row in modified_rows:\n",
    "                writer.writerow(modified_row)\n",
    "\n",
    "# Modify the entire dataset\n",
    "random_data(directories[rubric_item])\n",
    "# Modify the data as per the rubric being tested\n",
    "modify_data(directories[rubric_item])"
   ]
  },
  {
   "cell_type": "raw",
   "id": "d194f6ae",
   "metadata": {},
   "source": [
    "# BEGIN get_distances_to_star: function did not return `None` for missing data"
   ]
  },
  {
   "cell_type": "code",
   "execution_count": 233,
   "id": "11371421",
   "metadata": {},
   "outputs": [
    {
     "name": "stderr",
     "output_type": "stream",
     "text": [
      "0.00s - Debugger warning: It seems that frozen modules are being used, which may\n",
      "0.00s - make the debugger miss breakpoints. Please pass -Xfrozen_modules=off\n",
      "0.00s - to python to disable frozen modules.\n",
      "0.00s - Note: Debugging will proceed. Set PYDEVD_DISABLE_FILE_VALIDATION=1 to disable this validation.\n"
     ]
    }
   ],
   "source": [
    "rubric_item = 'get_distances_to_star: function did not return `None` for missing data'\n",
    "nb = read_nb(os.path.join(DIRECTORY, FILE))\n",
    "nb = new_clean_nb(nb)\n",
    "nb = truncate_nb(nb, end=find_all_cell_indices(nb, \"code\", \"grader.check('get_distances_to_star')\")[-1])\n",
    "\n",
    "var_inputs_code = '''\n",
    "var_inputs = [(planet,) for planet in all_planets_list]\n",
    "'''\n",
    "nb = inject_function_logic_check(nb, 'get_distances_to_star', var_inputs_code, \"TEXT_FORMAT_ORDERED_LIST\")\n",
    "\n",
    "results[rubric_item] = parse_nb(run_nb(nb, os.path.join(directories[rubric_item], FILE)))"
   ]
  },
  {
   "cell_type": "raw",
   "id": "0cb3e29e",
   "metadata": {},
   "source": [
    "# END get_distances_to_star: function did not return `None` for missing data"
   ]
  },
  {
   "cell_type": "markdown",
   "id": "1125172c",
   "metadata": {},
   "source": [
    "### get_distances_to_star: function logic is incorrect"
   ]
  },
  {
   "cell_type": "code",
   "execution_count": 234,
   "id": "de74509d",
   "metadata": {},
   "outputs": [],
   "source": [
    "rubric_item = 'get_distances_to_star: function logic is incorrect'\n",
    "readme_text = \"\"\"Check that your function correctly accounts for\n",
    "the absence of `eccentricity` or\n",
    "`semi_major_radius` attributes in a `Planet`\n",
    "object. If either is missing or `None`, the\n",
    "function should return `None`. Ensure you are\n",
    "calculating the shortest and longest distances\n",
    "with the correct formula: `semi_major * (1 -\n",
    "absolute_value_of_eccentricity)` and `semi_major *\n",
    "(1 + absolute_value_of_eccentricity)`,\n",
    "respectively.\"\"\"\n",
    "\n",
    "write_readme(readme_text, os.path.join(directories[rubric_item], \"README.txt\"))"
   ]
  },
  {
   "cell_type": "raw",
   "id": "11bc6999",
   "metadata": {},
   "source": [
    "# BEGIN get_distances_to_star: function logic is incorrect"
   ]
  },
  {
   "cell_type": "code",
   "execution_count": 235,
   "id": "eb80eb33",
   "metadata": {},
   "outputs": [
    {
     "name": "stderr",
     "output_type": "stream",
     "text": [
      "0.00s - Debugger warning: It seems that frozen modules are being used, which may\n",
      "0.00s - make the debugger miss breakpoints. Please pass -Xfrozen_modules=off\n",
      "0.00s - to python to disable frozen modules.\n",
      "0.00s - Note: Debugging will proceed. Set PYDEVD_DISABLE_FILE_VALIDATION=1 to disable this validation.\n"
     ]
    }
   ],
   "source": [
    "rubric_item = 'get_distances_to_star: function logic is incorrect'\n",
    "nb = read_nb(os.path.join(DIRECTORY, FILE))\n",
    "nb = new_clean_nb(nb)\n",
    "nb = truncate_nb(nb, end=find_all_cell_indices(nb, \"code\", \"grader.check('get_distances_to_star')\")[-1])\n",
    "\n",
    "var_inputs_code = '''\n",
    "var_inputs = [(planet,) for planet in all_planets_list]\n",
    "'''\n",
    "\n",
    "nb = inject_function_logic_check(nb, 'get_distances_to_star', var_inputs_code, \"TEXT_FORMAT\")\n",
    "\n",
    "results[rubric_item] = parse_nb(run_nb(nb, os.path.join(directories[rubric_item], FILE)))\n",
    "test_output = results[rubric_item][rubric_item.split(\":\")[0]]\n",
    "if test_output != 'All test cases passed!':\n",
    "    comments[rubric_item] += '\\nFAILED TEST CASE: ' + test_output"
   ]
  },
  {
   "cell_type": "raw",
   "id": "0ad4f999",
   "metadata": {},
   "source": [
    "# END get_distances_to_star: function logic is incorrect"
   ]
  },
  {
   "cell_type": "markdown",
   "id": "daa4c2a2",
   "metadata": {},
   "source": [
    "### q15: `get_distances_to_star` function is not used to answer"
   ]
  },
  {
   "cell_type": "code",
   "execution_count": 236,
   "id": "eaefa56e",
   "metadata": {},
   "outputs": [],
   "source": [
    "rubric_item = 'q15: `get_distances_to_star` function is not used to answer'\n",
    "readme_text = \"\"\"Ensure you are using the `get_distances_to_star`\n",
    "function after finding the `planet` object with\n",
    "the name 'b Cen AB b'. This function is intended\n",
    "to calculate the distances directly, so make sure\n",
    "you call this function correctly to get accurate\n",
    "results.\"\"\"\n",
    "\n",
    "write_readme(readme_text, os.path.join(directories[rubric_item], \"README.txt\"))"
   ]
  },
  {
   "cell_type": "code",
   "execution_count": 237,
   "id": "b0cad26b",
   "metadata": {},
   "outputs": [],
   "source": [
    "random_data(directories[rubric_item])"
   ]
  },
  {
   "cell_type": "raw",
   "id": "524ef4de",
   "metadata": {},
   "source": [
    "# BEGIN q15: `get_distances_to_star` function is not used to answer"
   ]
  },
  {
   "cell_type": "code",
   "execution_count": 238,
   "id": "aca52445",
   "metadata": {},
   "outputs": [
    {
     "name": "stderr",
     "output_type": "stream",
     "text": [
      "0.00s - Debugger warning: It seems that frozen modules are being used, which may\n",
      "0.00s - make the debugger miss breakpoints. Please pass -Xfrozen_modules=off\n",
      "0.00s - to python to disable frozen modules.\n",
      "0.00s - Note: Debugging will proceed. Set PYDEVD_DISABLE_FILE_VALIDATION=1 to disable this validation.\n"
     ]
    }
   ],
   "source": [
    "rubric_item = 'q15: `get_distances_to_star` function is not used to answer'\n",
    "nb = read_nb(os.path.join(DIRECTORY, FILE))\n",
    "nb = new_clean_nb(nb)\n",
    "nb = truncate_nb(nb, end=find_all_cell_indices(nb, \"code\", \"grader.check('q15')\")[-1])\n",
    "\n",
    "new_get_distances_to_star = '''\n",
    "def get_distances_to_star(planet):\n",
    "    ecc = planet.eccentricity\n",
    "    semi_major = planet.semi_major_radius\n",
    "    if ecc is None or semi_major is None:\n",
    "        return None\n",
    "    return [semi_major / (1 + abs(ecc)), semi_major * (1 + abs(ecc))]\n",
    "'''\n",
    "nb = replace_with_false_function(nb, 'get_distances_to_star', new_get_distances_to_star)\n",
    "\n",
    "results[rubric_item] = parse_nb(run_nb(nb, os.path.join(directories[rubric_item], FILE)))"
   ]
  },
  {
   "cell_type": "raw",
   "id": "43227886",
   "metadata": {},
   "source": [
    "# END q15: `get_distances_to_star` function is not used to answer"
   ]
  },
  {
   "cell_type": "code",
   "execution_count": 239,
   "id": "f02ed2dc",
   "metadata": {},
   "outputs": [
    {
     "name": "stderr",
     "output_type": "stream",
     "text": [
      "0.00s - Debugger warning: It seems that frozen modules are being used, which may\n",
      "0.00s - make the debugger miss breakpoints. Please pass -Xfrozen_modules=off\n",
      "0.00s - to python to disable frozen modules.\n",
      "0.00s - Note: Debugging will proceed. Set PYDEVD_DISABLE_FILE_VALIDATION=1 to disable this validation.\n"
     ]
    }
   ],
   "source": [
    "gen_public_tests.gen_public_tests(os.path.join(directories[rubric_item], FILE))"
   ]
  },
  {
   "cell_type": "markdown",
   "id": "e1f9e972",
   "metadata": {},
   "source": [
    "### q15: `all_planets_list` data structure is not used to answer"
   ]
  },
  {
   "cell_type": "code",
   "execution_count": 240,
   "id": "98253095",
   "metadata": {},
   "outputs": [],
   "source": [
    "rubric_item = 'q15: `all_planets_list` data structure is not used to answer'\n",
    "readme_text = \"\"\"Ensure you're using `all_planets_list` without\n",
    "altering its structure. If using other techniques\n",
    "to find the planet, they might not work with the\n",
    "modified test dataset. Check conditional\n",
    "statements and potential overwriting of important\n",
    "variables. Use the predefined data structure to\n",
    "access the required information efficiently.\"\"\"\n",
    "\n",
    "write_readme(readme_text, os.path.join(directories[rubric_item], \"README.txt\"))"
   ]
  },
  {
   "cell_type": "code",
   "execution_count": 241,
   "id": "728dfc4e",
   "metadata": {},
   "outputs": [],
   "source": [
    "random_data(directories[rubric_item])"
   ]
  },
  {
   "cell_type": "raw",
   "id": "6bd62420",
   "metadata": {},
   "source": [
    "# BEGIN q15: `all_planets_list` data structure is not used to answer"
   ]
  },
  {
   "cell_type": "code",
   "execution_count": 242,
   "id": "e5bd9b5c",
   "metadata": {},
   "outputs": [
    {
     "name": "stderr",
     "output_type": "stream",
     "text": [
      "0.00s - Debugger warning: It seems that frozen modules are being used, which may\n",
      "0.00s - make the debugger miss breakpoints. Please pass -Xfrozen_modules=off\n",
      "0.00s - to python to disable frozen modules.\n",
      "0.00s - Note: Debugging will proceed. Set PYDEVD_DISABLE_FILE_VALIDATION=1 to disable this validation.\n"
     ]
    }
   ],
   "source": [
    "rubric_item = 'q15: `all_planets_list` data structure is not used to answer'\n",
    "nb = read_nb(os.path.join(DIRECTORY, FILE))\n",
    "nb = new_clean_nb(nb)\n",
    "end_index = find_all_cell_indices(nb, \"code\", \"grader.check('q15')\")[-1]\n",
    "nb = truncate_nb(nb, end=end_index)\n",
    "\n",
    "new_all_planets_list = true_data_structures['planets_list'] + \"\\n\" + true_data_structures['all_planets_list'] + '''\n",
    "for idx in range(len(all_planets_list)):\n",
    "    if all_planets_list[idx].planet_name == 'b Cen AB b':\n",
    "        all_planets_list[idx] = all_planets_list[idx]._replace(semi_major_radius=10**5, eccentricity=0.5)\n",
    "'''\n",
    "\n",
    "nb = replace_with_false_data_structure(nb, 'all_planets_list', new_all_planets_list)\n",
    "\n",
    "results[rubric_item] = parse_nb(run_nb(nb, os.path.join(directories[rubric_item], FILE)))"
   ]
  },
  {
   "cell_type": "raw",
   "id": "ef0db244",
   "metadata": {},
   "source": [
    "# END q15: `all_planets_list` data structure is not used to answer"
   ]
  },
  {
   "cell_type": "code",
   "execution_count": 243,
   "id": "685eafda",
   "metadata": {},
   "outputs": [
    {
     "name": "stderr",
     "output_type": "stream",
     "text": [
      "0.00s - Debugger warning: It seems that frozen modules are being used, which may\n",
      "0.00s - make the debugger miss breakpoints. Please pass -Xfrozen_modules=off\n",
      "0.00s - to python to disable frozen modules.\n",
      "0.00s - Note: Debugging will proceed. Set PYDEVD_DISABLE_FILE_VALIDATION=1 to disable this validation.\n"
     ]
    }
   ],
   "source": [
    "gen_public_tests.gen_public_tests(os.path.join(directories[rubric_item], FILE))"
   ]
  },
  {
   "cell_type": "markdown",
   "id": "57578d31",
   "metadata": {},
   "source": [
    "### q15: did not exit loop and instead iterated further after finding the answer"
   ]
  },
  {
   "cell_type": "code",
   "execution_count": 244,
   "id": "7b717079",
   "metadata": {},
   "outputs": [],
   "source": [
    "rubric_item = 'q15: did not exit loop and instead iterated further after finding the answer'\n",
    "readme_text = \"\"\"Check the placement of `break` in your loop to\n",
    "ensure iteration stops after finding 'b Cen AB b'.\n",
    "Ensure the loop does not continue, which could\n",
    "lead to incorrect data being processed.\"\"\"\n",
    "\n",
    "write_readme(readme_text, os.path.join(directories[rubric_item], \"README.txt\"))"
   ]
  },
  {
   "cell_type": "code",
   "execution_count": 245,
   "id": "2f8e5b9c",
   "metadata": {},
   "outputs": [],
   "source": [
    "import os\n",
    "import json\n",
    "import random\n",
    "\n",
    "def modify_data(directory):\n",
    "    planets_files = [f'planets_{i}.csv' for i in range(1, 5)]\n",
    "    mapping_files = [f'mapping_{i}.json' for i in range(1, 5)]\n",
    "    \n",
    "    # Randomly choose one of the planet and mapping files\n",
    "    for index in range(4):  # indices 0 to 3 for files 1 to 4\n",
    "        chosen_planet_file = planets_files[index]\n",
    "        chosen_mapping_file = mapping_files[index]\n",
    "\n",
    "        # Path to the planet file and mapping file\n",
    "        planet_file_path = os.path.join(directory, 'data', chosen_planet_file)\n",
    "        mapping_file_path = os.path.join(directory, 'data', chosen_mapping_file)\n",
    "\n",
    "        # Load planets and make a random modification\n",
    "        with open(planet_file_path, 'r', encoding='utf-8') as file:\n",
    "            planets = list(csv.DictReader(file))\n",
    "\n",
    "        # Pick a random planet to change its name\n",
    "        random_planet_index = random.randrange(len(planets))\n",
    "        planets[random_planet_index]['Planet Name'] = 'b Cen AB b'\n",
    "\n",
    "        # Write the modified data back to the planet file\n",
    "        with open(planet_file_path, 'w', encoding='utf-8', newline='') as file:\n",
    "            writer = csv.DictWriter(file, fieldnames=planets[0].keys())\n",
    "            writer.writeheader()\n",
    "            writer.writerows(planets)\n",
    "\n",
    "        # Load the mapping file and modify the corresponding planet name\n",
    "        with open(mapping_file_path, 'r', encoding='utf-8') as file:\n",
    "            mapping = json.load(file)\n",
    "\n",
    "        # Change the key corresponding to the modified planet to `b Cen AB b`\n",
    "        planet_keys = list(mapping.keys())\n",
    "        mapping['b Cen AB b'] = mapping.pop(planet_keys[random_planet_index])\n",
    "\n",
    "        # Write the modified data back to the mapping file\n",
    "        with open(mapping_file_path, 'w', encoding='utf-8') as file:\n",
    "            json.dump(mapping, file, ensure_ascii=False, indent=4)\n",
    "\n",
    "random_data(directories[rubric_item])  # The directory for random data generation\n",
    "\n",
    "# Call modify_data function with the required directory from directories\n",
    "modify_data(directories[rubric_item])"
   ]
  },
  {
   "cell_type": "raw",
   "id": "7e0cdb2f",
   "metadata": {},
   "source": [
    "# BEGIN q15: did not exit loop and instead iterated further after finding the answer"
   ]
  },
  {
   "cell_type": "code",
   "execution_count": 246,
   "id": "7efba26e",
   "metadata": {},
   "outputs": [
    {
     "name": "stderr",
     "output_type": "stream",
     "text": [
      "0.00s - Debugger warning: It seems that frozen modules are being used, which may\n",
      "0.00s - make the debugger miss breakpoints. Please pass -Xfrozen_modules=off\n",
      "0.00s - to python to disable frozen modules.\n",
      "0.00s - Note: Debugging will proceed. Set PYDEVD_DISABLE_FILE_VALIDATION=1 to disable this validation.\n"
     ]
    }
   ],
   "source": [
    "rubric_item = 'q15: did not exit loop and instead iterated further after finding the answer'\n",
    "nb = new_clean_nb(read_nb(os.path.join(DIRECTORY, FILE)))\n",
    "nb = truncate_nb(nb, end=find_all_cell_indices(nb, \"code\", \"grader.check('q15')\")[-1])\n",
    "\n",
    "nb = replace_with_false_data_structure(nb, 'planets_list', true_data_structures['planets_list'])\n",
    "nb = replace_with_false_data_structure(nb, 'all_planets_list', true_data_structures['all_planets_list'])\n",
    "\n",
    "results[rubric_item] = parse_nb(run_nb(nb, os.path.join(directories[rubric_item], FILE)))"
   ]
  },
  {
   "cell_type": "raw",
   "id": "7f64f1e3",
   "metadata": {},
   "source": [
    "# END q15: did not exit loop and instead iterated further after finding the answer"
   ]
  },
  {
   "cell_type": "code",
   "execution_count": 247,
   "id": "efbf6acb",
   "metadata": {},
   "outputs": [
    {
     "name": "stderr",
     "output_type": "stream",
     "text": [
      "0.00s - Debugger warning: It seems that frozen modules are being used, which may\n",
      "0.00s - make the debugger miss breakpoints. Please pass -Xfrozen_modules=off\n",
      "0.00s - to python to disable frozen modules.\n",
      "0.00s - Note: Debugging will proceed. Set PYDEVD_DISABLE_FILE_VALIDATION=1 to disable this validation.\n"
     ]
    }
   ],
   "source": [
    "gen_public_tests.gen_public_tests(os.path.join(directories[rubric_item], FILE))"
   ]
  },
  {
   "cell_type": "markdown",
   "id": "6a71615e",
   "metadata": {},
   "source": [
    "### get_liquid_water_distances: function did not return `None` for missing data"
   ]
  },
  {
   "cell_type": "code",
   "execution_count": 248,
   "id": "2420f582",
   "metadata": {},
   "outputs": [],
   "source": [
    "rubric_item = 'get_liquid_water_distances: function did not return `None` for missing data'\n",
    "readme_text = \"\"\"Ensure `get_liquid_water_distances` function\n",
    "checks for `None` before computing distances.\n",
    "Review how missing `stellar_luminosity` data is\n",
    "handled in your function. Revisit the logic for\n",
    "returning `None` if the data is missing or\n",
    "incomplete.\"\"\"\n",
    "\n",
    "write_readme(readme_text, os.path.join(directories[rubric_item], \"README.txt\"))"
   ]
  },
  {
   "cell_type": "code",
   "execution_count": 249,
   "id": "24b786ee",
   "metadata": {},
   "outputs": [],
   "source": [
    "import os\n",
    "import random\n",
    "import pandas as pd\n",
    "\n",
    "# This function modifies the data as per the provided directions\n",
    "def modify_data(directory):\n",
    "    # Iterate over the stars files to modify the relevant data\n",
    "    for i in range(1, 6):\n",
    "        # Construct the path to the stars file\n",
    "        stars_file = os.path.join(directory, f'data', f'stars_{i}.csv')\n",
    "        \n",
    "        # Read the stars data using pandas\n",
    "        stars_df = pd.read_csv(stars_file, encoding='utf-8')\n",
    "        \n",
    "        # Modify 'Stellar Luminosity [log(Solar)]' with probability 1/3\n",
    "        for index, row in stars_df.iterrows():\n",
    "            if random.random() < 1/3:\n",
    "                stars_df.at[index, 'Stellar Luminosity [log(Solar)]'] = None\n",
    "        \n",
    "        # Write the modified data back to the file\n",
    "        stars_df.to_csv(stars_file, index=False, encoding='utf-8')\n",
    "\n",
    "# Assuming 'directories' and 'rubric_item' are predefined\n",
    "# The dataset must be completely modified\n",
    "random_data(directories[rubric_item])  # Call random_data without specifying the size, using default argument\n",
    "\n",
    "# Call modify_data afterwards\n",
    "modify_data(directories[rubric_item])"
   ]
  },
  {
   "cell_type": "raw",
   "id": "aeae5023",
   "metadata": {},
   "source": [
    "# BEGIN get_liquid_water_distances: function did not return `None` for missing data"
   ]
  },
  {
   "cell_type": "code",
   "execution_count": 250,
   "id": "69071959",
   "metadata": {},
   "outputs": [
    {
     "name": "stderr",
     "output_type": "stream",
     "text": [
      "0.00s - Debugger warning: It seems that frozen modules are being used, which may\n",
      "0.00s - make the debugger miss breakpoints. Please pass -Xfrozen_modules=off\n",
      "0.00s - to python to disable frozen modules.\n",
      "0.00s - Note: Debugging will proceed. Set PYDEVD_DISABLE_FILE_VALIDATION=1 to disable this validation.\n"
     ]
    }
   ],
   "source": [
    "rubric_item = 'get_liquid_water_distances: function did not return `None` for missing data'\n",
    "nb = read_nb(os.path.join(DIRECTORY, FILE))\n",
    "nb = new_clean_nb(nb)\n",
    "\n",
    "function_qnum = \"get_liquid_water_distances\"\n",
    "end_of_function = find_all_cell_indices(nb, \"code\", \"grader.check('{}')\".format(function_qnum))[-1]\n",
    "nb = truncate_nb(nb, end=end_of_function)\n",
    "\n",
    "var_inputs_code = '''\n",
    "var_inputs = [(planet,) for planet in all_planets_list]\n",
    "'''\n",
    "nb = inject_function_logic_check(nb, function_qnum, var_inputs_code, \"TEXT_FORMAT_ORDERED_LIST\")\n",
    "\n",
    "results[rubric_item] = parse_nb(run_nb(nb, os.path.join(directories[rubric_item], FILE)))"
   ]
  },
  {
   "cell_type": "raw",
   "id": "96b3d1bf",
   "metadata": {},
   "source": [
    "# END get_liquid_water_distances: function did not return `None` for missing data"
   ]
  },
  {
   "cell_type": "markdown",
   "id": "a464dd54",
   "metadata": {},
   "source": [
    "### get_liquid_water_distances: function logic is incorrect"
   ]
  },
  {
   "cell_type": "code",
   "execution_count": 251,
   "id": "551f3f19",
   "metadata": {},
   "outputs": [],
   "source": [
    "rubric_item = 'get_liquid_water_distances: function logic is incorrect'\n",
    "readme_text = \"\"\"Check the function logic against varying inputs\n",
    "and ensure handling of `None` for\n",
    "`stellar_luminosity`. Consider edge cases and\n",
    "verify the formula used for distance calculation.\n",
    "Make sure to retrieve `stellar_luminosity`\n",
    "correctly from `stars_dict` using\n",
    "`planet.host_name`.\"\"\"\n",
    "\n",
    "write_readme(readme_text, os.path.join(directories[rubric_item], \"README.txt\"))"
   ]
  },
  {
   "cell_type": "raw",
   "id": "b5b16622",
   "metadata": {},
   "source": [
    "# BEGIN get_liquid_water_distances: function logic is incorrect"
   ]
  },
  {
   "cell_type": "code",
   "execution_count": 252,
   "id": "71ded85a",
   "metadata": {},
   "outputs": [
    {
     "name": "stderr",
     "output_type": "stream",
     "text": [
      "0.00s - Debugger warning: It seems that frozen modules are being used, which may\n",
      "0.00s - make the debugger miss breakpoints. Please pass -Xfrozen_modules=off\n",
      "0.00s - to python to disable frozen modules.\n",
      "0.00s - Note: Debugging will proceed. Set PYDEVD_DISABLE_FILE_VALIDATION=1 to disable this validation.\n"
     ]
    }
   ],
   "source": [
    "rubric_item = 'get_liquid_water_distances: function logic is incorrect'\n",
    "nb = read_nb(os.path.join(DIRECTORY, FILE))\n",
    "nb = new_clean_nb(nb)\n",
    "function_qnum = \"get_liquid_water_distances\"\n",
    "end_of_function = find_all_cell_indices(nb, \"code\", \"grader.check('{}')\".format(function_qnum))[-1]\n",
    "nb = truncate_nb(nb, end=end_of_function)\n",
    "\n",
    "# Since we are testing the logic of a particular function, we won't be truncating the notebook.\n",
    "var_inputs_code = '''\n",
    "var_inputs = [(planet,) for planet in all_planets_list]\n",
    "'''\n",
    "nb = inject_function_logic_check(nb, 'get_liquid_water_distances', var_inputs_code, \"TEXT_FORMAT_ORDERED_LIST\")\n",
    "\n",
    "results[rubric_item] = parse_nb(run_nb(nb, os.path.join(directories[rubric_item], FILE)))\n",
    "test_output = results[rubric_item][rubric_item.split(\":\")[0]]\n",
    "if test_output != 'All test cases passed!':\n",
    "    comments[rubric_item] += '\\nFAILED TEST CASE: ' + test_output"
   ]
  },
  {
   "cell_type": "raw",
   "id": "fc98c3d1",
   "metadata": {},
   "source": [
    "# END get_liquid_water_distances: function logic is incorrect"
   ]
  },
  {
   "cell_type": "markdown",
   "id": "60db2c82",
   "metadata": {},
   "source": [
    "### q16: `get_liquid_water_distances` function is not used to answer"
   ]
  },
  {
   "cell_type": "code",
   "execution_count": 253,
   "id": "20fb9491",
   "metadata": {},
   "outputs": [],
   "source": [
    "rubric_item = 'q16: `get_liquid_water_distances` function is not used to answer'\n",
    "readme_text = \"\"\"Ensure you use the `get_liquid_water_distances`\n",
    "function on the identified planet to obtain the\n",
    "correct distances. This function is designed to\n",
    "give the correct result efficiently. Double-check\n",
    "you're calling the function after locating the\n",
    "planet with the specified name.\"\"\"\n",
    "\n",
    "write_readme(readme_text, os.path.join(directories[rubric_item], \"README.txt\"))"
   ]
  },
  {
   "cell_type": "code",
   "execution_count": 254,
   "id": "adc3b71b",
   "metadata": {},
   "outputs": [],
   "source": [
    "random_data(directories[rubric_item]) # size is not mentioned, hence omitted"
   ]
  },
  {
   "cell_type": "raw",
   "id": "aa828b83",
   "metadata": {},
   "source": [
    "# BEGIN q16: `get_liquid_water_distances` function is not used to answer"
   ]
  },
  {
   "cell_type": "code",
   "execution_count": 255,
   "id": "dbbb8f68",
   "metadata": {},
   "outputs": [
    {
     "name": "stderr",
     "output_type": "stream",
     "text": [
      "0.00s - Debugger warning: It seems that frozen modules are being used, which may\n",
      "0.00s - make the debugger miss breakpoints. Please pass -Xfrozen_modules=off\n",
      "0.00s - to python to disable frozen modules.\n",
      "0.00s - Note: Debugging will proceed. Set PYDEVD_DISABLE_FILE_VALIDATION=1 to disable this validation.\n"
     ]
    }
   ],
   "source": [
    "rubric_item = 'q16: `get_liquid_water_distances` function is not used to answer'\n",
    "nb = read_nb(os.path.join(DIRECTORY, FILE))\n",
    "nb = new_clean_nb(nb)\n",
    "nb = truncate_nb(nb, end=find_all_cell_indices(nb, \"code\", \"grader.check('q16')\")[-1])\n",
    "\n",
    "new_get_liquid_water_distances = '''\n",
    "def get_liquid_water_distances(planet):\n",
    "    lum = stars_dict[planet.host_name].stellar_luminosity\n",
    "    if lum == None:\n",
    "        return None\n",
    "    return [(10 ** (lum - 1) / 1.15) ** 0.5, (10 ** (lum + 1) / 0.53) ** 0.5]\n",
    "'''\n",
    "nb = replace_with_false_function(nb, 'get_liquid_water_distances', new_get_liquid_water_distances)\n",
    "\n",
    "results[rubric_item] = parse_nb(run_nb(nb, os.path.join(directories[rubric_item], FILE)))"
   ]
  },
  {
   "cell_type": "raw",
   "id": "9a85f250",
   "metadata": {},
   "source": [
    "# END q16: `get_liquid_water_distances` function is not used to answer"
   ]
  },
  {
   "cell_type": "code",
   "execution_count": 256,
   "id": "3810c557",
   "metadata": {},
   "outputs": [
    {
     "name": "stderr",
     "output_type": "stream",
     "text": [
      "0.00s - Debugger warning: It seems that frozen modules are being used, which may\n",
      "0.00s - make the debugger miss breakpoints. Please pass -Xfrozen_modules=off\n",
      "0.00s - to python to disable frozen modules.\n",
      "0.00s - Note: Debugging will proceed. Set PYDEVD_DISABLE_FILE_VALIDATION=1 to disable this validation.\n"
     ]
    }
   ],
   "source": [
    "gen_public_tests.gen_public_tests(os.path.join(directories[rubric_item], FILE))"
   ]
  },
  {
   "cell_type": "markdown",
   "id": "5fcdc445",
   "metadata": {},
   "source": [
    "### q16: `all_planets_list` data structure is not used to answer"
   ]
  },
  {
   "cell_type": "code",
   "execution_count": 257,
   "id": "799d2c41",
   "metadata": {},
   "outputs": [],
   "source": [
    "rubric_item = 'q16: `all_planets_list` data structure is not used to answer'\n",
    "readme_text = \"\"\"Review the use of `all_planets_list` to ensure you\n",
    "are correctly identifying 'Kepler-197 e' using a\n",
    "loop and breaking out of it after finding the\n",
    "planet, as demonstrated in the solution. Use\n",
    "provided data structures to avoid unnecessary\n",
    "reprocessing.\"\"\"\n",
    "\n",
    "write_readme(readme_text, os.path.join(directories[rubric_item], \"README.txt\"))"
   ]
  },
  {
   "cell_type": "code",
   "execution_count": 258,
   "id": "bbcab4c4",
   "metadata": {},
   "outputs": [],
   "source": [
    "random_data(directories[rubric_item])"
   ]
  },
  {
   "cell_type": "raw",
   "id": "bb5ecb84",
   "metadata": {},
   "source": [
    "# BEGIN q16: `all_planets_list` data structure is not used to answer"
   ]
  },
  {
   "cell_type": "code",
   "execution_count": 259,
   "id": "4f1eedf8",
   "metadata": {},
   "outputs": [
    {
     "name": "stderr",
     "output_type": "stream",
     "text": [
      "0.00s - Debugger warning: It seems that frozen modules are being used, which may\n",
      "0.00s - make the debugger miss breakpoints. Please pass -Xfrozen_modules=off\n",
      "0.00s - to python to disable frozen modules.\n",
      "0.00s - Note: Debugging will proceed. Set PYDEVD_DISABLE_FILE_VALIDATION=1 to disable this validation.\n"
     ]
    }
   ],
   "source": [
    "rubric_item = 'q16: `all_planets_list` data structure is not used to answer'\n",
    "nb = read_nb(os.path.join(DIRECTORY, FILE))\n",
    "nb = new_clean_nb(nb)\n",
    "\n",
    "q16_end_index = find_all_cell_indices(nb, \"code\", \"grader.check('q16')\")[-1]\n",
    "nb = truncate_nb(nb, end=q16_end_index)\n",
    "\n",
    "new_all_planets_list = true_data_structures['planets_list'] + \"\\n\" + true_data_structures['all_planets_list'] + '''\n",
    "import random\n",
    "kepler_idx = None\n",
    "for idx in range(len(all_planets_list)):\n",
    "    if all_planets_list[idx].planet_name == 'Kepler-197 e':\n",
    "        kepler_idx = idx\n",
    "        break\n",
    "\n",
    "new_hosts = set()\n",
    "for idx in range(len(all_planets_list)):\n",
    "    if all_planets_list[idx].host_name not in [None, all_planets_list[kepler_idx].host_name]:\n",
    "        new_hosts.add(all_planets_list[idx].host_name)  \n",
    "\n",
    "random.seed(0)\n",
    "new_host = random.choice(sorted(new_hosts))\n",
    "all_planets_list[kepler_idx] = all_planets_list[kepler_idx]._replace(host_name=new_host)        \n",
    "'''\n",
    "nb = replace_with_false_data_structure(nb, 'all_planets_list', new_all_planets_list)\n",
    "\n",
    "results[rubric_item] = parse_nb(run_nb(nb, os.path.join(directories[rubric_item], FILE)))"
   ]
  },
  {
   "cell_type": "raw",
   "id": "f68fac5c",
   "metadata": {},
   "source": [
    "# END q16: `all_planets_list` data structure is not used to answer"
   ]
  },
  {
   "cell_type": "code",
   "execution_count": 260,
   "id": "1aa73a34",
   "metadata": {},
   "outputs": [
    {
     "name": "stderr",
     "output_type": "stream",
     "text": [
      "0.00s - Debugger warning: It seems that frozen modules are being used, which may\n",
      "0.00s - make the debugger miss breakpoints. Please pass -Xfrozen_modules=off\n",
      "0.00s - to python to disable frozen modules.\n",
      "0.00s - Note: Debugging will proceed. Set PYDEVD_DISABLE_FILE_VALIDATION=1 to disable this validation.\n"
     ]
    }
   ],
   "source": [
    "gen_public_tests.gen_public_tests(os.path.join(directories[rubric_item], FILE))"
   ]
  },
  {
   "cell_type": "markdown",
   "id": "7246a5a1",
   "metadata": {},
   "source": [
    "### q16: did not exit loop and instead iterated further after finding the answer"
   ]
  },
  {
   "cell_type": "code",
   "execution_count": 261,
   "id": "d5f1b5ee",
   "metadata": {},
   "outputs": [],
   "source": [
    "rubric_item = 'q16: did not exit loop and instead iterated further after finding the answer'\n",
    "readme_text = \"\"\"Ensure you break out of the loop after finding\n",
    "'Kepler-197 e'. Check if your loop continues to\n",
    "iterate through all planets even after finding the\n",
    "desired one, which is not necessary and less\n",
    "efficient.\"\"\"\n",
    "\n",
    "write_readme(readme_text, os.path.join(directories[rubric_item], \"README.txt\"))"
   ]
  },
  {
   "cell_type": "code",
   "execution_count": 262,
   "id": "50631584",
   "metadata": {},
   "outputs": [],
   "source": [
    "import os\n",
    "import json\n",
    "import csv\n",
    "import random\n",
    "\n",
    "def modify_data(directory):\n",
    "    # Helper function to generate a random planet name\n",
    "    \n",
    "    # List of planets_*.csv and mapping_*.json files\n",
    "    planet_files = [f\"planets_{i}.csv\" for i in range(1, 5)]\n",
    "    mapping_files = [f\"mapping_{i}.json\" for i in range(1, 5)]\n",
    "    \n",
    "    # Iterate over planet files to modify one planet name in each\n",
    "    for i in range(len(planet_files)):\n",
    "        # Define full path to planet file using os.path.join\n",
    "        full_planets_path = os.path.join(directory, \"data\", planet_files[i])\n",
    "        full_mapping_path = os.path.join(directory, \"data\", mapping_files[i])\n",
    "        \n",
    "        # Create a temporary list to hold modified rows\n",
    "        with open(full_planets_path, mode='r', encoding='utf-8') as csvfile:\n",
    "            reader = csv.DictReader(csvfile)\n",
    "            chosen_row = copy.deepcopy(random.choice([row for row in reader])) # Randomly select a row to change\n",
    "            chosen_planet_name = chosen_row['Planet Name']\n",
    "            # Edit the chosen row's planet name\n",
    "            chosen_row['Planet Name'] = 'Kepler-197 e'\n",
    "            # Start from the beginning after choice\n",
    "            csvfile.seek(0)\n",
    "            # Process all rows and apply modification\n",
    "            new_rows = [chosen_row if row['Planet Name'] == chosen_planet_name else row for row in reader]\n",
    "\n",
    "        # Write the modified rows back to the CSV file\n",
    "        with open(full_planets_path, mode='w', newline='', encoding='utf-8') as csvfile:\n",
    "            writer = csv.DictWriter(csvfile, fieldnames=reader.fieldnames)\n",
    "            writer.writeheader()\n",
    "            writer.writerows(new_rows)\n",
    "\n",
    "        # Read and modify the selected mapping JSON file\n",
    "        with open(full_mapping_path, 'r', encoding='utf-8') as jsonfile:\n",
    "            mapping_data = json.load(jsonfile)\n",
    "            # Change the planet name in the mapping\n",
    "            if chosen_planet_name in mapping_data:\n",
    "                mapping_data['Kepler-197 e'] = mapping_data.pop(chosen_planet_name)\n",
    "        with open(full_mapping_path, 'w', encoding='utf-8') as jsonfile:\n",
    "            json.dump(mapping_data, jsonfile, indent=2)\n",
    "\n",
    "random_data(directories[rubric_item]) # Use default argument if size is not specified\n",
    "modify_data(directories[rubric_item])"
   ]
  },
  {
   "cell_type": "raw",
   "id": "f02eff0c",
   "metadata": {},
   "source": [
    "# BEGIN q16: did not exit loop and instead iterated further after finding the answer"
   ]
  },
  {
   "cell_type": "code",
   "execution_count": 263,
   "id": "11823c7b",
   "metadata": {},
   "outputs": [
    {
     "name": "stderr",
     "output_type": "stream",
     "text": [
      "0.00s - Debugger warning: It seems that frozen modules are being used, which may\n",
      "0.00s - make the debugger miss breakpoints. Please pass -Xfrozen_modules=off\n",
      "0.00s - to python to disable frozen modules.\n",
      "0.00s - Note: Debugging will proceed. Set PYDEVD_DISABLE_FILE_VALIDATION=1 to disable this validation.\n"
     ]
    }
   ],
   "source": [
    "rubric_item = 'q16: did not exit loop and instead iterated further after finding the answer'\n",
    "nb = new_clean_nb(read_nb(os.path.join(DIRECTORY, FILE)))\n",
    "nb = truncate_nb(nb, end=find_all_cell_indices(nb, \"code\", \"grader.check('q16')\")[-1])\n",
    "\n",
    "nb = replace_with_false_data_structure(nb, 'planets_list', true_data_structures['planets_list'])\n",
    "nb = replace_with_false_data_structure(nb, 'all_planets_list', true_data_structures['all_planets_list'])\n",
    "\n",
    "results[rubric_item] = parse_nb(run_nb(nb, os.path.join(directories[rubric_item], FILE)))"
   ]
  },
  {
   "cell_type": "raw",
   "id": "ce5f7b35",
   "metadata": {},
   "source": [
    "# END q16: did not exit loop and instead iterated further after finding the answer"
   ]
  },
  {
   "cell_type": "code",
   "execution_count": 264,
   "id": "87f5c2d6",
   "metadata": {},
   "outputs": [
    {
     "name": "stderr",
     "output_type": "stream",
     "text": [
      "0.00s - Debugger warning: It seems that frozen modules are being used, which may\n",
      "0.00s - make the debugger miss breakpoints. Please pass -Xfrozen_modules=off\n",
      "0.00s - to python to disable frozen modules.\n",
      "0.00s - Note: Debugging will proceed. Set PYDEVD_DISABLE_FILE_VALIDATION=1 to disable this validation.\n"
     ]
    }
   ],
   "source": [
    "gen_public_tests.gen_public_tests(os.path.join(directories[rubric_item], FILE))"
   ]
  },
  {
   "cell_type": "markdown",
   "id": "7fd7344d",
   "metadata": {},
   "source": [
    "### q17: incorrect logic is used to answer"
   ]
  },
  {
   "cell_type": "code",
   "execution_count": 265,
   "id": "ddb74fc0",
   "metadata": {},
   "outputs": [],
   "source": [
    "rubric_item = 'q17: incorrect logic is used to answer'\n",
    "readme_text = \"\"\"Ensure your code checks for missing data as\n",
    "described in the question and applies correct\n",
    "logic to compare actual and safe distances. Review\n",
    "use of conditional statements and data validation\n",
    "in your code.\"\"\"\n",
    "\n",
    "write_readme(readme_text, os.path.join(directories[rubric_item], \"README.txt\"))"
   ]
  },
  {
   "cell_type": "code",
   "execution_count": 266,
   "id": "42db0a9c",
   "metadata": {},
   "outputs": [],
   "source": [
    "import os\n",
    "import random\n",
    "import csv\n",
    "import json\n",
    "\n",
    "def modify_data(directory):\n",
    "    # Helper function to randomly delete a value with a given probability\n",
    "    def delete_value(probability):\n",
    "        return None if random.random() < probability else ''\n",
    "\n",
    "    # Define the probability values\n",
    "    ECC_SEMIMAJOR_DELETE_PROB = 0.25\n",
    "    STELLAR_LUMINOSITY_DELETE_PROB = 0.25\n",
    "\n",
    "    # Iterate over the files planets_1.csv to planets_4.csv\n",
    "    for i in range(1, 5):\n",
    "        planets_filename = f'planets_{i}.csv'\n",
    "        path_to_planets = os.path.join(directory, 'data', planets_filename)\n",
    "\n",
    "        with open(path_to_planets, mode='r', encoding='utf-8') as infile:\n",
    "            reader = csv.reader(infile)\n",
    "            rows = list(reader)\n",
    "\n",
    "        # Modify some rows with regards to Eccentricity and Orbit Semi-Major Axis\n",
    "        for row in rows[1:]:\n",
    "            if delete_value(ECC_SEMIMAJOR_DELETE_PROB):\n",
    "                row[8] = ''  # Eccentricity index\n",
    "            if delete_value(ECC_SEMIMAJOR_DELETE_PROB):\n",
    "                row[7] = ''  # Orbit Semi-Major Axis index\n",
    "\n",
    "        with open(path_to_planets, mode='w', newline='', encoding='utf-8') as outfile:\n",
    "            writer = csv.writer(outfile)\n",
    "            writer.writerows(rows)\n",
    "\n",
    "    # Iterate over the files stars_1.csv to stars_4.csv\n",
    "    for i in range(1, 5):\n",
    "        stars_filename = f'stars_{i}.csv'\n",
    "        path_to_stars = os.path.join(directory, 'data', stars_filename)\n",
    "\n",
    "        with open(path_to_stars, mode='r', encoding='utf-8') as infile:\n",
    "            reader = csv.reader(infile)\n",
    "            rows = list(reader)\n",
    "\n",
    "        # Modify some rows with regards to Stellar Luminosity\n",
    "        for row in rows[1:]:\n",
    "            if delete_value(STELLAR_LUMINOSITY_DELETE_PROB):\n",
    "                row[5] = ''  # Stellar Luminosity index\n",
    "\n",
    "        with open(path_to_stars, mode='w', newline='', encoding='utf-8') as outfile:\n",
    "            writer = csv.writer(outfile)\n",
    "            writer.writerows(rows)\n",
    "\n",
    "# Call random_data to generate a completely new dataset\n",
    "random_data(directories[rubric_item])\n",
    "\n",
    "# Call modify_data function with the updated directory path\n",
    "modify_data(directories[rubric_item])"
   ]
  },
  {
   "cell_type": "raw",
   "id": "2480fbf5",
   "metadata": {},
   "source": [
    "# BEGIN q17: incorrect logic is used to answer"
   ]
  },
  {
   "cell_type": "code",
   "execution_count": 267,
   "id": "48573b0d",
   "metadata": {},
   "outputs": [
    {
     "name": "stderr",
     "output_type": "stream",
     "text": [
      "0.00s - Debugger warning: It seems that frozen modules are being used, which may\n",
      "0.00s - make the debugger miss breakpoints. Please pass -Xfrozen_modules=off\n",
      "0.00s - to python to disable frozen modules.\n",
      "0.00s - Note: Debugging will proceed. Set PYDEVD_DISABLE_FILE_VALIDATION=1 to disable this validation.\n"
     ]
    }
   ],
   "source": [
    "rubric_item = 'q17: incorrect logic is used to answer'\n",
    "nb = new_clean_nb(read_nb(os.path.join(DIRECTORY, FILE)))\n",
    "nb = truncate_nb(nb, end=find_all_cell_indices(nb, \"code\", \"grader.check('q17')\")[-1])\n",
    "\n",
    "results[rubric_item] = parse_nb(run_nb(nb, os.path.join(directories[rubric_item], FILE)))"
   ]
  },
  {
   "cell_type": "raw",
   "id": "054c3927",
   "metadata": {},
   "source": [
    "# END q17: incorrect logic is used to answer"
   ]
  },
  {
   "cell_type": "code",
   "execution_count": 268,
   "id": "a8035ffc",
   "metadata": {},
   "outputs": [
    {
     "name": "stderr",
     "output_type": "stream",
     "text": [
      "0.00s - Debugger warning: It seems that frozen modules are being used, which may\n",
      "0.00s - make the debugger miss breakpoints. Please pass -Xfrozen_modules=off\n",
      "0.00s - to python to disable frozen modules.\n",
      "0.00s - Note: Debugging will proceed. Set PYDEVD_DISABLE_FILE_VALIDATION=1 to disable this validation.\n"
     ]
    }
   ],
   "source": [
    "gen_public_tests.gen_public_tests(os.path.join(directories[rubric_item], FILE))"
   ]
  },
  {
   "cell_type": "markdown",
   "id": "113646a8",
   "metadata": {},
   "source": [
    "### q17: `get_liquid_water_distances` function is not used to answer"
   ]
  },
  {
   "cell_type": "code",
   "execution_count": 269,
   "id": "2de88acf",
   "metadata": {},
   "outputs": [],
   "source": [
    "rubric_item = 'q17: `get_liquid_water_distances` function is not used to answer'\n",
    "readme_text = \"\"\"The test checks if `get_liquid_water_distances`\n",
    "function is used correctly. Make sure you are\n",
    "utilizing this function to compare the planets'\n",
    "actual distances with the range where liquid water\n",
    "can exist. Review the function calls and the logic\n",
    "that compares the distance ranges.\"\"\"\n",
    "\n",
    "write_readme(readme_text, os.path.join(directories[rubric_item], \"README.txt\"))"
   ]
  },
  {
   "cell_type": "code",
   "execution_count": 270,
   "id": "d5abe6f5",
   "metadata": {},
   "outputs": [],
   "source": [
    "random_data(directories[rubric_item], 100)"
   ]
  },
  {
   "cell_type": "raw",
   "id": "0773358d",
   "metadata": {},
   "source": [
    "# BEGIN q17: `get_liquid_water_distances` function is not used to answer"
   ]
  },
  {
   "cell_type": "code",
   "execution_count": 271,
   "id": "7602fcf5",
   "metadata": {},
   "outputs": [
    {
     "name": "stderr",
     "output_type": "stream",
     "text": [
      "0.00s - Debugger warning: It seems that frozen modules are being used, which may\n",
      "0.00s - make the debugger miss breakpoints. Please pass -Xfrozen_modules=off\n",
      "0.00s - to python to disable frozen modules.\n",
      "0.00s - Note: Debugging will proceed. Set PYDEVD_DISABLE_FILE_VALIDATION=1 to disable this validation.\n"
     ]
    }
   ],
   "source": [
    "rubric_item = 'q17: `get_liquid_water_distances` function is not used to answer'\n",
    "nb = read_nb(os.path.join(DIRECTORY, FILE))\n",
    "nb = new_clean_nb(nb)\n",
    "nb = truncate_nb(nb, end=find_all_cell_indices(nb, \"code\", \"grader.check('q17')\")[-1])\n",
    "\n",
    "false_get_liquid_water_distances = '''\n",
    "def get_liquid_water_distances(planet):\n",
    "    lum = stars_dict[planet.host_name].stellar_luminosity\n",
    "    if lum == None:\n",
    "        return None\n",
    "    return [(10 ** (lum - 1) / 1.15) ** 0.5, (10 ** (lum + 1) / 0.53) ** 0.5]\n",
    "'''\n",
    "nb = replace_with_false_function(nb, 'get_liquid_water_distances', false_get_liquid_water_distances)\n",
    "\n",
    "results[rubric_item] = parse_nb(run_nb(nb, os.path.join(directories[rubric_item], FILE)))"
   ]
  },
  {
   "cell_type": "raw",
   "id": "2c8571f2",
   "metadata": {},
   "source": [
    "# END q17: `get_liquid_water_distances` function is not used to answer"
   ]
  },
  {
   "cell_type": "code",
   "execution_count": 272,
   "id": "4a9e9a23",
   "metadata": {},
   "outputs": [
    {
     "name": "stderr",
     "output_type": "stream",
     "text": [
      "0.00s - Debugger warning: It seems that frozen modules are being used, which may\n",
      "0.00s - make the debugger miss breakpoints. Please pass -Xfrozen_modules=off\n",
      "0.00s - to python to disable frozen modules.\n",
      "0.00s - Note: Debugging will proceed. Set PYDEVD_DISABLE_FILE_VALIDATION=1 to disable this validation.\n"
     ]
    }
   ],
   "source": [
    "gen_public_tests.gen_public_tests(os.path.join(directories[rubric_item], FILE))"
   ]
  },
  {
   "cell_type": "markdown",
   "id": "cd41fdcf",
   "metadata": {},
   "source": [
    "### q17: `all_planets_list` data structure is not used to answer"
   ]
  },
  {
   "cell_type": "code",
   "execution_count": 273,
   "id": "c3ad5c77",
   "metadata": {},
   "outputs": [],
   "source": [
    "rubric_item = 'q17: `all_planets_list` data structure is not used to answer'\n",
    "readme_text = \"\"\"Check if you are correctly iterating over\n",
    "`all_planets_list` to access each `Planet`\n",
    "object's data. Ensure you use the provided\n",
    "`get_distances_to_star` and\n",
    "`get_liquid_water_distances` functions\n",
    "appropriately with each `Planet` object. Avoid\n",
    "redefining or not using `all_planets_list`.\"\"\"\n",
    "\n",
    "write_readme(readme_text, os.path.join(directories[rubric_item], \"README.txt\"))"
   ]
  },
  {
   "cell_type": "code",
   "execution_count": 274,
   "id": "0914ff40",
   "metadata": {},
   "outputs": [],
   "source": [
    "random_data(directories[rubric_item], 100)"
   ]
  },
  {
   "cell_type": "raw",
   "id": "7484a76f",
   "metadata": {},
   "source": [
    "# BEGIN q17: `all_planets_list` data structure is not used to answer"
   ]
  },
  {
   "cell_type": "code",
   "execution_count": 275,
   "id": "56244010",
   "metadata": {},
   "outputs": [
    {
     "name": "stderr",
     "output_type": "stream",
     "text": [
      "0.00s - Debugger warning: It seems that frozen modules are being used, which may\n",
      "0.00s - make the debugger miss breakpoints. Please pass -Xfrozen_modules=off\n",
      "0.00s - to python to disable frozen modules.\n",
      "0.00s - Note: Debugging will proceed. Set PYDEVD_DISABLE_FILE_VALIDATION=1 to disable this validation.\n"
     ]
    }
   ],
   "source": [
    "rubric_item = 'q17: `all_planets_list` data structure is not used to answer'\n",
    "nb = read_nb(os.path.join(DIRECTORY, FILE))\n",
    "nb = new_clean_nb(nb)\n",
    "question_end_idx = find_all_cell_indices(nb, \"code\", \"grader.check('q17')\")[-1]\n",
    "nb = truncate_nb(nb, end=question_end_idx)\n",
    "\n",
    "new_all_planets_list = true_data_structures['planets_list'] + \"\\n\" + true_data_structures['all_planets_list'] + '''\n",
    "import random\n",
    "\n",
    "random.seed(0)\n",
    "raw_planets = [list(planet) for planet in all_planets_list]\n",
    "rows_in_cols = {}\n",
    "for i in range(len(raw_planets[0])):\n",
    "    rows_in_cols[i] = []\n",
    "    for j in range(len(raw_planets)):\n",
    "        rows_in_cols[i].append(raw_planets[j][i])\n",
    "    random.shuffle(rows_in_cols[i])\n",
    "\n",
    "for j in range(len(raw_planets)):\n",
    "    for i in range(len(raw_planets[0])):\n",
    "        raw_planets[j][i] = rows_in_cols[i][j]\n",
    "all_planets_list = [Planet(*planet) for planet in raw_planets]\n",
    "'''\n",
    "\n",
    "nb = replace_with_false_data_structure(nb, 'all_planets_list', new_all_planets_list)\n",
    "\n",
    "results[rubric_item] = parse_nb(run_nb(nb, os.path.join(directories[rubric_item], FILE)))"
   ]
  },
  {
   "cell_type": "raw",
   "id": "3793912e",
   "metadata": {},
   "source": [
    "# END q17: `all_planets_list` data structure is not used to answer"
   ]
  },
  {
   "cell_type": "code",
   "execution_count": 276,
   "id": "76c1bb85",
   "metadata": {},
   "outputs": [
    {
     "name": "stderr",
     "output_type": "stream",
     "text": [
      "0.00s - Debugger warning: It seems that frozen modules are being used, which may\n",
      "0.00s - make the debugger miss breakpoints. Please pass -Xfrozen_modules=off\n",
      "0.00s - to python to disable frozen modules.\n",
      "0.00s - Note: Debugging will proceed. Set PYDEVD_DISABLE_FILE_VALIDATION=1 to disable this validation.\n"
     ]
    }
   ],
   "source": [
    "gen_public_tests.gen_public_tests(os.path.join(directories[rubric_item], FILE))"
   ]
  },
  {
   "cell_type": "markdown",
   "id": "98540765",
   "metadata": {},
   "source": [
    "### get_surface_temperatures: function did not return `None` for missing data"
   ]
  },
  {
   "cell_type": "code",
   "execution_count": 277,
   "id": "0daf2cc0",
   "metadata": {},
   "outputs": [],
   "source": [
    "rubric_item = 'get_surface_temperatures: function did not return `None` for missing data'\n",
    "readme_text = \"\"\"Check the handling of missing\n",
    "'equilibrium_temperature' data in your\n",
    "`get_surface_temperatures` function. Ensure it\n",
    "returns `None` when this data is not present.\n",
    "Revisit your condition to detect missing data and\n",
    "provide the correct response.\"\"\"\n",
    "\n",
    "write_readme(readme_text, os.path.join(directories[rubric_item], \"README.txt\"))"
   ]
  },
  {
   "cell_type": "code",
   "execution_count": 278,
   "id": "df681770",
   "metadata": {},
   "outputs": [],
   "source": [
    "import os\n",
    "import random\n",
    "import csv\n",
    "\n",
    "def modify_data(directory):\n",
    "    # Iterate over the planet files that need to be modified\n",
    "    for i in range(1, 5):\n",
    "        planet_file_name = f'planets_{i}.csv'\n",
    "        planet_file_path = os.path.join(directory, 'data', planet_file_name)\n",
    "\n",
    "        # Initialize a list to store modified rows for each planet file\n",
    "        modified_rows = []\n",
    "\n",
    "        with open(planet_file_path, mode='r', encoding='utf-8') as file:\n",
    "            reader = csv.DictReader(file)\n",
    "            # Iterate over rows and modify the 'Equilibrium Temperature [K]'\n",
    "            # column with a probability of 1/3 (33% chance)\n",
    "            for row in reader:\n",
    "                if random.random() < 1/3:\n",
    "                    row['Equilibrium Temperature [K]'] = ''\n",
    "                modified_rows.append(row)\n",
    "\n",
    "        # Write the modified data back to the planet file\n",
    "        with open(planet_file_path, mode='w', newline='', encoding='utf-8') as file:\n",
    "            writer = csv.DictWriter(file, fieldnames=reader.fieldnames)\n",
    "            writer.writeheader()\n",
    "            writer.writerows(modified_rows)\n",
    "\n",
    "# First completely modify dataset\n",
    "random_data(directories[rubric_item])\n",
    "\n",
    "# Then proceed to modify it as per the modification details\n",
    "modify_data(directories[rubric_item])"
   ]
  },
  {
   "cell_type": "raw",
   "id": "649e0534",
   "metadata": {},
   "source": [
    "# BEGIN get_surface_temperatures: function did not return `None` for missing data"
   ]
  },
  {
   "cell_type": "code",
   "execution_count": 279,
   "id": "19ce95ee",
   "metadata": {},
   "outputs": [
    {
     "name": "stderr",
     "output_type": "stream",
     "text": [
      "0.00s - Debugger warning: It seems that frozen modules are being used, which may\n",
      "0.00s - make the debugger miss breakpoints. Please pass -Xfrozen_modules=off\n",
      "0.00s - to python to disable frozen modules.\n",
      "0.00s - Note: Debugging will proceed. Set PYDEVD_DISABLE_FILE_VALIDATION=1 to disable this validation.\n"
     ]
    }
   ],
   "source": [
    "rubric_item = 'get_surface_temperatures: function did not return `None` for missing data'\n",
    "nb = read_nb(os.path.join(DIRECTORY, FILE))\n",
    "nb = new_clean_nb(nb)\n",
    "nb = truncate_nb(nb, end=find_all_cell_indices(nb, \"code\", \"grader.check('get_surface_temperatures')\")[-1])\n",
    "\n",
    "# Inject code at the end of the notebook to create a Planet object with missing data and check the function's behavior\n",
    "var_inputs_code = '''\n",
    "var_inputs = [(planet,) for planet in all_planets_list]\n",
    "'''\n",
    "nb = inject_function_logic_check(nb, 'get_surface_temperatures', var_inputs_code, \"TEXT_FORMAT_ORDERED_LIST\")\n",
    "\n",
    "results[rubric_item] = parse_nb(run_nb(nb, os.path.join(directories[rubric_item], FILE)))"
   ]
  },
  {
   "cell_type": "raw",
   "id": "6f572300",
   "metadata": {},
   "source": [
    "# END get_surface_temperatures: function did not return `None` for missing data"
   ]
  },
  {
   "cell_type": "markdown",
   "id": "e9b1719d",
   "metadata": {},
   "source": [
    "### get_surface_temperatures: function logic is incorrect"
   ]
  },
  {
   "cell_type": "code",
   "execution_count": 280,
   "id": "7d62358c",
   "metadata": {},
   "outputs": [],
   "source": [
    "rubric_item = 'get_surface_temperatures: function logic is incorrect'\n",
    "readme_text = \"\"\"Check your function's logic, especially how it's\n",
    "computing temperatures with different albedo\n",
    "values. Verify that you are following the correct\n",
    "mathematical formula and returning a list of\n",
    "floats. Ensure you handle `None` for missing\n",
    "`equilibrium_temperature` appropriately.\"\"\"\n",
    "\n",
    "write_readme(readme_text, os.path.join(directories[rubric_item], \"README.txt\"))"
   ]
  },
  {
   "cell_type": "raw",
   "id": "ff3f7790",
   "metadata": {},
   "source": [
    "# BEGIN get_surface_temperatures: function logic is incorrect"
   ]
  },
  {
   "cell_type": "code",
   "execution_count": 281,
   "id": "23010bf6",
   "metadata": {},
   "outputs": [
    {
     "name": "stderr",
     "output_type": "stream",
     "text": [
      "0.00s - Debugger warning: It seems that frozen modules are being used, which may\n",
      "0.00s - make the debugger miss breakpoints. Please pass -Xfrozen_modules=off\n",
      "0.00s - to python to disable frozen modules.\n",
      "0.00s - Note: Debugging will proceed. Set PYDEVD_DISABLE_FILE_VALIDATION=1 to disable this validation.\n"
     ]
    }
   ],
   "source": [
    "rubric_item = 'get_surface_temperatures: function logic is incorrect'\n",
    "nb = read_nb(os.path.join(DIRECTORY, FILE))\n",
    "nb = new_clean_nb(nb)\n",
    "nb = truncate_nb(nb, end=find_all_cell_indices(nb, \"code\", \"grader.check('get_surface_temperatures')\")[-1])\n",
    "\n",
    "var_inputs_code = '''\n",
    "var_inputs = [(planet,) for planet in all_planets_list]\n",
    "'''\n",
    "nb = inject_function_logic_check(nb, 'get_surface_temperatures', var_inputs_code, \"TEXT_FORMAT\")\n",
    "\n",
    "results[rubric_item] = parse_nb(run_nb(nb, os.path.join(directories[rubric_item], FILE)))\n",
    "test_output = results[rubric_item][rubric_item.split(\":\")[0]]\n",
    "if test_output != 'All test cases passed!':\n",
    "    comments[rubric_item] += '\\nFAILED TEST CASE: ' + test_output"
   ]
  },
  {
   "cell_type": "raw",
   "id": "c2735e95",
   "metadata": {},
   "source": [
    "# END get_surface_temperatures: function logic is incorrect"
   ]
  },
  {
   "cell_type": "markdown",
   "id": "10212fef",
   "metadata": {},
   "source": [
    "### q18: `get_surface_temperatures` function is not used to answer"
   ]
  },
  {
   "cell_type": "code",
   "execution_count": 282,
   "id": "3d26ea5d",
   "metadata": {},
   "outputs": [],
   "source": [
    "rubric_item = 'q18: `get_surface_temperatures` function is not used to answer'\n",
    "readme_text = \"\"\"Ensure the solution utilizes the\n",
    "`get_surface_temperatures` function after\n",
    "identifying the planet. Review the usage of this\n",
    "function for correctness and verify it's not\n",
    "altered or redefined incorrectly in the notebook.\"\"\"\n",
    "\n",
    "write_readme(readme_text, os.path.join(directories[rubric_item], \"README.txt\"))"
   ]
  },
  {
   "cell_type": "code",
   "execution_count": 283,
   "id": "3a10f16d",
   "metadata": {},
   "outputs": [],
   "source": [
    "random_data(directories[rubric_item])"
   ]
  },
  {
   "cell_type": "raw",
   "id": "315ae56b",
   "metadata": {},
   "source": [
    "# BEGIN q18: `get_surface_temperatures` function is not used to answer"
   ]
  },
  {
   "cell_type": "code",
   "execution_count": 284,
   "id": "0c2a7819",
   "metadata": {},
   "outputs": [
    {
     "name": "stderr",
     "output_type": "stream",
     "text": [
      "0.00s - Debugger warning: It seems that frozen modules are being used, which may\n",
      "0.00s - make the debugger miss breakpoints. Please pass -Xfrozen_modules=off\n",
      "0.00s - to python to disable frozen modules.\n",
      "0.00s - Note: Debugging will proceed. Set PYDEVD_DISABLE_FILE_VALIDATION=1 to disable this validation.\n"
     ]
    }
   ],
   "source": [
    "rubric_item = 'q18: `get_surface_temperatures` function is not used to answer'\n",
    "nb = read_nb(os.path.join(DIRECTORY, FILE))\n",
    "nb = new_clean_nb(nb)\n",
    "nb = truncate_nb(nb, end=find_all_cell_indices(nb, \"code\", \"grader.check('q18')\")[-1])\n",
    "\n",
    "new_get_surface_temperatures = '''\n",
    "def get_surface_temperatures(planet):\n",
    "    return [planet.equilibrium_temperature, 2 * planet.equilibrium_temperature]\n",
    "'''\n",
    "nb = replace_with_false_function(nb, 'get_surface_temperatures', new_get_surface_temperatures)\n",
    "\n",
    "results[rubric_item] = parse_nb(run_nb(nb, os.path.join(directories[rubric_item], FILE)))"
   ]
  },
  {
   "cell_type": "raw",
   "id": "30f3116e",
   "metadata": {},
   "source": [
    "# END q18: `get_surface_temperatures` function is not used to answer"
   ]
  },
  {
   "cell_type": "code",
   "execution_count": 285,
   "id": "cde2681d",
   "metadata": {},
   "outputs": [
    {
     "name": "stderr",
     "output_type": "stream",
     "text": [
      "0.00s - Debugger warning: It seems that frozen modules are being used, which may\n",
      "0.00s - make the debugger miss breakpoints. Please pass -Xfrozen_modules=off\n",
      "0.00s - to python to disable frozen modules.\n",
      "0.00s - Note: Debugging will proceed. Set PYDEVD_DISABLE_FILE_VALIDATION=1 to disable this validation.\n"
     ]
    }
   ],
   "source": [
    "gen_public_tests.gen_public_tests(os.path.join(directories[rubric_item], FILE))"
   ]
  },
  {
   "cell_type": "markdown",
   "id": "be4cc648",
   "metadata": {},
   "source": [
    "### q18: `all_planets_list` data structure is not used to answer"
   ]
  },
  {
   "cell_type": "code",
   "execution_count": 286,
   "id": "01983657",
   "metadata": {},
   "outputs": [],
   "source": [
    "rubric_item = 'q18: `all_planets_list` data structure is not used to answer'\n",
    "readme_text = \"\"\"Ensure you are using the `all_planets_list` data\n",
    "structure to find the planet 'HD 20794 d'. Check\n",
    "that you compare the planet name correctly and use\n",
    "a list of floats format for the result. Consider\n",
    "edge cases where the planet might not be found.\"\"\"\n",
    "\n",
    "write_readme(readme_text, os.path.join(directories[rubric_item], \"README.txt\"))"
   ]
  },
  {
   "cell_type": "code",
   "execution_count": 287,
   "id": "5c7bd78d",
   "metadata": {},
   "outputs": [],
   "source": [
    "random_data(directories[rubric_item])"
   ]
  },
  {
   "cell_type": "raw",
   "id": "c0fa6d95",
   "metadata": {},
   "source": [
    "# BEGIN q18: `all_planets_list` data structure is not used to answer"
   ]
  },
  {
   "cell_type": "code",
   "execution_count": 288,
   "id": "5839e3b2",
   "metadata": {},
   "outputs": [
    {
     "name": "stderr",
     "output_type": "stream",
     "text": [
      "0.00s - Debugger warning: It seems that frozen modules are being used, which may\n",
      "0.00s - make the debugger miss breakpoints. Please pass -Xfrozen_modules=off\n",
      "0.00s - to python to disable frozen modules.\n",
      "0.00s - Note: Debugging will proceed. Set PYDEVD_DISABLE_FILE_VALIDATION=1 to disable this validation.\n"
     ]
    }
   ],
   "source": [
    "rubric_item = 'q18: `all_planets_list` data structure is not used to answer'\n",
    "nb = read_nb(os.path.join(DIRECTORY, FILE))\n",
    "nb = new_clean_nb(nb)\n",
    "\n",
    "# find the index where Question 18 ends\n",
    "q18_end_idx = find_all_cell_indices(nb, \"code\", \"grader.check('q18')\")[-1]\n",
    "nb = truncate_nb(nb, end=q18_end_idx)\n",
    "\n",
    "new_all_planets_list = true_data_structures['planets_list'] + \"\\n\" + true_data_structures['all_planets_list'] + '''\n",
    "for idx in range(len(all_planets_list)):\n",
    "    if all_planets_list[idx].planet_name == 'HD 20794 d':\n",
    "        all_planets_list[idx] = all_planets_list[idx]._replace(equilibrium_temperature=10**6)\n",
    "'''\n",
    "nb = replace_with_false_data_structure(nb, 'all_planets_list', new_all_planets_list)\n",
    "\n",
    "results[rubric_item] = parse_nb(run_nb(nb, os.path.join(directories[rubric_item], FILE)))"
   ]
  },
  {
   "cell_type": "raw",
   "id": "40531d24",
   "metadata": {},
   "source": [
    "# END q18: `all_planets_list` data structure is not used to answer"
   ]
  },
  {
   "cell_type": "code",
   "execution_count": 289,
   "id": "ea303efb",
   "metadata": {},
   "outputs": [
    {
     "name": "stderr",
     "output_type": "stream",
     "text": [
      "0.00s - Debugger warning: It seems that frozen modules are being used, which may\n",
      "0.00s - make the debugger miss breakpoints. Please pass -Xfrozen_modules=off\n",
      "0.00s - to python to disable frozen modules.\n",
      "0.00s - Note: Debugging will proceed. Set PYDEVD_DISABLE_FILE_VALIDATION=1 to disable this validation.\n"
     ]
    }
   ],
   "source": [
    "gen_public_tests.gen_public_tests(os.path.join(directories[rubric_item], FILE))"
   ]
  },
  {
   "cell_type": "markdown",
   "id": "31a87a00",
   "metadata": {},
   "source": [
    "### q18: did not exit loop and instead iterated further after finding the answer"
   ]
  },
  {
   "cell_type": "code",
   "execution_count": 290,
   "id": "122116da",
   "metadata": {},
   "outputs": [],
   "source": [
    "rubric_item = 'q18: did not exit loop and instead iterated further after finding the answer'\n",
    "readme_text = \"\"\"Check if you are breaking the loop after finding\n",
    "'HD 20794 d'. The code should stop iterating once\n",
    "the correct planet is found to avoid unnecessary\n",
    "computations. Confirm your loop contains a `break`\n",
    "statement in the right place.\"\"\"\n",
    "\n",
    "write_readme(readme_text, os.path.join(directories[rubric_item], \"README.txt\"))"
   ]
  },
  {
   "cell_type": "code",
   "execution_count": 291,
   "id": "3f220dac",
   "metadata": {},
   "outputs": [],
   "source": [
    "import os\n",
    "import random\n",
    "import json\n",
    "import csv\n",
    "\n",
    "def modify_data(directory):\n",
    "    \"\"\"Modify the dataset as per the instructions to not use the `all_planets_list` data structure.\"\"\"\n",
    "    # Choose a random planets file and corresponding mapping file\n",
    "    for rand_num in range(1, 5):\n",
    "        planets_file_name = f'planets_{rand_num}.csv'\n",
    "        mapping_file_name = f'mapping_{rand_num}.json'\n",
    "\n",
    "        # Generate the paths for the chosen files\n",
    "        planets_file_path = os.path.join(directory, 'data', planets_file_name)\n",
    "        mapping_file_path = os.path.join(directory, 'data', mapping_file_name)\n",
    "\n",
    "        # Read the planet data and choose a random planet to modify\n",
    "        with open(planets_file_path, mode='r', encoding='utf-8') as planets_file:\n",
    "            planets_data = list(csv.DictReader(planets_file))\n",
    "            random_planet_index = random.randint(0, len(planets_data) - 1)\n",
    "\n",
    "        # Modify the chosen planet\n",
    "        target_planet_name = planets_data[random_planet_index]['Planet Name']\n",
    "        planets_data[random_planet_index]['Planet Name'] = 'HD 20794 d'\n",
    "\n",
    "        # Write the modified planet data back to the file\n",
    "        with open(planets_file_path, mode='w', encoding='utf-8', newline='') as planets_file:\n",
    "            writer = csv.DictWriter(planets_file, fieldnames=planets_data[0].keys())\n",
    "            writer.writeheader()\n",
    "            writer.writerows(planets_data)\n",
    "\n",
    "        # Modify the mapping json file\n",
    "        with open(mapping_file_path, mode='r', encoding='utf-8') as mapping_file:\n",
    "            mapping_data = json.load(mapping_file)\n",
    "            # Replace the planet name in the mapping\n",
    "            if target_planet_name in mapping_data:\n",
    "                star_name = mapping_data[target_planet_name]\n",
    "                del mapping_data[target_planet_name]\n",
    "                mapping_data['HD 20794 d'] = star_name\n",
    "\n",
    "        # Write the modified mapping data back to the file\n",
    "        with open(mapping_file_path, mode='w', encoding='utf-8') as mapping_file:\n",
    "            json.dump(mapping_data, mapping_file, ensure_ascii=False, indent=4)\n",
    "\n",
    "# Call the random_data function for complete data modification\n",
    "random_data(directories[rubric_item])\n",
    "\n",
    "# Call the modify_data function to introduce the modifications that are needed for the test\n",
    "modify_data(directories[rubric_item])"
   ]
  },
  {
   "cell_type": "raw",
   "id": "d0fa015a",
   "metadata": {},
   "source": [
    "# BEGIN q18: did not exit loop and instead iterated further after finding the answer"
   ]
  },
  {
   "cell_type": "code",
   "execution_count": 292,
   "id": "a064f678",
   "metadata": {},
   "outputs": [
    {
     "name": "stderr",
     "output_type": "stream",
     "text": [
      "0.00s - Debugger warning: It seems that frozen modules are being used, which may\n",
      "0.00s - make the debugger miss breakpoints. Please pass -Xfrozen_modules=off\n",
      "0.00s - to python to disable frozen modules.\n",
      "0.00s - Note: Debugging will proceed. Set PYDEVD_DISABLE_FILE_VALIDATION=1 to disable this validation.\n"
     ]
    }
   ],
   "source": [
    "rubric_item = 'q18: did not exit loop and instead iterated further after finding the answer'\n",
    "nb = new_clean_nb(read_nb(os.path.join(DIRECTORY, FILE)))\n",
    "nb = truncate_nb(nb, end=find_all_cell_indices(nb, \"code\", \"grader.check('q18')\")[-1])\n",
    "\n",
    "nb = replace_with_false_data_structure(nb, 'planets_list', true_data_structures['planets_list'])\n",
    "nb = replace_with_false_data_structure(nb, 'all_planets_list', true_data_structures['all_planets_list'])\n",
    "\n",
    "results[rubric_item] = parse_nb(run_nb(nb, os.path.join(directories[rubric_item], FILE)))"
   ]
  },
  {
   "cell_type": "raw",
   "id": "4cdfc1ae",
   "metadata": {},
   "source": [
    "# END q18: did not exit loop and instead iterated further after finding the answer"
   ]
  },
  {
   "cell_type": "code",
   "execution_count": 293,
   "id": "cbd4942c",
   "metadata": {},
   "outputs": [
    {
     "name": "stderr",
     "output_type": "stream",
     "text": [
      "0.00s - Debugger warning: It seems that frozen modules are being used, which may\n",
      "0.00s - make the debugger miss breakpoints. Please pass -Xfrozen_modules=off\n",
      "0.00s - to python to disable frozen modules.\n",
      "0.00s - Note: Debugging will proceed. Set PYDEVD_DISABLE_FILE_VALIDATION=1 to disable this validation.\n"
     ]
    }
   ],
   "source": [
    "gen_public_tests.gen_public_tests(os.path.join(directories[rubric_item], FILE))"
   ]
  },
  {
   "cell_type": "markdown",
   "id": "0bc496f0",
   "metadata": {},
   "source": [
    "### q19: incorrect comparison operators are used"
   ]
  },
  {
   "cell_type": "code",
   "execution_count": 294,
   "id": "789436c2",
   "metadata": {},
   "outputs": [],
   "source": [
    "rubric_item = 'q19: incorrect comparison operators are used'\n",
    "readme_text = \"\"\"Ensure you use the correct comparison operators to\n",
    "check if the temperature is strictly greater than\n",
    "263 and strictly less than 323. Check boundary\n",
    "conditions and how you handle `None` values.\n",
    "Consider revising your comparisons and retesting\n",
    "with varying data.\"\"\"\n",
    "\n",
    "write_readme(readme_text, os.path.join(directories[rubric_item], \"README.txt\"))"
   ]
  },
  {
   "cell_type": "code",
   "execution_count": 295,
   "id": "7787ed7a",
   "metadata": {},
   "outputs": [],
   "source": [
    "import os\n",
    "import json\n",
    "import csv\n",
    "import random\n",
    "\n",
    "def modify_data(directory):\n",
    "    # Base names for planets files\n",
    "    planets_files = [f\"planets_{i}.csv\" for i in range(1, 5)]\n",
    "\n",
    "    # Modify planets data files\n",
    "    for filename in planets_files:\n",
    "        filepath = os.path.join(directory, \"data\", filename)\n",
    "        with open(filepath, \"r\", encoding='utf-8') as file:\n",
    "            reader = csv.DictReader(file)\n",
    "            rows = list(reader)\n",
    "\n",
    "        # Modify 'Equilibrium Temperature [K]' column for some rows\n",
    "        for row in rows:\n",
    "            # Random modification with given probabilities\n",
    "            prob = random.random()  # Generate a random number between 0 and 1\n",
    "            if prob < 1/3:\n",
    "                row['Equilibrium Temperature [K]'] = '323'\n",
    "            elif prob < 2/3:\n",
    "                row['Equilibrium Temperature [K]'] = str(263/((0.5)**4))\n",
    "\n",
    "        # Write the modified data back to the file\n",
    "        with open(filepath, \"w\", encoding='utf-8', newline='') as file:\n",
    "            writer = csv.DictWriter(file, fieldnames=reader.fieldnames)\n",
    "            writer.writeheader()  # Write the header to the file\n",
    "            writer.writerows(rows)  # Write modified rows to the file\n",
    "\n",
    "# Generate random data\n",
    "# The random_data function is already defined, do not redefine it\n",
    "random_data(directories[rubric_item])\n",
    "\n",
    "# Call the modify_data function with the directory path\n",
    "modify_data(directories[rubric_item])"
   ]
  },
  {
   "cell_type": "raw",
   "id": "68274f0a",
   "metadata": {},
   "source": [
    "# BEGIN q19: incorrect comparison operators are used"
   ]
  },
  {
   "cell_type": "code",
   "execution_count": 296,
   "id": "10e8415c",
   "metadata": {},
   "outputs": [
    {
     "name": "stderr",
     "output_type": "stream",
     "text": [
      "0.00s - Debugger warning: It seems that frozen modules are being used, which may\n",
      "0.00s - make the debugger miss breakpoints. Please pass -Xfrozen_modules=off\n",
      "0.00s - to python to disable frozen modules.\n",
      "0.00s - Note: Debugging will proceed. Set PYDEVD_DISABLE_FILE_VALIDATION=1 to disable this validation.\n"
     ]
    }
   ],
   "source": [
    "rubric_item = 'q19: incorrect comparison operators are used'\n",
    "nb = new_clean_nb(read_nb(os.path.join(DIRECTORY, FILE)))\n",
    "nb = truncate_nb(nb, end=find_all_cell_indices(nb, \"code\", \"grader.check('q19')\")[-1])\n",
    "\n",
    "results[rubric_item] = parse_nb(run_nb(nb, os.path.join(directories[rubric_item], FILE)))"
   ]
  },
  {
   "cell_type": "raw",
   "id": "0538c5c0",
   "metadata": {},
   "source": [
    "# END q19: incorrect comparison operators are used"
   ]
  },
  {
   "cell_type": "code",
   "execution_count": 297,
   "id": "910c9d50",
   "metadata": {},
   "outputs": [
    {
     "name": "stderr",
     "output_type": "stream",
     "text": [
      "0.00s - Debugger warning: It seems that frozen modules are being used, which may\n",
      "0.00s - make the debugger miss breakpoints. Please pass -Xfrozen_modules=off\n",
      "0.00s - to python to disable frozen modules.\n",
      "0.00s - Note: Debugging will proceed. Set PYDEVD_DISABLE_FILE_VALIDATION=1 to disable this validation.\n"
     ]
    }
   ],
   "source": [
    "gen_public_tests.gen_public_tests(os.path.join(directories[rubric_item], FILE))"
   ]
  },
  {
   "cell_type": "markdown",
   "id": "3c3136f3",
   "metadata": {},
   "source": [
    "### q19: `get_surface_temperatures` function is not used to answer"
   ]
  },
  {
   "cell_type": "code",
   "execution_count": 298,
   "id": "a64aa3e0",
   "metadata": {},
   "outputs": [],
   "source": [
    "rubric_item = 'q19: `get_surface_temperatures` function is not used to answer'\n",
    "readme_text = \"\"\"Check if you are using the\n",
    "`get_surface_temperatures` function correctly to\n",
    "filter `Planet` objects. Utilize this function to\n",
    "obtain temperature data, and apply the specified\n",
    "conditions to determine the planet names to\n",
    "include in your list.\"\"\"\n",
    "\n",
    "write_readme(readme_text, os.path.join(directories[rubric_item], \"README.txt\"))"
   ]
  },
  {
   "cell_type": "code",
   "execution_count": 299,
   "id": "c2b48632",
   "metadata": {},
   "outputs": [],
   "source": [
    "random_data(directories[rubric_item], 100)"
   ]
  },
  {
   "cell_type": "raw",
   "id": "c33fb065",
   "metadata": {},
   "source": [
    "# BEGIN q19: `get_surface_temperatures` function is not used to answer"
   ]
  },
  {
   "cell_type": "code",
   "execution_count": 300,
   "id": "a2ce6f89",
   "metadata": {},
   "outputs": [
    {
     "name": "stderr",
     "output_type": "stream",
     "text": [
      "0.00s - Debugger warning: It seems that frozen modules are being used, which may\n",
      "0.00s - make the debugger miss breakpoints. Please pass -Xfrozen_modules=off\n",
      "0.00s - to python to disable frozen modules.\n",
      "0.00s - Note: Debugging will proceed. Set PYDEVD_DISABLE_FILE_VALIDATION=1 to disable this validation.\n"
     ]
    }
   ],
   "source": [
    "rubric_item = 'q19: `get_surface_temperatures` function is not used to answer'\n",
    "nb = read_nb(os.path.join(DIRECTORY, FILE))\n",
    "nb = new_clean_nb(nb)\n",
    "nb = truncate_nb(nb, end=find_all_cell_indices(nb, \"code\", \"grader.check('q19')\")[-1])\n",
    "\n",
    "new_get_surface_temperatures = '''\n",
    "def get_surface_temperatures(planet):\n",
    "    return [278.15, 314.15]  # fixed temperatures that do not depend on planet data\n",
    "'''\n",
    "nb = replace_with_false_function(nb, 'get_surface_temperatures', new_get_surface_temperatures)\n",
    "\n",
    "results[rubric_item] = parse_nb(run_nb(nb, os.path.join(directories[rubric_item], FILE)))"
   ]
  },
  {
   "cell_type": "raw",
   "id": "f856ea84",
   "metadata": {},
   "source": [
    "# END q19: `get_surface_temperatures` function is not used to answer"
   ]
  },
  {
   "cell_type": "code",
   "execution_count": 301,
   "id": "37d98b95",
   "metadata": {},
   "outputs": [
    {
     "name": "stderr",
     "output_type": "stream",
     "text": [
      "0.00s - Debugger warning: It seems that frozen modules are being used, which may\n",
      "0.00s - make the debugger miss breakpoints. Please pass -Xfrozen_modules=off\n",
      "0.00s - to python to disable frozen modules.\n",
      "0.00s - Note: Debugging will proceed. Set PYDEVD_DISABLE_FILE_VALIDATION=1 to disable this validation.\n"
     ]
    }
   ],
   "source": [
    "gen_public_tests.gen_public_tests(os.path.join(directories[rubric_item], FILE))"
   ]
  },
  {
   "cell_type": "markdown",
   "id": "b47af5e5",
   "metadata": {},
   "source": [
    "### q19: `all_planets_list` data structure is not used to answer"
   ]
  },
  {
   "cell_type": "code",
   "execution_count": 302,
   "id": "8e41afcd",
   "metadata": {},
   "outputs": [],
   "source": [
    "rubric_item = 'q19: `all_planets_list` data structure is not used to answer'\n",
    "readme_text = \"\"\"Ensure your code is using the `all_planets_list`\n",
    "as provided, and correctly filters planets based\n",
    "on their minimum and maximum surface temperatures.\n",
    "Recheck comparison operators and logical\n",
    "conjunctions you've used to enforce the specified\n",
    "temperature range.\"\"\"\n",
    "\n",
    "write_readme(readme_text, os.path.join(directories[rubric_item], \"README.txt\"))"
   ]
  },
  {
   "cell_type": "code",
   "execution_count": 303,
   "id": "e6fcfe40",
   "metadata": {},
   "outputs": [],
   "source": [
    "random_data(directories[rubric_item], 100)"
   ]
  },
  {
   "cell_type": "raw",
   "id": "d64018de",
   "metadata": {},
   "source": [
    "# BEGIN q19: `all_planets_list` data structure is not used to answer"
   ]
  },
  {
   "cell_type": "code",
   "execution_count": 304,
   "id": "d6f072e7",
   "metadata": {},
   "outputs": [
    {
     "name": "stderr",
     "output_type": "stream",
     "text": [
      "0.00s - Debugger warning: It seems that frozen modules are being used, which may\n",
      "0.00s - make the debugger miss breakpoints. Please pass -Xfrozen_modules=off\n",
      "0.00s - to python to disable frozen modules.\n",
      "0.00s - Note: Debugging will proceed. Set PYDEVD_DISABLE_FILE_VALIDATION=1 to disable this validation.\n"
     ]
    }
   ],
   "source": [
    "rubric_item = 'q19: `all_planets_list` data structure is not used to answer'\n",
    "nb = read_nb(os.path.join(DIRECTORY, FILE))\n",
    "nb = new_clean_nb(nb)\n",
    "\n",
    "new_all_planets_list = true_data_structures['planets_list'] + \"\\n\" + true_data_structures['all_planets_list'] + '''\n",
    "import random\n",
    "\n",
    "random.seed(0)\n",
    "raw_planets = [list(planet) for planet in all_planets_list]\n",
    "rows_in_cols = {}\n",
    "for i in range(len(raw_planets[0])):\n",
    "    rows_in_cols[i] = []\n",
    "    for j in range(len(raw_planets)):\n",
    "        rows_in_cols[i].append(raw_planets[j][i])\n",
    "    random.shuffle(rows_in_cols[i])\n",
    "\n",
    "for j in range(len(raw_planets)):\n",
    "    for i in range(len(raw_planets[0])):\n",
    "        raw_planets[j][i] = rows_in_cols[i][j]\n",
    "all_planets_list = [Planet(*planet) for planet in raw_planets]\n",
    "'''\n",
    "\n",
    "nb = replace_with_false_data_structure(nb, 'all_planets_list', new_all_planets_list)\n",
    "\n",
    "# Place to store the modified and executed notebook's outcomes.\n",
    "results[rubric_item] = parse_nb(run_nb(nb, os.path.join(directories[rubric_item], FILE)))"
   ]
  },
  {
   "cell_type": "raw",
   "id": "afedc88d",
   "metadata": {},
   "source": [
    "# END q19: `all_planets_list` data structure is not used to answer"
   ]
  },
  {
   "cell_type": "code",
   "execution_count": 305,
   "id": "8f3e9731",
   "metadata": {},
   "outputs": [
    {
     "name": "stderr",
     "output_type": "stream",
     "text": [
      "0.00s - Debugger warning: It seems that frozen modules are being used, which may\n",
      "0.00s - make the debugger miss breakpoints. Please pass -Xfrozen_modules=off\n",
      "0.00s - to python to disable frozen modules.\n",
      "0.00s - Note: Debugging will proceed. Set PYDEVD_DISABLE_FILE_VALIDATION=1 to disable this validation.\n"
     ]
    }
   ],
   "source": [
    "gen_public_tests.gen_public_tests(os.path.join(directories[rubric_item], FILE))"
   ]
  },
  {
   "cell_type": "markdown",
   "id": "471985d7",
   "metadata": {},
   "source": [
    "### q20: incorrect logic is used to answer"
   ]
  },
  {
   "cell_type": "code",
   "execution_count": 306,
   "id": "37241702",
   "metadata": {},
   "outputs": [],
   "source": [
    "rubric_item = 'q20: incorrect logic is used to answer'\n",
    "readme_text = \"\"\"Check your logic for comparing gravitational pull,\n",
    "distance range for liquid water, and surface\n",
    "temperatures. Ensure none of these values are\n",
    "`None` before comparisons and that your\n",
    "comparisons accurately reflect the question's\n",
    "criteria.\"\"\"\n",
    "\n",
    "write_readme(readme_text, os.path.join(directories[rubric_item], \"README.txt\"))"
   ]
  },
  {
   "cell_type": "code",
   "execution_count": 307,
   "id": "afd6694a",
   "metadata": {},
   "outputs": [],
   "source": [
    "import os\n",
    "import pandas as pd\n",
    "import numpy as np\n",
    "\n",
    "def modify_data(directory):\n",
    "    # Modify data in planets files\n",
    "    for i in range(1, 5):  # Iterating through planets_1.csv to planets_4.csv\n",
    "        filename = f\"planets_{i}.csv\"\n",
    "        file_path = os.path.join(directory, \"data\", filename)\n",
    "        \n",
    "        # Read the planets data\n",
    "        planets_data = pd.read_csv(file_path, encoding='utf-8')\n",
    "        # For columns other than 'Planet Name', delete the value with probability 1/20\n",
    "        for col in planets_data.columns:\n",
    "            if col != \"Planet Name\":\n",
    "                # Apply a lambda function to potentially replace each entry with np.nan\n",
    "                planets_data[col] = planets_data[col].apply(lambda x: np.nan if np.random.rand() < 1/20 else x)\n",
    "        \n",
    "        # Write the modified data back to the csv\n",
    "        planets_data.to_csv(file_path, index=False, encoding='utf-8')\n",
    "    \n",
    "    # Modify data in stars files\n",
    "    for i in range(1, 5):  # Iterating through stars_1.csv to stars_4.csv\n",
    "        filename = f\"stars_{i}.csv\"\n",
    "        file_path = os.path.join(directory, \"data\", filename)\n",
    "        \n",
    "        # Read the stars data\n",
    "        stars_data = pd.read_csv(file_path, encoding='utf-8')\n",
    "        # For columns other than 'Star Name', delete the value with probability 1/20\n",
    "        for col in stars_data.columns:\n",
    "            if col != \"Star Name\":\n",
    "                # Apply a lambda function to potentially replace each entry with np.nan\n",
    "                stars_data[col] = stars_data[col].apply(lambda x: np.nan if np.random.rand() < 1/20 else x)\n",
    "        \n",
    "        # Write the modified data back to the csv\n",
    "        stars_data.to_csv(file_path, index=False, encoding='utf-8')\n",
    "\n",
    "# Modify the data as required by the rubric item being tested\n",
    "# Directories and rubric item variable already defined earlier\n",
    "random_data(directories[rubric_item])\n",
    "modify_data(directories[rubric_item])"
   ]
  },
  {
   "cell_type": "raw",
   "id": "04e847ee",
   "metadata": {},
   "source": [
    "# BEGIN q20: incorrect logic is used to answer"
   ]
  },
  {
   "cell_type": "code",
   "execution_count": 308,
   "id": "b93ca088",
   "metadata": {},
   "outputs": [
    {
     "name": "stderr",
     "output_type": "stream",
     "text": [
      "0.00s - Debugger warning: It seems that frozen modules are being used, which may\n",
      "0.00s - make the debugger miss breakpoints. Please pass -Xfrozen_modules=off\n",
      "0.00s - to python to disable frozen modules.\n",
      "0.00s - Note: Debugging will proceed. Set PYDEVD_DISABLE_FILE_VALIDATION=1 to disable this validation.\n"
     ]
    }
   ],
   "source": [
    "rubric_item = 'q20: incorrect logic is used to answer'\n",
    "nb = new_clean_nb(read_nb(os.path.join(DIRECTORY, FILE)))\n",
    "nb = truncate_nb(nb, end=find_all_cell_indices(nb, \"code\", \"grader.check('q20')\")[-1])\n",
    "\n",
    "results[rubric_item] = parse_nb(run_nb(nb, os.path.join(directories[rubric_item], FILE)))"
   ]
  },
  {
   "cell_type": "raw",
   "id": "2be472ff",
   "metadata": {},
   "source": [
    "# END q20: incorrect logic is used to answer"
   ]
  },
  {
   "cell_type": "code",
   "execution_count": 309,
   "id": "9b968cb5",
   "metadata": {},
   "outputs": [
    {
     "name": "stderr",
     "output_type": "stream",
     "text": [
      "0.00s - Debugger warning: It seems that frozen modules are being used, which may\n",
      "0.00s - make the debugger miss breakpoints. Please pass -Xfrozen_modules=off\n",
      "0.00s - to python to disable frozen modules.\n",
      "0.00s - Note: Debugging will proceed. Set PYDEVD_DISABLE_FILE_VALIDATION=1 to disable this validation.\n"
     ]
    }
   ],
   "source": [
    "gen_public_tests.gen_public_tests(os.path.join(directories[rubric_item], FILE))"
   ]
  },
  {
   "cell_type": "markdown",
   "id": "03998d60",
   "metadata": {},
   "source": [
    "### q20: `get_surface_gravity`, `get_distances_to_star`, `get_liquid_water_distances`, and `get_surface_temperatures` functions are not used to answer"
   ]
  },
  {
   "cell_type": "code",
   "execution_count": 310,
   "id": "a8904e19",
   "metadata": {},
   "outputs": [],
   "source": [
    "rubric_item = 'q20: `get_surface_gravity`, `get_distances_to_star`, `get_liquid_water_distances`, and `get_surface_temperatures` functions are not used to answer'\n",
    "readme_text = \"\"\"Ensure you are using `get_surface_gravity`,\n",
    "`get_distances_to_star`,\n",
    "`get_liquid_water_distances`, and\n",
    "`get_surface_temperatures` functions correctly to\n",
    "compute the criteria for habitable planets. If\n",
    "these functions are not called or implemented as\n",
    "expected, check function definitions and their\n",
    "usage in your code.\"\"\"\n",
    "\n",
    "write_readme(readme_text, os.path.join(directories[rubric_item], \"README.txt\"))"
   ]
  },
  {
   "cell_type": "code",
   "execution_count": 311,
   "id": "6fac0248",
   "metadata": {},
   "outputs": [],
   "source": [
    "random_data(directories[rubric_item])"
   ]
  },
  {
   "cell_type": "raw",
   "id": "e67eac4f",
   "metadata": {},
   "source": [
    "# BEGIN q20: `get_surface_gravity`, `get_distances_to_star`, `get_liquid_water_distances`, and `get_surface_temperatures` functions are not used to answer"
   ]
  },
  {
   "cell_type": "code",
   "execution_count": 312,
   "id": "4302e503",
   "metadata": {},
   "outputs": [
    {
     "name": "stderr",
     "output_type": "stream",
     "text": [
      "0.00s - Debugger warning: It seems that frozen modules are being used, which may\n",
      "0.00s - make the debugger miss breakpoints. Please pass -Xfrozen_modules=off\n",
      "0.00s - to python to disable frozen modules.\n",
      "0.00s - Note: Debugging will proceed. Set PYDEVD_DISABLE_FILE_VALIDATION=1 to disable this validation.\n"
     ]
    }
   ],
   "source": [
    "rubric_item = 'q20: `get_surface_gravity`, `get_distances_to_star`, `get_liquid_water_distances`, and `get_surface_temperatures` functions are not used to answer'\n",
    "nb = read_nb(os.path.join(DIRECTORY, FILE))\n",
    "nb = new_clean_nb(nb)\n",
    "end_idx = find_all_cell_indices(nb, \"code\", \"grader.check('q20')\")[-1]\n",
    "nb = truncate_nb(nb, end=end_idx)\n",
    "\n",
    "new_get_surface_gravity = '''\n",
    "def get_surface_gravity(planet):\n",
    "    return 1.0  # A constant value which is inside the required range\n",
    "'''\n",
    "\n",
    "new_get_distances_to_star = '''\n",
    "def get_distances_to_star(planet):\n",
    "    return [3, 5]  # Overriding with some constant values\n",
    "'''\n",
    "\n",
    "new_get_liquid_water_distances = '''\n",
    "def get_liquid_water_distances(planet):\n",
    "    return [1, 10]  # Overriding with some constant values that contain the required range\n",
    "'''\n",
    "\n",
    "new_get_surface_temperatures = '''\n",
    "def get_surface_temperatures(planet):\n",
    "    return [250, 300]  # Overriding with some constant temperatures that meet the criteria\n",
    "'''\n",
    "\n",
    "nb = replace_with_false_function(nb, 'get_surface_gravity', new_get_surface_gravity)\n",
    "nb = replace_with_false_function(nb, 'get_distances_to_star', new_get_distances_to_star)\n",
    "nb = replace_with_false_function(nb, 'get_liquid_water_distances', new_get_liquid_water_distances)\n",
    "nb = replace_with_false_function(nb, 'get_surface_temperatures', new_get_surface_temperatures)\n",
    "\n",
    "results[rubric_item] = parse_nb(run_nb(nb, os.path.join(directories[rubric_item], FILE)))"
   ]
  },
  {
   "cell_type": "raw",
   "id": "401db700",
   "metadata": {},
   "source": [
    "# END q20: `get_surface_gravity`, `get_distances_to_star`, `get_liquid_water_distances`, and `get_surface_temperatures` functions are not used to answer"
   ]
  },
  {
   "cell_type": "code",
   "execution_count": 313,
   "id": "71f3b471",
   "metadata": {},
   "outputs": [
    {
     "name": "stderr",
     "output_type": "stream",
     "text": [
      "0.00s - Debugger warning: It seems that frozen modules are being used, which may\n",
      "0.00s - make the debugger miss breakpoints. Please pass -Xfrozen_modules=off\n",
      "0.00s - to python to disable frozen modules.\n",
      "0.00s - Note: Debugging will proceed. Set PYDEVD_DISABLE_FILE_VALIDATION=1 to disable this validation.\n"
     ]
    }
   ],
   "source": [
    "gen_public_tests.gen_public_tests(os.path.join(directories[rubric_item], FILE))"
   ]
  },
  {
   "cell_type": "markdown",
   "id": "46748c84",
   "metadata": {},
   "source": [
    "### q20: `all_planets_list` data structure is not used to answer"
   ]
  },
  {
   "cell_type": "code",
   "execution_count": 314,
   "id": "e6c7d13b",
   "metadata": {},
   "outputs": [],
   "source": [
    "rubric_item = 'q20: `all_planets_list` data structure is not used to answer'\n",
    "readme_text = \"\"\"Check if you are using `all_planets_list`\n",
    "correctly. Ensure you are iterating over it and\n",
    "extracting planetary data properly. If you define\n",
    "and use another data structure, make sure to\n",
    "remove it and rely on `all_planets_list`. Review\n",
    "the solution for proper use of this predefined\n",
    "data structure.\"\"\"\n",
    "\n",
    "write_readme(readme_text, os.path.join(directories[rubric_item], \"README.txt\"))"
   ]
  },
  {
   "cell_type": "code",
   "execution_count": 315,
   "id": "b7b90730",
   "metadata": {},
   "outputs": [],
   "source": [
    "random_data(directories[rubric_item])"
   ]
  },
  {
   "cell_type": "raw",
   "id": "449fa0b7",
   "metadata": {},
   "source": [
    "# BEGIN q20: `all_planets_list` data structure is not used to answer"
   ]
  },
  {
   "cell_type": "code",
   "execution_count": 316,
   "id": "fa6b0c9d",
   "metadata": {},
   "outputs": [
    {
     "name": "stderr",
     "output_type": "stream",
     "text": [
      "0.00s - Debugger warning: It seems that frozen modules are being used, which may\n",
      "0.00s - make the debugger miss breakpoints. Please pass -Xfrozen_modules=off\n",
      "0.00s - to python to disable frozen modules.\n",
      "0.00s - Note: Debugging will proceed. Set PYDEVD_DISABLE_FILE_VALIDATION=1 to disable this validation.\n"
     ]
    }
   ],
   "source": [
    "rubric_item = 'q20: `all_planets_list` data structure is not used to answer'\n",
    "nb = read_nb(os.path.join(DIRECTORY, FILE))\n",
    "nb = new_clean_nb(nb)\n",
    "nb = truncate_nb(nb, end=find_all_cell_indices(nb, \"code\", \"grader.check('q20')\")[-1])\n",
    "\n",
    "new_all_planets_list = true_data_structures['planets_list'] + \"\\n\" + true_data_structures['all_planets_list'] + '''\n",
    "import random\n",
    "\n",
    "random.seed(0)\n",
    "raw_planets = [list(planet) for planet in all_planets_list]\n",
    "rows_in_cols = {}\n",
    "for i in range(len(raw_planets[0])):\n",
    "    rows_in_cols[i] = []\n",
    "    for j in range(len(raw_planets)):\n",
    "        rows_in_cols[i].append(raw_planets[j][i])\n",
    "    random.shuffle(rows_in_cols[i])\n",
    "\n",
    "for j in range(len(raw_planets)):\n",
    "    for i in range(len(raw_planets[0])):\n",
    "        raw_planets[j][i] = rows_in_cols[i][j]\n",
    "all_planets_list = [Planet(*planet) for planet in raw_planets]\n",
    "'''\n",
    "\n",
    "nb = replace_with_false_data_structure(nb, 'all_planets_list', new_all_planets_list)\n",
    "\n",
    "results[rubric_item] = parse_nb(run_nb(nb, os.path.join(directories[rubric_item], FILE)))"
   ]
  },
  {
   "cell_type": "raw",
   "id": "cd396484",
   "metadata": {},
   "source": [
    "# END q20: `all_planets_list` data structure is not used to answer"
   ]
  },
  {
   "cell_type": "code",
   "execution_count": 317,
   "id": "a784323b",
   "metadata": {},
   "outputs": [
    {
     "name": "stderr",
     "output_type": "stream",
     "text": [
      "0.00s - Debugger warning: It seems that frozen modules are being used, which may\n",
      "0.00s - make the debugger miss breakpoints. Please pass -Xfrozen_modules=off\n",
      "0.00s - to python to disable frozen modules.\n",
      "0.00s - Note: Debugging will proceed. Set PYDEVD_DISABLE_FILE_VALIDATION=1 to disable this validation.\n"
     ]
    }
   ],
   "source": [
    "gen_public_tests.gen_public_tests(os.path.join(directories[rubric_item], FILE))"
   ]
  },
  {
   "cell_type": "markdown",
   "id": "5c31f289",
   "metadata": {},
   "source": [
    "### general_deductions: Outputs not visible/did not save the notebook file prior to running the cell containing \"export\". We cannot see your output if you do not save before generating the zip file."
   ]
  },
  {
   "cell_type": "raw",
   "id": "e9bcd3dd",
   "metadata": {},
   "source": [
    "# BEGIN general_deductions: Outputs not visible/did not save the notebook file prior to running the cell containing \"export\". We cannot see your output if you do not save before generating the zip file."
   ]
  },
  {
   "cell_type": "code",
   "execution_count": 318,
   "id": "c08ed365",
   "metadata": {},
   "outputs": [],
   "source": [
    "rubric_item = \"general_deductions: Outputs not visible/did not save the notebook file prior to running the cell containing \\\"export\\\". We cannot see your output if you do not save before generating the zip file.\"\n",
    "nb = new_clean_nb(read_nb(os.path.join(DIRECTORY, FILE)))\n",
    "nb = truncate_nb(nb, end=find_all_cell_indices(nb, \"code\", \"grader.check('general_deductions')\")[-1])\n",
    "\n",
    "results[rubric_item] = {}\n",
    "results[rubric_item]['general_deductions'] = rubric_item.split(\":\")[1].strip()\n",
    "if detect_restart_and_run_all(nb):\n",
    "    results[rubric_item]['general_deductions'] = \"All test cases passed!\""
   ]
  },
  {
   "cell_type": "raw",
   "id": "72fa2372",
   "metadata": {},
   "source": [
    "# END general_deductions: Outputs not visible/did not save the notebook file prior to running the cell containing \"export\". We cannot see your output if you do not save before generating the zip file."
   ]
  },
  {
   "cell_type": "markdown",
   "id": "c80fd2a7",
   "metadata": {},
   "source": [
    "### general_deductions: Used concepts/modules such as csv.DictReader, os.walk, and pandas not covered in class yet. Note that built-in functions that you have been introduced to can be used."
   ]
  },
  {
   "cell_type": "raw",
   "id": "17f67505",
   "metadata": {},
   "source": [
    "# BEGIN general_deductions: Used concepts/modules such as csv.DictReader, os.walk, and pandas not covered in class yet. Note that built-in functions that you have been introduced to can be used."
   ]
  },
  {
   "cell_type": "code",
   "execution_count": 319,
   "id": "c2123c04",
   "metadata": {},
   "outputs": [],
   "source": [
    "rubric_item = \"general_deductions: Used concepts/modules such as csv.DictReader, os.walk, and pandas not covered in class yet. Note that built-in functions that you have been introduced to can be used.\"\n",
    "nb = clean_nb(read_nb(os.path.join(DIRECTORY, FILE)))\n",
    "nb = truncate_nb(nb, end=find_all_cell_indices(nb, \"code\", \"grader.check('general_deductions')\")[-1])\n",
    "\n",
    "function_calls = []\n",
    "for cell in nb['cells']:\n",
    "    if cell['cell_type'] != \"code\":\n",
    "        continue\n",
    "    for node in ast.walk(ast.parse(cell['source'])):\n",
    "        if isinstance(node, ast.Call):\n",
    "            function_calls.append(ast.unparse(node.func))\n",
    "            \n",
    "bad_function_calls = False\n",
    "for bad_function in function_calls:\n",
    "    if 'DictReader' in bad_function or 'pandas' in bad_function or ('os' in bad_function and 'walk' in bad_function):\n",
    "        bad_function_calls = True\n",
    "        break\n",
    "\n",
    "results[rubric_item] = {}\n",
    "found_imports = set(detect_imports(nb)) - {\"otter\", \"public_tests\", \"copy\", \"csv\", \"json\", \"json.JSONDecodeError\", \n",
    "                                           \"os\", \"collections.namedtuple\", \"collections\", \"math\", \"statistics\", \n",
    "                                           \"matplotlib.pyplot\", \"matplotlib\"}\n",
    "if found_imports  == set():\n",
    "    if bad_function_calls == False:\n",
    "        results[rubric_item]['general_deductions'] = \"All test cases passed!\"\n",
    "    else:\n",
    "        results[rubric_item]['general_deductions'] = \"found unexpected function call:\\n\" + repr(bad_function)\n",
    "        comments[rubric_item] = results[rubric_item]['general_deductions']\n",
    "else:\n",
    "    results[rubric_item]['general_deductions'] = \"found unexpected import(s):\" + repr(list(found_imports))\n",
    "    comments[rubric_item] = results[rubric_item]['general_deductions']"
   ]
  },
  {
   "cell_type": "raw",
   "id": "609bdb43",
   "metadata": {},
   "source": [
    "# END general_deductions: Used concepts/modules such as csv.DictReader, os.walk, and pandas not covered in class yet. Note that built-in functions that you have been introduced to can be used."
   ]
  },
  {
   "cell_type": "markdown",
   "id": "a0c872ab",
   "metadata": {},
   "source": [
    "### general_deductions: Large outputs such as stars_dict or planets_list are displayed in the notebook."
   ]
  },
  {
   "cell_type": "raw",
   "id": "38a4e470",
   "metadata": {},
   "source": [
    "# BEGIN general_deductions: Large outputs such as stars_dict or planets_list are displayed in the notebook."
   ]
  },
  {
   "cell_type": "code",
   "execution_count": 320,
   "id": "9230e537",
   "metadata": {},
   "outputs": [],
   "source": [
    "rubric_item = \"general_deductions: Large outputs such as stars_dict or planets_list are displayed in the notebook.\"\n",
    "nb = clean_nb(read_nb(os.path.join(DIRECTORY, FILE)))\n",
    "nb = truncate_nb(nb, end=find_all_cell_indices(nb, \"code\", \"grader.check('general_deductions')\")[-1])\n",
    "\n",
    "results[rubric_item] = {}\n",
    "results[rubric_item]['general_deductions'] = 'All test cases passed!'\n",
    "\n",
    "for cell in nb['cells']:\n",
    "    if cell['cell_type'] != \"code\":\n",
    "        continue\n",
    "    output = \"\"\n",
    "    if 'outputs' not in cell:\n",
    "        continue\n",
    "    for output_cell in cell['outputs']:\n",
    "        if 'text' in output_cell:\n",
    "            output += output_cell[\"text\"]+\"\\n\"\n",
    "        elif 'data' in output_cell and 'text/plain' in output_cell['data']:\n",
    "            output += output_cell[\"data\"][\"text/plain\"] + \"\\n\"\n",
    "    if len(output) > 10**6:\n",
    "        results[rubric_item]['general_deductions'] = \"large outputs detected in notebook\"\n",
    "        break"
   ]
  },
  {
   "cell_type": "raw",
   "id": "fd159f4d",
   "metadata": {},
   "source": [
    "# END general_deductions: Large outputs such as stars_dict or planets_list are displayed in the notebook."
   ]
  },
  {
   "cell_type": "markdown",
   "id": "54901e78",
   "metadata": {},
   "source": [
    "### general_deductions: Import statements are not mentioned in the required cell at the top of the notebook."
   ]
  },
  {
   "cell_type": "raw",
   "id": "50b1873a",
   "metadata": {},
   "source": [
    "# BEGIN general_deductions: Import statements are not mentioned in the required cell at the top of the notebook."
   ]
  },
  {
   "cell_type": "code",
   "execution_count": 321,
   "id": "4fef3dc2",
   "metadata": {},
   "outputs": [],
   "source": [
    "rubric_item = \"general_deductions: Import statements are not mentioned in the required cell at the top of the notebook.\"\n",
    "nb = clean_nb(read_nb(os.path.join(DIRECTORY, FILE)))\n",
    "nb = truncate_nb(nb, start=find_all_cell_indices(nb, \"markdown\", \"### Loading in the Stars and Planets:\")[0]+1, end=find_all_cell_indices(nb, \"code\", \"grader.check('general_deductions')\")[-1])\n",
    "\n",
    "results[rubric_item] = {}\n",
    "results[rubric_item]['general_deductions'] = 'All test cases passed!'\n",
    "\n",
    "found_imports = detect_imports(nb)\n",
    "if found_imports != []:\n",
    "    results[rubric_item]['general_deductions'] = \"found unexpected import(s):\" + repr(found_imports)\n",
    "    comments[rubric_item] = results[rubric_item]['general_deductions']"
   ]
  },
  {
   "cell_type": "raw",
   "id": "a899d3cf",
   "metadata": {},
   "source": [
    "# END general_deductions: Import statements are not mentioned in the required cell at the top of the notebook."
   ]
  }
 ],
 "metadata": {
  "kernelspec": {
   "display_name": "Python 3 (ipykernel)",
   "language": "python",
   "name": "python3"
  },
  "language_info": {
   "codemirror_mode": {
    "name": "ipython",
    "version": 3
   },
   "file_extension": ".py",
   "mimetype": "text/x-python",
   "name": "python",
   "nbconvert_exporter": "python",
   "pygments_lexer": "ipython3",
   "version": "3.11.4"
  }
 },
 "nbformat": 4,
 "nbformat_minor": 5
}
