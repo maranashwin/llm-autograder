{
 "cells": [
  {
   "cell_type": "code",
   "execution_count": 1,
   "id": "43c11f90",
   "metadata": {},
   "outputs": [],
   "source": [
    "import math\n",
    "import requests, shutil\n",
    "import os\n",
    "import re\n",
    "import csv\n",
    "import nbformat\n",
    "import base64\n",
    "from PIL import Image\n",
    "from nbformat.v4 import new_markdown_cell"
   ]
  },
  {
   "cell_type": "code",
   "execution_count": 2,
   "id": "8db700b7",
   "metadata": {},
   "outputs": [
    {
     "data": {
      "text/plain": [
       "350"
      ]
     },
     "execution_count": 2,
     "metadata": {},
     "output_type": "execute_result"
    }
   ],
   "source": [
    "with open(os.path.join(\"..\",\"p11.ipynb\"), encoding=\"utf-8\") as f:\n",
    "    nb = nbformat.read(f, as_version=4)\n",
    "\n",
    "len(nb[\"cells\"])"
   ]
  },
  {
   "cell_type": "code",
   "execution_count": 3,
   "id": "d52a8ba3",
   "metadata": {},
   "outputs": [],
   "source": [
    "plots = {}\n",
    "qnum = None\n",
    "for cell in nb[\"cells\"]:\n",
    "    if cell['cell_type'] == \"raw\":\n",
    "        if '# BEGIN QUESTION' in cell['source']:\n",
    "            qnum = cell['source'].split(\"\\n\")[1].split('name:')[1].strip()\n",
    "        if '# END QUESTION' in cell['source']:\n",
    "            qnum = None\n",
    "            \n",
    "    if cell['cell_type'] == \"code\" and qnum != None:\n",
    "        if len(cell['outputs']) == 0:\n",
    "            continue\n",
    "        for output in cell['outputs']:\n",
    "            if 'data' not in output:\n",
    "                continue\n",
    "            if 'image/png' not in output['data']:\n",
    "                continue\n",
    "            plots[qnum] = output['data']['image/png']\n",
    "list(plots.keys())"
   ]
  },
  {
   "cell_type": "code",
   "execution_count": 4,
   "id": "ac05a546",
   "metadata": {},
   "outputs": [],
   "source": [
    "if \"images\" not in os.listdir(\"..\"):\n",
    "    os.mkdir(os.path.join(\"..\", \"images\"))\n",
    "for plot in plots:\n",
    "    f = open(os.path.join(\"..\", \"images\", plot+\".jpg\"), 'wb')\n",
    "    f.write(base64.decodebytes(bytes(plots[plot], 'utf-8')))\n",
    "    f.close()"
   ]
  },
  {
   "cell_type": "code",
   "execution_count": 5,
   "id": "ebd4099c",
   "metadata": {},
   "outputs": [],
   "source": [
    "qnum = None\n",
    "for idx in range(len(nb['cells'])):\n",
    "    cell = nb['cells'][idx]\n",
    "    if cell['cell_type'] == \"raw\":\n",
    "        if '# BEGIN QUESTION' in cell['source']:\n",
    "            qnum = cell['source'].split(\"\\n\")[1].split('name:')[1].strip(\" -\")\n",
    "        if '# END QUESTION' in cell['source']:\n",
    "            qnum = None\n",
    "    \n",
    "    if qnum == None:\n",
    "        continue\n",
    "    if cell['cell_type'] == \"markdown\" and cell['source'].lower().strip(\" \\n\").endswith('your plot should look like this:'):\n",
    "        \n",
    "        markdown_text = '<div style=\"text-align: center;\"><img src=\"attachment:%s.jpg\" style=\"height: 400px;\"/></div>' % (qnum)\n",
    "        markdown_text += \"\\n\\n<center> <b>Delete</b> this cell before you submit the notebook to reduce the size of your file.</center>\"\n",
    "        img_cell = new_markdown_cell(markdown_text)\n",
    "        img_cell['attachments'] = {}\n",
    "        img_cell['attachments']['%s.jpg' % (qnum)] = {}\n",
    "        img_cell['attachments']['%s.jpg' % (qnum)]['image/jpeg'] = plots[qnum]\n",
    "        if \"attachments\" not in nb['cells'][idx+1]:\n",
    "            nb['cells'].insert(idx+1, img_cell)\n",
    "        else:\n",
    "            nb['cells'][idx+1] = img_cell\n",
    "    \n",
    "with open(os.path.join(\"..\", \"p11.ipynb\"), 'w', encoding='utf-8') as f:\n",
    "    nbformat.write(nb, f)"
   ]
  }
 ],
 "metadata": {
  "kernelspec": {
   "display_name": "Python 3 (ipykernel)",
   "language": "python",
   "name": "python3"
  },
  "language_info": {
   "codemirror_mode": {
    "name": "ipython",
    "version": 3
   },
   "file_extension": ".py",
   "mimetype": "text/x-python",
   "name": "python",
   "nbconvert_exporter": "python",
   "pygments_lexer": "ipython3",
   "version": "3.11.7"
  }
 },
 "nbformat": 4,
 "nbformat_minor": 5
}
