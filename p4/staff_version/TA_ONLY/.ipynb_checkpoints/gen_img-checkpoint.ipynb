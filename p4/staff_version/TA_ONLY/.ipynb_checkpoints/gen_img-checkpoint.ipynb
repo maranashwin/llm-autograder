{
 "cells": [
  {
   "cell_type": "code",
   "execution_count": 1,
   "id": "43c11f90",
   "metadata": {},
   "outputs": [
    {
     "name": "stdout",
     "output_type": "stream",
     "text": [
      "pygame 2.5.1 (SDL 2.28.2, Python 3.11.4)\n",
      "Hello from the pygame community. https://www.pygame.org/contribute.html\n"
     ]
    }
   ],
   "source": [
    "import math\n",
    "import requests, shutil\n",
    "import os\n",
    "import pygame\n",
    "import re\n",
    "import csv\n",
    "import nbformat\n",
    "import base64\n",
    "from PIL import Image\n",
    "from nbformat.v4 import new_markdown_cell"
   ]
  },
  {
   "cell_type": "code",
   "execution_count": 2,
   "id": "8db700b7",
   "metadata": {},
   "outputs": [
    {
     "data": {
      "text/plain": [
       "415"
      ]
     },
     "execution_count": 2,
     "metadata": {},
     "output_type": "execute_result"
    }
   ],
   "source": [
    "with open(os.path.join(\"..\",\"p4.ipynb\"), encoding=\"utf-8\") as f:\n",
    "    nb = nbformat.read(f, as_version=4)\n",
    "\n",
    "cells = nb[\"cells\"]\n",
    "len(cells)"
   ]
  },
  {
   "cell_type": "code",
   "execution_count": 3,
   "id": "38329793",
   "metadata": {},
   "outputs": [
    {
     "data": {
      "text/plain": [
       "693"
      ]
     },
     "execution_count": 3,
     "metadata": {},
     "output_type": "execute_result"
    }
   ],
   "source": [
    "words_in_nb = set()\n",
    "for cell in cells:\n",
    "    if cell['cell_type'] == 'markdown':\n",
    "        text = re.sub('\\W+\\s*', ' ', cell['source'])\n",
    "        words_in_nb = words_in_nb | set(text.split())\n",
    "        \n",
    "len(words_in_nb)"
   ]
  },
  {
   "cell_type": "code",
   "execution_count": null,
   "id": "fcd9bd6f",
   "metadata": {},
   "outputs": [],
   "source": [
    "all_pkmn = set()\n",
    "f = open(os.path.join(\"..\", \"pokemon_stats.csv\"), encoding=\"utf-8\")\n",
    "data = list(csv.reader(f))\n",
    "f.close()\n",
    "for row in data[1:]:\n",
    "    all_pkmn.add(row[1].lower())\n",
    "    \n",
    "len(all_pkmn)"
   ]
  },
  {
   "cell_type": "code",
   "execution_count": null,
   "id": "c6476ace",
   "metadata": {},
   "outputs": [],
   "source": [
    "pokemon = []\n",
    "for word in words_in_nb:\n",
    "    if word.lower() in all_pkmn:\n",
    "        pokemon.append(word)\n",
    "\n",
    "pokemon.sort()\n",
    "len(pokemon)"
   ]
  },
  {
   "cell_type": "code",
   "execution_count": null,
   "id": "ddd7ca16",
   "metadata": {},
   "outputs": [],
   "source": [
    "pygame.init()"
   ]
  },
  {
   "cell_type": "code",
   "execution_count": null,
   "id": "3a0e29a6",
   "metadata": {},
   "outputs": [],
   "source": [
    "NUM_IN_ROW = 7\n",
    "y_scale = 360\n",
    "x_scale = 0"
   ]
  },
  {
   "cell_type": "code",
   "execution_count": null,
   "id": "ac05a546",
   "metadata": {},
   "outputs": [],
   "source": [
    "if \"images\" not in os.listdir():\n",
    "    os.mkdir(\"images\")"
   ]
  },
  {
   "cell_type": "code",
   "execution_count": null,
   "id": "29f8accd",
   "metadata": {},
   "outputs": [],
   "source": [
    "url_start = \"https://img.pokemondb.net/artwork/large/\"\n",
    "for pkmn in pokemon:\n",
    "    filename = \"images/\" + pkmn + \".jpg\"\n",
    "    if pkmn + \".jpg\" not in os.listdir(\"images\"):\n",
    "        re = requests.get(url_start + pkmn.lower() + \".jpg\", stream=True)\n",
    "        re.raise_for_status()\n",
    "        with open(filename,'wb') as f:\n",
    "            shutil.copyfileobj(re.raw, f)"
   ]
  },
  {
   "cell_type": "code",
   "execution_count": null,
   "id": "270f1f10",
   "metadata": {},
   "outputs": [],
   "source": [
    "pkmn_images = []\n",
    "pkmn_sizes = []\n",
    "\n",
    "for pkmn in pokemon:  \n",
    "    pkmn_img = pygame.image.load(\"images/\" + pkmn + '.jpg')\n",
    "    width, height = pkmn_img.get_width(), pkmn_img.get_height()\n",
    "    new_x = math.ceil(width*y_scale/height)\n",
    "    x_scale = max(x_scale, new_x)\n",
    "    pkmn_images.append(pygame.transform.scale(pkmn_img, (new_x, y_scale)))\n",
    "    pkmn_sizes.append((new_x, y_scale))\n",
    "    \n",
    "X = math.ceil(x_scale * 1.1) * min(NUM_IN_ROW, len(pokemon))\n",
    "Y = math.ceil(y_scale * 1.4) * math.ceil(len(pokemon)/NUM_IN_ROW)"
   ]
  },
  {
   "cell_type": "code",
   "execution_count": null,
   "id": "f6748ab1",
   "metadata": {},
   "outputs": [],
   "source": [
    "pygame.font.init() \n",
    "myfont = pygame.font.SysFont('Cooper', 72)\n",
    "\n",
    "pkmn_names = []\n",
    "name_sizes = []\n",
    "\n",
    "for pkmn in pokemon:\n",
    "    namesurface = myfont.render(pkmn, False, (0, 0, 0))\n",
    "    width, height = namesurface.get_width(), namesurface.get_height()\n",
    "    pkmn_names.append(namesurface)\n",
    "    name_sizes.append((width, height))"
   ]
  },
  {
   "cell_type": "code",
   "execution_count": null,
   "id": "cad32ee7",
   "metadata": {},
   "outputs": [],
   "source": [
    "pkmn_locs = []\n",
    "font_locs = []\n",
    "\n",
    "for i in range(len(pkmn_images)):\n",
    "    size = pkmn_sizes[i]\n",
    "    font_size = name_sizes[i]\n",
    "    x = math.ceil(x_scale * 1.1) * (i % NUM_IN_ROW) + math.ceil(x_scale * 1.1 - size[0])//2\n",
    "    y = math.ceil(y_scale * 1.4) * (i // NUM_IN_ROW) + math.ceil(y_scale * 0.1)\n",
    "    font_x = math.ceil(x_scale * 1.1) * (i % NUM_IN_ROW) + math.ceil(x_scale * 1.1 - font_size[0])//2\n",
    "    font_y = y + math.ceil(y_scale * 1.05)\n",
    "    pkmn_locs.append((x, y))\n",
    "    font_locs.append((font_x, font_y))"
   ]
  },
  {
   "cell_type": "code",
   "execution_count": null,
   "id": "f7b5021e",
   "metadata": {},
   "outputs": [],
   "source": [
    "display_surface = pygame.display.set_mode((X, Y))\n",
    "pygame.display.set_caption('Pokemon')\n",
    "\n",
    "THIN_LINE_COLOR = (200,200,200)\n",
    "THICK_LINE_COLOR = (150, 150, 150)\n",
    "\n",
    "run = True\n",
    "while run:\n",
    "    display_surface.fill((255, 255, 255))\n",
    "    for i in range(len(pkmn_images)):\n",
    "        img = pkmn_images[i]\n",
    "        font_img = pkmn_names[i]\n",
    "        x, y = pkmn_locs[i]\n",
    "        font_x, font_y = font_locs[i]\n",
    "        display_surface.blit(img, (x, y))\n",
    "        display_surface.blit(font_img, (font_x, font_y))\n",
    "        \n",
    "    for i in range(1, NUM_IN_ROW):\n",
    "        x = math.ceil(x_scale * 1.1) * i\n",
    "        pygame.draw.line(display_surface, THIN_LINE_COLOR, (x,0), (x, Y), 5)\n",
    "        \n",
    "    for j in range(1, math.ceil(len(pokemon)/NUM_IN_ROW)):\n",
    "        y = math.ceil(y_scale * 1.4) * j\n",
    "        pygame.draw.line(display_surface, THIN_LINE_COLOR, (0,y), (X, y), 5)\n",
    "    \n",
    "    pygame.draw.line(display_surface, THICK_LINE_COLOR, (9,0), (9, Y), 20)\n",
    "    pygame.draw.line(display_surface, THICK_LINE_COLOR, (X-10,0), (X-10, Y), 20)\n",
    "    pygame.draw.line(display_surface, THICK_LINE_COLOR, (0,9), (X, 9), 20)\n",
    "    pygame.draw.line(display_surface, THICK_LINE_COLOR, (0,Y-10), (X, Y-10), 20)\n",
    "    \n",
    "    pygame.image.save(display_surface, \"raw_pokemon.jpg\")\n",
    "    \n",
    "    pygame.quit()\n",
    "    run = False"
   ]
  },
  {
   "cell_type": "code",
   "execution_count": null,
   "id": "b4c9e247",
   "metadata": {},
   "outputs": [],
   "source": [
    "picture = Image.open(\"raw_pokemon.jpg\")\n",
    "picture.save(os.path.join(\"..\", \"images\", \"pokemon.jpg\"), \"JPEG\", optimize = True, quality = 10)"
   ]
  },
  {
   "cell_type": "code",
   "execution_count": null,
   "id": "9c1455ae",
   "metadata": {},
   "outputs": [],
   "source": [
    "shutil.rmtree(\"images\")\n",
    "os.remove(\"raw_pokemon.jpg\")"
   ]
  },
  {
   "cell_type": "code",
   "execution_count": null,
   "id": "5bc49aa7",
   "metadata": {},
   "outputs": [],
   "source": [
    "def get_base64_encoded_image(image_path):\n",
    "    with open(image_path, \"rb\") as img_file:\n",
    "        return base64.b64encode(img_file.read()).decode('utf-8')\n",
    "    \n",
    "image_data = get_base64_encoded_image(os.path.join(\"..\", \"images\", \"pokemon.jpg\"))"
   ]
  },
  {
   "cell_type": "code",
   "execution_count": null,
   "id": "5aff0a13",
   "metadata": {},
   "outputs": [],
   "source": [
    "for idx in range(len(nb['cells'])):\n",
    "    cell = nb['cells'][idx]\n",
    "    if cell['cell_type'] == \"markdown\" and \"let us take a look at the Pokemon we will be dealing with in this project\" in cell['source']:\n",
    "        break\n",
    "\n",
    "img_cell = new_markdown_cell('![pokemon.jpg](attachment:pokemon.jpg)')\n",
    "img_cell['attachments'] = {}\n",
    "img_cell['attachments']['pokemon.jpg'] = {}\n",
    "img_cell['attachments']['pokemon.jpg']['image/jpeg'] = image_data\n",
    "if \"attachments\" not in nb['cells'][idx+1]:\n",
    "    nb['cells'].insert(idx+1, img_cell)\n",
    "else:\n",
    "    nb['cells'][idx+1] = img_cell\n",
    "    \n",
    "with open(os.path.join(\"..\", \"p4.ipynb\"), 'w', encoding='utf-8') as f:\n",
    "    nbformat.write(nb, f)"
   ]
  },
  {
   "cell_type": "code",
   "execution_count": null,
   "id": "fe5e0d83",
   "metadata": {},
   "outputs": [],
   "source": []
  }
 ],
 "metadata": {
  "kernelspec": {
   "display_name": "Python 3 (ipykernel)",
   "language": "python",
   "name": "python3"
  },
  "language_info": {
   "codemirror_mode": {
    "name": "ipython",
    "version": 3
   },
   "file_extension": ".py",
   "mimetype": "text/x-python",
   "name": "python",
   "nbconvert_exporter": "python",
   "pygments_lexer": "ipython3",
   "version": "3.11.4"
  }
 },
 "nbformat": 4,
 "nbformat_minor": 5
}
