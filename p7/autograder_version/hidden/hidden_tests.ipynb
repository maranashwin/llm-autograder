{
 "cells": [
  {
   "cell_type": "markdown",
   "id": "0b1b2de0",
   "metadata": {},
   "source": [
    "\n",
    "# Hidden Tests\n",
    "\n",
    "In this file, the hidden tests for all the rubric points are to be described. The tests for the individual rubric points are enclosed within `# BEGIN <rubric_point>` and `# END <rubric_point>` NBConvert cells. `hidden_tests.py` works by executing the contents of those cells between those two tags for each `<rubric_point>`. In order to initialize variables, `hidden_tests.py` also executes all code within `BEGIN` and `END` tags that appear before the `original` test.\n",
    "\n",
    "Code that is not enclosed within `BEGIN` and `END` tags are not executed by `hidden_tests.py`. They are used for generating the hidden datasets."
   ]
  },
  {
   "cell_type": "code",
   "execution_count": 1,
   "id": "4e8dd714",
   "metadata": {},
   "outputs": [],
   "source": [
    "from hidden_tests import *\n",
    "import otter_tests.gen_public_tests as gen_public_tests\n",
    "import os, csv, json, copy, shutil\n",
    "import random\n",
    "import numpy as np"
   ]
  },
  {
   "cell_type": "code",
   "execution_count": 2,
   "id": "ef81058a",
   "metadata": {},
   "outputs": [],
   "source": [
    "DIRECTORY = '..'\n",
    "FILE = 'p7.ipynb'"
   ]
  },
  {
   "cell_type": "code",
   "execution_count": 3,
   "id": "2f614845",
   "metadata": {},
   "outputs": [],
   "source": [
    "results = {}"
   ]
  },
  {
   "cell_type": "code",
   "execution_count": 4,
   "id": "a4b15ab7",
   "metadata": {},
   "outputs": [],
   "source": [
    "deductions = {}\n",
    "rubric = parse_rubric_file(os.path.join(DIRECTORY, \"rubric.md\"))\n",
    "directories = get_directories(rubric)\n",
    "comments = get_all_comments(directories)"
   ]
  },
  {
   "cell_type": "code",
   "execution_count": 5,
   "id": "efe76361",
   "metadata": {},
   "outputs": [],
   "source": [
    "def write_readme(data, write_path):\n",
    "    \"\"\"write_readme(data, write_path) writes the contents of `data` into the README.txt file `write_path`\"\"\"\n",
    "    f = open(write_path, encoding='utf-8')\n",
    "    rubric_point = f.read().split(\"\\n\")[0].strip(\" \\n\")\n",
    "    f.close()\n",
    "    \n",
    "    f = open(write_path, 'w', encoding='utf-8')\n",
    "    f.write(rubric_point + \"\\n\\n\" + data)\n",
    "    f.close()"
   ]
  },
  {
   "cell_type": "markdown",
   "id": "00eb6362",
   "metadata": {},
   "source": [
    "## Variables\n",
    "\n",
    "Useful variables that are used by many rubric tests can be stored here. The contents of this tag will be executed before each rubric test, so these variables get initialized before each rubric test."
   ]
  },
  {
   "cell_type": "raw",
   "id": "c9d7477c",
   "metadata": {},
   "source": [
    "# BEGIN variables"
   ]
  },
  {
   "cell_type": "markdown",
   "id": "86eafaee",
   "metadata": {},
   "source": [
    "`verify_fn_defn` defines the function `verify_fn` which is used for verifying if the function `expected` and `actual` have the same outputs for all permutations of inputs from `var_lists`."
   ]
  },
  {
   "cell_type": "code",
   "execution_count": 6,
   "id": "475a0f6a",
   "metadata": {},
   "outputs": [],
   "source": [
    "verify_fn_defn = \"\"\"\n",
    "def verify_fn(expected, actual, var_inputs, test_format):\n",
    "    for var in var_inputs:\n",
    "        try:\n",
    "            actual_val = actual(*var)\n",
    "        except Exception as e:\n",
    "            output = \"%s results: \" % actual.__name__\n",
    "            output += \"%s error enountered on %s%s\" % (type(e).__name__, actual.__name__, repr(var))\n",
    "            return output\n",
    "        expected_val = expected(*var)\n",
    "        check = public_tests.compare(expected_val, actual_val, test_format)\n",
    "        if check != public_tests.PASS:\n",
    "            output = \"%s results: \" % actual.__name__\n",
    "            output += \"%s%s output: %s\" % (actual.__name__, repr(var), check)\n",
    "            return output\n",
    "    return \"%s results: All test cases passed!\" % actual.__name__\"\"\""
   ]
  },
  {
   "cell_type": "markdown",
   "id": "f689911b",
   "metadata": {},
   "source": [
    "`function_dependencies_functions` stores the previously defined functions that each function definition invokes. This variable is used for rubric points that the logical correctness of functions as well as those that check whether a required function is used. For these rubric points, when we test a particular function, we use `function_dependencies_functions` to ensure that all the functions that it depends on are replaced with logically correct versions. This helps isolate the issue with the functions."
   ]
  },
  {
   "cell_type": "code",
   "execution_count": 7,
   "id": "307ebda4",
   "metadata": {},
   "outputs": [],
   "source": [
    "function_dependencies_functions = {}\n",
    "function_dependencies_functions['format_euros'] = []\n",
    "function_dependencies_functions['cell'] = ['format_euros']\n",
    "function_dependencies_functions['average_stat_by_position'] = ['cell', 'format_euros']\n",
    "function_dependencies_functions['best_player_of_team_at_position'] = ['cell', 'format_euros']\n",
    "function_dependencies_functions['best_starting_players_of'] = ['best_player_of_team_at_position', 'cell', 'format_euros']"
   ]
  },
  {
   "cell_type": "markdown",
   "id": "7153663c",
   "metadata": {},
   "source": [
    "`function_dependencies_data_structures` stores the previously defined data structures that each function definition invokes. This variable is used for rubric points that the logical correctness of functions as well as those that check whether a required function is used. For these rubric points, when we test a particular function, we use `function_dependencies_data_structures` to ensure that all the data structures that it depends on are replaced with logically correct versions. This helps isolate the issue with the functions."
   ]
  },
  {
   "cell_type": "code",
   "execution_count": 8,
   "id": "935aaa01",
   "metadata": {},
   "outputs": [],
   "source": [
    "function_dependencies_data_structures = {}\n",
    "function_dependencies_data_structures['format_euros'] = []\n",
    "function_dependencies_data_structures['cell'] = []\n",
    "function_dependencies_data_structures['average_stat_by_position'] = ['players']\n",
    "function_dependencies_data_structures['best_player_of_team_at_position'] = ['players']\n",
    "function_dependencies_data_structures['best_starting_players_of'] = ['players']"
   ]
  },
  {
   "cell_type": "markdown",
   "id": "d5bed966",
   "metadata": {},
   "source": [
    "`data_structure_dependencies_functions` stores the previously defined functions that each data structure definition invokes. This variable is used for rubric points that the logical correctness of functions as well as those that check whether a required data structure is used. For these rubric points, when we test a particular data structure, we use `data_structure_dependencies_functions` to ensure that all the functions that it depends on are replaced with logically correct versions. This helps isolate the issue with the data structures."
   ]
  },
  {
   "cell_type": "code",
   "execution_count": 9,
   "id": "2e015b9b",
   "metadata": {},
   "outputs": [],
   "source": [
    "data_structure_dependencies_functions = {}\n",
    "data_structure_dependencies_functions['players'] = ['cell', 'format_euros']"
   ]
  },
  {
   "cell_type": "markdown",
   "id": "c61bdf98",
   "metadata": {},
   "source": [
    "`data_structure_dependencies_data_structures` stores the previously defined data structures that each data structure definition accesses. This variable is used for rubric points that the logical correctness of data structures as well as those that check whether a required data structure is used. For these rubric points, when we test a particular data structure, we use `data_structure_dependencies_data_structures` to ensure that all the data structures that it depends on are replaced with logically correct versions. This helps isolate the issue with the data structures."
   ]
  },
  {
   "cell_type": "code",
   "execution_count": 10,
   "id": "3db1a4df",
   "metadata": {},
   "outputs": [],
   "source": [
    "data_structure_dependencies_data_structures = {}\n",
    "data_structure_dependencies_data_structures['players'] = [] "
   ]
  },
  {
   "cell_type": "raw",
   "id": "9fc84609",
   "metadata": {},
   "source": [
    "# END variables"
   ]
  },
  {
   "cell_type": "markdown",
   "id": "3bc9aa19",
   "metadata": {},
   "source": [
    "## Functions\n",
    "\n",
    "Useful functions that are used by many rubric tests can be stored here. The contents of this tag will be executed before each rubric test, so these function definitions get initialized before each rubric test."
   ]
  },
  {
   "cell_type": "raw",
   "id": "94d33069",
   "metadata": {},
   "source": [
    "# BEGIN functions"
   ]
  },
  {
   "cell_type": "markdown",
   "id": "cfdc1d3f",
   "metadata": {},
   "source": [
    "`replace_with_false_function` replaces the given `function` with the **false version** of the function, and also replaces all **dependent** functions and data structures with their **true versions**."
   ]
  },
  {
   "cell_type": "code",
   "execution_count": 11,
   "id": "a16ad9d6",
   "metadata": {},
   "outputs": [],
   "source": [
    "def replace_with_false_function(nb, function, false_function):\n",
    "    nb = replace_defn(nb, function, false_function)\n",
    "    \n",
    "    for dependent in function_dependencies_functions.get(function, []):\n",
    "        nb = replace_defn(nb, dependent, true_functions[dependent])\n",
    "    for dependent in function_dependencies_data_structures.get(function, []):\n",
    "        idx = find_all_cell_indices(nb, \"code\", \"grader.check('%s')\" % (dependent))[-1]\n",
    "        if idx == None:\n",
    "            idx = find_all_cell_indices(nb, \"markdown\", \"**Question 1:**\")[-1]\n",
    "        nb = inject_code(nb, idx, true_data_structures[dependent])\n",
    "        nb = remove_initializations(nb, dependent, start=idx+1)\n",
    "    return nb"
   ]
  },
  {
   "cell_type": "markdown",
   "id": "0e6ae4bd",
   "metadata": {},
   "source": [
    "`replace_with_false_data_structure` replaces the given `data_structure` with the **false** version of the data structure, and also replaces all **dependent** functions and data structures with their **true versions**."
   ]
  },
  {
   "cell_type": "code",
   "execution_count": 12,
   "id": "dc6f4937",
   "metadata": {},
   "outputs": [],
   "source": [
    "def replace_with_false_data_structure(nb, data_structure, false_data_structure):\n",
    "    idx = find_all_cell_indices(nb, \"code\", \"grader.check('%s')\" % (data_structure))[-1]\n",
    "    if idx == None:\n",
    "        idx = find_all_cell_indices(nb, \"markdown\", \"**Question 1:**\")[-1]\n",
    "    nb = inject_code(nb, idx, false_data_structure)\n",
    "    nb = remove_initializations(nb, data_structure, start=idx+1)\n",
    "    \n",
    "    for dependent in data_structure_dependencies_functions.get(data_structure, []):\n",
    "        nb = replace_defn(nb, dependent, true_functions[dependent])\n",
    "    for dependent in data_structure_dependencies_data_structures.get(data_structure, []):\n",
    "        idx = find_all_cell_indices(nb, \"code\", \"grader.check('%s')\" % (dependent))[-1]\n",
    "        if idx == None:\n",
    "            idx = find_all_cell_indices(nb, \"markdown\", \"**Question 1:**\")[-1]\n",
    "        nb = inject_code(nb, idx, true_data_structures[dependent])\n",
    "        nb = remove_initializations(nb, dependent, start=idx+1)\n",
    "    return nb"
   ]
  },
  {
   "cell_type": "markdown",
   "id": "21b8aa45",
   "metadata": {},
   "source": [
    "`get_test_text` returns test code that can be readily injected into the notebook. The input should be some code that updates the variable `test_output` and sets its value to be `\"All test cases passed!\"` when the conditions for passing the rubric test are met. This function will place this code inside a wrapper than ensures that it does not crash the student notebook during execution and also makes the output parsable."
   ]
  },
  {
   "cell_type": "code",
   "execution_count": 13,
   "id": "4b561fc6",
   "metadata": {},
   "outputs": [],
   "source": [
    "def get_test_text(qnum, test_code):\n",
    "    test_text = \"\\\"\\\"\\\"grader.check('%s')\\\"\\\"\\\"\\n\\n\" % (qnum)\n",
    "    test_text += \"test_output = '%s results: Test crashed!'\\n\" % (qnum)\n",
    "    test_text += add_try_except(test_code)\n",
    "    test_text += \"\\nprint(test_output)\"\n",
    "    return test_text"
   ]
  },
  {
   "cell_type": "markdown",
   "id": "0ba932dd",
   "metadata": {},
   "source": [
    "`inject_function_logic_check` injects code into the `nb` that detects whether `function` outputs the same as the **true version** of that function (all dependent functions and data structures are also replaced with their **true versions**) on all combinations of inputs from `var_lists`. The comparison between the outputs is performed assuming that the format of the answers is `test_format`."
   ]
  },
  {
   "cell_type": "code",
   "execution_count": 14,
   "id": "a0529145",
   "metadata": {},
   "outputs": [],
   "source": [
    "def inject_function_logic_check(nb, function, var_inputs_code, test_format=\"TEXT_FORMAT\"):\n",
    "    for dependent in function_dependencies_functions.get(function, []):\n",
    "        nb = replace_defn(nb, dependent, true_functions[dependent])\n",
    "    for dependent in function_dependencies_data_structures.get(function, []):\n",
    "        idx = find_all_cell_indices(nb, \"code\", \"grader.check('%s')\" % (dependent))[-1]\n",
    "        if idx == None:\n",
    "            idx = find_all_cell_indices(nb, \"markdown\", \"**Question 1:**\")[-1]\n",
    "        nb = inject_code(nb, idx, true_data_structures[dependent])\n",
    "        nb = remove_initializations(nb, dependent, start=idx+1)\n",
    "        \n",
    "    code = replace_call(true_functions[function], function, \"true_\"+function)\n",
    "    code += \"\\n\\n\" + verify_fn_defn\n",
    "    nb = inject_code(nb, len(nb['cells']), code)\n",
    "    test_code = var_inputs_code + \"\\n\"\n",
    "    test_code += \"test_output = verify_fn(true_%s, %s, var_inputs, '%s')\" % (function, function, test_format)\n",
    "    code = get_test_text(function, test_code)\n",
    "    nb = inject_code(nb, len(nb['cells']), code)\n",
    "    return nb"
   ]
  },
  {
   "cell_type": "markdown",
   "id": "dbc43cf8",
   "metadata": {},
   "source": [
    "`inject_data_structure_check` injects code into the `nb` that detects whether `data_structure` has the same value as the **true version** of that data structure (all dependent functions and data structures are also replaced with their **true versions**). The comparison between the outputs is performed assuming that the format of the answers is `test_format`."
   ]
  },
  {
   "cell_type": "code",
   "execution_count": 15,
   "id": "a17b0fb8",
   "metadata": {},
   "outputs": [],
   "source": [
    "def inject_data_structure_check(nb, data_structure, test_format=\"TEXT_FORMAT\"):\n",
    "    for dependent in data_structure_dependencies_functions.get(data_structure, []):\n",
    "        nb = replace_defn(nb, dependent, true_functions[dependent])\n",
    "    for dependent in data_structure_dependencies_data_structures.get(data_structure, []):\n",
    "        idx = find_all_cell_indices(nb, \"code\", \"grader.check('%s')\" % (dependent))[-1]\n",
    "        if idx == None:\n",
    "            idx = find_all_cell_indices(nb, \"markdown\", \"**Question 1:**\")[-1]\n",
    "        nb = inject_code(nb, idx, true_data_structures[dependent])\n",
    "        nb = remove_initializations(nb, dependent, start=idx+1)\n",
    "        \n",
    "    code = \"import copy\\n%s = copy.deepcopy(%s)\\n\\n\" % (data_structure, data_structure)\n",
    "    code += replace_variable(true_data_structures[data_structure], data_structure, \"true_\"+data_structure)\n",
    "    nb = inject_code(nb, len(nb['cells']), code)\n",
    "    \n",
    "    test_code = \"test_output = '%s results: '\" % (data_structure)\n",
    "    test_code += \"+ public_tests.compare(true_%s, %s, '%s')\" % (data_structure, data_structure, test_format)\n",
    "    code = get_test_text(data_structure, test_code)\n",
    "    nb = inject_code(nb, len(nb['cells']), code)\n",
    "    return nb"
   ]
  },
  {
   "cell_type": "raw",
   "id": "9952fe4c",
   "metadata": {},
   "source": [
    "# END functions"
   ]
  },
  {
   "cell_type": "markdown",
   "id": "95789537",
   "metadata": {},
   "source": [
    "## Random Data Generation\n",
    "\n",
    "Here, functions are defined that can generate **random** data that is in the correct format.\n",
    "\n",
    "**Warning:** This is the most complex function in the file, and is likely to have some bugs in it. So, **verify** this function **carefully**. The following **requirements** for this function **will not** be met by the function generated by GPT, it is **your responsibility** to modify the function so as to meet these requirements. Otherwise, the datasets are unlikely to produce interesting outputs for the project questions.\n",
    "* The `ID` *158023* must appear in the dataset.\n",
    "* There must be a **unique** highest `Value` in the dataset.\n",
    "* There must be a **unique** highest `Wage` in the dataset.\n",
    "* The `League` *Premier League (England)* must appear in the dataset.\n",
    "* The `Team` *Manchester United* must appear in the dataset, and it must have a unique best player at `Position` *CDM*.\n",
    "* The `Team` *Liverpool* must appear in the dataset, and it must have a unique best player at `Position` *RW*.\n",
    "* The `Team` *Paris Saint Germain* must appear in the dataset.\n",
    "* The `Team` *FC Bayern München* must appear in the dataset.\n",
    "* The `Team` *FC Barcelona* must appear in the dataset."
   ]
  },
  {
   "cell_type": "code",
   "execution_count": 16,
   "id": "6beec789",
   "metadata": {},
   "outputs": [],
   "source": [
    "import csv\n",
    "import os\n",
    "import random\n",
    "from faker import Faker\n",
    "from itertools import product\n",
    "\n",
    "def random_data(directory, n=1000):\n",
    "    faker = Faker()\n",
    "    csv_filename = 'soccer_stars.csv'\n",
    "    csv_path = os.path.join(directory, csv_filename)\n",
    "    \n",
    "    # Ensure that the IDs are unique\n",
    "    IDs = list(set([random.randint(10, 1000000) for i in range(2*n)]))[:n]\n",
    "    \n",
    "    # Add required ID to list of IDs somewhere\n",
    "    IDs[random.randint(1, n-1)] = 158023\n",
    "    \n",
    "    # Create some fake names in the correct format\n",
    "    names = []\n",
    "    for i in range(n):\n",
    "        name_choice = random.randint(1, 10)\n",
    "        if name_choice == 10:\n",
    "            name = faker.last_name()\n",
    "        elif name_choice == 9:\n",
    "            name = faker.first_name_male() + \" \" + faker.last_name()\n",
    "        elif name_choice == 8:\n",
    "            name = faker.first_name_male() + ' Jr.'\n",
    "        else:\n",
    "            name = faker.first_name_male()[0] + \". \" + faker.last_name()\n",
    "        names.append(name)\n",
    "        \n",
    "    # Create some fake nations\n",
    "    nations = list(set([faker.country() for i in range(2*(n//100 + 1))]))[:n//100+1]\n",
    "    \n",
    "    # Create some fake teams\n",
    "    teams = list(set([faker.company() for i in range(2*(n//20 + 1))]))[:n//20+1]\n",
    "    \n",
    "    # Ensure that required teams appear in the dataset\n",
    "    req_teams = ['Manchester United', 'Liverpool', 'Paris Saint Germain', 'FC Bayern München', 'FC Barcelona']\n",
    "    for i in range(len(req_teams)):\n",
    "        teams[i] = req_teams[i]\n",
    "    random.shuffle(teams)\n",
    "    \n",
    "    # Create some fake leagues\n",
    "    leagues = []\n",
    "    for i in range(n//100):\n",
    "        league_name = faker.company()\n",
    "        country = random.choice(nations[:n//10+1])\n",
    "        leagues.append(f\"{league_name} ({country})\")\n",
    "        \n",
    "    # Ensure that each team belongs to some league\n",
    "    team_to_league = {}\n",
    "    for team in teams:\n",
    "        team_to_league[team] = random.choice(leagues)\n",
    "        \n",
    "    # Ensure that `Premier League (England)` appears as a league in the dataset\n",
    "    for i in range(min(20, n//50+1)):\n",
    "        team_to_league[teams[random.randint(0, len(teams)-1)]] = \"Premier League (England)\"\n",
    "        \n",
    "    # Create a list of values within the correct range\n",
    "    raw_values = []\n",
    "    for i in range(n):\n",
    "        value_choice = random.randint(1, 10)\n",
    "        if value_choice == 10:\n",
    "            raw_values.append(random.randint(0, 3)*250)\n",
    "        elif value_choice in [9, 8]:\n",
    "            raw_values.append(random.randint(10**6, 10**7))\n",
    "        elif value_choice == 7:\n",
    "            raw_values.append(random.randint(10**7, 2*10**8))\n",
    "        else:\n",
    "            raw_values.append(random.randint(10**3, 10**6-1))\n",
    "            \n",
    "    # Ensure that the values are roughly and not exactly sorted in decreasing order\n",
    "    raw_values.sort(reverse=True)\n",
    "    # Ensure that the highest value is unique\n",
    "    raw_values[0] += 5*10**7\n",
    "    for i in range(0, n, 4):\n",
    "        raw_values[i: i+5] = random.sample(raw_values[i: i+5], len(raw_values[i: i+5]))\n",
    "        \n",
    "    # Format the values correctly\n",
    "    values = []\n",
    "    for value in raw_values:\n",
    "        if value >= 10**6:\n",
    "            value_num = round(value/10**6, 1)\n",
    "            value_char = 'M'\n",
    "        elif value >= 10**3:\n",
    "            value_num = round(value/10**3)\n",
    "            value_char = 'K'\n",
    "        else:\n",
    "            value_num = value\n",
    "            value_char = ''\n",
    "        values.append('€%g%s' % (value_num, value_char))\n",
    "        \n",
    "    # Create a list of wages within the correct range    \n",
    "    raw_wages = []\n",
    "    for i in range(n):\n",
    "        wage_choice = random.randint(1, 10)\n",
    "        if wage_choice in [10, 9]:\n",
    "            raw_wages.append(random.randint(0, 3)*250)\n",
    "        elif wage_choice == 8:\n",
    "            raw_wages.append(random.randint(10**5, 5*10**5))\n",
    "        else:\n",
    "            raw_wages.append(random.randint(10**3, 10**5))\n",
    "            \n",
    "    # Ensure that the wages are roughly and not exactly sorted in decreasing order\n",
    "    raw_wages.sort(reverse=True)\n",
    "    # Ensure that the highest wage is unique\n",
    "    raw_wages[0] += 5 * 10**4\n",
    "    for i in range(0, n, 4):\n",
    "        raw_wages[i: i+5] = random.sample(raw_wages[i: i+5], len(raw_wages[i: i+5]))\n",
    "        \n",
    "    # Format the wages correctly\n",
    "    wages = []\n",
    "    for wage in raw_wages:\n",
    "        if wage >= 10**3:\n",
    "            wage_num = round(wage/10**3)\n",
    "            wage_char = 'K'\n",
    "        else:\n",
    "            wage_num = value\n",
    "            wage_char = ''\n",
    "        wages.append('€%g%s' % (wage_num, wage_char))\n",
    "        \n",
    "    \n",
    "    # Create the list of unique positions\n",
    "    positions = ['CAM', 'CB', 'CDM', 'CF', 'CM', 'GK', \n",
    "                 'LB', 'LM', 'LW', 'LWB', 'RB', 'RM', \n",
    "                 'RW', 'RWB', 'ST']\n",
    "\n",
    "    # Create the list of unique Preferred Foot choices\n",
    "    preferred_foot_choices = ['Right', 'Left']\n",
    "    \n",
    "    # For each pair (position, preferred_foot), create a random order of magnitude for each of the four stats\n",
    "    order_of_magnitudes = {}\n",
    "    for item in list(product(positions, preferred_foot_choices)):\n",
    "        order_of_magnitudes[item] = {}\n",
    "        for stat in ['Attacking', 'Defending', 'Movement', 'Defending', 'Goalkeeping']:\n",
    "            order_of_magnitudes[item][stat] = random.randint(25, 75)\n",
    "            \n",
    "    # Create the data\n",
    "    data = []\n",
    "    for i in range(n):\n",
    "        player_id = IDs[i]\n",
    "        name = names[i]\n",
    "        age = random.choice([random.randint(20, 35) if random.random() < 0.75 else random.randint(15, 55)])\n",
    "        nationality = random.choice(nations)\n",
    "        team = random.choice(teams)\n",
    "        league = team_to_league[team]\n",
    "        value = None\n",
    "        wage = None\n",
    "        position = random.choice(positions)\n",
    "        preferred_foot = random.choice(preferred_foot_choices)\n",
    "        order_tuple = (position, preferred_foot)\n",
    "        player_stats = {}\n",
    "        for stat in ['Attacking', 'Defending', 'Movement', 'Goalkeeping']:\n",
    "            player_stats[stat] = order_of_magnitudes[order_tuple][stat] + random.uniform(-20, 20)\n",
    "            player_stats[stat] = round(player_stats[stat], 1)\n",
    "        sorted_stats = sorted(player_stats.values())\n",
    "        overall_rating = round(0.75*sorted_stats[-1] + 0.25*sorted_stats[-2])\n",
    "        height = f\"{random.randint(150, 210)}cm\"\n",
    "        \n",
    "\n",
    "        player_data = {\n",
    "            'ID': player_id,\n",
    "            'Name': name,\n",
    "            'Age': age,\n",
    "            'Nationality': nationality,\n",
    "            'Team': team,\n",
    "            'League': league,\n",
    "            'Value': value,\n",
    "            'Wage': wage,\n",
    "            'Attacking': player_stats['Attacking'],\n",
    "            'Movement': player_stats['Movement'],\n",
    "            'Defending': player_stats['Defending'],\n",
    "            'Goalkeeping': player_stats['Goalkeeping'],\n",
    "            'Overall rating': overall_rating,\n",
    "            'Position': position,\n",
    "            'Height': height,\n",
    "            'Preferred foot': preferred_foot\n",
    "        }\n",
    "        data.append(player_data)\n",
    "\n",
    "    # Sort data by overall rating\n",
    "    data.sort(key=lambda x: x['Overall rating'], reverse=True)\n",
    "    \n",
    "    # Ensure that the required teams have a unique best player at the required positions\n",
    "    for row in data:\n",
    "        if row['Team'] == 'Manchester United':\n",
    "            break\n",
    "    row['Position'] = 'CDM'\n",
    "    row['Overall rating'] += 1\n",
    "    for row in data:\n",
    "        if row['Team'] == 'Liverpool':\n",
    "            break\n",
    "    row['Position'] = 'RW'\n",
    "    row['Overall rating'] += 1\n",
    "    data.sort(key=lambda x: x['Overall rating'], reverse=True)\n",
    "    \n",
    "    # Add Wage and Value data\n",
    "    for i in range(n):\n",
    "        data[i]['Value'] = values[i]\n",
    "        data[i]['Wage'] = wages[i]\n",
    "    \n",
    "    # Write data to csv\n",
    "    with open(csv_path, mode='w', newline='', encoding='utf-8') as file:\n",
    "        writer = csv.DictWriter(file, fieldnames=['ID', 'Name', 'Age', 'Nationality', 'Team', 'League', \n",
    "                                                  'Value', 'Wage', 'Attacking', 'Movement', 'Defending', \n",
    "                                                  'Goalkeeping', 'Overall rating', 'Position', 'Height', \n",
    "                                                  'Preferred foot'])\n",
    "        writer.writeheader()\n",
    "\n",
    "        # Write the data into the file\n",
    "        for row in data:\n",
    "            writer.writerow(row)"
   ]
  },
  {
   "cell_type": "markdown",
   "id": "1c26c761",
   "metadata": {},
   "source": [
    "## True Functions\n",
    "\n",
    "Here, the **correct** versions of all functions that are defined in the notebook are stored. These functions are compared against the functions in the student notebook to check for their correctness."
   ]
  },
  {
   "cell_type": "raw",
   "id": "73308546",
   "metadata": {},
   "source": [
    "# BEGIN true_functions"
   ]
  },
  {
   "cell_type": "code",
   "execution_count": 17,
   "id": "0f2d79cc",
   "metadata": {},
   "outputs": [],
   "source": [
    "true_functions = {}"
   ]
  },
  {
   "cell_type": "code",
   "execution_count": 18,
   "id": "540f6702",
   "metadata": {},
   "outputs": [],
   "source": [
    "true_functions['format_euros'] = \"\"\"\n",
    "def format_euros(euros):\n",
    "    euros = euros[1:]\n",
    "    if euros[-1] == 'K':\n",
    "        euros = float(euros[:-1])*10**3\n",
    "    elif euros[-1] == 'M':\n",
    "        euros = float(euros[:-1])*10**6\n",
    "    else:\n",
    "        euros = float(euros)\n",
    "    return round(euros)\"\"\""
   ]
  },
  {
   "cell_type": "code",
   "execution_count": 19,
   "id": "b5e8f7e8",
   "metadata": {},
   "outputs": [],
   "source": [
    "true_functions['cell'] = \"\"\"\n",
    "import csv\n",
    "\n",
    "def process_csv(filename):\n",
    "    example_file = open(filename, encoding=\\'utf-8\\')\n",
    "    example_reader = csv.reader(example_file)\n",
    "    example_data = list(example_reader)\n",
    "    example_file.close()\n",
    "    return example_data\n",
    "    \n",
    "csv_data = process_csv(\\'soccer_stars.csv\\')\n",
    "csv_header = csv_data[0]\n",
    "csv_rows = csv_data[1:]\n",
    "\n",
    "def cell(row_idx, col_name):\n",
    "    col_idx = csv_header.index(col_name)\n",
    "    val = csv_rows[row_idx][col_idx]\n",
    "    if col_name in [\\'ID\\', \\'Age\\', \\'Overall rating\\']:\n",
    "        return int(val)\n",
    "    elif col_name in [\\'Attacking\\', \\'Movement\\', \\'Defending\\', \\'Goalkeeping\\']:\n",
    "        return float(val)\n",
    "    elif col_name in [\\'Height\\']:\n",
    "        return int(val[:-2])\n",
    "    elif col_name in [\\'Wage\\', \\'Value\\']:\n",
    "        return format_euros(val)\n",
    "    else:\n",
    "        return val\"\"\""
   ]
  },
  {
   "cell_type": "code",
   "execution_count": 20,
   "id": "c6d35455",
   "metadata": {},
   "outputs": [],
   "source": [
    "true_functions['average_stat_by_position'] = \"\"\"\n",
    "def average_stat_by_position(col_name):\n",
    "    position_total_count = {}\n",
    "    position_total_stat = {}\n",
    "    for player_id in players:\n",
    "        position = players[player_id][\\'Position\\']\n",
    "        player_stat = players[player_id][col_name]\n",
    "        if position not in position_total_count:\n",
    "            position_total_count[position] = 0\n",
    "            position_total_stat[position] = 0\n",
    "        position_total_count[position] += 1\n",
    "        position_total_stat[position] += player_stat\n",
    "    position_avg_stat = {}\n",
    "    for position in position_total_count:\n",
    "        position_avg_stat[position] = position_total_stat[position] / position_total_count[position]\n",
    "    return position_avg_stat\"\"\""
   ]
  },
  {
   "cell_type": "code",
   "execution_count": 21,
   "id": "17f77156",
   "metadata": {},
   "outputs": [],
   "source": [
    "true_functions['best_player_of_team_at_position'] = \"\"\"\n",
    "def best_player_of_team_at_position(position, team):\n",
    "    best_player = None\n",
    "    for player_id in players:\n",
    "        player = players[player_id]\n",
    "        if player[\\'Position\\'] != position or player[\\'Team\\'] != team:\n",
    "            continue\n",
    "        if best_player == None or player[\\'Overall rating\\'] > players[best_player][\\'Overall rating\\']:\n",
    "            best_player = player_id\n",
    "        elif player[\\'Overall rating\\'] == players[best_player][\\'Overall rating\\'] and player_id < best_player:\n",
    "            best_player = player_id\n",
    "    return best_player\"\"\""
   ]
  },
  {
   "cell_type": "code",
   "execution_count": 22,
   "id": "0ec94ebe",
   "metadata": {},
   "outputs": [],
   "source": [
    "true_functions['best_starting_players_of'] = \"\"\"\n",
    "positions = set()\n",
    "for player_id in players:\n",
    "    positions.add(players[player_id][\\'Position\\'])\n",
    "\n",
    "def best_starting_players_of(team):\n",
    "    starters = {}\n",
    "    for position in positions:\n",
    "        player_at_position = best_player_of_team_at_position(position, team)\n",
    "        if player_at_position != None:\n",
    "            starters[position] = player_at_position\n",
    "    return starters\"\"\""
   ]
  },
  {
   "cell_type": "raw",
   "id": "d54f997c",
   "metadata": {},
   "source": [
    "# END true_functions"
   ]
  },
  {
   "cell_type": "markdown",
   "id": "5a97473b",
   "metadata": {},
   "source": [
    "## True Data Structures\n",
    "\n",
    "Here, the **correct** versions of all data structures that are defined in the notebook are stored. These data structures are compared against the data structures in the student notebook to check for their correctness."
   ]
  },
  {
   "cell_type": "raw",
   "id": "315ad138",
   "metadata": {},
   "source": [
    "# BEGIN true_data_structures"
   ]
  },
  {
   "cell_type": "code",
   "execution_count": 23,
   "id": "41c51c9d",
   "metadata": {},
   "outputs": [],
   "source": [
    "true_data_structures = {}"
   ]
  },
  {
   "cell_type": "code",
   "execution_count": 24,
   "id": "13de8c20",
   "metadata": {},
   "outputs": [],
   "source": [
    "true_data_structures['players'] = \"\"\"\n",
    "players = {}\n",
    "for idx in range(len(csv_rows)):\n",
    "    player = {}\n",
    "    for col_name in csv_header:\n",
    "        player[col_name] = cell(idx, col_name)\n",
    "    players[player[\\'ID\\']] = player\"\"\""
   ]
  },
  {
   "cell_type": "raw",
   "id": "341cf73a",
   "metadata": {},
   "source": [
    "# END true_data_structures"
   ]
  },
  {
   "cell_type": "markdown",
   "id": "3de10fb3",
   "metadata": {},
   "source": [
    "## Original\n",
    "\n",
    "The original test simply runs the student's notebook as it is (after removing cells with syntax errors, and performing other clean-up). This helps us detect if the student failed any public tests."
   ]
  },
  {
   "cell_type": "raw",
   "id": "fe9e4c61",
   "metadata": {},
   "source": [
    "# BEGIN original"
   ]
  },
  {
   "cell_type": "code",
   "execution_count": 25,
   "id": "57c867a2",
   "metadata": {},
   "outputs": [],
   "source": [
    "nb = clean_nb(read_nb(os.path.join(DIRECTORY, FILE)))\n",
    "\n",
    "results['original'] = parse_nb(run_nb(nb, os.path.join(DIRECTORY, \"hidden\", \"original\", FILE)))"
   ]
  },
  {
   "cell_type": "raw",
   "id": "ecb49232",
   "metadata": {},
   "source": [
    "# END original"
   ]
  },
  {
   "cell_type": "markdown",
   "id": "b9eec99a",
   "metadata": {},
   "source": [
    "## Hardcode\n",
    "\n",
    "The hardcode tests run the student's notebook on different datasets. However, `public_tests.py` remains unchanged. So, if the answers are hardcoded in the student's notebook, we expect their code to still pass the public tests on all the different datasets. If their code fails any one of the different hardcode datasets, we take that to mean that the answer is not hardcoded."
   ]
  },
  {
   "cell_type": "code",
   "execution_count": 26,
   "id": "dcdcd5a9",
   "metadata": {},
   "outputs": [
    {
     "name": "stdout",
     "output_type": "stream",
     "text": [
      "q1 failed!\n",
      "1 done!\n",
      "q1 failed!\n",
      "2 done!\n",
      "q1 failed!\n",
      "q4 failed!\n",
      "3 done!\n"
     ]
    }
   ],
   "source": [
    "for subdirectory in os.listdir(os.path.join(DIRECTORY, \"hidden\", \"hardcode\")):\n",
    "    path = os.path.join(DIRECTORY, \"hidden\", \"hardcode\", subdirectory)\n",
    "    good_dataset = False\n",
    "    while not good_dataset:\n",
    "        if os.path.exists(os.path.join(path, FILE)):\n",
    "            nb = clean_nb(read_nb(os.path.join(DIRECTORY, FILE)))\n",
    "        hardcode_results = parse_nb(run_nb(nb, os.path.join(path, FILE)))\n",
    "        good_dataset = True\n",
    "        for qnum in hardcode_results:\n",
    "            if qnum.startswith('q') and hardcode_results[qnum] == 'All test cases passed!':\n",
    "                print(qnum + ' failed!')\n",
    "                good_dataset = False\n",
    "                break\n",
    "        if not good_dataset:\n",
    "            random_data(path, 5000)\n",
    "    print(subdirectory + ' done!')"
   ]
  },
  {
   "cell_type": "raw",
   "id": "0dd5d60f",
   "metadata": {},
   "source": [
    "# BEGIN hardcode"
   ]
  },
  {
   "cell_type": "code",
   "execution_count": 27,
   "id": "142f91d6",
   "metadata": {},
   "outputs": [],
   "source": [
    "for hardcode in os.listdir(os.path.join(DIRECTORY, \"hidden\", \"hardcode\")):\n",
    "    nb = clean_nb(read_nb(os.path.join(DIRECTORY, FILE)))\n",
    "    results['hardcode: ' + hardcode] = parse_nb(run_nb(nb, os.path.join(DIRECTORY, \"hidden\", \"hardcode\", hardcode, FILE)))"
   ]
  },
  {
   "cell_type": "raw",
   "id": "9b918781",
   "metadata": {},
   "source": [
    "# END hardcode"
   ]
  },
  {
   "cell_type": "markdown",
   "id": "365419fe",
   "metadata": {},
   "source": [
    "## Rubric Tests\n",
    "\n",
    "The tests for the rubric points will be defined below. Only the code inside the tags will be executed by `hidden_tests.py`, so the code outside the tags are used for generating the hidden datasets in the first place."
   ]
  },
  {
   "cell_type": "markdown",
   "id": "d7a8738d",
   "metadata": {},
   "source": [
    "### Instructions for creating rubric tests:\n",
    "\n",
    "Functions inside `hidden_tests.py` can be used to modify the student notebook, before executing and parsing the outputs. It is recommended that before trying to create rubric tests, a user goes through all the functions inside `hidden_tests.py` first. Here is a list of commonly used functions that will be most useful:\n",
    "\n",
    "* **`read_nb`**: `read_nb(file)` **reads** a `file` in the `.ipynb` file format and returns a `nb`.\n",
    "* **`run_nb`**: `run_nb(nb, file)` **executes** `nb` at the location `file` and **writes** the contents back into `file`.\n",
    "* **`parse_nb`**: `parse_nb(nb)` read the contents of a student `nb` and **extracts** all graded questions and answers.\n",
    "* **`truncate_nb`**: `truncate_nb(nb, start, end)` takes in a `nb`, and returns a **sliced** notebook between the cells indexed `start` and `end`.\n",
    "* **`find_all_cell_indices`**: `find_all_cell_indices(nb, cell_type, marker)` returns **all** the indices in `nb` of cell type `cell_type` that **contains** the `marker` in its source.\n",
    "* **`inject_code`**: `inject_code(nb, idx, code)` creates a **new** code cell in `nb` **after** the index `idx` with `code` in it.\n",
    "* **`count_defns`**: `count_defns(nb, func_name)` **counts** the number of times `func_name` is defined in the `nb`.\n",
    "* **`replace_defn`**: `replace_defn(nb, func_name, new_defn)` **replaces** the definition of `func_name` in `nb` with `new_defn`.\n",
    "* **`replace_call`**: `replace_call(text, func_name, new_name)` **replaces** all **calls** and definition **names** to `func_name` with `new_name` in `text`.\n",
    "* **`find_code`**: `find_code(nb, target)` returns the **number** of times that the **text** `target` appears in a code cell in `nb`.\n",
    "* **`replace_code`**: `replace_code(nb, target, new_code, start, end)` **replaces** all instances of the **text** `target` in a code cell between the indices `start` and `end` with the **text** `new_code`.\n",
    "* **`add_try_except`**: `add_try_except(text)` adds a (bare) **try/except block** around any given block of code.\n",
    "* **`detect_restart_and_run_all`**: `detect_restart_and_run_all(nb)` flags if any **non-empty code cell** in `nb` is **not executed**.\n",
    "* **`detect_imports`**: `detect_imports(nb)` returns a list of **all** the **import** statements in the `nb`.\n",
    "* **`detect_ast_objects`**: `detect_ast_objects(nb, objects)` returns a dict of **all** cells in the `nb` with the **ast objects** `objects` in them.\n",
    "* **`get_first_plot`**: `get_first_plot(nb, image_file)` returns the first **image** found in the output of a code cell in `nb`, and also stores it in `image_file` for reference.\n",
    "* **`get_label_plot`**: `get_label_plot(plot, kind)` **crops** the `plot` and returns returns a plot containing just the **label** at the location indicated by `kind` - `\"left\"`, `\"right\"`, `\"top\"`, or `\"bottom\"`.\n",
    "* **`get_without_label_plot`**: `get_without_label_plot(plot, kind)` **crops** the `plot` and returns returns a plot containing everything **except** the **label** at the location indicated by `kind` - `\"left\"`, `\"right\"`, `\"top\"`, or `\"bottom\"`.\n",
    "* **`get_ticks_plot`**: `get_ticks_plot(plot, kind)` **crops** the `plot` and returns returns a plot containing just the **ticks** at the location indicated by `kind` - `\"left\"`, or `\"bottom\"`.\n",
    "* **`get_without_ticks_plot`**: `get_without_ticks_plot(plot, kind)` **crops** the `plot` and returns returns a plot containing everything **except** the **ticks** at the location indicated by `kind` - `\"left\"`, or `\"bottom\"`.\n",
    "* **`get_bounding_box_plot`**: `get_bounding_box_plot(plot)` **crops** the `plot` and returns returns a plot containing just the **bounding box** of the plot.\n",
    "* **`check_text_in_plot`**: `check_text_in_plot(plot, expected_text)` checks if the `expected_text` is in the `plot`, and returns both the **missing** and the **extra** text in the given `plot`."
   ]
  },
  {
   "cell_type": "markdown",
   "id": "41502d67",
   "metadata": {},
   "source": [
    "### format_euros: function logic is incorrect when the input ends with `\"K\"`"
   ]
  },
  {
   "cell_type": "code",
   "execution_count": 28,
   "id": "6ec8160a",
   "metadata": {},
   "outputs": [],
   "source": [
    "rubric_item = 'format_euros: function logic is incorrect when the input ends with `\\\"K\\\"`'\n",
    "readme_text = \"\"\"Check the implementation of `format_euros` for\n",
    "converting inputs ending with 'K'. Ensure it\n",
    "correctly interprets 'K' as thousands and rounds\n",
    "the final integer appropriately.\"\"\"\n",
    "\n",
    "write_readme(readme_text, os.path.join(directories[rubric_item], \"README.txt\"))"
   ]
  },
  {
   "cell_type": "raw",
   "id": "b2f5f15e",
   "metadata": {},
   "source": [
    "# BEGIN format_euros: function logic is incorrect when the input ends with `\"K\"`"
   ]
  },
  {
   "cell_type": "code",
   "execution_count": 29,
   "id": "9e0dfb07",
   "metadata": {},
   "outputs": [],
   "source": [
    "rubric_item = 'format_euros: function logic is incorrect when the input ends with `\\\"K\\\"`'\n",
    "nb = read_nb(os.path.join(DIRECTORY, FILE))\n",
    "nb = clean_nb(nb)\n",
    "nb = truncate_nb(nb, end=find_all_cell_indices(nb, \"code\", \"grader.check('format_euros')\")[-1])\n",
    "\n",
    "var_inputs_code = '''\n",
    "import csv\n",
    "def process_csv(filename):\n",
    "    example_file = open(filename, encoding=\"utf-8\")\n",
    "    example_reader = csv.reader(example_file)\n",
    "    example_data = list(example_reader)\n",
    "    example_file.close()\n",
    "    return example_data\n",
    "    \n",
    "csv_data = process_csv(\"soccer_stars.csv\")\n",
    "csv_header = csv_data[0]\n",
    "csv_rows = csv_data[1:]\n",
    "\n",
    "var_inputs = []\n",
    "for row in csv_rows:\n",
    "    if row[csv_header.index('Value')][-1] == 'K':\n",
    "        var_inputs.append((row[csv_header.index('Value')],))\n",
    "    if row[csv_header.index('Wage')][-1] == 'K':\n",
    "        var_inputs.append((row[csv_header.index('Wage')],))\n",
    "'''\n",
    "nb = inject_function_logic_check(nb, 'format_euros', var_inputs_code, \"TEXT_FORMAT\")\n",
    "\n",
    "results[rubric_item] = parse_nb(run_nb(nb, os.path.join(directories[rubric_item], FILE)))"
   ]
  },
  {
   "cell_type": "raw",
   "id": "1dcebfb1",
   "metadata": {},
   "source": [
    "# END format_euros: function logic is incorrect when the input ends with `\"K\"`"
   ]
  },
  {
   "cell_type": "markdown",
   "id": "c289cbf7",
   "metadata": {},
   "source": [
    "### format_euros: function logic is incorrect when the input ends with `\"M\"`"
   ]
  },
  {
   "cell_type": "code",
   "execution_count": 30,
   "id": "25f2b40d",
   "metadata": {},
   "outputs": [],
   "source": [
    "rubric_item = 'format_euros: function logic is incorrect when the input ends with `\\\"M\\\"`'\n",
    "readme_text = \"\"\"Check your handling of inputs ending with \"M\". It\n",
    "should correctly convert millions and round to the\n",
    "nearest integer. Review conditions and\n",
    "mathematical operations for accuracy.\"\"\"\n",
    "\n",
    "write_readme(readme_text, os.path.join(directories[rubric_item], \"README.txt\"))"
   ]
  },
  {
   "cell_type": "raw",
   "id": "be74fec6",
   "metadata": {},
   "source": [
    "# BEGIN format_euros: function logic is incorrect when the input ends with `\"M\"`"
   ]
  },
  {
   "cell_type": "code",
   "execution_count": 31,
   "id": "7e2582f3",
   "metadata": {},
   "outputs": [],
   "source": [
    "rubric_item = 'format_euros: function logic is incorrect when the input ends with `\\\"M\\\"`'\n",
    "nb = read_nb(os.path.join(DIRECTORY, FILE))\n",
    "nb = clean_nb(nb)\n",
    "nb = truncate_nb(nb, end=find_all_cell_indices(nb, \"code\", \"grader.check('format_euros')\")[-1])\n",
    "\n",
    "var_inputs_code = '''\n",
    "import csv\n",
    "def process_csv(filename):\n",
    "    example_file = open(filename, encoding=\"utf-8\")\n",
    "    example_reader = csv.reader(example_file)\n",
    "    example_data = list(example_reader)\n",
    "    example_file.close()\n",
    "    return example_data\n",
    "    \n",
    "csv_data = process_csv(\"soccer_stars.csv\")\n",
    "csv_header = csv_data[0]\n",
    "csv_rows = csv_data[1:]\n",
    "\n",
    "var_inputs = []\n",
    "for row in csv_rows:\n",
    "    if row[csv_header.index('Value')][-1] == 'M':\n",
    "        var_inputs.append((row[csv_header.index('Value')],))\n",
    "    if row[csv_header.index('Wage')][-1] == 'M':\n",
    "        var_inputs.append((row[csv_header.index('Wage')],))\n",
    "'''\n",
    "nb = inject_function_logic_check(nb, 'format_euros', var_inputs_code, \"TEXT_FORMAT\")\n",
    "\n",
    "results[rubric_item] = parse_nb(run_nb(nb, os.path.join(directories[rubric_item], FILE)))"
   ]
  },
  {
   "cell_type": "raw",
   "id": "13b9172a",
   "metadata": {},
   "source": [
    "# END format_euros: function logic is incorrect when the input ends with `\"M\"`"
   ]
  },
  {
   "cell_type": "markdown",
   "id": "8c5e3c02",
   "metadata": {},
   "source": [
    "### format_euros: function logic is incorrect when the input does not end with `\"K\"` or `\"M\"`"
   ]
  },
  {
   "cell_type": "code",
   "execution_count": 32,
   "id": "ce5ee88e",
   "metadata": {},
   "outputs": [],
   "source": [
    "rubric_item = 'format_euros: function logic is incorrect when the input does not end with `\\\"K\\\"` or `\\\"M\\\"`'\n",
    "readme_text = \"\"\"The test found issues when the input does not end\n",
    "with \"K\" or \"M\". Please ensure your function\n",
    "handles such inputs correctly, converting the euro\n",
    "amount directly to an integer and rounding to the\n",
    "nearest integer if necessary. Review the handling\n",
    "of different input cases.\"\"\"\n",
    "\n",
    "write_readme(readme_text, os.path.join(directories[rubric_item], \"README.txt\"))"
   ]
  },
  {
   "cell_type": "raw",
   "id": "78ad7849",
   "metadata": {},
   "source": [
    "# BEGIN format_euros: function logic is incorrect when the input does not end with `\"K\"` or `\"M\"`"
   ]
  },
  {
   "cell_type": "code",
   "execution_count": 33,
   "id": "ad4608bc",
   "metadata": {},
   "outputs": [],
   "source": [
    "rubric_item = 'format_euros: function logic is incorrect when the input does not end with `\\\"K\\\"` or `\\\"M\\\"`'\n",
    "nb = read_nb(os.path.join(DIRECTORY, FILE))\n",
    "nb = clean_nb(nb)\n",
    "nb = truncate_nb(nb, end=find_all_cell_indices(nb, \"code\", \"grader.check('format_euros')\")[-1])\n",
    "\n",
    "var_inputs_code = '''\n",
    "import csv\n",
    "def process_csv(filename):\n",
    "    example_file = open(filename, encoding=\"utf-8\")\n",
    "    example_reader = csv.reader(example_file)\n",
    "    example_data = list(example_reader)\n",
    "    example_file.close()\n",
    "    return example_data\n",
    "    \n",
    "csv_data = process_csv(\"soccer_stars.csv\")\n",
    "csv_header = csv_data[0]\n",
    "csv_rows = csv_data[1:]\n",
    "\n",
    "var_inputs = []\n",
    "for row in csv_rows:\n",
    "    if row[csv_header.index('Value')][-1] not in ['K', 'M']:\n",
    "        var_inputs.append((row[csv_header.index('Value')],))\n",
    "    if row[csv_header.index('Wage')][-1] not in ['K', 'M']:\n",
    "        var_inputs.append((row[csv_header.index('Wage')],))\n",
    "'''\n",
    "\n",
    "nb = inject_function_logic_check(nb, 'format_euros', var_inputs_code, 'TEXT_FORMAT')\n",
    "\n",
    "results[rubric_item] = parse_nb(run_nb(nb, os.path.join(directories[rubric_item], FILE)))"
   ]
  },
  {
   "cell_type": "raw",
   "id": "5c85dc08",
   "metadata": {},
   "source": [
    "# END format_euros: function logic is incorrect when the input does not end with `\"K\"` or `\"M\"`"
   ]
  },
  {
   "cell_type": "markdown",
   "id": "8d3c974b",
   "metadata": {},
   "source": [
    "### cell: variables `csv_data`, `csv_header`, and `csv_rows` are not defined as expected"
   ]
  },
  {
   "cell_type": "code",
   "execution_count": 34,
   "id": "8ff32bd9",
   "metadata": {},
   "outputs": [],
   "source": [
    "rubric_item = 'cell: variables `csv_data`, `csv_header`, and `csv_rows` are not defined as expected'\n",
    "readme_text = \"\"\"Ensure `csv_data`, `csv_header`, and `csv_rows`\n",
    "are correctly defined and populated from\n",
    "`soccer_stars.csv`. Verify that `process_csv` is\n",
    "defined and called with the correct filename, and\n",
    "`csv_data` is correctly split into `csv_header`\n",
    "and `csv_rows`.\"\"\"\n",
    "\n",
    "write_readme(readme_text, os.path.join(directories[rubric_item], \"README.txt\"))"
   ]
  },
  {
   "cell_type": "code",
   "execution_count": 35,
   "id": "fdb23cec",
   "metadata": {},
   "outputs": [],
   "source": [
    "random_data(directories[rubric_item], 100)"
   ]
  },
  {
   "cell_type": "raw",
   "id": "3665d8a9",
   "metadata": {},
   "source": [
    "# BEGIN cell: variables `csv_data`, `csv_header`, and `csv_rows` are not defined as expected"
   ]
  },
  {
   "cell_type": "code",
   "execution_count": 36,
   "id": "641450a8",
   "metadata": {},
   "outputs": [],
   "source": [
    "rubric_item = 'cell: variables `csv_data`, `csv_header`, and `csv_rows` are not defined as expected'\n",
    "nb = read_nb(os.path.join(DIRECTORY, FILE))\n",
    "nb = clean_nb(nb)\n",
    "nb = truncate_nb(nb, end=find_all_cell_indices(nb, \"code\", \"grader.check('cell')\")[-1])\n",
    "\n",
    "test_code = '''\n",
    "import csv\n",
    "def true_process_csv(filename):\n",
    "    example_file = open(filename, encoding=\"utf-8\")\n",
    "    example_reader = csv.reader(example_file)\n",
    "    example_data = list(example_reader)\n",
    "    example_file.close()\n",
    "    return example_data\n",
    "    \n",
    "true_csv_data = true_process_csv(\"soccer_stars.csv\")\n",
    "true_csv_header = true_csv_data[0]\n",
    "true_csv_rows = true_csv_data[1:]\n",
    "\n",
    "if public_tests.compare(true_csv_data, csv_data, 'TEXT_FORMAT_ORDERED_LIST') == public_tests.PASS:\n",
    "    if public_tests.compare(true_csv_header, csv_header, 'TEXT_FORMAT_ORDERED_LIST') == public_tests.PASS:\n",
    "        if public_tests.compare(true_csv_rows, csv_rows, 'TEXT_FORMAT_ORDERED_LIST') == public_tests.PASS:\n",
    "            test_output = \"cell results: All test cases passed!\"\n",
    "        else:\n",
    "            test_output = \"cell results: 'csv_rows' not defined as expected\"\n",
    "    else:\n",
    "        test_output = \"cell results: 'csv_header' not defined as expected\"\n",
    "else:\n",
    "    test_output = \"cell results: 'csv_data' not defined as expected\"\n",
    "'''\n",
    "nb = inject_code(nb, len(nb['cells']), get_test_text(\"cell\", test_code))\n",
    "\n",
    "results[rubric_item] = parse_nb(run_nb(nb, os.path.join(directories[rubric_item], FILE)))"
   ]
  },
  {
   "cell_type": "raw",
   "id": "5a34e5ef",
   "metadata": {},
   "source": [
    "# END cell: variables `csv_data`, `csv_header`, and `csv_rows` are not defined as expected"
   ]
  },
  {
   "cell_type": "markdown",
   "id": "3510f33e",
   "metadata": {},
   "source": [
    "### cell: function does not typecast the correct columns to `int` or `float` as expected"
   ]
  },
  {
   "cell_type": "code",
   "execution_count": 37,
   "id": "b6d78031",
   "metadata": {},
   "outputs": [],
   "source": [
    "rubric_item = 'cell: function does not typecast the correct columns to `int` or `float` as expected'\n",
    "readme_text = \"\"\"Ensure that your `cell` function correctly\n",
    "typecasts column values to the specified data\n",
    "types. Review the list of columns and their target\n",
    "data types, and compare these to your typecasting\n",
    "logic. Consider using type conversion functions\n",
    "like `int()` for integers and `float()` for\n",
    "floating-point numbers where appropriate.\"\"\"\n",
    "\n",
    "write_readme(readme_text, os.path.join(directories[rubric_item], \"README.txt\"))"
   ]
  },
  {
   "cell_type": "raw",
   "id": "6ba37291",
   "metadata": {},
   "source": [
    "# BEGIN cell: function does not typecast the correct columns to `int` or `float` as expected"
   ]
  },
  {
   "cell_type": "code",
   "execution_count": 38,
   "id": "967f4573",
   "metadata": {},
   "outputs": [],
   "source": [
    "rubric_item = 'cell: function does not typecast the correct columns to `int` or `float` as expected'\n",
    "nb = read_nb(os.path.join(DIRECTORY, FILE))\n",
    "nb = clean_nb(nb)\n",
    "nb = truncate_nb(nb, end=find_all_cell_indices(nb, \"code\", \"grader.check('cell')\")[-1])\n",
    "\n",
    "var_inputs_code = '''\n",
    "csv_data = process_csv('soccer_stars.csv')\n",
    "csv_header = csv_data[0]\n",
    "csv_rows = csv_data[1:]\n",
    "type_cast_cols = ['ID', 'Name', 'Age', 'Nationality', 'Team', 'League', 'Overall rating', 'Attacking', 'Movement', 'Defending', 'Goalkeeping', 'Position', 'Preferred foot']\n",
    "var_inputs = [(idx, col) for idx in range(len(csv_rows)) for col in type_cast_cols]\n",
    "'''\n",
    "nb = inject_function_logic_check(nb, 'cell', var_inputs_code, \"TEXT_FORMAT\")\n",
    "\n",
    "results[rubric_item] = parse_nb(run_nb(nb, os.path.join(directories[rubric_item], FILE)))"
   ]
  },
  {
   "cell_type": "raw",
   "id": "f716c227",
   "metadata": {},
   "source": [
    "# END cell: function does not typecast the correct columns to `int` or `float` as expected"
   ]
  },
  {
   "cell_type": "markdown",
   "id": "2fab67ca",
   "metadata": {},
   "source": [
    "### cell: function does not format the `Height` column correctly"
   ]
  },
  {
   "cell_type": "code",
   "execution_count": 39,
   "id": "171b3075",
   "metadata": {},
   "outputs": [],
   "source": [
    "rubric_item = 'cell: function does not format the `Height` column correctly'\n",
    "readme_text = \"\"\"Check that your `cell` function correctly slices\n",
    "off the unit from the `Height` value and converts\n",
    "it to an integer. Revisit string slicing and typecasting\n",
    "to integer in Python.\"\"\"\n",
    "\n",
    "write_readme(readme_text, os.path.join(directories[rubric_item], \"README.txt\"))"
   ]
  },
  {
   "cell_type": "raw",
   "id": "fd17d695",
   "metadata": {},
   "source": [
    "# BEGIN cell: function does not format the `Height` column correctly"
   ]
  },
  {
   "cell_type": "code",
   "execution_count": 40,
   "id": "5a05e398",
   "metadata": {},
   "outputs": [],
   "source": [
    "rubric_item = 'cell: function does not format the `Height` column correctly'\n",
    "nb = read_nb(os.path.join(DIRECTORY, FILE))\n",
    "nb = clean_nb(nb)\n",
    "nb = truncate_nb(nb, end=find_all_cell_indices(nb, \"code\", \"grader.check('cell')\")[-1])\n",
    "\n",
    "var_inputs_code = '''\n",
    "csv_data = process_csv('soccer_stars.csv')\n",
    "csv_header = csv_data[0]\n",
    "csv_rows = csv_data[1:]\n",
    "var_inputs = [(idx, 'Height') for idx in range(len(csv_rows))]\n",
    "'''\n",
    "nb = inject_function_logic_check(nb, 'cell', var_inputs_code, \"TEXT_FORMAT\")\n",
    "\n",
    "results[rubric_item] = parse_nb(run_nb(nb, os.path.join(directories[rubric_item], FILE)))"
   ]
  },
  {
   "cell_type": "raw",
   "id": "b6465e09",
   "metadata": {},
   "source": [
    "# END cell: function does not format the `Height` column correctly"
   ]
  },
  {
   "cell_type": "markdown",
   "id": "11377bc0",
   "metadata": {},
   "source": [
    "### cell: function does not use `format_euros` to format the relevant columns"
   ]
  },
  {
   "cell_type": "code",
   "execution_count": 41,
   "id": "fda067aa",
   "metadata": {},
   "outputs": [],
   "source": [
    "rubric_item = 'cell: function does not use `format_euros` to format the relevant columns'\n",
    "readme_text = \"\"\"Ensure your `cell` function converts 'Value' and\n",
    "'Wage' to integers using `format_euros` helper\n",
    "function. Test your function for different row\n",
    "indices and especially on 'Value' and 'Wage'\n",
    "columns to confirm the conversion.\"\"\"\n",
    "\n",
    "write_readme(readme_text, os.path.join(directories[rubric_item], \"README.txt\"))"
   ]
  },
  {
   "cell_type": "raw",
   "id": "b17a98be",
   "metadata": {},
   "source": [
    "# BEGIN cell: function does not use `format_euros` to format the relevant columns"
   ]
  },
  {
   "cell_type": "code",
   "execution_count": 42,
   "id": "df9ba6ae",
   "metadata": {},
   "outputs": [],
   "source": [
    "rubric_item = 'cell: function does not use `format_euros` to format the relevant columns'\n",
    "nb = read_nb(os.path.join(DIRECTORY, FILE))\n",
    "nb = clean_nb(nb)\n",
    "nb = truncate_nb(nb, end=find_all_cell_indices(nb, \"code\", \"grader.check('cell')\")[-1])\n",
    "\n",
    "var_inputs_code = '''\n",
    "csv_data = process_csv('soccer_stars.csv')\n",
    "csv_header = csv_data[0]\n",
    "csv_rows = csv_data[1:]\n",
    "var_inputs = [(i, 'Value') for i in range(len(csv_rows))] + \\\n",
    "             [(i, 'Wage') for i in range(len(csv_rows))]\n",
    "'''\n",
    "nb = inject_function_logic_check(nb, 'cell', var_inputs_code, 'TEXT_FORMAT')\n",
    "\n",
    "results[rubric_item] = parse_nb(run_nb(nb, os.path.join(directories[rubric_item], FILE)))"
   ]
  },
  {
   "cell_type": "raw",
   "id": "5982d0bb",
   "metadata": {},
   "source": [
    "# END cell: function does not use `format_euros` to format the relevant columns"
   ]
  },
  {
   "cell_type": "markdown",
   "id": "d578f966",
   "metadata": {},
   "source": [
    "### cell: function typecasts based on the column index and not the `col_name`"
   ]
  },
  {
   "cell_type": "code",
   "execution_count": 43,
   "id": "8ef00139",
   "metadata": {},
   "outputs": [],
   "source": [
    "rubric_item = 'cell: function typecasts based on the column index and not the `col_name`'\n",
    "readme_text = \"\"\"Check that your `cell` function dynamically\n",
    "locates the column index using the `col_name` and\n",
    "does not rely on hardcoded indices, as column\n",
    "order may change. Ensure typecasting is done\n",
    "correctly based on column name, not index.\"\"\"\n",
    "\n",
    "write_readme(readme_text, os.path.join(directories[rubric_item], \"README.txt\"))"
   ]
  },
  {
   "cell_type": "code",
   "execution_count": 44,
   "id": "a3688de7",
   "metadata": {},
   "outputs": [],
   "source": [
    "import os\n",
    "import csv\n",
    "import copy\n",
    "import random\n",
    "\n",
    "# Define the modify_data function to permute the columns in the dataset\n",
    "def modify_data(directory):\n",
    "    # Define the path to the soccer_stars.csv file\n",
    "    data_path = os.path.join(directory, 'soccer_stars.csv')\n",
    "    \n",
    "    # Read in the current data\n",
    "    with open(data_path, mode='r', encoding='utf-8', newline='') as file:\n",
    "        reader = csv.reader(file)\n",
    "        data = list(reader)\n",
    "    \n",
    "    # Shuffle the order of the columns\n",
    "    header = copy.deepcopy(data[0])\n",
    "    random.shuffle(header)\n",
    "    column_order = {column: data[0].index(column) for column in header}\n",
    "    \n",
    "    # Reorder each row according to the new column order\n",
    "    new_data = [header]\n",
    "    for row in data[1:]:\n",
    "        new_data.append([row[column_order[column]] for column in header])\n",
    "    \n",
    "    # Write the permuted data back to the file\n",
    "    with open(data_path, mode='w', encoding='utf-8', newline='') as file:\n",
    "        writer = csv.writer(file)\n",
    "        writer.writerows(new_data)\n",
    "\n",
    "random_data(directories[rubric_item], 1000)\n",
    "modify_data(directories[rubric_item])"
   ]
  },
  {
   "cell_type": "raw",
   "id": "5809b352",
   "metadata": {},
   "source": [
    "# BEGIN cell: function typecasts based on the column index and not the `col_name`"
   ]
  },
  {
   "cell_type": "code",
   "execution_count": 45,
   "id": "be68dd8f",
   "metadata": {},
   "outputs": [],
   "source": [
    "rubric_item = 'cell: function typecasts based on the column index and not the `col_name`'\n",
    "nb = read_nb(os.path.join(DIRECTORY, FILE))\n",
    "nb = clean_nb(nb)\n",
    "nb = truncate_nb(nb, end=find_all_cell_indices(nb, \"code\", \"grader.check('cell')\")[-1])\n",
    "\n",
    "# Create inputs to test the function\n",
    "var_inputs_code = '''\n",
    "csv_data = process_csv('soccer_stars.csv')\n",
    "csv_header = csv_data[0]\n",
    "csv_rows = csv_data[1:]\n",
    "var_inputs = [(row_idx, col_name) for row_idx in range(5) for col_name in csv_header]\n",
    "'''\n",
    "nb = inject_function_logic_check(nb, 'cell', var_inputs_code, 'TEXT_FORMAT')\n",
    "\n",
    "results[rubric_item] = parse_nb(run_nb(nb, os.path.join(directories[rubric_item], FILE)))"
   ]
  },
  {
   "cell_type": "raw",
   "id": "c51dd233",
   "metadata": {},
   "source": [
    "# END cell: function typecasts based on the column index and not the `col_name`"
   ]
  },
  {
   "cell_type": "markdown",
   "id": "e2286b24",
   "metadata": {},
   "source": [
    "### players: data structure is not defined correctly"
   ]
  },
  {
   "cell_type": "code",
   "execution_count": 46,
   "id": "a6c6cd32",
   "metadata": {},
   "outputs": [],
   "source": [
    "rubric_item = 'players: data structure is not defined correctly'\n",
    "readme_text = \"\"\"Check your implementation of the `players`\n",
    "dictionary ensures each inner dictionary properly\n",
    "maps column names to their values. Ensure data\n",
    "types for each value correspond to the example\n",
    "given, such as integer for 'Age', 'Value', 'Wage',\n",
    "and 'Overall rating'. Make sure to use the given\n",
    "`cell` function correctly to retrieve cell data.\"\"\"\n",
    "\n",
    "write_readme(readme_text, os.path.join(directories[rubric_item], \"README.txt\"))"
   ]
  },
  {
   "cell_type": "raw",
   "id": "688061d4",
   "metadata": {},
   "source": [
    "# BEGIN players: data structure is not defined correctly"
   ]
  },
  {
   "cell_type": "code",
   "execution_count": 47,
   "id": "57c1b065",
   "metadata": {},
   "outputs": [],
   "source": [
    "rubric_item = 'players: data structure is not defined correctly'\n",
    "nb = read_nb(os.path.join(DIRECTORY, FILE))\n",
    "nb = clean_nb(nb)\n",
    "nb = truncate_nb(nb, end=find_all_cell_indices(nb, \"code\", \"grader.check('players')\")[-1])\n",
    "\n",
    "nb = inject_data_structure_check(nb, 'players', \"TEXT_FORMAT_DICT\")\n",
    "\n",
    "results[rubric_item] = parse_nb(run_nb(nb, os.path.join(directories[rubric_item], FILE)))"
   ]
  },
  {
   "cell_type": "raw",
   "id": "2ab5312f",
   "metadata": {},
   "source": [
    "# END players: data structure is not defined correctly"
   ]
  },
  {
   "cell_type": "markdown",
   "id": "79f40122",
   "metadata": {},
   "source": [
    "### players: logic used to define data structure is incorrect"
   ]
  },
  {
   "cell_type": "code",
   "execution_count": 48,
   "id": "dcabff38",
   "metadata": {},
   "outputs": [],
   "source": [
    "rubric_item = 'players: logic used to define data structure is incorrect'\n",
    "readme_text = \"\"\"Ensure your logic for creating the dictionary of\n",
    "dictionaries matches the provided solution. Check\n",
    "for correct looping through rows and columns, and\n",
    "that each player's ID maps to their respective\n",
    "data. Verify that column names correctly match\n",
    "their values.\"\"\"\n",
    "\n",
    "write_readme(readme_text, os.path.join(directories[rubric_item], \"README.txt\"))"
   ]
  },
  {
   "cell_type": "code",
   "execution_count": 49,
   "id": "754c75b1",
   "metadata": {},
   "outputs": [],
   "source": [
    "random_data(directories[rubric_item], 2000)"
   ]
  },
  {
   "cell_type": "raw",
   "id": "0aacdd51",
   "metadata": {},
   "source": [
    "# BEGIN players: logic used to define data structure is incorrect"
   ]
  },
  {
   "cell_type": "code",
   "execution_count": 50,
   "id": "021a76b2",
   "metadata": {},
   "outputs": [],
   "source": [
    "rubric_item = 'players: logic used to define data structure is incorrect'\n",
    "nb = read_nb(os.path.join(DIRECTORY, FILE))\n",
    "nb = clean_nb(nb)\n",
    "nb = truncate_nb(nb, end=find_all_cell_indices(nb, \"code\", \"grader.check('players')\")[-1])\n",
    "\n",
    "nb = inject_data_structure_check(nb, 'players', \"TEXT_FORMAT_DICT\")\n",
    "\n",
    "results[rubric_item] = parse_nb(run_nb(nb, os.path.join(directories[rubric_item], FILE)))"
   ]
  },
  {
   "cell_type": "raw",
   "id": "fa24cec0",
   "metadata": {},
   "source": [
    "# END players: logic used to define data structure is incorrect"
   ]
  },
  {
   "cell_type": "markdown",
   "id": "ade98159",
   "metadata": {},
   "source": [
    "### players: `cell` function is not used to read data"
   ]
  },
  {
   "cell_type": "code",
   "execution_count": 51,
   "id": "bdf24819",
   "metadata": {},
   "outputs": [],
   "source": [
    "rubric_item = 'players: `cell` function is not used to read data'\n",
    "readme_text = \"\"\"Ensure you are using the `cell` function correctly\n",
    "to retrieve data from the dataset. Review its\n",
    "usage in your code and check if you followed the\n",
    "provided data structure specifications accurately.\n",
    "If values don't match, it may be due to incorrect\n",
    "indexing or misuse of the `cell` function.\"\"\"\n",
    "\n",
    "write_readme(readme_text, os.path.join(directories[rubric_item], \"README.txt\"))"
   ]
  },
  {
   "cell_type": "code",
   "execution_count": 52,
   "id": "590a77b1",
   "metadata": {},
   "outputs": [],
   "source": [
    "random_data(directories[rubric_item], 100)"
   ]
  },
  {
   "cell_type": "raw",
   "id": "63af5b3c",
   "metadata": {},
   "source": [
    "# BEGIN players: `cell` function is not used to read data"
   ]
  },
  {
   "cell_type": "code",
   "execution_count": 53,
   "id": "aa8386a3",
   "metadata": {},
   "outputs": [],
   "source": [
    "rubric_item = 'players: `cell` function is not used to read data'\n",
    "nb = read_nb(os.path.join(DIRECTORY, FILE))\n",
    "nb = clean_nb(nb)\n",
    "nb = truncate_nb(nb, end=find_all_cell_indices(nb, \"code\", \"grader.check('players')\")[-1])\n",
    "\n",
    "nb = inject_data_structure_check(nb, 'players', \"TEXT_FORMAT_DICT\")\n",
    "\n",
    "false_cell_function = '''\n",
    "import csv\n",
    "import random\n",
    "random.seed(0)\n",
    "\n",
    "def process_csv(filename):\n",
    "    example_file = open(filename, encoding=\\'utf-8\\')\n",
    "    example_reader = csv.reader(example_file)\n",
    "    example_data = list(example_reader)\n",
    "    example_file.close()\n",
    "    return example_data\n",
    "    \n",
    "false_csv_data = process_csv(\\'soccer_stars.csv\\')\n",
    "false_csv_header = false_csv_data[0]\n",
    "false_csv_rows = false_csv_data[1:]\n",
    "\n",
    "csv_col_data = []\n",
    "for col in range(len(false_csv_header)):\n",
    "    csv_col_data.append([])\n",
    "    for idx in range(len(false_csv_rows)):\n",
    "        csv_col_data[-1].append(false_csv_rows[idx][col])\n",
    "    random.shuffle(csv_col_data[-1])\n",
    "\n",
    "false_teams, false_leagues = [], []\n",
    "for row in false_csv_rows:\n",
    "    false_teams.append(row[false_csv_header.index('Team')])\n",
    "    false_leagues.append(row[false_csv_header.index('League')])\n",
    "\n",
    "false_teams = sorted(list(set(false_teams)))\n",
    "false_leagues = sorted(list(set(false_leagues)))\n",
    "false_team_to_league = {}\n",
    "for team in false_teams:\n",
    "    false_team_to_league[team] = random.choice(false_leagues)\n",
    "    \n",
    "scrambled_rows = []\n",
    "for idx in range(len(false_csv_rows)):\n",
    "    scrambled_rows.append([])\n",
    "    for col in range(len(csv_col_data)):\n",
    "        scrambled_rows[-1].append(csv_col_data[col][idx])\n",
    "        if col == false_csv_header.index('League'):\n",
    "            scrambled_rows[-1][-1] = false_team_to_league[scrambled_rows[-1][false_csv_header.index('Team')]]\n",
    "            \n",
    "scrambled_rows.sort(key=lambda row: int(row[false_csv_header.index('Overall rating')]), reverse=True)\n",
    "\n",
    "def cell(row_idx, col_name):\n",
    "    col_idx = false_csv_header.index(col_name)\n",
    "    val = scrambled_rows[row_idx][col_idx]\n",
    "    if col_name in ['ID', 'Age', 'Overall rating']:\n",
    "        return int(val)\n",
    "    elif col_name in ['Attacking', 'Movement', 'Defending', 'Goalkeeping']:\n",
    "        return float(val)\n",
    "    elif col_name in ['Height']:\n",
    "        return int(val[:-2])\n",
    "    elif col_name in ['Wage', 'Value']:\n",
    "        return format_euros(val)\n",
    "    else:\n",
    "        return val\n",
    "'''\n",
    "nb = replace_with_false_function(nb, 'cell', false_cell_function)\n",
    "\n",
    "results[rubric_item] = parse_nb(run_nb(nb, os.path.join(directories[rubric_item], FILE)))"
   ]
  },
  {
   "cell_type": "raw",
   "id": "e6597661",
   "metadata": {},
   "source": [
    "# END players: `cell` function is not used to read data"
   ]
  },
  {
   "cell_type": "markdown",
   "id": "d6fa4b22",
   "metadata": {},
   "source": [
    "### q1: `players` data structure is not used to read data"
   ]
  },
  {
   "cell_type": "code",
   "execution_count": 54,
   "id": "20d39e26",
   "metadata": {},
   "outputs": [],
   "source": [
    "rubric_item = 'q1: `players` data structure is not used to read data'\n",
    "readme_text = \"\"\"The test checks if the 'players' data structure is\n",
    "correctly utilized to fetch statistics. To pass,\n",
    "ensure you reference the 'players' dictionary with\n",
    "the player ID as the key to get all column values.\n",
    "Revisit your code and verify you're using\n",
    "'players' as specified.\"\"\"\n",
    "\n",
    "write_readme(readme_text, os.path.join(directories[rubric_item], \"README.txt\"))"
   ]
  },
  {
   "cell_type": "code",
   "execution_count": 55,
   "id": "7c165f09",
   "metadata": {},
   "outputs": [],
   "source": [
    "random_data(directories[rubric_item], 1000)"
   ]
  },
  {
   "cell_type": "raw",
   "id": "b9fd19dc",
   "metadata": {},
   "source": [
    "# BEGIN q1: `players` data structure is not used to read data"
   ]
  },
  {
   "cell_type": "code",
   "execution_count": 56,
   "id": "883a7963",
   "metadata": {},
   "outputs": [],
   "source": [
    "rubric_item = 'q1: `players` data structure is not used to read data'\n",
    "nb = read_nb(os.path.join(DIRECTORY, FILE))\n",
    "nb = clean_nb(nb)\n",
    "nb = truncate_nb(nb, end=find_all_cell_indices(nb, \"code\", \"grader.check('q1')\")[-1])\n",
    "\n",
    "new_players = true_data_structures['players'] + '''\n",
    "import random\n",
    "random.seed(0)\n",
    "\n",
    "col_data = {}\n",
    "for player_id in players:\n",
    "    for col in players[player_id]:\n",
    "        if col not in col_data:\n",
    "            col_data[col] = []\n",
    "        col_data[col].append(players[player_id][col])\n",
    "        \n",
    "for col in col_data:\n",
    "    random.shuffle(col_data[col])\n",
    "\n",
    "false_teams = sorted(list(set(col_data['Team'])))\n",
    "false_leagues = sorted(list(set(col_data['League'])))\n",
    "false_team_to_league = {}\n",
    "for team in false_teams:\n",
    "    false_team_to_league[team] = random.choice(false_leagues)\n",
    "    \n",
    "dict_rows = []\n",
    "for idx in range(len(col_data['ID'])):\n",
    "    dict_rows.append({})\n",
    "    for col in col_data:\n",
    "        dict_rows[-1][col] = col_data[col][idx]\n",
    "        if col == 'League':\n",
    "            dict_rows[-1][col] = false_team_to_league[dict_rows[-1]['Team']]\n",
    "dict_rows.sort(key=lambda row: row['Overall rating'], reverse=True)\n",
    "players = {}\n",
    "for row in dict_rows:\n",
    "    players[row['ID']] = row\n",
    "'''\n",
    "nb = replace_with_false_data_structure(nb, 'players', new_players)\n",
    "\n",
    "results[rubric_item] = parse_nb(run_nb(nb, os.path.join(directories[rubric_item], FILE)))"
   ]
  },
  {
   "cell_type": "raw",
   "id": "4b5cca51",
   "metadata": {},
   "source": [
    "# END q1: `players` data structure is not used to read data"
   ]
  },
  {
   "cell_type": "code",
   "execution_count": 57,
   "id": "98f07fa0",
   "metadata": {},
   "outputs": [],
   "source": [
    "gen_public_tests.gen_public_tests(os.path.join(directories[rubric_item], FILE))"
   ]
  },
  {
   "cell_type": "markdown",
   "id": "f7d9e475",
   "metadata": {},
   "source": [
    "### q2: incorrect logic is used to find the player with the highest `Value`"
   ]
  },
  {
   "cell_type": "code",
   "execution_count": 58,
   "id": "5eef0a1c",
   "metadata": {},
   "outputs": [],
   "source": [
    "rubric_item = 'q2: incorrect logic is used to find the player with the highest `Value`'\n",
    "readme_text = \"\"\"Ensure your logic correctly identifies the player\n",
    "with the highest `Value`. Verify that you loop\n",
    "through all players, compare their `Value`\n",
    "correctly, and update the highest valued player\n",
    "accordingly. Consider boundary conditions and\n",
    "initialization of variables. Review your\n",
    "comparison and assignment statements.\"\"\"\n",
    "\n",
    "write_readme(readme_text, os.path.join(directories[rubric_item], \"README.txt\"))"
   ]
  },
  {
   "cell_type": "code",
   "execution_count": 59,
   "id": "84e27045",
   "metadata": {},
   "outputs": [],
   "source": [
    "import os\n",
    "import csv\n",
    "import random\n",
    "\n",
    "def modify_data(directory):\n",
    "    \"\"\"\n",
    "    This function modifies the dataset by selecting a random player that does not have\n",
    "    the highest value and then changing the 'Value' column so that it now becomes the\n",
    "    highest value in the dataset.\n",
    "    \"\"\"\n",
    "    # Load the dataset from the CSV file\n",
    "    soccer_stars_csv = os.path.join(directory, 'soccer_stars.csv')\n",
    "    \n",
    "    with open(soccer_stars_csv, mode='r', encoding='utf-8', newline='') as file:\n",
    "        reader = csv.DictReader(file)\n",
    "        data = list(reader)\n",
    "    \n",
    "    # Find the current highest value in the dataset\n",
    "    highest_value = max([player['Value'] for player in data], key=lambda x: float(x[1:].replace('M', 'e6').replace('K', 'e3')))\n",
    "    \n",
    "    # Select a random player that does not have the highest value\n",
    "    player = random.choice([p for p in data if p['Value'] != highest_value])\n",
    "    \n",
    "    # Modify the 'Value' of the selected player to be higher than the current highest value\n",
    "    new_value = float(highest_value[1:].replace('M', 'e6').replace('K', 'e3')) + 100e6\n",
    "    \n",
    "    # Update the value to the right format with at most one significant digit\n",
    "    if new_value >= 1e6:\n",
    "        new_value = f\"€{new_value/1e6:.1f}M\"  # Represent in millions with 'M'\n",
    "    else:\n",
    "        new_value = f\"€{new_value/1e3:.1f}K\"  # Represent in thousands with 'K'\n",
    "    player['Value'] = new_value\n",
    "\n",
    "    # Save the modified dataset back to the CSV file\n",
    "    with open(soccer_stars_csv, mode='w', encoding='utf-8', newline='') as file:\n",
    "        writer = csv.DictWriter(file, fieldnames=data[0].keys())\n",
    "        writer.writeheader()\n",
    "        writer.writerows(data)\n",
    "\n",
    "# Call the modify_data function with the given project directory\n",
    "modify_data(directories[rubric_item])"
   ]
  },
  {
   "cell_type": "raw",
   "id": "e1025531",
   "metadata": {},
   "source": [
    "# BEGIN q2: incorrect logic is used to find the player with the highest `Value`"
   ]
  },
  {
   "cell_type": "code",
   "execution_count": 60,
   "id": "04a208b7",
   "metadata": {},
   "outputs": [],
   "source": [
    "rubric_item = 'q2: incorrect logic is used to find the player with the highest `Value`'\n",
    "nb = clean_nb(read_nb(os.path.join(DIRECTORY, FILE)))\n",
    "nb = truncate_nb(nb, end=find_all_cell_indices(nb, \"code\", \"grader.check('q2')\")[-1])\n",
    "\n",
    "results[rubric_item] = parse_nb(run_nb(nb, os.path.join(directories[rubric_item], FILE)))"
   ]
  },
  {
   "cell_type": "raw",
   "id": "dbe9a7f0",
   "metadata": {},
   "source": [
    "# END q2: incorrect logic is used to find the player with the highest `Value`"
   ]
  },
  {
   "cell_type": "code",
   "execution_count": 61,
   "id": "e7f44111",
   "metadata": {},
   "outputs": [],
   "source": [
    "gen_public_tests.gen_public_tests(os.path.join(directories[rubric_item], FILE))"
   ]
  },
  {
   "cell_type": "markdown",
   "id": "4f9dc78f",
   "metadata": {},
   "source": [
    "### q2: incorrect logic is used to find the statistics of the player with the highest `Value`"
   ]
  },
  {
   "cell_type": "code",
   "execution_count": 62,
   "id": "8fbaf6ea",
   "metadata": {},
   "outputs": [],
   "source": [
    "rubric_item = 'q2: incorrect logic is used to find the statistics of the player with the highest `Value`'\n",
    "readme_text = \"\"\"Check your code to ensure that it correctly\n",
    "identifies the player with the highest 'Value' and\n",
    "that you are extracting all their statistics\n",
    "correctly. The test uses a modified dataset, so\n",
    "make sure you're not relying on implicit dataset\n",
    "patterns, but instead using logical comparisons to\n",
    "find the correct result.\"\"\"\n",
    "\n",
    "write_readme(readme_text, os.path.join(directories[rubric_item], \"README.txt\"))"
   ]
  },
  {
   "cell_type": "code",
   "execution_count": 63,
   "id": "27267355",
   "metadata": {},
   "outputs": [],
   "source": [
    "import os\n",
    "import csv\n",
    "import random\n",
    "\n",
    "def modify_data(directory):\n",
    "    # Read the csv file and store the rows in a list\n",
    "    soccer_stars_path = os.path.join(directory, 'soccer_stars.csv')\n",
    "    with open(soccer_stars_path, mode='r', encoding='utf-8', newline='') as file:\n",
    "        reader = csv.DictReader(file)\n",
    "        rows = list(reader)\n",
    "\n",
    "    # Find the index of the row with the highest 'Value'\n",
    "    highest_value_index = None\n",
    "    highest_value = -1\n",
    "    for index, row in enumerate(rows):\n",
    "        value = float(row['Value'][1:].replace('M', 'e6').replace('K', 'e3'))\n",
    "        if value > highest_value:\n",
    "            highest_value = value\n",
    "            highest_value_index = index\n",
    "    \n",
    "    # Extract the column names without 'ID' and 'Value'\n",
    "    column_names = [col for col in rows[0].keys() if col not in ('ID', 'Value')]\n",
    "\n",
    "    # For each chosen column, modify the value to match that of the row with the highest 'Value'\n",
    "    for column in column_names:\n",
    "        value_to_copy = rows[highest_value_index][column]\n",
    "        # Pick a random row other than the one with the highest 'Value'\n",
    "        random_row_index = random.choice([i for i in range(len(rows)) if i != highest_value_index])\n",
    "        rows[random_row_index][column] = value_to_copy\n",
    "\n",
    "    # Write the modified rows back to the csv file\n",
    "    with open(soccer_stars_path, mode='w', encoding='utf-8', newline='') as file:\n",
    "        writer = csv.DictWriter(file, fieldnames=rows[0].keys())\n",
    "        writer.writeheader()\n",
    "        for row in rows:\n",
    "            writer.writerow(row)\n",
    "\n",
    "# Generate random data\n",
    "random_data(directories[rubric_item], 1000)\n",
    "modify_data(directories[rubric_item])"
   ]
  },
  {
   "cell_type": "raw",
   "id": "bc428e5f",
   "metadata": {},
   "source": [
    "# BEGIN q2: incorrect logic is used to find the statistics of the player with the highest `Value`"
   ]
  },
  {
   "cell_type": "code",
   "execution_count": 64,
   "id": "df4f0250",
   "metadata": {},
   "outputs": [],
   "source": [
    "rubric_item = 'q2: incorrect logic is used to find the statistics of the player with the highest `Value`'\n",
    "nb = clean_nb(read_nb(os.path.join(DIRECTORY, FILE)))\n",
    "nb = truncate_nb(nb, end=find_all_cell_indices(nb, \"code\", \"grader.check('q2')\")[-1])\n",
    "\n",
    "results[rubric_item] = parse_nb(run_nb(nb, os.path.join(directories[rubric_item], FILE)))"
   ]
  },
  {
   "cell_type": "raw",
   "id": "c4f94708",
   "metadata": {},
   "source": [
    "# END q2: incorrect logic is used to find the statistics of the player with the highest `Value`"
   ]
  },
  {
   "cell_type": "code",
   "execution_count": 65,
   "id": "e088a98a",
   "metadata": {},
   "outputs": [],
   "source": [
    "gen_public_tests.gen_public_tests(os.path.join(directories[rubric_item], FILE))"
   ]
  },
  {
   "cell_type": "markdown",
   "id": "0e657069",
   "metadata": {},
   "source": [
    "### q2: `players` data structure is not used to read data"
   ]
  },
  {
   "cell_type": "code",
   "execution_count": 66,
   "id": "3049cab4",
   "metadata": {},
   "outputs": [],
   "source": [
    "rubric_item = 'q2: `players` data structure is not used to read data'\n",
    "readme_text = \"\"\"The test checks if the 'players' data structure is\n",
    "correctly utilized to fetch statistics. To pass,\n",
    "ensure you reference the 'players' dictionary with\n",
    "the player ID as the key to get all column values.\n",
    "Revisit your code and verify you're using\n",
    "'players' as specified.\"\"\"\n",
    "\n",
    "write_readme(readme_text, os.path.join(directories[rubric_item], \"README.txt\"))"
   ]
  },
  {
   "cell_type": "code",
   "execution_count": 67,
   "id": "0ffb0a26",
   "metadata": {},
   "outputs": [],
   "source": [
    "random_data(directories[rubric_item], 1000)"
   ]
  },
  {
   "cell_type": "raw",
   "id": "278243ba",
   "metadata": {},
   "source": [
    "# BEGIN q2: `players` data structure is not used to read data"
   ]
  },
  {
   "cell_type": "code",
   "execution_count": 68,
   "id": "14f7e28b",
   "metadata": {},
   "outputs": [],
   "source": [
    "rubric_item = 'q2: `players` data structure is not used to read data'\n",
    "nb = read_nb(os.path.join(DIRECTORY, FILE))\n",
    "nb = clean_nb(nb)\n",
    "nb = truncate_nb(nb, end=find_all_cell_indices(nb, \"code\", \"grader.check('q2')\")[-1])\n",
    "\n",
    "new_players = true_data_structures['players'] + '''\n",
    "import random\n",
    "random.seed(0)\n",
    "\n",
    "col_data = {}\n",
    "for player_id in players:\n",
    "    for col in players[player_id]:\n",
    "        if col not in col_data:\n",
    "            col_data[col] = []\n",
    "        col_data[col].append(players[player_id][col])\n",
    "        \n",
    "for col in col_data:\n",
    "    random.shuffle(col_data[col])\n",
    "\n",
    "false_teams = sorted(list(set(col_data['Team'])))\n",
    "false_leagues = sorted(list(set(col_data['League'])))\n",
    "false_team_to_league = {}\n",
    "for team in false_teams:\n",
    "    false_team_to_league[team] = random.choice(false_leagues)\n",
    "    \n",
    "dict_rows = []\n",
    "for idx in range(len(col_data['ID'])):\n",
    "    dict_rows.append({})\n",
    "    for col in col_data:\n",
    "        dict_rows[-1][col] = col_data[col][idx]\n",
    "        if col == 'League':\n",
    "            dict_rows[-1][col] = false_team_to_league[dict_rows[-1]['Team']]\n",
    "dict_rows.sort(key=lambda row: row['Overall rating'], reverse=True)\n",
    "players = {}\n",
    "for row in dict_rows:\n",
    "    players[row['ID']] = row\n",
    "'''\n",
    "nb = replace_with_false_data_structure(nb, 'players', new_players)\n",
    "\n",
    "results[rubric_item] = parse_nb(run_nb(nb, os.path.join(directories[rubric_item], FILE)))"
   ]
  },
  {
   "cell_type": "raw",
   "id": "f4d88f76",
   "metadata": {},
   "source": [
    "# END q2: `players` data structure is not used to read data"
   ]
  },
  {
   "cell_type": "code",
   "execution_count": 69,
   "id": "d4ab1aa5",
   "metadata": {},
   "outputs": [],
   "source": [
    "gen_public_tests.gen_public_tests(os.path.join(directories[rubric_item], FILE))"
   ]
  },
  {
   "cell_type": "markdown",
   "id": "fce326f9",
   "metadata": {},
   "source": [
    "### q3: incorrect logic is used to find the player with the highest `Wage`"
   ]
  },
  {
   "cell_type": "code",
   "execution_count": 70,
   "id": "3dc85192",
   "metadata": {},
   "outputs": [],
   "source": [
    "rubric_item = 'q3: incorrect logic is used to find the player with the highest `Wage`'\n",
    "readme_text = \"\"\"Ensure that your logic correctly identifies the\n",
    "unique player with the highest wage by comparing\n",
    "each player's wage. Review your loop and\n",
    "comparison conditions for potential errors.\"\"\"\n",
    "\n",
    "write_readme(readme_text, os.path.join(directories[rubric_item], \"README.txt\"))"
   ]
  },
  {
   "cell_type": "code",
   "execution_count": 71,
   "id": "1f2635f1",
   "metadata": {},
   "outputs": [],
   "source": [
    "import os\n",
    "import csv\n",
    "import random\n",
    "\n",
    "def modify_data(directory):\n",
    "    # Complete path to the soccer_stars.csv file\n",
    "    file_path = os.path.join(directory, 'soccer_stars.csv')\n",
    "\n",
    "    # Read the data from csv\n",
    "    with open(file_path, mode='r', newline='', encoding='utf-8') as file:\n",
    "        reader = csv.DictReader(file)\n",
    "        data = list(reader)\n",
    "    \n",
    "    # Get the maximum wage and its nationality\n",
    "    max_wage = max(data, key=lambda x: float(x['Wage'][1:].replace('K','e3').replace('M','e6')))\n",
    "    max_wage_value = float(max_wage['Wage'][1:].replace('K','e3').replace('M','e6'))\n",
    "    max_wage_nationality = max_wage['Nationality']\n",
    "\n",
    "    # Select a random player that does not have the maximum wage\n",
    "    players_except_max_wage = [player for player in data if player['Wage'] != max_wage['Wage']]\n",
    "    random_player = random.choice(players_except_max_wage)\n",
    "    \n",
    "    # Assign the new highest wage and fix the Nationality of max wage player\n",
    "    random_player['Wage'] = f\"€{(max_wage_value + 100e3)/1e6:.1f}K\"\n",
    "    random_player['Nationality'] = max_wage_nationality\n",
    "\n",
    "    # Choose a random wage value such that it is smaller than the current maximum\n",
    "    # Also, ensure all other players' nationalities are different from the max wage player's nationality\n",
    "    for player in data:\n",
    "        if player['Wage'] != random_player['Wage']:\n",
    "            player['Nationality'] = random.choice(\n",
    "                [nat for nat in set(p['Nationality'] for p in data) if nat != max_wage_nationality])\n",
    "\n",
    "    # Write the updated data back to csv\n",
    "    with open(file_path, mode='w', newline='', encoding='utf-8') as file:\n",
    "        writer = csv.DictWriter(file, fieldnames=data[0].keys())\n",
    "        writer.writeheader()\n",
    "        writer.writerows(data)\n",
    "\n",
    "# Call the modify_data function with the appropriate directory\n",
    "modify_data(directories[rubric_item])"
   ]
  },
  {
   "cell_type": "raw",
   "id": "6ed621dc",
   "metadata": {},
   "source": [
    "# BEGIN q3: incorrect logic is used to find the player with the highest `Wage`"
   ]
  },
  {
   "cell_type": "code",
   "execution_count": 72,
   "id": "c9968c2b",
   "metadata": {},
   "outputs": [],
   "source": [
    "rubric_item = 'q3: incorrect logic is used to find the player with the highest `Wage`'\n",
    "nb = clean_nb(read_nb(os.path.join(DIRECTORY, FILE)))\n",
    "nb = truncate_nb(nb, end=find_all_cell_indices(nb, \"code\", \"grader.check('q3')\")[-1])\n",
    "\n",
    "results[rubric_item] = parse_nb(run_nb(nb, os.path.join(directories[rubric_item], FILE)))"
   ]
  },
  {
   "cell_type": "raw",
   "id": "1fe63d3b",
   "metadata": {},
   "source": [
    "# END q3: incorrect logic is used to find the player with the highest `Wage`"
   ]
  },
  {
   "cell_type": "code",
   "execution_count": 73,
   "id": "2355a433",
   "metadata": {},
   "outputs": [],
   "source": [
    "gen_public_tests.gen_public_tests(os.path.join(directories[rubric_item], FILE))"
   ]
  },
  {
   "cell_type": "markdown",
   "id": "f7f1a9e3",
   "metadata": {},
   "source": [
    "### q3: incorrect logic is used to find the `Nationality` of the player with the highest `Wage`"
   ]
  },
  {
   "cell_type": "code",
   "execution_count": 74,
   "id": "8653139f",
   "metadata": {},
   "outputs": [],
   "source": [
    "rubric_item = 'q3: incorrect logic is used to find the `Nationality` of the player with the highest `Wage`'\n",
    "readme_text = \"\"\"Check that your code correctly identifies the\n",
    "player with the highest wage by comparing wages,\n",
    "not by other attributes. Ensure wages are accessed\n",
    "appropriately and comparisons are made correctly.\"\"\"\n",
    "\n",
    "write_readme(readme_text, os.path.join(directories[rubric_item], \"README.txt\"))"
   ]
  },
  {
   "cell_type": "code",
   "execution_count": 75,
   "id": "abc58d21",
   "metadata": {},
   "outputs": [],
   "source": [
    "import os\n",
    "import random\n",
    "import csv\n",
    "\n",
    "def modify_data(directory):\n",
    "    # Load the data from the csv file\n",
    "    file_path = os.path.join(directory, 'soccer_stars.csv')\n",
    "    players = []\n",
    "    with open(file_path, 'r', encoding='utf-8', newline='') as file:\n",
    "        reader = csv.DictReader(file)\n",
    "        for row in reader:\n",
    "            players.append(row)\n",
    "    \n",
    "    # Find the player with the highest wage\n",
    "    highest_wage = 0\n",
    "    player_with_highest_wage = None\n",
    "    for player in players:\n",
    "        wage_in_euros = float(player['Wage'][1:].replace('M', 'e6').replace('K', 'e3'))\n",
    "        if wage_in_euros > highest_wage:\n",
    "            highest_wage = wage_in_euros\n",
    "            player_with_highest_wage = player\n",
    "    \n",
    "    # Set of unique nationalities to avoid having the same nationality as the player with the highest wage\n",
    "    unique_nationalities = set(player['Nationality'] for player in players)\n",
    "    try:\n",
    "        unique_nationalities.remove(player_with_highest_wage['Nationality'])\n",
    "    except KeyError:\n",
    "        pass\n",
    "    \n",
    "    # Extract the column names without 'ID' and 'Value'\n",
    "    column_names = [col for col in players[0].keys() if col not in ('ID', 'Wage', 'Nationality')]\n",
    "\n",
    "    # For each chosen column, modify the value to match that of the row with the highest 'Wage'\n",
    "    for column in column_names:\n",
    "        value_to_copy = player_with_highest_wage[column]\n",
    "        # Pick a random row other than the one with the highest 'Wage'\n",
    "        random_player = random.choice([p for p in players if p != player_with_highest_wage])\n",
    "        random_player[column] = value_to_copy\n",
    "        \n",
    "    for player in players:\n",
    "        if player != player_with_highest_wage:\n",
    "            player['Nationality'] = random.choice(list(unique_nationalities))\n",
    "    \n",
    "    # Write the data back to the csv file\n",
    "    with open(file_path, 'w', encoding='utf-8', newline='') as file:\n",
    "        fieldnames = players[0].keys()\n",
    "        writer = csv.DictWriter(file, fieldnames=fieldnames)\n",
    "        writer.writeheader()\n",
    "        writer.writerows(players)\n",
    "\n",
    "# First, create completely modified random data\n",
    "random_data(directories[rubric_item], 1000)\n",
    "\n",
    "# Modify the random data as per the test requirements\n",
    "modify_data(directories[rubric_item])"
   ]
  },
  {
   "cell_type": "raw",
   "id": "2667f557",
   "metadata": {},
   "source": [
    "# BEGIN q3: incorrect logic is used to find the `Nationality` of the player with the highest `Wage`"
   ]
  },
  {
   "cell_type": "code",
   "execution_count": 76,
   "id": "919e10ef",
   "metadata": {},
   "outputs": [],
   "source": [
    "rubric_item = 'q3: incorrect logic is used to find the `Nationality` of the player with the highest `Wage`'\n",
    "nb = clean_nb(read_nb(os.path.join(DIRECTORY, FILE)))\n",
    "nb = truncate_nb(nb, end=find_all_cell_indices(nb, \"code\", \"grader.check('q3')\")[-1])\n",
    "\n",
    "results[rubric_item] = parse_nb(run_nb(nb, os.path.join(directories[rubric_item], FILE)))"
   ]
  },
  {
   "cell_type": "raw",
   "id": "dcd85e0a",
   "metadata": {},
   "source": [
    "# END q3: incorrect logic is used to find the `Nationality` of the player with the highest `Wage`"
   ]
  },
  {
   "cell_type": "code",
   "execution_count": 77,
   "id": "417aaeb2",
   "metadata": {},
   "outputs": [],
   "source": [
    "gen_public_tests.gen_public_tests(os.path.join(directories[rubric_item], FILE))"
   ]
  },
  {
   "cell_type": "markdown",
   "id": "0f615471",
   "metadata": {},
   "source": [
    "### q3: `players` data structure is not used to read data"
   ]
  },
  {
   "cell_type": "code",
   "execution_count": 78,
   "id": "4b85e6da",
   "metadata": {},
   "outputs": [],
   "source": [
    "rubric_item = 'q3: `players` data structure is not used to read data'\n",
    "readme_text = \"\"\"The test checks if the 'players' data structure is\n",
    "correctly utilized to fetch statistics. To pass,\n",
    "ensure you reference the 'players' dictionary with\n",
    "the player ID as the key to get all column values.\n",
    "Revisit your code and verify you're using\n",
    "'players' as specified.\"\"\"\n",
    "\n",
    "write_readme(readme_text, os.path.join(directories[rubric_item], \"README.txt\"))"
   ]
  },
  {
   "cell_type": "code",
   "execution_count": 79,
   "id": "5f3a3ebb",
   "metadata": {},
   "outputs": [],
   "source": [
    "random_data(directories[rubric_item], 1000)"
   ]
  },
  {
   "cell_type": "raw",
   "id": "1ea2ad5a",
   "metadata": {},
   "source": [
    "# BEGIN q3: `players` data structure is not used to read data"
   ]
  },
  {
   "cell_type": "code",
   "execution_count": 80,
   "id": "2d06169e",
   "metadata": {},
   "outputs": [],
   "source": [
    "rubric_item = 'q3: `players` data structure is not used to read data'\n",
    "nb = read_nb(os.path.join(DIRECTORY, FILE))\n",
    "nb = clean_nb(nb)\n",
    "nb = truncate_nb(nb, end=find_all_cell_indices(nb, \"code\", \"grader.check('q3')\")[-1])\n",
    "\n",
    "new_players = true_data_structures['players'] + '''\n",
    "import random\n",
    "random.seed(0)\n",
    "\n",
    "col_data = {}\n",
    "for player_id in players:\n",
    "    for col in players[player_id]:\n",
    "        if col not in col_data:\n",
    "            col_data[col] = []\n",
    "        col_data[col].append(players[player_id][col])\n",
    "        \n",
    "for col in col_data:\n",
    "    random.shuffle(col_data[col])\n",
    "\n",
    "false_teams = sorted(list(set(col_data['Team'])))\n",
    "false_leagues = sorted(list(set(col_data['League'])))\n",
    "false_team_to_league = {}\n",
    "for team in false_teams:\n",
    "    false_team_to_league[team] = random.choice(false_leagues)\n",
    "    \n",
    "dict_rows = []\n",
    "for idx in range(len(col_data['ID'])):\n",
    "    dict_rows.append({})\n",
    "    for col in col_data:\n",
    "        dict_rows[-1][col] = col_data[col][idx]\n",
    "        if col == 'League':\n",
    "            dict_rows[-1][col] = false_team_to_league[dict_rows[-1]['Team']]\n",
    "dict_rows.sort(key=lambda row: row['Overall rating'], reverse=True)\n",
    "players = {}\n",
    "for row in dict_rows:\n",
    "    players[row['ID']] = row\n",
    "'''\n",
    "nb = replace_with_false_data_structure(nb, 'players', new_players)\n",
    "\n",
    "results[rubric_item] = parse_nb(run_nb(nb, os.path.join(directories[rubric_item], FILE)))"
   ]
  },
  {
   "cell_type": "raw",
   "id": "fa79eae7",
   "metadata": {},
   "source": [
    "# END q3: `players` data structure is not used to read data"
   ]
  },
  {
   "cell_type": "code",
   "execution_count": 81,
   "id": "7d483302",
   "metadata": {},
   "outputs": [],
   "source": [
    "gen_public_tests.gen_public_tests(os.path.join(directories[rubric_item], FILE))"
   ]
  },
  {
   "cell_type": "markdown",
   "id": "acd1520f",
   "metadata": {},
   "source": [
    "### q4: the player with the highest `Wage` is recomputed"
   ]
  },
  {
   "cell_type": "code",
   "execution_count": 82,
   "id": "f823cbb7",
   "metadata": {},
   "outputs": [],
   "source": [
    "rubric_item = 'q4: the player with the highest `Wage` is recomputed'\n",
    "readme_text = \"\"\"Ensure you're using the `ID` from Question 3 to\n",
    "find the `Position` of the player with the highest\n",
    "`Wage`. Check if you've stored the `ID` correctly\n",
    "and are not computing the player with the highest\n",
    "`Wage` again. Review how to access the `Position`\n",
    "using the stored `ID`.\"\"\"\n",
    "\n",
    "write_readme(readme_text, os.path.join(directories[rubric_item], \"README.txt\"))"
   ]
  },
  {
   "cell_type": "code",
   "execution_count": 83,
   "id": "cb4f4828",
   "metadata": {},
   "outputs": [],
   "source": [
    "import os\n",
    "import random\n",
    "import csv\n",
    "\n",
    "def modify_data(directory):\n",
    "    # Load the data from the csv file\n",
    "    file_path = os.path.join(directory, 'soccer_stars.csv')\n",
    "    players = []\n",
    "    with open(file_path, 'r', encoding='utf-8', newline='') as file:\n",
    "        reader = csv.DictReader(file)\n",
    "        for row in reader:\n",
    "            players.append(row)\n",
    "    \n",
    "    # Find the player with the highest wage\n",
    "    highest_wage = 0\n",
    "    player_with_highest_wage = None\n",
    "    for player in players:\n",
    "        wage_in_euros = float(player['Wage'][1:].replace('M', 'e6').replace('K', 'e3'))\n",
    "        if wage_in_euros > highest_wage:\n",
    "            highest_wage = wage_in_euros\n",
    "            player_with_highest_wage = player\n",
    "    \n",
    "    # Set of unique positions to avoid having the same position as the player with the highest wage\n",
    "    unique_positions = set(player['Position'] for player in players)\n",
    "    try:\n",
    "        unique_positions.remove(player_with_highest_wage['Position'])\n",
    "    except KeyError:\n",
    "        pass\n",
    "        \n",
    "    for player in players:\n",
    "        if player != player_with_highest_wage:\n",
    "            player['Position'] = random.choice(list(unique_positions))\n",
    "    \n",
    "    # Write the data back to the csv file\n",
    "    with open(file_path, 'w', encoding='utf-8', newline='') as file:\n",
    "        fieldnames = players[0].keys()\n",
    "        writer = csv.DictWriter(file, fieldnames=fieldnames)\n",
    "        writer.writeheader()\n",
    "        writer.writerows(players)\n",
    "\n",
    "# First, create completely modified random data\n",
    "random_data(directories[rubric_item], 1000)\n",
    "\n",
    "# Modify the random data as per the test requirements\n",
    "modify_data(directories[rubric_item])"
   ]
  },
  {
   "cell_type": "raw",
   "id": "a15a358d",
   "metadata": {},
   "source": [
    "# BEGIN q4: the player with the highest `Wage` is recomputed"
   ]
  },
  {
   "cell_type": "code",
   "execution_count": 84,
   "id": "d4fed44e",
   "metadata": {},
   "outputs": [],
   "source": [
    "rubric_item = 'q4: the player with the highest `Wage` is recomputed'\n",
    "nb = read_nb(os.path.join(DIRECTORY, FILE))\n",
    "nb = clean_nb(nb)\n",
    "nb = truncate_nb(nb, end=find_all_cell_indices(nb, \"code\", \"grader.check('q4')\")[-1])\n",
    "\n",
    "# Inject code to find the index of the player with the highest Wage and modify their Wage to be smaller\n",
    "inject_code_before_q4 = '''\n",
    "max_wage = 0\n",
    "max_wage_index = None\n",
    "for i, player in players.items():\n",
    "    if player['Wage'] > max_wage:\n",
    "        max_wage = player['Wage']\n",
    "        max_wage_index = i\n",
    "\n",
    "# Modify the player's Wage\n",
    "players[max_wage_index]['Wage'] = 100\n",
    "'''\n",
    "# Inject our modification code before the start of Question 4.\n",
    "nb = inject_code(nb, find_all_cell_indices(nb, \"markdown\", '**Question 4:**')[-1], inject_code_before_q4)\n",
    "\n",
    "# Now run the modified notebook and parse the output.\n",
    "results[rubric_item] = parse_nb(run_nb(nb, os.path.join(directories[rubric_item], FILE)))"
   ]
  },
  {
   "cell_type": "raw",
   "id": "28205ad4",
   "metadata": {},
   "source": [
    "# END q4: the player with the highest `Wage` is recomputed"
   ]
  },
  {
   "cell_type": "code",
   "execution_count": 85,
   "id": "2ce1ee03",
   "metadata": {},
   "outputs": [],
   "source": [
    "gen_public_tests.gen_public_tests(os.path.join(directories[rubric_item], FILE))"
   ]
  },
  {
   "cell_type": "markdown",
   "id": "0e223e63",
   "metadata": {},
   "source": [
    "### q4: incorrect logic is used to find the `Position` of the player with the highest `Wage`"
   ]
  },
  {
   "cell_type": "code",
   "execution_count": 86,
   "id": "9ddb2f83",
   "metadata": {},
   "outputs": [],
   "source": [
    "rubric_item = 'q4: incorrect logic is used to find the `Position` of the player with the highest `Wage`'\n",
    "readme_text = \"\"\"Check that the logic in your code uses the `ID`\n",
    "from Question 3 to find the `Position` of the\n",
    "player with the highest `Wage`. Avoid re-computing\n",
    "or using any other attributes to identify the\n",
    "player. Make sure the `ID` is correctly stored and\n",
    "used in Question 4.\"\"\"\n",
    "\n",
    "write_readme(readme_text, os.path.join(directories[rubric_item], \"README.txt\"))"
   ]
  },
  {
   "cell_type": "code",
   "execution_count": 87,
   "id": "882dd4b1",
   "metadata": {},
   "outputs": [],
   "source": [
    "import os\n",
    "import random\n",
    "import csv\n",
    "\n",
    "def modify_data(directory):\n",
    "    # Load the data from the csv file\n",
    "    file_path = os.path.join(directory, 'soccer_stars.csv')\n",
    "    players = []\n",
    "    with open(file_path, 'r', encoding='utf-8', newline='') as file:\n",
    "        reader = csv.DictReader(file)\n",
    "        for row in reader:\n",
    "            players.append(row)\n",
    "    \n",
    "    # Find the player with the highest wage\n",
    "    highest_wage = 0\n",
    "    player_with_highest_wage = None\n",
    "    for player in players:\n",
    "        wage_in_euros = float(player['Wage'][1:].replace('M', 'e6').replace('K', 'e3'))\n",
    "        if wage_in_euros > highest_wage:\n",
    "            highest_wage = wage_in_euros\n",
    "            player_with_highest_wage = player\n",
    "    \n",
    "    # Set of unique positions to avoid having the same position as the player with the highest wage\n",
    "    unique_positions = set(player['Position'] for player in players)\n",
    "    try:\n",
    "        unique_positions.remove(player_with_highest_wage['Position'])\n",
    "    except KeyError:\n",
    "        pass\n",
    "    \n",
    "    # Extract the column names without 'ID' and 'Value'\n",
    "    column_names = [col for col in players[0].keys() if col not in ('ID', 'Wage', 'Position')]\n",
    "\n",
    "    # For each chosen column, modify the value to match that of the row with the highest 'Wage'\n",
    "    for column in column_names:\n",
    "        value_to_copy = player_with_highest_wage[column]\n",
    "        # Pick a random row other than the one with the highest 'Wage'\n",
    "        random_player = random.choice([p for p in players if p != player_with_highest_wage])\n",
    "        random_player[column] = value_to_copy\n",
    "        \n",
    "    for player in players:\n",
    "        if player != player_with_highest_wage:\n",
    "            player['Position'] = random.choice(list(unique_positions))\n",
    "    \n",
    "    # Write the data back to the csv file\n",
    "    with open(file_path, 'w', encoding='utf-8', newline='') as file:\n",
    "        fieldnames = players[0].keys()\n",
    "        writer = csv.DictWriter(file, fieldnames=fieldnames)\n",
    "        writer.writeheader()\n",
    "        writer.writerows(players)\n",
    "\n",
    "# First, create completely modified random data\n",
    "random_data(directories[rubric_item], 1000)\n",
    "\n",
    "# Modify the random data as per the test requirements\n",
    "modify_data(directories[rubric_item])"
   ]
  },
  {
   "cell_type": "raw",
   "id": "7b3a41b5",
   "metadata": {},
   "source": [
    "# BEGIN q4: incorrect logic is used to find the `Position` of the player with the highest `Wage`"
   ]
  },
  {
   "cell_type": "code",
   "execution_count": 88,
   "id": "5e4b802f",
   "metadata": {},
   "outputs": [],
   "source": [
    "rubric_item = 'q4: incorrect logic is used to find the `Position` of the player with the highest `Wage`'\n",
    "nb = clean_nb(read_nb(os.path.join(DIRECTORY, FILE)))\n",
    "nb = truncate_nb(nb, end=find_all_cell_indices(nb, \"code\", \"grader.check('q4')\")[-1])\n",
    "\n",
    "results[rubric_item] = parse_nb(run_nb(nb, os.path.join(directories[rubric_item], FILE)))"
   ]
  },
  {
   "cell_type": "raw",
   "id": "7bcb2221",
   "metadata": {},
   "source": [
    "# END q4: incorrect logic is used to find the `Position` of the player with the highest `Wage`"
   ]
  },
  {
   "cell_type": "code",
   "execution_count": 89,
   "id": "599bc50b",
   "metadata": {},
   "outputs": [],
   "source": [
    "gen_public_tests.gen_public_tests(os.path.join(directories[rubric_item], FILE))"
   ]
  },
  {
   "cell_type": "markdown",
   "id": "dcd40e74",
   "metadata": {},
   "source": [
    "### q4: `players` data structure is not used to read data"
   ]
  },
  {
   "cell_type": "code",
   "execution_count": 90,
   "id": "ff85052e",
   "metadata": {},
   "outputs": [],
   "source": [
    "rubric_item = 'q4: `players` data structure is not used to read data'\n",
    "readme_text = \"\"\"The test checks if the 'players' data structure is\n",
    "correctly utilized to fetch statistics. To pass,\n",
    "ensure you reference the 'players' dictionary with\n",
    "the player ID as the key to get all column values.\n",
    "Revisit your code and verify you're using\n",
    "'players' as specified.\"\"\"\n",
    "\n",
    "write_readme(readme_text, os.path.join(directories[rubric_item], \"README.txt\"))"
   ]
  },
  {
   "cell_type": "code",
   "execution_count": 91,
   "id": "20533908",
   "metadata": {},
   "outputs": [],
   "source": [
    "random_data(directories[rubric_item], 1000)"
   ]
  },
  {
   "cell_type": "raw",
   "id": "0a872af1",
   "metadata": {},
   "source": [
    "# BEGIN q4: `players` data structure is not used to read data"
   ]
  },
  {
   "cell_type": "code",
   "execution_count": 92,
   "id": "45b1a37f",
   "metadata": {},
   "outputs": [],
   "source": [
    "rubric_item = 'q4: `players` data structure is not used to read data'\n",
    "nb = read_nb(os.path.join(DIRECTORY, FILE))\n",
    "nb = clean_nb(nb)\n",
    "nb = truncate_nb(nb, end=find_all_cell_indices(nb, \"code\", \"grader.check('q4')\")[-1])\n",
    "\n",
    "new_players = true_data_structures['players'] + '''\n",
    "import random\n",
    "random.seed(0)\n",
    "\n",
    "col_data = {}\n",
    "for player_id in players:\n",
    "    for col in players[player_id]:\n",
    "        if col not in col_data:\n",
    "            col_data[col] = []\n",
    "        col_data[col].append(players[player_id][col])\n",
    "        \n",
    "for col in col_data:\n",
    "    random.shuffle(col_data[col])\n",
    "\n",
    "false_teams = sorted(list(set(col_data['Team'])))\n",
    "false_leagues = sorted(list(set(col_data['League'])))\n",
    "false_team_to_league = {}\n",
    "for team in false_teams:\n",
    "    false_team_to_league[team] = random.choice(false_leagues)\n",
    "    \n",
    "dict_rows = []\n",
    "for idx in range(len(col_data['ID'])):\n",
    "    dict_rows.append({})\n",
    "    for col in col_data:\n",
    "        dict_rows[-1][col] = col_data[col][idx]\n",
    "        if col == 'League':\n",
    "            dict_rows[-1][col] = false_team_to_league[dict_rows[-1]['Team']]\n",
    "dict_rows.sort(key=lambda row: row['Overall rating'], reverse=True)\n",
    "players = {}\n",
    "for row in dict_rows:\n",
    "    players[row['ID']] = row\n",
    "'''\n",
    "nb = replace_with_false_data_structure(nb, 'players', new_players)\n",
    "\n",
    "results[rubric_item] = parse_nb(run_nb(nb, os.path.join(directories[rubric_item], FILE)))"
   ]
  },
  {
   "cell_type": "raw",
   "id": "9d8095c0",
   "metadata": {},
   "source": [
    "# END q4: `players` data structure is not used to read data"
   ]
  },
  {
   "cell_type": "code",
   "execution_count": 93,
   "id": "e833b858",
   "metadata": {},
   "outputs": [],
   "source": [
    "gen_public_tests.gen_public_tests(os.path.join(directories[rubric_item], FILE))"
   ]
  },
  {
   "cell_type": "markdown",
   "id": "f589b827",
   "metadata": {},
   "source": [
    "### q5: incorrect logic is used to answer"
   ]
  },
  {
   "cell_type": "code",
   "execution_count": 94,
   "id": "bade8044",
   "metadata": {},
   "outputs": [],
   "source": [
    "rubric_item = 'q5: incorrect logic is used to answer'\n",
    "readme_text = \"\"\"Ensure your code appends teams to the list only if\n",
    "they belong to 'Premier League (England)'. Convert\n",
    "the list to a set to remove duplicates, then\n",
    "convert it back to a list. Review dataset\n",
    "modifications to account for any test failures.\"\"\"\n",
    "\n",
    "write_readme(readme_text, os.path.join(directories[rubric_item], \"README.txt\"))"
   ]
  },
  {
   "cell_type": "code",
   "execution_count": 95,
   "id": "55f52d0d",
   "metadata": {},
   "outputs": [],
   "source": [
    "random_data(directories[rubric_item], 2000)"
   ]
  },
  {
   "cell_type": "raw",
   "id": "cf678c58",
   "metadata": {},
   "source": [
    "# BEGIN q5: incorrect logic is used to answer"
   ]
  },
  {
   "cell_type": "code",
   "execution_count": 96,
   "id": "4040898e",
   "metadata": {},
   "outputs": [],
   "source": [
    "rubric_item = 'q5: incorrect logic is used to answer'\n",
    "nb = clean_nb(read_nb(os.path.join(DIRECTORY, FILE)))\n",
    "nb = truncate_nb(nb, end=find_all_cell_indices(nb, \"code\", \"grader.check('q5')\")[-1])\n",
    "\n",
    "results[rubric_item] = parse_nb(run_nb(nb, os.path.join(directories[rubric_item], FILE)))"
   ]
  },
  {
   "cell_type": "raw",
   "id": "fed49818",
   "metadata": {},
   "source": [
    "# END q5: incorrect logic is used to answer"
   ]
  },
  {
   "cell_type": "code",
   "execution_count": 97,
   "id": "3fc0f35c",
   "metadata": {},
   "outputs": [],
   "source": [
    "gen_public_tests.gen_public_tests(os.path.join(directories[rubric_item], FILE))"
   ]
  },
  {
   "cell_type": "markdown",
   "id": "54187d1f",
   "metadata": {},
   "source": [
    "### q5: teams whose `League` is not exactly as required are added to the list"
   ]
  },
  {
   "cell_type": "code",
   "execution_count": 98,
   "id": "3a4153ae",
   "metadata": {},
   "outputs": [],
   "source": [
    "rubric_item = 'q5: teams whose `League` is not exactly as required are added to the list'\n",
    "readme_text = \"\"\"Ensure your code matches the league exactly,\n",
    "considers duplicates, and is case-sensitive. The\n",
    "list should only include unique team names. Check\n",
    "string comparison and the `set` function for\n",
    "uniqueness.\"\"\"\n",
    "\n",
    "write_readme(readme_text, os.path.join(directories[rubric_item], \"README.txt\"))"
   ]
  },
  {
   "cell_type": "code",
   "execution_count": 99,
   "id": "5ad1840c",
   "metadata": {},
   "outputs": [],
   "source": [
    "import csv\n",
    "import os\n",
    "import random\n",
    "\n",
    "# Define the function 'modify_data' to make modifications to the dataset\n",
    "def modify_data(directory):\n",
    "    # Define the path to the soccer_stars.csv file using os.path.join\n",
    "    soccer_stars_path = os.path.join(directory, 'soccer_stars.csv')\n",
    "    \n",
    "    # Set variables for the incorrect league variations to add\n",
    "    incorrect_leagues = [\n",
    "        'Premier LeaguE (England)',\n",
    "        'PremierLeague(England)',\n",
    "        'Premier League',\n",
    "        'Premier League (England) EPL',\n",
    "        'English Premier League (England)'\n",
    "    ]\n",
    "    \n",
    "    # Open the soccer_stars.csv file in read mode\n",
    "    with open(soccer_stars_path, mode='r', encoding='utf-8', newline='') as file:\n",
    "        # Read the contents of the CSV file\n",
    "        reader = csv.DictReader(file)\n",
    "        players = list(reader)  # Convert reader to a list for easy manipulation\n",
    "        \n",
    "    # Identify the League each Team belongs to\n",
    "    team_to_league = {}\n",
    "    for player in players:\n",
    "        team_to_league[player['Team']] = player['League']\n",
    "        \n",
    "    # Change the Leagues of all other Teams\n",
    "    for team in team_to_league:\n",
    "        if team_to_league[team] != 'Premier League (England)':\n",
    "            team_to_league[team] = random.choice(incorrect_leagues)\n",
    "            \n",
    "    # Loop through each player in the dataset\n",
    "    for player in players:\n",
    "        # Modify the league to an incorrect version\n",
    "        player['League'] = team_to_league[player['Team']]\n",
    "\n",
    "    # Open the soccer_stars.csv file in write mode to overwrite it with new data\n",
    "    with open(soccer_stars_path, mode='w', encoding='utf-8', newline='') as file:\n",
    "        fieldnames = players[0].keys()\n",
    "        writer = csv.DictWriter(file, fieldnames=fieldnames)\n",
    "        writer.writeheader()\n",
    "        writer.writerows(players)\n",
    "\n",
    "# If the dataset must be completely modified, call the predefined 'random_data' function\n",
    "# In this case, the test details specify a complete dataset modification\n",
    "random_data(directories[rubric_item], 2000)\n",
    "# After calling 'random_data', call the 'modify_data' function\n",
    "modify_data(directories[rubric_item])"
   ]
  },
  {
   "cell_type": "raw",
   "id": "c9fde70f",
   "metadata": {},
   "source": [
    "# BEGIN q5: teams whose `League` is not exactly as required are added to the list"
   ]
  },
  {
   "cell_type": "code",
   "execution_count": 100,
   "id": "03c4f2d9",
   "metadata": {},
   "outputs": [],
   "source": [
    "rubric_item = 'q5: teams whose `League` is not exactly as required are added to the list'\n",
    "nb = clean_nb(read_nb(os.path.join(DIRECTORY, FILE)))\n",
    "nb = truncate_nb(nb, end=find_all_cell_indices(nb, \"code\", \"grader.check('q5')\")[-1])\n",
    "\n",
    "results[rubric_item] = parse_nb(run_nb(nb, os.path.join(directories[rubric_item], FILE)))"
   ]
  },
  {
   "cell_type": "raw",
   "id": "df6f9f14",
   "metadata": {},
   "source": [
    "# END q5: teams whose `League` is not exactly as required are added to the list"
   ]
  },
  {
   "cell_type": "code",
   "execution_count": 101,
   "id": "4317996b",
   "metadata": {},
   "outputs": [],
   "source": [
    "gen_public_tests.gen_public_tests(os.path.join(directories[rubric_item], FILE))"
   ]
  },
  {
   "cell_type": "markdown",
   "id": "7ed50970",
   "metadata": {},
   "source": [
    "### q5: `players` data structure is not used to read data"
   ]
  },
  {
   "cell_type": "code",
   "execution_count": 102,
   "id": "2a2ed23c",
   "metadata": {},
   "outputs": [],
   "source": [
    "rubric_item = 'q5: `players` data structure is not used to read data'\n",
    "readme_text = \"\"\"The test checks if the 'players' data structure is\n",
    "correctly utilized to fetch statistics. To pass,\n",
    "ensure you reference the 'players' dictionary with\n",
    "the player ID as the key to get all column values.\n",
    "Revisit your code and verify you're using\n",
    "'players' as specified.\"\"\"\n",
    "\n",
    "write_readme(readme_text, os.path.join(directories[rubric_item], \"README.txt\"))"
   ]
  },
  {
   "cell_type": "code",
   "execution_count": 103,
   "id": "49b9eec4",
   "metadata": {},
   "outputs": [],
   "source": [
    "random_data(directories[rubric_item], 1000)"
   ]
  },
  {
   "cell_type": "raw",
   "id": "04d46671",
   "metadata": {},
   "source": [
    "# BEGIN q5: `players` data structure is not used to read data"
   ]
  },
  {
   "cell_type": "code",
   "execution_count": 104,
   "id": "68a6d6e2",
   "metadata": {},
   "outputs": [],
   "source": [
    "rubric_item = 'q5: `players` data structure is not used to read data'\n",
    "nb = read_nb(os.path.join(DIRECTORY, FILE))\n",
    "nb = clean_nb(nb)\n",
    "nb = truncate_nb(nb, end=find_all_cell_indices(nb, \"code\", \"grader.check('q5')\")[-1])\n",
    "\n",
    "new_players = true_data_structures['players'] + '''\n",
    "import random\n",
    "random.seed(0)\n",
    "\n",
    "col_data = {}\n",
    "for player_id in players:\n",
    "    for col in players[player_id]:\n",
    "        if col not in col_data:\n",
    "            col_data[col] = []\n",
    "        col_data[col].append(players[player_id][col])\n",
    "        \n",
    "for col in col_data:\n",
    "    random.shuffle(col_data[col])\n",
    "\n",
    "false_teams = sorted(list(set(col_data['Team'])))\n",
    "false_leagues = sorted(list(set(col_data['League'])))\n",
    "false_team_to_league = {}\n",
    "for team in false_teams:\n",
    "    false_team_to_league[team] = random.choice(false_leagues)\n",
    "    \n",
    "dict_rows = []\n",
    "for idx in range(len(col_data['ID'])):\n",
    "    dict_rows.append({})\n",
    "    for col in col_data:\n",
    "        dict_rows[-1][col] = col_data[col][idx]\n",
    "        if col == 'League':\n",
    "            dict_rows[-1][col] = false_team_to_league[dict_rows[-1]['Team']]\n",
    "dict_rows.sort(key=lambda row: row['Overall rating'], reverse=True)\n",
    "players = {}\n",
    "for row in dict_rows:\n",
    "    players[row['ID']] = row\n",
    "'''\n",
    "nb = replace_with_false_data_structure(nb, 'players', new_players)\n",
    "\n",
    "results[rubric_item] = parse_nb(run_nb(nb, os.path.join(directories[rubric_item], FILE)))"
   ]
  },
  {
   "cell_type": "raw",
   "id": "b9ee1545",
   "metadata": {},
   "source": [
    "# END q5: `players` data structure is not used to read data"
   ]
  },
  {
   "cell_type": "code",
   "execution_count": 105,
   "id": "4ec52b0a",
   "metadata": {},
   "outputs": [],
   "source": [
    "gen_public_tests.gen_public_tests(os.path.join(directories[rubric_item], FILE))"
   ]
  },
  {
   "cell_type": "markdown",
   "id": "71f96432",
   "metadata": {},
   "source": [
    "### q6: incorrect logic is used to answer"
   ]
  },
  {
   "cell_type": "code",
   "execution_count": 106,
   "id": "9726c4c5",
   "metadata": {},
   "outputs": [],
   "source": [
    "rubric_item = 'q6: incorrect logic is used to answer'\n",
    "readme_text = \"\"\"Examine if the counts were incremented correctly\n",
    "for each `Preferred foot` and check whether the\n",
    "foot values were extracted dynamically from the\n",
    "`players` data structure without hardcoding.\n",
    "Adjust your code to handle various foot entries\n",
    "and to ensure proper tallying.\"\"\"\n",
    "\n",
    "write_readme(readme_text, os.path.join(directories[rubric_item], \"README.txt\"))"
   ]
  },
  {
   "cell_type": "code",
   "execution_count": 107,
   "id": "a4891231",
   "metadata": {},
   "outputs": [],
   "source": [
    "random_data(directories[rubric_item], 1000)"
   ]
  },
  {
   "cell_type": "raw",
   "id": "9a97fd17",
   "metadata": {},
   "source": [
    "# BEGIN q6: incorrect logic is used to answer"
   ]
  },
  {
   "cell_type": "code",
   "execution_count": 108,
   "id": "aedfefc6",
   "metadata": {},
   "outputs": [],
   "source": [
    "rubric_item = 'q6: incorrect logic is used to answer'\n",
    "nb = clean_nb(read_nb(os.path.join(DIRECTORY, FILE)))\n",
    "nb = truncate_nb(nb, end=find_all_cell_indices(nb, \"code\", \"grader.check('q6')\")[-1])\n",
    "\n",
    "results[rubric_item] = parse_nb(run_nb(nb, os.path.join(directories[rubric_item], FILE)))"
   ]
  },
  {
   "cell_type": "raw",
   "id": "e1f728f2",
   "metadata": {},
   "source": [
    "# END q6: incorrect logic is used to answer"
   ]
  },
  {
   "cell_type": "code",
   "execution_count": 109,
   "id": "8e7952ed",
   "metadata": {},
   "outputs": [],
   "source": [
    "gen_public_tests.gen_public_tests(os.path.join(directories[rubric_item], FILE))"
   ]
  },
  {
   "cell_type": "markdown",
   "id": "1962e4c2",
   "metadata": {},
   "source": [
    "### q6: the keys of `preferred_foot_count` are hardcoded"
   ]
  },
  {
   "cell_type": "code",
   "execution_count": 110,
   "id": "f7b47cf6",
   "metadata": {},
   "outputs": [],
   "source": [
    "rubric_item = 'q6: the keys of `preferred_foot_count` are hardcoded'\n",
    "readme_text = \"\"\"Check if the keys in your dictionary\n",
    "`preferred_foot_count` are determined by iterating\n",
    "through the `players` data structure, rather than\n",
    "being explicitly defined in your code. Make sure\n",
    "the keys are dynamically created based on the\n",
    "dataset.\"\"\"\n",
    "\n",
    "write_readme(readme_text, os.path.join(directories[rubric_item], \"README.txt\"))"
   ]
  },
  {
   "cell_type": "code",
   "execution_count": 111,
   "id": "c002f4cf",
   "metadata": {},
   "outputs": [],
   "source": [
    "import os\n",
    "import csv\n",
    "import random\n",
    "\n",
    "def modify_data(directory):\n",
    "    # Define the path for the soccer_stars.csv file using os.path.join\n",
    "    file_path = os.path.join(directory, 'soccer_stars.csv')\n",
    "    \n",
    "    # Open the csv file for reading and create a list of dictionaries for its contents\n",
    "    with open(file_path, mode='r', encoding='utf-8', newline='') as file:\n",
    "        reader = csv.DictReader(file)\n",
    "        data = list(reader)\n",
    "    \n",
    "    # A list of random new foot preferences (ensuring it's different from 'Left' and 'Right')\n",
    "    new_foot_preferences = ['Ambidextrous', 'None', 'Hands']\n",
    "    \n",
    "    # Modify each player's 'Preferred foot' with a randomly chosen new preference\n",
    "    for player in data:\n",
    "        player['Preferred foot'] = random.choice(new_foot_preferences)\n",
    "    \n",
    "    # Open the csv file for writing and overwrite it with the modified data\n",
    "    with open(file_path, mode='w', encoding='utf-8', newline='') as file:\n",
    "        writer = csv.DictWriter(file, fieldnames=reader.fieldnames)\n",
    "        writer.writeheader()\n",
    "        writer.writerows(data)\n",
    "\n",
    "# Assuming 'directories' and 'rubric_item' have been defined earlier\n",
    "\n",
    "# The dataset must be completely modified, so we call random_data\n",
    "random_data(directories[rubric_item], 1000)  # 1000 rows as per file structure\n",
    "\n",
    "# Now modify the data using the function we just created\n",
    "modify_data(directories[rubric_item])"
   ]
  },
  {
   "cell_type": "raw",
   "id": "77d9c8fd",
   "metadata": {},
   "source": [
    "# BEGIN q6: the keys of `preferred_foot_count` are hardcoded"
   ]
  },
  {
   "cell_type": "code",
   "execution_count": 112,
   "id": "6af02a9e",
   "metadata": {},
   "outputs": [],
   "source": [
    "rubric_item = 'q6: the keys of `preferred_foot_count` are hardcoded'\n",
    "nb = clean_nb(read_nb(os.path.join(DIRECTORY, FILE)))\n",
    "nb = truncate_nb(nb, end=find_all_cell_indices(nb, \"code\", \"grader.check('q6')\")[-1])\n",
    "\n",
    "results[rubric_item] = parse_nb(run_nb(nb, os.path.join(directories[rubric_item], FILE)))"
   ]
  },
  {
   "cell_type": "raw",
   "id": "be1ab7a4",
   "metadata": {},
   "source": [
    "# END q6: the keys of `preferred_foot_count` are hardcoded"
   ]
  },
  {
   "cell_type": "code",
   "execution_count": 113,
   "id": "1e2efa5b",
   "metadata": {},
   "outputs": [],
   "source": [
    "gen_public_tests.gen_public_tests(os.path.join(directories[rubric_item], FILE))"
   ]
  },
  {
   "cell_type": "markdown",
   "id": "0cf3bb83",
   "metadata": {},
   "source": [
    "### q6: `players` data structure is not used to read data"
   ]
  },
  {
   "cell_type": "code",
   "execution_count": 114,
   "id": "68a73fa1",
   "metadata": {},
   "outputs": [],
   "source": [
    "rubric_item = 'q6: `players` data structure is not used to read data'\n",
    "readme_text = \"\"\"The test checks if the 'players' data structure is\n",
    "correctly utilized to fetch statistics. To pass,\n",
    "ensure you reference the 'players' dictionary with\n",
    "the player ID as the key to get all column values.\n",
    "Revisit your code and verify you're using\n",
    "'players' as specified.\"\"\"\n",
    "\n",
    "write_readme(readme_text, os.path.join(directories[rubric_item], \"README.txt\"))"
   ]
  },
  {
   "cell_type": "code",
   "execution_count": 115,
   "id": "ecc7f7d5",
   "metadata": {},
   "outputs": [],
   "source": [
    "random_data(directories[rubric_item], 1000)"
   ]
  },
  {
   "cell_type": "raw",
   "id": "51d68b46",
   "metadata": {},
   "source": [
    "# BEGIN q6: `players` data structure is not used to read data"
   ]
  },
  {
   "cell_type": "code",
   "execution_count": 116,
   "id": "3ce47e01",
   "metadata": {},
   "outputs": [],
   "source": [
    "rubric_item = 'q6: `players` data structure is not used to read data'\n",
    "nb = read_nb(os.path.join(DIRECTORY, FILE))\n",
    "nb = clean_nb(nb)\n",
    "nb = truncate_nb(nb, end=find_all_cell_indices(nb, \"code\", \"grader.check('q6')\")[-1])\n",
    "\n",
    "new_players = true_data_structures['players'] + '''\n",
    "import random\n",
    "random.seed(0)\n",
    "\n",
    "col_data = {}\n",
    "for player_id in players:\n",
    "    for col in players[player_id]:\n",
    "        if col not in col_data:\n",
    "            col_data[col] = []\n",
    "        col_data[col].append(players[player_id][col])\n",
    "        \n",
    "for col in col_data:\n",
    "    random.shuffle(col_data[col])\n",
    "\n",
    "false_teams = sorted(list(set(col_data['Team'])))\n",
    "false_leagues = sorted(list(set(col_data['League'])))\n",
    "false_team_to_league = {}\n",
    "for team in false_teams:\n",
    "    false_team_to_league[team] = random.choice(false_leagues)\n",
    "    \n",
    "dict_rows = []\n",
    "for idx in range(len(col_data['ID'])):\n",
    "    dict_rows.append({})\n",
    "    for col in col_data:\n",
    "        dict_rows[-1][col] = col_data[col][idx]\n",
    "        if col == 'League':\n",
    "            dict_rows[-1][col] = false_team_to_league[dict_rows[-1]['Team']]\n",
    "dict_rows.sort(key=lambda row: row['Overall rating'], reverse=True)\n",
    "players = {}\n",
    "for row in dict_rows:\n",
    "    players[row['ID']] = row\n",
    "'''\n",
    "nb = replace_with_false_data_structure(nb, 'players', new_players)\n",
    "\n",
    "results[rubric_item] = parse_nb(run_nb(nb, os.path.join(directories[rubric_item], FILE)))"
   ]
  },
  {
   "cell_type": "raw",
   "id": "d23267c5",
   "metadata": {},
   "source": [
    "# END q6: `players` data structure is not used to read data"
   ]
  },
  {
   "cell_type": "code",
   "execution_count": 117,
   "id": "4fab0bce",
   "metadata": {},
   "outputs": [],
   "source": [
    "gen_public_tests.gen_public_tests(os.path.join(directories[rubric_item], FILE))"
   ]
  },
  {
   "cell_type": "markdown",
   "id": "6a60ba01",
   "metadata": {},
   "source": [
    "### q7: incorrect logic is used to answer"
   ]
  },
  {
   "cell_type": "code",
   "execution_count": 118,
   "id": "c250b0ae",
   "metadata": {},
   "outputs": [],
   "source": [
    "rubric_item = 'q7: incorrect logic is used to answer'\n",
    "readme_text = \"\"\"Verify your code logic to compute averages; pay\n",
    "attention to data accumulation and handling\n",
    "division to calculate the average. Ensure you\n",
    "dynamically extract foot information and use the\n",
    "correct counts for averaging. Review dict\n",
    "comprehension and the accumulation of sums and\n",
    "counts.\"\"\"\n",
    "\n",
    "write_readme(readme_text, os.path.join(directories[rubric_item], \"README.txt\"))"
   ]
  },
  {
   "cell_type": "code",
   "execution_count": 119,
   "id": "4796209d",
   "metadata": {},
   "outputs": [],
   "source": [
    "random_data(directories[rubric_item], 1000)"
   ]
  },
  {
   "cell_type": "raw",
   "id": "8ff6ba94",
   "metadata": {},
   "source": [
    "# BEGIN q7: incorrect logic is used to answer"
   ]
  },
  {
   "cell_type": "code",
   "execution_count": 120,
   "id": "3140e6e7",
   "metadata": {},
   "outputs": [],
   "source": [
    "rubric_item = 'q7: incorrect logic is used to answer'\n",
    "nb = clean_nb(read_nb(os.path.join(DIRECTORY, FILE)))\n",
    "nb = truncate_nb(nb, end=find_all_cell_indices(nb, \"code\", \"grader.check('q7')\")[-1])\n",
    "\n",
    "results[rubric_item] = parse_nb(run_nb(nb, os.path.join(directories[rubric_item], FILE)))"
   ]
  },
  {
   "cell_type": "raw",
   "id": "f51b5a0a",
   "metadata": {},
   "source": [
    "# END q7: incorrect logic is used to answer"
   ]
  },
  {
   "cell_type": "code",
   "execution_count": 121,
   "id": "b0f26051",
   "metadata": {},
   "outputs": [],
   "source": [
    "gen_public_tests.gen_public_tests(os.path.join(directories[rubric_item], FILE))"
   ]
  },
  {
   "cell_type": "markdown",
   "id": "5c916ae9",
   "metadata": {},
   "source": [
    "### q7: the keys of `preferred_foot_avg_overall` are hardcoded"
   ]
  },
  {
   "cell_type": "code",
   "execution_count": 122,
   "id": "03024d94",
   "metadata": {},
   "outputs": [],
   "source": [
    "rubric_item = 'q7: the keys of `preferred_foot_avg_overall` are hardcoded'\n",
    "readme_text = \"\"\"The test checks for hardcoded keys in your\n",
    "`preferred_foot_avg_overall` dictionary. Ensure\n",
    "you are not directly specifying the foot names in\n",
    "the dictionary. Instead, extract these dynamically\n",
    "from your data. Re-examine your code to ensure the\n",
    "foot names are derived from the `players`\n",
    "dictionary keys or values.\"\"\"\n",
    "\n",
    "write_readme(readme_text, os.path.join(directories[rubric_item], \"README.txt\"))"
   ]
  },
  {
   "cell_type": "code",
   "execution_count": 123,
   "id": "fd66e430",
   "metadata": {},
   "outputs": [],
   "source": [
    "import os\n",
    "import csv\n",
    "import random\n",
    "\n",
    "def modify_data(directory):\n",
    "    # Read the current data from soccer_stars.csv\n",
    "    soccer_stars_path = os.path.join(directory, 'soccer_stars.csv')\n",
    "    with open(soccer_stars_path, mode='r', newline='', encoding='utf-8') as file:\n",
    "        reader = csv.DictReader(file)\n",
    "        players_data = list(reader)\n",
    "\n",
    "    # Generate new unique preferred foot values that are different from 'Left' and 'Right'\n",
    "    new_feet = ['Foot A', 'Foot B', 'Foot C']\n",
    "\n",
    "    # Modify the 'Preferred foot' values with new random choices and ensure the total count is different\n",
    "    for player in players_data:\n",
    "        player['Preferred foot'] = random.choice(new_feet)\n",
    "\n",
    "    # Write the modified data back to soccer_stars.csv\n",
    "    with open(soccer_stars_path, mode='w', newline='', encoding='utf-8') as file:\n",
    "        writer = csv.DictWriter(file, fieldnames=players_data[0].keys())\n",
    "        writer.writeheader()\n",
    "        writer.writerows(players_data)\n",
    "\n",
    "# Call to completely modify the dataset\n",
    "random_data(directories[rubric_item], 1000)  # The size of the dataset is specified as 1000\n",
    "\n",
    "# Call modify_data with the updated project directory\n",
    "modify_data(directories[rubric_item])"
   ]
  },
  {
   "cell_type": "raw",
   "id": "29953553",
   "metadata": {},
   "source": [
    "# BEGIN q7: the keys of `preferred_foot_avg_overall` are hardcoded"
   ]
  },
  {
   "cell_type": "code",
   "execution_count": 124,
   "id": "8abf26de",
   "metadata": {},
   "outputs": [],
   "source": [
    "rubric_item = 'q7: the keys of `preferred_foot_avg_overall` are hardcoded'\n",
    "nb = clean_nb(read_nb(os.path.join(DIRECTORY, FILE)))\n",
    "nb = truncate_nb(nb, end=find_all_cell_indices(nb, \"code\", \"grader.check('q7')\")[-1])\n",
    "\n",
    "results[rubric_item] = parse_nb(run_nb(nb, os.path.join(directories[rubric_item], FILE)))"
   ]
  },
  {
   "cell_type": "raw",
   "id": "8cb363af",
   "metadata": {},
   "source": [
    "# END q7: the keys of `preferred_foot_avg_overall` are hardcoded"
   ]
  },
  {
   "cell_type": "code",
   "execution_count": 125,
   "id": "f61d91a0",
   "metadata": {},
   "outputs": [],
   "source": [
    "gen_public_tests.gen_public_tests(os.path.join(directories[rubric_item], FILE))"
   ]
  },
  {
   "cell_type": "markdown",
   "id": "e82caf3a",
   "metadata": {},
   "source": [
    "### q7: `players` data structure is not used to read data"
   ]
  },
  {
   "cell_type": "code",
   "execution_count": 126,
   "id": "b0864909",
   "metadata": {},
   "outputs": [],
   "source": [
    "rubric_item = 'q7: `players` data structure is not used to read data'\n",
    "readme_text = \"\"\"The test checks if the 'players' data structure is\n",
    "correctly utilized to fetch statistics. To pass,\n",
    "ensure you reference the 'players' dictionary with\n",
    "the player ID as the key to get all column values.\n",
    "Revisit your code and verify you're using\n",
    "'players' as specified.\"\"\"\n",
    "\n",
    "write_readme(readme_text, os.path.join(directories[rubric_item], \"README.txt\"))"
   ]
  },
  {
   "cell_type": "code",
   "execution_count": 127,
   "id": "638d9162",
   "metadata": {},
   "outputs": [],
   "source": [
    "random_data(directories[rubric_item], 1000)"
   ]
  },
  {
   "cell_type": "raw",
   "id": "55f81ffb",
   "metadata": {},
   "source": [
    "# BEGIN q7: `players` data structure is not used to read data"
   ]
  },
  {
   "cell_type": "code",
   "execution_count": 128,
   "id": "eb631bcf",
   "metadata": {},
   "outputs": [],
   "source": [
    "rubric_item = 'q7: `players` data structure is not used to read data'\n",
    "nb = read_nb(os.path.join(DIRECTORY, FILE))\n",
    "nb = clean_nb(nb)\n",
    "nb = truncate_nb(nb, end=find_all_cell_indices(nb, \"code\", \"grader.check('q7')\")[-1])\n",
    "\n",
    "new_players = true_data_structures['players'] + '''\n",
    "import random\n",
    "random.seed(0)\n",
    "\n",
    "col_data = {}\n",
    "for player_id in players:\n",
    "    for col in players[player_id]:\n",
    "        if col not in col_data:\n",
    "            col_data[col] = []\n",
    "        col_data[col].append(players[player_id][col])\n",
    "        \n",
    "for col in col_data:\n",
    "    random.shuffle(col_data[col])\n",
    "\n",
    "false_teams = sorted(list(set(col_data['Team'])))\n",
    "false_leagues = sorted(list(set(col_data['League'])))\n",
    "false_team_to_league = {}\n",
    "for team in false_teams:\n",
    "    false_team_to_league[team] = random.choice(false_leagues)\n",
    "    \n",
    "dict_rows = []\n",
    "for idx in range(len(col_data['ID'])):\n",
    "    dict_rows.append({})\n",
    "    for col in col_data:\n",
    "        dict_rows[-1][col] = col_data[col][idx]\n",
    "        if col == 'League':\n",
    "            dict_rows[-1][col] = false_team_to_league[dict_rows[-1]['Team']]\n",
    "dict_rows.sort(key=lambda row: row['Overall rating'], reverse=True)\n",
    "players = {}\n",
    "for row in dict_rows:\n",
    "    players[row['ID']] = row\n",
    "'''\n",
    "nb = replace_with_false_data_structure(nb, 'players', new_players)\n",
    "\n",
    "results[rubric_item] = parse_nb(run_nb(nb, os.path.join(directories[rubric_item], FILE)))"
   ]
  },
  {
   "cell_type": "raw",
   "id": "b7292997",
   "metadata": {},
   "source": [
    "# END q7: `players` data structure is not used to read data"
   ]
  },
  {
   "cell_type": "code",
   "execution_count": 129,
   "id": "653c0fe1",
   "metadata": {},
   "outputs": [],
   "source": [
    "gen_public_tests.gen_public_tests(os.path.join(directories[rubric_item], FILE))"
   ]
  },
  {
   "cell_type": "markdown",
   "id": "e1127f3a",
   "metadata": {},
   "source": [
    "### q8: incorrect logic is used to answer"
   ]
  },
  {
   "cell_type": "code",
   "execution_count": 130,
   "id": "4a261dfe",
   "metadata": {},
   "outputs": [],
   "source": [
    "rubric_item = 'q8: incorrect logic is used to answer'\n",
    "readme_text = \"\"\"Ensure you are iterating over player IDs and\n",
    "extracting position without hardcoding. Check if\n",
    "you are correctly initializing and incrementing\n",
    "position counts in the dictionary. The logic must\n",
    "dynamically count positions from the given\n",
    "dataset. Review and test your code with different\n",
    "datasets.\"\"\"\n",
    "\n",
    "write_readme(readme_text, os.path.join(directories[rubric_item], \"README.txt\"))"
   ]
  },
  {
   "cell_type": "code",
   "execution_count": 131,
   "id": "306c4030",
   "metadata": {},
   "outputs": [],
   "source": [
    "random_data(directories[rubric_item], 2000)"
   ]
  },
  {
   "cell_type": "raw",
   "id": "bd1767d9",
   "metadata": {},
   "source": [
    "# BEGIN q8: incorrect logic is used to answer"
   ]
  },
  {
   "cell_type": "code",
   "execution_count": 132,
   "id": "4fd3f315",
   "metadata": {},
   "outputs": [],
   "source": [
    "rubric_item = 'q8: incorrect logic is used to answer'\n",
    "nb = clean_nb(read_nb(os.path.join(DIRECTORY, FILE)))\n",
    "nb = truncate_nb(nb, end=find_all_cell_indices(nb, \"code\", \"grader.check('q8')\")[-1])\n",
    "\n",
    "results[rubric_item] = parse_nb(run_nb(nb, os.path.join(directories[rubric_item], FILE)))"
   ]
  },
  {
   "cell_type": "raw",
   "id": "b08457c6",
   "metadata": {},
   "source": [
    "# END q8: incorrect logic is used to answer"
   ]
  },
  {
   "cell_type": "code",
   "execution_count": 133,
   "id": "9f1aa355",
   "metadata": {},
   "outputs": [],
   "source": [
    "gen_public_tests.gen_public_tests(os.path.join(directories[rubric_item], FILE))"
   ]
  },
  {
   "cell_type": "markdown",
   "id": "7d423dc2",
   "metadata": {},
   "source": [
    "### q8: the keys of `positions_count` are hardcoded"
   ]
  },
  {
   "cell_type": "code",
   "execution_count": 134,
   "id": "6cd5a123",
   "metadata": {},
   "outputs": [],
   "source": [
    "rubric_item = 'q8: the keys of `positions_count` are hardcoded'\n",
    "readme_text = \"\"\"Ensure you are dynamically extracting position\n",
    "names from the dataset, not hardcoding them. Check\n",
    "your loop and dictionary key assignment logic,\n",
    "referring to the solution's method for updating\n",
    "the count for each position. Update your code to\n",
    "respond to varying datasets.\"\"\"\n",
    "\n",
    "write_readme(readme_text, os.path.join(directories[rubric_item], \"README.txt\"))"
   ]
  },
  {
   "cell_type": "code",
   "execution_count": 135,
   "id": "96ce2a88",
   "metadata": {},
   "outputs": [],
   "source": [
    "import csv\n",
    "import os\n",
    "import random\n",
    "\n",
    "def modify_data(directory):\n",
    "    \"\"\"\n",
    "    Modify the 'soccer_stars.csv' file within the given project directory.\n",
    "    The values under the 'Position' column are changed so none of the new values\n",
    "    are the same as in the original dataset, and the number of unique values\n",
    "    under this column is also made different from the original dataset.\n",
    "    \"\"\"\n",
    "    soccer_stars_csv = os.path.join(directory, 'soccer_stars.csv')\n",
    "    \n",
    "    with open(soccer_stars_csv, 'r', newline='', encoding='utf-8') as file:\n",
    "        reader = csv.DictReader(file)\n",
    "        players_data = list(reader)\n",
    "        \n",
    "    # List of positions not in the original dataset\n",
    "    new_positions = ['A', 'B', 'C', 'D', 'E']\n",
    "    \n",
    "    # Assign new positions randomly to each player\n",
    "    for player in players_data:\n",
    "        player['Position'] = random.choice(new_positions)\n",
    "    \n",
    "    # Write modified data back to csv\n",
    "    with open(soccer_stars_csv, 'w', newline='', encoding='utf-8') as file:\n",
    "        fieldnames = players_data[0].keys()  # get fieldnames from the data\n",
    "        writer = csv.DictWriter(file, fieldnames=fieldnames)\n",
    "        \n",
    "        writer.writeheader()\n",
    "        writer.writerows(players_data)\n",
    "\n",
    "# Call the function to completely modify the dataset as prescribed\n",
    "random_data(directories[rubric_item])\n",
    "modify_data(directories[rubric_item])"
   ]
  },
  {
   "cell_type": "raw",
   "id": "f798bef0",
   "metadata": {},
   "source": [
    "# BEGIN q8: the keys of `positions_count` are hardcoded"
   ]
  },
  {
   "cell_type": "code",
   "execution_count": 136,
   "id": "37716ae1",
   "metadata": {},
   "outputs": [],
   "source": [
    "rubric_item = 'q8: the keys of `positions_count` are hardcoded'\n",
    "nb = clean_nb(read_nb(os.path.join(DIRECTORY, FILE)))\n",
    "nb = truncate_nb(nb, end=find_all_cell_indices(nb, \"code\", \"grader.check('q8')\")[-1])\n",
    "\n",
    "results[rubric_item] = parse_nb(run_nb(nb, os.path.join(directories[rubric_item], FILE)))"
   ]
  },
  {
   "cell_type": "raw",
   "id": "1034d6fc",
   "metadata": {},
   "source": [
    "# END q8: the keys of `positions_count` are hardcoded"
   ]
  },
  {
   "cell_type": "code",
   "execution_count": 137,
   "id": "b6ea2e69",
   "metadata": {},
   "outputs": [],
   "source": [
    "gen_public_tests.gen_public_tests(os.path.join(directories[rubric_item], FILE))"
   ]
  },
  {
   "cell_type": "markdown",
   "id": "178e7628",
   "metadata": {},
   "source": [
    "### q8: `players` data structure is not used to read data"
   ]
  },
  {
   "cell_type": "code",
   "execution_count": 138,
   "id": "187e70fd",
   "metadata": {},
   "outputs": [],
   "source": [
    "rubric_item = 'q8: `players` data structure is not used to read data'\n",
    "readme_text = \"\"\"The test checks if the 'players' data structure is\n",
    "correctly utilized to fetch statistics. To pass,\n",
    "ensure you reference the 'players' dictionary with\n",
    "the player ID as the key to get all column values.\n",
    "Revisit your code and verify you're using\n",
    "'players' as specified.\"\"\"\n",
    "\n",
    "write_readme(readme_text, os.path.join(directories[rubric_item], \"README.txt\"))"
   ]
  },
  {
   "cell_type": "code",
   "execution_count": 139,
   "id": "b784205c",
   "metadata": {},
   "outputs": [],
   "source": [
    "random_data(directories[rubric_item], 1000)"
   ]
  },
  {
   "cell_type": "raw",
   "id": "7402944b",
   "metadata": {},
   "source": [
    "# BEGIN q8: `players` data structure is not used to read data"
   ]
  },
  {
   "cell_type": "code",
   "execution_count": 140,
   "id": "2ac43d6d",
   "metadata": {},
   "outputs": [],
   "source": [
    "rubric_item = 'q8: `players` data structure is not used to read data'\n",
    "nb = read_nb(os.path.join(DIRECTORY, FILE))\n",
    "nb = clean_nb(nb)\n",
    "nb = truncate_nb(nb, end=find_all_cell_indices(nb, \"code\", \"grader.check('q8')\")[-1])\n",
    "\n",
    "new_players = true_data_structures['players'] + '''\n",
    "import random\n",
    "random.seed(0)\n",
    "\n",
    "col_data = {}\n",
    "for player_id in players:\n",
    "    for col in players[player_id]:\n",
    "        if col not in col_data:\n",
    "            col_data[col] = []\n",
    "        col_data[col].append(players[player_id][col])\n",
    "        \n",
    "for col in col_data:\n",
    "    random.shuffle(col_data[col])\n",
    "\n",
    "false_teams = sorted(list(set(col_data['Team'])))\n",
    "false_leagues = sorted(list(set(col_data['League'])))\n",
    "false_team_to_league = {}\n",
    "for team in false_teams:\n",
    "    false_team_to_league[team] = random.choice(false_leagues)\n",
    "    \n",
    "dict_rows = []\n",
    "for idx in range(len(col_data['ID'])):\n",
    "    dict_rows.append({})\n",
    "    for col in col_data:\n",
    "        dict_rows[-1][col] = col_data[col][idx]\n",
    "        if col == 'League':\n",
    "            dict_rows[-1][col] = false_team_to_league[dict_rows[-1]['Team']]\n",
    "dict_rows.sort(key=lambda row: row['Overall rating'], reverse=True)\n",
    "players = {}\n",
    "for row in dict_rows:\n",
    "    players[row['ID']] = row\n",
    "'''\n",
    "nb = replace_with_false_data_structure(nb, 'players', new_players)\n",
    "\n",
    "results[rubric_item] = parse_nb(run_nb(nb, os.path.join(directories[rubric_item], FILE)))"
   ]
  },
  {
   "cell_type": "raw",
   "id": "c8b85bdb",
   "metadata": {},
   "source": [
    "# END q8: `players` data structure is not used to read data"
   ]
  },
  {
   "cell_type": "code",
   "execution_count": 141,
   "id": "5b38e965",
   "metadata": {},
   "outputs": [],
   "source": [
    "gen_public_tests.gen_public_tests(os.path.join(directories[rubric_item], FILE))"
   ]
  },
  {
   "cell_type": "markdown",
   "id": "ee7fd6ee",
   "metadata": {},
   "source": [
    "### q9: incorrect logic is used to answer"
   ]
  },
  {
   "cell_type": "code",
   "execution_count": 142,
   "id": "08613551",
   "metadata": {},
   "outputs": [],
   "source": [
    "rubric_item = 'q9: incorrect logic is used to answer'\n",
    "readme_text = \"\"\"Test conducted on an altered dataset to examine\n",
    "the logic used for calculating averages. Review\n",
    "the division of total age by count for each\n",
    "position. Ensure you're accounting for all players\n",
    "and not using hardcoded values.\"\"\"\n",
    "\n",
    "write_readme(readme_text, os.path.join(directories[rubric_item], \"README.txt\"))"
   ]
  },
  {
   "cell_type": "code",
   "execution_count": 143,
   "id": "d56d5c83",
   "metadata": {},
   "outputs": [],
   "source": [
    "random_data(directories[rubric_item], 2000)"
   ]
  },
  {
   "cell_type": "raw",
   "id": "df686ece",
   "metadata": {},
   "source": [
    "# BEGIN q9: incorrect logic is used to answer"
   ]
  },
  {
   "cell_type": "code",
   "execution_count": 144,
   "id": "d6488e69",
   "metadata": {},
   "outputs": [],
   "source": [
    "rubric_item = 'q9: incorrect logic is used to answer'\n",
    "nb = clean_nb(read_nb(os.path.join(DIRECTORY, FILE)))\n",
    "nb = truncate_nb(nb, end=find_all_cell_indices(nb, \"code\", \"grader.check('q9')\")[-1])\n",
    "\n",
    "results[rubric_item] = parse_nb(run_nb(nb, os.path.join(directories[rubric_item], FILE)))"
   ]
  },
  {
   "cell_type": "raw",
   "id": "858b4bd8",
   "metadata": {},
   "source": [
    "# END q9: incorrect logic is used to answer"
   ]
  },
  {
   "cell_type": "code",
   "execution_count": 145,
   "id": "f0a5cb6a",
   "metadata": {},
   "outputs": [],
   "source": [
    "gen_public_tests.gen_public_tests(os.path.join(directories[rubric_item], FILE))"
   ]
  },
  {
   "cell_type": "markdown",
   "id": "0c06537c",
   "metadata": {},
   "source": [
    "### q9: the keys of `positions_avg_age` are hardcoded"
   ]
  },
  {
   "cell_type": "code",
   "execution_count": 146,
   "id": "ebe04cb0",
   "metadata": {},
   "outputs": [],
   "source": [
    "rubric_item = 'q9: the keys of `positions_avg_age` are hardcoded'\n",
    "readme_text = \"\"\"The test validates that `positions_avg_age` keys\n",
    "are dynamically populated from the data. Verify\n",
    "your code iterates through the `players`\n",
    "dictionary and extracts position information\n",
    "directly from it, ensuring it creates keys based\n",
    "on the actual positions found, rather than using\n",
    "hardcoded values.\"\"\"\n",
    "\n",
    "write_readme(readme_text, os.path.join(directories[rubric_item], \"README.txt\"))"
   ]
  },
  {
   "cell_type": "code",
   "execution_count": 147,
   "id": "b90a1bd8",
   "metadata": {},
   "outputs": [],
   "source": [
    "import os\n",
    "import random\n",
    "import csv\n",
    "\n",
    "def modify_data(directory):\n",
    "    \"\"\"\n",
    "    Modify the dataset such that the 'Position' column has completely different values\n",
    "    from the original dataset and has a different number of unique values.\n",
    "    \"\"\"\n",
    "\n",
    "    # Define the path to the soccer_stars.csv within the directory\n",
    "    csv_path = os.path.join(directory, 'soccer_stars.csv')\n",
    "\n",
    "    # Define new positions that are different from the original dataset\n",
    "    new_positions = ['FWD', 'MID', 'DEF', 'GKP', 'WNG', 'SPT', 'DMF', 'AMF']\n",
    "\n",
    "    # Read in the data from the existing csv file\n",
    "    with open(csv_path, mode='r', newline='', encoding='utf-8') as csvfile:\n",
    "        reader = csv.DictReader(csvfile)\n",
    "        rows = list(reader)\n",
    "    \n",
    "    # Change the 'Position' column to a new value from the list of new_positions\n",
    "    for row in rows:\n",
    "        row['Position'] = random.choice(new_positions)\n",
    "\n",
    "    # Write the modified data back to the csv file\n",
    "    with open(csv_path, mode='w', newline='', encoding='utf-8') as csvfile:\n",
    "        writer = csv.DictWriter(csvfile, fieldnames=reader.fieldnames)\n",
    "        writer.writeheader()\n",
    "        writer.writerows(rows)\n",
    "\n",
    "# Call random_data only if required by the test details\n",
    "# The directories and rubric_item variables have been defined already externally.\n",
    "random_data(directories[rubric_item], 1000)\n",
    "\n",
    "# Since the details specify that modify_data must be called after random_data\n",
    "# Call modify_data passing the correct directory\n",
    "modify_data(directories[rubric_item])"
   ]
  },
  {
   "cell_type": "raw",
   "id": "81d7160a",
   "metadata": {},
   "source": [
    "# BEGIN q9: the keys of `positions_avg_age` are hardcoded"
   ]
  },
  {
   "cell_type": "code",
   "execution_count": 148,
   "id": "43d02d47",
   "metadata": {},
   "outputs": [],
   "source": [
    "rubric_item = 'q9: the keys of `positions_avg_age` are hardcoded'\n",
    "nb = clean_nb(read_nb(os.path.join(DIRECTORY, FILE)))\n",
    "nb = truncate_nb(nb, end=find_all_cell_indices(nb, \"code\", \"grader.check('q9')\")[-1])\n",
    "\n",
    "results[rubric_item] = parse_nb(run_nb(nb, os.path.join(directories[rubric_item], FILE)))"
   ]
  },
  {
   "cell_type": "raw",
   "id": "a57dc20c",
   "metadata": {},
   "source": [
    "# END q9: the keys of `positions_avg_age` are hardcoded"
   ]
  },
  {
   "cell_type": "code",
   "execution_count": 149,
   "id": "c67aae6c",
   "metadata": {},
   "outputs": [],
   "source": [
    "gen_public_tests.gen_public_tests(os.path.join(directories[rubric_item], FILE))"
   ]
  },
  {
   "cell_type": "markdown",
   "id": "da08bab9",
   "metadata": {},
   "source": [
    "### q9: `players` data structure is not used to read data"
   ]
  },
  {
   "cell_type": "code",
   "execution_count": 150,
   "id": "628d2d86",
   "metadata": {},
   "outputs": [],
   "source": [
    "rubric_item = 'q9: `players` data structure is not used to read data'\n",
    "readme_text = \"\"\"The test checks if the 'players' data structure is\n",
    "correctly utilized to fetch statistics. To pass,\n",
    "ensure you reference the 'players' dictionary with\n",
    "the player ID as the key to get all column values.\n",
    "Revisit your code and verify you're using\n",
    "'players' as specified.\"\"\"\n",
    "\n",
    "write_readme(readme_text, os.path.join(directories[rubric_item], \"README.txt\"))"
   ]
  },
  {
   "cell_type": "code",
   "execution_count": 151,
   "id": "abf591a0",
   "metadata": {},
   "outputs": [],
   "source": [
    "random_data(directories[rubric_item], 1000)"
   ]
  },
  {
   "cell_type": "raw",
   "id": "4b692686",
   "metadata": {},
   "source": [
    "# BEGIN q9: `players` data structure is not used to read data"
   ]
  },
  {
   "cell_type": "code",
   "execution_count": 152,
   "id": "23048856",
   "metadata": {},
   "outputs": [],
   "source": [
    "rubric_item = 'q9: `players` data structure is not used to read data'\n",
    "nb = read_nb(os.path.join(DIRECTORY, FILE))\n",
    "nb = clean_nb(nb)\n",
    "nb = truncate_nb(nb, end=find_all_cell_indices(nb, \"code\", \"grader.check('q9')\")[-1])\n",
    "\n",
    "new_players = true_data_structures['players'] + '''\n",
    "import random\n",
    "random.seed(0)\n",
    "\n",
    "col_data = {}\n",
    "for player_id in players:\n",
    "    for col in players[player_id]:\n",
    "        if col not in col_data:\n",
    "            col_data[col] = []\n",
    "        col_data[col].append(players[player_id][col])\n",
    "        \n",
    "for col in col_data:\n",
    "    random.shuffle(col_data[col])\n",
    "\n",
    "false_teams = sorted(list(set(col_data['Team'])))\n",
    "false_leagues = sorted(list(set(col_data['League'])))\n",
    "false_team_to_league = {}\n",
    "for team in false_teams:\n",
    "    false_team_to_league[team] = random.choice(false_leagues)\n",
    "    \n",
    "dict_rows = []\n",
    "for idx in range(len(col_data['ID'])):\n",
    "    dict_rows.append({})\n",
    "    for col in col_data:\n",
    "        dict_rows[-1][col] = col_data[col][idx]\n",
    "        if col == 'League':\n",
    "            dict_rows[-1][col] = false_team_to_league[dict_rows[-1]['Team']]\n",
    "dict_rows.sort(key=lambda row: row['Overall rating'], reverse=True)\n",
    "players = {}\n",
    "for row in dict_rows:\n",
    "    players[row['ID']] = row\n",
    "'''\n",
    "nb = replace_with_false_data_structure(nb, 'players', new_players)\n",
    "\n",
    "results[rubric_item] = parse_nb(run_nb(nb, os.path.join(directories[rubric_item], FILE)))"
   ]
  },
  {
   "cell_type": "raw",
   "id": "5f62b7e3",
   "metadata": {},
   "source": [
    "# END q9: `players` data structure is not used to read data"
   ]
  },
  {
   "cell_type": "code",
   "execution_count": 153,
   "id": "589ec594",
   "metadata": {},
   "outputs": [],
   "source": [
    "gen_public_tests.gen_public_tests(os.path.join(directories[rubric_item], FILE))"
   ]
  },
  {
   "cell_type": "markdown",
   "id": "3e6be0db",
   "metadata": {},
   "source": [
    "### q10: incorrect logic is used to answer"
   ]
  },
  {
   "cell_type": "code",
   "execution_count": 154,
   "id": "b6b0571d",
   "metadata": {},
   "outputs": [],
   "source": [
    "rubric_item = 'q10: incorrect logic is used to answer'\n",
    "readme_text = \"\"\"Ensure you cycle through all player entries to sum\n",
    "heights and count occurrences by position, then\n",
    "calculate the average height for each position.\n",
    "Avoid hardcoding. Check and debug your loop and\n",
    "dictionary operations for correct logic.\"\"\"\n",
    "\n",
    "write_readme(readme_text, os.path.join(directories[rubric_item], \"README.txt\"))"
   ]
  },
  {
   "cell_type": "code",
   "execution_count": 155,
   "id": "4bac26b5",
   "metadata": {},
   "outputs": [],
   "source": [
    "random_data(directories[rubric_item], 2000)"
   ]
  },
  {
   "cell_type": "raw",
   "id": "3dd957d3",
   "metadata": {},
   "source": [
    "# BEGIN q10: incorrect logic is used to answer"
   ]
  },
  {
   "cell_type": "code",
   "execution_count": 156,
   "id": "81a9c8f7",
   "metadata": {},
   "outputs": [],
   "source": [
    "rubric_item = 'q10: incorrect logic is used to answer'\n",
    "nb = clean_nb(read_nb(os.path.join(DIRECTORY, FILE)))\n",
    "nb = truncate_nb(nb, end=find_all_cell_indices(nb, \"code\", \"grader.check('q10')\")[-1])\n",
    "\n",
    "results[rubric_item] = parse_nb(run_nb(nb, os.path.join(directories[rubric_item], FILE)))"
   ]
  },
  {
   "cell_type": "raw",
   "id": "aa12ebf3",
   "metadata": {},
   "source": [
    "# END q10: incorrect logic is used to answer"
   ]
  },
  {
   "cell_type": "code",
   "execution_count": 157,
   "id": "3c60d170",
   "metadata": {},
   "outputs": [],
   "source": [
    "gen_public_tests.gen_public_tests(os.path.join(directories[rubric_item], FILE))"
   ]
  },
  {
   "cell_type": "markdown",
   "id": "9ef33b46",
   "metadata": {},
   "source": [
    "### q10: the keys of `positions_avg_height` are hardcoded"
   ]
  },
  {
   "cell_type": "code",
   "execution_count": 158,
   "id": "3cfacc21",
   "metadata": {},
   "outputs": [],
   "source": [
    "rubric_item = 'q10: the keys of `positions_avg_height` are hardcoded'\n",
    "readme_text = \"\"\"Ensure positions are dynamically determined from\n",
    "the dataset and not hardcoded. Check how you\n",
    "retrieve and aggregate `Position` data, and use\n",
    "looping constructs to handle different `Position`\n",
    "values present in the `players` dictionary.\"\"\"\n",
    "\n",
    "write_readme(readme_text, os.path.join(directories[rubric_item], \"README.txt\"))"
   ]
  },
  {
   "cell_type": "code",
   "execution_count": 159,
   "id": "b0684e18",
   "metadata": {},
   "outputs": [],
   "source": [
    "import os\n",
    "import random\n",
    "import csv\n",
    "\n",
    "def modify_data(directory):\n",
    "    \"\"\"\n",
    "    Modify the dataset such that the 'Position' column has completely different values\n",
    "    from the original dataset and has a different number of unique values.\n",
    "    \"\"\"\n",
    "\n",
    "    # Define the path to the soccer_stars.csv within the directory\n",
    "    csv_path = os.path.join(directory, 'soccer_stars.csv')\n",
    "\n",
    "    # Define new positions that are different from the original dataset\n",
    "    new_positions = ['FWD', 'MID', 'DEF', 'GKP', 'WNG', 'SPT', 'DMF', 'AMF']\n",
    "\n",
    "    # Read in the data from the existing csv file\n",
    "    with open(csv_path, mode='r', newline='', encoding='utf-8') as csvfile:\n",
    "        reader = csv.DictReader(csvfile)\n",
    "        rows = list(reader)\n",
    "    \n",
    "    # Change the 'Position' column to a new value from the list of new_positions\n",
    "    for row in rows:\n",
    "        row['Position'] = random.choice(new_positions)\n",
    "\n",
    "    # Write the modified data back to the csv file\n",
    "    with open(csv_path, mode='w', newline='', encoding='utf-8') as csvfile:\n",
    "        writer = csv.DictWriter(csvfile, fieldnames=reader.fieldnames)\n",
    "        writer.writeheader()\n",
    "        writer.writerows(rows)\n",
    "\n",
    "# Call random_data only if required by the test details\n",
    "# The directories and rubric_item variables have been defined already externally.\n",
    "random_data(directories[rubric_item], 1000)\n",
    "\n",
    "# Since the details specify that modify_data must be called after random_data\n",
    "# Call modify_data passing the correct directory\n",
    "modify_data(directories[rubric_item])"
   ]
  },
  {
   "cell_type": "raw",
   "id": "49688abb",
   "metadata": {},
   "source": [
    "# BEGIN q10: the keys of `positions_avg_height` are hardcoded"
   ]
  },
  {
   "cell_type": "code",
   "execution_count": 160,
   "id": "dd9230e4",
   "metadata": {},
   "outputs": [],
   "source": [
    "rubric_item = 'q10: the keys of `positions_avg_height` are hardcoded'\n",
    "nb = clean_nb(read_nb(os.path.join(DIRECTORY, FILE)))\n",
    "nb = truncate_nb(nb, end=find_all_cell_indices(nb, \"code\", \"grader.check('q10')\")[-1])\n",
    "\n",
    "results[rubric_item] = parse_nb(run_nb(nb, os.path.join(directories[rubric_item], FILE)))"
   ]
  },
  {
   "cell_type": "raw",
   "id": "dab264ee",
   "metadata": {},
   "source": [
    "# END q10: the keys of `positions_avg_height` are hardcoded"
   ]
  },
  {
   "cell_type": "code",
   "execution_count": 161,
   "id": "ce305033",
   "metadata": {},
   "outputs": [],
   "source": [
    "gen_public_tests.gen_public_tests(os.path.join(directories[rubric_item], FILE))"
   ]
  },
  {
   "cell_type": "markdown",
   "id": "71e50a94",
   "metadata": {},
   "source": [
    "### q10: `players` data structure is not used to read data"
   ]
  },
  {
   "cell_type": "code",
   "execution_count": 162,
   "id": "e8cd2171",
   "metadata": {},
   "outputs": [],
   "source": [
    "rubric_item = 'q10: `players` data structure is not used to read data'\n",
    "readme_text = \"\"\"The test checks if the 'players' data structure is\n",
    "correctly utilized to fetch statistics. To pass,\n",
    "ensure you reference the 'players' dictionary with\n",
    "the player ID as the key to get all column values.\n",
    "Revisit your code and verify you're using\n",
    "'players' as specified.\"\"\"\n",
    "\n",
    "write_readme(readme_text, os.path.join(directories[rubric_item], \"README.txt\"))"
   ]
  },
  {
   "cell_type": "code",
   "execution_count": 163,
   "id": "e71cd6c2",
   "metadata": {},
   "outputs": [],
   "source": [
    "random_data(directories[rubric_item], 1000)"
   ]
  },
  {
   "cell_type": "raw",
   "id": "3e1e419d",
   "metadata": {},
   "source": [
    "# BEGIN q10: `players` data structure is not used to read data"
   ]
  },
  {
   "cell_type": "code",
   "execution_count": 164,
   "id": "774234f1",
   "metadata": {},
   "outputs": [],
   "source": [
    "rubric_item = 'q10: `players` data structure is not used to read data'\n",
    "nb = read_nb(os.path.join(DIRECTORY, FILE))\n",
    "nb = clean_nb(nb)\n",
    "nb = truncate_nb(nb, end=find_all_cell_indices(nb, \"code\", \"grader.check('q10')\")[-1])\n",
    "\n",
    "new_players = true_data_structures['players'] + '''\n",
    "import random\n",
    "random.seed(0)\n",
    "\n",
    "col_data = {}\n",
    "for player_id in players:\n",
    "    for col in players[player_id]:\n",
    "        if col not in col_data:\n",
    "            col_data[col] = []\n",
    "        col_data[col].append(players[player_id][col])\n",
    "        \n",
    "for col in col_data:\n",
    "    random.shuffle(col_data[col])\n",
    "\n",
    "false_teams = sorted(list(set(col_data['Team'])))\n",
    "false_leagues = sorted(list(set(col_data['League'])))\n",
    "false_team_to_league = {}\n",
    "for team in false_teams:\n",
    "    false_team_to_league[team] = random.choice(false_leagues)\n",
    "    \n",
    "dict_rows = []\n",
    "for idx in range(len(col_data['ID'])):\n",
    "    dict_rows.append({})\n",
    "    for col in col_data:\n",
    "        dict_rows[-1][col] = col_data[col][idx]\n",
    "        if col == 'League':\n",
    "            dict_rows[-1][col] = false_team_to_league[dict_rows[-1]['Team']]\n",
    "dict_rows.sort(key=lambda row: row['Overall rating'], reverse=True)\n",
    "players = {}\n",
    "for row in dict_rows:\n",
    "    players[row['ID']] = row\n",
    "'''\n",
    "nb = replace_with_false_data_structure(nb, 'players', new_players)\n",
    "\n",
    "results[rubric_item] = parse_nb(run_nb(nb, os.path.join(directories[rubric_item], FILE)))"
   ]
  },
  {
   "cell_type": "raw",
   "id": "956ff528",
   "metadata": {},
   "source": [
    "# END q10: `players` data structure is not used to read data"
   ]
  },
  {
   "cell_type": "code",
   "execution_count": 165,
   "id": "ae55d72f",
   "metadata": {},
   "outputs": [],
   "source": [
    "gen_public_tests.gen_public_tests(os.path.join(directories[rubric_item], FILE))"
   ]
  },
  {
   "cell_type": "markdown",
   "id": "4b1bfda1",
   "metadata": {},
   "source": [
    "### average_stat_by_position: function logic is incorrect"
   ]
  },
  {
   "cell_type": "code",
   "execution_count": 166,
   "id": "bee22561",
   "metadata": {},
   "outputs": [],
   "source": [
    "rubric_item = 'average_stat_by_position: function logic is incorrect'\n",
    "readme_text = \"\"\"Check if the function correctly calculates\n",
    "averages by initializing and updating counters and\n",
    "sums for each position. Ensure correct dictionary\n",
    "construction, use of keys for indexing, and\n",
    "division to calculate averages. Review the\n",
    "handling of different column names and\n",
    "corresponding data types.\"\"\"\n",
    "\n",
    "write_readme(readme_text, os.path.join(directories[rubric_item], \"README.txt\"))"
   ]
  },
  {
   "cell_type": "raw",
   "id": "015a62a1",
   "metadata": {},
   "source": [
    "# BEGIN average_stat_by_position: function logic is incorrect"
   ]
  },
  {
   "cell_type": "code",
   "execution_count": 167,
   "id": "3f927472",
   "metadata": {},
   "outputs": [],
   "source": [
    "rubric_item = 'average_stat_by_position: function logic is incorrect'\n",
    "nb = read_nb(os.path.join(DIRECTORY, FILE))\n",
    "nb = clean_nb(nb)\n",
    "nb = truncate_nb(nb, end=find_all_cell_indices(nb, \"code\", \"grader.check('average_stat_by_position')\")[-1])\n",
    "\n",
    "var_inputs_code = '''\n",
    "col_names = ['Attacking', 'Movement', 'Defending', 'Goalkeeping']\n",
    "var_inputs = [(col_name,) for col_name in col_names]\n",
    "'''\n",
    "nb = inject_function_logic_check(nb, 'average_stat_by_position', var_inputs_code, \"TEXT_FORMAT_DICT\")\n",
    "\n",
    "results[rubric_item] = parse_nb(run_nb(nb, os.path.join(directories[rubric_item], FILE)))\n",
    "test_output = results[rubric_item][rubric_item.split(\":\")[0]]\n",
    "if test_output != 'All test cases passed!':\n",
    "    comments[rubric_item] += '\\nFAILED TEST CASE: ' + test_output"
   ]
  },
  {
   "cell_type": "raw",
   "id": "d9daa011",
   "metadata": {},
   "source": [
    "# END average_stat_by_position: function logic is incorrect"
   ]
  },
  {
   "cell_type": "markdown",
   "id": "9ce5f251",
   "metadata": {},
   "source": [
    "### average_stat_by_position: function only works for certain numerical columns"
   ]
  },
  {
   "cell_type": "code",
   "execution_count": 168,
   "id": "3ff997e2",
   "metadata": {},
   "outputs": [],
   "source": [
    "rubric_item = 'average_stat_by_position: function only works for certain numerical columns'\n",
    "readme_text = \"\"\"Check that calculations of averages handle various\n",
    "numerical data types and ensure that your function\n",
    "iterates over all players and positions. Verify\n",
    "that the function doesn't have hardcoded column\n",
    "names or conditions that limit it to specific\n",
    "columns.\"\"\"\n",
    "\n",
    "write_readme(readme_text, os.path.join(directories[rubric_item], \"README.txt\"))"
   ]
  },
  {
   "cell_type": "raw",
   "id": "6f90bfc4",
   "metadata": {},
   "source": [
    "# BEGIN average_stat_by_position: function only works for certain numerical columns"
   ]
  },
  {
   "cell_type": "code",
   "execution_count": 169,
   "id": "36b27162",
   "metadata": {},
   "outputs": [],
   "source": [
    "rubric_item = 'average_stat_by_position: function only works for certain numerical columns'\n",
    "nb = read_nb(os.path.join(DIRECTORY, FILE))\n",
    "nb = clean_nb(nb)\n",
    "\n",
    "var_inputs_code = '''\n",
    "col_names = ['Age', 'Value', 'Wage', 'Overall rating', 'Height']\n",
    "var_inputs = [(col_name,) for col_name in col_names]\n",
    "'''\n",
    "nb = inject_function_logic_check(nb, 'average_stat_by_position', var_inputs_code, \"TEXT_FORMAT_DICT\")\n",
    "\n",
    "results[rubric_item] = parse_nb(run_nb(nb, os.path.join(directories[rubric_item], FILE)))\n",
    "test_output = results[rubric_item][rubric_item.split(\":\")[0]]\n",
    "if test_output != 'All test cases passed!':\n",
    "    comments[rubric_item] += '\\nFAILED TEST CASE: ' + test_output"
   ]
  },
  {
   "cell_type": "raw",
   "id": "454e74d7",
   "metadata": {},
   "source": [
    "# END average_stat_by_position: function only works for certain numerical columns"
   ]
  },
  {
   "cell_type": "markdown",
   "id": "b2d40ab9",
   "metadata": {},
   "source": [
    "### average_stat_by_position: `players` data structure is not used to read data"
   ]
  },
  {
   "cell_type": "code",
   "execution_count": 170,
   "id": "029051ca",
   "metadata": {},
   "outputs": [],
   "source": [
    "rubric_item = 'average_stat_by_position: `players` data structure is not used to read data'\n",
    "readme_text = \"\"\"The test checks if the 'players' data structure is\n",
    "correctly utilized to fetch statistics. To pass,\n",
    "ensure you reference the 'players' dictionary with\n",
    "the player ID as the key to get all column values.\n",
    "Revisit your code and verify you're using\n",
    "'players' as specified.\"\"\"\n",
    "\n",
    "write_readme(readme_text, os.path.join(directories[rubric_item], \"README.txt\"))"
   ]
  },
  {
   "cell_type": "code",
   "execution_count": 171,
   "id": "915269cc",
   "metadata": {},
   "outputs": [],
   "source": [
    "random_data(directories[rubric_item], 1000)"
   ]
  },
  {
   "cell_type": "raw",
   "id": "ccd9c05b",
   "metadata": {},
   "source": [
    "# BEGIN average_stat_by_position: `players` data structure is not used to read data"
   ]
  },
  {
   "cell_type": "code",
   "execution_count": 172,
   "id": "30453c2f",
   "metadata": {},
   "outputs": [],
   "source": [
    "rubric_item = 'average_stat_by_position: `players` data structure is not used to read data'\n",
    "nb = read_nb(os.path.join(DIRECTORY, FILE))\n",
    "nb = clean_nb(nb)\n",
    "nb = truncate_nb(nb, end=find_all_cell_indices(nb, \"code\", \"grader.check('average_stat_by_position')\")[-1])\n",
    "\n",
    "var_inputs_code = '''\n",
    "col_names = ['Attacking', 'Movement', 'Defending', 'Goalkeeping']\n",
    "var_inputs = [(col_name,) for col_name in col_names]\n",
    "'''\n",
    "nb = inject_function_logic_check(nb, 'average_stat_by_position', var_inputs_code, \"TEXT_FORMAT_DICT\")\n",
    "\n",
    "new_players = true_data_structures['players'] + '''\n",
    "import random\n",
    "random.seed(0)\n",
    "\n",
    "col_data = {}\n",
    "for player_id in players:\n",
    "    for col in players[player_id]:\n",
    "        if col not in col_data:\n",
    "            col_data[col] = []\n",
    "        col_data[col].append(players[player_id][col])\n",
    "        \n",
    "for col in col_data:\n",
    "    random.shuffle(col_data[col])\n",
    "\n",
    "false_teams = sorted(list(set(col_data['Team'])))\n",
    "false_leagues = sorted(list(set(col_data['League'])))\n",
    "false_team_to_league = {}\n",
    "for team in false_teams:\n",
    "    false_team_to_league[team] = random.choice(false_leagues)\n",
    "    \n",
    "dict_rows = []\n",
    "for idx in range(len(col_data['ID'])):\n",
    "    dict_rows.append({})\n",
    "    for col in col_data:\n",
    "        dict_rows[-1][col] = col_data[col][idx]\n",
    "        if col == 'League':\n",
    "            dict_rows[-1][col] = false_team_to_league[dict_rows[-1]['Team']]\n",
    "dict_rows.sort(key=lambda row: row['Overall rating'], reverse=True)\n",
    "players = {}\n",
    "for row in dict_rows:\n",
    "    players[row['ID']] = row\n",
    "'''\n",
    "nb = replace_with_false_data_structure(nb, 'players', new_players)\n",
    "\n",
    "results[rubric_item] = parse_nb(run_nb(nb, os.path.join(directories[rubric_item], FILE)))"
   ]
  },
  {
   "cell_type": "raw",
   "id": "da065bae",
   "metadata": {},
   "source": [
    "# END average_stat_by_position: `players` data structure is not used to read data"
   ]
  },
  {
   "cell_type": "markdown",
   "id": "39a277b6",
   "metadata": {},
   "source": [
    "### q11: `average_stat_by_position` function is not used to answer"
   ]
  },
  {
   "cell_type": "code",
   "execution_count": 173,
   "id": "fadb358f",
   "metadata": {},
   "outputs": [],
   "source": [
    "rubric_item = 'q11: `average_stat_by_position` function is not used to answer'\n",
    "readme_text = \"\"\"The test checks if you used\n",
    "`average_stat_by_position` function to calculate\n",
    "average attacking stats by position. Ensure your\n",
    "code calls this function with 'Attacking' as an\n",
    "argument and assigns the result to\n",
    "`positions_avg_attacking`. Review the usage of\n",
    "this function and update your code accordingly.\"\"\"\n",
    "\n",
    "write_readme(readme_text, os.path.join(directories[rubric_item], \"README.txt\"))"
   ]
  },
  {
   "cell_type": "code",
   "execution_count": 174,
   "id": "fd17b793",
   "metadata": {},
   "outputs": [],
   "source": [
    "random_data(directories[rubric_item], 1000)"
   ]
  },
  {
   "cell_type": "raw",
   "id": "6f1354bb",
   "metadata": {},
   "source": [
    "# BEGIN q11: `average_stat_by_position` function is not used to answer"
   ]
  },
  {
   "cell_type": "code",
   "execution_count": 175,
   "id": "7ac15021",
   "metadata": {},
   "outputs": [],
   "source": [
    "rubric_item = 'q11: `average_stat_by_position` function is not used to answer'\n",
    "nb = read_nb(os.path.join(DIRECTORY, FILE))\n",
    "nb = clean_nb(nb)\n",
    "nb = truncate_nb(nb, end=find_all_cell_indices(nb, \"code\", \"grader.check('q11')\")[-1])\n",
    "\n",
    "new_average_stat_by_position = '''\n",
    "def average_stat_by_position(col_name):\n",
    "    position_avg_stat = {pos: float(idx) for idx, pos in enumerate(sorted(set(player['Position'] for player in players.values())))}\n",
    "    return position_avg_stat\n",
    "'''\n",
    "nb = replace_with_false_function(nb, 'average_stat_by_position', new_average_stat_by_position)\n",
    "\n",
    "results[rubric_item] = parse_nb(run_nb(nb, os.path.join(directories[rubric_item], FILE)))"
   ]
  },
  {
   "cell_type": "raw",
   "id": "3430e17a",
   "metadata": {},
   "source": [
    "# END q11: `average_stat_by_position` function is not used to answer"
   ]
  },
  {
   "cell_type": "code",
   "execution_count": 176,
   "id": "0297dee7",
   "metadata": {},
   "outputs": [],
   "source": [
    "gen_public_tests.gen_public_tests(os.path.join(directories[rubric_item], FILE))"
   ]
  },
  {
   "cell_type": "markdown",
   "id": "4514c35e",
   "metadata": {},
   "source": [
    "### q12: `average_stat_by_position` function is not used to answer"
   ]
  },
  {
   "cell_type": "code",
   "execution_count": 177,
   "id": "bd559e27",
   "metadata": {},
   "outputs": [],
   "source": [
    "rubric_item = 'q12: `average_stat_by_position` function is not used to answer'\n",
    "readme_text = \"\"\"The test checks if you used\n",
    "`average_stat_by_position` function to calculate\n",
    "average attacking stats by position. Ensure your\n",
    "code calls this function with 'Attacking' as an\n",
    "argument and assigns the result to\n",
    "`positions_avg_attacking`. Review the usage of\n",
    "this function and update your code accordingly.\"\"\"\n",
    "\n",
    "write_readme(readme_text, os.path.join(directories[rubric_item], \"README.txt\"))"
   ]
  },
  {
   "cell_type": "code",
   "execution_count": 178,
   "id": "b44994d3",
   "metadata": {},
   "outputs": [],
   "source": [
    "random_data(directories[rubric_item], 1000)"
   ]
  },
  {
   "cell_type": "raw",
   "id": "440de2f4",
   "metadata": {},
   "source": [
    "# BEGIN q12: `average_stat_by_position` function is not used to answer"
   ]
  },
  {
   "cell_type": "code",
   "execution_count": 179,
   "id": "c5241e86",
   "metadata": {},
   "outputs": [],
   "source": [
    "rubric_item = 'q12: `average_stat_by_position` function is not used to answer'\n",
    "nb = read_nb(os.path.join(DIRECTORY, FILE))\n",
    "nb = clean_nb(nb)\n",
    "nb = truncate_nb(nb, end=find_all_cell_indices(nb, \"code\", \"grader.check('q12')\")[-1])\n",
    "\n",
    "new_average_stat_by_position = '''\n",
    "def average_stat_by_position(col_name):\n",
    "    position_avg_stat = {pos: float(idx) for idx, pos in enumerate(sorted(set(player['Position'] for player in players.values())))}\n",
    "    return position_avg_stat\n",
    "'''\n",
    "nb = replace_with_false_function(nb, 'average_stat_by_position', new_average_stat_by_position)\n",
    "\n",
    "results[rubric_item] = parse_nb(run_nb(nb, os.path.join(directories[rubric_item], FILE)))"
   ]
  },
  {
   "cell_type": "raw",
   "id": "fd35560d",
   "metadata": {},
   "source": [
    "# END q12: `average_stat_by_position` function is not used to answer"
   ]
  },
  {
   "cell_type": "code",
   "execution_count": 180,
   "id": "b1d762c8",
   "metadata": {},
   "outputs": [],
   "source": [
    "gen_public_tests.gen_public_tests(os.path.join(directories[rubric_item], FILE))"
   ]
  },
  {
   "cell_type": "markdown",
   "id": "a05d26a0",
   "metadata": {},
   "source": [
    "### q13: incorrect logic is used to answer"
   ]
  },
  {
   "cell_type": "code",
   "execution_count": 184,
   "id": "05aea92d",
   "metadata": {},
   "outputs": [],
   "source": [
    "rubric_item = 'q13: incorrect logic is used to answer'\n",
    "readme_text = \"\"\"The test checks correct usage of comparison logic\n",
    "to find the position with the highest average\n",
    "'Defending' stat. Review your use of the\n",
    "`average_stat_by_position` function and ensure you\n",
    "are comparing average stat values correctly to\n",
    "identify the highest one.\"\"\"\n",
    "\n",
    "write_readme(readme_text, os.path.join(directories[rubric_item], \"README.txt\"))"
   ]
  },
  {
   "cell_type": "code",
   "execution_count": 185,
   "id": "073894b3",
   "metadata": {},
   "outputs": [],
   "source": [
    "random_data(directories[rubric_item], 2000)"
   ]
  },
  {
   "cell_type": "raw",
   "id": "29975b87",
   "metadata": {},
   "source": [
    "# BEGIN q13: incorrect logic is used to answer"
   ]
  },
  {
   "cell_type": "code",
   "execution_count": 186,
   "id": "2e003d1b",
   "metadata": {},
   "outputs": [],
   "source": [
    "rubric_item = 'q13: incorrect logic is used to answer'\n",
    "nb = clean_nb(read_nb(os.path.join(DIRECTORY, FILE)))\n",
    "nb = truncate_nb(nb, end=find_all_cell_indices(nb, \"code\", \"grader.check('q13')\")[-1])\n",
    "\n",
    "results[rubric_item] = parse_nb(run_nb(nb, os.path.join(directories[rubric_item], FILE)))"
   ]
  },
  {
   "cell_type": "raw",
   "id": "b0701509",
   "metadata": {},
   "source": [
    "# END q13: incorrect logic is used to answer"
   ]
  },
  {
   "cell_type": "code",
   "execution_count": 187,
   "id": "135ef3a0",
   "metadata": {},
   "outputs": [],
   "source": [
    "gen_public_tests.gen_public_tests(os.path.join(directories[rubric_item], FILE))"
   ]
  },
  {
   "cell_type": "markdown",
   "id": "a29fccbe",
   "metadata": {},
   "source": [
    "### q13: `average_stat_by_position` function is not used to answer"
   ]
  },
  {
   "cell_type": "code",
   "execution_count": 188,
   "id": "2fd63e94",
   "metadata": {},
   "outputs": [],
   "source": [
    "rubric_item = 'q13: `average_stat_by_position` function is not used to answer'\n",
    "readme_text = \"\"\"The test checks if you used\n",
    "`average_stat_by_position` function to calculate\n",
    "average attacking stats by position. Ensure your\n",
    "code calls this function with 'Attacking' as an\n",
    "argument and assigns the result to\n",
    "`positions_avg_attacking`. Review the usage of\n",
    "this function and update your code accordingly.\"\"\"\n",
    "\n",
    "write_readme(readme_text, os.path.join(directories[rubric_item], \"README.txt\"))"
   ]
  },
  {
   "cell_type": "code",
   "execution_count": 189,
   "id": "0df825c1",
   "metadata": {},
   "outputs": [],
   "source": [
    "random_data(directories[rubric_item], 1000)"
   ]
  },
  {
   "cell_type": "raw",
   "id": "3ad36dcd",
   "metadata": {},
   "source": [
    "# BEGIN q13: `average_stat_by_position` function is not used to answer"
   ]
  },
  {
   "cell_type": "code",
   "execution_count": 190,
   "id": "9f1584b5",
   "metadata": {},
   "outputs": [],
   "source": [
    "rubric_item = 'q13: `average_stat_by_position` function is not used to answer'\n",
    "nb = read_nb(os.path.join(DIRECTORY, FILE))\n",
    "nb = clean_nb(nb)\n",
    "nb = truncate_nb(nb, end=find_all_cell_indices(nb, \"code\", \"grader.check('q13')\")[-1])\n",
    "\n",
    "new_average_stat_by_position = '''\n",
    "def average_stat_by_position(col_name):\n",
    "    position_avg_stat = {pos: float(idx) for idx, pos in enumerate(sorted(set(player['Position'] for player in players.values())))}\n",
    "    return position_avg_stat\n",
    "'''\n",
    "nb = replace_with_false_function(nb, 'average_stat_by_position', new_average_stat_by_position)\n",
    "\n",
    "results[rubric_item] = parse_nb(run_nb(nb, os.path.join(directories[rubric_item], FILE)))"
   ]
  },
  {
   "cell_type": "raw",
   "id": "c0dbaad9",
   "metadata": {},
   "source": [
    "# END q13: `average_stat_by_position` function is not used to answer"
   ]
  },
  {
   "cell_type": "code",
   "execution_count": 191,
   "id": "69db62d2",
   "metadata": {},
   "outputs": [],
   "source": [
    "gen_public_tests.gen_public_tests(os.path.join(directories[rubric_item], FILE))"
   ]
  },
  {
   "cell_type": "markdown",
   "id": "e9bf5ee9",
   "metadata": {},
   "source": [
    "### best_player_of_team_at_position: function logic is incorrect when there is a unique best player of the `team` at `position`"
   ]
  },
  {
   "cell_type": "code",
   "execution_count": 192,
   "id": "b8ba5f0e",
   "metadata": {},
   "outputs": [],
   "source": [
    "rubric_item = 'best_player_of_team_at_position: function logic is incorrect when there is a unique best player of the `team` at `position`'\n",
    "readme_text = \"\"\"Check the conditions and comparisons in your\n",
    "function to ensure that you are identifying the\n",
    "unique best player correctly. Make sure to test\n",
    "your function with scenarios where one player has\n",
    "a higher 'Overall rating' at a given 'position'\n",
    "for a 'team'. Also, check how you handle\n",
    "comparisons and the return value for the best\n",
    "player's 'ID'.\"\"\"\n",
    "\n",
    "write_readme(readme_text, os.path.join(directories[rubric_item], \"README.txt\"))"
   ]
  },
  {
   "cell_type": "raw",
   "id": "3dd7c544",
   "metadata": {},
   "source": [
    "# BEGIN best_player_of_team_at_position: function logic is incorrect when there is a unique best player of the `team` at `position`"
   ]
  },
  {
   "cell_type": "code",
   "execution_count": 193,
   "id": "20978d72",
   "metadata": {},
   "outputs": [],
   "source": [
    "rubric_item = 'best_player_of_team_at_position: function logic is incorrect when there is a unique best player of the `team` at `position`'\n",
    "nb = read_nb(os.path.join(DIRECTORY, FILE))\n",
    "nb = clean_nb(nb)\n",
    "nb = truncate_nb(nb, end=find_all_cell_indices(nb, \"code\", \"grader.check('best_player_of_team_at_position')\")[-1])\n",
    "\n",
    "var_inputs_code = '''\n",
    "positions = set([player['Position'] for player in players.values()])\n",
    "teams = set([player['Team'] for player in players.values()])\n",
    "var_inputs = []\n",
    "for position in positions:\n",
    "    for team in teams:\n",
    "        players_of_team_at_position = [(player_id, player['Overall rating']) for player_id, player in players.items() if player['Team'] == team and player['Position'] == position]\n",
    "        players_of_team_at_position.sort(key=lambda row: row[1], reverse=True)\n",
    "        if len(players_of_team_at_position) == 1 or len(players_of_team_at_position) > 1 and players_of_team_at_position[1][1] != players_of_team_at_position[0][1]:\n",
    "            var_inputs.append((position, team))\n",
    "'''\n",
    "\n",
    "nb = inject_function_logic_check(nb, 'best_player_of_team_at_position', var_inputs_code, \"TEXT_FORMAT\")\n",
    "\n",
    "results[rubric_item] = parse_nb(run_nb(nb, os.path.join(directories[rubric_item], FILE)))\n",
    "test_output = results[rubric_item][rubric_item.split(\":\")[0]]\n",
    "if test_output != 'All test cases passed!':\n",
    "    comments[rubric_item] += '\\nFAILED TEST CASE: ' + test_output"
   ]
  },
  {
   "cell_type": "raw",
   "id": "69e3a72e",
   "metadata": {},
   "source": [
    "# END best_player_of_team_at_position: function logic is incorrect when there is a unique best player of the `team` at `position`"
   ]
  },
  {
   "cell_type": "markdown",
   "id": "f045aa35",
   "metadata": {},
   "source": [
    "### best_player_of_team_at_position: function logic is incorrect when there are multiple players tied for best player of the `team` at `position`"
   ]
  },
  {
   "cell_type": "code",
   "execution_count": 194,
   "id": "db948fbf",
   "metadata": {},
   "outputs": [],
   "source": [
    "rubric_item = 'best_player_of_team_at_position: function logic is incorrect when there are multiple players tied for best player of the `team` at `position`'\n",
    "readme_text = \"\"\"Check whether your function correctly handles ties\n",
    "by choosing the player with the smaller ID. Review\n",
    "your comparisons to ensure ties are broken by ID\n",
    "and that None is returned if there are no players\n",
    "at a position for a team.\"\"\"\n",
    "\n",
    "write_readme(readme_text, os.path.join(directories[rubric_item], \"README.txt\"))"
   ]
  },
  {
   "cell_type": "raw",
   "id": "a9bade1c",
   "metadata": {},
   "source": [
    "# BEGIN best_player_of_team_at_position: function logic is incorrect when there are multiple players tied for best player of the `team` at `position`"
   ]
  },
  {
   "cell_type": "code",
   "execution_count": 195,
   "id": "4bd7e578",
   "metadata": {},
   "outputs": [],
   "source": [
    "rubric_item = 'best_player_of_team_at_position: function logic is incorrect when there are multiple players tied for best player of the `team` at `position`'\n",
    "nb = read_nb(os.path.join(DIRECTORY, FILE))\n",
    "nb = clean_nb(nb)\n",
    "nb = truncate_nb(nb, end=find_all_cell_indices(nb, \"code\", \"grader.check('best_player_of_team_at_position')\")[-1])\n",
    "\n",
    "var_inputs_code = '''\n",
    "positions = set([player['Position'] for player in players.values()])\n",
    "teams = set([player['Team'] for player in players.values()])\n",
    "var_inputs = []\n",
    "for position in positions:\n",
    "    for team in teams:\n",
    "        players_of_team_at_position = [(player_id, player['Overall rating']) for player_id, player in players.items() if player['Team'] == team and player['Position'] == position]\n",
    "        players_of_team_at_position.sort(key=lambda row: row[1], reverse=True)\n",
    "        if len(players_of_team_at_position) > 1 and players_of_team_at_position[1][1] == players_of_team_at_position[0][1]:\n",
    "            var_inputs.append((position, team))\n",
    "'''\n",
    "nb = inject_function_logic_check(nb, 'best_player_of_team_at_position', var_inputs_code, \"TEXT_FORMAT\")\n",
    "\n",
    "players_permute_code = true_data_structures[\"players\"] + \"\"\"\n",
    "import random\n",
    "random.seed(0)\n",
    "players = dict(random.sample(list(players.items()), len(players)))\"\"\"\n",
    "nb = replace_with_false_data_structure(nb, \"players\", players_permute_code)\n",
    "\n",
    "results[rubric_item] = parse_nb(run_nb(nb, os.path.join(directories[rubric_item], FILE)))\n",
    "test_output = results[rubric_item][rubric_item.split(\":\")[0]]\n",
    "if test_output != 'All test cases passed!':\n",
    "    comments[rubric_item] += '\\nFAILED TEST CASE: ' + test_output"
   ]
  },
  {
   "cell_type": "raw",
   "id": "334c072a",
   "metadata": {},
   "source": [
    "# END best_player_of_team_at_position: function logic is incorrect when there are multiple players tied for best player of the `team` at `position`"
   ]
  },
  {
   "cell_type": "markdown",
   "id": "e81f2024",
   "metadata": {},
   "source": [
    "### best_player_of_team_at_position: function logic is incorrect when there are no players of the `team` at `position`"
   ]
  },
  {
   "cell_type": "code",
   "execution_count": 196,
   "id": "db5ea6dd",
   "metadata": {},
   "outputs": [],
   "source": [
    "rubric_item = 'best_player_of_team_at_position: function logic is incorrect when there are no players of the `team` at `position`'\n",
    "readme_text = \"\"\"Check whether your function properly handles cases\n",
    "where there are no players at the given position\n",
    "for the given team, as it should return `None`.\n",
    "Ensure the function iterates through all players\n",
    "and that conditions for `position` and `team`\n",
    "match correctly.\"\"\"\n",
    "\n",
    "write_readme(readme_text, os.path.join(directories[rubric_item], \"README.txt\"))"
   ]
  },
  {
   "cell_type": "raw",
   "id": "a8dcd31c",
   "metadata": {},
   "source": [
    "# BEGIN best_player_of_team_at_position: function logic is incorrect when there are no players of the `team` at `position`"
   ]
  },
  {
   "cell_type": "code",
   "execution_count": 197,
   "id": "af535de9",
   "metadata": {},
   "outputs": [],
   "source": [
    "rubric_item = 'best_player_of_team_at_position: function logic is incorrect when there are no players of the `team` at `position`'\n",
    "nb = read_nb(os.path.join(DIRECTORY, FILE))\n",
    "nb = clean_nb(nb)\n",
    "nb = truncate_nb(nb, end=find_all_cell_indices(nb, \"code\", \"grader.check('best_player_of_team_at_position')\")[-1])\n",
    "\n",
    "var_inputs_code = '''\n",
    "positions = set([player['Position'] for player in players.values()])\n",
    "teams = set([player['Team'] for player in players.values()])\n",
    "var_inputs = []\n",
    "for position in positions:\n",
    "    for team in teams:\n",
    "        players_of_team_at_position = [(player_id, player['Overall rating']) for player_id, player in players.items() if player['Team'] == team and player['Position'] == position]\n",
    "        if len(players_of_team_at_position) == 0:\n",
    "            var_inputs.append((position, team))\n",
    "'''\n",
    "nb = inject_function_logic_check(nb, 'best_player_of_team_at_position', var_inputs_code, \"TEXT_FORMAT\")\n",
    "\n",
    "results[rubric_item] = parse_nb(run_nb(nb, os.path.join(directories[rubric_item], FILE)))\n",
    "test_output = results[rubric_item][rubric_item.split(\":\")[0]]\n",
    "if test_output != 'All test cases passed!':\n",
    "    comments[rubric_item] += '\\nFAILED TEST CASE: ' + test_output"
   ]
  },
  {
   "cell_type": "raw",
   "id": "62d53dc9",
   "metadata": {},
   "source": [
    "# END best_player_of_team_at_position: function logic is incorrect when there are no players of the `team` at `position`"
   ]
  },
  {
   "cell_type": "markdown",
   "id": "43e189e6",
   "metadata": {},
   "source": [
    "### best_player_of_team_at_position: `players` data structure is not used to read data"
   ]
  },
  {
   "cell_type": "code",
   "execution_count": 198,
   "id": "6dae45e8",
   "metadata": {},
   "outputs": [],
   "source": [
    "rubric_item = 'best_player_of_team_at_position: `players` data structure is not used to read data'\n",
    "readme_text = \"\"\"The test checks if the 'players' data structure is\n",
    "correctly utilized to fetch statistics. To pass,\n",
    "ensure you reference the 'players' dictionary with\n",
    "the player ID as the key to get all column values.\n",
    "Revisit your code and verify you're using\n",
    "'players' as specified.\"\"\"\n",
    "\n",
    "write_readme(readme_text, os.path.join(directories[rubric_item], \"README.txt\"))"
   ]
  },
  {
   "cell_type": "code",
   "execution_count": 199,
   "id": "60433eff",
   "metadata": {},
   "outputs": [],
   "source": [
    "random_data(directories[rubric_item], 1000)"
   ]
  },
  {
   "cell_type": "raw",
   "id": "04de27b7",
   "metadata": {},
   "source": [
    "# BEGIN best_player_of_team_at_position: `players` data structure is not used to read data"
   ]
  },
  {
   "cell_type": "code",
   "execution_count": 200,
   "id": "3f132d2b",
   "metadata": {},
   "outputs": [],
   "source": [
    "rubric_item = 'best_player_of_team_at_position: `players` data structure is not used to read data'\n",
    "nb = read_nb(os.path.join(DIRECTORY, FILE))\n",
    "nb = clean_nb(nb)\n",
    "nb = truncate_nb(nb, end=find_all_cell_indices(nb, \"code\", \"grader.check('best_player_of_team_at_position')\")[-1])\n",
    "\n",
    "var_inputs_code = '''\n",
    "positions = set([player['Position'] for player in players.values()])\n",
    "teams = set([player['Team'] for player in players.values()])\n",
    "team = sorted(list(teams))[0]\n",
    "var_inputs = []\n",
    "for position in positions:\n",
    "    var_inputs.append((position, team))\n",
    "'''\n",
    "nb = inject_function_logic_check(nb, 'best_player_of_team_at_position', var_inputs_code, \"TEXT_FORMAT\")\n",
    "\n",
    "new_players = true_data_structures['players'] + '''\n",
    "import random\n",
    "random.seed(0)\n",
    "\n",
    "col_data = {}\n",
    "for player_id in players:\n",
    "    for col in players[player_id]:\n",
    "        if col not in col_data:\n",
    "            col_data[col] = []\n",
    "        col_data[col].append(players[player_id][col])\n",
    "        \n",
    "for col in col_data:\n",
    "    random.shuffle(col_data[col])\n",
    "\n",
    "false_teams = sorted(list(set(col_data['Team'])))\n",
    "false_leagues = sorted(list(set(col_data['League'])))\n",
    "false_team_to_league = {}\n",
    "for team in false_teams:\n",
    "    false_team_to_league[team] = random.choice(false_leagues)\n",
    "    \n",
    "dict_rows = []\n",
    "for idx in range(len(col_data['ID'])):\n",
    "    dict_rows.append({})\n",
    "    for col in col_data:\n",
    "        dict_rows[-1][col] = col_data[col][idx]\n",
    "        if col == 'League':\n",
    "            dict_rows[-1][col] = false_team_to_league[dict_rows[-1]['Team']]\n",
    "dict_rows.sort(key=lambda row: row['Overall rating'], reverse=True)\n",
    "players = {}\n",
    "for row in dict_rows:\n",
    "    players[row['ID']] = row\n",
    "'''\n",
    "nb = replace_with_false_data_structure(nb, 'players', new_players)\n",
    "\n",
    "results[rubric_item] = parse_nb(run_nb(nb, os.path.join(directories[rubric_item], FILE)))"
   ]
  },
  {
   "cell_type": "raw",
   "id": "cbdb3916",
   "metadata": {},
   "source": [
    "# END best_player_of_team_at_position: `players` data structure is not used to read data"
   ]
  },
  {
   "cell_type": "markdown",
   "id": "a61e7d29",
   "metadata": {},
   "source": [
    "### q14: `best_player_of_team_at_position` function is not used to answer"
   ]
  },
  {
   "cell_type": "code",
   "execution_count": 201,
   "id": "93a95ec1",
   "metadata": {},
   "outputs": [],
   "source": [
    "rubric_item = 'q14: `best_player_of_team_at_position` function is not used to answer'\n",
    "readme_text = \"\"\"Ensure you use the\n",
    "`best_player_of_team_at_position` function to find\n",
    "the best CDM for Manchester United. Review your\n",
    "code to confirm that this function is called\n",
    "correctly with the appropriate arguments.\"\"\"\n",
    "\n",
    "write_readme(readme_text, os.path.join(directories[rubric_item], \"README.txt\"))"
   ]
  },
  {
   "cell_type": "code",
   "execution_count": 202,
   "id": "6ad2958c",
   "metadata": {},
   "outputs": [],
   "source": [
    "random_data(directories[rubric_item], 1000)"
   ]
  },
  {
   "cell_type": "raw",
   "id": "f585e4e6",
   "metadata": {},
   "source": [
    "# BEGIN q14: `best_player_of_team_at_position` function is not used to answer"
   ]
  },
  {
   "cell_type": "code",
   "execution_count": 203,
   "id": "67e40eb0",
   "metadata": {},
   "outputs": [],
   "source": [
    "rubric_item = 'q14: `best_player_of_team_at_position` function is not used to answer'\n",
    "nb = read_nb(os.path.join(DIRECTORY, FILE))\n",
    "nb = clean_nb(nb)\n",
    "nb = truncate_nb(nb, end=find_all_cell_indices(nb, \"code\", \"grader.check('q14')\")[-1])\n",
    "\n",
    "false_best_player_of_team_at_position = '''\n",
    "def best_player_of_team_at_position(position, team):\n",
    "    # Incorrectly returns the player with the lowest Overall rating instead of the highest\n",
    "    worst_player = None\n",
    "    for player_id in players:\n",
    "        player = players[player_id]\n",
    "        if player['Position'] != position or player['Team'] != team:\n",
    "            continue\n",
    "        if worst_player == None or player['Overall rating'] < players[worst_player]['Overall rating']:\n",
    "            worst_player = player_id\n",
    "        elif player['Overall rating'] == players[worst_player]['Overall rating'] and player_id > worst_player:\n",
    "            worst_player = player_id\n",
    "    return worst_player\n",
    "'''\n",
    "nb = replace_with_false_function(nb, 'best_player_of_team_at_position', false_best_player_of_team_at_position)\n",
    "\n",
    "results[rubric_item] = parse_nb(run_nb(nb, os.path.join(directories[rubric_item], FILE)))"
   ]
  },
  {
   "cell_type": "raw",
   "id": "9f391ce2",
   "metadata": {},
   "source": [
    "# END q14: `best_player_of_team_at_position` function is not used to answer"
   ]
  },
  {
   "cell_type": "code",
   "execution_count": 204,
   "id": "b7a5a445",
   "metadata": {},
   "outputs": [],
   "source": [
    "gen_public_tests.gen_public_tests(os.path.join(directories[rubric_item], FILE))"
   ]
  },
  {
   "cell_type": "markdown",
   "id": "bc9fbcb1",
   "metadata": {},
   "source": [
    "### q15: `best_player_of_team_at_position` function is not used to answer"
   ]
  },
  {
   "cell_type": "code",
   "execution_count": 205,
   "id": "826fb0f2",
   "metadata": {},
   "outputs": [],
   "source": [
    "rubric_item = 'q15: `best_player_of_team_at_position` function is not used to answer'\n",
    "readme_text = \"\"\"Ensure you use the\n",
    "`best_player_of_team_at_position` function to find\n",
    "the best RW for Liverpool. Review your\n",
    "code to confirm that this function is called\n",
    "correctly with the appropriate arguments.\"\"\"\n",
    "\n",
    "write_readme(readme_text, os.path.join(directories[rubric_item], \"README.txt\"))"
   ]
  },
  {
   "cell_type": "code",
   "execution_count": 206,
   "id": "6c914dc1",
   "metadata": {},
   "outputs": [],
   "source": [
    "random_data(directories[rubric_item], 1000)"
   ]
  },
  {
   "cell_type": "raw",
   "id": "316bc6aa",
   "metadata": {},
   "source": [
    "# BEGIN q15: `best_player_of_team_at_position` function is not used to answer"
   ]
  },
  {
   "cell_type": "code",
   "execution_count": 207,
   "id": "69ca0b98",
   "metadata": {},
   "outputs": [],
   "source": [
    "rubric_item = 'q15: `best_player_of_team_at_position` function is not used to answer'\n",
    "nb = read_nb(os.path.join(DIRECTORY, FILE))\n",
    "nb = clean_nb(nb)\n",
    "nb = truncate_nb(nb, end=find_all_cell_indices(nb, \"code\", \"grader.check('q15')\")[-1])\n",
    "\n",
    "false_best_player_of_team_at_position = '''\n",
    "def best_player_of_team_at_position(position, team):\n",
    "    # Incorrectly returns the player with the lowest Overall rating instead of the highest\n",
    "    worst_player = None\n",
    "    for player_id in players:\n",
    "        player = players[player_id]\n",
    "        if player['Position'] != position or player['Team'] != team:\n",
    "            continue\n",
    "        if worst_player == None or player['Overall rating'] < players[worst_player]['Overall rating']:\n",
    "            worst_player = player_id\n",
    "        elif player['Overall rating'] == players[worst_player]['Overall rating'] and player_id > worst_player:\n",
    "            worst_player = player_id\n",
    "    return worst_player\n",
    "'''\n",
    "nb = replace_with_false_function(nb, 'best_player_of_team_at_position', false_best_player_of_team_at_position)\n",
    "\n",
    "results[rubric_item] = parse_nb(run_nb(nb, os.path.join(directories[rubric_item], FILE)))"
   ]
  },
  {
   "cell_type": "raw",
   "id": "fdfa6ef3",
   "metadata": {},
   "source": [
    "# END q15: `best_player_of_team_at_position` function is not used to answer"
   ]
  },
  {
   "cell_type": "code",
   "execution_count": 208,
   "id": "eb16e7a9",
   "metadata": {},
   "outputs": [],
   "source": [
    "gen_public_tests.gen_public_tests(os.path.join(directories[rubric_item], FILE))"
   ]
  },
  {
   "cell_type": "markdown",
   "id": "590b83d6",
   "metadata": {},
   "source": [
    "### q15: `players` data structure is not used to read data"
   ]
  },
  {
   "cell_type": "code",
   "execution_count": 209,
   "id": "fbdf7198",
   "metadata": {},
   "outputs": [],
   "source": [
    "rubric_item = 'q15: `players` data structure is not used to read data'\n",
    "readme_text = \"\"\"The test checks if the 'players' data structure is\n",
    "correctly utilized to fetch statistics. To pass,\n",
    "ensure you reference the 'players' dictionary with\n",
    "the player ID as the key to get all column values.\n",
    "Revisit your code and verify you're using\n",
    "'players' as specified.\"\"\"\n",
    "\n",
    "write_readme(readme_text, os.path.join(directories[rubric_item], \"README.txt\"))"
   ]
  },
  {
   "cell_type": "code",
   "execution_count": 210,
   "id": "24ff1a34",
   "metadata": {},
   "outputs": [],
   "source": [
    "random_data(directories[rubric_item], 1000)"
   ]
  },
  {
   "cell_type": "raw",
   "id": "de88ab60",
   "metadata": {},
   "source": [
    "# BEGIN q15: `players` data structure is not used to read data"
   ]
  },
  {
   "cell_type": "code",
   "execution_count": 211,
   "id": "ba5fe9ed",
   "metadata": {},
   "outputs": [],
   "source": [
    "rubric_item = 'q15: `players` data structure is not used to read data'\n",
    "nb = read_nb(os.path.join(DIRECTORY, FILE))\n",
    "nb = clean_nb(nb)\n",
    "nb = truncate_nb(nb, end=find_all_cell_indices(nb, \"code\", \"grader.check('q15')\")[-1])\n",
    "\n",
    "new_players = true_data_structures['players'] + '''\n",
    "import random\n",
    "import copy\n",
    "random.seed(0)\n",
    "\n",
    "original_id = list(players.keys())\n",
    "shuffled_id = original_id.copy()\n",
    "random.shuffle(shuffled_id)\n",
    "id_map = {original_id[i]: shuffled_id[i] for i in range(len(original_id))}\n",
    "\n",
    "players_list = list(players.values())\n",
    "players_list.sort(key=lambda player: player['Overall rating'], reverse=True)\n",
    "for i in range(len(players_list)):\n",
    "    oid = players_list[i]['ID']\n",
    "    nid = id_map[oid]\n",
    "    players_list[i]['ID'] = nid\n",
    "\n",
    "players = {}\n",
    "for player in players_list:\n",
    "    players[player['ID']] = player\n",
    "'''\n",
    "nb = replace_with_false_data_structure(nb, 'players', new_players)\n",
    "\n",
    "results[rubric_item] = parse_nb(run_nb(nb, os.path.join(directories[rubric_item], FILE)))"
   ]
  },
  {
   "cell_type": "raw",
   "id": "7121b661",
   "metadata": {},
   "source": [
    "# END q15: `players` data structure is not used to read data"
   ]
  },
  {
   "cell_type": "code",
   "execution_count": 212,
   "id": "18c8af78",
   "metadata": {},
   "outputs": [],
   "source": [
    "gen_public_tests.gen_public_tests(os.path.join(directories[rubric_item], FILE))"
   ]
  },
  {
   "cell_type": "markdown",
   "id": "4ab6cbdd",
   "metadata": {},
   "source": [
    "### best_starting_players_of: function logic is incorrect"
   ]
  },
  {
   "cell_type": "code",
   "execution_count": 213,
   "id": "2d154eb6",
   "metadata": {},
   "outputs": [],
   "source": [
    "rubric_item = 'best_starting_players_of: function logic is incorrect'\n",
    "readme_text = \"\"\"The function should correctly map the best player\n",
    "at each position for a given team, considering\n",
    "overall ratings and ID values for tie-breaking.\n",
    "Verify your logic for handling tiebreaks and\n",
    "ensure positions with no players are not included\n",
    "in the output. Update your code to address these\n",
    "requirements and pass all unique team inputs.\"\"\"\n",
    "\n",
    "write_readme(readme_text, os.path.join(directories[rubric_item], \"README.txt\"))"
   ]
  },
  {
   "cell_type": "code",
   "execution_count": 214,
   "id": "dcf354a8-f122-4ab7-a90e-4d98b8279707",
   "metadata": {},
   "outputs": [],
   "source": [
    "import os\n",
    "import csv\n",
    "import random\n",
    "\n",
    "def modify_data(directory):\n",
    "    \"\"\"\n",
    "    This function modifies the dataset by selecting a random player that does not have\n",
    "    the highest value and then changing the 'Value' column so that it now becomes the\n",
    "    highest value in the dataset.\n",
    "    \"\"\"\n",
    "    # Load the dataset from the CSV file\n",
    "    soccer_stars_csv = os.path.join(directory, 'soccer_stars.csv')\n",
    "    \n",
    "    with open(soccer_stars_csv, mode='r', encoding='utf-8', newline='') as file:\n",
    "        reader = csv.DictReader(file)\n",
    "        data = list(reader)\n",
    "    \n",
    "    # Find all the unique teams in the dataset\n",
    "    all_teams = list(set([player['Team'] for player in data]))\n",
    "    \n",
    "    # Select 200 teams\n",
    "    random.seed(0)\n",
    "    random.shuffle(all_teams)\n",
    "    selected_teams = set(all_teams[:200])\n",
    "\n",
    "    # filter out the team members\n",
    "    new_data = []\n",
    "    for item in data:\n",
    "        if item['Team'] in selected_teams:\n",
    "            new_data.append(item)\n",
    "\n",
    "    # Save the modified dataset back to the CSV file\n",
    "    with open(soccer_stars_csv, mode='w', encoding='utf-8', newline='') as file:\n",
    "        writer = csv.DictWriter(file, fieldnames=new_data[0].keys())\n",
    "        writer.writeheader()\n",
    "        writer.writerows(new_data)\n",
    "\n",
    "# Call the modify_data function with the given project directory\n",
    "modify_data(directories[rubric_item])"
   ]
  },
  {
   "cell_type": "raw",
   "id": "4697f7c3",
   "metadata": {},
   "source": [
    "# BEGIN best_starting_players_of: function logic is incorrect"
   ]
  },
  {
   "cell_type": "code",
   "execution_count": 215,
   "id": "7d37d294",
   "metadata": {},
   "outputs": [],
   "source": [
    "rubric_item = 'best_starting_players_of: function logic is incorrect'\n",
    "nb = read_nb(os.path.join(DIRECTORY, FILE))\n",
    "nb = clean_nb(nb)\n",
    "nb = truncate_nb(nb, end=find_all_cell_indices(nb, \"code\", \"grader.check('best_starting_players_of')\")[-1])\n",
    "\n",
    "var_inputs_code = '''\n",
    "var_inputs = [(team,) for team in list(set((player['Team'] for player in players.values())))]\n",
    "'''\n",
    "nb = inject_function_logic_check(nb, 'best_starting_players_of', var_inputs_code, \"TEXT_FORMAT_DICT\")\n",
    "\n",
    "results[rubric_item] = parse_nb(run_nb(nb, os.path.join(directories[rubric_item], FILE)))\n",
    "test_output = results[rubric_item][rubric_item.split(\":\")[0]]\n",
    "if test_output != 'All test cases passed!':\n",
    "    comments[rubric_item] += '\\nFAILED TEST CASE: ' + test_output"
   ]
  },
  {
   "cell_type": "raw",
   "id": "dcaa57c7",
   "metadata": {},
   "source": [
    "# END best_starting_players_of: function logic is incorrect"
   ]
  },
  {
   "cell_type": "markdown",
   "id": "760cd1ee",
   "metadata": {},
   "source": [
    "### best_starting_players_of: all positions are looped through instead of just the unique positions"
   ]
  },
  {
   "cell_type": "code",
   "execution_count": 216,
   "id": "2e8c5ed1",
   "metadata": {},
   "outputs": [],
   "source": [
    "rubric_item = 'best_starting_players_of: all positions are looped through instead of just the unique positions'\n",
    "readme_text = \"\"\"Check for duplicate positions before looping and\n",
    "eliminate them to improve function efficiency.\n",
    "Ensure your code does not handle the same position\n",
    "multiple times, which would cause unnecessary\n",
    "repeated calls to\n",
    "`best_player_of_team_at_position`. Also ensure\n",
    "that inside the loop, you create a variable to\n",
    "store the output of `best_player_of_team_at_position`\n",
    "instead of calling it multiple times.\"\"\"\n",
    "\n",
    "write_readme(readme_text, os.path.join(directories[rubric_item], \"README.txt\"))"
   ]
  },
  {
   "cell_type": "code",
   "execution_count": 217,
   "id": "b28adeb0",
   "metadata": {},
   "outputs": [],
   "source": [
    "import os\n",
    "import csv\n",
    "import random\n",
    "\n",
    "# Define the modify_data function as requested\n",
    "def modify_data(directory):\n",
    "    \"\"\"\n",
    "    Modifies the data in the soccer_stars.csv file in the specified directory by changing all 'Team'\n",
    "    and 'League' values to 'Test Team' and 'Test League' respectively.\n",
    "    \"\"\"\n",
    "    # Path to the soccer_stars.csv file\n",
    "    file_path = os.path.join(directory, \"soccer_stars.csv\")\n",
    "    \n",
    "    # List to store the modified rows\n",
    "    modified_rows = []\n",
    "    \n",
    "    # Open the CSV file for reading and modify the data\n",
    "    with open(file_path, mode='r', newline='', encoding='utf-8') as csvfile:\n",
    "        reader = csv.DictReader(csvfile)\n",
    "        for row in reader:\n",
    "            # Modify 'Team' and 'League' fields for all players\n",
    "            row['Team'] = 'Test Team'\n",
    "            row['League'] = 'Test League'\n",
    "            modified_rows.append(row)\n",
    "    \n",
    "    # Open the CSV file for writing and write the modified data\n",
    "    with open(file_path, mode='w', newline='', encoding='utf-8') as csvfile:\n",
    "        fieldnames = reader.fieldnames\n",
    "        writer = csv.DictWriter(csvfile, fieldnames=fieldnames)\n",
    "        writer.writeheader()\n",
    "        writer.writerows(modified_rows)\n",
    "\n",
    "# Function call as per the instructions\n",
    "random_data(directories[rubric_item], 1000)\n",
    "modify_data(directories[rubric_item])"
   ]
  },
  {
   "cell_type": "raw",
   "id": "ee216f80",
   "metadata": {},
   "source": [
    "# BEGIN best_starting_players_of: all positions are looped through instead of just the unique positions"
   ]
  },
  {
   "cell_type": "code",
   "execution_count": 218,
   "id": "dc9f10c9",
   "metadata": {},
   "outputs": [],
   "source": [
    "rubric_item = 'best_starting_players_of: all positions are looped through instead of just the unique positions'\n",
    "nb = read_nb(os.path.join(DIRECTORY, FILE))\n",
    "nb = clean_nb(nb)\n",
    "nb = truncate_nb(nb, end=find_all_cell_indices(nb, \"code\", \"grader.check('best_starting_players_of')\")[-1])\n",
    "\n",
    "false_best_player_of_team_at_position = '''\n",
    "hidn_positions = []\n",
    "def best_player_of_team_at_position(position, team):\n",
    "    global hidn_positions\n",
    "    hidn_positions.append(position)\n",
    "    best_player = None\n",
    "    for player_id in players:\n",
    "        player = players[player_id]\n",
    "        if player[\\'Position\\'] != position or player[\\'Team\\'] != team:\n",
    "            continue\n",
    "        if best_player == None or player[\\'Overall rating\\'] > players[best_player][\\'Overall rating\\']:\n",
    "            best_player = player_id\n",
    "        elif player[\\'Overall rating\\'] == players[best_player][\\'Overall rating\\'] and player_id < best_player:\n",
    "            best_player = player_id\n",
    "    return best_player\n",
    "'''\n",
    "nb = replace_with_false_function(nb, 'best_player_of_team_at_position', false_best_player_of_team_at_position)\n",
    "\n",
    "test_code = '''\n",
    "hidn_positions = []\n",
    "test_call = best_starting_players_of('Test Team')  # this function call will update hidn_positions\n",
    "if len(hidn_positions) <= 3*len(set(hidn_positions)):\n",
    "    test_output = 'best_starting_players_of results: ' + public_tests.PASS\n",
    "'''\n",
    "nb = inject_code(nb, len(nb['cells']), get_test_text('best_starting_players_of', test_code))\n",
    "\n",
    "results[rubric_item] = parse_nb(run_nb(nb, os.path.join(directories[rubric_item], FILE)))"
   ]
  },
  {
   "cell_type": "raw",
   "id": "93a32879",
   "metadata": {},
   "source": [
    "# END best_starting_players_of: all positions are looped through instead of just the unique positions"
   ]
  },
  {
   "cell_type": "markdown",
   "id": "e9ce8c93",
   "metadata": {},
   "source": [
    "### best_starting_players_of: `best_player_of_team_at_position` function is not used to answer"
   ]
  },
  {
   "cell_type": "code",
   "execution_count": 219,
   "id": "4e91bfe6",
   "metadata": {},
   "outputs": [],
   "source": [
    "rubric_item = 'best_starting_players_of: `best_player_of_team_at_position` function is not used to answer'\n",
    "readme_text = \"\"\"Check that your `best_starting_players_of`\n",
    "function utilizes the\n",
    "`best_player_of_team_at_position` function\n",
    "appropriately for each position. Ensure the\n",
    "function handles ties by ID and excludes positions\n",
    "with no players. Review your logic for correctness\n",
    "and adherence to the question's requirements.\"\"\"\n",
    "\n",
    "write_readme(readme_text, os.path.join(directories[rubric_item], \"README.txt\"))"
   ]
  },
  {
   "cell_type": "code",
   "execution_count": 220,
   "id": "c2abea4f",
   "metadata": {},
   "outputs": [],
   "source": [
    "random_data(directories[rubric_item], 2000)"
   ]
  },
  {
   "cell_type": "raw",
   "id": "31254b96",
   "metadata": {},
   "source": [
    "# BEGIN best_starting_players_of: `best_player_of_team_at_position` function is not used to answer"
   ]
  },
  {
   "cell_type": "code",
   "execution_count": 221,
   "id": "c1162226",
   "metadata": {},
   "outputs": [],
   "source": [
    "rubric_item = 'best_starting_players_of: `best_player_of_team_at_position` function is not used to answer'\n",
    "nb = read_nb(os.path.join(DIRECTORY, FILE))\n",
    "nb = clean_nb(nb)\n",
    "nb = truncate_nb(nb, end=find_all_cell_indices(nb, \"code\", \"grader.check('best_starting_players_of')\")[-1])\n",
    "\n",
    "var_inputs_code = '''\n",
    "unique_teams = set(player['Team'] for player in players.values())\n",
    "var_inputs = [(team,) for team in unique_teams]\n",
    "'''\n",
    "nb = inject_function_logic_check(nb, 'best_starting_players_of', var_inputs_code, \"TEXT_FORMAT_DICT\")\n",
    "\n",
    "false_best_player_of_team_at_position = '''\n",
    "def best_player_of_team_at_position(position, team):\n",
    "    # Incorrectly returns the player with the lowest Overall rating instead of the highest\n",
    "    worst_player = None\n",
    "    for player_id in players:\n",
    "        player = players[player_id]\n",
    "        if player['Position'] != position or player['Team'] != team:\n",
    "            continue\n",
    "        if worst_player == None or player['Overall rating'] < players[worst_player]['Overall rating']:\n",
    "            worst_player = player_id\n",
    "        elif player['Overall rating'] == players[worst_player]['Overall rating'] and player_id > worst_player:\n",
    "            worst_player = player_id\n",
    "    return worst_player\n",
    "'''\n",
    "nb = replace_with_false_function(nb, 'best_player_of_team_at_position', false_best_player_of_team_at_position)\n",
    "\n",
    "results[rubric_item] = parse_nb(run_nb(nb, os.path.join(directories[rubric_item], FILE)))"
   ]
  },
  {
   "cell_type": "raw",
   "id": "f8fde41c",
   "metadata": {},
   "source": [
    "# END best_starting_players_of: `best_player_of_team_at_position` function is not used to answer"
   ]
  },
  {
   "cell_type": "markdown",
   "id": "c74707a8",
   "metadata": {},
   "source": [
    "### best_starting_players_of: `players` data structure is not used to read data"
   ]
  },
  {
   "cell_type": "code",
   "execution_count": 222,
   "id": "fdc0be1c",
   "metadata": {},
   "outputs": [],
   "source": [
    "rubric_item = 'best_starting_players_of: `players` data structure is not used to read data'\n",
    "readme_text = \"\"\"The test checks if the 'players' data structure is\n",
    "correctly utilized to fetch statistics. To pass,\n",
    "ensure you reference the 'players' dictionary with\n",
    "the player ID as the key to get all column values.\n",
    "Revisit your code and verify you're using\n",
    "'players' as specified.\"\"\"\n",
    "\n",
    "write_readme(readme_text, os.path.join(directories[rubric_item], \"README.txt\"))"
   ]
  },
  {
   "cell_type": "code",
   "execution_count": 223,
   "id": "fc600319",
   "metadata": {},
   "outputs": [],
   "source": [
    "random_data(directories[rubric_item], 1000)"
   ]
  },
  {
   "cell_type": "raw",
   "id": "03c66db8",
   "metadata": {},
   "source": [
    "# BEGIN best_starting_players_of: `players` data structure is not used to read data"
   ]
  },
  {
   "cell_type": "code",
   "execution_count": 224,
   "id": "b0806f73",
   "metadata": {},
   "outputs": [],
   "source": [
    "rubric_item = 'best_starting_players_of: `players` data structure is not used to read data'\n",
    "nb = read_nb(os.path.join(DIRECTORY, FILE))\n",
    "nb = clean_nb(nb)\n",
    "nb = truncate_nb(nb, end=find_all_cell_indices(nb, \"code\", \"grader.check('best_starting_players_of')\")[-1])\n",
    "\n",
    "new_players = true_data_structures['players'] + '''\n",
    "import random\n",
    "random.seed(0)\n",
    "\n",
    "col_data = {}\n",
    "for player_id in players:\n",
    "    for col in players[player_id]:\n",
    "        if col not in col_data:\n",
    "            col_data[col] = []\n",
    "        col_data[col].append(players[player_id][col])\n",
    "        \n",
    "for col in col_data:\n",
    "    random.shuffle(col_data[col])\n",
    "\n",
    "false_teams = sorted(list(set(col_data['Team'])))\n",
    "false_leagues = sorted(list(set(col_data['League'])))\n",
    "false_team_to_league = {}\n",
    "for team in false_teams:\n",
    "    false_team_to_league[team] = random.choice(false_leagues)\n",
    "    \n",
    "dict_rows = []\n",
    "for idx in range(len(col_data['ID'])):\n",
    "    dict_rows.append({})\n",
    "    for col in col_data:\n",
    "        dict_rows[-1][col] = col_data[col][idx]\n",
    "        if col == 'League':\n",
    "            dict_rows[-1][col] = false_team_to_league[dict_rows[-1]['Team']]\n",
    "dict_rows.sort(key=lambda row: row['Overall rating'], reverse=True)\n",
    "players = {}\n",
    "for row in dict_rows:\n",
    "    players[row['ID']] = row\n",
    "'''\n",
    "nb = replace_with_false_data_structure(nb, 'players', new_players)\n",
    "\n",
    "results[rubric_item] = parse_nb(run_nb(nb, os.path.join(directories[rubric_item], FILE)))"
   ]
  },
  {
   "cell_type": "raw",
   "id": "8803f8ae",
   "metadata": {},
   "source": [
    "# END best_starting_players_of: `players` data structure is not used to read data"
   ]
  },
  {
   "cell_type": "code",
   "execution_count": 225,
   "id": "0090afba",
   "metadata": {},
   "outputs": [],
   "source": [
    "gen_public_tests.gen_public_tests(os.path.join(directories[rubric_item], FILE))"
   ]
  },
  {
   "cell_type": "markdown",
   "id": "645013c6",
   "metadata": {},
   "source": [
    "### q16: `best_starting_players_of` function is not used to answer"
   ]
  },
  {
   "cell_type": "code",
   "execution_count": 226,
   "id": "153d11c2",
   "metadata": {},
   "outputs": [],
   "source": [
    "rubric_item = 'q16: `best_starting_players_of` function is not used to answer'\n",
    "readme_text = \"\"\"The test checks if you used the\n",
    "`best_starting_players_of` function as required.\n",
    "Ensure you are calling this function with 'Paris\n",
    "Saint Germain' as an argument and returning the\n",
    "result without additional processing. Modify your\n",
    "code to use the function and retest.\"\"\"\n",
    "\n",
    "write_readme(readme_text, os.path.join(directories[rubric_item], \"README.txt\"))"
   ]
  },
  {
   "cell_type": "code",
   "execution_count": 227,
   "id": "99942129",
   "metadata": {},
   "outputs": [],
   "source": [
    "random_data(directories[rubric_item], 1000)"
   ]
  },
  {
   "cell_type": "raw",
   "id": "b5e06ac3",
   "metadata": {},
   "source": [
    "# BEGIN q16: `best_starting_players_of` function is not used to answer"
   ]
  },
  {
   "cell_type": "code",
   "execution_count": 228,
   "id": "318f88e2",
   "metadata": {},
   "outputs": [],
   "source": [
    "rubric_item = 'q16: `best_starting_players_of` function is not used to answer'\n",
    "nb = read_nb(os.path.join(DIRECTORY, FILE))\n",
    "nb = clean_nb(nb)\n",
    "nb = truncate_nb(nb, end=find_all_cell_indices(nb, \"code\", \"grader.check('q16')\")[-1])\n",
    "\n",
    "false_best_starting_players_of = '''\n",
    "def false_best_player_of_team_at_position(position, team):\n",
    "    best_player = None\n",
    "    for player_id in players:\n",
    "        player = players[player_id]\n",
    "        if player[\\'Position\\'] != position or player[\\'Team\\'] != team:\n",
    "            continue\n",
    "        if best_player == None or player[\\'Overall rating\\'] < players[best_player][\\'Overall rating\\']:\n",
    "            best_player = player_id\n",
    "        elif player[\\'Overall rating\\'] == players[best_player][\\'Overall rating\\'] and player_id > best_player:\n",
    "            best_player = player_id\n",
    "    return best_player\n",
    "    \n",
    "def best_starting_players_of(team):\n",
    "    positions = set()\n",
    "    for player_id in players:\n",
    "        positions.add(players[player_id]['Position'])\n",
    "        starters = {}\n",
    "        \n",
    "    for position in positions:\n",
    "        player_at_position = false_best_player_of_team_at_position(position, team)\n",
    "        if player_at_position != None:\n",
    "            starters[position] = player_at_position\n",
    "    return starters\n",
    "'''\n",
    "nb = replace_with_false_function(nb, 'best_starting_players_of', false_best_starting_players_of)\n",
    "\n",
    "results[rubric_item] = parse_nb(run_nb(nb, os.path.join(directories[rubric_item], FILE)))"
   ]
  },
  {
   "cell_type": "raw",
   "id": "035f0bce",
   "metadata": {},
   "source": [
    "# END q16: `best_starting_players_of` function is not used to answer"
   ]
  },
  {
   "cell_type": "code",
   "execution_count": 229,
   "id": "74b12dcd",
   "metadata": {},
   "outputs": [],
   "source": [
    "gen_public_tests.gen_public_tests(os.path.join(directories[rubric_item], FILE))"
   ]
  },
  {
   "cell_type": "markdown",
   "id": "8f911bc8",
   "metadata": {},
   "source": [
    "### q17: incorrect logic is used to answer"
   ]
  },
  {
   "cell_type": "code",
   "execution_count": 230,
   "id": "3f32af3c",
   "metadata": {},
   "outputs": [],
   "source": [
    "rubric_item = 'q17: incorrect logic is used to answer'\n",
    "readme_text = \"\"\"The test checks for correct logic in obtaining the\n",
    "best starting players. Please review your\n",
    "implementation for logical errors and ensure you\n",
    "are using the `best_starting_players_of` function\n",
    "correctly. Verify that your code successfully\n",
    "handles different datasets.\"\"\"\n",
    "\n",
    "write_readme(readme_text, os.path.join(directories[rubric_item], \"README.txt\"))"
   ]
  },
  {
   "cell_type": "code",
   "execution_count": 231,
   "id": "8693f105",
   "metadata": {},
   "outputs": [],
   "source": [
    "random_data(directories[rubric_item], 2000)"
   ]
  },
  {
   "cell_type": "raw",
   "id": "7103a3a7",
   "metadata": {},
   "source": [
    "# BEGIN q17: incorrect logic is used to answer"
   ]
  },
  {
   "cell_type": "code",
   "execution_count": 232,
   "id": "7ea98861",
   "metadata": {},
   "outputs": [],
   "source": [
    "rubric_item = 'q17: incorrect logic is used to answer'\n",
    "nb = clean_nb(read_nb(os.path.join(DIRECTORY, FILE)))\n",
    "nb = truncate_nb(nb, end=find_all_cell_indices(nb, \"code\", \"grader.check('q17')\")[-1])\n",
    "\n",
    "results[rubric_item] = parse_nb(run_nb(nb, os.path.join(directories[rubric_item], FILE)))"
   ]
  },
  {
   "cell_type": "raw",
   "id": "8e21ec64",
   "metadata": {},
   "source": [
    "# END q17: incorrect logic is used to answer"
   ]
  },
  {
   "cell_type": "code",
   "execution_count": 233,
   "id": "85ecbc18",
   "metadata": {},
   "outputs": [],
   "source": [
    "gen_public_tests.gen_public_tests(os.path.join(directories[rubric_item], FILE))"
   ]
  },
  {
   "cell_type": "markdown",
   "id": "e9308eaa",
   "metadata": {},
   "source": [
    "### q17: `best_starting_players_of` function is not used to answer"
   ]
  },
  {
   "cell_type": "code",
   "execution_count": 234,
   "id": "c0e50392",
   "metadata": {},
   "outputs": [],
   "source": [
    "rubric_item = 'q17: `best_starting_players_of` function is not used to answer'\n",
    "readme_text = \"\"\"The test checks if the `best_starting_players_of`\n",
    "function is used appropriately. Review the usage\n",
    "of this function in your code and ensure it is\n",
    "implemented correctly to build the final\n",
    "dictionary. Consider different scenarios on how\n",
    "the function's output can affect your result.\"\"\"\n",
    "\n",
    "write_readme(readme_text, os.path.join(directories[rubric_item], \"README.txt\"))"
   ]
  },
  {
   "cell_type": "code",
   "execution_count": 235,
   "id": "8d71ee1b",
   "metadata": {},
   "outputs": [],
   "source": [
    "random_data(directories[rubric_item], 1000)"
   ]
  },
  {
   "cell_type": "raw",
   "id": "665f6fce",
   "metadata": {},
   "source": [
    "# BEGIN q17: `best_starting_players_of` function is not used to answer"
   ]
  },
  {
   "cell_type": "code",
   "execution_count": 236,
   "id": "861e6297",
   "metadata": {},
   "outputs": [],
   "source": [
    "rubric_item = 'q17: `best_starting_players_of` function is not used to answer'\n",
    "nb = read_nb(os.path.join(DIRECTORY, FILE))\n",
    "nb = clean_nb(nb)\n",
    "nb = truncate_nb(nb, end=find_all_cell_indices(nb, \"code\", \"grader.check('q17')\")[-1])\n",
    "\n",
    "false_best_starting_players_of = '''\n",
    "def false_best_player_of_team_at_position(position, team):\n",
    "    best_player = None\n",
    "    for player_id in players:\n",
    "        player = players[player_id]\n",
    "        if player[\\'Position\\'] != position or player[\\'Team\\'] != team:\n",
    "            continue\n",
    "        if best_player == None or player[\\'Overall rating\\'] < players[best_player][\\'Overall rating\\']:\n",
    "            best_player = player_id\n",
    "        elif player[\\'Overall rating\\'] == players[best_player][\\'Overall rating\\'] and player_id > best_player:\n",
    "            best_player = player_id\n",
    "    return best_player\n",
    "    \n",
    "def best_starting_players_of(team):\n",
    "    positions = set()\n",
    "    for player_id in players:\n",
    "        positions.add(players[player_id]['Position'])\n",
    "        starters = {}\n",
    "        \n",
    "    for position in positions:\n",
    "        player_at_position = false_best_player_of_team_at_position(position, team)\n",
    "        if player_at_position != None:\n",
    "            starters[position] = player_at_position\n",
    "    return starters\n",
    "'''\n",
    "\n",
    "nb = replace_with_false_function(nb, 'best_starting_players_of', false_best_starting_players_of)\n",
    "\n",
    "results[rubric_item] = parse_nb(run_nb(nb, os.path.join(directories[rubric_item], FILE)))"
   ]
  },
  {
   "cell_type": "raw",
   "id": "6aa5d43f",
   "metadata": {},
   "source": [
    "# END q17: `best_starting_players_of` function is not used to answer"
   ]
  },
  {
   "cell_type": "code",
   "execution_count": 237,
   "id": "32bf8955",
   "metadata": {},
   "outputs": [],
   "source": [
    "gen_public_tests.gen_public_tests(os.path.join(directories[rubric_item], FILE))"
   ]
  },
  {
   "cell_type": "markdown",
   "id": "47a0bfab",
   "metadata": {},
   "source": [
    "### q17: `players` data structure is not used to read data"
   ]
  },
  {
   "cell_type": "code",
   "execution_count": 238,
   "id": "b05f3c3b",
   "metadata": {},
   "outputs": [],
   "source": [
    "rubric_item = 'q17: `players` data structure is not used to read data'\n",
    "readme_text = \"\"\"The test checks if the 'players' data structure is\n",
    "correctly utilized to fetch statistics. To pass,\n",
    "ensure you reference the 'players' dictionary with\n",
    "the player ID as the key to get all column values.\n",
    "Revisit your code and verify you're using\n",
    "'players' as specified.\"\"\"\n",
    "\n",
    "write_readme(readme_text, os.path.join(directories[rubric_item], \"README.txt\"))"
   ]
  },
  {
   "cell_type": "code",
   "execution_count": 239,
   "id": "5d6d57f4",
   "metadata": {},
   "outputs": [],
   "source": [
    "random_data(directories[rubric_item], 1000)"
   ]
  },
  {
   "cell_type": "raw",
   "id": "fa992b3a",
   "metadata": {},
   "source": [
    "# BEGIN q17: `players` data structure is not used to read data"
   ]
  },
  {
   "cell_type": "code",
   "execution_count": 240,
   "id": "3a555a01",
   "metadata": {},
   "outputs": [],
   "source": [
    "rubric_item = 'q17: `players` data structure is not used to read data'\n",
    "nb = read_nb(os.path.join(DIRECTORY, FILE))\n",
    "nb = clean_nb(nb)\n",
    "nb = truncate_nb(nb, end=find_all_cell_indices(nb, \"code\", \"grader.check('q17')\")[-1])\n",
    "\n",
    "new_players = true_data_structures['players'] + '''\n",
    "import random\n",
    "random.seed(0)\n",
    "\n",
    "col_data = {}\n",
    "for player_id in players:\n",
    "    for col in players[player_id]:\n",
    "        if col not in col_data:\n",
    "            col_data[col] = []\n",
    "        col_data[col].append(players[player_id][col])\n",
    "        \n",
    "for col in col_data:\n",
    "    random.shuffle(col_data[col])\n",
    "\n",
    "false_teams = sorted(list(set(col_data['Team'])))\n",
    "false_leagues = sorted(list(set(col_data['League'])))\n",
    "false_team_to_league = {}\n",
    "for team in false_teams:\n",
    "    false_team_to_league[team] = random.choice(false_leagues)\n",
    "    \n",
    "dict_rows = []\n",
    "for idx in range(len(col_data['ID'])):\n",
    "    dict_rows.append({})\n",
    "    for col in col_data:\n",
    "        dict_rows[-1][col] = col_data[col][idx]\n",
    "        if col == 'League':\n",
    "            dict_rows[-1][col] = false_team_to_league[dict_rows[-1]['Team']]\n",
    "dict_rows.sort(key=lambda row: row['Overall rating'], reverse=True)\n",
    "players = {}\n",
    "for row in dict_rows:\n",
    "    players[row['ID']] = row\n",
    "'''\n",
    "nb = replace_with_false_data_structure(nb, 'players', new_players)\n",
    "\n",
    "results[rubric_item] = parse_nb(run_nb(nb, os.path.join(directories[rubric_item], FILE)))"
   ]
  },
  {
   "cell_type": "raw",
   "id": "ae1d459f",
   "metadata": {},
   "source": [
    "# END q17: `players` data structure is not used to read data"
   ]
  },
  {
   "cell_type": "code",
   "execution_count": 241,
   "id": "f795ab92",
   "metadata": {},
   "outputs": [],
   "source": [
    "gen_public_tests.gen_public_tests(os.path.join(directories[rubric_item], FILE))"
   ]
  },
  {
   "cell_type": "markdown",
   "id": "83fedc64",
   "metadata": {},
   "source": [
    "### q18: incorrect logic is used to answer"
   ]
  },
  {
   "cell_type": "code",
   "execution_count": 242,
   "id": "b7cdec71",
   "metadata": {},
   "outputs": [],
   "source": [
    "rubric_item = 'q18: incorrect logic is used to answer'\n",
    "readme_text = \"\"\"Ensure your logic correctly differentiates between\n",
    "the best starting players and the bench players\n",
    "for the team 'FC Barcelona'. Calculate the\n",
    "cumulative value by summing the 'Value' of only\n",
    "the bench players, excluding the starting ones.\n",
    "Review the use of relevant functions and\n",
    "conditions in your code.\"\"\"\n",
    "\n",
    "write_readme(readme_text, os.path.join(directories[rubric_item], \"README.txt\"))"
   ]
  },
  {
   "cell_type": "code",
   "execution_count": 243,
   "id": "aa750449",
   "metadata": {},
   "outputs": [],
   "source": [
    "random_data(directories[rubric_item], 2000)"
   ]
  },
  {
   "cell_type": "raw",
   "id": "11c76cd8",
   "metadata": {},
   "source": [
    "# BEGIN q18: incorrect logic is used to answer"
   ]
  },
  {
   "cell_type": "code",
   "execution_count": 244,
   "id": "ff87f376",
   "metadata": {},
   "outputs": [],
   "source": [
    "rubric_item = 'q18: incorrect logic is used to answer'\n",
    "nb = clean_nb(read_nb(os.path.join(DIRECTORY, FILE)))\n",
    "nb = truncate_nb(nb, end=find_all_cell_indices(nb, \"code\", \"grader.check('q18')\")[-1])\n",
    "\n",
    "results[rubric_item] = parse_nb(run_nb(nb, os.path.join(directories[rubric_item], FILE)))"
   ]
  },
  {
   "cell_type": "raw",
   "id": "e74aa81f",
   "metadata": {},
   "source": [
    "# END q18: incorrect logic is used to answer"
   ]
  },
  {
   "cell_type": "code",
   "execution_count": 245,
   "id": "2248d947",
   "metadata": {},
   "outputs": [],
   "source": [
    "gen_public_tests.gen_public_tests(os.path.join(directories[rubric_item], FILE))"
   ]
  },
  {
   "cell_type": "markdown",
   "id": "b92b5866",
   "metadata": {},
   "source": [
    "### q18: `best_starting_players_of` function is not used to find the best starting players"
   ]
  },
  {
   "cell_type": "code",
   "execution_count": 246,
   "id": "74f664da",
   "metadata": {},
   "outputs": [],
   "source": [
    "rubric_item = 'q18: `best_starting_players_of` function is not used to find the best starting players'\n",
    "readme_text = \"\"\"Check if you're correctly using the\n",
    "`best_starting_players_of` function to identify\n",
    "the best starting players for FC Barcelona and\n",
    "then summing the value of all other players not in\n",
    "that list. Review your usage of this function and\n",
    "ensure you're considering all non-starter players\n",
    "when calculating the cumulative value.\"\"\"\n",
    "\n",
    "write_readme(readme_text, os.path.join(directories[rubric_item], \"README.txt\"))"
   ]
  },
  {
   "cell_type": "code",
   "execution_count": 247,
   "id": "81ad67c1",
   "metadata": {},
   "outputs": [],
   "source": [
    "random_data(directories[rubric_item], 2000)"
   ]
  },
  {
   "cell_type": "raw",
   "id": "b336f641",
   "metadata": {},
   "source": [
    "# BEGIN q18: `best_starting_players_of` function is not used to find the best starting players"
   ]
  },
  {
   "cell_type": "code",
   "execution_count": 248,
   "id": "5ad0f1d4",
   "metadata": {},
   "outputs": [],
   "source": [
    "rubric_item = 'q18: `best_starting_players_of` function is not used to find the best starting players'\n",
    "nb = read_nb(os.path.join(DIRECTORY, FILE))\n",
    "nb = clean_nb(nb)\n",
    "nb = truncate_nb(nb, end=find_all_cell_indices(nb, \"code\", \"grader.check('q18')\")[-1])\n",
    "\n",
    "false_best_starting_players_of = '''\n",
    "def false_best_player_of_team_at_position(position, team):\n",
    "    best_player = None\n",
    "    for player_id in players:\n",
    "        player = players[player_id]\n",
    "        if player[\\'Position\\'] != position or player[\\'Team\\'] != team:\n",
    "            continue\n",
    "        if best_player == None or player[\\'Overall rating\\'] < players[best_player][\\'Overall rating\\']:\n",
    "            best_player = player_id\n",
    "        elif player[\\'Overall rating\\'] == players[best_player][\\'Overall rating\\'] and player_id > best_player:\n",
    "            best_player = player_id\n",
    "    return best_player\n",
    "    \n",
    "def best_starting_players_of(team):\n",
    "    positions = set()\n",
    "    for player_id in players:\n",
    "        positions.add(players[player_id]['Position'])\n",
    "        starters = {}\n",
    "        \n",
    "    for position in positions:\n",
    "        player_at_position = false_best_player_of_team_at_position(position, team)\n",
    "        if player_at_position != None:\n",
    "            starters[position] = player_at_position\n",
    "    return starters\n",
    "'''\n",
    "nb = replace_with_false_function(nb, 'best_starting_players_of', false_best_starting_players_of)\n",
    "\n",
    "results[rubric_item] = parse_nb(run_nb(nb, os.path.join(directories[rubric_item], FILE)))"
   ]
  },
  {
   "cell_type": "raw",
   "id": "b0c2a5ae",
   "metadata": {},
   "source": [
    "# END q18: `best_starting_players_of` function is not used to find the best starting players"
   ]
  },
  {
   "cell_type": "code",
   "execution_count": 249,
   "id": "1610197a",
   "metadata": {},
   "outputs": [],
   "source": [
    "gen_public_tests.gen_public_tests(os.path.join(directories[rubric_item], FILE))"
   ]
  },
  {
   "cell_type": "markdown",
   "id": "5ced5bf3",
   "metadata": {},
   "source": [
    "### q18: `players` data structure is not used to read data"
   ]
  },
  {
   "cell_type": "code",
   "execution_count": 250,
   "id": "9a514ff8",
   "metadata": {},
   "outputs": [],
   "source": [
    "rubric_item = 'q18: `players` data structure is not used to read data'\n",
    "readme_text = \"\"\"The test checks if the 'players' data structure is\n",
    "correctly utilized to fetch statistics. To pass,\n",
    "ensure you reference the 'players' dictionary with\n",
    "the player ID as the key to get all column values.\n",
    "Revisit your code and verify you're using\n",
    "'players' as specified.\"\"\"\n",
    "\n",
    "write_readme(readme_text, os.path.join(directories[rubric_item], \"README.txt\"))"
   ]
  },
  {
   "cell_type": "code",
   "execution_count": 251,
   "id": "9bf91c3f",
   "metadata": {},
   "outputs": [],
   "source": [
    "random_data(directories[rubric_item], 1000)"
   ]
  },
  {
   "cell_type": "raw",
   "id": "d047732d",
   "metadata": {},
   "source": [
    "# BEGIN q18: `players` data structure is not used to read data"
   ]
  },
  {
   "cell_type": "code",
   "execution_count": 252,
   "id": "a80e31f9",
   "metadata": {},
   "outputs": [],
   "source": [
    "rubric_item = 'q18: `players` data structure is not used to read data'\n",
    "nb = read_nb(os.path.join(DIRECTORY, FILE))\n",
    "nb = clean_nb(nb)\n",
    "nb = truncate_nb(nb, end=find_all_cell_indices(nb, \"code\", \"grader.check('q18')\")[-1])\n",
    "\n",
    "new_players = true_data_structures['players'] + '''\n",
    "import random\n",
    "random.seed(0)\n",
    "\n",
    "col_data = {}\n",
    "for player_id in players:\n",
    "    for col in players[player_id]:\n",
    "        if col not in col_data:\n",
    "            col_data[col] = []\n",
    "        col_data[col].append(players[player_id][col])\n",
    "        \n",
    "for col in col_data:\n",
    "    random.shuffle(col_data[col])\n",
    "\n",
    "false_teams = sorted(list(set(col_data['Team'])))\n",
    "false_leagues = sorted(list(set(col_data['League'])))\n",
    "false_team_to_league = {}\n",
    "for team in false_teams:\n",
    "    false_team_to_league[team] = random.choice(false_leagues)\n",
    "    \n",
    "dict_rows = []\n",
    "for idx in range(len(col_data['ID'])):\n",
    "    dict_rows.append({})\n",
    "    for col in col_data:\n",
    "        dict_rows[-1][col] = col_data[col][idx]\n",
    "        if col == 'League':\n",
    "            dict_rows[-1][col] = false_team_to_league[dict_rows[-1]['Team']]\n",
    "dict_rows.sort(key=lambda row: row['Overall rating'], reverse=True)\n",
    "players = {}\n",
    "for row in dict_rows:\n",
    "    players[row['ID']] = row\n",
    "'''\n",
    "nb = replace_with_false_data_structure(nb, 'players', new_players)\n",
    "\n",
    "results[rubric_item] = parse_nb(run_nb(nb, os.path.join(directories[rubric_item], FILE)))"
   ]
  },
  {
   "cell_type": "raw",
   "id": "d9bce59a",
   "metadata": {},
   "source": [
    "# END q18: `players` data structure is not used to read data"
   ]
  },
  {
   "cell_type": "code",
   "execution_count": 253,
   "id": "f1fe518f",
   "metadata": {},
   "outputs": [],
   "source": [
    "gen_public_tests.gen_public_tests(os.path.join(directories[rubric_item], FILE))"
   ]
  },
  {
   "cell_type": "markdown",
   "id": "da8c7b6b",
   "metadata": {},
   "source": [
    "### q19: incorrect logic is used to answer"
   ]
  },
  {
   "cell_type": "code",
   "execution_count": 254,
   "id": "cdb42ae7",
   "metadata": {},
   "outputs": [],
   "source": [
    "rubric_item = 'q19: incorrect logic is used to answer'\n",
    "readme_text = \"\"\"Examine your code to ensure that the logic you've\n",
    "implemented for calculating the average attacking\n",
    "stat is correct and adheres to the question's\n",
    "requirements. Review the use of loops,\n",
    "accumulation of the sum of attacking stats, and\n",
    "the division by the number of best starting\n",
    "players, comparing it to the provided solution.\"\"\"\n",
    "\n",
    "write_readme(readme_text, os.path.join(directories[rubric_item], \"README.txt\"))"
   ]
  },
  {
   "cell_type": "code",
   "execution_count": 255,
   "id": "7187b52e",
   "metadata": {},
   "outputs": [],
   "source": [
    "random_data(directories[rubric_item], 1000)"
   ]
  },
  {
   "cell_type": "raw",
   "id": "c1a4d84e",
   "metadata": {},
   "source": [
    "# BEGIN q19: incorrect logic is used to answer"
   ]
  },
  {
   "cell_type": "code",
   "execution_count": 256,
   "id": "4d4476e5",
   "metadata": {},
   "outputs": [],
   "source": [
    "rubric_item = 'q19: incorrect logic is used to answer'\n",
    "nb = clean_nb(read_nb(os.path.join(DIRECTORY, FILE)))\n",
    "nb = truncate_nb(nb, end=find_all_cell_indices(nb, \"code\", \"grader.check('q19')\")[-1])\n",
    "\n",
    "results[rubric_item] = parse_nb(run_nb(nb, os.path.join(directories[rubric_item], FILE)))"
   ]
  },
  {
   "cell_type": "raw",
   "id": "70884a90",
   "metadata": {},
   "source": [
    "# END q19: incorrect logic is used to answer"
   ]
  },
  {
   "cell_type": "code",
   "execution_count": 257,
   "id": "5f5c8fab",
   "metadata": {},
   "outputs": [],
   "source": [
    "gen_public_tests.gen_public_tests(os.path.join(directories[rubric_item], FILE))"
   ]
  },
  {
   "cell_type": "markdown",
   "id": "53712cb3",
   "metadata": {},
   "source": [
    "### q19: best starting players of a single team is computed more than once"
   ]
  },
  {
   "cell_type": "code",
   "execution_count": 258,
   "id": "a3736ab0",
   "metadata": {},
   "outputs": [],
   "source": [
    "rubric_item = 'q19: best starting players of a single team is computed more than once'\n",
    "readme_text = \"\"\"Make sure to reuse the result from calling\n",
    "`best_starting_players_of` for each team instead\n",
    "of calling the function multiple times for the\n",
    "same team. Store its output in a variable and use\n",
    "that to calculate the average. This can improve\n",
    "performance and avoid possible repetition in\n",
    "computation.\"\"\"\n",
    "\n",
    "write_readme(readme_text, os.path.join(directories[rubric_item], \"README.txt\"))"
   ]
  },
  {
   "cell_type": "code",
   "execution_count": 259,
   "id": "7e8e2908",
   "metadata": {},
   "outputs": [],
   "source": [
    "import os\n",
    "import csv\n",
    "import random\n",
    "\n",
    "def modify_data(directory):\n",
    "    # Define the path to the soccer_stars.csv using os.path.join\n",
    "    soccer_stars_path = os.path.join(directory, 'soccer_stars.csv')\n",
    "    \n",
    "    # Open the soccer_stars.csv file in read mode\n",
    "    with open(soccer_stars_path, mode='r', encoding='utf-8', newline='') as file:\n",
    "        # Read the content of the file\n",
    "        reader = csv.DictReader(file)\n",
    "        rows = list(reader)\n",
    "    \n",
    "    # Open soccer_stars.csv file in write mode to make modifications\n",
    "    with open(soccer_stars_path, mode='w', encoding='utf-8', newline='') as file:\n",
    "        # Define fieldnames from the keys of a row in the dataset\n",
    "        fieldnames = rows[0].keys()\n",
    "        # Create a csv writer object with required fieldnames\n",
    "        writer = csv.DictWriter(file, fieldnames=fieldnames)\n",
    "        # Write the header row\n",
    "        writer.writeheader()\n",
    "        \n",
    "        # Iterate over rows to modify each 'League' value\n",
    "        for row in rows:\n",
    "            # Set 'League' value to 'Premier League (England)'\n",
    "            row['League'] = 'Premier League (England)'\n",
    "            # Write the modified row back to the file\n",
    "            writer.writerow(row)\n",
    "\n",
    "# Since the test details state that the dataset must be **completely modified**\n",
    "# Call random_data with the specified directory and default argument for size\n",
    "random_data(directories[rubric_item], 1000)\n",
    "\n",
    "# After calling random_data, the modify_data function must be called\n",
    "modify_data(directories[rubric_item])"
   ]
  },
  {
   "cell_type": "raw",
   "id": "c05e326d",
   "metadata": {},
   "source": [
    "# BEGIN q19: best starting players of a single team is computed more than once"
   ]
  },
  {
   "cell_type": "code",
   "execution_count": 260,
   "id": "28c20f4f",
   "metadata": {},
   "outputs": [],
   "source": [
    "rubric_item = 'q19: best starting players of a single team is computed more than once'\n",
    "nb = read_nb(os.path.join(DIRECTORY, FILE))\n",
    "nb = clean_nb(nb)\n",
    "end_of_q19 = find_all_cell_indices(nb, \"code\", \"grader.check('q19')\")[-1]\n",
    "nb = truncate_nb(nb, end=end_of_q19)\n",
    "\n",
    "# Replace the best_starting_players_of function with a version that appends to hidn_teams\n",
    "new_best_starting_players_of = '''\n",
    "hidn_teams = []\n",
    "def best_starting_players_of(team):\n",
    "    global hidn_teams\n",
    "    hidn_teams.append(team)\n",
    "    positions = set()\n",
    "    for player_id in players:\n",
    "        positions.add(players[player_id][\\'Position\\'])\n",
    "        \n",
    "    starters = {}\n",
    "    for position in positions:\n",
    "        player_at_position = best_player_of_team_at_position(position, team)\n",
    "        if player_at_position != None:\n",
    "            starters[position] = player_at_position\n",
    "    return starters\n",
    "'''\n",
    "nb = replace_with_false_function(nb, 'best_starting_players_of', new_best_starting_players_of)\n",
    "\n",
    "# Inject the initialization of hidn_teams at the start of q19\n",
    "init_hidn_teams_code = \"hidn_teams = []\"\n",
    "q19_start_idx = find_all_cell_indices(nb, \"markdown\", '**Question 19:**')[-1] + 1\n",
    "nb = inject_code(nb, q19_start_idx, init_hidn_teams_code)\n",
    "\n",
    "# Inject the code at the end to check the length of hidn_teams\n",
    "test_len_hidn_teams_code = '''\n",
    "if len(hidn_teams) == len(set(hidn_teams)):\n",
    "    test_output = \"q19 results: All test cases passed!\"\n",
    "'''\n",
    "nb = inject_code(nb, len(nb['cells']), get_test_text(\"q19\", test_len_hidn_teams_code))\n",
    "\n",
    "results[rubric_item] = parse_nb(run_nb(nb, os.path.join(directories[rubric_item], FILE)))"
   ]
  },
  {
   "cell_type": "raw",
   "id": "b8c1a149",
   "metadata": {},
   "source": [
    "# END q19: best starting players of a single team is computed more than once"
   ]
  },
  {
   "cell_type": "code",
   "execution_count": 261,
   "id": "51d025a9",
   "metadata": {},
   "outputs": [],
   "source": [
    "gen_public_tests.gen_public_tests(os.path.join(directories[rubric_item], FILE))"
   ]
  },
  {
   "cell_type": "markdown",
   "id": "0a891c14",
   "metadata": {},
   "source": [
    "### q19: the list of unique teams in the league is recomputed"
   ]
  },
  {
   "cell_type": "code",
   "execution_count": 262,
   "id": "4f34d5c9",
   "metadata": {},
   "outputs": [],
   "source": [
    "rubric_item = 'q19: the list of unique teams in the league is recomputed'\n",
    "readme_text = \"\"\"Ensure you are using the correct list of Premier\n",
    "League teams. If you recompute or redefine the\n",
    "list, verify it contains the appropriate teams.\n",
    "Use the earlier computed list if available, and\n",
    "calculate the average as instructed.\"\"\"\n",
    "\n",
    "write_readme(readme_text, os.path.join(directories[rubric_item], \"README.txt\"))"
   ]
  },
  {
   "cell_type": "code",
   "execution_count": 263,
   "id": "436ae1b1",
   "metadata": {},
   "outputs": [],
   "source": [
    "random_data(directories[rubric_item], 2000)"
   ]
  },
  {
   "cell_type": "raw",
   "id": "5cc0b644",
   "metadata": {},
   "source": [
    "# BEGIN q19: the list of unique teams in the league is recomputed"
   ]
  },
  {
   "cell_type": "code",
   "execution_count": 264,
   "id": "2d378a55",
   "metadata": {},
   "outputs": [],
   "source": [
    "rubric_item = 'q19: the list of unique teams in the league is recomputed'\n",
    "nb = read_nb(os.path.join(DIRECTORY, FILE))\n",
    "nb = clean_nb(nb)\n",
    "q19_start = find_all_cell_indices(nb, \"markdown\", \"**Question 19:**\")[-1]\n",
    "q19_end = find_all_cell_indices(nb, \"code\", \"grader.check('q19')\")[-1]\n",
    "nb = truncate_nb(nb, end=q19_end)\n",
    "\n",
    "non_premier_teams_code = '''\n",
    "premier_league_teams = list(set([players[player_id]['Team'] for player_id in players if players[player_id]['League'] != 'Premier League (England)']))\n",
    "'''\n",
    "nb = inject_code(nb, q19_start+1, non_premier_teams_code)\n",
    "\n",
    "results[rubric_item] = parse_nb(run_nb(nb, os.path.join(directories[rubric_item], FILE)))"
   ]
  },
  {
   "cell_type": "raw",
   "id": "a3b3e352",
   "metadata": {},
   "source": [
    "# END q19: the list of unique teams in the league is recomputed"
   ]
  },
  {
   "cell_type": "code",
   "execution_count": 265,
   "id": "f22fcbed",
   "metadata": {},
   "outputs": [],
   "source": [
    "gen_public_tests.gen_public_tests(os.path.join(directories[rubric_item], FILE))"
   ]
  },
  {
   "cell_type": "markdown",
   "id": "a2bb284d",
   "metadata": {},
   "source": [
    "### q19: `best_starting_players_of` function is not used to answer"
   ]
  },
  {
   "cell_type": "code",
   "execution_count": 266,
   "id": "c2fe9cc7",
   "metadata": {},
   "outputs": [],
   "source": [
    "rubric_item = 'q19: `best_starting_players_of` function is not used to answer'\n",
    "readme_text = \"\"\"Check if you are using the\n",
    "`best_starting_players_of` function to get the\n",
    "best starters. Ensure you are iterating correctly\n",
    "over teams and calculating the average by summing\n",
    "the `Attacking` stats and dividing by the number\n",
    "of best starting players. Reuse lists and\n",
    "functions wherever possible to avoid redundancy\n",
    "and extra computations.\"\"\"\n",
    "\n",
    "write_readme(readme_text, os.path.join(directories[rubric_item], \"README.txt\"))"
   ]
  },
  {
   "cell_type": "code",
   "execution_count": 267,
   "id": "3ee55559",
   "metadata": {},
   "outputs": [],
   "source": [
    "random_data(directories[rubric_item], 1000)"
   ]
  },
  {
   "cell_type": "raw",
   "id": "a62342e0",
   "metadata": {},
   "source": [
    "# BEGIN q19: `best_starting_players_of` function is not used to answer"
   ]
  },
  {
   "cell_type": "code",
   "execution_count": 268,
   "id": "8beb2b5c",
   "metadata": {},
   "outputs": [],
   "source": [
    "rubric_item = 'q19: `best_starting_players_of` function is not used to answer'\n",
    "nb = read_nb(os.path.join(DIRECTORY, FILE))\n",
    "nb = clean_nb(nb)\n",
    "nb = truncate_nb(nb, end=find_all_cell_indices(nb, \"code\", \"grader.check('q19')\")[-1])\n",
    "\n",
    "false_best_starting_players_of = '''\n",
    "def false_best_player_of_team_at_position(position, team):\n",
    "    best_player = None\n",
    "    for player_id in players:\n",
    "        player = players[player_id]\n",
    "        if player[\\'Position\\'] != position or player[\\'Team\\'] != team:\n",
    "            continue\n",
    "        if best_player == None or player[\\'Overall rating\\'] < players[best_player][\\'Overall rating\\']:\n",
    "            best_player = player_id\n",
    "        elif player[\\'Overall rating\\'] == players[best_player][\\'Overall rating\\'] and player_id > best_player:\n",
    "            best_player = player_id\n",
    "    return best_player\n",
    "    \n",
    "def best_starting_players_of(team):\n",
    "    positions = set()\n",
    "    for player_id in players:\n",
    "        positions.add(players[player_id]['Position'])\n",
    "        starters = {}\n",
    "        \n",
    "    for position in positions:\n",
    "        player_at_position = false_best_player_of_team_at_position(position, team)\n",
    "        if player_at_position != None:\n",
    "            starters[position] = player_at_position\n",
    "    return starters\n",
    "'''\n",
    "nb = replace_with_false_function(nb, 'best_starting_players_of', false_best_starting_players_of)\n",
    "\n",
    "results[rubric_item] = parse_nb(run_nb(nb, os.path.join(directories[rubric_item], FILE)))"
   ]
  },
  {
   "cell_type": "raw",
   "id": "5451ccb3",
   "metadata": {},
   "source": [
    "# END q19: `best_starting_players_of` function is not used to answer"
   ]
  },
  {
   "cell_type": "code",
   "execution_count": 269,
   "id": "124f1021",
   "metadata": {},
   "outputs": [],
   "source": [
    "gen_public_tests.gen_public_tests(os.path.join(directories[rubric_item], FILE))"
   ]
  },
  {
   "cell_type": "markdown",
   "id": "13d017a0",
   "metadata": {},
   "source": [
    "### q19: `players` data structure is not used to read data"
   ]
  },
  {
   "cell_type": "code",
   "execution_count": 270,
   "id": "626d0d2e",
   "metadata": {},
   "outputs": [],
   "source": [
    "rubric_item = 'q19: `players` data structure is not used to read data'\n",
    "readme_text = \"\"\"The test checks if the 'players' data structure is\n",
    "correctly utilized to fetch statistics. To pass,\n",
    "ensure you reference the 'players' dictionary with\n",
    "the player ID as the key to get all column values.\n",
    "Revisit your code and verify you're using\n",
    "'players' as specified.\"\"\"\n",
    "\n",
    "write_readme(readme_text, os.path.join(directories[rubric_item], \"README.txt\"))"
   ]
  },
  {
   "cell_type": "code",
   "execution_count": 271,
   "id": "c4423db0",
   "metadata": {},
   "outputs": [],
   "source": [
    "random_data(directories[rubric_item], 1000)"
   ]
  },
  {
   "cell_type": "raw",
   "id": "643eb347",
   "metadata": {},
   "source": [
    "# BEGIN q19: `players` data structure is not used to read data"
   ]
  },
  {
   "cell_type": "code",
   "execution_count": 272,
   "id": "2f7ee7c6",
   "metadata": {},
   "outputs": [],
   "source": [
    "rubric_item = 'q19: `players` data structure is not used to read data'\n",
    "nb = read_nb(os.path.join(DIRECTORY, FILE))\n",
    "nb = clean_nb(nb)\n",
    "nb = truncate_nb(nb, end=find_all_cell_indices(nb, \"code\", \"grader.check('q19')\")[-1])\n",
    "\n",
    "new_players = true_data_structures['players'] + '''\n",
    "import random\n",
    "random.seed(0)\n",
    "\n",
    "col_data = {}\n",
    "for player_id in players:\n",
    "    for col in players[player_id]:\n",
    "        if col not in col_data:\n",
    "            col_data[col] = []\n",
    "        col_data[col].append(players[player_id][col])\n",
    "        \n",
    "for col in col_data:\n",
    "    random.shuffle(col_data[col])\n",
    "\n",
    "false_teams = sorted(list(set(col_data['Team'])))\n",
    "false_leagues = sorted(list(set(col_data['League'])))\n",
    "false_team_to_league = {}\n",
    "for team in false_teams:\n",
    "    false_team_to_league[team] = random.choice(false_leagues)\n",
    "    \n",
    "dict_rows = []\n",
    "for idx in range(len(col_data['ID'])):\n",
    "    dict_rows.append({})\n",
    "    for col in col_data:\n",
    "        dict_rows[-1][col] = col_data[col][idx]\n",
    "        if col == 'League':\n",
    "            dict_rows[-1][col] = false_team_to_league[dict_rows[-1]['Team']]\n",
    "dict_rows.sort(key=lambda row: row['Overall rating'], reverse=True)\n",
    "players = {}\n",
    "for row in dict_rows:\n",
    "    players[row['ID']] = row\n",
    "'''\n",
    "nb = replace_with_false_data_structure(nb, 'players', new_players)\n",
    "\n",
    "results[rubric_item] = parse_nb(run_nb(nb, os.path.join(directories[rubric_item], FILE)))"
   ]
  },
  {
   "cell_type": "raw",
   "id": "f7ba8848",
   "metadata": {},
   "source": [
    "# END q19: `players` data structure is not used to read data"
   ]
  },
  {
   "cell_type": "code",
   "execution_count": 273,
   "id": "a76d1870",
   "metadata": {},
   "outputs": [],
   "source": [
    "gen_public_tests.gen_public_tests(os.path.join(directories[rubric_item], FILE))"
   ]
  },
  {
   "cell_type": "markdown",
   "id": "7ab57c81",
   "metadata": {},
   "source": [
    "### q20: incorrect logic is used to answer"
   ]
  },
  {
   "cell_type": "code",
   "execution_count": 274,
   "id": "81b4882c",
   "metadata": {},
   "outputs": [],
   "source": [
    "rubric_item = 'q20: incorrect logic is used to answer'\n",
    "readme_text = \"\"\"Check your logic for finding the highest average\n",
    "'Attacking' stat. Ensure you're using the\n",
    "precomputed average for each team and not\n",
    "recalculating it. Consider edge cases and verify\n",
    "you're comparing the correct values.\"\"\"\n",
    "\n",
    "write_readme(readme_text, os.path.join(directories[rubric_item], \"README.txt\"))"
   ]
  },
  {
   "cell_type": "code",
   "execution_count": 275,
   "id": "e44086d4",
   "metadata": {},
   "outputs": [],
   "source": [
    "random_data(directories[rubric_item], 2000)"
   ]
  },
  {
   "cell_type": "raw",
   "id": "171619ef",
   "metadata": {},
   "source": [
    "# BEGIN q20: incorrect logic is used to answer"
   ]
  },
  {
   "cell_type": "code",
   "execution_count": 276,
   "id": "58fea274",
   "metadata": {},
   "outputs": [],
   "source": [
    "rubric_item = 'q20: incorrect logic is used to answer'\n",
    "nb = clean_nb(read_nb(os.path.join(DIRECTORY, FILE)))\n",
    "nb = truncate_nb(nb, end=find_all_cell_indices(nb, \"code\", \"grader.check('q20')\")[-1])\n",
    "\n",
    "results[rubric_item] = parse_nb(run_nb(nb, os.path.join(directories[rubric_item], FILE)))"
   ]
  },
  {
   "cell_type": "raw",
   "id": "03c12484",
   "metadata": {},
   "source": [
    "# END q20: incorrect logic is used to answer"
   ]
  },
  {
   "cell_type": "code",
   "execution_count": 277,
   "id": "200a7f1e",
   "metadata": {},
   "outputs": [],
   "source": [
    "gen_public_tests.gen_public_tests(os.path.join(directories[rubric_item], FILE))"
   ]
  },
  {
   "cell_type": "markdown",
   "id": "b6abbd25",
   "metadata": {},
   "source": [
    "### q20: `avg_attacking_prem_league` is not used to answer"
   ]
  },
  {
   "cell_type": "code",
   "execution_count": 278,
   "id": "3c92dea2",
   "metadata": {},
   "outputs": [],
   "source": [
    "rubric_item = 'q20: `avg_attacking_prem_league` is not used to answer'\n",
    "readme_text = \"\"\"Ensure the existing `avg_attacking_prem_league`\n",
    "dictionary is utilized to determine the team with\n",
    "the highest average attacking stat. Looping\n",
    "through the dataset again or recomputation should\n",
    "be avoided. Check if the dictionary is correctly\n",
    "referenced and used in your solution.\"\"\"\n",
    "\n",
    "write_readme(readme_text, os.path.join(directories[rubric_item], \"README.txt\"))"
   ]
  },
  {
   "cell_type": "code",
   "execution_count": 279,
   "id": "bd336182",
   "metadata": {},
   "outputs": [],
   "source": [
    "random_data(directories[rubric_item], 1000)"
   ]
  },
  {
   "cell_type": "raw",
   "id": "58f8721b",
   "metadata": {},
   "source": [
    "# BEGIN q20: `avg_attacking_prem_league` is not used to answer"
   ]
  },
  {
   "cell_type": "code",
   "execution_count": 280,
   "id": "bbb36a27",
   "metadata": {},
   "outputs": [],
   "source": [
    "rubric_item = 'q20: `avg_attacking_prem_league` is not used to answer'\n",
    "nb = read_nb(os.path.join(DIRECTORY, FILE))\n",
    "nb = clean_nb(nb)\n",
    "nb = truncate_nb(nb, end=find_all_cell_indices(nb, \"code\", \"grader.check('q20')\")[-1])\n",
    "\n",
    "injected_code = '''\n",
    "import random\n",
    "random.seed(0)\n",
    "avg_attacking_prem_league = {team: random.randint(70, 90) for team in sorted(avg_attacking_prem_league)}\n",
    "'''\n",
    "\n",
    "nb = inject_code(nb, find_all_cell_indices(nb, \"markdown\", '**Question 20:**')[-1], injected_code)\n",
    "\n",
    "results[rubric_item] = parse_nb(run_nb(nb, os.path.join(directories[rubric_item], FILE)))"
   ]
  },
  {
   "cell_type": "raw",
   "id": "8e949984",
   "metadata": {},
   "source": [
    "# END q20: `avg_attacking_prem_league` is not used to answer"
   ]
  },
  {
   "cell_type": "code",
   "execution_count": 281,
   "id": "2382ee8c",
   "metadata": {},
   "outputs": [],
   "source": [
    "gen_public_tests.gen_public_tests(os.path.join(directories[rubric_item], FILE))"
   ]
  },
  {
   "cell_type": "markdown",
   "id": "9b1007c5",
   "metadata": {},
   "source": [
    "### general_deductions: Did not save the notebook file prior to running the cell containing \"export\". We cannot see your output if you do not save before generating the zip file. This deduction will become stricter for future projects."
   ]
  },
  {
   "cell_type": "raw",
   "id": "0881bc5c",
   "metadata": {},
   "source": [
    "# BEGIN general_deductions: Did not save the notebook file prior to running the cell containing \"export\". We cannot see your output if you do not save before generating the zip file. This deduction will become stricter for future projects."
   ]
  },
  {
   "cell_type": "code",
   "execution_count": 282,
   "id": "f12d531b",
   "metadata": {},
   "outputs": [],
   "source": [
    "rubric_item = \"general_deductions: Did not save the notebook file prior to running the cell containing \\\"export\\\". We cannot see your output if you do not save before generating the zip file. This deduction will become stricter for future projects.\"\n",
    "nb = clean_nb(read_nb(os.path.join(DIRECTORY, FILE)))\n",
    "nb = truncate_nb(nb, end=find_all_cell_indices(nb, \"code\", \"grader.check('general_deductions')\")[-1])\n",
    "\n",
    "results[rubric_item] = {}\n",
    "results[rubric_item]['general_deductions'] = rubric_item.split(\":\")[1].strip()\n",
    "if detect_restart_and_run_all(nb):\n",
    "    results[rubric_item]['general_deductions'] = \"All test cases passed!\""
   ]
  },
  {
   "cell_type": "raw",
   "id": "cf39e53d",
   "metadata": {},
   "source": [
    "# END general_deductions: Did not save the notebook file prior to running the cell containing \"export\". We cannot see your output if you do not save before generating the zip file. This deduction will become stricter for future projects."
   ]
  },
  {
   "cell_type": "markdown",
   "id": "9aa63bda",
   "metadata": {},
   "source": [
    "### general_deductions: Used concepts/modules such as pandas not covered in class yet - built-in functions that you have been introduced to can be used."
   ]
  },
  {
   "cell_type": "raw",
   "id": "557229bb",
   "metadata": {},
   "source": [
    "# BEGIN general_deductions: Used concepts/modules such as pandas not covered in class yet - built-in functions that you have been introduced to can be used."
   ]
  },
  {
   "cell_type": "code",
   "execution_count": 283,
   "id": "607e3350",
   "metadata": {},
   "outputs": [],
   "source": [
    "rubric_item = \"general_deductions: Used concepts/modules such as pandas not covered in class yet - built-in functions that you have been introduced to can be used.\"\n",
    "nb = clean_nb(read_nb(os.path.join(DIRECTORY, FILE)))\n",
    "nb = truncate_nb(nb, end=find_all_cell_indices(nb, \"code\", \"grader.check('general_deductions')\")[-1])\n",
    "\n",
    "results[rubric_item] = {}\n",
    "\n",
    "allowed_modules = {\"otter\", \"public_tests\", \"csv\", \"math\"}\n",
    "found_imports = set([item for item in detect_imports(nb) if not item.split(\".\")[0] in allowed_modules])\n",
    "\n",
    "if found_imports  == set():\n",
    "    results[rubric_item]['general_deductions'] = \"All test cases passed!\"\n",
    "else:\n",
    "    results[rubric_item]['general_deductions'] = \"found unexpected import(s):\" + repr(list(found_imports))\n",
    "    comments[rubric_item] = results[rubric_item]['general_deductions']"
   ]
  },
  {
   "cell_type": "raw",
   "id": "dfa3165f",
   "metadata": {},
   "source": [
    "# END general_deductions: Used concepts/modules such as pandas not covered in class yet - built-in functions that you have been introduced to can be used."
   ]
  },
  {
   "cell_type": "markdown",
   "id": "900b7996",
   "metadata": {},
   "source": [
    "### general_deductions: Import statements are not all placed at the top of the notebook."
   ]
  },
  {
   "cell_type": "raw",
   "id": "081273d5",
   "metadata": {},
   "source": [
    "# BEGIN general_deductions: Import statements are not all placed at the top of the notebook."
   ]
  },
  {
   "cell_type": "code",
   "execution_count": 284,
   "id": "37a9bfd4",
   "metadata": {},
   "outputs": [],
   "source": [
    "rubric_item = \"general_deductions: Import statements are not all placed at the top of the notebook.\"\n",
    "nb = clean_nb(read_nb(os.path.join(DIRECTORY, FILE)))\n",
    "nb = truncate_nb(nb, start=find_all_cell_indices(nb, \"markdown\", \"### Function 1: `format_euros(euros)`\")[0]+1, end=find_all_cell_indices(nb, \"code\", \"grader.check('general_deductions')\")[-1])\n",
    "\n",
    "results[rubric_item] = {}\n",
    "results[rubric_item]['general_deductions'] = 'All test cases passed!'\n",
    "\n",
    "found_imports = detect_imports(nb)\n",
    "if found_imports != []:\n",
    "    results[rubric_item]['general_deductions'] = \"found unexpected import(s):\" + repr(found_imports)\n",
    "    comments[rubric_item] = results[rubric_item]['general_deductions']"
   ]
  },
  {
   "cell_type": "raw",
   "id": "e1f964ef",
   "metadata": {},
   "source": [
    "# END general_deductions: Import statements are not all placed at the top of the notebook."
   ]
  }
 ],
 "metadata": {
  "kernelspec": {
   "display_name": "Python 3 (ipykernel)",
   "language": "python",
   "name": "python3"
  },
  "language_info": {
   "codemirror_mode": {
    "name": "ipython",
    "version": 3
   },
   "file_extension": ".py",
   "mimetype": "text/x-python",
   "name": "python",
   "nbconvert_exporter": "python",
   "pygments_lexer": "ipython3",
   "version": "3.11.7"
  }
 },
 "nbformat": 4,
 "nbformat_minor": 5
}
