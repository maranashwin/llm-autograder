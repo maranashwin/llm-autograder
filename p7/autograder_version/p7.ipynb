{
 "cells": [
  {
   "cell_type": "code",
   "execution_count": null,
   "id": "6236c9be",
   "metadata": {
    "cell_type": "code",
    "deletable": false,
    "editable": false
   },
   "outputs": [],
   "source": [
    "# import and initialize otter\n",
    "import otter\n",
    "grader = otter.Notebook(\"p7.ipynb\")"
   ]
  },
  {
   "cell_type": "code",
   "execution_count": 1,
   "id": "9ff99bfb",
   "metadata": {
    "deletable": false,
    "editable": false,
    "execution": {
     "iopub.execute_input": "2024-03-31T00:28:08.212615Z",
     "iopub.status.busy": "2024-03-31T00:28:08.212228Z",
     "iopub.status.idle": "2024-03-31T00:28:08.549107Z",
     "shell.execute_reply": "2024-03-31T00:28:08.548860Z"
    }
   },
   "outputs": [],
   "source": [
    "import public_tests"
   ]
  },
  {
   "cell_type": "code",
   "execution_count": 2,
   "id": "7c321eb1",
   "metadata": {
    "deletable": true,
    "editable": true,
    "execution": {
     "iopub.execute_input": "2024-03-31T00:28:08.550640Z",
     "iopub.status.busy": "2024-03-31T00:28:08.550502Z",
     "iopub.status.idle": "2024-03-31T00:28:08.551950Z",
     "shell.execute_reply": "2024-03-31T00:28:08.551756Z"
    }
   },
   "outputs": [],
   "source": [
    "# PLEASE FILL IN THE DETAILS\n",
    "# enter none if you don't have a project partner\n",
    "# you will have to add your partner as a group member on Gradescope even after you fill this\n",
    "\n",
    "# project: p7\n",
    "# submitter: NETID1\n",
    "# partner: NETID2\n",
    "# hours: ????"
   ]
  },
  {
   "cell_type": "markdown",
   "id": "0c018208",
   "metadata": {
    "deletable": false,
    "editable": false
   },
   "source": [
    "# Project 7: Soccer Stars"
   ]
  },
  {
   "cell_type": "markdown",
   "id": "eb9d6c94",
   "metadata": {
    "deletable": false,
    "editable": false
   },
   "source": [
    "## Learning Objectives:\n",
    "\n",
    "In this project you will demonstrate how to:\n",
    "\n",
    "- Write programs to interpret data present in csv files,\n",
    "- Use lists and dictionaries effectively to manage data,"
   ]
  },
  {
   "cell_type": "markdown",
   "id": "47697cfa",
   "metadata": {
    "deletable": false,
    "editable": false
   },
   "source": [
    "## Testing your code:\n",
    "\n",
    "Along with this notebook, you must have downloaded the file `public_tests.py`. If you are curious about how we test your code, you can explore this file, and specifically the function `get_expected_json`, to understand the expected answers to the questions."
   ]
  },
  {
   "cell_type": "markdown",
   "id": "2ba25c30",
   "metadata": {
    "deletable": false,
    "editable": false
   },
   "source": [
    "<h2 style=\"color:red\">Warning (Note on Academic Misconduct):</h2>\n",
    "\n",
    "Under any circumstances, **no more than two students are allowed to work together on a project** as mentioned in the course policies. If your code is flagged by our code similarity detection tools, **both partners will be responsible** for sharing/copying the code, even if the code is shared/copied by one of the partners with/from other non-partner student(s). Note that each case of plagiarism will be reported to the Dean of Students with a zero grade on the project. **If you think that someone cannot be your project partner then don’t make that student your lab partner.**\n",
    "\n",
    "**<font color = \"red\">Project partners must submit only one copy of their project on Gradescope, but they must include the names of both partners.</font>**"
   ]
  },
  {
   "cell_type": "markdown",
   "id": "f6d74a64",
   "metadata": {
    "deletable": false,
    "editable": false
   },
   "source": [
    "## Project Description:\n",
    "\n",
    "In this project, we will analyze data in [`soccer_stars.csv`](https://git.doit.wisc.edu/cdis/cs/courses/cs220/cs220-s24-projects/-/blob/main/p7/soccer_stars.csv). This dataset has some data on nearly 20,000 soccer stars who play in the top soccer leagues across the world. The statistics in this dataset are obained from the video game [FC'24](https://www.ea.com/games/ea-sports-fc/fc-24) (formerly the FIFA series) and was collected from the website [https://sofifa.com/](https://sofifa.com/). We will look at various statistics about your favorite players and teams, and identify their strengths and weaknesses."
   ]
  },
  {
   "cell_type": "markdown",
   "id": "d0388404",
   "metadata": {
    "deletable": false,
    "editable": false
   },
   "source": [
    "A small portion of the dataset `soccer_stars.csv` is reproduced here:\n",
    "\n",
    "ID|Name|Age|Nationality|Team|League|Value|Wage|Attacking|Movement|Defending|Goalkeeping|Overall rating|Position|Height|Preferred foot\n",
    "--|--|--|--|--|--|--|--|--|--|--|--|--|--|--|--\n",
    "239085|E. Haaland|22|Norway|Manchester City|Premier League (England)|€185M|€340K|78.6|83.6|38.0|10.4|91|ST|195cm|Left\n",
    "231747|K. Mbappé|24|France|Paris Saint Germain|Ligue 1 (France)|€181.5M|€230K|83.0|92.4|30.7|8.4|91|ST|182cm|Right\n",
    "192985|K. De Bruyne|32|Belgium|Manchester City|Premier League (England)|€103M|€350K|82.4|78.8|63.0|11.2|91|CM|181cm|Right\n",
    "202126|H. Kane|29|England|FC Bayern München|Bundesliga (Germany)|€119.5M|€170K|88.0|74.0|43.3|10.8|90|ST|188cm|Right\n",
    "192119|T. Courtois|31|Belgium|Real Madrid|La Liga (Spain)|€63M|€250K|17.2|58.0|18.0|86.6|90|GK|200cm|Left"
   ]
  },
  {
   "cell_type": "markdown",
   "id": "fbc91f52",
   "metadata": {
    "deletable": false,
    "editable": false
   },
   "source": [
    "The dataset contains the following information about each player:\n",
    "- `ID` : the **unique ID** used by FC'24 for identifying each player,\n",
    "- `Name` : the **name** of the player,\n",
    "- `Age` : the **age** of the player,\n",
    "- `Nationality` : the **national team** the player represents,\n",
    "- `Team` : the **football club** that the player represents,\n",
    "- `League`: the **football league** that the player's club is a part of,\n",
    "- `Value` : the **value** of the player in the transfer market (in **Euros**),\n",
    "- `Wage` : the **weekly wages** earned by the player as per their contract (in **Euros**),\n",
    "- `Attacking` : the **total attacking stats** of the player (out of **100.0**),\n",
    "- `Movement` : the **total movement stats** of the player (out of **100.0**),\n",
    "- `Defending` : the **total defending stats** of the player (out of **100.0**),\n",
    "- `Goalkeeping` : the **total goalkeeping stats** of the player (out of **100.0**),\n",
    "- `Overall rating` : the **overall rating** of the player (out of **100**),\n",
    "- `Position` : the player's **favored position** on the soccer field,\n",
    "- `Height` : the **height** of the player (in **centimeters**),\n",
    "- `Preferred foot` : the player's **favored foot**.\n",
    "\n",
    "**Please go through [Lab-P7](https://git.doit.wisc.edu/cdis/cs/courses/cs220/cs220-s24-projects/-/tree/main/lab-p7) before starting this project.** The lab introduces some useful techniques necessary for parsing the dataset and for answering questions in this project."
   ]
  },
  {
   "cell_type": "markdown",
   "id": "6a7614b2",
   "metadata": {
    "deletable": false,
    "editable": false
   },
   "source": [
    "## Project Requirements:\n",
    "\n",
    "You **may not** hardcode indices in your code unless specified in the question. If you are not sure what hardcoding is, here is a simple test you can use to determine whether you have hardcoded:\n",
    "\n",
    "*If we were to change the data (e.g. add more soccer players, remove some players, change their statistics, or swap some columns or rows), would your code still find the correct answer to the question as it is asked?*\n",
    "\n",
    "If your answer to that question is *No*, then you have likely hardcoded something. Please reach out to TAs/PMs during office hours to find out how you can **avoid hardcoding**.\n",
    "\n",
    "In general, all your functions and code must be **case sensitive** unless the function or question description **explicitly** says otherwise.\n",
    "\n",
    "**Store** your final answer for each question in the **variable specified for each question**. This step is important because Otter grades your work by comparing the value of this variable against the correct answer.\n",
    "\n",
    "For some of the questions, we'll ask you to write (then use) a function to compute the answer.  If you compute the answer **without** creating the function we ask you to write, the Gradescope autograder will **deduct** points, even if the way you did it produced the correct answer.\n",
    "\n",
    "#### Required Functions:\n",
    "- `format_euros`\n",
    "- `cell`\n",
    "- `average_stat_by_position`\n",
    "- `best_player_of_team_at_position`\n",
    "- `best_starting_players_of`\n",
    "\n",
    "\n",
    "In this project, you will also be required to define certain **data structures**. If you do not create these data structures exactly as specified, the Gradescope autograder will **deduct** points, even if the way you did it produced the correct answer.\n",
    "\n",
    "#### Required Data Structures:\n",
    "- `players` \n",
    "    \n",
    "Students are only allowed to use Python commands and concepts that have been taught in the course prior to the release of P7. Therefore, **you should not use the pandas module**. The Gradescope autograder will **deduct** points otherwise.\n",
    "\n",
    "For more details on what will cause you to lose points during code review and specific requirements, please take a look at the [Grading rubric](https://git.doit.wisc.edu/cdis/cs/courses/cs220/cs220-s24-projects/-/blob/main/p7/rubric.md)."
   ]
  },
  {
   "cell_type": "markdown",
   "id": "63006afc",
   "metadata": {
    "deletable": false,
    "editable": false
   },
   "source": [
    "## Incremental Coding and Testing:\n",
    "\n",
    "You should always strive to do incremental coding. **Incremental coding enables you to avoid challenging bugs.** Always write a few lines of code and then test those lines of code, before proceeding to write further code. You can call the `print` function to test intermediate step outputs.\n",
    "\n",
    "We also recommend you do incremental testing: make sure to run the local tests as soon as you are done with a question. This will ensure that you haven't made a big mistake that might potentially impact the rest of your project solution. Please refrain from making multiple submissions on Gradescope for testing individual questions' answers. Instead use the local tests, to test your solution on your laptop.\n",
    "\n",
    "That said, it is **important** that you check the Gradescope test results as soon as you submit your project on Gradescope. Test results on Gradescope are typically available somewhere between 15 to 30 minutes after the submission.\n",
    "\n",
    "Also, remember to check with the [P7 rubric](https://git.doit.wisc.edu/cdis/cs/courses/cs220/cs220-s24-projects/-/blob/main/p7/rubric.md) to verify that you will not be losing any points during manual review."
   ]
  },
  {
   "cell_type": "markdown",
   "id": "4d776143",
   "metadata": {
    "deletable": false,
    "editable": false
   },
   "source": [
    "## Project Questions and Functions:"
   ]
  },
  {
   "cell_type": "code",
   "execution_count": 3,
   "id": "9bc58344",
   "metadata": {
    "deletable": true,
    "editable": true,
    "execution": {
     "iopub.execute_input": "2024-03-31T00:28:08.553609Z",
     "iopub.status.busy": "2024-03-31T00:28:08.553534Z",
     "iopub.status.idle": "2024-03-31T00:28:08.554958Z",
     "shell.execute_reply": "2024-03-31T00:28:08.554752Z"
    },
    "tags": [
     "otter_assign_solution_cell"
    ]
   },
   "outputs": [],
   "source": [
    "# it is considered a good coding practice to place all import statements at the top of the notebook\n",
    "# please place all your import statements in this cell if you need to import any more modules for this project\n",
    "\n",
    "# BEGIN SOLUTION NO PROMPT\n",
    "import csv\n",
    "# END SOLUTION"
   ]
  },
  {
   "cell_type": "markdown",
   "id": "04d36797",
   "metadata": {
    "deletable": false,
    "editable": false
   },
   "source": [
    "First, read the data stored in `soccer_stars.csv`. You **must** read the csv file and then get the header and rows (and store them into `csv_header` and `csv_rows` variables). You will **lose points** if you use any other names to store these variables.\n",
    "\n",
    "**Note**: It is recommended that you just copy/paste the code from your Lab-P7 notebook. However, instead of reading data from `small_soccer_stars.csv`, this time, you **must** read the data from `soccer_stars.csv`."
   ]
  },
  {
   "cell_type": "code",
   "execution_count": 4,
   "id": "f8a88445",
   "metadata": {
    "deletable": true,
    "editable": true,
    "execution": {
     "iopub.execute_input": "2024-03-31T00:28:08.556149Z",
     "iopub.status.busy": "2024-03-31T00:28:08.556082Z",
     "iopub.status.idle": "2024-03-31T00:28:08.557684Z",
     "shell.execute_reply": "2024-03-31T00:28:08.557503Z"
    },
    "tags": [
     "otter_assign_solution_cell"
    ]
   },
   "outputs": [],
   "source": [
    "# copy/paste the definition of `process_csv` here\n",
    "\n",
    "# BEGIN SOLUTION NO PROMPT\n",
    "def process_csv(filename):\n",
    "    example_file = open(filename, encoding=\"utf-8\")\n",
    "    example_reader = csv.reader(example_file)\n",
    "    example_data = list(example_reader)\n",
    "    example_file.close()\n",
    "    return example_data\n",
    "# END SOLUTION"
   ]
  },
  {
   "cell_type": "code",
   "execution_count": 5,
   "id": "e004bf31",
   "metadata": {
    "deletable": true,
    "editable": true,
    "execution": {
     "iopub.execute_input": "2024-03-31T00:28:08.558834Z",
     "iopub.status.busy": "2024-03-31T00:28:08.558763Z",
     "iopub.status.idle": "2024-03-31T00:28:08.592940Z",
     "shell.execute_reply": "2024-03-31T00:28:08.592674Z"
    },
    "tags": [
     "otter_assign_solution_cell"
    ]
   },
   "outputs": [
    {
     "name": "stdout",
     "output_type": "stream",
     "text": [
      "['ID', 'Name', 'Age', 'Nationality', 'Team', 'League', 'Value', 'Wage', 'Attacking', 'Movement', 'Defending', 'Goalkeeping', 'Overall rating', 'Position', 'Height', 'Preferred foot']\n",
      "[['239085', 'E. Haaland', '22', 'Norway', 'Manchester City', 'Premier League (England)', '€185M', '€340K', '78.6', '83.6', '38.0', '10.4', '91', 'ST', '195cm', 'Left'], ['231747', 'K. Mbappé', '24', 'France', 'Paris Saint Germain', 'Ligue 1 (France)', '€181.5M', '€230K', '83.0', '92.4', '30.7', '8.4', '91', 'ST', '182cm', 'Right']]\n"
     ]
    }
   ],
   "source": [
    "# use process_csv to read 'soccer_stars.csv'\n",
    "csv_data = process_csv(\"soccer_stars.csv\") # SOLUTION\n",
    "\n",
    "# split the header and other rows into appropriate variables\n",
    "csv_header = csv_data[0] # SOLUTION\n",
    "csv_rows = csv_data[1:] # SOLUTION\n",
    "\n",
    "print(csv_header)\n",
    "print(csv_rows[0:2])"
   ]
  },
  {
   "cell_type": "markdown",
   "id": "c5fe426f",
   "metadata": {
    "deletable": false,
    "editable": false
   },
   "source": [
    "We will now copy/paste some function and data structure definitions from Lab-P7 to get us started with the project."
   ]
  },
  {
   "cell_type": "markdown",
   "id": "2740075d",
   "metadata": {
    "deletable": false,
    "editable": false
   },
   "source": [
    "### Function 1: `format_euros(euros)` \n",
    "\n",
    "You **must** write a helper function that takes in a **string** representing the `Wage` or `Value` (such as `\"€250K\"` or `\"€158.5M\"`), and converts it into an **int**.\n",
    "\n",
    "For example, `\"€250K\"` should be converted to `250000`, and `\"€158.5M\"` should be converted to `158500000`.\n",
    "\n",
    "You can **assume** that the first character of the input string `euros` always starts with the Euro symbol (€), and that **if** the last character is either `\"K\"` or `\"M\"`, it represents the preceeding number in thousands or millions, respectively. Note that the last character **need not** be `\"K\"` or `\"M\"` in all inputs. If the last character is not one of these letters, then the entire input string (except the starting €) can be **assumed** to be an **integer**.\n",
    "\n",
    "In any case, you **must** round your answer to the nearest **integer** before returning.\n",
    "\n",
    "**Note:** You may copy/paste your definition of `format_euros` from [Lab-P7](https://git.doit.wisc.edu/cdis/cs/courses/cs220/cs220-s24-projects/-/tree/main/lab-p7) here."
   ]
  },
  {
   "cell_type": "code",
   "execution_count": 6,
   "id": "95e9142a",
   "metadata": {
    "deletable": true,
    "editable": true,
    "execution": {
     "iopub.execute_input": "2024-03-31T00:28:08.594447Z",
     "iopub.status.busy": "2024-03-31T00:28:08.594379Z",
     "iopub.status.idle": "2024-03-31T00:28:08.596794Z",
     "shell.execute_reply": "2024-03-31T00:28:08.596554Z"
    },
    "tags": [
     "otter_assign_solution_cell"
    ]
   },
   "outputs": [],
   "source": [
    "# define the `format_euros` function here\n",
    "\n",
    "# BEGIN SOLUTION NO PROMPT\n",
    "def format_euros(euros):\n",
    "    '''format_euros(euros) takes in the input string\n",
    "    `euros` and converts it into an `int`'''\n",
    "    euros = euros[1:]\n",
    "    if euros[-1] == 'K':\n",
    "        euros = float(euros[:-1])*10**3\n",
    "    elif euros[-1] == 'M':\n",
    "        euros = float(euros[:-1])*10**6\n",
    "    else:\n",
    "        euros = float(euros)\n",
    "    return round(euros)\n",
    "# END SOLUTION"
   ]
  },
  {
   "cell_type": "code",
   "execution_count": null,
   "id": "829ae9c2",
   "metadata": {
    "deletable": false,
    "editable": false
   },
   "outputs": [],
   "source": [
    "grader.check(\"format_euros\")"
   ]
  },
  {
   "cell_type": "markdown",
   "id": "18434515",
   "metadata": {
    "deletable": false,
    "editable": false
   },
   "source": [
    "### Function 2: `cell(row_idx, col_name)` \n",
    "\n",
    "This function must take in a row index, `row_idx` and a column name, `col_name` as its inputs, and return the value in `soccer_stars.csv` stored there. There is **no missing data** in this dataset, so you do **not** have to worry about returning `None` for **missing data**.\n",
    "\n",
    "Your `cell` function **must** also typecast the values based on column names. These are the expected data types for each of the columns:\n",
    "\n",
    "- `ID` : **int**,\n",
    "- `Name` : **str**,\n",
    "- `Age` : **int**,\n",
    "- `Nationality` : **str**,\n",
    "- `Team` : **str**,\n",
    "- `League` : **str**,\n",
    "- `Value` : **int**,\n",
    "- `Wage` : **int**,\n",
    "- `Attacking` : **float**,\n",
    "- `Movement` : **float**,\n",
    "- `Defending` : **float**,\n",
    "- `Goalkeeping` : **float**,\n",
    "- `Overall rating` : **int**,\n",
    "- `Position` : **str**,\n",
    "- `Height` : **int**,\n",
    "- `Preferred foot` : **str**.\n",
    "\n",
    "Make special care to convert the `Height` into an **int** by slicing off the units, and to convert the `Wage` and `Value` into **ints** using the `format_euros` helper function.\n",
    "\n",
    "**Note:** You may copy/paste your definition of `cell` from [Lab-P7](https://git.doit.wisc.edu/cdis/cs/courses/cs220/cs220-s24-projects/-/tree/main/lab-p7) here. Since the variables `csv_header` and `csv_rows` are defined in this notebook to be data in `soccer_stars.csv`, the same function from Lab-P7 will now read the data from `soccer_stars.csv` instead of `small_soccer_stars.csv`."
   ]
  },
  {
   "cell_type": "code",
   "execution_count": 10,
   "id": "d5f37aff",
   "metadata": {
    "deletable": true,
    "editable": true,
    "execution": {
     "iopub.execute_input": "2024-03-31T00:28:08.766864Z",
     "iopub.status.busy": "2024-03-31T00:28:08.766793Z",
     "iopub.status.idle": "2024-03-31T00:28:08.837385Z",
     "shell.execute_reply": "2024-03-31T00:28:08.837125Z"
    },
    "tags": [
     "otter_assign_solution_cell"
    ]
   },
   "outputs": [],
   "source": [
    "# define the `cell` function here\n",
    "\n",
    "# BEGIN SOLUTION NO PROMPT\n",
    "# these variables are redefined here so it is easier for the hidden tests to identify the dependent global variables\n",
    "csv_data = process_csv(\"soccer_stars.csv\")\n",
    "csv_header = csv_data[0]\n",
    "csv_rows = csv_data[1:]\n",
    "\n",
    "def cell(row_idx, col_name):\n",
    "    col_idx = csv_header.index(col_name)\n",
    "    val = csv_rows[row_idx][col_idx]\n",
    "    if col_name in ['ID', 'Age', 'Overall rating']:\n",
    "        return int(val)\n",
    "    elif col_name in ['Attacking', 'Movement', 'Defending', 'Goalkeeping']:\n",
    "        return float(val)\n",
    "    elif col_name in ['Height']:\n",
    "        return int(val[:-2])\n",
    "    elif col_name in ['Wage', 'Value']:\n",
    "        return format_euros(val)\n",
    "    else:\n",
    "        return val\n",
    "# END SOLUTION"
   ]
  },
  {
   "cell_type": "code",
   "execution_count": null,
   "id": "77b17849",
   "metadata": {
    "deletable": false,
    "editable": false
   },
   "outputs": [],
   "source": [
    "grader.check(\"cell\")"
   ]
  },
  {
   "cell_type": "markdown",
   "id": "d6913236",
   "metadata": {
    "deletable": false,
    "editable": false
   },
   "source": [
    "### Data Structure 1: `players` \n",
    "\n",
    "You **must** now define a data structure `players` that stores all the data in `soccer_stars.csv` after processing the values. This data structure **must** be a **dictionary** of **dictionaries**. The **outer dictionary** must map each player `ID` to another **dictionary** which contains all the data about the player with that `ID`. Each **inner dictionary** corresponding to each player must map the **column names** to their **values** for that player.\n",
    "\n",
    "#### For the rest of the project, you MUST access data from `soccer_stars.csv` ONLY using this data structure `players`.\n",
    "\n",
    "The first few elements of `players` **must** look like this:\n",
    "\n",
    "```python\n",
    "{239085: {'ID': 239085,\n",
    "          'Name': 'E. Haaland',\n",
    "          'Age': 22,\n",
    "          'Nationality': 'Norway',\n",
    "          'Team': 'Manchester City',\n",
    "          'League': 'Premier League (England)',\n",
    "          'Value': 185000000,\n",
    "          'Wage': 340000,\n",
    "          'Attacking': 78.6,\n",
    "          'Movement': 83.6,\n",
    "          'Defending': 38.0,\n",
    "          'Goalkeeping': 10.4,\n",
    "          'Overall rating': 91,\n",
    "          'Position': 'ST',\n",
    "          'Height': 195,\n",
    "          'Preferred foot': 'Left'},\n",
    " 231747: {'ID': 231747,\n",
    "          'Name': 'K. Mbappé',\n",
    "          'Age': 24,\n",
    "          'Nationality': 'France',\n",
    "          'Team': 'Paris Saint Germain',\n",
    "          'League': 'Ligue 1 (France)',\n",
    "          'Value': 181500000,\n",
    "          'Wage': 230000,\n",
    "          'Attacking': 83.0,\n",
    "          'Movement': 92.4,\n",
    "          'Defending': 30.7,\n",
    "          'Goalkeeping': 8.4,\n",
    "          'Overall rating': 91,\n",
    "          'Position': 'ST',\n",
    "          'Height': 182,\n",
    "          'Preferred foot': 'Right'},\n",
    " 192985: {'ID': 192985,\n",
    "          'Name': 'K. De Bruyne',\n",
    "          'Age': 32,\n",
    "          'Nationality': 'Belgium',\n",
    "          'Team': 'Manchester City',\n",
    "          'League': 'Premier League (England)',\n",
    "          'Value': 103000000,\n",
    "          'Wage': 350000,\n",
    "          'Attacking': 82.4,\n",
    "          'Movement': 78.8,\n",
    "          'Defending': 63.0,\n",
    "          'Goalkeeping': 11.2,\n",
    "          'Overall rating': 91,\n",
    "          'Position': 'CM',\n",
    "          'Height': 181,\n",
    "          'Preferred foot': 'Right'},\n",
    " ...\n",
    "}\n",
    "```\n",
    "\n",
    "**Note:** You may copy/paste your definition of `players` from [Lab-P7](https://git.doit.wisc.edu/cdis/cs/courses/cs220/cs220-s24-projects/-/tree/main/lab-p7) here. Since the variables `csv_header` and `csv_rows` are defined in this notebook to be data in `soccer_stars.csv`, the same code from Lab-P7 will now use the data from `soccer_stars.csv` instead of `small_soccer_stars.csv` to define `players`."
   ]
  },
  {
   "cell_type": "code",
   "execution_count": 16,
   "id": "a875bfe0",
   "metadata": {
    "deletable": true,
    "editable": true,
    "execution": {
     "iopub.execute_input": "2024-03-31T00:28:09.087332Z",
     "iopub.status.busy": "2024-03-31T00:28:09.087270Z",
     "iopub.status.idle": "2024-03-31T00:28:09.169064Z",
     "shell.execute_reply": "2024-03-31T00:28:09.168827Z"
    },
    "tags": [
     "otter_assign_solution_cell"
    ]
   },
   "outputs": [],
   "source": [
    "# define the `players` data structure here\n",
    "# but do NOT display it as it is very large\n",
    "\n",
    "# BEGIN SOLUTION NO PROMPT\n",
    "players = {}\n",
    "\n",
    "for idx in range(len(csv_rows)):\n",
    "    player = {}\n",
    "    for col_name in csv_header:\n",
    "        player[col_name] = cell(idx, col_name)\n",
    "    players[player['ID']] = player\n",
    "# END SOLUTION"
   ]
  },
  {
   "cell_type": "code",
   "execution_count": null,
   "id": "5e72af99",
   "metadata": {
    "deletable": false,
    "editable": false
   },
   "outputs": [],
   "source": [
    "grader.check(\"players\")"
   ]
  },
  {
   "cell_type": "markdown",
   "id": "b1c1020e",
   "metadata": {
    "deletable": false,
    "editable": false
   },
   "source": [
    "You are all set! You are now ready to start solving the questions."
   ]
  },
  {
   "cell_type": "markdown",
   "id": "56da8b79",
   "metadata": {
    "deletable": false,
    "editable": false
   },
   "source": [
    "**Question 1:** What are the **all** the statistics of the player with the `ID` *158023*?\n",
    "\n",
    "Your output **must** be a **dict** whose keys are **all** the **column names** in the dataset, and the corresponding values are the values under that column for the player with the given `ID`."
   ]
  },
  {
   "cell_type": "code",
   "execution_count": 20,
   "id": "c3589ac0",
   "metadata": {
    "deletable": true,
    "editable": true,
    "execution": {
     "iopub.execute_input": "2024-03-31T00:28:09.319206Z",
     "iopub.status.busy": "2024-03-31T00:28:09.319142Z",
     "iopub.status.idle": "2024-03-31T00:28:09.321924Z",
     "shell.execute_reply": "2024-03-31T00:28:09.321692Z"
    },
    "tags": [
     "otter_assign_solution_cell"
    ]
   },
   "outputs": [
    {
     "data": {
      "text/plain": [
       "{'ID': 158023,\n",
       " 'Name': 'L. Messi',\n",
       " 'Age': 36,\n",
       " 'Nationality': 'Argentina',\n",
       " 'Team': 'Inter Miami',\n",
       " 'League': 'Major League Soccer (United States)',\n",
       " 'Value': 41000000,\n",
       " 'Wage': 23000,\n",
       " 'Attacking': 81.8,\n",
       " 'Movement': 87.0,\n",
       " 'Defending': 26.3,\n",
       " 'Goalkeeping': 10.8,\n",
       " 'Overall rating': 90,\n",
       " 'Position': 'CAM',\n",
       " 'Height': 169,\n",
       " 'Preferred foot': 'Left'}"
      ]
     },
     "execution_count": 20,
     "metadata": {},
     "output_type": "execute_result"
    }
   ],
   "source": [
    "# compute and store the answer in the variable 'stats_player_158023', then display it\n",
    "\n",
    "# BEGIN SOLUTION NO PROMPT\n",
    "stats_player_158023 = players[158023]\n",
    "\n",
    "stats_player_158023\n",
    "# END SOLUTION"
   ]
  },
  {
   "cell_type": "code",
   "execution_count": null,
   "id": "284e3ac9",
   "metadata": {
    "deletable": false,
    "editable": false
   },
   "outputs": [],
   "source": [
    "grader.check(\"q1\")"
   ]
  },
  {
   "cell_type": "markdown",
   "id": "e35c75fc",
   "metadata": {
    "deletable": false,
    "editable": false
   },
   "source": [
    "**Question 2:** Find **all** the statistics of the **highest** valued (`Value`) player.\n",
    "\n",
    "Your output **must** be a **dict** whose keys are **all** the **column names** in the dataset, and the corresponding values are the values under that column for the player with the **highest** `Value`.\n",
    "\n",
    "You do **not** have to worry about any ties. There is a **unique** player in the dataset with the highest `Value`."
   ]
  },
  {
   "cell_type": "code",
   "execution_count": 23,
   "id": "145f998c",
   "metadata": {
    "deletable": true,
    "editable": true,
    "execution": {
     "iopub.execute_input": "2024-03-31T00:28:09.375649Z",
     "iopub.status.busy": "2024-03-31T00:28:09.375588Z",
     "iopub.status.idle": "2024-03-31T00:28:09.381084Z",
     "shell.execute_reply": "2024-03-31T00:28:09.380860Z"
    },
    "tags": [
     "otter_assign_solution_cell"
    ]
   },
   "outputs": [
    {
     "data": {
      "text/plain": [
       "{'ID': 239085,\n",
       " 'Name': 'E. Haaland',\n",
       " 'Age': 22,\n",
       " 'Nationality': 'Norway',\n",
       " 'Team': 'Manchester City',\n",
       " 'League': 'Premier League (England)',\n",
       " 'Value': 185000000,\n",
       " 'Wage': 340000,\n",
       " 'Attacking': 78.6,\n",
       " 'Movement': 83.6,\n",
       " 'Defending': 38.0,\n",
       " 'Goalkeeping': 10.4,\n",
       " 'Overall rating': 91,\n",
       " 'Position': 'ST',\n",
       " 'Height': 195,\n",
       " 'Preferred foot': 'Left'}"
      ]
     },
     "execution_count": 23,
     "metadata": {},
     "output_type": "execute_result"
    }
   ],
   "source": [
    "# compute and store the answer in the variable 'highest_valued_stats', then display it\n",
    "\n",
    "# BEGIN SOLUTION NO PROMPT\n",
    "highest_valued_id = None\n",
    "\n",
    "for player_id in players:\n",
    "    player = players[player_id]\n",
    "    if highest_valued_id == None or player['Value'] > players[highest_valued_id]['Value']:\n",
    "        highest_valued_id = player_id\n",
    "highest_valued_stats = players[highest_valued_id]\n",
    "\n",
    "highest_valued_stats\n",
    "# END SOLUTION"
   ]
  },
  {
   "cell_type": "code",
   "execution_count": null,
   "id": "557700c2",
   "metadata": {
    "deletable": false,
    "editable": false
   },
   "outputs": [],
   "source": [
    "grader.check(\"q2\")"
   ]
  },
  {
   "cell_type": "markdown",
   "id": "815077ad",
   "metadata": {
    "deletable": false,
    "editable": false
   },
   "source": [
    "**Question 3:** What is the `Nationality` of the player with the **highest** `Wage`?\n",
    "\n",
    "You do **not** have to worry about any ties. There is a **unique** player in the dataset with the highest `Wage`."
   ]
  },
  {
   "cell_type": "code",
   "execution_count": 29,
   "id": "c2ff26c9",
   "metadata": {
    "deletable": true,
    "editable": true,
    "execution": {
     "iopub.execute_input": "2024-03-31T00:28:09.582975Z",
     "iopub.status.busy": "2024-03-31T00:28:09.582885Z",
     "iopub.status.idle": "2024-03-31T00:28:09.587747Z",
     "shell.execute_reply": "2024-03-31T00:28:09.587534Z"
    },
    "tags": [
     "otter_assign_solution_cell"
    ]
   },
   "outputs": [
    {
     "data": {
      "text/plain": [
       "'Belgium'"
      ]
     },
     "execution_count": 29,
     "metadata": {},
     "output_type": "execute_result"
    }
   ],
   "source": [
    "# compute and store the answer in the variable 'highest_wage_nationality', then display it\n",
    "\n",
    "# BEGIN SOLUTION NO PROMPT\n",
    "highest_wage_id = None\n",
    "\n",
    "for player_id in players:\n",
    "    player = players[player_id]\n",
    "    if highest_wage_id == None or player['Wage'] > players[highest_wage_id]['Wage']:\n",
    "        highest_wage_id = player_id\n",
    "highest_wage_nationality = players[highest_wage_id]['Nationality']\n",
    "\n",
    "highest_wage_nationality\n",
    "# END SOLUTION"
   ]
  },
  {
   "cell_type": "code",
   "execution_count": null,
   "id": "099bfe55",
   "metadata": {
    "deletable": false,
    "editable": false
   },
   "outputs": [],
   "source": [
    "grader.check(\"q3\")"
   ]
  },
  {
   "cell_type": "markdown",
   "id": "4ac5d9ac",
   "metadata": {
    "deletable": false,
    "editable": false
   },
   "source": [
    "**Question 4:** What is the favored `Position` of the player with the **highest** `Wage`?\n",
    "\n",
    "You **must** not recompute the player with the highest `Wage`. Instead, you can use the `ID` you found in your answer to **Question 3**, and just find the `Position` of that player. If you did not store the `ID` of that player in **Question 3**, go back and **modify** your answer there, so you can directly use it here."
   ]
  },
  {
   "cell_type": "code",
   "execution_count": 35,
   "id": "1804d0b9",
   "metadata": {
    "deletable": true,
    "editable": true,
    "execution": {
     "iopub.execute_input": "2024-03-31T00:28:09.822254Z",
     "iopub.status.busy": "2024-03-31T00:28:09.822190Z",
     "iopub.status.idle": "2024-03-31T00:28:09.824143Z",
     "shell.execute_reply": "2024-03-31T00:28:09.823932Z"
    },
    "tags": [
     "otter_assign_solution_cell"
    ]
   },
   "outputs": [
    {
     "data": {
      "text/plain": [
       "'CM'"
      ]
     },
     "execution_count": 35,
     "metadata": {},
     "output_type": "execute_result"
    }
   ],
   "source": [
    "# compute and store the answer in the variable 'highest_wage_position', then display it\n",
    "\n",
    "# BEGIN SOLUTION NO PROMPT\n",
    "highest_wage_position = players[highest_wage_id]['Position']\n",
    "\n",
    "highest_wage_position\n",
    "# END SOLUTION"
   ]
  },
  {
   "cell_type": "code",
   "execution_count": null,
   "id": "17290fed",
   "metadata": {
    "deletable": false,
    "editable": false
   },
   "outputs": [],
   "source": [
    "grader.check(\"q4\")"
   ]
  },
  {
   "cell_type": "markdown",
   "id": "f7c88b15",
   "metadata": {
    "deletable": false,
    "editable": false
   },
   "source": [
    "**Question 5:** Find all the teams (`Team`) that belong to the `League` *Premier League (England)*.\n",
    "\n",
    "Your output **must** be a **list** of **strings** with **no duplicates**. The order does **not** matter."
   ]
  },
  {
   "cell_type": "code",
   "execution_count": 40,
   "id": "17b18d8a",
   "metadata": {
    "deletable": true,
    "editable": true,
    "execution": {
     "iopub.execute_input": "2024-03-31T00:28:09.976284Z",
     "iopub.status.busy": "2024-03-31T00:28:09.976219Z",
     "iopub.status.idle": "2024-03-31T00:28:09.982388Z",
     "shell.execute_reply": "2024-03-31T00:28:09.982185Z"
    },
    "tags": [
     "otter_assign_solution_cell"
    ]
   },
   "outputs": [
    {
     "data": {
      "text/plain": [
       "['Newcastle United',\n",
       " 'Wolverhampton Wanderers',\n",
       " 'Nottingham Forest',\n",
       " 'Tottenham Hotspur',\n",
       " 'Luton Town',\n",
       " 'AFC Bournemouth',\n",
       " 'Liverpool',\n",
       " 'Brentford',\n",
       " 'Aston Villa',\n",
       " 'Everton',\n",
       " 'Crystal Palace',\n",
       " 'Sheffield United',\n",
       " 'West Ham United',\n",
       " 'Manchester City',\n",
       " 'Arsenal',\n",
       " 'Fulham',\n",
       " 'Brighton & Hove Albion',\n",
       " 'Chelsea',\n",
       " 'Manchester United',\n",
       " 'Burnley']"
      ]
     },
     "execution_count": 40,
     "metadata": {},
     "output_type": "execute_result"
    }
   ],
   "source": [
    "# compute and store the answer in the variable 'premier_league_teams', then display it\n",
    "\n",
    "# BEGIN SOLUTION NO PROMPT\n",
    "premier_league_teams = []\n",
    "for player_id in players:\n",
    "    league = players[player_id]['League']\n",
    "    team = players[player_id]['Team']\n",
    "    if league == 'Premier League (England)':\n",
    "        premier_league_teams.append(team)\n",
    "\n",
    "premier_league_teams = list(set(premier_league_teams))\n",
    "\n",
    "premier_league_teams\n",
    "# END SOLUTION"
   ]
  },
  {
   "cell_type": "code",
   "execution_count": null,
   "id": "3e93e109",
   "metadata": {
    "deletable": false,
    "editable": false
   },
   "outputs": [],
   "source": [
    "grader.check(\"q5\")"
   ]
  },
  {
   "cell_type": "markdown",
   "id": "6a0bbc75",
   "metadata": {
    "deletable": false,
    "editable": false
   },
   "source": [
    "**Question 6:** Find the **number** of players with each `Preferred foot`. \n",
    "\n",
    "Your output **must** be a **dictionary** that maps each `Preferred Foot` (i.e., *Right* and *Left*) to the **number** of players with that `Preferred foot`. Your output **must** look like this:\n",
    "\n",
    "```python\n",
    "{'Left': 4539, 'Right': 15197}\n",
    "```\n",
    "\n",
    "You **must** not **hardcode** the feet (i.e., *Right* and *Left*) in your answer. Instead, you must extract that information from the dictionary `players`.  Remember that you **must** extract all the information from the csv file only using the data structure `players`."
   ]
  },
  {
   "cell_type": "code",
   "execution_count": 45,
   "id": "a23daff0",
   "metadata": {
    "deletable": true,
    "editable": true,
    "execution": {
     "iopub.execute_input": "2024-03-31T00:28:10.136450Z",
     "iopub.status.busy": "2024-03-31T00:28:10.136383Z",
     "iopub.status.idle": "2024-03-31T00:28:10.142879Z",
     "shell.execute_reply": "2024-03-31T00:28:10.142655Z"
    },
    "tags": [
     "otter_assign_solution_cell"
    ]
   },
   "outputs": [
    {
     "data": {
      "text/plain": [
       "{'Left': 4539, 'Right': 15197}"
      ]
     },
     "execution_count": 45,
     "metadata": {},
     "output_type": "execute_result"
    }
   ],
   "source": [
    "# compute and store the answer in the variable 'preferred_foot_count', then display it\n",
    "\n",
    "# BEGIN SOLUTION NO PROMPT\n",
    "preferred_foot_count = {}\n",
    "for player_id in players:\n",
    "    foot = players[player_id]['Preferred foot']\n",
    "    if foot not in preferred_foot_count:\n",
    "        preferred_foot_count[foot] = 0\n",
    "    preferred_foot_count[foot] += 1\n",
    "\n",
    "preferred_foot_count\n",
    "# END SOLUTION"
   ]
  },
  {
   "cell_type": "code",
   "execution_count": null,
   "id": "18ec07cc",
   "metadata": {
    "deletable": false,
    "editable": false
   },
   "outputs": [],
   "source": [
    "grader.check(\"q6\")"
   ]
  },
  {
   "cell_type": "markdown",
   "id": "0a758423",
   "metadata": {
    "deletable": false,
    "editable": false
   },
   "source": [
    "**Question 7:** What is the **average** `Overall rating` of *Right* vs *Left* footed players (`Preferred foot`)?\n",
    "\n",
    "Your output **must** be a **dict** that looks as follows:\n",
    "\n",
    "```python\n",
    "{'Left': 64.4641991628112, 'Right': 63.37796933605317}\n",
    "```\n",
    "\n",
    "You **must** not **hardcode** the feet (i.e., *Right* and *Left*) in your answer. Instead, you must extract that information from the dictionary `players`.\n",
    "\n",
    "**Hint**: You should first compute a dictionary that computes the **total** `Overall rating` of *Left* and *Right* footed players, then divide the values in this dictionary by the corresponding values in the dictionary you computed in **Question 6** to find the **average**."
   ]
  },
  {
   "cell_type": "code",
   "execution_count": 51,
   "id": "1d1fc655",
   "metadata": {
    "deletable": true,
    "editable": true,
    "execution": {
     "iopub.execute_input": "2024-03-31T00:28:10.345717Z",
     "iopub.status.busy": "2024-03-31T00:28:10.345647Z",
     "iopub.status.idle": "2024-03-31T00:28:10.353118Z",
     "shell.execute_reply": "2024-03-31T00:28:10.352895Z"
    },
    "tags": [
     "otter_assign_solution_cell"
    ]
   },
   "outputs": [
    {
     "data": {
      "text/plain": [
       "{'Left': 64.4641991628112, 'Right': 63.37796933605317}"
      ]
     },
     "execution_count": 51,
     "metadata": {},
     "output_type": "execute_result"
    }
   ],
   "source": [
    "# compute and store the answer in the variable 'preferred_foot_avg_overall', then display it\n",
    "\n",
    "# BEGIN SOLUTION NO PROMPT\n",
    "preferred_foot_total_overall = {}\n",
    "for player_id in players:\n",
    "    foot = players[player_id]['Preferred foot']\n",
    "    overall = players[player_id]['Overall rating']\n",
    "    if foot not in preferred_foot_total_overall:\n",
    "        preferred_foot_total_overall[foot] = 0\n",
    "    preferred_foot_total_overall[foot] += overall\n",
    "\n",
    "preferred_foot_avg_overall = {}\n",
    "for foot in preferred_foot_count:\n",
    "    preferred_foot_avg_overall[foot] = preferred_foot_total_overall[foot] /preferred_foot_count[foot]\n",
    "    \n",
    "preferred_foot_avg_overall\n",
    "# END SOLUTION"
   ]
  },
  {
   "cell_type": "code",
   "execution_count": null,
   "id": "0f9068f3",
   "metadata": {
    "deletable": false,
    "editable": false
   },
   "outputs": [],
   "source": [
    "grader.check(\"q7\")"
   ]
  },
  {
   "cell_type": "markdown",
   "id": "ec1b72fd",
   "metadata": {
    "deletable": false,
    "editable": false
   },
   "source": [
    "**Food for thought:** We notice that Left-footed players have a slightly higher `Overall rating` on **average** than Right-footed players. Can you explain what is going on here?"
   ]
  },
  {
   "cell_type": "code",
   "execution_count": 57,
   "id": "037cf150",
   "metadata": {
    "deletable": true,
    "editable": true,
    "execution": {
     "iopub.execute_input": "2024-03-31T00:28:10.584666Z",
     "iopub.status.busy": "2024-03-31T00:28:10.584602Z",
     "iopub.status.idle": "2024-03-31T00:28:10.586042Z",
     "shell.execute_reply": "2024-03-31T00:28:10.585814Z"
    }
   },
   "outputs": [],
   "source": [
    "# Food for thought is an entirely OPTIONAL exercise\n",
    "# you may leave your thoughts here as a comment if you wish to\n"
   ]
  },
  {
   "cell_type": "markdown",
   "id": "d74efbaa",
   "metadata": {
    "deletable": false,
    "editable": false
   },
   "source": [
    "### Soccer Positions\n",
    "\n",
    "We will now analyze the various **positions** on the soccer field. Before we get started, it will be helpful to have at least a rough idea as to what the different **positions** are. Here is an image that explains where each **position** is expected to play on the soccer field:"
   ]
  },
  {
   "attachments": {
    "positions.jpg": {
     "image/jpeg": "[encoded data removed]"
    }
   },
   "cell_type": "markdown",
   "id": "56317bbd",
   "metadata": {
    "deletable": true,
    "editable": true
   },
   "source": [
    "<div><img src=\"attachment:positions.jpg\" style=\"height: 400px;\"/></div>"
   ]
  },
  {
   "cell_type": "markdown",
   "id": "5517ccf7",
   "metadata": {
    "deletable": false,
    "editable": false
   },
   "source": [
    "The **bottom** of the image is the team's goalpost, and the **top** is the opposite team's goalpost. The positions closer to the **bottom** of the image are broadly tasked with **protecting** their team's goal, while the positions closer to the **top** of the image are tasked with **scoring** goals against the opposition.\n",
    "\n",
    "Apart from the *Goalkeeper* (**GK**), the **five** players closest to their own goalpost (**LWB**, **LB**, **CB**, **RB**, **RWB**) are called *Defenders*. The **five** players in the middle of the field (**CDM**, **LM**, **CM**, **RM**, **CAM**) are called *Midfielders*, and the **four** players closest to the oppposite team's goalpost (**LW**, **CF**, **RW**, **ST**) are called the *Forwards*.\n",
    "\n",
    "With this brief explanation, you are ready to tackle more questions in this project!"
   ]
  },
  {
   "cell_type": "markdown",
   "id": "b9f0c618",
   "metadata": {
    "deletable": false,
    "editable": false
   },
   "source": [
    "**Question 8:** For **each** `Position`, find the **number** of players who play in that `Position`.\n",
    "\n",
    "Your output **must** be a **dict** that looks as follows:\n",
    "\n",
    "```python\n",
    "{'ST': 3106,\n",
    " 'CM': 1086,\n",
    " 'GK': 2090,\n",
    " 'CAM': 2989,\n",
    " 'CB': 3753,\n",
    " ...\n",
    "}\n",
    "```\n",
    "\n",
    "You **must** not **hardcode** the positions in your answer. Instead, you must extract that information from the dictionary `players`."
   ]
  },
  {
   "cell_type": "code",
   "execution_count": 58,
   "id": "c77785b5",
   "metadata": {
    "deletable": true,
    "editable": true,
    "execution": {
     "iopub.execute_input": "2024-03-31T00:28:10.587392Z",
     "iopub.status.busy": "2024-03-31T00:28:10.587328Z",
     "iopub.status.idle": "2024-03-31T00:28:10.593984Z",
     "shell.execute_reply": "2024-03-31T00:28:10.593756Z"
    },
    "tags": [
     "otter_assign_solution_cell"
    ]
   },
   "outputs": [
    {
     "data": {
      "text/plain": [
       "{'ST': 3106,\n",
       " 'CM': 1086,\n",
       " 'GK': 2090,\n",
       " 'CAM': 2989,\n",
       " 'CB': 3753,\n",
       " 'LW': 176,\n",
       " 'CDM': 1236,\n",
       " 'RW': 242,\n",
       " 'CF': 70,\n",
       " 'RWB': 354,\n",
       " 'LWB': 347,\n",
       " 'RM': 1656,\n",
       " 'LB': 853,\n",
       " 'RB': 913,\n",
       " 'LM': 865}"
      ]
     },
     "execution_count": 58,
     "metadata": {},
     "output_type": "execute_result"
    }
   ],
   "source": [
    "# compute and store the answer in the variable 'positions_count', then display it\n",
    "\n",
    "# BEGIN SOLUTION NO PROMPT\n",
    "positions_count = {}\n",
    "for player_id in players:\n",
    "    position = players[player_id]['Position']\n",
    "    if position not in positions_count:\n",
    "        positions_count[position] = 0\n",
    "    positions_count[position] += 1\n",
    "\n",
    "positions_count\n",
    "# END SOLUTION"
   ]
  },
  {
   "cell_type": "code",
   "execution_count": null,
   "id": "8ea30538",
   "metadata": {
    "deletable": false,
    "editable": false
   },
   "outputs": [],
   "source": [
    "grader.check(\"q8\")"
   ]
  },
  {
   "cell_type": "markdown",
   "id": "7573a5b1",
   "metadata": {
    "deletable": false,
    "editable": false
   },
   "source": [
    "**Question 9:** Find the **average** `Age` of players in **each** `Position`.\n",
    "\n",
    "Your output **must** be a **dict** that looks as follows:\n",
    "\n",
    "```python\n",
    "{'ST': 23.115260785576304,\n",
    " 'CM': 24.361878453038674,\n",
    " 'GK': 23.18708133971292,\n",
    " 'CAM': 21.945466711274673,\n",
    " 'CB': 23.423661071143087,\n",
    " ...\n",
    "}\n",
    "```\n",
    "\n",
    "You **must** not **hardcode** the positions in your answer. Instead, you must extract that information from the dictionary `players`."
   ]
  },
  {
   "cell_type": "code",
   "execution_count": 64,
   "id": "b3dcd8ee",
   "metadata": {
    "deletable": true,
    "editable": true,
    "execution": {
     "iopub.execute_input": "2024-03-31T00:28:10.798846Z",
     "iopub.status.busy": "2024-03-31T00:28:10.798778Z",
     "iopub.status.idle": "2024-03-31T00:28:10.806864Z",
     "shell.execute_reply": "2024-03-31T00:28:10.806648Z"
    },
    "tags": [
     "otter_assign_solution_cell"
    ]
   },
   "outputs": [
    {
     "data": {
      "text/plain": [
       "{'ST': 23.115260785576304,\n",
       " 'CM': 24.361878453038674,\n",
       " 'GK': 23.18708133971292,\n",
       " 'CAM': 21.945466711274673,\n",
       " 'CB': 23.423661071143087,\n",
       " 'LW': 25.40340909090909,\n",
       " 'CDM': 24.17718446601942,\n",
       " 'RW': 25.880165289256198,\n",
       " 'CF': 28.785714285714285,\n",
       " 'RWB': 22.443502824858758,\n",
       " 'LWB': 22.51585014409222,\n",
       " 'RM': 21.934782608695652,\n",
       " 'LB': 23.36694021101993,\n",
       " 'RB': 23.63198247535597,\n",
       " 'LM': 22.983815028901734}"
      ]
     },
     "execution_count": 64,
     "metadata": {},
     "output_type": "execute_result"
    }
   ],
   "source": [
    "# compute and store the answer in the variable 'positions_avg_age', then display it\n",
    "\n",
    "# BEGIN SOLUTION NO PROMPT\n",
    "positions_total_age = {}\n",
    "for player_id in players:\n",
    "    position = players[player_id]['Position']\n",
    "    age = players[player_id]['Age']\n",
    "    if position not in positions_total_age:\n",
    "        positions_total_age[position] = 0\n",
    "    positions_total_age[position] += age\n",
    "\n",
    "positions_avg_age = {}\n",
    "for position in positions_count:\n",
    "    positions_avg_age[position] = positions_total_age[position] /positions_count[position]\n",
    "    \n",
    "positions_avg_age\n",
    "# END SOLUTION"
   ]
  },
  {
   "cell_type": "code",
   "execution_count": null,
   "id": "178da47f",
   "metadata": {
    "deletable": false,
    "editable": false
   },
   "outputs": [],
   "source": [
    "grader.check(\"q9\")"
   ]
  },
  {
   "cell_type": "markdown",
   "id": "89322f2d",
   "metadata": {
    "deletable": false,
    "editable": false
   },
   "source": [
    "**Food for thought:** Notice that players at the position **CF** (Center Forward) are significantly older on average than players who play at other positions. Similarly, players at positions **LW** (Left Wing Forward), and **RW** (Right Wing Forward) are also older on average than players at other positions. Can you explain this phenomenon? On average do you notice any patterns in the ages of the players as we move up the field from the *Defenders* to the *Forwards*?"
   ]
  },
  {
   "cell_type": "code",
   "execution_count": 70,
   "id": "473f41b7",
   "metadata": {
    "deletable": true,
    "editable": true,
    "execution": {
     "iopub.execute_input": "2024-03-31T00:28:11.011012Z",
     "iopub.status.busy": "2024-03-31T00:28:11.010946Z",
     "iopub.status.idle": "2024-03-31T00:28:11.012352Z",
     "shell.execute_reply": "2024-03-31T00:28:11.012105Z"
    }
   },
   "outputs": [],
   "source": [
    "# Food for thought is an entirely OPTIONAL exercise\n",
    "# you may leave your thoughts here as a comment if you wish to\n"
   ]
  },
  {
   "cell_type": "markdown",
   "id": "6837bc82",
   "metadata": {
    "deletable": false,
    "editable": false
   },
   "source": [
    "**Question 10:** Find the **average** `Height` of players in **each** `Position`.\n",
    "\n",
    "Your output **must** be a **dict** that looks as follows:\n",
    "\n",
    "```python\n",
    "{'ST': 182.4929169349646,\n",
    " 'CM': 178.50184162062615,\n",
    " 'GK': 187.86076555023922,\n",
    " 'CAM': 176.23084643693542,\n",
    " 'CB': 185.71169730881962,\n",
    " ...\n",
    "}\n",
    "```\n",
    "\n",
    "You **must** not **hardcode** the positions in your answer. Instead, you must extract that information from the dictionary `players`."
   ]
  },
  {
   "cell_type": "code",
   "execution_count": 71,
   "id": "ecd29a68",
   "metadata": {
    "deletable": true,
    "editable": true,
    "execution": {
     "iopub.execute_input": "2024-03-31T00:28:11.013457Z",
     "iopub.status.busy": "2024-03-31T00:28:11.013393Z",
     "iopub.status.idle": "2024-03-31T00:28:11.021014Z",
     "shell.execute_reply": "2024-03-31T00:28:11.020796Z"
    },
    "tags": [
     "otter_assign_solution_cell"
    ]
   },
   "outputs": [
    {
     "data": {
      "text/plain": [
       "{'ST': 182.4929169349646,\n",
       " 'CM': 178.50184162062615,\n",
       " 'GK': 187.86076555023922,\n",
       " 'CAM': 176.23084643693542,\n",
       " 'CB': 185.71169730881962,\n",
       " 'LW': 176.2215909090909,\n",
       " 'CDM': 179.51537216828478,\n",
       " 'RW': 175.8512396694215,\n",
       " 'CF': 178.8,\n",
       " 'RWB': 177.47457627118644,\n",
       " 'LWB': 177.835734870317,\n",
       " 'RM': 176.2451690821256,\n",
       " 'LB': 177.16881594372802,\n",
       " 'RB': 177.4249726177437,\n",
       " 'LM': 176.61040462427746}"
      ]
     },
     "execution_count": 71,
     "metadata": {},
     "output_type": "execute_result"
    }
   ],
   "source": [
    "# compute and store the answer in the variable 'positions_avg_height', then display it\n",
    "\n",
    "# BEGIN SOLUTION NO PROMPT\n",
    "positions_total_height = {}\n",
    "for player_id in players:\n",
    "    position = players[player_id]['Position']\n",
    "    height = players[player_id]['Height']\n",
    "    if position not in positions_total_height:\n",
    "        positions_total_height[position] = 0\n",
    "    positions_total_height[position] += height\n",
    "\n",
    "positions_avg_height = {}\n",
    "for position in positions_count:\n",
    "    positions_avg_height[position] = positions_total_height[position] /positions_count[position]\n",
    "    \n",
    "positions_avg_height\n",
    "# END SOLUTION"
   ]
  },
  {
   "cell_type": "code",
   "execution_count": null,
   "id": "10dcd2c1",
   "metadata": {
    "deletable": false,
    "editable": false
   },
   "outputs": [],
   "source": [
    "grader.check(\"q10\")"
   ]
  },
  {
   "cell_type": "markdown",
   "id": "90080f38",
   "metadata": {
    "deletable": false,
    "editable": false
   },
   "source": [
    "**Food for thought:** Notice that players at the position **GK** (Goalkeeper) tend to be the tallest by far, followed by players at the position **CB** (Center Back). Can you explain why this is the case? Also, notice that although the positions **CF** (Center Forward) and **ST** (Striker) appear very close to each other in the Position map, there is a significant difference in their average heights (and average ages). What does that tell you about the roles of the players at these positions?"
   ]
  },
  {
   "cell_type": "code",
   "execution_count": 77,
   "id": "e46dd69f",
   "metadata": {
    "deletable": true,
    "editable": true,
    "execution": {
     "iopub.execute_input": "2024-03-31T00:28:11.253972Z",
     "iopub.status.busy": "2024-03-31T00:28:11.253904Z",
     "iopub.status.idle": "2024-03-31T00:28:11.255303Z",
     "shell.execute_reply": "2024-03-31T00:28:11.255073Z"
    }
   },
   "outputs": [],
   "source": [
    "# Food for thought is an entirely OPTIONAL exercise\n",
    "# you may leave your thoughts here as a comment if you wish to\n"
   ]
  },
  {
   "cell_type": "markdown",
   "id": "7e56bc77",
   "metadata": {
    "deletable": false,
    "editable": false
   },
   "source": [
    "### Function 3: `average_stat_by_position(col_name)` \n",
    "\n",
    "This function must take in a `col_name` of a **numerical** column (such as `\"Age\"`, `\"Overall rating\"`, `\"Value\"`, `\"Wage\"`, `\"Attacking\"`, `\"Movement\"`, `\"Defending\"`, `\"Goalkeeping\"`, or `\"Height\"`), and then return a **dict** that maps **each** `Position` in the dataset to the **average** value under the `col_name` of all the players at that `Position`.\n",
    "\n",
    "You may assume that the values under the given `col_name` are always **numerical** (i.e., **int** or **float**).\n",
    "\n",
    "**Hint**: Recall that the dictionary `players` represents each player as a **dict**. So, if you wanted to extract a particular `stat` of a player, you can **index** directly **without looping** through the **dict**."
   ]
  },
  {
   "cell_type": "code",
   "execution_count": 78,
   "id": "ff8f05be",
   "metadata": {
    "deletable": true,
    "editable": true,
    "execution": {
     "iopub.execute_input": "2024-03-31T00:28:11.256553Z",
     "iopub.status.busy": "2024-03-31T00:28:11.256490Z",
     "iopub.status.idle": "2024-03-31T00:28:11.258568Z",
     "shell.execute_reply": "2024-03-31T00:28:11.258335Z"
    },
    "tags": [
     "otter_assign_solution_cell"
    ]
   },
   "outputs": [],
   "source": [
    "# define the `average_stat_by_position` function here\n",
    "\n",
    "# BEGIN SOLUTION NO PROMPT\n",
    "def average_stat_by_position(col_name):\n",
    "    position_total_count = {}\n",
    "    position_total_stat = {}\n",
    "    for player_id in players:\n",
    "        position = players[player_id]['Position']\n",
    "        player_stat = players[player_id][col_name]\n",
    "        if position not in position_total_count:\n",
    "            position_total_count[position] = 0\n",
    "            position_total_stat[position] = 0\n",
    "        position_total_count[position] += 1\n",
    "        position_total_stat[position] += player_stat\n",
    "    \n",
    "    position_avg_stat = {}\n",
    "    for position in position_total_count:\n",
    "        position_avg_stat[position] = position_total_stat[position]/position_total_count[position]\n",
    "    return position_avg_stat\n",
    "# END SOLUTION"
   ]
  },
  {
   "cell_type": "code",
   "execution_count": null,
   "id": "9ba37ada",
   "metadata": {
    "deletable": false,
    "editable": false
   },
   "outputs": [],
   "source": [
    "grader.check(\"average_stat_by_position\")"
   ]
  },
  {
   "cell_type": "markdown",
   "id": "ae0ebc78",
   "metadata": {
    "deletable": false,
    "editable": false
   },
   "source": [
    "**Question 11:** Find the **average** `Attacking` stat of players in **each** `Position`.\n",
    "\n",
    "Your output **must** be a **dict** that looks as follows:\n",
    "\n",
    "```python\n",
    "{'ST': 56.91590470057968,\n",
    " 'CM': 57.144198895027614,\n",
    " 'GK': 14.231291866028712,\n",
    " 'CAM': 55.41960521913692,\n",
    " 'CB': 44.39520383693046,\n",
    " ...\n",
    "}\n",
    "```\n",
    "\n",
    "You **must** use the `average_stat_by_position` function to answer this question."
   ]
  },
  {
   "cell_type": "code",
   "execution_count": 82,
   "id": "7cece562",
   "metadata": {
    "deletable": true,
    "editable": true,
    "execution": {
     "iopub.execute_input": "2024-03-31T00:28:11.409317Z",
     "iopub.status.busy": "2024-03-31T00:28:11.409251Z",
     "iopub.status.idle": "2024-03-31T00:28:11.415232Z",
     "shell.execute_reply": "2024-03-31T00:28:11.415015Z"
    },
    "tags": [
     "otter_assign_solution_cell"
    ]
   },
   "outputs": [
    {
     "data": {
      "text/plain": [
       "{'ST': 56.91590470057968,\n",
       " 'CM': 57.144198895027614,\n",
       " 'GK': 14.231291866028712,\n",
       " 'CAM': 55.41960521913692,\n",
       " 'CB': 44.39520383693046,\n",
       " 'LW': 59.661363636363646,\n",
       " 'CDM': 52.160355987055034,\n",
       " 'RW': 60.1942148760331,\n",
       " 'CF': 64.44571428571427,\n",
       " 'RWB': 49.95875706214689,\n",
       " 'LWB': 50.602881844380384,\n",
       " 'RM': 53.30845410628016,\n",
       " 'LB': 48.53200468933183,\n",
       " 'RB': 48.7139101861993,\n",
       " 'LM': 55.39606936416184}"
      ]
     },
     "execution_count": 82,
     "metadata": {},
     "output_type": "execute_result"
    }
   ],
   "source": [
    "# compute and store the answer in the variable 'positions_avg_attacking', then display it\n",
    "\n",
    "# BEGIN SOLUTION NO PROMPT\n",
    "positions_avg_attacking = average_stat_by_position('Attacking')\n",
    "    \n",
    "positions_avg_attacking\n",
    "# END SOLUTION"
   ]
  },
  {
   "cell_type": "code",
   "execution_count": null,
   "id": "8b086000",
   "metadata": {
    "deletable": false,
    "editable": false
   },
   "outputs": [],
   "source": [
    "grader.check(\"q11\")"
   ]
  },
  {
   "cell_type": "markdown",
   "id": "09466d72",
   "metadata": {
    "deletable": false,
    "editable": false
   },
   "source": [
    "**Food for thought:** Which positions have the highest average `Attacking` stat? Do you notice any anomalies? Notice that among the *Defenders*, the position **CB** (Center Back) has a significantly **lower** `Attacking` stat than other positions such as **LB** (Left Back), **RB** (Right Back), **LWB** (Left Wing Back), and **RWB** (Right Wing Back). Similarly, note that the **Midfield** position **CM** (Center Midfield) has a higher average than more offensive positions such as **CAM** (Center Attacking Midfield) and **ST** (Striker). Can you explain this?"
   ]
  },
  {
   "cell_type": "code",
   "execution_count": 85,
   "id": "a82649f7",
   "metadata": {
    "deletable": true,
    "editable": true,
    "execution": {
     "iopub.execute_input": "2024-03-31T00:28:11.469013Z",
     "iopub.status.busy": "2024-03-31T00:28:11.468945Z",
     "iopub.status.idle": "2024-03-31T00:28:11.470354Z",
     "shell.execute_reply": "2024-03-31T00:28:11.470120Z"
    }
   },
   "outputs": [],
   "source": [
    "# Food for thought is an entirely OPTIONAL exercise\n",
    "# you may leave your thoughts here as a comment if you wish to\n"
   ]
  },
  {
   "cell_type": "markdown",
   "id": "b804803e",
   "metadata": {
    "deletable": false,
    "editable": false
   },
   "source": [
    "**Question 12:** Find the **average** `Movement` stat of players in **each** `Position`.\n",
    "\n",
    "Your output **must** be a **dict** that looks as follows:\n",
    "\n",
    "```python\n",
    "{'ST': 64.69272376046356,\n",
    " 'CM': 65.40755064456725,\n",
    " 'GK': 38.48622009569376,\n",
    " 'CAM': 68.57209769153559,\n",
    " 'CB': 58.068052224886756,\n",
    " ...\n",
    "}\n",
    "```\n",
    "\n",
    "You **must** use the `average_stat_by_position` function to answer this question."
   ]
  },
  {
   "cell_type": "code",
   "execution_count": 86,
   "id": "f7437a58",
   "metadata": {
    "deletable": true,
    "editable": true,
    "execution": {
     "iopub.execute_input": "2024-03-31T00:28:11.471524Z",
     "iopub.status.busy": "2024-03-31T00:28:11.471461Z",
     "iopub.status.idle": "2024-03-31T00:28:11.477080Z",
     "shell.execute_reply": "2024-03-31T00:28:11.476870Z"
    },
    "tags": [
     "otter_assign_solution_cell"
    ]
   },
   "outputs": [
    {
     "data": {
      "text/plain": [
       "{'ST': 64.69272376046356,\n",
       " 'CM': 65.40755064456725,\n",
       " 'GK': 38.48622009569376,\n",
       " 'CAM': 68.57209769153559,\n",
       " 'CB': 58.068052224886756,\n",
       " 'LW': 74.05227272727275,\n",
       " 'CDM': 63.21504854368943,\n",
       " 'RW': 74.80165289256199,\n",
       " 'CF': 67.58571428571429,\n",
       " 'RWB': 69.53672316384178,\n",
       " 'LWB': 69.26051873198844,\n",
       " 'RM': 69.66328502415463,\n",
       " 'LB': 67.40093786635401,\n",
       " 'RB': 67.40679079956188,\n",
       " 'LM': 70.62543352601156}"
      ]
     },
     "execution_count": 86,
     "metadata": {},
     "output_type": "execute_result"
    }
   ],
   "source": [
    "# compute and store the answer in the variable 'positions_avg_movement', then display it\n",
    "\n",
    "# BEGIN SOLUTION NO PROMPT\n",
    "positions_avg_movement = average_stat_by_position('Movement')\n",
    "    \n",
    "positions_avg_movement\n",
    "# END SOLUTION"
   ]
  },
  {
   "cell_type": "code",
   "execution_count": null,
   "id": "12e34d6d",
   "metadata": {
    "deletable": false,
    "editable": false
   },
   "outputs": [],
   "source": [
    "grader.check(\"q12\")"
   ]
  },
  {
   "cell_type": "markdown",
   "id": "35d2e2fc",
   "metadata": {
    "deletable": false,
    "editable": false
   },
   "source": [
    "**Food for thought:** Which positions have the highest average `Movement` stat? Notice that the players on the wings have higher `Movement` on average than players in the center of the field. Can you explain this? Do you notice any **correlations** between the `Movement` and another statistic that we have already looked at? If so, can you explain why that **correlation** exists?"
   ]
  },
  {
   "cell_type": "code",
   "execution_count": 89,
   "id": "d6cbf4e3",
   "metadata": {
    "deletable": true,
    "editable": true,
    "execution": {
     "iopub.execute_input": "2024-03-31T00:28:11.530837Z",
     "iopub.status.busy": "2024-03-31T00:28:11.530770Z",
     "iopub.status.idle": "2024-03-31T00:28:11.532175Z",
     "shell.execute_reply": "2024-03-31T00:28:11.531944Z"
    }
   },
   "outputs": [],
   "source": [
    "# Food for thought is an entirely OPTIONAL exercise\n",
    "# you may leave your thoughts here as a comment if you wish to\n"
   ]
  },
  {
   "cell_type": "markdown",
   "id": "52f4b61e",
   "metadata": {
    "deletable": false,
    "editable": false
   },
   "source": [
    "**Question 13:** **Which** `Position` has the **highest** `Defending` stat on **average**?\n",
    "\n",
    "Your output **must** be a **string** that represents the `Position` with the **highest** `Defending` stat. You do **not** have to worry about breaking any ties. There is a **unique** `Position` with the **highest** `Defending` stat.\n",
    "\n",
    "You **must** use the `average_stat_by_position` function to answer this question."
   ]
  },
  {
   "cell_type": "code",
   "execution_count": 90,
   "id": "981fe285",
   "metadata": {
    "deletable": true,
    "editable": true,
    "execution": {
     "iopub.execute_input": "2024-03-31T00:28:11.533399Z",
     "iopub.status.busy": "2024-03-31T00:28:11.533335Z",
     "iopub.status.idle": "2024-03-31T00:28:11.539118Z",
     "shell.execute_reply": "2024-03-31T00:28:11.538893Z"
    },
    "tags": [
     "otter_assign_solution_cell"
    ]
   },
   "outputs": [
    {
     "data": {
      "text/plain": [
       "'CB'"
      ]
     },
     "execution_count": 90,
     "metadata": {},
     "output_type": "execute_result"
    }
   ],
   "source": [
    "# compute and store the answer in the variable 'best_defending_position', then display it\n",
    "\n",
    "# BEGIN SOLUTION NO PROMPT\n",
    "positions_avg_defending = average_stat_by_position('Defending')\n",
    "\n",
    "best_defending_position = None\n",
    "for position in positions_avg_defending:\n",
    "    if best_defending_position == None or positions_avg_defending[position] > positions_avg_defending[best_defending_position]:\n",
    "        best_defending_position = position\n",
    "    \n",
    "best_defending_position\n",
    "# END SOLUTION"
   ]
  },
  {
   "cell_type": "code",
   "execution_count": null,
   "id": "36e3a23e",
   "metadata": {
    "deletable": false,
    "editable": false
   },
   "outputs": [],
   "source": [
    "grader.check(\"q13\")"
   ]
  },
  {
   "cell_type": "markdown",
   "id": "23befaa1",
   "metadata": {
    "deletable": false,
    "editable": false
   },
   "source": [
    "### Forming Teams\n",
    "\n",
    "For the rest of this project, we will attempt to construct **teams** for the various teams in our dataset.\n",
    "\n",
    "To start with, it would be useful to identify the **best** player at any given `Position` for a `Team`. We could get more fancy here, by using a stat such as `Defending`, or perhaps a combination of stats such as `Defending`, `Movement`, and `Height` to identify the **best** *CB*, and use stats such as `Attacking` to identify the **best** *CF*.\n",
    "\n",
    "However, we will keep it **simple** here, and just use the `Overall rating` to determine the **best** players."
   ]
  },
  {
   "cell_type": "markdown",
   "id": "d7fc192a",
   "metadata": {
    "deletable": false,
    "editable": false
   },
   "source": [
    "### Function 4: `best_player_of_team_at_position(position, team)` \n",
    "\n",
    "This function must take in a `position` as well as a `team` and then return the `ID` of the player who plays for the given `team`, and has the **highest** `Overall rating` among **all other players** who play at that `position` for the same `team`.\n",
    "\n",
    "In case two players are **tied** with the **same** `Overall rating`, the ties **must** be broken in favor of the player with the **smaller** `ID`.\n",
    "\n",
    "In case there are **no** players who play at the given `position` for the given `team`, then the function **must** return `None`.\n",
    "\n",
    "**Note**: It is important to find the `ID` of the best player, and **not** something like their `Name`. This is because if we have the `ID`, we can then use the `players` **dict** to extract **all** statistics about the player."
   ]
  },
  {
   "cell_type": "code",
   "execution_count": 95,
   "id": "858a9a52",
   "metadata": {
    "deletable": true,
    "editable": true,
    "execution": {
     "iopub.execute_input": "2024-03-31T00:28:11.693087Z",
     "iopub.status.busy": "2024-03-31T00:28:11.693015Z",
     "iopub.status.idle": "2024-03-31T00:28:11.695001Z",
     "shell.execute_reply": "2024-03-31T00:28:11.694798Z"
    },
    "tags": [
     "otter_assign_solution_cell"
    ]
   },
   "outputs": [],
   "source": [
    "# define the `best_player_of_team_at_position` function here\n",
    "\n",
    "# BEGIN SOLUTION NO PROMPT\n",
    "def best_player_of_team_at_position(position, team):\n",
    "    best_player = None\n",
    "    for player_id in players:\n",
    "        player = players[player_id]\n",
    "        if player['Position'] != position or player['Team'] != team:\n",
    "            continue\n",
    "        if best_player == None or player['Overall rating'] > players[best_player]['Overall rating']:\n",
    "            best_player = player_id\n",
    "        elif player['Overall rating'] == players[best_player]['Overall rating'] and player_id < best_player:\n",
    "            best_player = player_id\n",
    "    return best_player\n",
    "# END SOLUTION"
   ]
  },
  {
   "cell_type": "code",
   "execution_count": null,
   "id": "9ba08b9b",
   "metadata": {
    "deletable": false,
    "editable": false
   },
   "outputs": [],
   "source": [
    "grader.check(\"best_player_of_team_at_position\")"
   ]
  },
  {
   "cell_type": "markdown",
   "id": "2aea96ee",
   "metadata": {
    "deletable": false,
    "editable": false
   },
   "source": [
    "**Question 14:** **What** is the `ID` of the **best** (highest `Overall rating`) player at `Position` *CDM* for the `team` *Manchester United*?\n",
    "\n",
    "You **must** use the `best_player_of_team_at_position` function to answer this question."
   ]
  },
  {
   "cell_type": "code",
   "execution_count": 100,
   "id": "0f0246c3",
   "metadata": {
    "deletable": true,
    "editable": true,
    "execution": {
     "iopub.execute_input": "2024-03-31T00:28:11.902804Z",
     "iopub.status.busy": "2024-03-31T00:28:11.902741Z",
     "iopub.status.idle": "2024-03-31T00:28:11.906981Z",
     "shell.execute_reply": "2024-03-31T00:28:11.906759Z"
    },
    "tags": [
     "otter_assign_solution_cell"
    ]
   },
   "outputs": [
    {
     "data": {
      "text/plain": [
       "200145"
      ]
     },
     "execution_count": 100,
     "metadata": {},
     "output_type": "execute_result"
    }
   ],
   "source": [
    "# compute and store the answer in the variable 'best_cdm_man_utd_id', then display it\n",
    "\n",
    "# BEGIN SOLUTION NO PROMPT\n",
    "best_cdm_man_utd_id = best_player_of_team_at_position('CDM', 'Manchester United')\n",
    "\n",
    "best_cdm_man_utd_id\n",
    "# END SOLUTION"
   ]
  },
  {
   "cell_type": "code",
   "execution_count": null,
   "id": "9d1b8673",
   "metadata": {
    "deletable": false,
    "editable": false
   },
   "outputs": [],
   "source": [
    "grader.check(\"q14\")"
   ]
  },
  {
   "cell_type": "markdown",
   "id": "48f3d3e2",
   "metadata": {
    "deletable": false,
    "editable": false
   },
   "source": [
    "**Question 15:** **What** are the statistics of the **best** (highest `Overall rating`) player at `Position` *RW* for the `team` *Liverpool*?\n",
    "\n",
    "You **must** use the `best_player_of_team_at_position` function to answer this question."
   ]
  },
  {
   "cell_type": "code",
   "execution_count": 103,
   "id": "04689ffb",
   "metadata": {
    "deletable": true,
    "editable": true,
    "execution": {
     "iopub.execute_input": "2024-03-31T00:28:11.989987Z",
     "iopub.status.busy": "2024-03-31T00:28:11.989908Z",
     "iopub.status.idle": "2024-03-31T00:28:11.994447Z",
     "shell.execute_reply": "2024-03-31T00:28:11.994231Z"
    },
    "tags": [
     "otter_assign_solution_cell"
    ]
   },
   "outputs": [
    {
     "data": {
      "text/plain": [
       "{'ID': 209331,\n",
       " 'Name': 'M. Salah',\n",
       " 'Age': 31,\n",
       " 'Nationality': 'Egypt',\n",
       " 'Team': 'Liverpool',\n",
       " 'League': 'Premier League (England)',\n",
       " 'Value': 85500000,\n",
       " 'Wage': 260000,\n",
       " 'Attacking': 79.8,\n",
       " 'Movement': 90.2,\n",
       " 'Defending': 40.7,\n",
       " 'Goalkeeping': 12.4,\n",
       " 'Overall rating': 89,\n",
       " 'Position': 'RW',\n",
       " 'Height': 175,\n",
       " 'Preferred foot': 'Left'}"
      ]
     },
     "execution_count": 103,
     "metadata": {},
     "output_type": "execute_result"
    }
   ],
   "source": [
    "# compute and store the answer in the variable 'best_rw_liverpool', then display it\n",
    "\n",
    "# BEGIN SOLUTION NO PROMPT\n",
    "best_rw_liverpool = players[best_player_of_team_at_position('RW', 'Liverpool')]\n",
    "\n",
    "best_rw_liverpool\n",
    "# END SOLUTION"
   ]
  },
  {
   "cell_type": "code",
   "execution_count": null,
   "id": "47eca551",
   "metadata": {
    "deletable": false,
    "editable": false
   },
   "outputs": [],
   "source": [
    "grader.check(\"q15\")"
   ]
  },
  {
   "cell_type": "markdown",
   "id": "bf15f0f1",
   "metadata": {
    "deletable": false,
    "editable": false
   },
   "source": [
    "### Forming Teams\n",
    "\n",
    "Every team would like to **start** their games with their **best** players on the field at each position. Now that we have a function for finding the **best** player at any `Position`, we can use it identify the **best** player at **each** `Position` for any `Team`.\n",
    "\n",
    "There are a few problems with this approach. For a start, *most* teams will **not** have players for **each** `Position`. For example, a team which uses a *Striker* (**ST**) might not need a *Center Forward* (**CF**) as well. Alternately, a team might play **two** *Center Midfielders* (**CM**) and **not** use any *Right Midfielders* (**RM**) or *Left Midfielders* (**LM**) at all.\n",
    "\n",
    "For now, we will not deal with these complexities. We will simply pick the **best** player for **each** `Position`, to form a team. We also won't concern ourselves with **how many** players are picked in total."
   ]
  },
  {
   "cell_type": "markdown",
   "id": "8618ece2",
   "metadata": {
    "deletable": false,
    "editable": false
   },
   "source": [
    "### Function 5: `best_starting_players_of(team)` \n",
    "\n",
    "This function must take in a `team` and return a **dict** mapping each `Position` to the `ID` of the **best player** (i.e., player with the **highest** `Overall`) at that `Position` for the given `team`.\n",
    "\n",
    "In the case where two players are **tied** with the **same** `Overall rating`, the ties **must** be broken in favor of the player with the **smaller** `ID`.\n",
    "\n",
    "In the case where there are **no** players who play at a particular `Position` for the given `team`, the `Position` must **not** appear as a **key** in the **dictionary**."
   ]
  },
  {
   "cell_type": "code",
   "execution_count": 107,
   "id": "850866d7",
   "metadata": {
    "deletable": true,
    "editable": true,
    "execution": {
     "iopub.execute_input": "2024-03-31T00:28:12.098268Z",
     "iopub.status.busy": "2024-03-31T00:28:12.098202Z",
     "iopub.status.idle": "2024-03-31T00:28:12.102926Z",
     "shell.execute_reply": "2024-03-31T00:28:12.102711Z"
    },
    "tags": [
     "otter_assign_solution_cell"
    ]
   },
   "outputs": [],
   "source": [
    "# define the `best_starting_players_of` function here\n",
    "\n",
    "# BEGIN SOLUTION NO PROMPT\n",
    "positions = set()\n",
    "for player_id in players:\n",
    "    positions.add(players[player_id]['Position'])\n",
    "    \n",
    "def best_starting_players_of(team):\n",
    "    starters = {}\n",
    "    for position in positions:\n",
    "        player_at_position = best_player_of_team_at_position(position, team)\n",
    "        if player_at_position != None:\n",
    "            starters[position] = player_at_position\n",
    "    \n",
    "    return starters\n",
    "# END SOLUTION"
   ]
  },
  {
   "cell_type": "code",
   "execution_count": null,
   "id": "342fa5cb",
   "metadata": {
    "deletable": false,
    "editable": false
   },
   "outputs": [],
   "source": [
    "grader.check(\"best_starting_players_of\")"
   ]
  },
  {
   "cell_type": "markdown",
   "id": "cc243d9b",
   "metadata": {
    "deletable": false,
    "editable": false
   },
   "source": [
    "**Question 16:** **Who** are the **best starting players** of the `Team` *Paris Saint Germain*?\n",
    "\n",
    "Your output **must** be a **dict** that maps each `Position` for which *Paris Saint Germain* has a player to the `ID` of the **best** player (i.e., **highest** `Overall rating`) they have at that position.\n",
    "\n",
    "Your output **must** be a **dict** that looks as follows:\n",
    "\n",
    "```python\n",
    "{'LW': 264652,\n",
    " 'RB': 235212,\n",
    " 'LM': 70004,\n",
    " 'CB': 207865,\n",
    " 'CM': 199556,\n",
    " 'ST': 231747,\n",
    " 'CDM': 253306,\n",
    " 'LB': 220814,\n",
    " 'RW': 231443,\n",
    " 'GK': 230621,\n",
    " 'CAM': 201400}\n",
    "```\n",
    "\n",
    "You **must** use the `best_starting_players_of` function to answer this question."
   ]
  },
  {
   "cell_type": "code",
   "execution_count": 112,
   "id": "519781ef",
   "metadata": {
    "deletable": true,
    "editable": true,
    "execution": {
     "iopub.execute_input": "2024-03-31T00:28:12.303887Z",
     "iopub.status.busy": "2024-03-31T00:28:12.303825Z",
     "iopub.status.idle": "2024-03-31T00:28:12.325904Z",
     "shell.execute_reply": "2024-03-31T00:28:12.325664Z"
    },
    "tags": [
     "otter_assign_solution_cell"
    ]
   },
   "outputs": [
    {
     "data": {
      "text/plain": [
       "{'RW': 231443,\n",
       " 'LB': 220814,\n",
       " 'CAM': 201400,\n",
       " 'GK': 230621,\n",
       " 'ST': 231747,\n",
       " 'CDM': 253306,\n",
       " 'CB': 207865,\n",
       " 'LM': 70004,\n",
       " 'CM': 199556,\n",
       " 'LW': 264652,\n",
       " 'RB': 235212}"
      ]
     },
     "execution_count": 112,
     "metadata": {},
     "output_type": "execute_result"
    }
   ],
   "source": [
    "# compute and store the answer in the variable 'best_starters_of_psg', then display it\n",
    "\n",
    "# BEGIN SOLUTION NO PROMPT\n",
    "best_starters_of_psg = best_starting_players_of('Paris Saint Germain')\n",
    "\n",
    "best_starters_of_psg\n",
    "# END SOLUTION"
   ]
  },
  {
   "cell_type": "code",
   "execution_count": null,
   "id": "62e462ed",
   "metadata": {
    "deletable": false,
    "editable": false
   },
   "outputs": [],
   "source": [
    "grader.check(\"q16\")"
   ]
  },
  {
   "cell_type": "markdown",
   "id": "cc899619",
   "metadata": {
    "deletable": false,
    "editable": false
   },
   "source": [
    "**Question 17:** **What** are the names (`Name`) of the **best starting players** of the `Team` *FC Bayern München*?\n",
    "\n",
    "Your output **must** be a **dict** that maps each `Position` for which *FC Bayern München* has a player to the `Name` of the **best** player (i.e., **highest** `Overall rating`) they have at that position.\n",
    "\n",
    "Your output **must** be a **dict** that looks as follows:\n",
    "\n",
    "```python\n",
    "'CAM': 'J. Musiala',\n",
    " 'CB': 'M. de Ligt',\n",
    " 'LM': 'K. Coman',\n",
    " 'RM': 'L. Sané',\n",
    " 'LWB': 'A. Aznou',\n",
    " 'RW': 'B. Sarr',\n",
    " 'RB': 'S. Boey',\n",
    " 'GK': 'M. Neuer',\n",
    " 'RWB': 'P. Lahm',\n",
    " 'CM': 'L. Goretzka',\n",
    " 'ST': 'H. Kane',\n",
    " 'CDM': 'J. Kimmich'\n",
    "```\n",
    "\n",
    "You **must** use the `best_starting_players_of` function to answer this question.\n",
    "\n",
    "**Note**: If you cannot type the characters of the team's name using your keyboard, you can just copy/paste it from the question above."
   ]
  },
  {
   "cell_type": "code",
   "execution_count": 115,
   "id": "ff942123",
   "metadata": {
    "deletable": true,
    "editable": true,
    "execution": {
     "iopub.execute_input": "2024-03-31T00:28:12.380078Z",
     "iopub.status.busy": "2024-03-31T00:28:12.380014Z",
     "iopub.status.idle": "2024-03-31T00:28:12.401166Z",
     "shell.execute_reply": "2024-03-31T00:28:12.400921Z"
    },
    "tags": [
     "otter_assign_solution_cell"
    ]
   },
   "outputs": [
    {
     "data": {
      "text/plain": [
       "{'RW': 'B. Sarr',\n",
       " 'CAM': 'J. Musiala',\n",
       " 'GK': 'M. Neuer',\n",
       " 'ST': 'H. Kane',\n",
       " 'CDM': 'J. Kimmich',\n",
       " 'RM': 'L. Sané',\n",
       " 'CB': 'M. de Ligt',\n",
       " 'LM': 'K. Coman',\n",
       " 'CM': 'L. Goretzka',\n",
       " 'LWB': 'A. Aznou',\n",
       " 'RB': 'S. Boey',\n",
       " 'RWB': 'P. Lahm'}"
      ]
     },
     "execution_count": 115,
     "metadata": {},
     "output_type": "execute_result"
    }
   ],
   "source": [
    "# compute and store the answer in the variable 'best_starters_of_bayern', then display it\n",
    "\n",
    "# BEGIN SOLUTION NO PROMPT\n",
    "best_starters_of_bayern_ids = best_starting_players_of('FC Bayern München')\n",
    "best_starters_of_bayern = {}\n",
    "for position in best_starters_of_bayern_ids:\n",
    "    best_starters_of_bayern[position] = players[best_starters_of_bayern_ids[position]]['Name']\n",
    "\n",
    "best_starters_of_bayern\n",
    "# END SOLUTION"
   ]
  },
  {
   "cell_type": "code",
   "execution_count": null,
   "id": "39e4ad70",
   "metadata": {
    "deletable": false,
    "editable": false
   },
   "outputs": [],
   "source": [
    "grader.check(\"q17\")"
   ]
  },
  {
   "cell_type": "markdown",
   "id": "7d97507a",
   "metadata": {
    "deletable": false,
    "editable": false
   },
   "source": [
    "**Question 18:** What is the **cumulative** `Value` of the **bench** of the `Team` *FC Barcelona*?\n",
    "\n",
    "The **bench** refers to the players in the squad of the team (i.e., players whose `Team` is *FC Barcelona*), who are **not** one of the **best starting players**. The **cumulative** `Value` refers to the **sum** of the `Value` of **all** the players on the **bench**.\n",
    "\n",
    "**Hint**: You can use the `best_starting_players_of` function to identify the **best starting players** of *FC Barcelona*, and then identify all the players from that team, who are **not** among its best starting players."
   ]
  },
  {
   "cell_type": "code",
   "execution_count": 121,
   "id": "c07e5c15",
   "metadata": {
    "deletable": true,
    "editable": true,
    "execution": {
     "iopub.execute_input": "2024-03-31T00:28:12.603997Z",
     "iopub.status.busy": "2024-03-31T00:28:12.603937Z",
     "iopub.status.idle": "2024-03-31T00:28:12.628672Z",
     "shell.execute_reply": "2024-03-31T00:28:12.628414Z"
    },
    "tags": [
     "otter_assign_solution_cell"
    ]
   },
   "outputs": [
    {
     "data": {
      "text/plain": [
       "545425000"
      ]
     },
     "execution_count": 121,
     "metadata": {},
     "output_type": "execute_result"
    }
   ],
   "source": [
    "# compute and store the answer in the variable 'bench_value_barcelona', then display it\n",
    "\n",
    "# BEGIN SOLUTION NO PROMPT\n",
    "best_starters_of_barcelona = list(best_starting_players_of('FC Barcelona').values())\n",
    "\n",
    "bench_value_barcelona = 0\n",
    "for player_id in players:\n",
    "    player = players[player_id]\n",
    "    if player['Team'] == 'FC Barcelona' and player_id not in best_starters_of_barcelona:\n",
    "        bench_value_barcelona += player['Value']\n",
    "        \n",
    "bench_value_barcelona\n",
    "# END SOLUTION"
   ]
  },
  {
   "cell_type": "code",
   "execution_count": null,
   "id": "fb8c8792",
   "metadata": {
    "deletable": false,
    "editable": false
   },
   "outputs": [],
   "source": [
    "grader.check(\"q18\")"
   ]
  },
  {
   "cell_type": "markdown",
   "id": "fa800eff",
   "metadata": {
    "deletable": false,
    "editable": false
   },
   "source": [
    "**Question 19:** **Find** the **average** `Attacking` stat of the **best starting players** for **each** `Team` in the `League` *Premier League (England)*.\n",
    "\n",
    "Your output **must** be a **dict** that maps **each** `Team` in the `League` *Premier League (England)* to the **sum** of `Attacking` stats of all the **best starting players** of that `Team` **divided** by the **number** of **best starting players** of that `Team`.\n",
    "\n",
    "Recall that you already made a **list** of all the teams in *Premier League (England)* to answer **Question 5**. You can loop through that **list** instead of computing the teams in *Premier League (England)* again, or looping unnecessarily over a larger data structure.\n",
    "\n",
    "**Hint**: You can loop through all the teams in the given league, find the **best starting players** of **each** team, then have a nested loop to find the **average** of the `Attacking` stat of all the **best starting players** of that team."
   ]
  },
  {
   "cell_type": "code",
   "execution_count": 127,
   "id": "601151b8",
   "metadata": {
    "deletable": true,
    "editable": true,
    "execution": {
     "iopub.execute_input": "2024-03-31T00:28:12.865100Z",
     "iopub.status.busy": "2024-03-31T00:28:12.865028Z",
     "iopub.status.idle": "2024-03-31T00:28:13.216726Z",
     "shell.execute_reply": "2024-03-31T00:28:13.216491Z"
    },
    "tags": [
     "otter_assign_solution_cell"
    ]
   },
   "outputs": [
    {
     "data": {
      "text/plain": [
       "{'Newcastle United': 59.828571428571436,\n",
       " 'Wolverhampton Wanderers': 59.69090909090908,\n",
       " 'Nottingham Forest': 59.15,\n",
       " 'Tottenham Hotspur': 65.7818181818182,\n",
       " 'Luton Town': 55.89090909090908,\n",
       " 'AFC Bournemouth': 59.1090909090909,\n",
       " 'Liverpool': 64.87142857142857,\n",
       " 'Brentford': 60.199999999999996,\n",
       " 'Aston Villa': 63.96,\n",
       " 'Everton': 57.32307692307692,\n",
       " 'Crystal Palace': 57.25999999999999,\n",
       " 'Sheffield United': 54.67999999999999,\n",
       " 'West Ham United': 64.5,\n",
       " 'Manchester City': 64.82222222222222,\n",
       " 'Arsenal': 63.1090909090909,\n",
       " 'Fulham': 55.739999999999995,\n",
       " 'Brighton & Hove Albion': 61.16363636363636,\n",
       " 'Chelsea': 62.8888888888889,\n",
       " 'Manchester United': 64.56923076923077,\n",
       " 'Burnley': 55.02}"
      ]
     },
     "execution_count": 127,
     "metadata": {},
     "output_type": "execute_result"
    }
   ],
   "source": [
    "# compute and store the answer in the variable 'avg_attacking_prem_league', then display it\n",
    "\n",
    "# BEGIN SOLUTION NO PROMPT\n",
    "avg_attacking_prem_league = {}\n",
    "\n",
    "for team in premier_league_teams:\n",
    "    avg_attacking_prem_league[team] = 0\n",
    "    best_starters = best_starting_players_of(team)\n",
    "    for position in best_starters:\n",
    "        avg_attacking_prem_league[team] += players[best_starters[position]]['Attacking']\n",
    "    avg_attacking_prem_league[team] = avg_attacking_prem_league[team]/len(best_starters)\n",
    "        \n",
    "avg_attacking_prem_league\n",
    "# END SOLUTION"
   ]
  },
  {
   "cell_type": "code",
   "execution_count": null,
   "id": "e4adef1f",
   "metadata": {
    "deletable": false,
    "editable": false
   },
   "outputs": [],
   "source": [
    "grader.check(\"q19\")"
   ]
  },
  {
   "cell_type": "markdown",
   "id": "c51bb7a0",
   "metadata": {
    "deletable": false,
    "editable": false
   },
   "source": [
    "**Question 20:** **Which** `Team` in the `League` *Premier League (England)*  has the **highest** **average** `Attacking` stat among its **best starting players**?\n",
    "\n",
    "You do **not** have to worry about breaking any ties. There is a **unique** `Team` whose **best starting players** have the **highest** **average** `Attacking` stat.\n",
    "\n",
    "You **must** **not** recompute the **average** `Attacking` stat of the **best starting players** of all teams in the *Premier League (England)*. Instead, use the dictionary that you have already computed to answer this question."
   ]
  },
  {
   "cell_type": "code",
   "execution_count": 134,
   "id": "4aafaca9",
   "metadata": {
    "deletable": true,
    "editable": true,
    "execution": {
     "iopub.execute_input": "2024-03-31T00:28:13.468979Z",
     "iopub.status.busy": "2024-03-31T00:28:13.468919Z",
     "iopub.status.idle": "2024-03-31T00:28:13.471069Z",
     "shell.execute_reply": "2024-03-31T00:28:13.470849Z"
    },
    "tags": [
     "otter_assign_solution_cell"
    ]
   },
   "outputs": [
    {
     "data": {
      "text/plain": [
       "'Tottenham Hotspur'"
      ]
     },
     "execution_count": 134,
     "metadata": {},
     "output_type": "execute_result"
    }
   ],
   "source": [
    "# compute and store the answer in the variable 'best_attackers_prem_league', then display it\n",
    "\n",
    "# BEGIN SOLUTION NO PROMPT\n",
    "best_attackers_prem_league = None\n",
    "\n",
    "for team in avg_attacking_prem_league:\n",
    "    if best_attackers_prem_league == None or avg_attacking_prem_league[team] > avg_attacking_prem_league[best_attackers_prem_league]:\n",
    "        best_attackers_prem_league = team\n",
    "        \n",
    "best_attackers_prem_league\n",
    "# END SOLUTION"
   ]
  },
  {
   "cell_type": "code",
   "execution_count": null,
   "id": "df72ff78",
   "metadata": {
    "deletable": false,
    "editable": false
   },
   "outputs": [],
   "source": [
    "grader.check(\"q20\")"
   ]
  },
  {
   "cell_type": "code",
   "execution_count": null,
   "id": "ca5e96c5",
   "metadata": {
    "deletable": false,
    "editable": false
   },
   "outputs": [],
   "source": [
    "grader.check(\"general_deductions\")"
   ]
  },
  {
   "cell_type": "code",
   "execution_count": null,
   "id": "58ad3cb8",
   "metadata": {
    "deletable": false,
    "editable": false
   },
   "outputs": [],
   "source": [
    "grader.check(\"summary\")"
   ]
  },
  {
   "cell_type": "markdown",
   "id": "ac6aeca5",
   "metadata": {
    "deletable": false,
    "editable": false
   },
   "source": [
    "## Submission\n",
    "It is recommended that at this stage, you Restart and Run all Cells in your notebook.\n",
    "That will automatically save your work and generate a zip file for you to submit.\n",
    "\n",
    "**SUBMISSION INSTRUCTIONS**:\n",
    "1. **Upload** the zipfile to Gradescope.\n",
    "2. If you completed the project with a **partner**, make sure to **add their name** by clicking \"Add Group Member\"\n",
    "in Gradescope when uploading the zip file.\n",
    "3. Check **Gradescope** results as soon as the auto-grader execution gets completed.\n",
    "4. Your **final score** for this project is the score that you see on **Gradescope**.\n",
    "5. You are **allowed** to resubmit on Gradescope as many times as you want to.\n",
    "6. **Contact** a TA/PM if you lose any points on Gradescope for any **unclear reasons**."
   ]
  },
  {
   "cell_type": "code",
   "execution_count": null,
   "id": "ba4e38fe",
   "metadata": {
    "cell_type": "code",
    "deletable": false,
    "editable": false
   },
   "outputs": [],
   "source": [
    "# running this cell will create a new save checkpoint for your notebook\n",
    "from IPython.display import display, Javascript\n",
    "display(Javascript('IPython.notebook.save_checkpoint();'))"
   ]
  },
  {
   "cell_type": "code",
   "execution_count": null,
   "id": "7b0286a9",
   "metadata": {
    "cell_type": "code",
    "deletable": false,
    "editable": false
   },
   "outputs": [],
   "source": [
    "!jupytext --to py p7.ipynb"
   ]
  },
  {
   "cell_type": "code",
   "execution_count": null,
   "id": "8da2cd96",
   "metadata": {
    "deletable": false,
    "editable": false
   },
   "outputs": [],
   "source": [
    "grader.export(pdf=False, run_tests=False, files=[\"p7.py\"])"
   ]
  },
  {
   "cell_type": "markdown",
   "id": "19f103b2",
   "metadata": {
    "deletable": false,
    "editable": false
   },
   "source": [
    " "
   ]
  }
 ],
 "metadata": {
  "kernelspec": {
   "display_name": "Python 3 (ipykernel)",
   "language": "python",
   "name": "python3"
  },
  "language_info": {
   "codemirror_mode": {
    "name": "ipython",
    "version": 3
   },
   "file_extension": ".py",
   "mimetype": "text/x-python",
   "name": "python",
   "nbconvert_exporter": "python",
   "pygments_lexer": "ipython3",
   "version": "3.11.2"
  },
  "otter": {
   "OK_FORMAT": true,
   "tests": {
    "average_stat_by_position": {
     "name": "average_stat_by_position",
     "points": 0,
     "suites": [
      {
       "cases": [
        {
         "code": ">>> \n>>> public_tests.rubric_check('average_stat_by_position: function logic is incorrect')\nAll test cases passed!\n",
         "hidden": false,
         "locked": false,
         "success_message": "Note that the Gradescope autograder will deduct points if your code fails the following rubric point - 'function logic is incorrect (-2)'.The public tests cannot determine if your code satisfies these requirements. Verify your code manually."
        },
        {
         "code": ">>> \n>>> public_tests.rubric_check('average_stat_by_position: function only works for certain numerical columns')\nAll test cases passed!\n",
         "hidden": false,
         "locked": false,
         "success_message": "Note that the Gradescope autograder will deduct points if your code fails the following rubric point - 'function only works for certain numerical columns (-1)'.The public tests cannot determine if your code satisfies these requirements. Verify your code manually."
        },
        {
         "code": ">>> \n>>> public_tests.rubric_check('average_stat_by_position: `players` data structure is not used to read data')\nAll test cases passed!\n",
         "hidden": false,
         "locked": false,
         "success_message": "Note that the Gradescope autograder will deduct points if your code fails the following rubric point - '`players` data structure is not used to read data (-1)'.The public tests cannot determine if your code satisfies these requirements. Verify your code manually."
        }
       ],
       "scored": true,
       "setup": "",
       "teardown": "",
       "type": "doctest"
      }
     ]
    },
    "best_player_of_team_at_position": {
     "name": "best_player_of_team_at_position",
     "points": 0,
     "suites": [
      {
       "cases": [
        {
         "code": ">>> \n>>> public_tests.rubric_check('best_player_of_team_at_position: function logic is incorrect when there is a unique best player of the `team` at `position`')\nAll test cases passed!\n",
         "hidden": false,
         "locked": false,
         "success_message": "Note that the Gradescope autograder will deduct points if your code fails the following rubric point - 'function logic is incorrect when there is a unique best player of the `team` at `position` (-2)'.The public tests cannot determine if your code satisfies these requirements. Verify your code manually."
        },
        {
         "code": ">>> \n>>> public_tests.rubric_check('best_player_of_team_at_position: function logic is incorrect when there are multiple players tied for best player of the `team` at `position`')\nAll test cases passed!\n",
         "hidden": false,
         "locked": false,
         "success_message": "Note that the Gradescope autograder will deduct points if your code fails the following rubric point - 'function logic is incorrect when there are multiple players tied for best player of the `team` at `position` (-1)'.The public tests cannot determine if your code satisfies these requirements. Verify your code manually."
        },
        {
         "code": ">>> \n>>> public_tests.rubric_check('best_player_of_team_at_position: function logic is incorrect when there are no players of the `team` at `position`')\nAll test cases passed!\n",
         "hidden": false,
         "locked": false,
         "success_message": "Note that the Gradescope autograder will deduct points if your code fails the following rubric point - 'function logic is incorrect when there are no players of the `team` at `position` (-1)'.The public tests cannot determine if your code satisfies these requirements. Verify your code manually."
        },
        {
         "code": ">>> \n>>> public_tests.rubric_check('best_player_of_team_at_position: `players` data structure is not used to read data')\nAll test cases passed!\n",
         "hidden": false,
         "locked": false,
         "success_message": "Note that the Gradescope autograder will deduct points if your code fails the following rubric point - '`players` data structure is not used to read data (-1)'.The public tests cannot determine if your code satisfies these requirements. Verify your code manually."
        }
       ],
       "scored": true,
       "setup": "",
       "teardown": "",
       "type": "doctest"
      }
     ]
    },
    "best_starting_players_of": {
     "name": "best_starting_players_of",
     "points": 0,
     "suites": [
      {
       "cases": [
        {
         "code": ">>> \n>>> public_tests.rubric_check('best_starting_players_of: function logic is incorrect')\nAll test cases passed!\n",
         "hidden": false,
         "locked": false,
         "success_message": "Note that the Gradescope autograder will deduct points if your code fails the following rubric point - 'function logic is incorrect (-2)'.The public tests cannot determine if your code satisfies these requirements. Verify your code manually."
        },
        {
         "code": ">>> \n>>> public_tests.rubric_check('best_starting_players_of: all positions are looped through instead of just the unique positions')\nAll test cases passed!\n",
         "hidden": false,
         "locked": false,
         "success_message": "Note that the Gradescope autograder will deduct points if your code fails the following rubric point - 'all positions are looped through instead of just the unique positions (-1)'.The public tests cannot determine if your code satisfies these requirements. Verify your code manually."
        },
        {
         "code": ">>> \n>>> public_tests.rubric_check('best_starting_players_of: `best_player_of_team_at_position` function is not used to answer')\nAll test cases passed!\n",
         "hidden": false,
         "locked": false,
         "success_message": "Note that the Gradescope autograder will deduct points if your code fails the following rubric point - '`best_player_of_team_at_position` function is not used to answer (-1)'.The public tests cannot determine if your code satisfies these requirements. Verify your code manually."
        },
        {
         "code": ">>> \n>>> public_tests.rubric_check('best_starting_players_of: `players` data structure is not used to read data')\nAll test cases passed!\n",
         "hidden": false,
         "locked": false,
         "success_message": "Note that the Gradescope autograder will deduct points if your code fails the following rubric point - '`players` data structure is not used to read data (-1)'.The public tests cannot determine if your code satisfies these requirements. Verify your code manually."
        }
       ],
       "scored": true,
       "setup": "",
       "teardown": "",
       "type": "doctest"
      }
     ]
    },
    "cell": {
     "name": "cell",
     "points": 0,
     "suites": [
      {
       "cases": [
        {
         "code": ">>> \n>>> public_tests.rubric_check('cell: variables `csv_data`, `csv_header`, and `csv_rows` are not defined as expected')\nAll test cases passed!\n",
         "hidden": false,
         "locked": false,
         "success_message": "Note that the Gradescope autograder will deduct points if your code fails the following rubric point - 'variables `csv_data`, `csv_header`, and `csv_rows` are not defined as expected (-1)'.The public tests cannot determine if your code satisfies these requirements. Verify your code manually."
        },
        {
         "code": ">>> \n>>> public_tests.rubric_check('cell: function does not typecast the correct columns to `int` or `float` as expected')\nAll test cases passed!\n",
         "hidden": false,
         "locked": false,
         "success_message": "Note that the Gradescope autograder will deduct points if your code fails the following rubric point - 'function does not typecast the correct columns to `int` or `float` as expected (-1)'.The public tests cannot determine if your code satisfies these requirements. Verify your code manually."
        },
        {
         "code": ">>> \n>>> public_tests.rubric_check('cell: function does not format the `Height` column correctly')\nAll test cases passed!\n",
         "hidden": false,
         "locked": false,
         "success_message": "Note that the Gradescope autograder will deduct points if your code fails the following rubric point - 'function does not format the `Height` column correctly (-1)'.The public tests cannot determine if your code satisfies these requirements. Verify your code manually."
        },
        {
         "code": ">>> \n>>> public_tests.rubric_check('cell: function does not use `format_euros` to format the relevant columns')\nAll test cases passed!\n",
         "hidden": false,
         "locked": false,
         "success_message": "Note that the Gradescope autograder will deduct points if your code fails the following rubric point - 'function does not use `format_euros` to format the relevant columns (-1)'.The public tests cannot determine if your code satisfies these requirements. Verify your code manually."
        },
        {
         "code": ">>> \n>>> public_tests.rubric_check('cell: function typecasts based on the column index and not the `col_name`')\nAll test cases passed!\n",
         "hidden": false,
         "locked": false,
         "success_message": "Note that the Gradescope autograder will deduct points if your code fails the following rubric point - 'function typecasts based on the column index and not the `col_name` (-1)'.The public tests cannot determine if your code satisfies these requirements. Verify your code manually."
        }
       ],
       "scored": true,
       "setup": "",
       "teardown": "",
       "type": "doctest"
      }
     ]
    },
    "format_euros": {
     "name": "format_euros",
     "points": 0,
     "suites": [
      {
       "cases": [
        {
         "code": ">>> \n>>> public_tests.rubric_check('format_euros: function logic is incorrect when the input ends with `\"K\"`')\nAll test cases passed!\n",
         "hidden": false,
         "locked": false,
         "success_message": "Note that the Gradescope autograder will deduct points if your code fails the following rubric point - 'function logic is incorrect when the input ends with `\"K\"` (-1)'.The public tests cannot determine if your code satisfies these requirements. Verify your code manually."
        },
        {
         "code": ">>> \n>>> public_tests.rubric_check('format_euros: function logic is incorrect when the input ends with `\"M\"`')\nAll test cases passed!\n",
         "hidden": false,
         "locked": false,
         "success_message": "Note that the Gradescope autograder will deduct points if your code fails the following rubric point - 'function logic is incorrect when the input ends with `\"M\"` (-1)'.The public tests cannot determine if your code satisfies these requirements. Verify your code manually."
        },
        {
         "code": ">>> \n>>> public_tests.rubric_check('format_euros: function logic is incorrect when the input does not end with `\"K\"` or `\"M\"`')\nAll test cases passed!\n",
         "hidden": false,
         "locked": false,
         "success_message": "Note that the Gradescope autograder will deduct points if your code fails the following rubric point - 'function logic is incorrect when the input does not end with `\"K\"` or `\"M\"` (-1)'.The public tests cannot determine if your code satisfies these requirements. Verify your code manually."
        }
       ],
       "scored": true,
       "setup": "",
       "teardown": "",
       "type": "doctest"
      }
     ]
    },
    "general_deductions": {
     "name": "general_deductions",
     "points": 0,
     "suites": [
      {
       "cases": [
        {
         "code": ">>> \n>>> public_tests.rubric_check('general_deductions: Did not save the notebook file prior to running the cell containing \"export\". We cannot see your output if you do not save before generating the zip file. This deduction will become stricter for future projects.')\nAll test cases passed!\n",
         "hidden": false,
         "locked": false,
         "success_message": "Note that the Gradescope autograder will deduct points if your code fails the following rubric point - 'Did not save the notebook file prior to running the cell containing \"export\". We cannot see your output if you do not save before generating the zip file. This deduction will become stricter for future projects. (-3)'.The public tests cannot determine if your code satisfies these requirements. Verify your code manually."
        },
        {
         "code": ">>> \n>>> public_tests.rubric_check('general_deductions: Used concepts/modules such as pandas not covered in class yet - built-in functions that you have been introduced to can be used.')\nAll test cases passed!\n",
         "hidden": false,
         "locked": false,
         "success_message": "Note that the Gradescope autograder will deduct points if your code fails the following rubric point - 'Used concepts/modules such as pandas not covered in class yet - built-in functions that you have been introduced to can be used. (-3)'.The public tests cannot determine if your code satisfies these requirements. Verify your code manually."
        },
        {
         "code": ">>> \n>>> public_tests.rubric_check('general_deductions: Import statements are not all placed at the top of the notebook.')\nAll test cases passed!\n",
         "hidden": false,
         "locked": false,
         "success_message": "Note that the Gradescope autograder will deduct points if your code fails the following rubric point - 'Import statements are not all placed at the top of the notebook. (-1)'.The public tests cannot determine if your code satisfies these requirements. Verify your code manually."
        }
       ],
       "scored": true,
       "setup": "",
       "teardown": "",
       "type": "doctest"
      }
     ]
    },
    "players": {
     "name": "players",
     "points": 0,
     "suites": [
      {
       "cases": [
        {
         "code": ">>> \n>>> public_tests.rubric_check('players: data structure is not defined correctly')\nAll test cases passed!\n",
         "hidden": false,
         "locked": false,
         "success_message": "Note that the Gradescope autograder will deduct points if your code fails the following rubric point - 'data structure is not defined correctly (-2)'.The public tests cannot determine if your code satisfies these requirements. Verify your code manually."
        },
        {
         "code": ">>> \n>>> public_tests.rubric_check('players: logic used to define data structure is incorrect')\nAll test cases passed!\n",
         "hidden": false,
         "locked": false,
         "success_message": "Note that the Gradescope autograder will deduct points if your code fails the following rubric point - 'logic used to define data structure is incorrect (-2)'.The public tests cannot determine if your code satisfies these requirements. Verify your code manually."
        },
        {
         "code": ">>> \n>>> public_tests.rubric_check('players: `cell` function is not used to read data')\nAll test cases passed!\n",
         "hidden": false,
         "locked": false,
         "success_message": "Note that the Gradescope autograder will deduct points if your code fails the following rubric point - '`cell` function is not used to read data (-1)'.The public tests cannot determine if your code satisfies these requirements. Verify your code manually."
        }
       ],
       "scored": true,
       "setup": "",
       "teardown": "",
       "type": "doctest"
      }
     ]
    },
    "q1": {
     "name": "q1",
     "points": 0,
     "suites": [
      {
       "cases": [
        {
         "code": ">>> public_tests.check('q1', stats_player_158023)\nAll test cases passed!\n",
         "hidden": false,
         "locked": false
        },
        {
         "code": ">>> \n>>> public_tests.rubric_check('q1: `players` data structure is not used to read data')\nAll test cases passed!\n",
         "hidden": false,
         "locked": false,
         "success_message": "Note that the Gradescope autograder will deduct points if your code fails the following rubric point - '`players` data structure is not used to read data (-2)'.The public tests cannot determine if your code satisfies these requirements. Verify your code manually."
        }
       ],
       "scored": true,
       "setup": "",
       "teardown": "",
       "type": "doctest"
      }
     ]
    },
    "q10": {
     "name": "q10",
     "points": 0,
     "suites": [
      {
       "cases": [
        {
         "code": ">>> public_tests.check('q10', positions_avg_height)\nAll test cases passed!\n",
         "hidden": false,
         "locked": false
        },
        {
         "code": ">>> \n>>> public_tests.rubric_check('q10: incorrect logic is used to answer')\nAll test cases passed!\n",
         "hidden": false,
         "locked": false,
         "success_message": "Note that the Gradescope autograder will deduct points if your code fails the following rubric point - 'incorrect logic is used to answer (-2)'.The public tests cannot determine if your code satisfies these requirements. Verify your code manually."
        },
        {
         "code": ">>> \n>>> public_tests.rubric_check('q10: the keys of `positions_avg_height` are hardcoded')\nAll test cases passed!\n",
         "hidden": false,
         "locked": false,
         "success_message": "Note that the Gradescope autograder will deduct points if your code fails the following rubric point - 'the keys of `positions_avg_height` are hardcoded (-1)'.The public tests cannot determine if your code satisfies these requirements. Verify your code manually."
        },
        {
         "code": ">>> \n>>> public_tests.rubric_check('q10: `players` data structure is not used to read data')\nAll test cases passed!\n",
         "hidden": false,
         "locked": false,
         "success_message": "Note that the Gradescope autograder will deduct points if your code fails the following rubric point - '`players` data structure is not used to read data (-1)'.The public tests cannot determine if your code satisfies these requirements. Verify your code manually."
        },
        {
         "code": ">>> public_tests.rubric_check('q10: public tests')\nAll test cases passed!\n",
         "hidden": false,
         "locked": false
        }
       ],
       "scored": true,
       "setup": "",
       "teardown": "",
       "type": "doctest"
      }
     ]
    },
    "q11": {
     "name": "q11",
     "points": 0,
     "suites": [
      {
       "cases": [
        {
         "code": ">>> public_tests.check('q11', positions_avg_attacking)\nAll test cases passed!\n",
         "hidden": false,
         "locked": false
        },
        {
         "code": ">>> \n>>> public_tests.rubric_check('q11: `average_stat_by_position` function is not used to answer')\nAll test cases passed!\n",
         "hidden": false,
         "locked": false,
         "success_message": "Note that the Gradescope autograder will deduct points if your code fails the following rubric point - '`average_stat_by_position` function is not used to answer (-2)'.The public tests cannot determine if your code satisfies these requirements. Verify your code manually."
        }
       ],
       "scored": true,
       "setup": "",
       "teardown": "",
       "type": "doctest"
      }
     ]
    },
    "q12": {
     "name": "q12",
     "points": 0,
     "suites": [
      {
       "cases": [
        {
         "code": ">>> public_tests.check('q12', positions_avg_movement)\nAll test cases passed!\n",
         "hidden": false,
         "locked": false
        },
        {
         "code": ">>> \n>>> public_tests.rubric_check('q12: `average_stat_by_position` function is not used to answer')\nAll test cases passed!\n",
         "hidden": false,
         "locked": false,
         "success_message": "Note that the Gradescope autograder will deduct points if your code fails the following rubric point - '`average_stat_by_position` function is not used to answer (-2)'.The public tests cannot determine if your code satisfies these requirements. Verify your code manually."
        }
       ],
       "scored": true,
       "setup": "",
       "teardown": "",
       "type": "doctest"
      }
     ]
    },
    "q13": {
     "name": "q13",
     "points": 0,
     "suites": [
      {
       "cases": [
        {
         "code": ">>> public_tests.check('q13', best_defending_position)\nAll test cases passed!\n",
         "hidden": false,
         "locked": false
        },
        {
         "code": ">>> \n>>> public_tests.rubric_check('q13: incorrect logic is used to answer')\nAll test cases passed!\n",
         "hidden": false,
         "locked": false,
         "success_message": "Note that the Gradescope autograder will deduct points if your code fails the following rubric point - 'incorrect logic is used to answer (-2)'.The public tests cannot determine if your code satisfies these requirements. Verify your code manually."
        },
        {
         "code": ">>> \n>>> public_tests.rubric_check('q13: `average_stat_by_position` function is not used to answer')\nAll test cases passed!\n",
         "hidden": false,
         "locked": false,
         "success_message": "Note that the Gradescope autograder will deduct points if your code fails the following rubric point - '`average_stat_by_position` function is not used to answer (-1)'.The public tests cannot determine if your code satisfies these requirements. Verify your code manually."
        },
        {
         "code": ">>> public_tests.rubric_check('q13: public tests')\nAll test cases passed!\n",
         "hidden": false,
         "locked": false
        }
       ],
       "scored": true,
       "setup": "",
       "teardown": "",
       "type": "doctest"
      }
     ]
    },
    "q14": {
     "name": "q14",
     "points": 0,
     "suites": [
      {
       "cases": [
        {
         "code": ">>> public_tests.check('q14', best_cdm_man_utd_id)\nAll test cases passed!\n",
         "hidden": false,
         "locked": false
        },
        {
         "code": ">>> \n>>> public_tests.rubric_check('q14: `best_player_of_team_at_position` function is not used to answer')\nAll test cases passed!\n",
         "hidden": false,
         "locked": false,
         "success_message": "Note that the Gradescope autograder will deduct points if your code fails the following rubric point - '`best_player_of_team_at_position` function is not used to answer (-2)'.The public tests cannot determine if your code satisfies these requirements. Verify your code manually."
        }
       ],
       "scored": true,
       "setup": "",
       "teardown": "",
       "type": "doctest"
      }
     ]
    },
    "q15": {
     "name": "q15",
     "points": 0,
     "suites": [
      {
       "cases": [
        {
         "code": ">>> public_tests.check('q15', best_rw_liverpool)\nAll test cases passed!\n",
         "hidden": false,
         "locked": false
        },
        {
         "code": ">>> \n>>> public_tests.rubric_check('q15: `best_player_of_team_at_position` function is not used to answer')\nAll test cases passed!\n",
         "hidden": false,
         "locked": false,
         "success_message": "Note that the Gradescope autograder will deduct points if your code fails the following rubric point - '`best_player_of_team_at_position` function is not used to answer (-2)'.The public tests cannot determine if your code satisfies these requirements. Verify your code manually."
        },
        {
         "code": ">>> \n>>> public_tests.rubric_check('q15: `players` data structure is not used to read data')\nAll test cases passed!\n",
         "hidden": false,
         "locked": false,
         "success_message": "Note that the Gradescope autograder will deduct points if your code fails the following rubric point - '`players` data structure is not used to read data (-1)'.The public tests cannot determine if your code satisfies these requirements. Verify your code manually."
        }
       ],
       "scored": true,
       "setup": "",
       "teardown": "",
       "type": "doctest"
      }
     ]
    },
    "q16": {
     "name": "q16",
     "points": 0,
     "suites": [
      {
       "cases": [
        {
         "code": ">>> public_tests.check('q16', best_starters_of_psg)\nAll test cases passed!\n",
         "hidden": false,
         "locked": false
        },
        {
         "code": ">>> \n>>> public_tests.rubric_check('q16: `best_starting_players_of` function is not used to answer')\nAll test cases passed!\n",
         "hidden": false,
         "locked": false,
         "success_message": "Note that the Gradescope autograder will deduct points if your code fails the following rubric point - '`best_starting_players_of` function is not used to answer (-2)'.The public tests cannot determine if your code satisfies these requirements. Verify your code manually."
        }
       ],
       "scored": true,
       "setup": "",
       "teardown": "",
       "type": "doctest"
      }
     ]
    },
    "q17": {
     "name": "q17",
     "points": 0,
     "suites": [
      {
       "cases": [
        {
         "code": ">>> public_tests.check('q17', best_starters_of_bayern)\nAll test cases passed!\n",
         "hidden": false,
         "locked": false
        },
        {
         "code": ">>> \n>>> public_tests.rubric_check('q17: incorrect logic is used to answer')\nAll test cases passed!\n",
         "hidden": false,
         "locked": false,
         "success_message": "Note that the Gradescope autograder will deduct points if your code fails the following rubric point - 'incorrect logic is used to answer (-1)'.The public tests cannot determine if your code satisfies these requirements. Verify your code manually."
        },
        {
         "code": ">>> \n>>> public_tests.rubric_check('q17: `best_starting_players_of` function is not used to answer')\nAll test cases passed!\n",
         "hidden": false,
         "locked": false,
         "success_message": "Note that the Gradescope autograder will deduct points if your code fails the following rubric point - '`best_starting_players_of` function is not used to answer (-1)'.The public tests cannot determine if your code satisfies these requirements. Verify your code manually."
        },
        {
         "code": ">>> \n>>> public_tests.rubric_check('q17: `players` data structure is not used to read data')\nAll test cases passed!\n",
         "hidden": false,
         "locked": false,
         "success_message": "Note that the Gradescope autograder will deduct points if your code fails the following rubric point - '`players` data structure is not used to read data (-1)'.The public tests cannot determine if your code satisfies these requirements. Verify your code manually."
        },
        {
         "code": ">>> public_tests.rubric_check('q17: public tests')\nAll test cases passed!\n",
         "hidden": false,
         "locked": false
        }
       ],
       "scored": true,
       "setup": "",
       "teardown": "",
       "type": "doctest"
      }
     ]
    },
    "q18": {
     "name": "q18",
     "points": 0,
     "suites": [
      {
       "cases": [
        {
         "code": ">>> public_tests.check('q18', bench_value_barcelona)\nAll test cases passed!\n",
         "hidden": false,
         "locked": false
        },
        {
         "code": ">>> \n>>> public_tests.rubric_check('q18: incorrect logic is used to answer')\nAll test cases passed!\n",
         "hidden": false,
         "locked": false,
         "success_message": "Note that the Gradescope autograder will deduct points if your code fails the following rubric point - 'incorrect logic is used to answer (-2)'.The public tests cannot determine if your code satisfies these requirements. Verify your code manually."
        },
        {
         "code": ">>> \n>>> public_tests.rubric_check('q18: `best_starting_players_of` function is not used to find the best starting players')\nAll test cases passed!\n",
         "hidden": false,
         "locked": false,
         "success_message": "Note that the Gradescope autograder will deduct points if your code fails the following rubric point - '`best_starting_players_of` function is not used to find the best starting players (-1)'.The public tests cannot determine if your code satisfies these requirements. Verify your code manually."
        },
        {
         "code": ">>> \n>>> public_tests.rubric_check('q18: `players` data structure is not used to read data')\nAll test cases passed!\n",
         "hidden": false,
         "locked": false,
         "success_message": "Note that the Gradescope autograder will deduct points if your code fails the following rubric point - '`players` data structure is not used to read data (-1)'.The public tests cannot determine if your code satisfies these requirements. Verify your code manually."
        },
        {
         "code": ">>> public_tests.rubric_check('q18: public tests')\nAll test cases passed!\n",
         "hidden": false,
         "locked": false
        }
       ],
       "scored": true,
       "setup": "",
       "teardown": "",
       "type": "doctest"
      }
     ]
    },
    "q19": {
     "name": "q19",
     "points": 0,
     "suites": [
      {
       "cases": [
        {
         "code": ">>> public_tests.check('q19', avg_attacking_prem_league)\nAll test cases passed!\n",
         "hidden": false,
         "locked": false
        },
        {
         "code": ">>> \n>>> public_tests.rubric_check('q19: incorrect logic is used to answer')\nAll test cases passed!\n",
         "hidden": false,
         "locked": false,
         "success_message": "Note that the Gradescope autograder will deduct points if your code fails the following rubric point - 'incorrect logic is used to answer (-2)'.The public tests cannot determine if your code satisfies these requirements. Verify your code manually."
        },
        {
         "code": ">>> \n>>> public_tests.rubric_check('q19: best starting players of a single team is computed more than once')\nAll test cases passed!\n",
         "hidden": false,
         "locked": false,
         "success_message": "Note that the Gradescope autograder will deduct points if your code fails the following rubric point - 'best starting players of a single team is computed more than once (-1)'.The public tests cannot determine if your code satisfies these requirements. Verify your code manually."
        },
        {
         "code": ">>> \n>>> public_tests.rubric_check('q19: the list of unique teams in the league is recomputed')\nAll test cases passed!\n",
         "hidden": false,
         "locked": false,
         "success_message": "Note that the Gradescope autograder will deduct points if your code fails the following rubric point - 'the list of unique teams in the league is recomputed (-1)'.The public tests cannot determine if your code satisfies these requirements. Verify your code manually."
        },
        {
         "code": ">>> \n>>> public_tests.rubric_check('q19: `best_starting_players_of` function is not used to answer')\nAll test cases passed!\n",
         "hidden": false,
         "locked": false,
         "success_message": "Note that the Gradescope autograder will deduct points if your code fails the following rubric point - '`best_starting_players_of` function is not used to answer (-1)'.The public tests cannot determine if your code satisfies these requirements. Verify your code manually."
        },
        {
         "code": ">>> \n>>> public_tests.rubric_check('q19: `players` data structure is not used to read data')\nAll test cases passed!\n",
         "hidden": false,
         "locked": false,
         "success_message": "Note that the Gradescope autograder will deduct points if your code fails the following rubric point - '`players` data structure is not used to read data (-1)'.The public tests cannot determine if your code satisfies these requirements. Verify your code manually."
        }
       ],
       "scored": true,
       "setup": "",
       "teardown": "",
       "type": "doctest"
      }
     ]
    },
    "q2": {
     "name": "q2",
     "points": 0,
     "suites": [
      {
       "cases": [
        {
         "code": ">>> public_tests.check('q2', highest_valued_stats)\nAll test cases passed!\n",
         "hidden": false,
         "locked": false
        },
        {
         "code": ">>> \n>>> public_tests.rubric_check('q2: incorrect logic is used to find the player with the highest `Value`')\nAll test cases passed!\n",
         "hidden": false,
         "locked": false,
         "success_message": "Note that the Gradescope autograder will deduct points if your code fails the following rubric point - 'incorrect logic is used to find the player with the highest `Value` (-1)'.The public tests cannot determine if your code satisfies these requirements. Verify your code manually."
        },
        {
         "code": ">>> \n>>> public_tests.rubric_check('q2: incorrect logic is used to find the statistics of the player with the highest `Value`')\nAll test cases passed!\n",
         "hidden": false,
         "locked": false,
         "success_message": "Note that the Gradescope autograder will deduct points if your code fails the following rubric point - 'incorrect logic is used to find the statistics of the player with the highest `Value` (-1)'.The public tests cannot determine if your code satisfies these requirements. Verify your code manually."
        },
        {
         "code": ">>> \n>>> public_tests.rubric_check('q2: `players` data structure is not used to read data')\nAll test cases passed!\n",
         "hidden": false,
         "locked": false,
         "success_message": "Note that the Gradescope autograder will deduct points if your code fails the following rubric point - '`players` data structure is not used to read data (-1)'.The public tests cannot determine if your code satisfies these requirements. Verify your code manually."
        },
        {
         "code": ">>> public_tests.rubric_check('q2: public tests')\nAll test cases passed!\n",
         "hidden": false,
         "locked": false
        }
       ],
       "scored": true,
       "setup": "",
       "teardown": "",
       "type": "doctest"
      }
     ]
    },
    "q20": {
     "name": "q20",
     "points": 0,
     "suites": [
      {
       "cases": [
        {
         "code": ">>> public_tests.check('q20', best_attackers_prem_league)\nAll test cases passed!\n",
         "hidden": false,
         "locked": false
        },
        {
         "code": ">>> \n>>> public_tests.rubric_check('q20: incorrect logic is used to answer')\nAll test cases passed!\n",
         "hidden": false,
         "locked": false,
         "success_message": "Note that the Gradescope autograder will deduct points if your code fails the following rubric point - 'incorrect logic is used to answer (-2)'.The public tests cannot determine if your code satisfies these requirements. Verify your code manually."
        },
        {
         "code": ">>> \n>>> public_tests.rubric_check('q20: `avg_attacking_prem_league` is not used to answer')\nAll test cases passed!\n",
         "hidden": false,
         "locked": false,
         "success_message": "Note that the Gradescope autograder will deduct points if your code fails the following rubric point - '`avg_attacking_prem_league` is not used to answer (-1)'.The public tests cannot determine if your code satisfies these requirements. Verify your code manually."
        },
        {
         "code": ">>> public_tests.rubric_check('q20: public tests')\nAll test cases passed!\n",
         "hidden": false,
         "locked": false
        }
       ],
       "scored": true,
       "setup": "",
       "teardown": "",
       "type": "doctest"
      }
     ]
    },
    "q3": {
     "name": "q3",
     "points": 0,
     "suites": [
      {
       "cases": [
        {
         "code": ">>> public_tests.check('q3', highest_wage_nationality)\nAll test cases passed!\n",
         "hidden": false,
         "locked": false
        },
        {
         "code": ">>> \n>>> public_tests.rubric_check('q3: incorrect logic is used to find the player with the highest `Wage`')\nAll test cases passed!\n",
         "hidden": false,
         "locked": false,
         "success_message": "Note that the Gradescope autograder will deduct points if your code fails the following rubric point - 'incorrect logic is used to find the player with the highest `Wage` (-1)'.The public tests cannot determine if your code satisfies these requirements. Verify your code manually."
        },
        {
         "code": ">>> \n>>> public_tests.rubric_check('q3: incorrect logic is used to find the `Nationality` of the player with the highest `Wage`')\nAll test cases passed!\n",
         "hidden": false,
         "locked": false,
         "success_message": "Note that the Gradescope autograder will deduct points if your code fails the following rubric point - 'incorrect logic is used to find the `Nationality` of the player with the highest `Wage` (-1)'.The public tests cannot determine if your code satisfies these requirements. Verify your code manually."
        },
        {
         "code": ">>> \n>>> public_tests.rubric_check('q3: `players` data structure is not used to read data')\nAll test cases passed!\n",
         "hidden": false,
         "locked": false,
         "success_message": "Note that the Gradescope autograder will deduct points if your code fails the following rubric point - '`players` data structure is not used to read data (-1)'.The public tests cannot determine if your code satisfies these requirements. Verify your code manually."
        },
        {
         "code": ">>> public_tests.rubric_check('q3: public tests')\nAll test cases passed!\n",
         "hidden": false,
         "locked": false
        }
       ],
       "scored": true,
       "setup": "",
       "teardown": "",
       "type": "doctest"
      }
     ]
    },
    "q4": {
     "name": "q4",
     "points": 0,
     "suites": [
      {
       "cases": [
        {
         "code": ">>> public_tests.check('q4', highest_wage_position)\nAll test cases passed!\n",
         "hidden": false,
         "locked": false
        },
        {
         "code": ">>> \n>>> public_tests.rubric_check('q4: the player with the highest `Wage` is recomputed')\nAll test cases passed!\n",
         "hidden": false,
         "locked": false,
         "success_message": "Note that the Gradescope autograder will deduct points if your code fails the following rubric point - 'the player with the highest `Wage` is recomputed (-1)'.The public tests cannot determine if your code satisfies these requirements. Verify your code manually."
        },
        {
         "code": ">>> \n>>> public_tests.rubric_check('q4: incorrect logic is used to find the `Position` of the player with the highest `Wage`')\nAll test cases passed!\n",
         "hidden": false,
         "locked": false,
         "success_message": "Note that the Gradescope autograder will deduct points if your code fails the following rubric point - 'incorrect logic is used to find the `Position` of the player with the highest `Wage` (-1)'.The public tests cannot determine if your code satisfies these requirements. Verify your code manually."
        },
        {
         "code": ">>> \n>>> public_tests.rubric_check('q4: `players` data structure is not used to read data')\nAll test cases passed!\n",
         "hidden": false,
         "locked": false,
         "success_message": "Note that the Gradescope autograder will deduct points if your code fails the following rubric point - '`players` data structure is not used to read data (-1)'.The public tests cannot determine if your code satisfies these requirements. Verify your code manually."
        }
       ],
       "scored": true,
       "setup": "",
       "teardown": "",
       "type": "doctest"
      }
     ]
    },
    "q5": {
     "name": "q5",
     "points": 0,
     "suites": [
      {
       "cases": [
        {
         "code": ">>> public_tests.check('q5', premier_league_teams)\nAll test cases passed!\n",
         "hidden": false,
         "locked": false
        },
        {
         "code": ">>> \n>>> public_tests.rubric_check('q5: incorrect logic is used to answer')\nAll test cases passed!\n",
         "hidden": false,
         "locked": false,
         "success_message": "Note that the Gradescope autograder will deduct points if your code fails the following rubric point - 'incorrect logic is used to answer (-1)'.The public tests cannot determine if your code satisfies these requirements. Verify your code manually."
        },
        {
         "code": ">>> \n>>> public_tests.rubric_check('q5: teams whose `League` is not exactly as required are added to the list')\nAll test cases passed!\n",
         "hidden": false,
         "locked": false,
         "success_message": "Note that the Gradescope autograder will deduct points if your code fails the following rubric point - 'teams whose `League` is not exactly as required are added to the list (-1)'.The public tests cannot determine if your code satisfies these requirements. Verify your code manually."
        },
        {
         "code": ">>> \n>>> public_tests.rubric_check('q5: `players` data structure is not used to read data')\nAll test cases passed!\n",
         "hidden": false,
         "locked": false,
         "success_message": "Note that the Gradescope autograder will deduct points if your code fails the following rubric point - '`players` data structure is not used to read data (-1)'.The public tests cannot determine if your code satisfies these requirements. Verify your code manually."
        }
       ],
       "scored": true,
       "setup": "",
       "teardown": "",
       "type": "doctest"
      }
     ]
    },
    "q6": {
     "name": "q6",
     "points": 0,
     "suites": [
      {
       "cases": [
        {
         "code": ">>> public_tests.check('q6', preferred_foot_count)\nAll test cases passed!\n",
         "hidden": false,
         "locked": false
        },
        {
         "code": ">>> \n>>> public_tests.rubric_check('q6: incorrect logic is used to answer')\nAll test cases passed!\n",
         "hidden": false,
         "locked": false,
         "success_message": "Note that the Gradescope autograder will deduct points if your code fails the following rubric point - 'incorrect logic is used to answer (-1)'.The public tests cannot determine if your code satisfies these requirements. Verify your code manually."
        },
        {
         "code": ">>> \n>>> public_tests.rubric_check('q6: the keys of `preferred_foot_count` are hardcoded')\nAll test cases passed!\n",
         "hidden": false,
         "locked": false,
         "success_message": "Note that the Gradescope autograder will deduct points if your code fails the following rubric point - 'the keys of `preferred_foot_count` are hardcoded (-1)'.The public tests cannot determine if your code satisfies these requirements. Verify your code manually."
        },
        {
         "code": ">>> \n>>> public_tests.rubric_check('q6: `players` data structure is not used to read data')\nAll test cases passed!\n",
         "hidden": false,
         "locked": false,
         "success_message": "Note that the Gradescope autograder will deduct points if your code fails the following rubric point - '`players` data structure is not used to read data (-1)'.The public tests cannot determine if your code satisfies these requirements. Verify your code manually."
        },
        {
         "code": ">>> public_tests.rubric_check('q6: public tests')\nAll test cases passed!\n",
         "hidden": false,
         "locked": false
        }
       ],
       "scored": true,
       "setup": "",
       "teardown": "",
       "type": "doctest"
      }
     ]
    },
    "q7": {
     "name": "q7",
     "points": 0,
     "suites": [
      {
       "cases": [
        {
         "code": ">>> public_tests.check('q7', preferred_foot_avg_overall)\nAll test cases passed!\n",
         "hidden": false,
         "locked": false
        },
        {
         "code": ">>> \n>>> public_tests.rubric_check('q7: incorrect logic is used to answer')\nAll test cases passed!\n",
         "hidden": false,
         "locked": false,
         "success_message": "Note that the Gradescope autograder will deduct points if your code fails the following rubric point - 'incorrect logic is used to answer (-2)'.The public tests cannot determine if your code satisfies these requirements. Verify your code manually."
        },
        {
         "code": ">>> \n>>> public_tests.rubric_check('q7: the keys of `preferred_foot_avg_overall` are hardcoded')\nAll test cases passed!\n",
         "hidden": false,
         "locked": false,
         "success_message": "Note that the Gradescope autograder will deduct points if your code fails the following rubric point - 'the keys of `preferred_foot_avg_overall` are hardcoded (-1)'.The public tests cannot determine if your code satisfies these requirements. Verify your code manually."
        },
        {
         "code": ">>> \n>>> public_tests.rubric_check('q7: `players` data structure is not used to read data')\nAll test cases passed!\n",
         "hidden": false,
         "locked": false,
         "success_message": "Note that the Gradescope autograder will deduct points if your code fails the following rubric point - '`players` data structure is not used to read data (-1)'.The public tests cannot determine if your code satisfies these requirements. Verify your code manually."
        },
        {
         "code": ">>> public_tests.rubric_check('q7: public tests')\nAll test cases passed!\n",
         "hidden": false,
         "locked": false
        }
       ],
       "scored": true,
       "setup": "",
       "teardown": "",
       "type": "doctest"
      }
     ]
    },
    "q8": {
     "name": "q8",
     "points": 0,
     "suites": [
      {
       "cases": [
        {
         "code": ">>> public_tests.check('q8', positions_count)\nAll test cases passed!\n",
         "hidden": false,
         "locked": false
        },
        {
         "code": ">>> \n>>> public_tests.rubric_check('q8: incorrect logic is used to answer')\nAll test cases passed!\n",
         "hidden": false,
         "locked": false,
         "success_message": "Note that the Gradescope autograder will deduct points if your code fails the following rubric point - 'incorrect logic is used to answer (-1)'.The public tests cannot determine if your code satisfies these requirements. Verify your code manually."
        },
        {
         "code": ">>> \n>>> public_tests.rubric_check('q8: the keys of `positions_count` are hardcoded')\nAll test cases passed!\n",
         "hidden": false,
         "locked": false,
         "success_message": "Note that the Gradescope autograder will deduct points if your code fails the following rubric point - 'the keys of `positions_count` are hardcoded (-1)'.The public tests cannot determine if your code satisfies these requirements. Verify your code manually."
        },
        {
         "code": ">>> \n>>> public_tests.rubric_check('q8: `players` data structure is not used to read data')\nAll test cases passed!\n",
         "hidden": false,
         "locked": false,
         "success_message": "Note that the Gradescope autograder will deduct points if your code fails the following rubric point - '`players` data structure is not used to read data (-1)'.The public tests cannot determine if your code satisfies these requirements. Verify your code manually."
        },
        {
         "code": ">>> public_tests.rubric_check('q8: public tests')\nAll test cases passed!\n",
         "hidden": false,
         "locked": false
        }
       ],
       "scored": true,
       "setup": "",
       "teardown": "",
       "type": "doctest"
      }
     ]
    },
    "q9": {
     "name": "q9",
     "points": 0,
     "suites": [
      {
       "cases": [
        {
         "code": ">>> public_tests.check('q9', positions_avg_age)\nAll test cases passed!\n",
         "hidden": false,
         "locked": false
        },
        {
         "code": ">>> \n>>> public_tests.rubric_check('q9: incorrect logic is used to answer')\nAll test cases passed!\n",
         "hidden": false,
         "locked": false,
         "success_message": "Note that the Gradescope autograder will deduct points if your code fails the following rubric point - 'incorrect logic is used to answer (-2)'.The public tests cannot determine if your code satisfies these requirements. Verify your code manually."
        },
        {
         "code": ">>> \n>>> public_tests.rubric_check('q9: the keys of `positions_avg_age` are hardcoded')\nAll test cases passed!\n",
         "hidden": false,
         "locked": false,
         "success_message": "Note that the Gradescope autograder will deduct points if your code fails the following rubric point - 'the keys of `positions_avg_age` are hardcoded (-1)'.The public tests cannot determine if your code satisfies these requirements. Verify your code manually."
        },
        {
         "code": ">>> \n>>> public_tests.rubric_check('q9: `players` data structure is not used to read data')\nAll test cases passed!\n",
         "hidden": false,
         "locked": false,
         "success_message": "Note that the Gradescope autograder will deduct points if your code fails the following rubric point - '`players` data structure is not used to read data (-1)'.The public tests cannot determine if your code satisfies these requirements. Verify your code manually."
        },
        {
         "code": ">>> public_tests.rubric_check('q9: public tests')\nAll test cases passed!\n",
         "hidden": false,
         "locked": false
        }
       ],
       "scored": true,
       "setup": "",
       "teardown": "",
       "type": "doctest"
      }
     ]
    },
    "summary": {
     "name": "summary",
     "points": 127,
     "suites": [
      {
       "cases": [
        {
         "code": ">>> \n>>> public_tests.detect_public_tests()\n",
         "hidden": true,
         "locked": false,
         "points": 0
        },
        {
         "code": ">>> \n>>> public_tests.get_score_digit(6) == 1\nTrue",
         "hidden": true,
         "locked": false,
         "points": 64
        },
        {
         "code": ">>> \n>>> public_tests.get_score_digit(5) == 1\nTrue",
         "hidden": true,
         "locked": false,
         "points": 32
        },
        {
         "code": ">>> \n>>> public_tests.get_score_digit(4) == 1\nTrue",
         "hidden": true,
         "locked": false,
         "points": 16
        },
        {
         "code": ">>> \n>>> public_tests.get_score_digit(3) == 1\nTrue",
         "hidden": true,
         "locked": false,
         "points": 8
        },
        {
         "code": ">>> \n>>> public_tests.get_score_digit(2) == 1\nTrue",
         "hidden": true,
         "locked": false,
         "points": 4
        },
        {
         "code": ">>> \n>>> public_tests.get_score_digit(1) == 1\nTrue",
         "hidden": true,
         "locked": false,
         "points": 2
        },
        {
         "code": ">>> \n>>> public_tests.get_score_digit(0) == 1\nTrue",
         "hidden": true,
         "locked": false,
         "points": 1
        },
        {
         "code": ">>> \n>>> public_tests.get_summary()\nTotal Score: 100/100\n",
         "hidden": false,
         "locked": false,
         "success_message": "Please submit your zip folder to Gradescope, and check your final score there. The Gradescope autograder will make deductions to your score based on the rubric."
        }
       ],
       "scored": true,
       "setup": "",
       "teardown": "",
       "type": "doctest"
      }
     ]
    }
   }
  }
 },
 "nbformat": 4,
 "nbformat_minor": 5
}
