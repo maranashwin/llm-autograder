{
 "cells": [
  {
   "cell_type": "code",
   "execution_count": 1,
   "id": "6fed4cb7",
   "metadata": {},
   "outputs": [],
   "source": [
    "import os, requests, time\n",
    "from bs4 import BeautifulSoup\n",
    "import csv"
   ]
  },
  {
   "cell_type": "code",
   "execution_count": 2,
   "id": "7956b8cd",
   "metadata": {},
   "outputs": [],
   "source": [
    "# headers are used as the website rejects GET requests without one\n",
    "url_headers = {'User-Agent': 'Mozilla/5.0 (Macintosh; Intel Mac OS X 10_11_5) AppleWebKit/537.36 (KHTML, like Gecko) Chrome/50.0.2661.102 Safari/537.36'}\n",
    "\n",
    "def get_html(url):    \n",
    "    re = requests.get(url, headers=url_headers)\n",
    "    while True:\n",
    "        if re.status_code != 429:\n",
    "            break\n",
    "        else:\n",
    "            print('waiting...')\n",
    "            time.sleep(5)\n",
    "    return BeautifulSoup(re.text, 'html.parser')"
   ]
  },
  {
   "cell_type": "code",
   "execution_count": 3,
   "id": "0162f263",
   "metadata": {},
   "outputs": [],
   "source": [
    "# change names of some of the columns\n",
    "def process_header(header):\n",
    "    new_columns = {'foot': 'Preferred foot',\n",
    "                   'Best position': 'Position',\n",
    "                   'Team & Contract': 'Team', \n",
    "                   'Total attacking': 'Attacking',\n",
    "                   'Total movement': 'Movement',\n",
    "                   'Total defending': 'Defending',\n",
    "                   'Total goalkeeping': 'Goalkeeping'}\n",
    "    for column in new_columns:\n",
    "        header[header.index(column)] = new_columns[column]\n",
    "    return header"
   ]
  },
  {
   "cell_type": "code",
   "execution_count": 4,
   "id": "4d806fbf",
   "metadata": {},
   "outputs": [],
   "source": [
    "# process each row of the table\n",
    "def process_player_row(row, header):\n",
    "    player = {}\n",
    "    columns = row.find_all('td')[1:]\n",
    "    for idx in range(len(columns)):\n",
    "        if header[idx] == '':\n",
    "            continue\n",
    "        player[header[idx]] = columns[idx].text\n",
    "        if player[header[idx]].isdigit():\n",
    "            player[header[idx]] = int(player[header[idx]])\n",
    "        elif header[idx] == 'Overall rating':\n",
    "            rating = player[header[idx]]\n",
    "            if '+' in rating:\n",
    "                rating = rating[:rating.index(\"+\")]\n",
    "            if '-' in rating:\n",
    "                rating = rating[:rating.index(\"-\")]\n",
    "            if rating.isdigit():\n",
    "                player[header[idx]] = int(rating)\n",
    "    player['Name'] = columns[header.index('Name')].find(\"a\").text.split(\"\\xa0\")[-1]\n",
    "    player['Nationality'] = columns[header.index('Name')].find(\"img\").get('title')\n",
    "    player['Team'] = columns[header.index('Team')].find(\"a\").text\n",
    "    player['Height'] = player['Height'].split(\"/\")[0].strip()\n",
    "    if player['Team'] == \"\":\n",
    "        player['Team'] = \"No Team\"\n",
    "    player['Attacking'] = player['Attacking']/5\n",
    "    player['Movement'] = player['Movement']/5\n",
    "    player['Defending'] = round(player['Defending']/3, 1)\n",
    "    player['Goalkeeping'] = player['Goalkeeping']/5\n",
    "    return player"
   ]
  },
  {
   "cell_type": "code",
   "execution_count": 5,
   "id": "4cd755a1",
   "metadata": {},
   "outputs": [],
   "source": [
    "# parse the page of a team and get its league information\n",
    "def get_team_info(team_url):\n",
    "    html_page = get_html(team_url)\n",
    "    if html_page == None:\n",
    "        return \"Unknown\"\n",
    "    \n",
    "    # parse the page\n",
    "    head = html_page.find('div', {'class': 'profile'})\n",
    "    if head == None:\n",
    "        return \"Free Agent\"\n",
    "    league = head.find_all('a')[-1].text\n",
    "    country = head.find('a').get('title')\n",
    "    return \"%s (%s)\" % (league, country)"
   ]
  },
  {
   "cell_type": "code",
   "execution_count": 6,
   "id": "0826cf29",
   "metadata": {},
   "outputs": [
    {
     "name": "stdout",
     "output_type": "stream",
     "text": [
      "50 pages read and 3000 players parsed\n",
      "100 pages read and 6000 players parsed\n",
      "150 pages read and 9000 players parsed\n",
      "200 pages read and 11960 players parsed\n",
      "250 pages read and 14911 players parsed\n",
      "300 pages read and 17910 players parsed\n"
     ]
    },
    {
     "data": {
      "text/plain": [
       "20010"
      ]
     },
     "execution_count": 6,
     "metadata": {},
     "output_type": "execute_result"
    }
   ],
   "source": [
    "# url with all the required columns can be found by going to 'https://sofifa.com',\n",
    "# adding the columns, and copy/pasting the url of the page.\n",
    "players_url = \"https://sofifa.com/players?showCol%5B%5D=pi&showCol%5B%5D=ae&showCol%5B%5D=hi&showCol%5B%5D=pf&showCol%5B%5D=oa&showCol%5B%5D=bp&showCol%5B%5D=vl&showCol%5B%5D=wg&showCol%5B%5D=ta&showCol%5B%5D=to&showCol%5B%5D=td&showCol%5B%5D=tg\"\n",
    "\n",
    "# store all the players data in a list\n",
    "players = []\n",
    "\n",
    "# store the raw data just to be safe\n",
    "raw_pages = []\n",
    "\n",
    "# track the data of the first player so we can check if they are read again\n",
    "first_player = None\n",
    "first_player_found = False\n",
    "\n",
    "offset = 0\n",
    "while True:\n",
    "    html_page = get_html(players_url+'&offset=%d' % (offset))\n",
    "    \n",
    "    # parse the page\n",
    "    table = html_page.find('table')\n",
    "    \n",
    "    # extract the header and preprocess it\n",
    "    header = process_header([tag.text for tag in table.find('tr').find_all('th')[1:]])\n",
    "        \n",
    "    for row in table.find_all('tr')[1:]:\n",
    "        player = process_player_row(row, header)\n",
    "        team_url = 'https://sofifa.com' + row.find_all('td')[4].find('a').get('href')\n",
    "        player['League'] = team_url\n",
    "            \n",
    "        # update the first_player if found\n",
    "        if first_player == None:\n",
    "            first_player = player\n",
    "        # stop iterating further if first player of the dataset is encountered again\n",
    "        elif first_player == player:\n",
    "            first_player_found = True\n",
    "            break\n",
    "        players.append(player)\n",
    "    \n",
    "    # if the first player has been encountered again, stop iterating further\n",
    "    if first_player_found:\n",
    "        break\n",
    "    \n",
    "    # store the page just in case\n",
    "    raw_pages.append(html_page)\n",
    "    \n",
    "    # find the offset by figuring out how many players have already been parsed\n",
    "    offset = len(players)\n",
    "    \n",
    "    if len(raw_pages) % 50 == 0:\n",
    "        print(\"%d pages read and %d players parsed\" % (len(raw_pages), len(players)))\n",
    "    \n",
    "        \n",
    "len(players)"
   ]
  },
  {
   "cell_type": "code",
   "execution_count": 7,
   "id": "7724e6f8",
   "metadata": {},
   "outputs": [
    {
     "data": {
      "text/plain": [
       "{'Name': 'V. Barco',\n",
       " 'Age': 18,\n",
       " 'Overall rating': 73,\n",
       " 'Team': 'Brighton & Hove Albion',\n",
       " 'ID': 263370,\n",
       " 'Height': '172cm',\n",
       " 'Preferred foot': 'Left',\n",
       " 'Position': 'CAM',\n",
       " 'Value': '€7M',\n",
       " 'Wage': '€19K',\n",
       " 'Attacking': 54.0,\n",
       " 'Movement': 77.0,\n",
       " 'Defending': 68.0,\n",
       " 'Goalkeeping': 9.8,\n",
       " 'Nationality': 'Argentina',\n",
       " 'League': 'https://sofifa.com/team/1808/brighton-hove-albion/'}"
      ]
     },
     "execution_count": 7,
     "metadata": {},
     "output_type": "execute_result"
    }
   ],
   "source": [
    "players[0]"
   ]
  },
  {
   "cell_type": "code",
   "execution_count": 8,
   "id": "8d4c141e",
   "metadata": {},
   "outputs": [],
   "source": [
    "# remove duplicates\n",
    "players_without_duplicates = {}\n",
    "for player in players:\n",
    "    players_without_duplicates[player['ID']] = player"
   ]
  },
  {
   "cell_type": "code",
   "execution_count": 9,
   "id": "6a6ef3a1",
   "metadata": {},
   "outputs": [],
   "source": [
    "# store all team urls in a dict to avoid repeating teams\n",
    "team_urls = {}\n",
    "\n",
    "# track progress\n",
    "team_pages_read = 0"
   ]
  },
  {
   "cell_type": "code",
   "execution_count": 10,
   "id": "9ab7a2df",
   "metadata": {},
   "outputs": [
    {
     "name": "stdout",
     "output_type": "stream",
     "text": [
      "10 pages read\n",
      "20 pages read\n",
      "30 pages read\n",
      "40 pages read\n",
      "50 pages read\n",
      "60 pages read\n",
      "70 pages read\n",
      "80 pages read\n",
      "90 pages read\n",
      "100 pages read\n",
      "110 pages read\n",
      "120 pages read\n",
      "130 pages read\n",
      "140 pages read\n",
      "150 pages read\n",
      "waiting...\n",
      "waiting...\n",
      "160 pages read\n",
      "170 pages read\n",
      "180 pages read\n",
      "190 pages read\n",
      "200 pages read\n",
      "210 pages read\n",
      "220 pages read\n",
      "230 pages read\n",
      "240 pages read\n",
      "waiting...\n",
      "waiting...\n",
      "250 pages read\n",
      "260 pages read\n",
      "270 pages read\n",
      "280 pages read\n",
      "290 pages read\n",
      "300 pages read\n",
      "310 pages read\n",
      "320 pages read\n",
      "330 pages read\n",
      "340 pages read\n",
      "waiting...\n",
      "350 pages read\n",
      "360 pages read\n",
      "370 pages read\n",
      "waiting...\n",
      "waiting...\n",
      "380 pages read\n",
      "390 pages read\n",
      "400 pages read\n",
      "410 pages read\n",
      "420 pages read\n",
      "430 pages read\n",
      "440 pages read\n",
      "waiting...\n",
      "waiting...\n",
      "450 pages read\n",
      "460 pages read\n",
      "470 pages read\n",
      "480 pages read\n",
      "490 pages read\n",
      "500 pages read\n",
      "510 pages read\n",
      "520 pages read\n",
      "530 pages read\n",
      "waiting...\n",
      "540 pages read\n",
      "550 pages read\n",
      "560 pages read\n",
      "waiting...\n",
      "570 pages read\n",
      "waiting...\n",
      "waiting...\n",
      "580 pages read\n",
      "590 pages read\n",
      "600 pages read\n",
      "610 pages read\n",
      "waiting...\n",
      "waiting...\n",
      "620 pages read\n",
      "630 pages read\n",
      "640 pages read\n",
      "650 pages read\n",
      "waiting...\n",
      "660 pages read\n",
      "670 pages read\n",
      "waiting...\n",
      "waiting...\n",
      "680 pages read\n",
      "690 pages read\n",
      "700 pages read\n",
      "710 pages read\n",
      "720 pages read\n",
      "730 pages read\n",
      "waiting...\n",
      "waiting...\n",
      "740 pages read\n",
      "750 pages read\n",
      "760 pages read\n",
      "770 pages read\n",
      "waiting...\n",
      "waiting...\n",
      "780 pages read\n",
      "waiting...\n",
      "waiting...\n",
      "waiting...\n",
      "790 pages read\n",
      "800 pages read\n",
      "810 pages read\n",
      "820 pages read\n",
      "waiting...\n",
      "waiting...\n",
      "830 pages read\n",
      "840 pages read\n",
      "waiting...\n",
      "waiting...\n",
      "850 pages read\n",
      "860 pages read\n",
      "870 pages read\n",
      "waiting...\n",
      "880 pages read\n",
      "890 pages read\n",
      "waiting...\n",
      "waiting...\n",
      "900 pages read\n",
      "910 pages read\n",
      "920 pages read\n",
      "waiting...\n",
      "waiting...\n",
      "930 pages read\n",
      "940 pages read\n",
      "950 pages read\n",
      "960 pages read\n",
      "waiting...\n",
      "waiting...\n",
      "970 pages read\n",
      "980 pages read\n",
      "990 pages read\n",
      "1000 pages read\n",
      "1010 pages read\n",
      "1020 pages read\n",
      "1030 pages read\n",
      "waiting...\n",
      "waiting...\n",
      "1040 pages read\n",
      "1050 pages read\n",
      "1060 pages read\n",
      "waiting...\n",
      "waiting...\n",
      "1070 pages read\n",
      "1080 pages read\n",
      "1090 pages read\n",
      "1100 pages read\n",
      "waiting...\n"
     ]
    },
    {
     "data": {
      "text/plain": [
       "23"
      ]
     },
     "execution_count": 10,
     "metadata": {},
     "output_type": "execute_result"
    }
   ],
   "source": [
    "# MANUALLY interrupt and rerun this cell (and only this cell) if it hits 'waiting...'\n",
    "# otherwise, it will get stuck on 'waiting...'\n",
    "bad_players = []\n",
    "\n",
    "for player_id in players_without_duplicates:\n",
    "    player = players_without_duplicates[player_id]\n",
    "    team_url = player['League']\n",
    "    if team_url not in team_urls:\n",
    "        try:\n",
    "            team_urls[team_url] = get_team_info(team_url)\n",
    "        except:\n",
    "            bad_players.append(player)\n",
    "            continue\n",
    "        team_pages_read += 1\n",
    "        if team_pages_read % 10 == 0:\n",
    "            print(\"%d pages read\" % (team_pages_read))\n",
    "            \n",
    "len(bad_players)"
   ]
  },
  {
   "cell_type": "code",
   "execution_count": 11,
   "id": "86812785",
   "metadata": {},
   "outputs": [
    {
     "data": {
      "text/plain": [
       "0"
      ]
     },
     "execution_count": 11,
     "metadata": {},
     "output_type": "execute_result"
    }
   ],
   "source": [
    "# do a second pass on teams that got left out last time\n",
    "really_bad_players = []\n",
    "\n",
    "for player in bad_players:\n",
    "    team_url = player['League']\n",
    "    if team_url not in team_urls:\n",
    "        try:\n",
    "            team_urls[team_url] = get_team_info(team_url)\n",
    "        except:\n",
    "            really_bad_players.append(player)\n",
    "            continue\n",
    "        team_pages_read += 1\n",
    "        if team_pages_read % 10 == 0:\n",
    "            print(\"%d pages read\" % (team_pages_read))\n",
    "            \n",
    "len(really_bad_players)"
   ]
  },
  {
   "cell_type": "code",
   "execution_count": 12,
   "id": "9a95603d",
   "metadata": {},
   "outputs": [],
   "source": [
    "for player_id in players_without_duplicates:\n",
    "    league = players_without_duplicates[player_id]['League']\n",
    "    if league in team_urls:\n",
    "        players_without_duplicates[player_id]['League'] = team_urls[league]\n",
    "    else:\n",
    "        print(league)\n",
    "        players_without_duplicates[player_id]['League'] = 'Unknown'"
   ]
  },
  {
   "cell_type": "code",
   "execution_count": 13,
   "id": "e6bfe263-6323-43c3-ad91-401009153a21",
   "metadata": {},
   "outputs": [],
   "source": [
    "for p in list(players_without_duplicates.values()):\n",
    "    if type(p['Overall rating']) == str:\n",
    "        print(p)"
   ]
  },
  {
   "cell_type": "code",
   "execution_count": 14,
   "id": "848fbd51",
   "metadata": {},
   "outputs": [
    {
     "data": {
      "text/plain": [
       "{'Name': 'E. Haaland',\n",
       " 'Age': 22,\n",
       " 'Overall rating': 91,\n",
       " 'Team': 'Manchester City',\n",
       " 'ID': 239085,\n",
       " 'Height': '195cm',\n",
       " 'Preferred foot': 'Left',\n",
       " 'Position': 'ST',\n",
       " 'Value': '€185M',\n",
       " 'Wage': '€340K',\n",
       " 'Attacking': 78.6,\n",
       " 'Movement': 83.6,\n",
       " 'Defending': 38.0,\n",
       " 'Goalkeeping': 10.4,\n",
       " 'Nationality': 'Norway',\n",
       " 'League': 'Premier League (England)'}"
      ]
     },
     "execution_count": 14,
     "metadata": {},
     "output_type": "execute_result"
    }
   ],
   "source": [
    "# sort the players by decreasing order of their 'Overall rating'\n",
    "sorted_players = sorted(list(players_without_duplicates.values()), key=lambda player: (player['Overall rating'], player['ID']), reverse=True)\n",
    "sorted_players[0]"
   ]
  },
  {
   "cell_type": "code",
   "execution_count": 15,
   "id": "ef79456d",
   "metadata": {},
   "outputs": [
    {
     "data": {
      "text/plain": [
       "{'ID': 239085,\n",
       " 'Name': 'E. Haaland',\n",
       " 'Age': 22,\n",
       " 'Nationality': 'Norway',\n",
       " 'Team': 'Manchester City',\n",
       " 'League': 'Premier League (England)',\n",
       " 'Value': '€185M',\n",
       " 'Wage': '€340K',\n",
       " 'Attacking': 78.6,\n",
       " 'Movement': 83.6,\n",
       " 'Defending': 38.0,\n",
       " 'Goalkeeping': 10.4,\n",
       " 'Overall rating': 91,\n",
       " 'Position': 'ST',\n",
       " 'Height': '195cm',\n",
       " 'Preferred foot': 'Left'}"
      ]
     },
     "execution_count": 15,
     "metadata": {},
     "output_type": "execute_result"
    }
   ],
   "source": [
    "# change the order of the columns\n",
    "new_column_order = ['ID', 'Name', 'Age', 'Nationality', 'Team', 'League', 'Value', 'Wage', 'Attacking', 'Movement', 'Defending', 'Goalkeeping', 'Overall rating', 'Position', 'Height', 'Preferred foot']\n",
    "for idx in range(len(sorted_players)):\n",
    "    sorted_players[idx] = dict(sorted(sorted_players[idx].items(), key=lambda item: new_column_order.index(item[0])))\n",
    "    \n",
    "sorted_players[0]"
   ]
  },
  {
   "cell_type": "code",
   "execution_count": 19,
   "id": "c9e5d43f-356d-4d43-8eef-4a2bc99f86bb",
   "metadata": {},
   "outputs": [],
   "source": [
    "for i in range(len(sorted_players)):\n",
    "    sorted_players[i]['Name'] = sorted_players[i]['Name'].split(\"\\xa0\")[-1]"
   ]
  },
  {
   "cell_type": "code",
   "execution_count": 20,
   "id": "e6b8d644",
   "metadata": {},
   "outputs": [],
   "source": [
    "# write the data into the data file\n",
    "f = open('soccer_stars.csv', 'w', encoding='utf-8', newline='')\n",
    "writer = csv.DictWriter(f, sorted_players[0].keys())\n",
    "writer.writeheader()\n",
    "writer.writerows(sorted_players)\n",
    "f.close()"
   ]
  },
  {
   "cell_type": "code",
   "execution_count": 21,
   "id": "8a12fefe-f6e6-4516-afa4-9e1f6405ccb4",
   "metadata": {},
   "outputs": [],
   "source": [
    "# write the first 50 items into small data file\n",
    "f = open('small_soccer_stars.csv', 'w', encoding='utf-8', newline='')\n",
    "writer = csv.DictWriter(f, sorted_players[0].keys())\n",
    "writer.writeheader()\n",
    "writer.writerows(sorted_players[:50])\n",
    "f.close()"
   ]
  },
  {
   "cell_type": "code",
   "execution_count": null,
   "id": "4f7a2659-194b-4eb5-8d71-b4492854c2a7",
   "metadata": {},
   "outputs": [],
   "source": []
  }
 ],
 "metadata": {
  "kernelspec": {
   "display_name": "Python 3 (ipykernel)",
   "language": "python",
   "name": "python3"
  },
  "language_info": {
   "codemirror_mode": {
    "name": "ipython",
    "version": 3
   },
   "file_extension": ".py",
   "mimetype": "text/x-python",
   "name": "python",
   "nbconvert_exporter": "python",
   "pygments_lexer": "ipython3",
   "version": "3.11.4"
  }
 },
 "nbformat": 4,
 "nbformat_minor": 5
}
